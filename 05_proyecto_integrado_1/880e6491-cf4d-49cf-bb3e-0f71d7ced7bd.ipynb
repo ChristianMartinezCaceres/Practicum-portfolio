{
 "cells": [
  {
   "cell_type": "code",
   "execution_count": null,
   "metadata": {},
   "outputs": [],
   "source": []
  },
  {
   "attachments": {},
   "cell_type": "markdown",
   "metadata": {},
   "source": [
    "# Análisis de patrones de éxito para la industria de los videojuegos"
   ]
  },
  {
   "attachments": {},
   "cell_type": "markdown",
   "metadata": {},
   "source": [
    "# Contenido"
   ]
  },
  {
   "attachments": {},
   "cell_type": "markdown",
   "metadata": {},
   "source": [
    "* [Introducción](#)\n",
    "* [Objetivos](#)\n",
    "* [Etapas](#)\n",
    "* [Inicialización](#)\n",
    "* [Preprocesamiento de datos](#)\n",
    "* [Análisis exploratorio de datos](#)\n",
    "* [Pruebas de hipótesis](#)\n",
    "* [Conclusiones](#)"
   ]
  },
  {
   "attachments": {},
   "cell_type": "markdown",
   "metadata": {},
   "source": [
    "# Introducción"
   ]
  },
  {
   "attachments": {},
   "cell_type": "markdown",
   "metadata": {},
   "source": [
    "En esta oportunidad la tienda online dedicada a la venta de videojuegos *Ice* nos tiene por encargo analizar e indentificar patrones que determinen si un juego tiene éxito o no, para luego detectar proyectos prometedores y planificar campañas publicitarias al respecto. Para esto se nos proporciona una base de datos de hasta 2016, incluyendo reseñas de usuarios y expertos, géneros, plataformas, etc. Con el fin de lograr estos objetivos, haremos usos de las diversas técnicas de preprocesamiento, análisis exploratorio y estadístico de los datos, para así abordar de la forma más integral posible el proceso analítico.\n",
    "\n",
    "Las hipótesis estadísticas específicas serán presentadas en el siguiente apartado."
   ]
  },
  {
   "attachments": {},
   "cell_type": "markdown",
   "metadata": {},
   "source": [
    "# Objetivos"
   ]
  },
  {
   "attachments": {},
   "cell_type": "markdown",
   "metadata": {},
   "source": [
    "Tenemos, en particular, estas hipótesis específicas a probar:\n",
    "\n",
    "* Existe diferencia entre las calificaciones promedio de los usuarios para las plataformas Xbox One y PC.\n",
    "* Existe diferencia entre las calificaciones promedio de los usuarios para los géneros de Acción y Deportes.\n",
    "\n",
    "A estas hipótesis estadísticas complementamos con analítica general sobre las ventas, reseñas de usuarios, comportamiento del usuario, plataformas y regiones, para determinar los patrones y características de videojuegos exitosos."
   ]
  },
  {
   "attachments": {},
   "cell_type": "markdown",
   "metadata": {},
   "source": [
    "# Etapas de análisis"
   ]
  },
  {
   "attachments": {},
   "cell_type": "markdown",
   "metadata": {},
   "source": [
    "Para este proyecto, seguiremos el siguiente esquema básico para mantener el proceso ordenado:\n",
    "1. Descripción de datos\n",
    "2. Preprocesamientos de datos\n",
    "3. Análisis exploratorio de datos\n",
    "4. Prueba de hipótesis\n",
    "5. Conclusiones\n",
    "\n",
    "Debido a la asimetría de información, para garantizar un adecuado tratamiento y análisis de datos se usarán algunos supuestos razonables, cuya lógica será explicada y no debería deteriorar nuestras conclusiones."
   ]
  },
  {
   "attachments": {},
   "cell_type": "markdown",
   "metadata": {},
   "source": [
    "# Inicialización: descripción de datos"
   ]
  },
  {
   "attachments": {},
   "cell_type": "markdown",
   "metadata": {},
   "source": [
    "**Carga de librerías necesarias**"
   ]
  },
  {
   "cell_type": "code",
   "execution_count": 1,
   "metadata": {},
   "outputs": [],
   "source": [
    "import numpy as np\n",
    "import pandas as pd\n",
    "import matplotlib.pyplot as plt\n",
    "import seaborn as sns\n",
    "from scipy import stats as st\n",
    "# carga todas las librerías necesarias"
   ]
  },
  {
   "attachments": {},
   "cell_type": "markdown",
   "metadata": {},
   "source": [
    "## Cargar los datos"
   ]
  },
  {
   "cell_type": "code",
   "execution_count": 2,
   "metadata": {},
   "outputs": [],
   "source": [
    "try:\n",
    "    games = pd.read_csv(\"games.csv\")\n",
    "except:\n",
    "    games = pd.read_csv(\"/datasets/games.csv\")\n",
    "# carga del dataset"
   ]
  },
  {
   "attachments": {},
   "cell_type": "markdown",
   "metadata": {},
   "source": [
    "## Exploración inicial de datos"
   ]
  },
  {
   "attachments": {},
   "cell_type": "markdown",
   "metadata": {},
   "source": [
    "En este dataset, la información que se tiene dentro del dataset es la siguiente:\n",
    "\n",
    "* ``Name``: nombre de videojuego.\n",
    "* ``Platform``: nombre de la plataforma del juego.\n",
    "* ``Year_of_Release``: año de lanzamiento (del videojuego).\n",
    "* ``Genre``: género del videojuego.\n",
    "* ``NA_sales``: ventas en Norteamérica en millones de dólares estadounidenses.\n",
    "* ``EU_sales``: ventas en Europa en millones de dólares estadounidenses.\n",
    "* ``JP_sales``: ventas en Japón en millones de dólares estadounidenses.\n",
    "* ``Other_sales``: ventas en otros países en millones de dólares estadounidenses.\n",
    "* ``Critic_Score``: puntaje de la reseña profesional, máximo de 100.\n",
    "* ``User_Score``: puntaje de la reseña de los usuarios, máximo de 10.\n",
    "* ``Rating``: clasificación ESRB.\n",
    "\n",
    "Con esto en mente, obtendremos la información inicial del DataFrame:"
   ]
  },
  {
   "cell_type": "code",
   "execution_count": 3,
   "metadata": {},
   "outputs": [
    {
     "data": {
      "text/html": [
       "<div>\n",
       "<style scoped>\n",
       "    .dataframe tbody tr th:only-of-type {\n",
       "        vertical-align: middle;\n",
       "    }\n",
       "\n",
       "    .dataframe tbody tr th {\n",
       "        vertical-align: top;\n",
       "    }\n",
       "\n",
       "    .dataframe thead th {\n",
       "        text-align: right;\n",
       "    }\n",
       "</style>\n",
       "<table border=\"1\" class=\"dataframe\">\n",
       "  <thead>\n",
       "    <tr style=\"text-align: right;\">\n",
       "      <th></th>\n",
       "      <th>Year_of_Release</th>\n",
       "      <th>NA_sales</th>\n",
       "      <th>EU_sales</th>\n",
       "      <th>JP_sales</th>\n",
       "      <th>Other_sales</th>\n",
       "      <th>Critic_Score</th>\n",
       "    </tr>\n",
       "  </thead>\n",
       "  <tbody>\n",
       "    <tr>\n",
       "      <th>count</th>\n",
       "      <td>16446.000000</td>\n",
       "      <td>16715.000000</td>\n",
       "      <td>16715.000000</td>\n",
       "      <td>16715.000000</td>\n",
       "      <td>16715.000000</td>\n",
       "      <td>8137.000000</td>\n",
       "    </tr>\n",
       "    <tr>\n",
       "      <th>mean</th>\n",
       "      <td>2006.484616</td>\n",
       "      <td>0.263377</td>\n",
       "      <td>0.145060</td>\n",
       "      <td>0.077617</td>\n",
       "      <td>0.047342</td>\n",
       "      <td>68.967679</td>\n",
       "    </tr>\n",
       "    <tr>\n",
       "      <th>std</th>\n",
       "      <td>5.877050</td>\n",
       "      <td>0.813604</td>\n",
       "      <td>0.503339</td>\n",
       "      <td>0.308853</td>\n",
       "      <td>0.186731</td>\n",
       "      <td>13.938165</td>\n",
       "    </tr>\n",
       "    <tr>\n",
       "      <th>min</th>\n",
       "      <td>1980.000000</td>\n",
       "      <td>0.000000</td>\n",
       "      <td>0.000000</td>\n",
       "      <td>0.000000</td>\n",
       "      <td>0.000000</td>\n",
       "      <td>13.000000</td>\n",
       "    </tr>\n",
       "    <tr>\n",
       "      <th>25%</th>\n",
       "      <td>2003.000000</td>\n",
       "      <td>0.000000</td>\n",
       "      <td>0.000000</td>\n",
       "      <td>0.000000</td>\n",
       "      <td>0.000000</td>\n",
       "      <td>60.000000</td>\n",
       "    </tr>\n",
       "    <tr>\n",
       "      <th>50%</th>\n",
       "      <td>2007.000000</td>\n",
       "      <td>0.080000</td>\n",
       "      <td>0.020000</td>\n",
       "      <td>0.000000</td>\n",
       "      <td>0.010000</td>\n",
       "      <td>71.000000</td>\n",
       "    </tr>\n",
       "    <tr>\n",
       "      <th>75%</th>\n",
       "      <td>2010.000000</td>\n",
       "      <td>0.240000</td>\n",
       "      <td>0.110000</td>\n",
       "      <td>0.040000</td>\n",
       "      <td>0.030000</td>\n",
       "      <td>79.000000</td>\n",
       "    </tr>\n",
       "    <tr>\n",
       "      <th>max</th>\n",
       "      <td>2016.000000</td>\n",
       "      <td>41.360000</td>\n",
       "      <td>28.960000</td>\n",
       "      <td>10.220000</td>\n",
       "      <td>10.570000</td>\n",
       "      <td>98.000000</td>\n",
       "    </tr>\n",
       "  </tbody>\n",
       "</table>\n",
       "</div>"
      ],
      "text/plain": [
       "       Year_of_Release      NA_sales      EU_sales      JP_sales  \\\n",
       "count     16446.000000  16715.000000  16715.000000  16715.000000   \n",
       "mean       2006.484616      0.263377      0.145060      0.077617   \n",
       "std           5.877050      0.813604      0.503339      0.308853   \n",
       "min        1980.000000      0.000000      0.000000      0.000000   \n",
       "25%        2003.000000      0.000000      0.000000      0.000000   \n",
       "50%        2007.000000      0.080000      0.020000      0.000000   \n",
       "75%        2010.000000      0.240000      0.110000      0.040000   \n",
       "max        2016.000000     41.360000     28.960000     10.220000   \n",
       "\n",
       "        Other_sales  Critic_Score  \n",
       "count  16715.000000   8137.000000  \n",
       "mean       0.047342     68.967679  \n",
       "std        0.186731     13.938165  \n",
       "min        0.000000     13.000000  \n",
       "25%        0.000000     60.000000  \n",
       "50%        0.010000     71.000000  \n",
       "75%        0.030000     79.000000  \n",
       "max       10.570000     98.000000  "
      ]
     },
     "execution_count": 3,
     "metadata": {},
     "output_type": "execute_result"
    }
   ],
   "source": [
    "games.describe()"
   ]
  },
  {
   "cell_type": "code",
   "execution_count": 4,
   "metadata": {},
   "outputs": [
    {
     "data": {
      "text/html": [
       "<div>\n",
       "<style scoped>\n",
       "    .dataframe tbody tr th:only-of-type {\n",
       "        vertical-align: middle;\n",
       "    }\n",
       "\n",
       "    .dataframe tbody tr th {\n",
       "        vertical-align: top;\n",
       "    }\n",
       "\n",
       "    .dataframe thead th {\n",
       "        text-align: right;\n",
       "    }\n",
       "</style>\n",
       "<table border=\"1\" class=\"dataframe\">\n",
       "  <thead>\n",
       "    <tr style=\"text-align: right;\">\n",
       "      <th></th>\n",
       "      <th>Name</th>\n",
       "      <th>Platform</th>\n",
       "      <th>Year_of_Release</th>\n",
       "      <th>Genre</th>\n",
       "      <th>NA_sales</th>\n",
       "      <th>EU_sales</th>\n",
       "      <th>JP_sales</th>\n",
       "      <th>Other_sales</th>\n",
       "      <th>Critic_Score</th>\n",
       "      <th>User_Score</th>\n",
       "      <th>Rating</th>\n",
       "    </tr>\n",
       "  </thead>\n",
       "  <tbody>\n",
       "    <tr>\n",
       "      <th>0</th>\n",
       "      <td>Wii Sports</td>\n",
       "      <td>Wii</td>\n",
       "      <td>2006.0</td>\n",
       "      <td>Sports</td>\n",
       "      <td>41.36</td>\n",
       "      <td>28.96</td>\n",
       "      <td>3.77</td>\n",
       "      <td>8.45</td>\n",
       "      <td>76.0</td>\n",
       "      <td>8</td>\n",
       "      <td>E</td>\n",
       "    </tr>\n",
       "    <tr>\n",
       "      <th>1</th>\n",
       "      <td>Super Mario Bros.</td>\n",
       "      <td>NES</td>\n",
       "      <td>1985.0</td>\n",
       "      <td>Platform</td>\n",
       "      <td>29.08</td>\n",
       "      <td>3.58</td>\n",
       "      <td>6.81</td>\n",
       "      <td>0.77</td>\n",
       "      <td>NaN</td>\n",
       "      <td>NaN</td>\n",
       "      <td>NaN</td>\n",
       "    </tr>\n",
       "    <tr>\n",
       "      <th>2</th>\n",
       "      <td>Mario Kart Wii</td>\n",
       "      <td>Wii</td>\n",
       "      <td>2008.0</td>\n",
       "      <td>Racing</td>\n",
       "      <td>15.68</td>\n",
       "      <td>12.76</td>\n",
       "      <td>3.79</td>\n",
       "      <td>3.29</td>\n",
       "      <td>82.0</td>\n",
       "      <td>8.3</td>\n",
       "      <td>E</td>\n",
       "    </tr>\n",
       "    <tr>\n",
       "      <th>3</th>\n",
       "      <td>Wii Sports Resort</td>\n",
       "      <td>Wii</td>\n",
       "      <td>2009.0</td>\n",
       "      <td>Sports</td>\n",
       "      <td>15.61</td>\n",
       "      <td>10.93</td>\n",
       "      <td>3.28</td>\n",
       "      <td>2.95</td>\n",
       "      <td>80.0</td>\n",
       "      <td>8</td>\n",
       "      <td>E</td>\n",
       "    </tr>\n",
       "    <tr>\n",
       "      <th>4</th>\n",
       "      <td>Pokemon Red/Pokemon Blue</td>\n",
       "      <td>GB</td>\n",
       "      <td>1996.0</td>\n",
       "      <td>Role-Playing</td>\n",
       "      <td>11.27</td>\n",
       "      <td>8.89</td>\n",
       "      <td>10.22</td>\n",
       "      <td>1.00</td>\n",
       "      <td>NaN</td>\n",
       "      <td>NaN</td>\n",
       "      <td>NaN</td>\n",
       "    </tr>\n",
       "    <tr>\n",
       "      <th>5</th>\n",
       "      <td>Tetris</td>\n",
       "      <td>GB</td>\n",
       "      <td>1989.0</td>\n",
       "      <td>Puzzle</td>\n",
       "      <td>23.20</td>\n",
       "      <td>2.26</td>\n",
       "      <td>4.22</td>\n",
       "      <td>0.58</td>\n",
       "      <td>NaN</td>\n",
       "      <td>NaN</td>\n",
       "      <td>NaN</td>\n",
       "    </tr>\n",
       "    <tr>\n",
       "      <th>6</th>\n",
       "      <td>New Super Mario Bros.</td>\n",
       "      <td>DS</td>\n",
       "      <td>2006.0</td>\n",
       "      <td>Platform</td>\n",
       "      <td>11.28</td>\n",
       "      <td>9.14</td>\n",
       "      <td>6.50</td>\n",
       "      <td>2.88</td>\n",
       "      <td>89.0</td>\n",
       "      <td>8.5</td>\n",
       "      <td>E</td>\n",
       "    </tr>\n",
       "    <tr>\n",
       "      <th>7</th>\n",
       "      <td>Wii Play</td>\n",
       "      <td>Wii</td>\n",
       "      <td>2006.0</td>\n",
       "      <td>Misc</td>\n",
       "      <td>13.96</td>\n",
       "      <td>9.18</td>\n",
       "      <td>2.93</td>\n",
       "      <td>2.84</td>\n",
       "      <td>58.0</td>\n",
       "      <td>6.6</td>\n",
       "      <td>E</td>\n",
       "    </tr>\n",
       "    <tr>\n",
       "      <th>8</th>\n",
       "      <td>New Super Mario Bros. Wii</td>\n",
       "      <td>Wii</td>\n",
       "      <td>2009.0</td>\n",
       "      <td>Platform</td>\n",
       "      <td>14.44</td>\n",
       "      <td>6.94</td>\n",
       "      <td>4.70</td>\n",
       "      <td>2.24</td>\n",
       "      <td>87.0</td>\n",
       "      <td>8.4</td>\n",
       "      <td>E</td>\n",
       "    </tr>\n",
       "    <tr>\n",
       "      <th>9</th>\n",
       "      <td>Duck Hunt</td>\n",
       "      <td>NES</td>\n",
       "      <td>1984.0</td>\n",
       "      <td>Shooter</td>\n",
       "      <td>26.93</td>\n",
       "      <td>0.63</td>\n",
       "      <td>0.28</td>\n",
       "      <td>0.47</td>\n",
       "      <td>NaN</td>\n",
       "      <td>NaN</td>\n",
       "      <td>NaN</td>\n",
       "    </tr>\n",
       "  </tbody>\n",
       "</table>\n",
       "</div>"
      ],
      "text/plain": [
       "                        Name Platform  Year_of_Release         Genre  \\\n",
       "0                 Wii Sports      Wii           2006.0        Sports   \n",
       "1          Super Mario Bros.      NES           1985.0      Platform   \n",
       "2             Mario Kart Wii      Wii           2008.0        Racing   \n",
       "3          Wii Sports Resort      Wii           2009.0        Sports   \n",
       "4   Pokemon Red/Pokemon Blue       GB           1996.0  Role-Playing   \n",
       "5                     Tetris       GB           1989.0        Puzzle   \n",
       "6      New Super Mario Bros.       DS           2006.0      Platform   \n",
       "7                   Wii Play      Wii           2006.0          Misc   \n",
       "8  New Super Mario Bros. Wii      Wii           2009.0      Platform   \n",
       "9                  Duck Hunt      NES           1984.0       Shooter   \n",
       "\n",
       "   NA_sales  EU_sales  JP_sales  Other_sales  Critic_Score User_Score Rating  \n",
       "0     41.36     28.96      3.77         8.45          76.0          8      E  \n",
       "1     29.08      3.58      6.81         0.77           NaN        NaN    NaN  \n",
       "2     15.68     12.76      3.79         3.29          82.0        8.3      E  \n",
       "3     15.61     10.93      3.28         2.95          80.0          8      E  \n",
       "4     11.27      8.89     10.22         1.00           NaN        NaN    NaN  \n",
       "5     23.20      2.26      4.22         0.58           NaN        NaN    NaN  \n",
       "6     11.28      9.14      6.50         2.88          89.0        8.5      E  \n",
       "7     13.96      9.18      2.93         2.84          58.0        6.6      E  \n",
       "8     14.44      6.94      4.70         2.24          87.0        8.4      E  \n",
       "9     26.93      0.63      0.28         0.47           NaN        NaN    NaN  "
      ]
     },
     "execution_count": 4,
     "metadata": {},
     "output_type": "execute_result"
    }
   ],
   "source": [
    "games.head(10)"
   ]
  },
  {
   "cell_type": "code",
   "execution_count": 5,
   "metadata": {},
   "outputs": [
    {
     "name": "stdout",
     "output_type": "stream",
     "text": [
      "<class 'pandas.core.frame.DataFrame'>\n",
      "RangeIndex: 16715 entries, 0 to 16714\n",
      "Data columns (total 11 columns):\n",
      " #   Column           Non-Null Count  Dtype  \n",
      "---  ------           --------------  -----  \n",
      " 0   Name             16713 non-null  object \n",
      " 1   Platform         16715 non-null  object \n",
      " 2   Year_of_Release  16446 non-null  float64\n",
      " 3   Genre            16713 non-null  object \n",
      " 4   NA_sales         16715 non-null  float64\n",
      " 5   EU_sales         16715 non-null  float64\n",
      " 6   JP_sales         16715 non-null  float64\n",
      " 7   Other_sales      16715 non-null  float64\n",
      " 8   Critic_Score     8137 non-null   float64\n",
      " 9   User_Score       10014 non-null  object \n",
      " 10  Rating           9949 non-null   object \n",
      "dtypes: float64(6), object(5)\n",
      "memory usage: 1.4+ MB\n"
     ]
    }
   ],
   "source": [
    "games.info()"
   ]
  },
  {
   "attachments": {},
   "cell_type": "markdown",
   "metadata": {},
   "source": [
    "Como primera observación, todas las columnas tienen nombres que incluyen mayúsculas, detalle que no es recomendable. Ahora detallaremos los hallazgos por columnas:\n",
    "\n",
    "* ``Name`` presenta sus valores con mayúsculas y minúsculas, además de tener dos valores ausentes.\n",
    "* ``Platform`` también presenta valores con mayúsculas y minúsculas.\n",
    "* ``Year_of_Release`` está registrado como tipo flotante (incorrectamente) y tiene algunos valores ausentes.\n",
    "* ``Genre`` tiene valores en mayúsculas y dos valores ausentes.\n",
    "* ``NA_sales``, ``EU_sales``, ``JP_sales`` y ``Other_sales`` no parecen tener problemas explícitos.\n",
    "* ``Critic_Score`` presenta un gran porcentaje de valores ausentes.\n",
    "* ``User_Score`` tiene valores ausentes, aunque en menor proporción que la columna anterior y está registrado como tipo objeto, lo cual resulta extraño teniendo en cuenta que es una variable numérica. De hecho, no se mostró su distribución al usar el método \"describe\" de pandas. \n",
    "* ``Rating`` también presenta una relativa gran cantidad de valores ausentes, así como sus valores en mayúsculas.\n",
    "\n",
    "Dados estos resultados, daremos un repaso a los valores únicos de las columnas categóricas como paso a continuación:"
   ]
  },
  {
   "cell_type": "code",
   "execution_count": 6,
   "metadata": {},
   "outputs": [
    {
     "name": "stdout",
     "output_type": "stream",
     "text": [
      "Valores únicos de la columna 'Name':\n",
      "['Wii Sports' 'Super Mario Bros.' 'Mario Kart Wii' ...\n",
      " 'Woody Woodpecker in Crazy Castle 5' 'LMA Manager 2007'\n",
      " 'Haitaka no Psychedelica']\n",
      "Total: 11560\n",
      "\n",
      "Valores únicos de la columna 'Platform':\n",
      "['Wii' 'NES' 'GB' 'DS' 'X360' 'PS3' 'PS2' 'SNES' 'GBA' 'PS4' '3DS' 'N64'\n",
      " 'PS' 'XB' 'PC' '2600' 'PSP' 'XOne' 'WiiU' 'GC' 'GEN' 'DC' 'PSV' 'SAT'\n",
      " 'SCD' 'WS' 'NG' 'TG16' '3DO' 'GG' 'PCFX']\n",
      "Total: 31\n",
      "\n",
      "Valores únicos de la columna 'Genre':\n",
      "['Sports' 'Platform' 'Racing' 'Role-Playing' 'Puzzle' 'Misc' 'Shooter'\n",
      " 'Simulation' 'Action' 'Fighting' 'Adventure' 'Strategy' nan]\n",
      "Total: 13\n",
      "\n",
      "Valores únicos de la columna 'Rating':\n",
      "['E' nan 'M' 'T' 'E10+' 'K-A' 'AO' 'EC' 'RP']\n",
      "Total: 9\n",
      "\n"
     ]
    }
   ],
   "source": [
    "games_categ = games[['Name', 'Platform', 'Genre', 'Rating']]\n",
    "for column in games_categ:\n",
    "    try:\n",
    "        print(f\"Valores únicos de la columna '{column}':\") # muestra el nombre\n",
    "        print(games_categ[column].unique()) # valores únicos de cada columna\n",
    "        print(f\"Total: {len(games_categ[column].unique())}\")\n",
    "        print()\n",
    "    except:\n",
    "        print(\"Error al mostrar valores únicos de games_categ\")"
   ]
  },
  {
   "attachments": {},
   "cell_type": "markdown",
   "metadata": {},
   "source": [
    "Tal como ya habíamos notado, todas las columnas presentan valores con uso de mayúsculas, así como algunas con valores ausentes. Fuera de esto, destacamos lo siguiente:\n",
    "* Tenemos 11560 juegos distintos, en teoría, ya que se tiene en cuenta a los valores ausentes.\n",
    "* Tenemos 31 plataformas de juego en los registros históricos.\n",
    "* Tenemos 12 tipos o géneros de juegos; incluyendo los ausentes son 13 valores únicos.\n",
    "* La clasificación se resume en 8 tipos; teniendo 9 valores únicos al considerar los ausentes.\n",
    "\n",
    "Debido a nuestro proceso de análisis, debemos describir la clasificación ESRB y entender qué significa cada categoría o nomenclatura dada, la cual es la siguiente:\n",
    "\n",
    "*  ``RP``: (Rating Pending) indica que el respectivo juego aún no tiene una calificación asignada por ESRB.\n",
    "* ``E``: (Everyone) indica contenido apto para todas las edades.\n",
    "* ``K-A``: (Kids to Adults) indica contenido apto para todas las edades, utilizado hasta 1998 y reemplazado por ``E``.\n",
    "* ``E10+``: (Everyone 10+) indica contenido apto para mayores de 10 años.\n",
    "* ``T``: (Teen) indica contenido apto para mayores de 13 años.\n",
    "* ``M``: (Mature) indica contenido apto para edades de 17 a más.\n",
    "* ``AO``: (Adults Only) indica contenido solo indicado a mayores de 18 años.\n",
    "* ``EC``: (Early Childhood) indicaba contenido para audiencia preescolar, retirado en 2018.\n",
    "\n",
    "Para analizar la distribución de estas columnas, haremos llamado del método \"value_counts\":"
   ]
  },
  {
   "cell_type": "code",
   "execution_count": 7,
   "metadata": {},
   "outputs": [
    {
     "name": "stdout",
     "output_type": "stream",
     "text": [
      "Distribución de valores de la columna 'Name':\n",
      "Need for Speed: Most Wanted                         0.000718\n",
      "Madden NFL 07                                       0.000538\n",
      "FIFA 14                                             0.000538\n",
      "Ratatouille                                         0.000538\n",
      "LEGO Marvel Super Heroes                            0.000538\n",
      "                                                      ...   \n",
      "Jewels of the Tropical Lost Island                  0.000060\n",
      "Sherlock Holmes and the Mystery of Osborne House    0.000060\n",
      "The King of Fighters '95 (CD)                       0.000060\n",
      "Megamind: Mega Team Unite                           0.000060\n",
      "Haitaka no Psychedelica                             0.000060\n",
      "Name: Name, Length: 11560, dtype: float64\n",
      "\n",
      "Distribución de valores de la columna 'Platform':\n",
      "PS2     0.129285\n",
      "DS      0.128687\n",
      "PS3     0.079629\n",
      "Wii     0.078971\n",
      "X360    0.075501\n",
      "PSP     0.072330\n",
      "PS      0.071612\n",
      "PC      0.058271\n",
      "XB      0.049297\n",
      "GBA     0.049177\n",
      "GC      0.033264\n",
      "3DS     0.031110\n",
      "PSV     0.025725\n",
      "PS4     0.023452\n",
      "N64     0.019085\n",
      "XOne    0.014777\n",
      "SNES    0.014299\n",
      "SAT     0.010350\n",
      "WiiU    0.008794\n",
      "2600    0.007957\n",
      "NES     0.005863\n",
      "GB      0.005863\n",
      "DC      0.003111\n",
      "GEN     0.001735\n",
      "NG      0.000718\n",
      "SCD     0.000359\n",
      "WS      0.000359\n",
      "3DO     0.000179\n",
      "TG16    0.000120\n",
      "GG      0.000060\n",
      "PCFX    0.000060\n",
      "Name: Platform, dtype: float64\n",
      "\n",
      "Distribución de valores de la columna 'Genre':\n",
      "Action          0.201555\n",
      "Sports          0.140473\n",
      "Misc            0.104696\n",
      "Role-Playing    0.089620\n",
      "Shooter         0.079150\n",
      "Adventure       0.077954\n",
      "Racing          0.074723\n",
      "Platform        0.053126\n",
      "Simulation      0.052229\n",
      "Fighting        0.050793\n",
      "Strategy        0.040862\n",
      "Puzzle          0.034699\n",
      "NaN             0.000120\n",
      "Name: Genre, dtype: float64\n",
      "\n",
      "Distribución de valores de la columna 'Rating':\n",
      "NaN     0.404786\n",
      "E       0.238708\n",
      "T       0.177146\n",
      "M       0.093509\n",
      "E10+    0.084954\n",
      "EC      0.000479\n",
      "K-A     0.000179\n",
      "RP      0.000179\n",
      "AO      0.000060\n",
      "Name: Rating, dtype: float64\n",
      "\n"
     ]
    }
   ],
   "source": [
    "for column in games_categ:\n",
    "    try:\n",
    "        print(f\"Distribución de valores de la columna '{column}':\")\n",
    "        print(games_categ[column].value_counts(dropna=False, normalize=True))\n",
    "        print()\n",
    "    except:\n",
    "        print(\"Error al mostrar la distribución de columnas categóricas\")"
   ]
  },
  {
   "attachments": {},
   "cell_type": "markdown",
   "metadata": {},
   "source": [
    "De las distribuciones destacamos la gran relevancia para juegos en plataformas de PS2 y Nintendo DS, ambas con más del 12 % de cuota cada una, relativamente alta respecto a las demás plataformas. En ``Genre``, el género más frecuente es el de \"action\". Para el caso de ``Rating``, los valores ausentes representan más del 40 % de los valores de la columna. Este caso merece especial atención en el preprocesamiento de datos. No parecen existir más problemas por ahora en nuestro DataFrame.\n",
    "\n",
    "Dado que el análisis de variables numéricas y categóricas está realizado, ahora exploraremos un poco más de los valores ausentes."
   ]
  },
  {
   "attachments": {},
   "cell_type": "markdown",
   "metadata": {},
   "source": [
    "## Exploración de los valores ausentes"
   ]
  },
  {
   "attachments": {},
   "cell_type": "markdown",
   "metadata": {},
   "source": [
    "Lo primero será realizar un conteo de los valores ausentes por columnas en términos porcentuales y determinar el porcentaje de valores ausentes para cada columna:"
   ]
  },
  {
   "cell_type": "code",
   "execution_count": 8,
   "metadata": {},
   "outputs": [
    {
     "data": {
      "text/plain": [
       "Name                0.011965\n",
       "Platform            0.000000\n",
       "Year_of_Release     1.609333\n",
       "Genre               0.011965\n",
       "NA_sales            0.000000\n",
       "EU_sales            0.000000\n",
       "JP_sales            0.000000\n",
       "Other_sales         0.000000\n",
       "Critic_Score       51.319174\n",
       "User_Score         40.089740\n",
       "Rating             40.478612\n",
       "dtype: float64"
      ]
     },
     "execution_count": 8,
     "metadata": {},
     "output_type": "execute_result"
    }
   ],
   "source": [
    "(games.isna().sum()/len(games))*100"
   ]
  },
  {
   "attachments": {},
   "cell_type": "markdown",
   "metadata": {},
   "source": [
    "Las columnas ``Name`` y ``Genre`` tienen el mismo porcentaje de valores ausentes debido a que, como recordamos, tienen dos valores ausentes cada una. ``Year_of_Release`` presenta un 1.6 % de valores ausentes. Los casos más críticos que requieren tratamiento son ``Critic_Score`` (51.3 %), ``User_Score`` (40.01 %) y ``Rating`` (40.48 %), porque parte de nuestro análisis requerirá tomar en cuenta las reseñas y clasificación. \n",
    "\n",
    "Para analizar si los valores ausentes de algunas de estas últimas cuatro columnas tienen relación con alguna otra columna de nuestro DataFrame, mostraremos las distribuciones del dataset completo y las distribuciones sin valores ausentes de cada columna, de la manera siguiente:"
   ]
  },
  {
   "cell_type": "code",
   "execution_count": 9,
   "metadata": {},
   "outputs": [
    {
     "name": "stdout",
     "output_type": "stream",
     "text": [
      "Need for Speed: Most Wanted                         0.000718\n",
      "Madden NFL 07                                       0.000538\n",
      "FIFA 14                                             0.000538\n",
      "Ratatouille                                         0.000538\n",
      "LEGO Marvel Super Heroes                            0.000538\n",
      "                                                      ...   \n",
      "Jewels of the Tropical Lost Island                  0.000060\n",
      "Sherlock Holmes and the Mystery of Osborne House    0.000060\n",
      "The King of Fighters '95 (CD)                       0.000060\n",
      "Megamind: Mega Team Unite                           0.000060\n",
      "Haitaka no Psychedelica                             0.000060\n",
      "Name: Name, Length: 11560, dtype: float64\n",
      "\n",
      "PS2     0.129285\n",
      "DS      0.128687\n",
      "PS3     0.079629\n",
      "Wii     0.078971\n",
      "X360    0.075501\n",
      "PSP     0.072330\n",
      "PS      0.071612\n",
      "PC      0.058271\n",
      "XB      0.049297\n",
      "GBA     0.049177\n",
      "GC      0.033264\n",
      "3DS     0.031110\n",
      "PSV     0.025725\n",
      "PS4     0.023452\n",
      "N64     0.019085\n",
      "XOne    0.014777\n",
      "SNES    0.014299\n",
      "SAT     0.010350\n",
      "WiiU    0.008794\n",
      "2600    0.007957\n",
      "NES     0.005863\n",
      "GB      0.005863\n",
      "DC      0.003111\n",
      "GEN     0.001735\n",
      "NG      0.000718\n",
      "SCD     0.000359\n",
      "WS      0.000359\n",
      "3DO     0.000179\n",
      "TG16    0.000120\n",
      "GG      0.000060\n",
      "PCFX    0.000060\n",
      "Name: Platform, dtype: float64\n",
      "\n",
      "2008.0    0.085372\n",
      "2009.0    0.085313\n",
      "2010.0    0.075082\n",
      "2007.0    0.071612\n",
      "2011.0    0.067963\n",
      "2006.0    0.060185\n",
      "2005.0    0.056177\n",
      "2002.0    0.049596\n",
      "2003.0    0.046366\n",
      "2004.0    0.045588\n",
      "2012.0    0.039067\n",
      "2015.0    0.036255\n",
      "2014.0    0.034759\n",
      "2013.0    0.032546\n",
      "2016.0    0.030033\n",
      "2001.0    0.028836\n",
      "1998.0    0.022674\n",
      "2000.0    0.020939\n",
      "1999.0    0.020221\n",
      "1997.0    0.017290\n",
      "NaN       0.016093\n",
      "1996.0    0.015734\n",
      "1995.0    0.013102\n",
      "1994.0    0.007239\n",
      "1993.0    0.003709\n",
      "1981.0    0.002752\n",
      "1992.0    0.002573\n",
      "1991.0    0.002453\n",
      "1982.0    0.002154\n",
      "1986.0    0.001256\n",
      "1989.0    0.001017\n",
      "1983.0    0.001017\n",
      "1990.0    0.000957\n",
      "1987.0    0.000957\n",
      "1988.0    0.000897\n",
      "1985.0    0.000838\n",
      "1984.0    0.000838\n",
      "1980.0    0.000538\n",
      "Name: Year_of_Release, dtype: float64\n",
      "\n",
      "Action          0.201555\n",
      "Sports          0.140473\n",
      "Misc            0.104696\n",
      "Role-Playing    0.089620\n",
      "Shooter         0.079150\n",
      "Adventure       0.077954\n",
      "Racing          0.074723\n",
      "Platform        0.053126\n",
      "Simulation      0.052229\n",
      "Fighting        0.050793\n",
      "Strategy        0.040862\n",
      "Puzzle          0.034699\n",
      "NaN             0.000120\n",
      "Name: Genre, dtype: float64\n",
      "\n",
      "0.00     0.269698\n",
      "0.02     0.034460\n",
      "0.03     0.033563\n",
      "0.04     0.032845\n",
      "0.01     0.032605\n",
      "           ...   \n",
      "3.68     0.000060\n",
      "2.98     0.000060\n",
      "2.61     0.000060\n",
      "3.04     0.000060\n",
      "41.36    0.000060\n",
      "Name: NA_sales, Length: 402, dtype: float64\n",
      "\n",
      "0.00     0.351182\n",
      "0.01     0.089381\n",
      "0.02     0.078253\n",
      "0.03     0.055399\n",
      "0.04     0.042417\n",
      "           ...   \n",
      "1.87     0.000060\n",
      "1.75     0.000060\n",
      "1.44     0.000060\n",
      "1.60     0.000060\n",
      "28.96    0.000060\n",
      "Name: EU_sales, Length: 307, dtype: float64\n",
      "\n",
      "0.00    0.629016\n",
      "0.02    0.044331\n",
      "0.01    0.042238\n",
      "0.03    0.032665\n",
      "0.04    0.023751\n",
      "          ...   \n",
      "3.14    0.000060\n",
      "2.73    0.000060\n",
      "3.18    0.000060\n",
      "3.63    0.000060\n",
      "0.97    0.000060\n",
      "Name: JP_sales, Length: 244, dtype: float64\n",
      "\n",
      "0.00    0.394915\n",
      "0.01    0.207239\n",
      "0.02    0.096799\n",
      "0.03    0.055399\n",
      "0.04    0.039127\n",
      "          ...   \n",
      "2.11    0.000060\n",
      "7.53    0.000060\n",
      "1.21    0.000060\n",
      "1.79    0.000060\n",
      "0.93    0.000060\n",
      "Name: Other_sales, Length: 155, dtype: float64\n",
      "\n",
      "NaN     0.513192\n",
      "70.0    0.015316\n",
      "71.0    0.015196\n",
      "75.0    0.014657\n",
      "78.0    0.014358\n",
      "          ...   \n",
      "20.0    0.000179\n",
      "21.0    0.000060\n",
      "17.0    0.000060\n",
      "22.0    0.000060\n",
      "13.0    0.000060\n",
      "Name: Critic_Score, Length: 83, dtype: float64\n",
      "\n",
      "NaN    0.400897\n",
      "tbd    0.145019\n",
      "7.8    0.019384\n",
      "8      0.017350\n",
      "8.2    0.016871\n",
      "         ...   \n",
      "1.1    0.000120\n",
      "1.9    0.000120\n",
      "9.6    0.000120\n",
      "0      0.000060\n",
      "9.7    0.000060\n",
      "Name: User_Score, Length: 97, dtype: float64\n",
      "\n",
      "NaN     0.404786\n",
      "E       0.238708\n",
      "T       0.177146\n",
      "M       0.093509\n",
      "E10+    0.084954\n",
      "EC      0.000479\n",
      "K-A     0.000179\n",
      "RP      0.000179\n",
      "AO      0.000060\n",
      "Name: Rating, dtype: float64\n",
      "\n"
     ]
    }
   ],
   "source": [
    "for column in games:\n",
    "    print(games[column].value_counts(dropna=False, normalize=True))\n",
    "    print()"
   ]
  },
  {
   "attachments": {},
   "cell_type": "markdown",
   "metadata": {},
   "source": [
    "Ahora analizaremos (sin) los valores ausentes de ``Year_of_Release``:"
   ]
  },
  {
   "cell_type": "code",
   "execution_count": 10,
   "metadata": {},
   "outputs": [
    {
     "name": "stdout",
     "output_type": "stream",
     "text": [
      "Need for Speed: Most Wanted               0.000730\n",
      "Ratatouille                               0.000547\n",
      "FIFA 14                                   0.000547\n",
      "LEGO Marvel Super Heroes                  0.000547\n",
      "FIFA 15                                   0.000486\n",
      "                                            ...   \n",
      "Let's Make a Soccer Team!                 0.000061\n",
      "Loving Life with Hello Kitty & Friends    0.000061\n",
      "Scrabble (Others sales)                   0.000061\n",
      "Viva Pinata: Party Animals                0.000061\n",
      "Haitaka no Psychedelica                   0.000061\n",
      "Name: Name, Length: 11427, dtype: float64\n",
      "\n",
      "PS2     0.129332\n",
      "DS      0.128968\n",
      "PS3     0.079411\n",
      "Wii     0.078195\n",
      "X360    0.074912\n",
      "PSP     0.072540\n",
      "PS      0.072358\n",
      "PC      0.058190\n",
      "GBA     0.049313\n",
      "XB      0.048826\n",
      "GC      0.032956\n",
      "3DS     0.031132\n",
      "PSV     0.026085\n",
      "PS4     0.023836\n",
      "N64     0.019214\n",
      "XOne    0.015019\n",
      "SNES    0.014532\n",
      "SAT     0.010519\n",
      "WiiU    0.008938\n",
      "2600    0.007053\n",
      "NES     0.005959\n",
      "GB      0.005898\n",
      "DC      0.003162\n",
      "GEN     0.001763\n",
      "NG      0.000730\n",
      "SCD     0.000365\n",
      "WS      0.000365\n",
      "3DO     0.000182\n",
      "TG16    0.000122\n",
      "GG      0.000061\n",
      "PCFX    0.000061\n",
      "Name: Platform, dtype: float64\n",
      "\n",
      "2008.0    0.086769\n",
      "2009.0    0.086708\n",
      "2010.0    0.076310\n",
      "2007.0    0.072784\n",
      "2011.0    0.069075\n",
      "2006.0    0.061170\n",
      "2005.0    0.057096\n",
      "2002.0    0.050407\n",
      "2003.0    0.047124\n",
      "2004.0    0.046333\n",
      "2012.0    0.039706\n",
      "2015.0    0.036848\n",
      "2014.0    0.035328\n",
      "2013.0    0.033078\n",
      "2016.0    0.030524\n",
      "2001.0    0.029308\n",
      "1998.0    0.023045\n",
      "2000.0    0.021282\n",
      "1999.0    0.020552\n",
      "1997.0    0.017573\n",
      "1996.0    0.015992\n",
      "1995.0    0.013316\n",
      "1994.0    0.007357\n",
      "1993.0    0.003770\n",
      "1981.0    0.002797\n",
      "1992.0    0.002615\n",
      "1991.0    0.002493\n",
      "1982.0    0.002189\n",
      "1986.0    0.001277\n",
      "1989.0    0.001034\n",
      "1983.0    0.001034\n",
      "1990.0    0.000973\n",
      "1987.0    0.000973\n",
      "1988.0    0.000912\n",
      "1985.0    0.000851\n",
      "1984.0    0.000851\n",
      "1980.0    0.000547\n",
      "Name: Year_of_Release, dtype: float64\n",
      "\n",
      "Action          0.201082\n",
      "Sports          0.140216\n",
      "Misc            0.104646\n",
      "Role-Playing    0.090052\n",
      "Shooter         0.078803\n",
      "Adventure       0.078621\n",
      "Racing          0.074547\n",
      "Platform        0.053387\n",
      "Simulation      0.052110\n",
      "Fighting        0.050894\n",
      "Strategy        0.040922\n",
      "Puzzle          0.034598\n",
      "NaN             0.000122\n",
      "Name: Genre, dtype: float64\n",
      "\n",
      "0.00     0.270583\n",
      "0.02     0.034172\n",
      "0.03     0.033686\n",
      "0.04     0.033017\n",
      "0.05     0.032592\n",
      "           ...   \n",
      "5.39     0.000061\n",
      "3.03     0.000061\n",
      "3.56     0.000061\n",
      "2.82     0.000061\n",
      "41.36    0.000061\n",
      "Name: NA_sales, Length: 401, dtype: float64\n",
      "\n",
      "0.00     0.350663\n",
      "0.01     0.089201\n",
      "0.02     0.078439\n",
      "0.03     0.055393\n",
      "0.04     0.042685\n",
      "           ...   \n",
      "1.52     0.000061\n",
      "5.75     0.000061\n",
      "2.17     0.000061\n",
      "2.78     0.000061\n",
      "28.96    0.000061\n",
      "Name: EU_sales, Length: 307, dtype: float64\n",
      "\n",
      "0.00    0.626353\n",
      "0.02    0.044570\n",
      "0.01    0.042381\n",
      "0.03    0.032896\n",
      "0.04    0.023775\n",
      "          ...   \n",
      "3.14    0.000061\n",
      "2.73    0.000061\n",
      "3.18    0.000061\n",
      "3.63    0.000061\n",
      "0.97    0.000061\n",
      "Name: JP_sales, Length: 244, dtype: float64\n",
      "\n",
      "0.00    0.394807\n",
      "0.01    0.206616\n",
      "0.02    0.097045\n",
      "0.03    0.055333\n",
      "0.04    0.038976\n",
      "          ...   \n",
      "2.11    0.000061\n",
      "7.53    0.000061\n",
      "1.21    0.000061\n",
      "1.79    0.000061\n",
      "0.93    0.000061\n",
      "Name: Other_sales, Length: 155, dtype: float64\n",
      "\n",
      "NaN     0.514593\n",
      "70.0    0.015323\n",
      "71.0    0.015080\n",
      "75.0    0.014593\n",
      "80.0    0.014289\n",
      "          ...   \n",
      "20.0    0.000182\n",
      "29.0    0.000182\n",
      "21.0    0.000061\n",
      "17.0    0.000061\n",
      "13.0    0.000061\n",
      "Name: Critic_Score, Length: 82, dtype: float64\n",
      "\n",
      "NaN    0.401739\n",
      "tbd    0.144473\n",
      "7.8    0.019579\n",
      "8      0.017329\n",
      "8.2    0.016782\n",
      "         ...   \n",
      "1.9    0.000122\n",
      "9.6    0.000122\n",
      "0.9    0.000122\n",
      "0      0.000061\n",
      "9.7    0.000061\n",
      "Name: User_Score, Length: 97, dtype: float64\n",
      "\n",
      "NaN     0.406056\n",
      "E       0.238417\n",
      "T       0.176639\n",
      "M       0.093397\n",
      "E10+    0.084701\n",
      "EC      0.000486\n",
      "K-A     0.000182\n",
      "AO      0.000061\n",
      "RP      0.000061\n",
      "Name: Rating, dtype: float64\n",
      "\n"
     ]
    }
   ],
   "source": [
    "for column in games.dropna(subset='Year_of_Release'):\n",
    "    print(games.dropna(subset='Year_of_Release')[column].value_counts(dropna=False, normalize=True))\n",
    "    print()"
   ]
  },
  {
   "attachments": {},
   "cell_type": "markdown",
   "metadata": {},
   "source": [
    "Después de una revisión, no se notaron cambios significativos en las distribuciones de las columnas al eliminar los ausentes de ``Year_of_Release``. Ahora continuamos con ``Critic_Score`` (sin sus valores ausentes):"
   ]
  },
  {
   "cell_type": "code",
   "execution_count": 11,
   "metadata": {},
   "outputs": [
    {
     "name": "stdout",
     "output_type": "stream",
     "text": [
      "Madden NFL 07                                0.001106\n",
      "LEGO Star Wars II: The Original Trilogy      0.000983\n",
      "Madden NFL 08                                0.000983\n",
      "Need for Speed: Most Wanted                  0.000983\n",
      "Cars                                         0.000983\n",
      "                                               ...   \n",
      "Dr. Mario / Puzzle League                    0.000123\n",
      "DECA Sports Freedom                          0.000123\n",
      "The Witcher: Enhanced Edition                0.000123\n",
      "Mystery Case Files: The Malgrave Incident    0.000123\n",
      "15 Days                                      0.000123\n",
      "Name: Name, Length: 5085, dtype: float64\n",
      "\n",
      "PS2     0.159518\n",
      "X360    0.112572\n",
      "PS3     0.100774\n",
      "XB      0.089099\n",
      "DS      0.088116\n",
      "PC      0.087870\n",
      "Wii     0.071894\n",
      "PSP     0.056778\n",
      "GC      0.055057\n",
      "GBA     0.053828\n",
      "PS4     0.030970\n",
      "PS      0.024579\n",
      "XOne    0.020769\n",
      "3DS     0.020646\n",
      "PSV     0.014747\n",
      "WiiU    0.011061\n",
      "DC      0.001721\n",
      "Name: Platform, dtype: float64\n",
      "\n",
      "2008.0    0.087870\n",
      "2007.0    0.085044\n",
      "2005.0    0.080496\n",
      "2009.0    0.080005\n",
      "2002.0    0.077055\n",
      "2006.0    0.076195\n",
      "2003.0    0.071894\n",
      "2004.0    0.068944\n",
      "2011.0    0.061448\n",
      "2010.0    0.061448\n",
      "2001.0    0.040064\n",
      "2012.0    0.039449\n",
      "2013.0    0.033550\n",
      "2014.0    0.032076\n",
      "2016.0    0.028512\n",
      "2015.0    0.027651\n",
      "NaN       0.018926\n",
      "2000.0    0.017574\n",
      "1999.0    0.004793\n",
      "1998.0    0.003441\n",
      "1997.0    0.002089\n",
      "1996.0    0.000983\n",
      "1994.0    0.000123\n",
      "1985.0    0.000123\n",
      "1992.0    0.000123\n",
      "1988.0    0.000123\n",
      "Name: Year_of_Release, dtype: float64\n",
      "\n",
      "Action          0.232272\n",
      "Sports          0.146737\n",
      "Shooter         0.116013\n",
      "Racing          0.091188\n",
      "Role-Playing    0.090574\n",
      "Misc            0.064274\n",
      "Platform        0.061079\n",
      "Fighting        0.050264\n",
      "Simulation      0.043259\n",
      "Adventure       0.039695\n",
      "Strategy        0.037114\n",
      "Puzzle          0.027529\n",
      "Name: Genre, dtype: float64\n",
      "\n",
      "0.00     0.077547\n",
      "0.05     0.038220\n",
      "0.03     0.038098\n",
      "0.04     0.037729\n",
      "0.07     0.037360\n",
      "           ...   \n",
      "3.92     0.000123\n",
      "2.06     0.000123\n",
      "4.01     0.000123\n",
      "2.17     0.000123\n",
      "41.36    0.000123\n",
      "Name: NA_sales, Length: 352, dtype: float64\n",
      "\n",
      "0.00     0.158781\n",
      "0.01     0.108517\n",
      "0.02     0.096473\n",
      "0.03     0.069682\n",
      "0.04     0.053582\n",
      "           ...   \n",
      "12.76    0.000123\n",
      "3.27     0.000123\n",
      "2.22     0.000123\n",
      "2.14     0.000123\n",
      "28.96    0.000123\n",
      "Name: EU_sales, Length: 274, dtype: float64\n",
      "\n",
      "0.00    0.742657\n",
      "0.01    0.040801\n",
      "0.02    0.026791\n",
      "0.03    0.020155\n",
      "0.04    0.015854\n",
      "          ...   \n",
      "2.06    0.000123\n",
      "1.60    0.000123\n",
      "1.28    0.000123\n",
      "1.42    0.000123\n",
      "2.11    0.000123\n",
      "Name: JP_sales, Length: 157, dtype: float64\n",
      "\n",
      "0.01    0.233378\n",
      "0.00    0.224161\n",
      "0.02    0.118471\n",
      "0.03    0.068944\n",
      "0.04    0.049650\n",
      "          ...   \n",
      "1.06    0.000123\n",
      "1.61    0.000123\n",
      "1.60    0.000123\n",
      "2.11    0.000123\n",
      "0.53    0.000123\n",
      "Name: Other_sales, Length: 144, dtype: float64\n",
      "\n",
      "70.0    0.031461\n",
      "71.0    0.031215\n",
      "75.0    0.030109\n",
      "78.0    0.029495\n",
      "73.0    0.029249\n",
      "          ...   \n",
      "20.0    0.000369\n",
      "21.0    0.000123\n",
      "17.0    0.000123\n",
      "22.0    0.000123\n",
      "13.0    0.000123\n",
      "Name: Critic_Score, Length: 82, dtype: float64\n",
      "\n",
      "tbd    0.132973\n",
      "7.8    0.036623\n",
      "8      0.032813\n",
      "8.2    0.032813\n",
      "8.5    0.030109\n",
      "         ...   \n",
      "1      0.000246\n",
      "0.6    0.000123\n",
      "0.9    0.000123\n",
      "1.3    0.000123\n",
      "0.7    0.000123\n",
      "Name: User_Score, Length: 91, dtype: float64\n",
      "\n",
      "E       0.345090\n",
      "T       0.324444\n",
      "M       0.182254\n",
      "E10+    0.137397\n",
      "NaN     0.010200\n",
      "RP      0.000369\n",
      "AO      0.000123\n",
      "K-A     0.000123\n",
      "Name: Rating, dtype: float64\n",
      "\n"
     ]
    }
   ],
   "source": [
    "for column in games.dropna(subset='Critic_Score'):\n",
    "    print(games.dropna(subset='Critic_Score')[column].value_counts(dropna=False, normalize=True))\n",
    "    print()"
   ]
  },
  {
   "attachments": {},
   "cell_type": "markdown",
   "metadata": {},
   "source": [
    "Los cambios más notables están en la columna referida al nombre del videojuego, donde el orden de importancia cambia un poco y en las plataformas, donde también el orden cambia un poco. Pero estos cambios eran de esperarse dada la magnitud de los valores ausentes de esta columna y a la vez no son cambios muy grandes. Es decir, no se puede considerar a estos cambios un patrón de por sí. Ahora continuamos con ``User_Score``."
   ]
  },
  {
   "cell_type": "code",
   "execution_count": 12,
   "metadata": {},
   "outputs": [
    {
     "name": "stdout",
     "output_type": "stream",
     "text": [
      "Madden NFL 07                   0.000899\n",
      "Need for Speed: Most Wanted     0.000899\n",
      "LEGO Marvel Super Heroes        0.000799\n",
      "FIFA Soccer 13                  0.000799\n",
      "Ratatouille                     0.000799\n",
      "                                  ...   \n",
      "Virtua Fighter 5 Online         0.000100\n",
      "Deer Hunter                     0.000100\n",
      "Wappy Dog                       0.000100\n",
      "Summer Heat Beach Volleyball    0.000100\n",
      "15 Days                         0.000100\n",
      "Name: Name, Length: 6119, dtype: float64\n",
      "\n",
      "PS2     0.147893\n",
      "DS      0.127022\n",
      "X360    0.104853\n",
      "Wii     0.099860\n",
      "PS3     0.096265\n",
      "PC      0.081786\n",
      "XB      0.073497\n",
      "PSP     0.054324\n",
      "GBA     0.051628\n",
      "GC      0.046834\n",
      "PS4     0.026263\n",
      "3DS     0.022968\n",
      "PS      0.020671\n",
      "XOne    0.019273\n",
      "PSV     0.014979\n",
      "WiiU    0.010485\n",
      "DC      0.001398\n",
      "Name: Platform, dtype: float64\n",
      "\n",
      "2009.0    0.101758\n",
      "2008.0    0.098562\n",
      "2007.0    0.081985\n",
      "2010.0    0.079688\n",
      "2011.0    0.071700\n",
      "2005.0    0.070302\n",
      "2006.0    0.067505\n",
      "2002.0    0.065508\n",
      "2003.0    0.061015\n",
      "2004.0    0.059517\n",
      "2012.0    0.036249\n",
      "2014.0    0.034951\n",
      "2001.0    0.033853\n",
      "2015.0    0.033453\n",
      "2013.0    0.031855\n",
      "2016.0    0.029559\n",
      "NaN       0.017476\n",
      "2000.0    0.014979\n",
      "1999.0    0.003895\n",
      "1998.0    0.003096\n",
      "1997.0    0.001897\n",
      "1996.0    0.000799\n",
      "1994.0    0.000100\n",
      "1985.0    0.000100\n",
      "1992.0    0.000100\n",
      "1988.0    0.000100\n",
      "Name: Year_of_Release, dtype: float64\n",
      "\n",
      "Action          0.220292\n",
      "Sports          0.151388\n",
      "Shooter         0.102157\n",
      "Misc            0.088676\n",
      "Racing          0.087278\n",
      "Role-Playing    0.077192\n",
      "Simulation      0.058019\n",
      "Platform        0.056621\n",
      "Adventure       0.045836\n",
      "Fighting        0.043739\n",
      "Strategy        0.034951\n",
      "Puzzle          0.033853\n",
      "Name: Genre, dtype: float64\n",
      "\n",
      "0.00    0.081486\n",
      "0.05    0.041442\n",
      "0.03    0.040943\n",
      "0.02    0.040443\n",
      "0.04    0.040144\n",
      "          ...   \n",
      "2.62    0.000100\n",
      "2.73    0.000100\n",
      "3.13    0.000100\n",
      "3.22    0.000100\n",
      "2.35    0.000100\n",
      "Name: NA_sales, Length: 354, dtype: float64\n",
      "\n",
      "0.00     0.213601\n",
      "0.01     0.107949\n",
      "0.02     0.093669\n",
      "0.03     0.067006\n",
      "0.04     0.050030\n",
      "           ...   \n",
      "1.80     0.000100\n",
      "2.23     0.000100\n",
      "2.43     0.000100\n",
      "3.14     0.000100\n",
      "28.96    0.000100\n",
      "Name: EU_sales, Length: 276, dtype: float64\n",
      "\n",
      "0.00    0.780208\n",
      "0.01    0.035950\n",
      "0.02    0.023168\n",
      "0.03    0.017476\n",
      "0.04    0.013481\n",
      "          ...   \n",
      "1.19    0.000100\n",
      "2.49    0.000100\n",
      "1.09    0.000100\n",
      "1.98    0.000100\n",
      "3.77    0.000100\n",
      "Name: JP_sales, Length: 158, dtype: float64\n",
      "\n",
      "0.01    0.250449\n",
      "0.00    0.240863\n",
      "0.02    0.118334\n",
      "0.03    0.068404\n",
      "0.04    0.048332\n",
      "          ...   \n",
      "0.96    0.000100\n",
      "1.06    0.000100\n",
      "1.61    0.000100\n",
      "1.60    0.000100\n",
      "0.53    0.000100\n",
      "Name: Other_sales, Length: 145, dtype: float64\n",
      "\n",
      "NaN     0.191232\n",
      "70.0    0.025564\n",
      "71.0    0.025364\n",
      "75.0    0.024466\n",
      "78.0    0.023966\n",
      "          ...   \n",
      "20.0    0.000300\n",
      "21.0    0.000100\n",
      "17.0    0.000100\n",
      "22.0    0.000100\n",
      "13.0    0.000100\n",
      "Name: Critic_Score, Length: 83, dtype: float64\n",
      "\n",
      "tbd    0.242061\n",
      "7.8    0.032355\n",
      "8      0.028959\n",
      "8.2    0.028161\n",
      "8.3    0.025364\n",
      "         ...   \n",
      "1.1    0.000200\n",
      "1.9    0.000200\n",
      "9.6    0.000200\n",
      "0      0.000100\n",
      "9.7    0.000100\n",
      "Name: User_Score, Length: 96, dtype: float64\n",
      "\n",
      "E       0.394448\n",
      "T       0.293689\n",
      "M       0.155782\n",
      "E10+    0.141102\n",
      "NaN     0.013581\n",
      "EC      0.000799\n",
      "K-A     0.000300\n",
      "RP      0.000200\n",
      "AO      0.000100\n",
      "Name: Rating, dtype: float64\n",
      "\n"
     ]
    }
   ],
   "source": [
    "for column in games.dropna(subset='User_Score'):\n",
    "    print(games.dropna(subset='User_Score')[column].value_counts(dropna=False, normalize=True))\n",
    "    print()"
   ]
  },
  {
   "attachments": {},
   "cell_type": "markdown",
   "metadata": {},
   "source": [
    "De igual forma que con la anterior columna, los cambios registrados en algunas columnas no compensan la proporción de valores ausentes eliminados en esta columna. Por eso no se considera un patrón como tal. \n",
    "\n",
    "Finalizamos con los valores ausentes de ``Rating``."
   ]
  },
  {
   "cell_type": "code",
   "execution_count": 13,
   "metadata": {},
   "outputs": [
    {
     "name": "stdout",
     "output_type": "stream",
     "text": [
      "Need for Speed: Most Wanted         0.000905\n",
      "Madden NFL 07                       0.000905\n",
      "Madden NFL 08                       0.000804\n",
      "FIFA 14                             0.000804\n",
      "LEGO Jurassic World                 0.000804\n",
      "                                      ...   \n",
      "Silent Hill 2: Restless Dreams      0.000101\n",
      "NES Remix                           0.000101\n",
      "Bass Strike                         0.000101\n",
      "Medieval Moves: Deadmund's Quest    0.000101\n",
      "Plushees                            0.000101\n",
      "Name: Name, Length: 6066, dtype: float64\n",
      "\n",
      "PS2     0.148859\n",
      "DS      0.127953\n",
      "X360    0.105739\n",
      "Wii     0.100714\n",
      "PS3     0.095688\n",
      "PC      0.077797\n",
      "XB      0.073676\n",
      "PSP     0.054679\n",
      "GBA     0.052468\n",
      "GC      0.047140\n",
      "PS4     0.025631\n",
      "3DS     0.022917\n",
      "PS      0.020907\n",
      "XOne    0.018695\n",
      "PSV     0.015177\n",
      "WiiU    0.010554\n",
      "DC      0.001407\n",
      "Name: Platform, dtype: float64\n",
      "\n",
      "2009.0    0.101618\n",
      "2008.0    0.098603\n",
      "2007.0    0.082521\n",
      "2010.0    0.080310\n",
      "2005.0    0.070962\n",
      "2011.0    0.070660\n",
      "2006.0    0.068148\n",
      "2002.0    0.065836\n",
      "2003.0    0.061614\n",
      "2004.0    0.060107\n",
      "2012.0    0.035682\n",
      "2014.0    0.034677\n",
      "2001.0    0.034074\n",
      "2013.0    0.031762\n",
      "2015.0    0.031661\n",
      "2016.0    0.028144\n",
      "NaN       0.018193\n",
      "2000.0    0.014876\n",
      "1999.0    0.004222\n",
      "1998.0    0.003216\n",
      "1997.0    0.001910\n",
      "1996.0    0.000704\n",
      "1992.0    0.000201\n",
      "1994.0    0.000101\n",
      "1985.0    0.000101\n",
      "1988.0    0.000101\n",
      "Name: Year_of_Release, dtype: float64\n",
      "\n",
      "Action          0.219922\n",
      "Sports          0.151674\n",
      "Shooter         0.102422\n",
      "Misc            0.088652\n",
      "Racing          0.087647\n",
      "Role-Playing    0.078098\n",
      "Platform        0.057192\n",
      "Simulation      0.057091\n",
      "Adventure       0.044829\n",
      "Fighting        0.044025\n",
      "Puzzle          0.034375\n",
      "Strategy        0.034074\n",
      "Name: Genre, dtype: float64\n",
      "\n",
      "0.00    0.077998\n",
      "0.03    0.041210\n",
      "0.05    0.041009\n",
      "0.04    0.040507\n",
      "0.02    0.040507\n",
      "          ...   \n",
      "2.62    0.000101\n",
      "2.73    0.000101\n",
      "3.13    0.000101\n",
      "3.22    0.000101\n",
      "2.35    0.000101\n",
      "Name: NA_sales, Length: 354, dtype: float64\n",
      "\n",
      "0.00     0.214393\n",
      "0.01     0.107347\n",
      "0.02     0.093477\n",
      "0.03     0.066338\n",
      "0.04     0.050256\n",
      "           ...   \n",
      "2.99     0.000101\n",
      "1.98     0.000101\n",
      "3.27     0.000101\n",
      "2.22     0.000101\n",
      "28.96    0.000101\n",
      "Name: EU_sales, Length: 277, dtype: float64\n",
      "\n",
      "0.00    0.778571\n",
      "0.01    0.035984\n",
      "0.02    0.023419\n",
      "0.03    0.017590\n",
      "0.04    0.013569\n",
      "          ...   \n",
      "1.58    0.000101\n",
      "1.09    0.000101\n",
      "1.32    0.000101\n",
      "2.49    0.000101\n",
      "3.77    0.000101\n",
      "Name: JP_sales, Length: 158, dtype: float64\n",
      "\n",
      "0.01    0.250678\n",
      "0.00    0.239924\n",
      "0.02    0.117700\n",
      "0.03    0.068449\n",
      "0.04    0.048246\n",
      "          ...   \n",
      "0.96    0.000101\n",
      "1.06    0.000101\n",
      "1.61    0.000101\n",
      "1.60    0.000101\n",
      "0.53    0.000101\n",
      "Name: Other_sales, Length: 145, dtype: float64\n",
      "\n",
      "NaN     0.190471\n",
      "71.0    0.025329\n",
      "70.0    0.025329\n",
      "75.0    0.024224\n",
      "78.0    0.024023\n",
      "          ...   \n",
      "20.0    0.000302\n",
      "21.0    0.000101\n",
      "17.0    0.000101\n",
      "22.0    0.000101\n",
      "13.0    0.000101\n",
      "Name: Critic_Score, Length: 83, dtype: float64\n",
      "\n",
      "tbd    0.238617\n",
      "7.8    0.032365\n",
      "8      0.028747\n",
      "8.2    0.027943\n",
      "8.5    0.025329\n",
      "         ...   \n",
      "1.1    0.000201\n",
      "1.9    0.000201\n",
      "9.6    0.000201\n",
      "0      0.000101\n",
      "9.7    0.000101\n",
      "Name: User_Score, Length: 97, dtype: float64\n",
      "\n",
      "E       0.401045\n",
      "T       0.297618\n",
      "M       0.157101\n",
      "E10+    0.142728\n",
      "EC      0.000804\n",
      "K-A     0.000302\n",
      "RP      0.000302\n",
      "AO      0.000101\n",
      "Name: Rating, dtype: float64\n",
      "\n"
     ]
    }
   ],
   "source": [
    "for column in games.dropna(subset='Rating'):\n",
    "    print(games.dropna(subset='Rating')[column].value_counts(dropna=False, normalize=True))\n",
    "    print()"
   ]
  },
  {
   "attachments": {},
   "cell_type": "markdown",
   "metadata": {},
   "source": [
    "El mismo fenómeno ocurre con los valores ausentes en esta columna, que finalmente no termina por mostrar un patrón real. Por tanto, concluimos que no existe una relación entre los valores ausentes de nuestro DataFrame con alguna de sus columnas."
   ]
  },
  {
   "attachments": {},
   "cell_type": "markdown",
   "metadata": {},
   "source": [
    "## Conclusiones del apartado"
   ]
  },
  {
   "attachments": {},
   "cell_type": "markdown",
   "metadata": {},
   "source": [
    "Luego de realizado el primer proceso exploratorio inicial del dataset, podemos resumir los hallazgos en los siguientes puntos:\n",
    "\n",
    "* Nuestro dataset tiene títulos y muchos valores de sus columnas con uso de mayúsculas y minúsculas.\n",
    "* Algunas columnas (como ``Year_of_Release``) tienen tipos de datos incorrectos que necesitan correciones.\n",
    "* Cuatro columnas de nuestro dataset cuentan con problemas severos de valores ausentes: ``Year_of_Release``, ``Critic_Score``, ``User_Score`` y ``Rating``, mientras que en otras dos el problema se puede considerar leve.\n",
    "* Los valores ausentes de las columnas mencionadas no parecen mostrar un patrón o relación con los valores de las demás columnas. \n",
    "\n",
    "Dados estos resultados, a continuación pasaremos a la solución de estos problemas: preprocesamiento de datos."
   ]
  },
  {
   "attachments": {},
   "cell_type": "markdown",
   "metadata": {},
   "source": [
    "# Preprocesamiento de datos"
   ]
  },
  {
   "attachments": {},
   "cell_type": "markdown",
   "metadata": {},
   "source": [
    "El primer paso antes de entrar a los valores de las columnas es solucionar el problema con los nombres de las columnas en sí:"
   ]
  },
  {
   "attachments": {},
   "cell_type": "markdown",
   "metadata": {},
   "source": [
    "## Corregir nombres de las columnas"
   ]
  },
  {
   "attachments": {},
   "cell_type": "markdown",
   "metadata": {},
   "source": [
    "Usaremos el formato \"string.lower\" para solucionar este problema:"
   ]
  },
  {
   "cell_type": "code",
   "execution_count": 14,
   "metadata": {},
   "outputs": [
    {
     "data": {
      "text/plain": [
       "Index(['name', 'platform', 'year_of_release', 'genre', 'na_sales', 'eu_sales',\n",
       "       'jp_sales', 'other_sales', 'critic_score', 'user_score', 'rating'],\n",
       "      dtype='object')"
      ]
     },
     "execution_count": 14,
     "metadata": {},
     "output_type": "execute_result"
    }
   ],
   "source": [
    "games.columns = games.columns.str.lower()\n",
    "games.columns"
   ]
  },
  {
   "attachments": {},
   "cell_type": "markdown",
   "metadata": {},
   "source": [
    "## Corregir datos de ``name``"
   ]
  },
  {
   "attachments": {},
   "cell_type": "markdown",
   "metadata": {},
   "source": [
    "En esta columna detectamos dos valores ausentes, los cuales esta vez analizaremos a profundidad filtrándolos."
   ]
  },
  {
   "cell_type": "code",
   "execution_count": 15,
   "metadata": {},
   "outputs": [
    {
     "data": {
      "text/html": [
       "<div>\n",
       "<style scoped>\n",
       "    .dataframe tbody tr th:only-of-type {\n",
       "        vertical-align: middle;\n",
       "    }\n",
       "\n",
       "    .dataframe tbody tr th {\n",
       "        vertical-align: top;\n",
       "    }\n",
       "\n",
       "    .dataframe thead th {\n",
       "        text-align: right;\n",
       "    }\n",
       "</style>\n",
       "<table border=\"1\" class=\"dataframe\">\n",
       "  <thead>\n",
       "    <tr style=\"text-align: right;\">\n",
       "      <th></th>\n",
       "      <th>name</th>\n",
       "      <th>platform</th>\n",
       "      <th>year_of_release</th>\n",
       "      <th>genre</th>\n",
       "      <th>na_sales</th>\n",
       "      <th>eu_sales</th>\n",
       "      <th>jp_sales</th>\n",
       "      <th>other_sales</th>\n",
       "      <th>critic_score</th>\n",
       "      <th>user_score</th>\n",
       "      <th>rating</th>\n",
       "    </tr>\n",
       "  </thead>\n",
       "  <tbody>\n",
       "    <tr>\n",
       "      <th>659</th>\n",
       "      <td>NaN</td>\n",
       "      <td>GEN</td>\n",
       "      <td>1993.0</td>\n",
       "      <td>NaN</td>\n",
       "      <td>1.78</td>\n",
       "      <td>0.53</td>\n",
       "      <td>0.00</td>\n",
       "      <td>0.08</td>\n",
       "      <td>NaN</td>\n",
       "      <td>NaN</td>\n",
       "      <td>NaN</td>\n",
       "    </tr>\n",
       "    <tr>\n",
       "      <th>14244</th>\n",
       "      <td>NaN</td>\n",
       "      <td>GEN</td>\n",
       "      <td>1993.0</td>\n",
       "      <td>NaN</td>\n",
       "      <td>0.00</td>\n",
       "      <td>0.00</td>\n",
       "      <td>0.03</td>\n",
       "      <td>0.00</td>\n",
       "      <td>NaN</td>\n",
       "      <td>NaN</td>\n",
       "      <td>NaN</td>\n",
       "    </tr>\n",
       "  </tbody>\n",
       "</table>\n",
       "</div>"
      ],
      "text/plain": [
       "      name platform  year_of_release genre  na_sales  eu_sales  jp_sales  \\\n",
       "659    NaN      GEN           1993.0   NaN      1.78      0.53      0.00   \n",
       "14244  NaN      GEN           1993.0   NaN      0.00      0.00      0.03   \n",
       "\n",
       "       other_sales  critic_score user_score rating  \n",
       "659           0.08           NaN        NaN    NaN  \n",
       "14244         0.00           NaN        NaN    NaN  "
      ]
     },
     "execution_count": 15,
     "metadata": {},
     "output_type": "execute_result"
    }
   ],
   "source": [
    "games[games['name'].isna()]"
   ]
  },
  {
   "attachments": {},
   "cell_type": "markdown",
   "metadata": {},
   "source": [
    "Notamos que buena parte de sus valores son también nulos. Analizando un poco, no tenemos manera de tratar estos datos por la pobre cantidad de información que se tiene. Dado el poco impacto que tendría, decidimos prescindir de estas filas:"
   ]
  },
  {
   "cell_type": "code",
   "execution_count": 16,
   "metadata": {},
   "outputs": [
    {
     "name": "stdout",
     "output_type": "stream",
     "text": [
      "<class 'pandas.core.frame.DataFrame'>\n",
      "RangeIndex: 16713 entries, 0 to 16712\n",
      "Data columns (total 11 columns):\n",
      " #   Column           Non-Null Count  Dtype  \n",
      "---  ------           --------------  -----  \n",
      " 0   name             16713 non-null  object \n",
      " 1   platform         16713 non-null  object \n",
      " 2   year_of_release  16444 non-null  float64\n",
      " 3   genre            16713 non-null  object \n",
      " 4   na_sales         16713 non-null  float64\n",
      " 5   eu_sales         16713 non-null  float64\n",
      " 6   jp_sales         16713 non-null  float64\n",
      " 7   other_sales      16713 non-null  float64\n",
      " 8   critic_score     8137 non-null   float64\n",
      " 9   user_score       10014 non-null  object \n",
      " 10  rating           9949 non-null   object \n",
      "dtypes: float64(6), object(5)\n",
      "memory usage: 1.4+ MB\n"
     ]
    }
   ],
   "source": [
    "games = games.drop([659, 14244]).reset_index(drop=True)\n",
    "games.info()"
   ]
  },
  {
   "attachments": {},
   "cell_type": "markdown",
   "metadata": {},
   "source": [
    "Por si no recordábamos, en la columna ``genre`` también teníamos solo dos valores ausentes, los cuales eran exactamente los filtrados y eliminados al tratar los de esta columna, ``name``. Ahora nuestro dataset tiene dos filas menos.\n",
    "\n",
    "Otro problema con esta columna eran los valores, estando también en formato de mayúsculas en muchos casos. De manera análoga a los nombres de las columnas, se tratará este problema."
   ]
  },
  {
   "cell_type": "code",
   "execution_count": 17,
   "metadata": {},
   "outputs": [
    {
     "data": {
      "text/plain": [
       "array(['wii sports', 'super mario bros.', 'mario kart wii', ...,\n",
       "       'woody woodpecker in crazy castle 5', 'lma manager 2007',\n",
       "       'haitaka no psychedelica'], dtype=object)"
      ]
     },
     "execution_count": 17,
     "metadata": {},
     "output_type": "execute_result"
    }
   ],
   "source": [
    "games['name'] = games['name'].str.lower()\n",
    "games['name'].unique()"
   ]
  },
  {
   "attachments": {},
   "cell_type": "markdown",
   "metadata": {},
   "source": [
    "## Corregir datos de ``platform``"
   ]
  },
  {
   "attachments": {},
   "cell_type": "markdown",
   "metadata": {},
   "source": [
    "En esta columna el único problema eran sus valores, que usaban formato en mayúsculas y que ahora corregiremos:"
   ]
  },
  {
   "cell_type": "code",
   "execution_count": 18,
   "metadata": {},
   "outputs": [
    {
     "data": {
      "text/plain": [
       "array(['wii', 'nes', 'gb', 'ds', 'x360', 'ps3', 'ps2', 'snes', 'gba',\n",
       "       'ps4', '3ds', 'n64', 'ps', 'xb', 'pc', '2600', 'psp', 'xone',\n",
       "       'wiiu', 'gc', 'gen', 'dc', 'psv', 'sat', 'scd', 'ws', 'ng', 'tg16',\n",
       "       '3do', 'gg', 'pcfx'], dtype=object)"
      ]
     },
     "execution_count": 18,
     "metadata": {},
     "output_type": "execute_result"
    }
   ],
   "source": [
    "games['platform'] = games['platform'].str.lower()\n",
    "games['platform'].unique()"
   ]
  },
  {
   "attachments": {},
   "cell_type": "markdown",
   "metadata": {},
   "source": [
    "## Corregir datos de la columna ``year_of_release``"
   ]
  },
  {
   "attachments": {},
   "cell_type": "markdown",
   "metadata": {},
   "source": [
    "Antes de intentar corregir el formato del tipo de datos en esta columna, intentaremos rellenar los valores ausentes que esta columna posee. Para esto usaremos como aproximador a la columna ``platform``: los juegos se agrupan por año de lanzamiento para cada plataforma, o dicho de otra forma, si tenemos en cuenta que las plataformas son lanzadas cada cierto intervalo (relativamente) corto de tiempo, los juegos lanzados (y sus años) dependerán del tipo de plataforma para el que estén diseñados y hayan sido lanzados. Agrupar nuestros datos en base a la plataforma nos dará una buena aproximación para aplicar a nuestros valores ausentes.\n",
    "\n",
    "Primero crearemos un dataset sin los valores ausentes de esta columna:"
   ]
  },
  {
   "cell_type": "code",
   "execution_count": 19,
   "metadata": {},
   "outputs": [],
   "source": [
    "games_year_no_na = games.dropna(subset='year_of_release')"
   ]
  },
  {
   "attachments": {},
   "cell_type": "markdown",
   "metadata": {},
   "source": [
    "Usaremos esta tabla para obtener la moda del año por plataforma, por la naturaleza de la columna ``year_of_release``. (Al usar medias o medianas se tenían algunos valores con decimales, lo cual no sería correcto)"
   ]
  },
  {
   "cell_type": "code",
   "execution_count": 20,
   "metadata": {},
   "outputs": [
    {
     "data": {
      "text/plain": [
       "platform\n",
       "2600    1981.0\n",
       "3do     1995.0\n",
       "3ds     2011.0\n",
       "dc      2000.0\n",
       "ds      2008.0\n",
       "gb      2000.0\n",
       "gba     2002.0\n",
       "gc      2002.0\n",
       "gen     1994.0\n",
       "gg      1992.0\n",
       "n64     1999.0\n",
       "nes     1986.0\n",
       "ng      1994.0\n",
       "pc      2011.0\n",
       "pcfx    1996.0\n",
       "ps      1998.0\n",
       "ps2     2002.0\n",
       "ps3     2011.0\n",
       "ps4     2016.0\n",
       "psp     2006.0\n",
       "psv     2015.0\n",
       "sat     1995.0\n",
       "scd     1994.0\n",
       "snes    1995.0\n",
       "tg16    1995.0\n",
       "wii     2009.0\n",
       "wiiu    2013.0\n",
       "ws      1999.0\n",
       "x360    2011.0\n",
       "xb      2003.0\n",
       "xone    2016.0\n",
       "Name: year_of_release, dtype: float64"
      ]
     },
     "execution_count": 20,
     "metadata": {},
     "output_type": "execute_result"
    }
   ],
   "source": [
    "year_platform = games_year_no_na.groupby('platform')['year_of_release'].apply(lambda x: x.mode()[0])\n",
    "year_platform"
   ]
  },
  {
   "attachments": {},
   "cell_type": "markdown",
   "metadata": {},
   "source": [
    "Para usar esta tabla en el llenado de valores ausentes, crearemos una función para este objetivo. La función tiene la siguiente forma:"
   ]
  },
  {
   "cell_type": "code",
   "execution_count": 21,
   "metadata": {},
   "outputs": [],
   "source": [
    "def fillna_year(data):\n",
    "    year = data['year_of_release']\n",
    "    platform = data['platform']\n",
    "    \n",
    "    if pd.isna(year):\n",
    "        try:\n",
    "            return year_platform.loc[platform]\n",
    "        except:\n",
    "            return np.nan\n",
    "    return year"
   ]
  },
  {
   "attachments": {},
   "cell_type": "markdown",
   "metadata": {},
   "source": [
    "Para probar su correcto funcionamiento, usaremos algunas filas con ausentes del dataset original:"
   ]
  },
  {
   "cell_type": "code",
   "execution_count": 22,
   "metadata": {},
   "outputs": [
    {
     "data": {
      "text/plain": [
       "2002.0"
      ]
     },
     "execution_count": 22,
     "metadata": {},
     "output_type": "execute_result"
    }
   ],
   "source": [
    "fillna_year(games.iloc[183])"
   ]
  },
  {
   "cell_type": "code",
   "execution_count": 23,
   "metadata": {},
   "outputs": [
    {
     "data": {
      "text/plain": [
       "2009.0"
      ]
     },
     "execution_count": 23,
     "metadata": {},
     "output_type": "execute_result"
    }
   ],
   "source": [
    "fillna_year(games.iloc[456])"
   ]
  },
  {
   "attachments": {},
   "cell_type": "markdown",
   "metadata": {},
   "source": [
    "Dado que funciona correctamente, podemos aplicar nuestra función a la columna y rellenar sus valores ausentes:"
   ]
  },
  {
   "cell_type": "code",
   "execution_count": 24,
   "metadata": {},
   "outputs": [],
   "source": [
    "games['year_of_release'] = games.apply(fillna_year, axis=1)"
   ]
  },
  {
   "attachments": {},
   "cell_type": "markdown",
   "metadata": {},
   "source": [
    "Comprobamos si quedaron aún valores ausentes:"
   ]
  },
  {
   "cell_type": "code",
   "execution_count": 25,
   "metadata": {},
   "outputs": [
    {
     "data": {
      "text/plain": [
       "0"
      ]
     },
     "execution_count": 25,
     "metadata": {},
     "output_type": "execute_result"
    }
   ],
   "source": [
    "games['year_of_release'].isna().sum()"
   ]
  },
  {
   "attachments": {},
   "cell_type": "markdown",
   "metadata": {},
   "source": [
    "Ahora, debido a que en esencia se trata de una columna con fechas, se decide transformar la columna a enteros:"
   ]
  },
  {
   "cell_type": "code",
   "execution_count": 27,
   "metadata": {},
   "outputs": [
    {
     "data": {
      "text/plain": [
       "0        2006\n",
       "1        1985\n",
       "2        2008\n",
       "3        2009\n",
       "4        1996\n",
       "         ... \n",
       "16708    2016\n",
       "16709    2006\n",
       "16710    2016\n",
       "16711    2003\n",
       "16712    2016\n",
       "Name: year_of_release, Length: 16713, dtype: int32"
      ]
     },
     "execution_count": 27,
     "metadata": {},
     "output_type": "execute_result"
    }
   ],
   "source": [
    "games['year_of_release'] = games['year_of_release'].astype('int')\n",
    "games['year_of_release']"
   ]
  },
  {
   "attachments": {},
   "cell_type": "markdown",
   "metadata": {},
   "source": [
    "Esta columna no tiene más problemas por ahora. Continuamos con ``genre``."
   ]
  },
  {
   "attachments": {},
   "cell_type": "markdown",
   "metadata": {},
   "source": [
    "## Corregir datos de ``genre``"
   ]
  },
  {
   "attachments": {},
   "cell_type": "markdown",
   "metadata": {},
   "source": [
    "En esta columna teníamos dos valores ausentes que fueron removidos junto a los ausentes de ``name``. Ahora, su otro problema es el uso de mayúsculas en su clasificación, tema del cual nos haremos cargo."
   ]
  },
  {
   "cell_type": "code",
   "execution_count": 28,
   "metadata": {},
   "outputs": [
    {
     "data": {
      "text/plain": [
       "array(['sports', 'platform', 'racing', 'role-playing', 'puzzle', 'misc',\n",
       "       'shooter', 'simulation', 'action', 'fighting', 'adventure',\n",
       "       'strategy'], dtype=object)"
      ]
     },
     "execution_count": 28,
     "metadata": {},
     "output_type": "execute_result"
    }
   ],
   "source": [
    "games['genre'] = games['genre'].str.lower()\n",
    "games['genre'].unique()"
   ]
  },
  {
   "attachments": {},
   "cell_type": "markdown",
   "metadata": {},
   "source": [
    "## Corregir datos de ``critic_score``"
   ]
  },
  {
   "attachments": {},
   "cell_type": "markdown",
   "metadata": {},
   "source": [
    "Esta columna es la que más porcentaje de valores ausentes acapara (51 %), y a la vez de las más difíciles de tratar. Por definición, la crítica especializada que da un puntaje debió tener acceso al videojuego, jugarlo, emitir su opinión, promediar esta opinión con la de otros expertos y finalmente publicar estos resultados, teniendo en cuenta que la crítica también necesita un sistema de calificación que pudo o no estar acorde a lo que se presenta en nuestra columna. Nuestro dataset se remonta a los años 80's, donde muchas plataformas no habían sido lanzadas, el acceso a las recientes de su época pudo haber sido limitado, y la publicación no tenía medios de respaldo porque no había un acceso a internet generalizado sino hasta los años 2000. Esos factores pudieron ser la causa principal de los valores ausentes presentes en esta columna. Se podría concluir entonces que la mayor parte de los valores ausentes se deben a falta de datos e información, así como posibles errores de recopilación y verificación de los datos. La última hipótesis viene relacionada al acceso de algunos videojuegos que solo fueron diseñados y/o ofertados en ciertos mercados o regiones, lo cual podría ser un motivo más para este problema.\n",
    "\n",
    "Por tanto, debido a la propia naturaleza de los errores (falta de información en su mayor parte), estos valores no tienen una columna en base a la cual tratar o imputar los datos, haciendo complicado su procesamiento. También tengamos en cuenta que, aunque sea posible buscar esta información y aproximarla usando diversas fuentes, requiere un trabajo minucioso y detallado, que escapa a las posibilidades de desarrollo del proyecto. Por último, las categorías de crítica en general son subjetivas y en algunas situaciones favorecidas para casos (plataformas o videojuegos) concretos. \n",
    "\n",
    "Eliminar estos valores ausentes no es una opción debido a la escala del problema. Así que decidiremos mantener estos valores ausentes y maximizar el uso de información en las columnas restantes. Por ahora continuamos con la siguiente columna."
   ]
  },
  {
   "attachments": {},
   "cell_type": "markdown",
   "metadata": {},
   "source": [
    "## Corregir datos de la columna ``user_score``"
   ]
  },
  {
   "attachments": {},
   "cell_type": "markdown",
   "metadata": {},
   "source": [
    "En un apartado previo habíamos advertido del tipo de datos que presentaba esta columna a pesar de ser teóricamente uno numérico: *object*. Intentaremos obtener información acerca de posibles errores en esta columna:"
   ]
  },
  {
   "cell_type": "code",
   "execution_count": 29,
   "metadata": {},
   "outputs": [
    {
     "data": {
      "text/plain": [
       "count     10014\n",
       "unique       96\n",
       "top         tbd\n",
       "freq       2424\n",
       "Name: user_score, dtype: object"
      ]
     },
     "execution_count": 29,
     "metadata": {},
     "output_type": "execute_result"
    }
   ],
   "source": [
    "games['user_score'].describe()"
   ]
  },
  {
   "attachments": {},
   "cell_type": "markdown",
   "metadata": {},
   "source": [
    "Podemos observar que el problema se debe a que existe un valor \"tbd\" (*to be determined*, \"por determinar\" en inglés). En este caso, estas siglas significan en términos prácticos que no existe una calificación consensuada por los usuarios. Lo más adecuado sería transformar nuestra variable a numérica y volver a esta cadena un valor ausente, para lo cual usaremos el método \"to_numeric\" y su parámetro *errors='coerce'* para realizar ambos procesos al mismo tiempo:"
   ]
  },
  {
   "cell_type": "code",
   "execution_count": 30,
   "metadata": {},
   "outputs": [
    {
     "data": {
      "text/plain": [
       "0        8.0\n",
       "1        NaN\n",
       "2        8.3\n",
       "3        8.0\n",
       "4        NaN\n",
       "        ... \n",
       "16708    NaN\n",
       "16709    NaN\n",
       "16710    NaN\n",
       "16711    NaN\n",
       "16712    NaN\n",
       "Name: user_score, Length: 16713, dtype: float64"
      ]
     },
     "execution_count": 30,
     "metadata": {},
     "output_type": "execute_result"
    }
   ],
   "source": [
    "games['user_score'] = pd.to_numeric(games['user_score'], errors='coerce')\n",
    "games['user_score']"
   ]
  },
  {
   "attachments": {},
   "cell_type": "markdown",
   "metadata": {},
   "source": [
    "Ahora, dado que el problema de esta columna con sus valores ausentes es análogo al de ``critic_score``, no encontramos una manera fácil de tratar y rellenar sus valores ausentes ni podemos eliminarlos por su gran proporción. Un enfoque podría ser usar las siglas \"tbd\" para rellenar los valores ausentes, pero mezclar cadenas con un valor numérico puede que no ayude en el análisis posterior. Debido a eso, mantendremos sus ausentes y continuaremos con la última columna."
   ]
  },
  {
   "attachments": {},
   "cell_type": "markdown",
   "metadata": {},
   "source": [
    "## Corregir datos de ``rating``"
   ]
  },
  {
   "attachments": {},
   "cell_type": "markdown",
   "metadata": {},
   "source": [
    "El problema de valores ausentes persiste también en esta columna, y también sus posibles razones son bastante parecidas. El problema en particular se remonta a que la entidad clasificadora (ESRB) fue realmente establecida recién en 1994 y solo realizó menciones para algunos videojuegos previos a su creación. Un caso también relacionado a este problema es la clasificación \"K-A\" (*Kids to Adults*), que fue reemplazada por \"E\" (*Everyone*) luego de su uso. También recordemos que la clasificación \"EC\" (*Early Childhood*) fue dejada de usar alrededor del 2018 porque ESRB consideró que solo fue usado en muy pocos casos y los títulos con esta clasificación se adaptaban mejor y fueron reemplazados por \"E\" (*Everyone*). Estos dos casos, por ejemplo, serán reemplazados antes de decidir qué hacer con los valores ausentes, de la siguiente manera:"
   ]
  },
  {
   "cell_type": "code",
   "execution_count": 31,
   "metadata": {},
   "outputs": [
    {
     "data": {
      "text/plain": [
       "NaN     6764\n",
       "E       3990\n",
       "T       2961\n",
       "M       1563\n",
       "E10+    1420\n",
       "EC         8\n",
       "K-A        3\n",
       "RP         3\n",
       "AO         1\n",
       "Name: rating, dtype: int64"
      ]
     },
     "execution_count": 31,
     "metadata": {},
     "output_type": "execute_result"
    }
   ],
   "source": [
    "games['rating'].value_counts(dropna=False)"
   ]
  },
  {
   "cell_type": "code",
   "execution_count": 32,
   "metadata": {},
   "outputs": [
    {
     "data": {
      "text/plain": [
       "NaN     6764\n",
       "E       4001\n",
       "T       2961\n",
       "M       1563\n",
       "E10+    1420\n",
       "RP         3\n",
       "AO         1\n",
       "Name: rating, dtype: int64"
      ]
     },
     "execution_count": 32,
     "metadata": {},
     "output_type": "execute_result"
    }
   ],
   "source": [
    "games['rating'] = games['rating'].replace({'K-A': 'E', 'EC': 'E'})\n",
    "games['rating'].value_counts(dropna=False)"
   ]
  },
  {
   "attachments": {},
   "cell_type": "markdown",
   "metadata": {},
   "source": [
    "Tal como observamos, hemos logrado reducir el número de clasificaciones acorde a las que están en uso. Recordemos que tenemos una categoría para clasificar a los juegos que aún no han obtenido una clasificación: \"RP\" (*Rating Pending*). Contrario al caso anterior, donde nuestra columna era numérica, en este caso podemos usar esta clasificación para los valores ausentes, debido a que la columna ``rating`` es categórica y de cierto modo el origen de los valores ausentes es parecido al de casos anteriores: falta de información. "
   ]
  },
  {
   "cell_type": "code",
   "execution_count": 33,
   "metadata": {},
   "outputs": [
    {
     "data": {
      "text/plain": [
       "RP      6767\n",
       "E       4001\n",
       "T       2961\n",
       "M       1563\n",
       "E10+    1420\n",
       "AO         1\n",
       "Name: rating, dtype: int64"
      ]
     },
     "execution_count": 33,
     "metadata": {},
     "output_type": "execute_result"
    }
   ],
   "source": [
    "games['rating'] = games['rating'].fillna('RP')\n",
    "games['rating'].value_counts()"
   ]
  },
  {
   "cell_type": "code",
   "execution_count": 34,
   "metadata": {},
   "outputs": [
    {
     "data": {
      "text/plain": [
       "0"
      ]
     },
     "execution_count": 34,
     "metadata": {},
     "output_type": "execute_result"
    }
   ],
   "source": [
    "games['rating'].isna().sum()"
   ]
  },
  {
   "attachments": {},
   "cell_type": "markdown",
   "metadata": {},
   "source": [
    "Ahora volveremos minúsculas a la clasificación por temas de buenas prácticas:"
   ]
  },
  {
   "cell_type": "code",
   "execution_count": 35,
   "metadata": {},
   "outputs": [
    {
     "data": {
      "text/plain": [
       "rp      6767\n",
       "e       4001\n",
       "t       2961\n",
       "m       1563\n",
       "e10+    1420\n",
       "ao         1\n",
       "Name: rating, dtype: int64"
      ]
     },
     "execution_count": 35,
     "metadata": {},
     "output_type": "execute_result"
    }
   ],
   "source": [
    "games['rating'] = games['rating'].str.lower()\n",
    "games['rating'].value_counts()"
   ]
  },
  {
   "attachments": {},
   "cell_type": "markdown",
   "metadata": {},
   "source": [
    "Ahora que no tenemos valores ausentes, es quizá recomendable guardar las equivalencias de las siglas usadas en una columna extra y así tener la referencia de su equivalencia de forma más explícita. La columna que integrará esta información se llamará ``rating_esrb``."
   ]
  },
  {
   "cell_type": "code",
   "execution_count": 36,
   "metadata": {},
   "outputs": [],
   "source": [
    "rating_conditions = {'rp': 'rating pending', 'e': 'everyone', 't': 'teen', 'm': 'mature', 'e10+': 'everyone 10+', 'ao': 'adults only'}"
   ]
  },
  {
   "cell_type": "code",
   "execution_count": 37,
   "metadata": {},
   "outputs": [
    {
     "data": {
      "text/plain": [
       "rating pending    6767\n",
       "everyone          4001\n",
       "teen              2961\n",
       "mature            1563\n",
       "everyone 10+      1420\n",
       "adults only          1\n",
       "Name: rating_esrb, dtype: int64"
      ]
     },
     "execution_count": 37,
     "metadata": {},
     "output_type": "execute_result"
    }
   ],
   "source": [
    "games['rating_esrb'] = games['rating'].replace(rating_conditions)\n",
    "games['rating_esrb'].value_counts()"
   ]
  },
  {
   "cell_type": "code",
   "execution_count": 38,
   "metadata": {},
   "outputs": [
    {
     "data": {
      "text/html": [
       "<div>\n",
       "<style scoped>\n",
       "    .dataframe tbody tr th:only-of-type {\n",
       "        vertical-align: middle;\n",
       "    }\n",
       "\n",
       "    .dataframe tbody tr th {\n",
       "        vertical-align: top;\n",
       "    }\n",
       "\n",
       "    .dataframe thead th {\n",
       "        text-align: right;\n",
       "    }\n",
       "</style>\n",
       "<table border=\"1\" class=\"dataframe\">\n",
       "  <thead>\n",
       "    <tr style=\"text-align: right;\">\n",
       "      <th></th>\n",
       "      <th>rating</th>\n",
       "      <th>rating_esrb</th>\n",
       "    </tr>\n",
       "  </thead>\n",
       "  <tbody>\n",
       "    <tr>\n",
       "      <th>0</th>\n",
       "      <td>e</td>\n",
       "      <td>everyone</td>\n",
       "    </tr>\n",
       "    <tr>\n",
       "      <th>1</th>\n",
       "      <td>rp</td>\n",
       "      <td>rating pending</td>\n",
       "    </tr>\n",
       "    <tr>\n",
       "      <th>2</th>\n",
       "      <td>m</td>\n",
       "      <td>mature</td>\n",
       "    </tr>\n",
       "    <tr>\n",
       "      <th>3</th>\n",
       "      <td>t</td>\n",
       "      <td>teen</td>\n",
       "    </tr>\n",
       "    <tr>\n",
       "      <th>4</th>\n",
       "      <td>e10+</td>\n",
       "      <td>everyone 10+</td>\n",
       "    </tr>\n",
       "    <tr>\n",
       "      <th>5</th>\n",
       "      <td>ao</td>\n",
       "      <td>adults only</td>\n",
       "    </tr>\n",
       "  </tbody>\n",
       "</table>\n",
       "</div>"
      ],
      "text/plain": [
       "  rating     rating_esrb\n",
       "0      e        everyone\n",
       "1     rp  rating pending\n",
       "2      m          mature\n",
       "3      t            teen\n",
       "4   e10+    everyone 10+\n",
       "5     ao     adults only"
      ]
     },
     "execution_count": 38,
     "metadata": {},
     "output_type": "execute_result"
    }
   ],
   "source": [
    "rating_dict = games[['rating', 'rating_esrb']].drop_duplicates().reset_index(drop=True)\n",
    "rating_dict"
   ]
  },
  {
   "attachments": {},
   "cell_type": "markdown",
   "metadata": {},
   "source": [
    "El diccionario de equivalencias está hecho. Pasaremos a la siguiente sección."
   ]
  },
  {
   "attachments": {},
   "cell_type": "markdown",
   "metadata": {},
   "source": [
    "## Enriquecer los datos: ventas totales"
   ]
  },
  {
   "attachments": {},
   "cell_type": "markdown",
   "metadata": {},
   "source": [
    "En algún momento de nuestro análisis requeriremos usar las ventas totales para, por ejemplo, visualizar la tendencia de estas a lo largo del tiempo por plataformas o género, dependiendo del caso. Ya que parte de nuestro análisis se enfoca en el éxito de un videojuego, las ventas totales también pueden ser una buena aproximación al éxito logrado. Por estas razones se creará una columna nueva con la sumatoria de las ventas por regiones:"
   ]
  },
  {
   "cell_type": "code",
   "execution_count": 39,
   "metadata": {},
   "outputs": [],
   "source": [
    "games['total_sales'] = (\n",
    "    games['na_sales'] +\n",
    "    games['eu_sales'] +\n",
    "    games['jp_sales'] +\n",
    "    games['other_sales']\n",
    ")"
   ]
  },
  {
   "cell_type": "code",
   "execution_count": 40,
   "metadata": {},
   "outputs": [
    {
     "data": {
      "text/html": [
       "<div>\n",
       "<style scoped>\n",
       "    .dataframe tbody tr th:only-of-type {\n",
       "        vertical-align: middle;\n",
       "    }\n",
       "\n",
       "    .dataframe tbody tr th {\n",
       "        vertical-align: top;\n",
       "    }\n",
       "\n",
       "    .dataframe thead th {\n",
       "        text-align: right;\n",
       "    }\n",
       "</style>\n",
       "<table border=\"1\" class=\"dataframe\">\n",
       "  <thead>\n",
       "    <tr style=\"text-align: right;\">\n",
       "      <th></th>\n",
       "      <th>name</th>\n",
       "      <th>platform</th>\n",
       "      <th>year_of_release</th>\n",
       "      <th>genre</th>\n",
       "      <th>na_sales</th>\n",
       "      <th>eu_sales</th>\n",
       "      <th>jp_sales</th>\n",
       "      <th>other_sales</th>\n",
       "      <th>critic_score</th>\n",
       "      <th>user_score</th>\n",
       "      <th>rating</th>\n",
       "      <th>rating_esrb</th>\n",
       "      <th>total_sales</th>\n",
       "    </tr>\n",
       "  </thead>\n",
       "  <tbody>\n",
       "    <tr>\n",
       "      <th>0</th>\n",
       "      <td>wii sports</td>\n",
       "      <td>wii</td>\n",
       "      <td>2006</td>\n",
       "      <td>sports</td>\n",
       "      <td>41.36</td>\n",
       "      <td>28.96</td>\n",
       "      <td>3.77</td>\n",
       "      <td>8.45</td>\n",
       "      <td>76.0</td>\n",
       "      <td>8.0</td>\n",
       "      <td>e</td>\n",
       "      <td>everyone</td>\n",
       "      <td>82.54</td>\n",
       "    </tr>\n",
       "    <tr>\n",
       "      <th>1</th>\n",
       "      <td>super mario bros.</td>\n",
       "      <td>nes</td>\n",
       "      <td>1985</td>\n",
       "      <td>platform</td>\n",
       "      <td>29.08</td>\n",
       "      <td>3.58</td>\n",
       "      <td>6.81</td>\n",
       "      <td>0.77</td>\n",
       "      <td>NaN</td>\n",
       "      <td>NaN</td>\n",
       "      <td>rp</td>\n",
       "      <td>rating pending</td>\n",
       "      <td>40.24</td>\n",
       "    </tr>\n",
       "    <tr>\n",
       "      <th>2</th>\n",
       "      <td>mario kart wii</td>\n",
       "      <td>wii</td>\n",
       "      <td>2008</td>\n",
       "      <td>racing</td>\n",
       "      <td>15.68</td>\n",
       "      <td>12.76</td>\n",
       "      <td>3.79</td>\n",
       "      <td>3.29</td>\n",
       "      <td>82.0</td>\n",
       "      <td>8.3</td>\n",
       "      <td>e</td>\n",
       "      <td>everyone</td>\n",
       "      <td>35.52</td>\n",
       "    </tr>\n",
       "    <tr>\n",
       "      <th>3</th>\n",
       "      <td>wii sports resort</td>\n",
       "      <td>wii</td>\n",
       "      <td>2009</td>\n",
       "      <td>sports</td>\n",
       "      <td>15.61</td>\n",
       "      <td>10.93</td>\n",
       "      <td>3.28</td>\n",
       "      <td>2.95</td>\n",
       "      <td>80.0</td>\n",
       "      <td>8.0</td>\n",
       "      <td>e</td>\n",
       "      <td>everyone</td>\n",
       "      <td>32.77</td>\n",
       "    </tr>\n",
       "    <tr>\n",
       "      <th>4</th>\n",
       "      <td>pokemon red/pokemon blue</td>\n",
       "      <td>gb</td>\n",
       "      <td>1996</td>\n",
       "      <td>role-playing</td>\n",
       "      <td>11.27</td>\n",
       "      <td>8.89</td>\n",
       "      <td>10.22</td>\n",
       "      <td>1.00</td>\n",
       "      <td>NaN</td>\n",
       "      <td>NaN</td>\n",
       "      <td>rp</td>\n",
       "      <td>rating pending</td>\n",
       "      <td>31.38</td>\n",
       "    </tr>\n",
       "  </tbody>\n",
       "</table>\n",
       "</div>"
      ],
      "text/plain": [
       "                       name platform  year_of_release         genre  na_sales  \\\n",
       "0                wii sports      wii             2006        sports     41.36   \n",
       "1         super mario bros.      nes             1985      platform     29.08   \n",
       "2            mario kart wii      wii             2008        racing     15.68   \n",
       "3         wii sports resort      wii             2009        sports     15.61   \n",
       "4  pokemon red/pokemon blue       gb             1996  role-playing     11.27   \n",
       "\n",
       "   eu_sales  jp_sales  other_sales  critic_score  user_score rating  \\\n",
       "0     28.96      3.77         8.45          76.0         8.0      e   \n",
       "1      3.58      6.81         0.77           NaN         NaN     rp   \n",
       "2     12.76      3.79         3.29          82.0         8.3      e   \n",
       "3     10.93      3.28         2.95          80.0         8.0      e   \n",
       "4      8.89     10.22         1.00           NaN         NaN     rp   \n",
       "\n",
       "      rating_esrb  total_sales  \n",
       "0        everyone        82.54  \n",
       "1  rating pending        40.24  \n",
       "2        everyone        35.52  \n",
       "3        everyone        32.77  \n",
       "4  rating pending        31.38  "
      ]
     },
     "execution_count": 40,
     "metadata": {},
     "output_type": "execute_result"
    }
   ],
   "source": [
    "games.head()"
   ]
  },
  {
   "attachments": {},
   "cell_type": "markdown",
   "metadata": {},
   "source": [
    "Como siguiente paso, realizaremos un conteo de posibles duplicados explícitos:"
   ]
  },
  {
   "cell_type": "code",
   "execution_count": 41,
   "metadata": {},
   "outputs": [
    {
     "data": {
      "text/plain": [
       "0"
      ]
     },
     "execution_count": 41,
     "metadata": {},
     "output_type": "execute_result"
    }
   ],
   "source": [
    "games.duplicated().sum()"
   ]
  },
  {
   "attachments": {},
   "cell_type": "markdown",
   "metadata": {},
   "source": [
    "Ya que no se presentan duplicados explícitos, ahora una última revisión de nuestro DataFrame para dar las conclusiones respectivas:"
   ]
  },
  {
   "cell_type": "code",
   "execution_count": 42,
   "metadata": {},
   "outputs": [
    {
     "name": "stdout",
     "output_type": "stream",
     "text": [
      "<class 'pandas.core.frame.DataFrame'>\n",
      "RangeIndex: 16713 entries, 0 to 16712\n",
      "Data columns (total 13 columns):\n",
      " #   Column           Non-Null Count  Dtype  \n",
      "---  ------           --------------  -----  \n",
      " 0   name             16713 non-null  object \n",
      " 1   platform         16713 non-null  object \n",
      " 2   year_of_release  16713 non-null  int32  \n",
      " 3   genre            16713 non-null  object \n",
      " 4   na_sales         16713 non-null  float64\n",
      " 5   eu_sales         16713 non-null  float64\n",
      " 6   jp_sales         16713 non-null  float64\n",
      " 7   other_sales      16713 non-null  float64\n",
      " 8   critic_score     8137 non-null   float64\n",
      " 9   user_score       7590 non-null   float64\n",
      " 10  rating           16713 non-null  object \n",
      " 11  rating_esrb      16713 non-null  object \n",
      " 12  total_sales      16713 non-null  float64\n",
      "dtypes: float64(7), int32(1), object(5)\n",
      "memory usage: 1.6+ MB\n"
     ]
    }
   ],
   "source": [
    "games.info()"
   ]
  },
  {
   "attachments": {},
   "cell_type": "markdown",
   "metadata": {},
   "source": [
    "## Conclusiones del apartado"
   ]
  },
  {
   "attachments": {},
   "cell_type": "markdown",
   "metadata": {},
   "source": [
    "Luego de un exhaustivo proprocesamiento de datos, tenemos lo siguiente a concluir:\n",
    "\n",
    "* Los nombres de nuestras columnas fueron \"estandarizados\" hacia minúsculas.\n",
    "* En la columna ``name`` se decidió eliminar sus dos filas con valores ausentes, por su poca relevancia. De hecho, estas filas con ausentes estaban relacionadas con los ausentes de ``genre``.\n",
    "* En todas las columnas categóricas sus respectivos valores fueron llevados a minúsculas.\n",
    "* Se logró solucionar los valores ausentes de ``year_of_release``, rellenando sus ausentes con el año más frecuente por plataforma. En el caso de ``rating``, de decidió usar la categoría \"rp\" para incluir a los valores ausentes. Luego se generó una columna y una tabla con sus respectivas equivalencias.\n",
    "* En las columnas numéricas ``critic_score`` y ``user_score``, por la propia naturaleza de la columna y de los valores ausentes, no se logró tratar a sus respectivos valores ausentes de forma efectiva. Los valores \"tbd\" también se consideraron ausentes por concepto.\n",
    "* Al final, se agregó una columna con los ingresos totales, incluyendo la sumatoria de ventas de todas las regiones.\n",
    "\n",
    "Ahora podemos continuar con la parte analítica del proyecto."
   ]
  },
  {
   "attachments": {},
   "cell_type": "markdown",
   "metadata": {},
   "source": [
    "# Análisis de datos: descriptivo y exploratorio"
   ]
  },
  {
   "attachments": {},
   "cell_type": "markdown",
   "metadata": {},
   "source": [
    "## Videojuegos lanzados por año"
   ]
  },
  {
   "attachments": {},
   "cell_type": "markdown",
   "metadata": {},
   "source": [
    "En la primera parte del análisis, analizaremos la cantidad de videojuegos lanzados por año para ver si los datos que tenemos para cada periodo son significativos. Para esto, contaremos la cantidad de videojuegos lanzados en cada año:"
   ]
  },
  {
   "cell_type": "code",
   "execution_count": 48,
   "metadata": {},
   "outputs": [
    {
     "data": {
      "text/html": [
       "<div>\n",
       "<style scoped>\n",
       "    .dataframe tbody tr th:only-of-type {\n",
       "        vertical-align: middle;\n",
       "    }\n",
       "\n",
       "    .dataframe tbody tr th {\n",
       "        vertical-align: top;\n",
       "    }\n",
       "\n",
       "    .dataframe thead th {\n",
       "        text-align: right;\n",
       "    }\n",
       "</style>\n",
       "<table border=\"1\" class=\"dataframe\">\n",
       "  <thead>\n",
       "    <tr style=\"text-align: right;\">\n",
       "      <th></th>\n",
       "      <th>year_of_release</th>\n",
       "      <th>name</th>\n",
       "    </tr>\n",
       "  </thead>\n",
       "  <tbody>\n",
       "    <tr>\n",
       "      <th>0</th>\n",
       "      <td>1980</td>\n",
       "      <td>9</td>\n",
       "    </tr>\n",
       "    <tr>\n",
       "      <th>1</th>\n",
       "      <td>1981</td>\n",
       "      <td>63</td>\n",
       "    </tr>\n",
       "    <tr>\n",
       "      <th>2</th>\n",
       "      <td>1982</td>\n",
       "      <td>36</td>\n",
       "    </tr>\n",
       "    <tr>\n",
       "      <th>3</th>\n",
       "      <td>1983</td>\n",
       "      <td>17</td>\n",
       "    </tr>\n",
       "    <tr>\n",
       "      <th>4</th>\n",
       "      <td>1984</td>\n",
       "      <td>14</td>\n",
       "    </tr>\n",
       "    <tr>\n",
       "      <th>5</th>\n",
       "      <td>1985</td>\n",
       "      <td>14</td>\n",
       "    </tr>\n",
       "    <tr>\n",
       "      <th>6</th>\n",
       "      <td>1986</td>\n",
       "      <td>21</td>\n",
       "    </tr>\n",
       "    <tr>\n",
       "      <th>7</th>\n",
       "      <td>1987</td>\n",
       "      <td>16</td>\n",
       "    </tr>\n",
       "    <tr>\n",
       "      <th>8</th>\n",
       "      <td>1988</td>\n",
       "      <td>15</td>\n",
       "    </tr>\n",
       "    <tr>\n",
       "      <th>9</th>\n",
       "      <td>1989</td>\n",
       "      <td>17</td>\n",
       "    </tr>\n",
       "    <tr>\n",
       "      <th>10</th>\n",
       "      <td>1990</td>\n",
       "      <td>16</td>\n",
       "    </tr>\n",
       "    <tr>\n",
       "      <th>11</th>\n",
       "      <td>1991</td>\n",
       "      <td>41</td>\n",
       "    </tr>\n",
       "    <tr>\n",
       "      <th>12</th>\n",
       "      <td>1992</td>\n",
       "      <td>43</td>\n",
       "    </tr>\n",
       "    <tr>\n",
       "      <th>13</th>\n",
       "      <td>1993</td>\n",
       "      <td>60</td>\n",
       "    </tr>\n",
       "    <tr>\n",
       "      <th>14</th>\n",
       "      <td>1994</td>\n",
       "      <td>121</td>\n",
       "    </tr>\n",
       "    <tr>\n",
       "      <th>15</th>\n",
       "      <td>1995</td>\n",
       "      <td>219</td>\n",
       "    </tr>\n",
       "    <tr>\n",
       "      <th>16</th>\n",
       "      <td>1996</td>\n",
       "      <td>263</td>\n",
       "    </tr>\n",
       "    <tr>\n",
       "      <th>17</th>\n",
       "      <td>1997</td>\n",
       "      <td>289</td>\n",
       "    </tr>\n",
       "    <tr>\n",
       "      <th>18</th>\n",
       "      <td>1998</td>\n",
       "      <td>386</td>\n",
       "    </tr>\n",
       "    <tr>\n",
       "      <th>19</th>\n",
       "      <td>1999</td>\n",
       "      <td>341</td>\n",
       "    </tr>\n",
       "    <tr>\n",
       "      <th>20</th>\n",
       "      <td>2000</td>\n",
       "      <td>351</td>\n",
       "    </tr>\n",
       "    <tr>\n",
       "      <th>21</th>\n",
       "      <td>2001</td>\n",
       "      <td>482</td>\n",
       "    </tr>\n",
       "    <tr>\n",
       "      <th>22</th>\n",
       "      <td>2002</td>\n",
       "      <td>888</td>\n",
       "    </tr>\n",
       "    <tr>\n",
       "      <th>23</th>\n",
       "      <td>2003</td>\n",
       "      <td>796</td>\n",
       "    </tr>\n",
       "    <tr>\n",
       "      <th>24</th>\n",
       "      <td>2004</td>\n",
       "      <td>762</td>\n",
       "    </tr>\n",
       "    <tr>\n",
       "      <th>25</th>\n",
       "      <td>2005</td>\n",
       "      <td>939</td>\n",
       "    </tr>\n",
       "    <tr>\n",
       "      <th>26</th>\n",
       "      <td>2006</td>\n",
       "      <td>1022</td>\n",
       "    </tr>\n",
       "    <tr>\n",
       "      <th>27</th>\n",
       "      <td>2007</td>\n",
       "      <td>1197</td>\n",
       "    </tr>\n",
       "    <tr>\n",
       "      <th>28</th>\n",
       "      <td>2008</td>\n",
       "      <td>1457</td>\n",
       "    </tr>\n",
       "    <tr>\n",
       "      <th>29</th>\n",
       "      <td>2009</td>\n",
       "      <td>1460</td>\n",
       "    </tr>\n",
       "    <tr>\n",
       "      <th>30</th>\n",
       "      <td>2010</td>\n",
       "      <td>1255</td>\n",
       "    </tr>\n",
       "    <tr>\n",
       "      <th>31</th>\n",
       "      <td>2011</td>\n",
       "      <td>1216</td>\n",
       "    </tr>\n",
       "    <tr>\n",
       "      <th>32</th>\n",
       "      <td>2012</td>\n",
       "      <td>653</td>\n",
       "    </tr>\n",
       "    <tr>\n",
       "      <th>33</th>\n",
       "      <td>2013</td>\n",
       "      <td>544</td>\n",
       "    </tr>\n",
       "    <tr>\n",
       "      <th>34</th>\n",
       "      <td>2014</td>\n",
       "      <td>581</td>\n",
       "    </tr>\n",
       "    <tr>\n",
       "      <th>35</th>\n",
       "      <td>2015</td>\n",
       "      <td>607</td>\n",
       "    </tr>\n",
       "    <tr>\n",
       "      <th>36</th>\n",
       "      <td>2016</td>\n",
       "      <td>502</td>\n",
       "    </tr>\n",
       "  </tbody>\n",
       "</table>\n",
       "</div>"
      ],
      "text/plain": [
       "    year_of_release  name\n",
       "0              1980     9\n",
       "1              1981    63\n",
       "2              1982    36\n",
       "3              1983    17\n",
       "4              1984    14\n",
       "5              1985    14\n",
       "6              1986    21\n",
       "7              1987    16\n",
       "8              1988    15\n",
       "9              1989    17\n",
       "10             1990    16\n",
       "11             1991    41\n",
       "12             1992    43\n",
       "13             1993    60\n",
       "14             1994   121\n",
       "15             1995   219\n",
       "16             1996   263\n",
       "17             1997   289\n",
       "18             1998   386\n",
       "19             1999   341\n",
       "20             2000   351\n",
       "21             2001   482\n",
       "22             2002   888\n",
       "23             2003   796\n",
       "24             2004   762\n",
       "25             2005   939\n",
       "26             2006  1022\n",
       "27             2007  1197\n",
       "28             2008  1457\n",
       "29             2009  1460\n",
       "30             2010  1255\n",
       "31             2011  1216\n",
       "32             2012   653\n",
       "33             2013   544\n",
       "34             2014   581\n",
       "35             2015   607\n",
       "36             2016   502"
      ]
     },
     "execution_count": 48,
     "metadata": {},
     "output_type": "execute_result"
    }
   ],
   "source": [
    "games_by_year = games.groupby('year_of_release')['name'].count().reset_index()\n",
    "games_by_year"
   ]
  },
  {
   "attachments": {},
   "cell_type": "markdown",
   "metadata": {},
   "source": [
    "Ahora usaremos la función respectiva para realizar un gráfico de barras, que sería el gráfico más adecuado en este caso:"
   ]
  },
  {
   "cell_type": "code",
   "execution_count": 73,
   "metadata": {},
   "outputs": [
    {
     "data": {
      "image/png": "[encoded data removed]",
      "text/plain": [
       "<Figure size 1000x1000 with 1 Axes>"
      ]
     },
     "metadata": {},
     "output_type": "display_data"
    }
   ],
   "source": [
    "plt.figure(figsize=(10,10))\n",
    "sns.barplot(data=games_by_year, y='name', x='year_of_release', color='teal')\n",
    "plt.title('Número de videojuegos lanzados al año')\n",
    "plt.xticks(rotation=60)\n",
    "plt.show()\n"
   ]
  },
  {
   "attachments": {},
   "cell_type": "markdown",
   "metadata": {},
   "source": [
    "Se puede observar que hasta los años 90's el lanzamiento de títulos nuevos se muestra sin crecimiento. De hecho, en 1983 se dio la crisis de los videojuegos en Estados Unidos. Esto pudo haber causado un lento crecimiento en el lanzamiento anual (menos de 100 juegos al año) hasta 1991, a partir de donde la gráfica empieza a mostrar un cambio de tendencia. Esto posiblemente se dio gracias a la aceleración del mercado tecnológico. En esta década empezó el auge del sector tecnológico, generando mayor accesibilidad y popularización de la tecnología, a eso se suma la llegada del internet y los juegos en línea. Por último, la globalización también llevó a la expansión de los videojuegos hacia mercados nuevos. El pico lo tenemos en el año 2009, a partir del cual nuevamente hubo un claro decrecimiento. Recordemos que, si bien la industria tecnológica no fue directamente afectada en la crisis del 2008-2009, la desaceleración de la economía global pudo haber impactado en el mercado de videojuegos, sumado a la posible saturación del mercado, también a que con el tiempo, el desarrollo de juegos se ha estado volviendo cada vez más largo; por último, en estos años el modelo de negocio de la industria ha estado sufriendo cambios debido a la introducción de plataformas móviles y el crecimiento de los smartphones. Esta tendencia seguiría presente hasta el año 2016, donde dejamos de tener información al respecto.\n",
    "\n",
    "Se puede considerar información ciertamente significativa a partir del año 1995, donde solo en ese año se lograron lanzar 219 títulos nuevos y el crecimiento llevó a la consolidación de la industria en los años posteriores."
   ]
  },
  {
   "attachments": {},
   "cell_type": "markdown",
   "metadata": {},
   "source": [
    "## Ventas totales y anuales por plataforma"
   ]
  },
  {
   "attachments": {},
   "cell_type": "markdown",
   "metadata": {},
   "source": [
    "Para continuar con el análisis, esta vez graficaremos las ventas totales por plataforma, agrupando los datos y mostrándolos en un gráfico de barras:"
   ]
  },
  {
   "cell_type": "code",
   "execution_count": 83,
   "metadata": {},
   "outputs": [
    {
     "data": {
      "text/html": [
       "<div>\n",
       "<style scoped>\n",
       "    .dataframe tbody tr th:only-of-type {\n",
       "        vertical-align: middle;\n",
       "    }\n",
       "\n",
       "    .dataframe tbody tr th {\n",
       "        vertical-align: top;\n",
       "    }\n",
       "\n",
       "    .dataframe thead th {\n",
       "        text-align: right;\n",
       "    }\n",
       "</style>\n",
       "<table border=\"1\" class=\"dataframe\">\n",
       "  <thead>\n",
       "    <tr style=\"text-align: right;\">\n",
       "      <th></th>\n",
       "      <th>platform</th>\n",
       "      <th>total_sales</th>\n",
       "    </tr>\n",
       "  </thead>\n",
       "  <tbody>\n",
       "    <tr>\n",
       "      <th>0</th>\n",
       "      <td>ps2</td>\n",
       "      <td>1255.77</td>\n",
       "    </tr>\n",
       "    <tr>\n",
       "      <th>1</th>\n",
       "      <td>x360</td>\n",
       "      <td>971.42</td>\n",
       "    </tr>\n",
       "    <tr>\n",
       "      <th>2</th>\n",
       "      <td>ps3</td>\n",
       "      <td>939.65</td>\n",
       "    </tr>\n",
       "    <tr>\n",
       "      <th>3</th>\n",
       "      <td>wii</td>\n",
       "      <td>907.51</td>\n",
       "    </tr>\n",
       "    <tr>\n",
       "      <th>4</th>\n",
       "      <td>ds</td>\n",
       "      <td>806.12</td>\n",
       "    </tr>\n",
       "    <tr>\n",
       "      <th>5</th>\n",
       "      <td>ps</td>\n",
       "      <td>730.86</td>\n",
       "    </tr>\n",
       "    <tr>\n",
       "      <th>6</th>\n",
       "      <td>gba</td>\n",
       "      <td>317.85</td>\n",
       "    </tr>\n",
       "    <tr>\n",
       "      <th>7</th>\n",
       "      <td>ps4</td>\n",
       "      <td>314.14</td>\n",
       "    </tr>\n",
       "    <tr>\n",
       "      <th>8</th>\n",
       "      <td>psp</td>\n",
       "      <td>294.05</td>\n",
       "    </tr>\n",
       "    <tr>\n",
       "      <th>9</th>\n",
       "      <td>pc</td>\n",
       "      <td>259.52</td>\n",
       "    </tr>\n",
       "  </tbody>\n",
       "</table>\n",
       "</div>"
      ],
      "text/plain": [
       "  platform  total_sales\n",
       "0      ps2      1255.77\n",
       "1     x360       971.42\n",
       "2      ps3       939.65\n",
       "3      wii       907.51\n",
       "4       ds       806.12\n",
       "5       ps       730.86\n",
       "6      gba       317.85\n",
       "7      ps4       314.14\n",
       "8      psp       294.05\n",
       "9       pc       259.52"
      ]
     },
     "execution_count": 83,
     "metadata": {},
     "output_type": "execute_result"
    }
   ],
   "source": [
    "sales_by_platform = games.groupby('platform')['total_sales'].sum().sort_values(ascending=False).reset_index()\n",
    "sales_by_platform.head(10)"
   ]
  },
  {
   "cell_type": "code",
   "execution_count": 190,
   "metadata": {},
   "outputs": [
    {
     "data": {
      "image/png": "[encoded data removed]",
      "text/plain": [
       "<Figure size 1000x1000 with 1 Axes>"
      ]
     },
     "metadata": {},
     "output_type": "display_data"
    }
   ],
   "source": [
    "plt.figure(figsize=(10,10))\n",
    "sns.barplot(data=sales_by_platform, x='platform', y='total_sales', palette=sns.dark_palette(\"#69d\", reverse=True))\n",
    "plt.title('Ventas totales por plataforma')\n",
    "plt.xticks(rotation=60)\n",
    "plt.show()"
   ]
  },
  {
   "attachments": {},
   "cell_type": "markdown",
   "metadata": {},
   "source": [
    "De las plataformas en el dataset, PS2 es la que acapara más ventas totales de forma histórica, con más de 1250 millones de dólares. Esto es acorde a la información oficial, ya que esta es la consola más vendida de la historia y posiblemente la más influyente de las últimas décadas. A esta plataforma le sigue la consola más exitosa de Microsoft: Xbox 360, con alrededor de 970 millones de dólares en ventas totales. Su contemporáneo y competidor directo, PS3, es quien sigue en la lista, por no mucho: 939 millones de dólares en ventas. Luego le siguen las plataformas de Nintendo: Wii y DS. La última consola representativa es la PS, ya que desde GBA en adelante las ventas se reducen a la mitad. \n",
    "\n",
    "Realizaremos un análisis temporal de las ventas de estas plataformas para observar su comportamiento. Para esto, crearemos un dataset que contenga datos de estas plataformas y luego lo graficaremos."
   ]
  },
  {
   "cell_type": "code",
   "execution_count": 84,
   "metadata": {},
   "outputs": [
    {
     "data": {
      "text/html": [
       "<div>\n",
       "<style scoped>\n",
       "    .dataframe tbody tr th:only-of-type {\n",
       "        vertical-align: middle;\n",
       "    }\n",
       "\n",
       "    .dataframe tbody tr th {\n",
       "        vertical-align: top;\n",
       "    }\n",
       "\n",
       "    .dataframe thead th {\n",
       "        text-align: right;\n",
       "    }\n",
       "</style>\n",
       "<table border=\"1\" class=\"dataframe\">\n",
       "  <thead>\n",
       "    <tr style=\"text-align: right;\">\n",
       "      <th></th>\n",
       "      <th>name</th>\n",
       "      <th>platform</th>\n",
       "      <th>year_of_release</th>\n",
       "      <th>genre</th>\n",
       "      <th>na_sales</th>\n",
       "      <th>eu_sales</th>\n",
       "      <th>jp_sales</th>\n",
       "      <th>other_sales</th>\n",
       "      <th>critic_score</th>\n",
       "      <th>user_score</th>\n",
       "      <th>rating</th>\n",
       "      <th>rating_esrb</th>\n",
       "      <th>total_sales</th>\n",
       "    </tr>\n",
       "  </thead>\n",
       "  <tbody>\n",
       "    <tr>\n",
       "      <th>0</th>\n",
       "      <td>wii sports</td>\n",
       "      <td>wii</td>\n",
       "      <td>2006</td>\n",
       "      <td>sports</td>\n",
       "      <td>41.36</td>\n",
       "      <td>28.96</td>\n",
       "      <td>3.77</td>\n",
       "      <td>8.45</td>\n",
       "      <td>76.0</td>\n",
       "      <td>8.0</td>\n",
       "      <td>e</td>\n",
       "      <td>everyone</td>\n",
       "      <td>82.54</td>\n",
       "    </tr>\n",
       "    <tr>\n",
       "      <th>2</th>\n",
       "      <td>mario kart wii</td>\n",
       "      <td>wii</td>\n",
       "      <td>2008</td>\n",
       "      <td>racing</td>\n",
       "      <td>15.68</td>\n",
       "      <td>12.76</td>\n",
       "      <td>3.79</td>\n",
       "      <td>3.29</td>\n",
       "      <td>82.0</td>\n",
       "      <td>8.3</td>\n",
       "      <td>e</td>\n",
       "      <td>everyone</td>\n",
       "      <td>35.52</td>\n",
       "    </tr>\n",
       "    <tr>\n",
       "      <th>3</th>\n",
       "      <td>wii sports resort</td>\n",
       "      <td>wii</td>\n",
       "      <td>2009</td>\n",
       "      <td>sports</td>\n",
       "      <td>15.61</td>\n",
       "      <td>10.93</td>\n",
       "      <td>3.28</td>\n",
       "      <td>2.95</td>\n",
       "      <td>80.0</td>\n",
       "      <td>8.0</td>\n",
       "      <td>e</td>\n",
       "      <td>everyone</td>\n",
       "      <td>32.77</td>\n",
       "    </tr>\n",
       "    <tr>\n",
       "      <th>6</th>\n",
       "      <td>new super mario bros.</td>\n",
       "      <td>ds</td>\n",
       "      <td>2006</td>\n",
       "      <td>platform</td>\n",
       "      <td>11.28</td>\n",
       "      <td>9.14</td>\n",
       "      <td>6.50</td>\n",
       "      <td>2.88</td>\n",
       "      <td>89.0</td>\n",
       "      <td>8.5</td>\n",
       "      <td>e</td>\n",
       "      <td>everyone</td>\n",
       "      <td>29.80</td>\n",
       "    </tr>\n",
       "    <tr>\n",
       "      <th>7</th>\n",
       "      <td>wii play</td>\n",
       "      <td>wii</td>\n",
       "      <td>2006</td>\n",
       "      <td>misc</td>\n",
       "      <td>13.96</td>\n",
       "      <td>9.18</td>\n",
       "      <td>2.93</td>\n",
       "      <td>2.84</td>\n",
       "      <td>58.0</td>\n",
       "      <td>6.6</td>\n",
       "      <td>e</td>\n",
       "      <td>everyone</td>\n",
       "      <td>28.91</td>\n",
       "    </tr>\n",
       "  </tbody>\n",
       "</table>\n",
       "</div>"
      ],
      "text/plain": [
       "                    name platform  year_of_release     genre  na_sales  \\\n",
       "0             wii sports      wii             2006    sports     41.36   \n",
       "2         mario kart wii      wii             2008    racing     15.68   \n",
       "3      wii sports resort      wii             2009    sports     15.61   \n",
       "6  new super mario bros.       ds             2006  platform     11.28   \n",
       "7               wii play      wii             2006      misc     13.96   \n",
       "\n",
       "   eu_sales  jp_sales  other_sales  critic_score  user_score rating  \\\n",
       "0     28.96      3.77         8.45          76.0         8.0      e   \n",
       "2     12.76      3.79         3.29          82.0         8.3      e   \n",
       "3     10.93      3.28         2.95          80.0         8.0      e   \n",
       "6      9.14      6.50         2.88          89.0         8.5      e   \n",
       "7      9.18      2.93         2.84          58.0         6.6      e   \n",
       "\n",
       "  rating_esrb  total_sales  \n",
       "0    everyone        82.54  \n",
       "2    everyone        35.52  \n",
       "3    everyone        32.77  \n",
       "6    everyone        29.80  \n",
       "7    everyone        28.91  "
      ]
     },
     "execution_count": 84,
     "metadata": {},
     "output_type": "execute_result"
    }
   ],
   "source": [
    "games_platform_most = games.query(\"platform == 'ps2' or platform == 'x360' or platform == 'ps3' or platform == 'wii' or platform == 'ds' or platform == 'ps'\")\n",
    "games_platform_most.head()"
   ]
  },
  {
   "attachments": {},
   "cell_type": "markdown",
   "metadata": {},
   "source": [
    "Ahora graficaremos con el tiempo en el eje \"x\", las ventas en el eje \"y\" y daremos diferentes líneas para cada plataforma. Esto para poder observar el comportamiento de las plataformas a lo largo del tiempo."
   ]
  },
  {
   "cell_type": "code",
   "execution_count": 177,
   "metadata": {},
   "outputs": [
    {
     "data": {
      "image/png": "[encoded data removed]",
      "text/plain": [
       "<Figure size 1500x1000 with 1 Axes>"
      ]
     },
     "metadata": {},
     "output_type": "display_data"
    }
   ],
   "source": [
    "plt.figure(figsize=(15, 10))\n",
    "sns.lineplot(data=games_platform_most.query(\"year_of_release >= 1995\"), \n",
    "            x='year_of_release',\n",
    "            y='total_sales',\n",
    "            hue='platform',\n",
    "            style='platform',\n",
    "            estimator='sum',\n",
    "            markers=True,\n",
    "            dashes=False,\n",
    "            errorbar=None\n",
    ")\n",
    "plt.title('Ventas anuales totales por plataforma')\n",
    "plt.show()"
   ]
  },
  {
   "attachments": {},
   "cell_type": "markdown",
   "metadata": {},
   "source": [
    "En este gráfico observamos el comportamiento a lo largo de los años de las seis consolas más exitosas según nuestros datos. Tomamos solo desde los años 1995 en adelante, debido a que la consola DS tenía un comportamiento atípico. En este análisis lo importante es observar el periodo de duración de una plataforma exitosa. En términos generales, se puede observar que una plataforma exitosa tiene alrededor de diez años de vida útil. Usaremos como muestra a las plataformas de Sony: PS, PS2 y PS3 de este gráfico, ya que en general, cada lanzamiento de una consola de nueva generación de Sony (ejemplo) viene acompañada de su análogo en la competencia, sea Nintendo o Microsoft (Xbox). El primer PS, empieza a tener información desde 1995, alcanza su pico unos tres años después (1998) y empieza a desacelerar hasta el 2003 aprox. Un poco antes, en el 2000, se lanza el PS2, este alcanzando su pico en los años 2002 y 2004, y debido a su excepcional recepción su vida útil se alarga hasta el 2011. Unos años antes se lanza el PS3 (2007), el cual llega a su pico cuatro años después (2011) y aún se muestra vigente para el 2006. \n",
    "\n",
    "En base a lo descrito tenemos un proceso cíclico, donde una plataforma se lanza, llega a su auge entre tres a cuatro años después de su lanzamiento, y antes de que quede obsoleta se lanza una generación sucesora, lo cual a la vez acelera el proceso de obsolescencia. Como aproximación podríamos concluir que las plataformas exitosas tienen una vida útil de 8 a 10 años. El detalle de este análisis es que cometemos un sesgo al extraer conclusiones en plataformas ciertamente exitosas. Esta aproximación debe ser contrastada con una distribución que muestre la vida útil de todas las plataformas y así poder generalizar de forma más consistente. Para esto, agruparemos nuestra data completa en base a la plataforma y extraeremos el mínimo y máximo registro del año, para luego obtener una aproximación del tiempo de vida útil restando estos valores:"
   ]
  },
  {
   "cell_type": "code",
   "execution_count": 155,
   "metadata": {},
   "outputs": [
    {
     "data": {
      "text/html": [
       "<div>\n",
       "<style scoped>\n",
       "    .dataframe tbody tr th:only-of-type {\n",
       "        vertical-align: middle;\n",
       "    }\n",
       "\n",
       "    .dataframe tbody tr th {\n",
       "        vertical-align: top;\n",
       "    }\n",
       "\n",
       "    .dataframe thead th {\n",
       "        text-align: right;\n",
       "    }\n",
       "</style>\n",
       "<table border=\"1\" class=\"dataframe\">\n",
       "  <thead>\n",
       "    <tr style=\"text-align: right;\">\n",
       "      <th></th>\n",
       "      <th>min</th>\n",
       "      <th>max</th>\n",
       "      <th>lifetime</th>\n",
       "    </tr>\n",
       "    <tr>\n",
       "      <th>platform</th>\n",
       "      <th></th>\n",
       "      <th></th>\n",
       "      <th></th>\n",
       "    </tr>\n",
       "  </thead>\n",
       "  <tbody>\n",
       "    <tr>\n",
       "      <th>2600</th>\n",
       "      <td>1980</td>\n",
       "      <td>1989</td>\n",
       "      <td>9</td>\n",
       "    </tr>\n",
       "    <tr>\n",
       "      <th>3do</th>\n",
       "      <td>1994</td>\n",
       "      <td>1995</td>\n",
       "      <td>1</td>\n",
       "    </tr>\n",
       "    <tr>\n",
       "      <th>3ds</th>\n",
       "      <td>2011</td>\n",
       "      <td>2016</td>\n",
       "      <td>5</td>\n",
       "    </tr>\n",
       "    <tr>\n",
       "      <th>dc</th>\n",
       "      <td>1998</td>\n",
       "      <td>2008</td>\n",
       "      <td>10</td>\n",
       "    </tr>\n",
       "    <tr>\n",
       "      <th>ds</th>\n",
       "      <td>1985</td>\n",
       "      <td>2013</td>\n",
       "      <td>28</td>\n",
       "    </tr>\n",
       "    <tr>\n",
       "      <th>gb</th>\n",
       "      <td>1988</td>\n",
       "      <td>2001</td>\n",
       "      <td>13</td>\n",
       "    </tr>\n",
       "    <tr>\n",
       "      <th>gba</th>\n",
       "      <td>2000</td>\n",
       "      <td>2007</td>\n",
       "      <td>7</td>\n",
       "    </tr>\n",
       "    <tr>\n",
       "      <th>gc</th>\n",
       "      <td>2001</td>\n",
       "      <td>2007</td>\n",
       "      <td>6</td>\n",
       "    </tr>\n",
       "    <tr>\n",
       "      <th>gen</th>\n",
       "      <td>1990</td>\n",
       "      <td>1994</td>\n",
       "      <td>4</td>\n",
       "    </tr>\n",
       "    <tr>\n",
       "      <th>gg</th>\n",
       "      <td>1992</td>\n",
       "      <td>1992</td>\n",
       "      <td>0</td>\n",
       "    </tr>\n",
       "    <tr>\n",
       "      <th>n64</th>\n",
       "      <td>1996</td>\n",
       "      <td>2002</td>\n",
       "      <td>6</td>\n",
       "    </tr>\n",
       "    <tr>\n",
       "      <th>nes</th>\n",
       "      <td>1983</td>\n",
       "      <td>1994</td>\n",
       "      <td>11</td>\n",
       "    </tr>\n",
       "    <tr>\n",
       "      <th>ng</th>\n",
       "      <td>1993</td>\n",
       "      <td>1996</td>\n",
       "      <td>3</td>\n",
       "    </tr>\n",
       "    <tr>\n",
       "      <th>pc</th>\n",
       "      <td>1985</td>\n",
       "      <td>2016</td>\n",
       "      <td>31</td>\n",
       "    </tr>\n",
       "    <tr>\n",
       "      <th>pcfx</th>\n",
       "      <td>1996</td>\n",
       "      <td>1996</td>\n",
       "      <td>0</td>\n",
       "    </tr>\n",
       "    <tr>\n",
       "      <th>ps</th>\n",
       "      <td>1994</td>\n",
       "      <td>2003</td>\n",
       "      <td>9</td>\n",
       "    </tr>\n",
       "    <tr>\n",
       "      <th>ps2</th>\n",
       "      <td>2000</td>\n",
       "      <td>2011</td>\n",
       "      <td>11</td>\n",
       "    </tr>\n",
       "    <tr>\n",
       "      <th>ps3</th>\n",
       "      <td>2006</td>\n",
       "      <td>2016</td>\n",
       "      <td>10</td>\n",
       "    </tr>\n",
       "    <tr>\n",
       "      <th>ps4</th>\n",
       "      <td>2013</td>\n",
       "      <td>2016</td>\n",
       "      <td>3</td>\n",
       "    </tr>\n",
       "    <tr>\n",
       "      <th>psp</th>\n",
       "      <td>2004</td>\n",
       "      <td>2015</td>\n",
       "      <td>11</td>\n",
       "    </tr>\n",
       "    <tr>\n",
       "      <th>psv</th>\n",
       "      <td>2011</td>\n",
       "      <td>2016</td>\n",
       "      <td>5</td>\n",
       "    </tr>\n",
       "    <tr>\n",
       "      <th>sat</th>\n",
       "      <td>1994</td>\n",
       "      <td>1999</td>\n",
       "      <td>5</td>\n",
       "    </tr>\n",
       "    <tr>\n",
       "      <th>scd</th>\n",
       "      <td>1993</td>\n",
       "      <td>1994</td>\n",
       "      <td>1</td>\n",
       "    </tr>\n",
       "    <tr>\n",
       "      <th>snes</th>\n",
       "      <td>1990</td>\n",
       "      <td>1999</td>\n",
       "      <td>9</td>\n",
       "    </tr>\n",
       "    <tr>\n",
       "      <th>tg16</th>\n",
       "      <td>1995</td>\n",
       "      <td>1995</td>\n",
       "      <td>0</td>\n",
       "    </tr>\n",
       "    <tr>\n",
       "      <th>wii</th>\n",
       "      <td>2006</td>\n",
       "      <td>2016</td>\n",
       "      <td>10</td>\n",
       "    </tr>\n",
       "    <tr>\n",
       "      <th>wiiu</th>\n",
       "      <td>2012</td>\n",
       "      <td>2016</td>\n",
       "      <td>4</td>\n",
       "    </tr>\n",
       "    <tr>\n",
       "      <th>ws</th>\n",
       "      <td>1999</td>\n",
       "      <td>2001</td>\n",
       "      <td>2</td>\n",
       "    </tr>\n",
       "    <tr>\n",
       "      <th>x360</th>\n",
       "      <td>2005</td>\n",
       "      <td>2016</td>\n",
       "      <td>11</td>\n",
       "    </tr>\n",
       "    <tr>\n",
       "      <th>xb</th>\n",
       "      <td>2000</td>\n",
       "      <td>2008</td>\n",
       "      <td>8</td>\n",
       "    </tr>\n",
       "    <tr>\n",
       "      <th>xone</th>\n",
       "      <td>2013</td>\n",
       "      <td>2016</td>\n",
       "      <td>3</td>\n",
       "    </tr>\n",
       "  </tbody>\n",
       "</table>\n",
       "</div>"
      ],
      "text/plain": [
       "           min   max  lifetime\n",
       "platform                      \n",
       "2600      1980  1989         9\n",
       "3do       1994  1995         1\n",
       "3ds       2011  2016         5\n",
       "dc        1998  2008        10\n",
       "ds        1985  2013        28\n",
       "gb        1988  2001        13\n",
       "gba       2000  2007         7\n",
       "gc        2001  2007         6\n",
       "gen       1990  1994         4\n",
       "gg        1992  1992         0\n",
       "n64       1996  2002         6\n",
       "nes       1983  1994        11\n",
       "ng        1993  1996         3\n",
       "pc        1985  2016        31\n",
       "pcfx      1996  1996         0\n",
       "ps        1994  2003         9\n",
       "ps2       2000  2011        11\n",
       "ps3       2006  2016        10\n",
       "ps4       2013  2016         3\n",
       "psp       2004  2015        11\n",
       "psv       2011  2016         5\n",
       "sat       1994  1999         5\n",
       "scd       1993  1994         1\n",
       "snes      1990  1999         9\n",
       "tg16      1995  1995         0\n",
       "wii       2006  2016        10\n",
       "wiiu      2012  2016         4\n",
       "ws        1999  2001         2\n",
       "x360      2005  2016        11\n",
       "xb        2000  2008         8\n",
       "xone      2013  2016         3"
      ]
     },
     "execution_count": 155,
     "metadata": {},
     "output_type": "execute_result"
    }
   ],
   "source": [
    "platform_lifetime = games.groupby('platform')['year_of_release'].agg(['min', 'max'])\n",
    "platform_lifetime['lifetime'] = platform_lifetime['max'] - platform_lifetime['min']\n",
    "platform_lifetime.head(10)"
   ]
  },
  {
   "attachments": {},
   "cell_type": "markdown",
   "metadata": {},
   "source": [
    "En esta tabla tenemos una columna que aproxima la vida útil de cada plataforma: ``lifetime``, la cual es la diferencia entre el año máximo y mínimo de lanzamiento de videojuegos que se registran para cada plataforma. Para analizar los valores, obtendremos sus estadísticos principales y luego un gráfico de caja para observar su distribución:"
   ]
  },
  {
   "cell_type": "code",
   "execution_count": 156,
   "metadata": {},
   "outputs": [
    {
     "data": {
      "text/plain": [
       "count    31.000000\n",
       "mean      7.612903\n",
       "std       6.998464\n",
       "min       0.000000\n",
       "25%       3.000000\n",
       "50%       6.000000\n",
       "75%      10.000000\n",
       "max      31.000000\n",
       "Name: lifetime, dtype: float64"
      ]
     },
     "execution_count": 156,
     "metadata": {},
     "output_type": "execute_result"
    }
   ],
   "source": [
    "platform_lifetime['lifetime'].describe()"
   ]
  },
  {
   "cell_type": "code",
   "execution_count": 159,
   "metadata": {},
   "outputs": [
    {
     "data": {
      "image/png": "[encoded data removed]",
      "text/plain": [
       "<Figure size 640x480 with 1 Axes>"
      ]
     },
     "metadata": {},
     "output_type": "display_data"
    }
   ],
   "source": [
    "platform_lifetime.boxplot(column='lifetime')\n",
    "plt.show()"
   ]
  },
  {
   "attachments": {},
   "cell_type": "markdown",
   "metadata": {},
   "source": [
    "De la tabla y el gráfico notamos que tenemos dos valores atípicos: para plataformas de PC (31 años) y Nintendo DS (28 años), siendo claros casos inusuales de plataformas con una muy larga vida útil. La media está alejada de la mediana por los outliers, así que tomaremos a la mediana que está en 6, el cual es un valor más representativo de la vida útil de una plataforma promedio. También tendremos en consideración del análisis anterior que llegar al pico de ventas toma alrededor de 4 años, periodo luego del cual las plataformas empiezan a desacelerar y decrecer hasta ser descontinuadas. Ya que nuestro análisis incluirá a las plataformas con mayor posible impacto, ordenaremos nuestro dataset agrupado y así lograremos ver las plataformas más recientes:"
   ]
  },
  {
   "cell_type": "code",
   "execution_count": 162,
   "metadata": {},
   "outputs": [
    {
     "data": {
      "text/html": [
       "<div>\n",
       "<style scoped>\n",
       "    .dataframe tbody tr th:only-of-type {\n",
       "        vertical-align: middle;\n",
       "    }\n",
       "\n",
       "    .dataframe tbody tr th {\n",
       "        vertical-align: top;\n",
       "    }\n",
       "\n",
       "    .dataframe thead th {\n",
       "        text-align: right;\n",
       "    }\n",
       "</style>\n",
       "<table border=\"1\" class=\"dataframe\">\n",
       "  <thead>\n",
       "    <tr style=\"text-align: right;\">\n",
       "      <th></th>\n",
       "      <th>min</th>\n",
       "      <th>max</th>\n",
       "      <th>lifetime</th>\n",
       "    </tr>\n",
       "    <tr>\n",
       "      <th>platform</th>\n",
       "      <th></th>\n",
       "      <th></th>\n",
       "      <th></th>\n",
       "    </tr>\n",
       "  </thead>\n",
       "  <tbody>\n",
       "    <tr>\n",
       "      <th>xone</th>\n",
       "      <td>2013</td>\n",
       "      <td>2016</td>\n",
       "      <td>3</td>\n",
       "    </tr>\n",
       "    <tr>\n",
       "      <th>ps4</th>\n",
       "      <td>2013</td>\n",
       "      <td>2016</td>\n",
       "      <td>3</td>\n",
       "    </tr>\n",
       "    <tr>\n",
       "      <th>wiiu</th>\n",
       "      <td>2012</td>\n",
       "      <td>2016</td>\n",
       "      <td>4</td>\n",
       "    </tr>\n",
       "    <tr>\n",
       "      <th>psv</th>\n",
       "      <td>2011</td>\n",
       "      <td>2016</td>\n",
       "      <td>5</td>\n",
       "    </tr>\n",
       "    <tr>\n",
       "      <th>3ds</th>\n",
       "      <td>2011</td>\n",
       "      <td>2016</td>\n",
       "      <td>5</td>\n",
       "    </tr>\n",
       "    <tr>\n",
       "      <th>wii</th>\n",
       "      <td>2006</td>\n",
       "      <td>2016</td>\n",
       "      <td>10</td>\n",
       "    </tr>\n",
       "    <tr>\n",
       "      <th>ps3</th>\n",
       "      <td>2006</td>\n",
       "      <td>2016</td>\n",
       "      <td>10</td>\n",
       "    </tr>\n",
       "    <tr>\n",
       "      <th>x360</th>\n",
       "      <td>2005</td>\n",
       "      <td>2016</td>\n",
       "      <td>11</td>\n",
       "    </tr>\n",
       "    <tr>\n",
       "      <th>psp</th>\n",
       "      <td>2004</td>\n",
       "      <td>2015</td>\n",
       "      <td>11</td>\n",
       "    </tr>\n",
       "    <tr>\n",
       "      <th>gc</th>\n",
       "      <td>2001</td>\n",
       "      <td>2007</td>\n",
       "      <td>6</td>\n",
       "    </tr>\n",
       "  </tbody>\n",
       "</table>\n",
       "</div>"
      ],
      "text/plain": [
       "           min   max  lifetime\n",
       "platform                      \n",
       "xone      2013  2016         3\n",
       "ps4       2013  2016         3\n",
       "wiiu      2012  2016         4\n",
       "psv       2011  2016         5\n",
       "3ds       2011  2016         5\n",
       "wii       2006  2016        10\n",
       "ps3       2006  2016        10\n",
       "x360      2005  2016        11\n",
       "psp       2004  2015        11\n",
       "gc        2001  2007         6"
      ]
     },
     "execution_count": 162,
     "metadata": {},
     "output_type": "execute_result"
    }
   ],
   "source": [
    "platform_lifetime.sort_values(by='min', ascending=False).head(10)"
   ]
  },
  {
   "attachments": {},
   "cell_type": "markdown",
   "metadata": {},
   "source": [
    "Podemos ver que las plataformas más recientes y con posible oportunidad de crecimiento son Xbox One, PS4, Nintendo WiiU. Incluso se podría incluir a PSV y 3DS, pero teniendo en cuenta que son consolas que ya están en decrecimiento por su antiguedad. En base a este criterio, para analizar posibles plataformas y videojuegos exitosos, tomaríamos datos desde estos últimos lanzamientos: 2011. Las demás ya han pasado el tiempo medio de vida útil y algunos ya tienen sus sucesores en el mercado, vaticinando su próxima obsolescencia."
   ]
  },
  {
   "attachments": {},
   "cell_type": "markdown",
   "metadata": {},
   "source": [
    "**Decisión final sobre el periodo relevante de análisis, por ahora**"
   ]
  },
  {
   "attachments": {},
   "cell_type": "markdown",
   "metadata": {},
   "source": [
    "Teniendo en cuenta el análisis previo de un periodo de vida útil medio de unos 6 años (de 8 a 10 años para plataformas exitosas), que las plataformas más recientes empezaron entre los años 2011 y 2013, y que nuestro objetivo es determinar videojuegos potencialmente exitosos (rentables, en otras palabras), tomaremos datos desde el 2010 (seis años menos que los valores máximos, los cuales también están incompletos y en desarrollo al momento de tener el dataset). Tengamos en mente que lo ideal sería usar datos más recientes, como del año 2016 o 2015, para realizar una proyección que capture tendencias recientes, pero en nuestro contexto usar este intervalo corto de tiempo quita el componente cíclico del análisis y mucha información. Obtendremos nuestro dataset final filtrando a ``year_of_release`` a partir de 2010:"
   ]
  },
  {
   "cell_type": "code",
   "execution_count": 178,
   "metadata": {},
   "outputs": [
    {
     "name": "stdout",
     "output_type": "stream",
     "text": [
      "<class 'pandas.core.frame.DataFrame'>\n",
      "Int64Index: 5358 entries, 14 to 16712\n",
      "Data columns (total 13 columns):\n",
      " #   Column           Non-Null Count  Dtype  \n",
      "---  ------           --------------  -----  \n",
      " 0   name             5358 non-null   object \n",
      " 1   platform         5358 non-null   object \n",
      " 2   year_of_release  5358 non-null   int32  \n",
      " 3   genre            5358 non-null   object \n",
      " 4   na_sales         5358 non-null   float64\n",
      " 5   eu_sales         5358 non-null   float64\n",
      " 6   jp_sales         5358 non-null   float64\n",
      " 7   other_sales      5358 non-null   float64\n",
      " 8   critic_score     2369 non-null   float64\n",
      " 9   user_score       2555 non-null   float64\n",
      " 10  rating           5358 non-null   object \n",
      " 11  rating_esrb      5358 non-null   object \n",
      " 12  total_sales      5358 non-null   float64\n",
      "dtypes: float64(7), int32(1), object(5)\n",
      "memory usage: 565.1+ KB\n"
     ]
    }
   ],
   "source": [
    "games_relevant = games.query(\"year_of_release >= 2010\")\n",
    "games_relevant.info()"
   ]
  },
  {
   "attachments": {},
   "cell_type": "markdown",
   "metadata": {},
   "source": [
    "Tenemos aproximadamente la tercera parte de datos de nuestro dataset original. Nuestras columnas referidas a *score* mostraron una reducción proporcional en sus valores ausentes, sin grandes repercusiones. Con estos datos intentaremos determinar a las plataformas más \"exitosas\"."
   ]
  },
  {
   "attachments": {},
   "cell_type": "markdown",
   "metadata": {},
   "source": [
    "## Plataformas potencialmente rentables"
   ]
  },
  {
   "attachments": {},
   "cell_type": "markdown",
   "metadata": {},
   "source": [
    "Ya que hemos filtrado para el periodo 2010 en adelante, ya no contamos con plataformas antiguas que realmente no servían al análisis. Para analizar el comportamiento de las ventas del periodo relevante, nuevamente graficaremos las ventas totales anuales por plataforma utilizando el gráfico de líneas de Seaborn:"
   ]
  },
  {
   "cell_type": "code",
   "execution_count": 188,
   "metadata": {},
   "outputs": [
    {
     "data": {
      "image/png": "[encoded data removed]",
      "text/plain": [
       "<Figure size 1500x1000 with 1 Axes>"
      ]
     },
     "metadata": {},
     "output_type": "display_data"
    }
   ],
   "source": [
    "plt.figure(figsize=(15, 10))\n",
    "sns.lineplot(\n",
    "    data=games_relevant,\n",
    "    y='total_sales',\n",
    "    x='year_of_release',\n",
    "    hue='platform', \n",
    "    estimator='sum',\n",
    "    style='platform',\n",
    "    dashes=False,\n",
    "    markers=True,\n",
    "    errorbar=None,\n",
    "    palette='dark'\n",
    ")\n",
    "plt.title('Ventas anuales totales por plataforma')\n",
    "plt.show()"
   ]
  },
  {
   "attachments": {},
   "cell_type": "markdown",
   "metadata": {},
   "source": [
    "Nuestro gráfico presenta a algunas plataformas que no son importantes y que agregan ruido a la información. Solo podemos destacar que muchos de ellos debido a su antiguedad ya están en su etapa final de vida, con cada vez menos ventas. Las líderes solían ser \"x360\" y \"ps3\", pero sus sucesoras son las que muestran un crecimiento potencial (\"xone\" y \"ps4\"). Para tomar en cuenta a las recientes plataformas dada su vida útil, usaremos a las cinco más recientes que determinamos líneas arriba: *xone, ps4, wiiu, psv y 3ds*. \n",
    "\n",
    "Haremos una excepción para el caso de \"pc\". Es conocido el amplio alcance que tienen las PC a nivel global, y aunque su nivel de ventas en juegos no sea creciente, tienen mucho margen potencial de crecimiento. También cuenta con gran diversidad de juegos que se adaptan a él, contrario a las plataformas y muchos de sus juegos propietarios. Por último, este gran margen de mejora puede hacer que con el tiempo las tendencias en la industria de videojuegos cambien, ofreciendo oportunidades emergentes, pero en el peor de los casos no se espera la desaparición absoluta de esta plataforma. En conclusión, esta plataforma por definición siempre presentará un gran potencial de crecimiento.\n",
    "\n",
    "Entonces, el gráfico solo contendrá información de estas plataformas seleccionadas:"
   ]
  },
  {
   "cell_type": "code",
   "execution_count": 200,
   "metadata": {},
   "outputs": [
    {
     "data": {
      "image/png": "[encoded data removed]",
      "text/plain": [
       "<Figure size 1500x1000 with 1 Axes>"
      ]
     },
     "metadata": {},
     "output_type": "display_data"
    }
   ],
   "source": [
    "plt.figure(figsize=(15, 10))\n",
    "sns.lineplot(\n",
    "    data=games_relevant.query(\"platform == 'xone' or platform == 'ps4' or platform == 'wiiu' or platform == 'psv' or platform == '3ds' or platform =='pc'\"),\n",
    "    y='total_sales',\n",
    "    x='year_of_release',\n",
    "    hue='platform', \n",
    "    estimator='sum',\n",
    "    style='platform',\n",
    "    dashes=False,\n",
    "    markers=True,\n",
    "    errorbar=None,\n",
    "    palette='dark'\n",
    ")\n",
    "plt.title('Ventas anuales totales por plataforma')\n",
    "plt.show()"
   ]
  },
  {
   "attachments": {},
   "cell_type": "markdown",
   "metadata": {},
   "source": [
    "En este gráfico notamos la tendencia explicada anteriormente. Las plataformas que parecen haber llegado a su pico y estar en reducción son todas las demás anteriores obviadas y 3DS, PSV y quizá Wii U. Mientras que las *recientemente* lanzadas PS4 y Xbox One muestran una tendencia creciente. Las PC's aún parecen estar decreciendo, aunque esta plataforma siempre tendrá un gran margen potencial. No olvidemos que los datos del 2016 están incompletos y posiblemente no capturan la tendencia reciente de estas plataformas. Esta información nos servirá para determinar a las plataformas potencialmente rentables."
   ]
  },
  {
   "attachments": {},
   "cell_type": "markdown",
   "metadata": {},
   "source": [
    "**Decisión final sobre las plataformas potencialmente rentables**"
   ]
  },
  {
   "attachments": {},
   "cell_type": "markdown",
   "metadata": {},
   "source": [
    "Después de haber filtrado y justificado el desarrollo y evolución de las diversas plataformas, nos quedamos con seis plataformas, principalmente por el posible potencial que presenta su relativo reciente lanzamiento (exceptuando PC, por su naturaleza propia): *PS4, 3DS, Xbox One, Wii U, PC y PSV*.\n",
    "\n",
    "Nuestro dataset para continuar el análisis contendrá información de estas plataformas. Observando el gráfico tenemos que el periodo relevante para estas plataformas empieza en el 2011. Tomar datos desde el 2010 no sería útil (solo para PC). Crearemos un nuevo dataset con información acorde a estos requerimientos:"
   ]
  },
  {
   "cell_type": "code",
   "execution_count": 201,
   "metadata": {},
   "outputs": [
    {
     "name": "stdout",
     "output_type": "stream",
     "text": [
      "<class 'pandas.core.frame.DataFrame'>\n",
      "Int64Index: 2142 entries, 31 to 16712\n",
      "Data columns (total 13 columns):\n",
      " #   Column           Non-Null Count  Dtype  \n",
      "---  ------           --------------  -----  \n",
      " 0   name             2142 non-null   object \n",
      " 1   platform         2142 non-null   object \n",
      " 2   year_of_release  2142 non-null   int32  \n",
      " 3   genre            2142 non-null   object \n",
      " 4   na_sales         2142 non-null   float64\n",
      " 5   eu_sales         2142 non-null   float64\n",
      " 6   jp_sales         2142 non-null   float64\n",
      " 7   other_sales      2142 non-null   float64\n",
      " 8   critic_score     1104 non-null   float64\n",
      " 9   user_score       1178 non-null   float64\n",
      " 10  rating           2142 non-null   object \n",
      " 11  rating_esrb      2142 non-null   object \n",
      " 12  total_sales      2142 non-null   float64\n",
      "dtypes: float64(7), int32(1), object(5)\n",
      "memory usage: 225.9+ KB\n"
     ]
    }
   ],
   "source": [
    "games_potentially_profitable = games.query(\"year_of_release >= 2011 and platform in ('ps4', '3ds', 'xone', 'wiiu', 'pc', 'psv')\")\n",
    "games_potentially_profitable.info()"
   ]
  },
  {
   "attachments": {},
   "cell_type": "markdown",
   "metadata": {},
   "source": [
    "## Ventas globales por plataforma"
   ]
  },
  {
   "attachments": {},
   "cell_type": "markdown",
   "metadata": {},
   "source": [
    "Ya que tenemos a las plataformas con más potencial reciente para nuestro análisis, una forma de analizar su éxito es la cantidad de ventas totales de cada una. Ya que en apartados anteriores vimos su evolución, ahora lo analizaremos en diagramas de caja para observar si existen grandes diferencias entre sus ventas totales:"
   ]
  },
  {
   "cell_type": "code",
   "execution_count": 210,
   "metadata": {},
   "outputs": [
    {
     "data": {
      "image/png": "[encoded data removed]",
      "text/plain": [
       "<Figure size 1500x1000 with 1 Axes>"
      ]
     },
     "metadata": {},
     "output_type": "display_data"
    }
   ],
   "source": [
    "plt.figure(figsize=(15, 10))\n",
    "sns.boxplot(data=games_potentially_profitable, y='total_sales', x='platform', palette=sns.dark_palette(\"#69d\", reverse=True))\n",
    "plt.title('Distribución de las ventas por plataforma')\n",
    "plt.ylim(-0.1, 2)\n",
    "plt.show()"
   ]
  },
  {
   "attachments": {},
   "cell_type": "markdown",
   "metadata": {},
   "source": [
    "Agruparemos para obtener la media y mediana de este gráfico, ordenando por la media:"
   ]
  },
  {
   "cell_type": "code",
   "execution_count": 216,
   "metadata": {},
   "outputs": [
    {
     "data": {
      "text/html": [
       "<div>\n",
       "<style scoped>\n",
       "    .dataframe tbody tr th:only-of-type {\n",
       "        vertical-align: middle;\n",
       "    }\n",
       "\n",
       "    .dataframe tbody tr th {\n",
       "        vertical-align: top;\n",
       "    }\n",
       "\n",
       "    .dataframe thead th {\n",
       "        text-align: right;\n",
       "    }\n",
       "</style>\n",
       "<table border=\"1\" class=\"dataframe\">\n",
       "  <thead>\n",
       "    <tr style=\"text-align: right;\">\n",
       "      <th></th>\n",
       "      <th>mean</th>\n",
       "      <th>median</th>\n",
       "    </tr>\n",
       "    <tr>\n",
       "      <th>platform</th>\n",
       "      <th></th>\n",
       "      <th></th>\n",
       "    </tr>\n",
       "  </thead>\n",
       "  <tbody>\n",
       "    <tr>\n",
       "      <th>ps4</th>\n",
       "      <td>0.801378</td>\n",
       "      <td>0.200</td>\n",
       "    </tr>\n",
       "    <tr>\n",
       "      <th>xone</th>\n",
       "      <td>0.645020</td>\n",
       "      <td>0.220</td>\n",
       "    </tr>\n",
       "    <tr>\n",
       "      <th>wiiu</th>\n",
       "      <td>0.559116</td>\n",
       "      <td>0.220</td>\n",
       "    </tr>\n",
       "    <tr>\n",
       "      <th>3ds</th>\n",
       "      <td>0.498077</td>\n",
       "      <td>0.120</td>\n",
       "    </tr>\n",
       "    <tr>\n",
       "      <th>pc</th>\n",
       "      <td>0.249852</td>\n",
       "      <td>0.080</td>\n",
       "    </tr>\n",
       "    <tr>\n",
       "      <th>psv</th>\n",
       "      <td>0.125744</td>\n",
       "      <td>0.055</td>\n",
       "    </tr>\n",
       "  </tbody>\n",
       "</table>\n",
       "</div>"
      ],
      "text/plain": [
       "              mean  median\n",
       "platform                  \n",
       "ps4       0.801378   0.200\n",
       "xone      0.645020   0.220\n",
       "wiiu      0.559116   0.220\n",
       "3ds       0.498077   0.120\n",
       "pc        0.249852   0.080\n",
       "psv       0.125744   0.055"
      ]
     },
     "execution_count": 216,
     "metadata": {},
     "output_type": "execute_result"
    }
   ],
   "source": [
    "games_potentially_profitable.groupby('platform')['total_sales'].agg(['mean', 'median']).sort_values(by='mean', ascending=False)"
   ]
  },
  {
   "attachments": {},
   "cell_type": "markdown",
   "metadata": {},
   "source": [
    "De todo esto podemos afirmar que las medianas solo son bastante menores en PC y PSV. De hecho, sus medias también presentan los valores más bajos. Las diferencias entre medianas para PS4, Xbox One y Wii U no son tan significativas. Sin embargo, las medias de PS4, Xbox One, Wii U y 3DS son mucho mayores a sus medianas, mostrando no solo un sesgo de los datos hacia valores superiores, sino también la oportunidad de crecimiento que afirmábamos en apartados previos. \n",
    "\n",
    "Podríamos concluir que, finalmente, las plataformas que muestran más potencial de éxito financiero son *PS4, Xbox One, Wii U y 3DS*, dado su comportamiento temporal, vida útil y ganancias medias. PC tiene un potencial implícito por su naturaleza, pero en las observaciones solo muestra constancia y estar abajo respecto a estas plataformas. A quien no le va muy bien en general es a PSV, quien a nivel temporal está decreciendo, su vida útil ya parece haberse agotado y sus ventas promedio y mediano son los más bajos comparados a las plataformas recientes. \n",
    "\n",
    "(Estos hallazgos parecen estar acorde a los registros históricos sucedidos e información más reciente a la que en la actualidad tenemos acceso)."
   ]
  },
  {
   "attachments": {},
   "cell_type": "markdown",
   "metadata": {},
   "source": [
    "## Efectos de las reseñas en las ventas de un caso ejemplo: PS4"
   ]
  }
 ],
 "metadata": {
  "kernelspec": {
   "display_name": "Python 3 (ipykernel)",
   "language": "python",
   "name": "python3"
  },
  "language_info": {
   "codemirror_mode": {
    "name": "ipython",
    "version": 3
   },
   "file_extension": ".py",
   "mimetype": "text/x-python",
   "name": "python",
   "nbconvert_exporter": "python",
   "pygments_lexer": "ipython3",
   "version": "3.9.7"
  },
  "toc": {
   "base_numbering": 1,
   "nav_menu": {},
   "number_sections": true,
   "sideBar": true,
   "skip_h1_title": true,
   "title_cell": "Table of Contents",
   "title_sidebar": "Contents",
   "toc_cell": false,
   "toc_position": {},
   "toc_section_display": true,
   "toc_window_display": false
  }
 },
 "nbformat": 4,
 "nbformat_minor": 2
}
