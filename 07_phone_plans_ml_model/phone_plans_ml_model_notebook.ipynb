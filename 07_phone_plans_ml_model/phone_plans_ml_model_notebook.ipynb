{
 "cells": [
  {
   "attachments": {},
   "cell_type": "markdown",
   "metadata": {},
   "source": [
    "# Creación de un modelo de Machine Learning para planes de telefonía"
   ]
  },
  {
   "attachments": {},
   "cell_type": "markdown",
   "metadata": {},
   "source": [
    "# Contenido"
   ]
  },
  {
   "attachments": {},
   "cell_type": "markdown",
   "metadata": {},
   "source": [
    "* [Introducción](#a)\n",
    "* [Objetivos](#b)\n",
    "* [Etapas](#c)\n",
    "* [Inicialización: descripción de datos](#d)\n",
    "    * [Cargar datos](#d1)\n",
    "    * [Exploración inicial de datos](#d2)\n",
    "    * [Análisis exploratorio y descriptivo como referencia](#d4)\n",
    "    * [Conclusiones del apartado](#d3)\n",
    "* [Segmentación de datos](#e)\n",
    "    * [Conclusiones del apartado](#e1)\n",
    "* [Prueba y entrenamiento de modelos de Machine Learning](#f)\n",
    "    * [Árbol de decisión](#f1)\n",
    "    * [Bosque aleatorio](#f2)\n",
    "    * [Regresión logística](#f3)\n",
    "    * [Conclusiones del apartado](#f4)\n",
    "* [Prueba de calidad del modelo](#g)\n",
    "    * [Árbol de decisión](#g1)\n",
    "    * [Bosque aleatorio](#g2)\n",
    "    * [Decisión final y conclusiones del apartado](#g3)\n",
    "* [Prueba de cordura](#h)\n",
    "    * [Conclusiones del apartado](#h1)\n",
    "* [Conclusiones finales](#i)\n"
   ]
  },
  {
   "attachments": {},
   "cell_type": "markdown",
   "metadata": {},
   "source": [
    "# Introducción <a id='a'></a>"
   ]
  },
  {
   "attachments": {},
   "cell_type": "markdown",
   "metadata": {},
   "source": [
    "La compañía de telecomunicaciones móviles Megaline, viendo el análisis realizado previamente en el estudio de sus planes de telefonía, ahora nos propone un nuevo reto y análisis al ver que muchos de sus clientes utilizan planes heredados y que no siempre se ajustan a lo que ellos necesitan. Megaline quiere que desarrollemos un modelo de Machine Learning que pueda analizar el comportamiento de sus clientes y (pronosticar) recomendar uno de los planes de la empresa: Smart o Ultra. Para el desarrollo de este proyecto utilizaremos modelos de aprendizaje automático supervisados, en este caso, los de clasificación.  "
   ]
  },
  {
   "attachments": {},
   "cell_type": "markdown",
   "metadata": {},
   "source": [
    "# Objetivos <a id='b'></a>"
   ]
  },
  {
   "attachments": {},
   "cell_type": "markdown",
   "metadata": {},
   "source": [
    "*Debido a que nuestro objetivo es el modelamiento, no tenemos hipótesis estadísticas a probar en específico esta vez.* \n",
    "\n",
    "Nuestro principal objetivo será determinar el modelo con la mayor exactitud posible, teniendo como umbral de exactitud un 0.75.\n",
    "\n",
    "Como tarea adicional, probaremos la calidad del modelo y realizaremos una prueba de cordura."
   ]
  },
  {
   "attachments": {},
   "cell_type": "markdown",
   "metadata": {},
   "source": [
    "# Etapas del análisis <a id='c'></a>"
   ]
  },
  {
   "attachments": {},
   "cell_type": "markdown",
   "metadata": {},
   "source": [
    "En este proyecto, seguiremos un esquema necesario para solucionar el problema de la creación y prueba de un modelo de Machine Learning. Para esto, seguiremos a grandes rasgos el siguiente proceso:\n",
    "\n",
    "1. Descripción de los datos\n",
    "2. Segmentación de los datos\n",
    "3. Prueba y entrenamiento de los modelos de Machine Learning\n",
    "4. Prueba de calidad del modelo\n",
    "5. Prueba de cordura\n",
    "6. Conclusiones finales\n",
    "\n",
    "Debido a que el preprocesamiento y análisis exploratorio fueron realizados en el anterior informe, en este presente trabajo se obviarán esos pasos y nos enfocaremos en el modelamiento luego de describir nuestros datos."
   ]
  },
  {
   "attachments": {},
   "cell_type": "markdown",
   "metadata": {},
   "source": [
    "# Inicialización: descripción de los datos <a id='d'></a>"
   ]
  },
  {
   "attachments": {},
   "cell_type": "markdown",
   "metadata": {},
   "source": [
    "**Carga de librerías necesarias**"
   ]
  },
  {
   "cell_type": "code",
   "execution_count": 10,
   "metadata": {},
   "outputs": [],
   "source": [
    "import numpy as np\n",
    "import seaborn as sns\n",
    "import matplotlib.pyplot as plt \n",
    "import pandas as pd # librerías estándar para manipular datos\n",
    "\n",
    "from sklearn.model_selection import train_test_split\n",
    "from sklearn.metrics import accuracy_score \n",
    "from sklearn.tree import DecisionTreeClassifier\n",
    "from sklearn.ensemble import RandomForestClassifier\n",
    "from sklearn.linear_model import LogisticRegression  # librerías de sklearn para los modelos y métricas\n",
    "\n",
    "import warnings\n",
    "warnings.filterwarnings('ignore') # ignoraremos los warnings de algunas partes del código"
   ]
  },
  {
   "attachments": {},
   "cell_type": "markdown",
   "metadata": {},
   "source": [
    "## Cargar los datos <a id='d1'></a>"
   ]
  },
  {
   "attachments": {},
   "cell_type": "markdown",
   "metadata": {},
   "source": [
    "Tenemos solo un dataset con los datos finales y preprocesados:"
   ]
  },
  {
   "cell_type": "code",
   "execution_count": 3,
   "metadata": {},
   "outputs": [],
   "source": [
    "try:\n",
    "    data_megaline = pd.read_csv(\"users_behavior.csv\")\n",
    "except:\n",
    "    data_megaline = pd.read_csv(\"datasets/users_behavior.csv\")"
   ]
  },
  {
   "attachments": {},
   "cell_type": "markdown",
   "metadata": {},
   "source": [
    "## Exploración inicial de datos <a id='d2'></a>"
   ]
  },
  {
   "attachments": {},
   "cell_type": "markdown",
   "metadata": {},
   "source": [
    "Nuestra tabla contiene la siguiente información según su documentación:\n",
    "\n",
    "* ``calls``: número de llamadas.\n",
    "* ``minutes``: duración total de la llamada en minutos.\n",
    "* ``messages``: número de mensajes de texto.\n",
    "* ``mb_used``: tráfico de internet utilizado en MB.\n",
    "* ``is_ultra``: si el plan utilizado es el *Ultra* (1), de lo contrario, es Smart (0)\n",
    "\n",
    "Ahora podemos explorar la tabla:"
   ]
  },
  {
   "cell_type": "code",
   "execution_count": 4,
   "metadata": {},
   "outputs": [
    {
     "data": {
      "text/html": [
       "<div>\n",
       "<style scoped>\n",
       "    .dataframe tbody tr th:only-of-type {\n",
       "        vertical-align: middle;\n",
       "    }\n",
       "\n",
       "    .dataframe tbody tr th {\n",
       "        vertical-align: top;\n",
       "    }\n",
       "\n",
       "    .dataframe thead th {\n",
       "        text-align: right;\n",
       "    }\n",
       "</style>\n",
       "<table border=\"1\" class=\"dataframe\">\n",
       "  <thead>\n",
       "    <tr style=\"text-align: right;\">\n",
       "      <th></th>\n",
       "      <th>calls</th>\n",
       "      <th>minutes</th>\n",
       "      <th>messages</th>\n",
       "      <th>mb_used</th>\n",
       "      <th>is_ultra</th>\n",
       "    </tr>\n",
       "  </thead>\n",
       "  <tbody>\n",
       "    <tr>\n",
       "      <th>count</th>\n",
       "      <td>3214.000000</td>\n",
       "      <td>3214.000000</td>\n",
       "      <td>3214.000000</td>\n",
       "      <td>3214.000000</td>\n",
       "      <td>3214.000000</td>\n",
       "    </tr>\n",
       "    <tr>\n",
       "      <th>mean</th>\n",
       "      <td>63.038892</td>\n",
       "      <td>438.208787</td>\n",
       "      <td>38.281269</td>\n",
       "      <td>17207.673836</td>\n",
       "      <td>0.306472</td>\n",
       "    </tr>\n",
       "    <tr>\n",
       "      <th>std</th>\n",
       "      <td>33.236368</td>\n",
       "      <td>234.569872</td>\n",
       "      <td>36.148326</td>\n",
       "      <td>7570.968246</td>\n",
       "      <td>0.461100</td>\n",
       "    </tr>\n",
       "    <tr>\n",
       "      <th>min</th>\n",
       "      <td>0.000000</td>\n",
       "      <td>0.000000</td>\n",
       "      <td>0.000000</td>\n",
       "      <td>0.000000</td>\n",
       "      <td>0.000000</td>\n",
       "    </tr>\n",
       "    <tr>\n",
       "      <th>25%</th>\n",
       "      <td>40.000000</td>\n",
       "      <td>274.575000</td>\n",
       "      <td>9.000000</td>\n",
       "      <td>12491.902500</td>\n",
       "      <td>0.000000</td>\n",
       "    </tr>\n",
       "    <tr>\n",
       "      <th>50%</th>\n",
       "      <td>62.000000</td>\n",
       "      <td>430.600000</td>\n",
       "      <td>30.000000</td>\n",
       "      <td>16943.235000</td>\n",
       "      <td>0.000000</td>\n",
       "    </tr>\n",
       "    <tr>\n",
       "      <th>75%</th>\n",
       "      <td>82.000000</td>\n",
       "      <td>571.927500</td>\n",
       "      <td>57.000000</td>\n",
       "      <td>21424.700000</td>\n",
       "      <td>1.000000</td>\n",
       "    </tr>\n",
       "    <tr>\n",
       "      <th>max</th>\n",
       "      <td>244.000000</td>\n",
       "      <td>1632.060000</td>\n",
       "      <td>224.000000</td>\n",
       "      <td>49745.730000</td>\n",
       "      <td>1.000000</td>\n",
       "    </tr>\n",
       "  </tbody>\n",
       "</table>\n",
       "</div>"
      ],
      "text/plain": [
       "             calls      minutes     messages       mb_used     is_ultra\n",
       "count  3214.000000  3214.000000  3214.000000   3214.000000  3214.000000\n",
       "mean     63.038892   438.208787    38.281269  17207.673836     0.306472\n",
       "std      33.236368   234.569872    36.148326   7570.968246     0.461100\n",
       "min       0.000000     0.000000     0.000000      0.000000     0.000000\n",
       "25%      40.000000   274.575000     9.000000  12491.902500     0.000000\n",
       "50%      62.000000   430.600000    30.000000  16943.235000     0.000000\n",
       "75%      82.000000   571.927500    57.000000  21424.700000     1.000000\n",
       "max     244.000000  1632.060000   224.000000  49745.730000     1.000000"
      ]
     },
     "execution_count": 4,
     "metadata": {},
     "output_type": "execute_result"
    }
   ],
   "source": [
    "data_megaline.describe()"
   ]
  },
  {
   "cell_type": "code",
   "execution_count": 5,
   "metadata": {},
   "outputs": [
    {
     "data": {
      "text/html": [
       "<div>\n",
       "<style scoped>\n",
       "    .dataframe tbody tr th:only-of-type {\n",
       "        vertical-align: middle;\n",
       "    }\n",
       "\n",
       "    .dataframe tbody tr th {\n",
       "        vertical-align: top;\n",
       "    }\n",
       "\n",
       "    .dataframe thead th {\n",
       "        text-align: right;\n",
       "    }\n",
       "</style>\n",
       "<table border=\"1\" class=\"dataframe\">\n",
       "  <thead>\n",
       "    <tr style=\"text-align: right;\">\n",
       "      <th></th>\n",
       "      <th>calls</th>\n",
       "      <th>minutes</th>\n",
       "      <th>messages</th>\n",
       "      <th>mb_used</th>\n",
       "      <th>is_ultra</th>\n",
       "    </tr>\n",
       "  </thead>\n",
       "  <tbody>\n",
       "    <tr>\n",
       "      <th>0</th>\n",
       "      <td>40.0</td>\n",
       "      <td>311.90</td>\n",
       "      <td>83.0</td>\n",
       "      <td>19915.42</td>\n",
       "      <td>0</td>\n",
       "    </tr>\n",
       "    <tr>\n",
       "      <th>1</th>\n",
       "      <td>85.0</td>\n",
       "      <td>516.75</td>\n",
       "      <td>56.0</td>\n",
       "      <td>22696.96</td>\n",
       "      <td>0</td>\n",
       "    </tr>\n",
       "    <tr>\n",
       "      <th>2</th>\n",
       "      <td>77.0</td>\n",
       "      <td>467.66</td>\n",
       "      <td>86.0</td>\n",
       "      <td>21060.45</td>\n",
       "      <td>0</td>\n",
       "    </tr>\n",
       "    <tr>\n",
       "      <th>3</th>\n",
       "      <td>106.0</td>\n",
       "      <td>745.53</td>\n",
       "      <td>81.0</td>\n",
       "      <td>8437.39</td>\n",
       "      <td>1</td>\n",
       "    </tr>\n",
       "    <tr>\n",
       "      <th>4</th>\n",
       "      <td>66.0</td>\n",
       "      <td>418.74</td>\n",
       "      <td>1.0</td>\n",
       "      <td>14502.75</td>\n",
       "      <td>0</td>\n",
       "    </tr>\n",
       "    <tr>\n",
       "      <th>5</th>\n",
       "      <td>58.0</td>\n",
       "      <td>344.56</td>\n",
       "      <td>21.0</td>\n",
       "      <td>15823.37</td>\n",
       "      <td>0</td>\n",
       "    </tr>\n",
       "    <tr>\n",
       "      <th>6</th>\n",
       "      <td>57.0</td>\n",
       "      <td>431.64</td>\n",
       "      <td>20.0</td>\n",
       "      <td>3738.90</td>\n",
       "      <td>1</td>\n",
       "    </tr>\n",
       "    <tr>\n",
       "      <th>7</th>\n",
       "      <td>15.0</td>\n",
       "      <td>132.40</td>\n",
       "      <td>6.0</td>\n",
       "      <td>21911.60</td>\n",
       "      <td>0</td>\n",
       "    </tr>\n",
       "    <tr>\n",
       "      <th>8</th>\n",
       "      <td>7.0</td>\n",
       "      <td>43.39</td>\n",
       "      <td>3.0</td>\n",
       "      <td>2538.67</td>\n",
       "      <td>1</td>\n",
       "    </tr>\n",
       "    <tr>\n",
       "      <th>9</th>\n",
       "      <td>90.0</td>\n",
       "      <td>665.41</td>\n",
       "      <td>38.0</td>\n",
       "      <td>17358.61</td>\n",
       "      <td>0</td>\n",
       "    </tr>\n",
       "  </tbody>\n",
       "</table>\n",
       "</div>"
      ],
      "text/plain": [
       "   calls  minutes  messages   mb_used  is_ultra\n",
       "0   40.0   311.90      83.0  19915.42         0\n",
       "1   85.0   516.75      56.0  22696.96         0\n",
       "2   77.0   467.66      86.0  21060.45         0\n",
       "3  106.0   745.53      81.0   8437.39         1\n",
       "4   66.0   418.74       1.0  14502.75         0\n",
       "5   58.0   344.56      21.0  15823.37         0\n",
       "6   57.0   431.64      20.0   3738.90         1\n",
       "7   15.0   132.40       6.0  21911.60         0\n",
       "8    7.0    43.39       3.0   2538.67         1\n",
       "9   90.0   665.41      38.0  17358.61         0"
      ]
     },
     "execution_count": 5,
     "metadata": {},
     "output_type": "execute_result"
    }
   ],
   "source": [
    "data_megaline.head(10)"
   ]
  },
  {
   "cell_type": "code",
   "execution_count": 6,
   "metadata": {},
   "outputs": [
    {
     "name": "stdout",
     "output_type": "stream",
     "text": [
      "<class 'pandas.core.frame.DataFrame'>\n",
      "RangeIndex: 3214 entries, 0 to 3213\n",
      "Data columns (total 5 columns):\n",
      " #   Column    Non-Null Count  Dtype  \n",
      "---  ------    --------------  -----  \n",
      " 0   calls     3214 non-null   float64\n",
      " 1   minutes   3214 non-null   float64\n",
      " 2   messages  3214 non-null   float64\n",
      " 3   mb_used   3214 non-null   float64\n",
      " 4   is_ultra  3214 non-null   int64  \n",
      "dtypes: float64(4), int64(1)\n",
      "memory usage: 125.7 KB\n"
     ]
    }
   ],
   "source": [
    "data_megaline.info()"
   ]
  },
  {
   "attachments": {},
   "cell_type": "markdown",
   "metadata": {},
   "source": [
    "De lo mostrado previamente, podemos notar que ninguna de nuestra variables cuenta con problemas grandes en su distribución, tipos de datos y valores ausentes. El motivo es precisamente el hecho de que el preprocesamiento ya fue realizado en el anterior trabajo. \n",
    "\n",
    "Ahora que conocemos a nuestras variables y sabemos que estas no presentan problemas para su uso, nos enfocaremos en nuestra posible variable objetivo: ``is_ultra``:"
   ]
  },
  {
   "cell_type": "code",
   "execution_count": 7,
   "metadata": {},
   "outputs": [
    {
     "data": {
      "text/plain": [
       "0    0.693528\n",
       "1    0.306472\n",
       "Name: is_ultra, dtype: float64"
      ]
     },
     "execution_count": 7,
     "metadata": {},
     "output_type": "execute_result"
    }
   ],
   "source": [
    "data_megaline['is_ultra'].value_counts(normalize=True)"
   ]
  },
  {
   "attachments": {},
   "cell_type": "markdown",
   "metadata": {},
   "source": [
    "El 30 % de los usuarios tienen registrado el plan *Ultra* en su suscripción a la empresa Megaline, mientras que el 70 % restante pertenece al plan *Smart*. Esta diferencia muestra y sugiere la existencia de un ligero desbalance de nuestra variable objetivo. Debido a que el problema no se ve lo suficientemente grave como para preocuparnos por él, no se abordará el manejo de este problema por ahora y esa será una limitación de este proyecto."
   ]
  },
  {
   "attachments": {},
   "cell_type": "markdown",
   "metadata": {},
   "source": [
    "## Análisis exploratorio y descriptivo como referencia <a id='d4'></a>"
   ]
  },
  {
   "attachments": {},
   "cell_type": "markdown",
   "metadata": {},
   "source": [
    "En este apartado analizaremos el comportamiento de nuestra variable objetivo para los que consideraremos características, utilizando diagramas de caja:"
   ]
  },
  {
   "cell_type": "code",
   "execution_count": 16,
   "metadata": {},
   "outputs": [
    {
     "data": {
      "image/png": "[encoded data removed]",
      "text/plain": [
       "<Figure size 1000x1000 with 1 Axes>"
      ]
     },
     "metadata": {},
     "output_type": "display_data"
    }
   ],
   "source": [
    "plt.figure(figsize=(10,10))\n",
    "sns.boxplot(data=data_megaline, x='is_ultra', y='calls', palette=sns.dark_palette(\"#69d\", reverse=True), width=0.4)\n",
    "plt.title(\"Distribución del número de llamadas por tipo de plan\")\n",
    "plt.show()"
   ]
  },
  {
   "attachments": {},
   "cell_type": "markdown",
   "metadata": {},
   "source": [
    "Tenemos cierta diferencia en el número mediano de llamadas de los usuarios del plan ultra respecto a los que no, aunque podría considerarse ligera a favor de los usuarios Ultra."
   ]
  },
  {
   "cell_type": "code",
   "execution_count": 31,
   "metadata": {},
   "outputs": [
    {
     "data": {
      "image/png": "[encoded data removed]",
      "text/plain": [
       "<Figure size 1000x1000 with 1 Axes>"
      ]
     },
     "metadata": {},
     "output_type": "display_data"
    }
   ],
   "source": [
    "plt.figure(figsize=(10,10))\n",
    "sns.boxplot(data=data_megaline, x='is_ultra', y='minutes', palette=sns.dark_palette(\"#69d\", reverse=True), width=0.4)\n",
    "plt.title(\"Distribución de la duración de llamadas en minutos por tipo de plan\")\n",
    "plt.show()"
   ]
  },
  {
   "attachments": {},
   "cell_type": "markdown",
   "metadata": {},
   "source": [
    "En términos de los minutos usados, parece haber una mayor diferencia entre los usuarios de ambos planes, siendo mayor en los usuario del plan Ultra por alrededor de 100 minutos. Aquí los usuarios empiezan a diferenciarse de forma más notable."
   ]
  },
  {
   "cell_type": "code",
   "execution_count": 22,
   "metadata": {},
   "outputs": [
    {
     "data": {
      "image/png": "[encoded data removed]",
      "text/plain": [
       "<Figure size 1000x1000 with 1 Axes>"
      ]
     },
     "metadata": {},
     "output_type": "display_data"
    }
   ],
   "source": [
    "plt.figure(figsize=(10,10))\n",
    "sns.boxplot(data=data_megaline, x='is_ultra', y='messages', palette=sns.dark_palette(\"#69d\", reverse=True), width=0.4)\n",
    "plt.title(\"Distribución del número de mensajes por tipo de plan\")\n",
    "plt.show()"
   ]
  },
  {
   "attachments": {},
   "cell_type": "markdown",
   "metadata": {},
   "source": [
    "El gráfico muestra que los usuarios de ambos planes también difieren en su comportamiento de uso de número de mensajes. Notamos una distribución algo más dispersa y en promedio mayor en los usuarios del plan Ultra."
   ]
  },
  {
   "cell_type": "code",
   "execution_count": 30,
   "metadata": {},
   "outputs": [
    {
     "data": {
      "image/png": "[encoded data removed]",
      "text/plain": [
       "<Figure size 1000x1000 with 1 Axes>"
      ]
     },
     "metadata": {},
     "output_type": "display_data"
    }
   ],
   "source": [
    "plt.figure(figsize=(10,10))\n",
    "sns.boxplot(data=data_megaline, x='is_ultra', y='mb_used', palette=sns.dark_palette(\"#69d\", reverse=True), width=0.4)\n",
    "plt.title(\"Distribución del tráfico de internet en MB por tipo de plan\")\n",
    "plt.show()"
   ]
  },
  {
   "attachments": {},
   "cell_type": "markdown",
   "metadata": {},
   "source": [
    "Para el uso de internet móvil, una diferencia de alrededor de 3 GB al mes podría considerarse grande o pequeña según los costos del servicio y el pago mensual que realizan los usuarios. De todas formas, la diferencia existe y es a favor de los usuarios del plan Ultra."
   ]
  },
  {
   "attachments": {},
   "cell_type": "markdown",
   "metadata": {},
   "source": [
    "## Conclusiones del apartado <a id='d3'></a>"
   ]
  },
  {
   "attachments": {},
   "cell_type": "markdown",
   "metadata": {},
   "source": [
    "En este apartado observamos las principales características y dimos un vistazo general a nuestras variables. No notamos problemas que requieran una etapa de procesado extra debido a que este proceso fue realizado en el trabajo previo. También notamos un ligero desbalance en nuestra variable objetivo, pero se concluyó que su proporción no es grave ni posiblemente genere problemas en la estimación y evaluación de nuestro modelo.\n",
    "\n",
    "A su vez, notamos que existe una diferenciación en promedio entre los usuarios de ambos planes, teniendo un mayor uso de los servicios en general los usuarios del plan Ultra. Esta segmentación empírica encontrada ayuda a sostener el futuro modelamiento de los clientes debido a sus diferentes comportamientos según los datos que tenemos. "
   ]
  },
  {
   "attachments": {},
   "cell_type": "markdown",
   "metadata": {},
   "source": [
    "# Segmentación de los datos <a id='e'></a>"
   ]
  },
  {
   "attachments": {},
   "cell_type": "markdown",
   "metadata": {},
   "source": [
    "Debido a que realizaremos un modelo de clasificación predictivo, tendremos que definir una especie de relación de nuestra variable objetivo (target) a pronosticar y sus características (features). Ya habíamos anticipado este problema designando a ``is_ultra`` como nuestra variable objetivo, pero continuaremos buscando la relación en un modelo teórico no formal: \n",
    "\n",
    "Nuestra variable objetivo (``is_ultra``) teóricamente se relaciona con las variables ``calls``, ``minutes``, ``messages``, y ``mb_used`` (características). Es decir, existe una relación teórica no formal en la que esas características determinarán si el cliente usa un respectivo plan o no (variable objetivo - ``is_ultra``). En la vida real, esta relación tiene sentido y esa será la relación que nos ayude a generar nuestro modelo predictivo.\n",
    "\n",
    "Guardaremos nuestra semilla generadora de números pseudoaleatorios en la variable ``random_state``.\n",
    "\n",
    "A continuación, separaremos nuestro dataset en ``target`` y ``features``.\n",
    "\n",
    "Luego de lo anterior, necesitamos dividir nuestros datos para las respectivas etapas de entrenamiento y validación de nuestro modelo. Usaremos la función \"train_test_split\" para este objetivo, y emplearemos la proporción 3:1:1 al dividir los datos (60 % para entrenamiento, 20 % para validación y 20 % para la prueba final de calidad):"
   ]
  },
  {
   "cell_type": "code",
   "execution_count": 9,
   "metadata": {},
   "outputs": [],
   "source": [
    "random_state = 200"
   ]
  },
  {
   "cell_type": "code",
   "execution_count": 10,
   "metadata": {},
   "outputs": [],
   "source": [
    "target = data_megaline['is_ultra'] # variable objetivo\n",
    "features = data_megaline.drop('is_ultra', axis=1) # características"
   ]
  },
  {
   "attachments": {},
   "cell_type": "markdown",
   "metadata": {},
   "source": [
    "Primero dividiremos y separaremos el conjunto de entrenamiento, dejando el 40 % de los datos para separarlos luego en los sets de validación y prueba (sets \"split\"):"
   ]
  },
  {
   "cell_type": "code",
   "execution_count": 43,
   "metadata": {},
   "outputs": [],
   "source": [
    "target_train, target_split, features_train, features_split = train_test_split(target, features, test_size=0.40, random_state=random_state)\n",
    "# primera división: 60 % - 40 %"
   ]
  },
  {
   "attachments": {},
   "cell_type": "markdown",
   "metadata": {},
   "source": [
    "Ahora dividiremos los datasets \"split\" (que contienen al 40 % de los datos) en partes iguales que correspondan al dataset de validación y prueba:"
   ]
  },
  {
   "cell_type": "code",
   "execution_count": 45,
   "metadata": {},
   "outputs": [],
   "source": [
    "target_valid, target_test, features_valid, features_test = train_test_split(target_split, features_split, test_size=0.5, random_state=random_state)\n",
    "# segunda división: el 40 % restante a mitades iguales"
   ]
  },
  {
   "attachments": {},
   "cell_type": "markdown",
   "metadata": {},
   "source": [
    "Verificaremos obteniendo el atributo *shape* de cada dataset:"
   ]
  },
  {
   "cell_type": "code",
   "execution_count": 111,
   "metadata": {},
   "outputs": [
    {
     "name": "stdout",
     "output_type": "stream",
     "text": [
      "\n",
      "(1928,)\n",
      "\n",
      "(643,)\n",
      "\n",
      "(643,)\n",
      "\n",
      "(1928, 4)\n",
      "\n",
      "(643, 4)\n",
      "\n",
      "(643, 4)\n"
     ]
    }
   ],
   "source": [
    "for i in [target_train, target_valid, target_test, features_train, features_valid, features_test]:\n",
    "    print()\n",
    "    print(i.shape) # imprime el atributo shape para cada dataset"
   ]
  },
  {
   "attachments": {},
   "cell_type": "markdown",
   "metadata": {},
   "source": [
    "Todo parece estar en orden."
   ]
  },
  {
   "attachments": {},
   "cell_type": "markdown",
   "metadata": {},
   "source": [
    "## Pequeñas conclusiones del apartado <a id='e1'></a>"
   ]
  },
  {
   "attachments": {},
   "cell_type": "markdown",
   "metadata": {},
   "source": [
    "En este apartado definimos la relación que nos permitirá la estimación del modelo, siendo ``is_ultra`` nuestra variable objetivo y las demás variables las características del modelo.\n",
    "\n",
    "Luego de definir estas variables, las separamos y, a continuación, dividimos nuestro dataset para el entrenamiento (60 %), validación (20 %) y testing (20 %). Finalmente, nos aseguramos de que la división se haya realizado correctamente."
   ]
  },
  {
   "attachments": {},
   "cell_type": "markdown",
   "metadata": {},
   "source": [
    "# Prueba y entrenamiento de los modelos de Machine Learning <a id='f'></a>"
   ]
  },
  {
   "attachments": {},
   "cell_type": "markdown",
   "metadata": {},
   "source": [
    "Tal como nombrábamos líneas arriba, este trabajo se trata de uno de clasificación, para lo cual hemos cargado tres modelos de clasificación que usaremos para obtener el mejor modelo en términos de exactitud (*accuracy*) que probaremos en el orden mostrado:\n",
    "* Árbol de decisión (Decision Tree Classifier)\n",
    "* Bosque aleatorio (Random Forest Classifier)\n",
    "* Regresión logística, logit (Logistic Regression)\n",
    "\n",
    "En esta etapa, usaremos los datasets segmentados para entrenar y validar los mejores parámetros de nuestros modelos."
   ]
  },
  {
   "attachments": {},
   "cell_type": "markdown",
   "metadata": {},
   "source": [
    "## Árbol de decisión - Decision Tree Classifier <a id='f1'></a>"
   ]
  },
  {
   "attachments": {},
   "cell_type": "markdown",
   "metadata": {},
   "source": [
    "El principal hiperparámetro de este modelo es la profundidad máxima (*max_depth*) y obtendremos su valor óptimo utilizando un bucle hasta un límite de 20. Para esto, compararemos *accuracy* y determinaremos como mejor modelo al que tenga el más alto valor de *accuracy* con el set de validación. De forma visual, tenemos:"
   ]
  },
  {
   "cell_type": "code",
   "execution_count": 54,
   "metadata": {},
   "outputs": [
    {
     "name": "stdout",
     "output_type": "stream",
     "text": [
      "La profundidad óptima del modelo es: 6\n",
      "Accuracy del modelo óptimo: 0.8055987558320373\n"
     ]
    }
   ],
   "source": [
    "best_result = 0\n",
    "best_depth_tree = 0  # contadores en cero\n",
    "\n",
    "for depth in range(1, 21):\n",
    "    model_tree = DecisionTreeClassifier(max_depth=depth, random_state=random_state) # instanciación del modelo e hiperparámetros\n",
    "    model_tree.fit(features_train, target_train)\n",
    "    \n",
    "    accuracy_tree = model_tree.score(features_valid, target_valid) # score retorna accuracy del modelo\n",
    "    \n",
    "    if accuracy_tree > best_result: # escoge al mayor accuracy y los guarda\n",
    "        best_result = accuracy_tree  \n",
    "        best_depth_tree = depth\n",
    "\n",
    "print(f\"La profundidad óptima del modelo es: {best_depth_tree}\")\n",
    "print(f\"Accuracy del modelo óptimo: {best_result}\")"
   ]
  },
  {
   "attachments": {},
   "cell_type": "markdown",
   "metadata": {},
   "source": [
    "En este caso, el modelo que resulta con la mejor exactitud sin caer en el sobreajuste tiene una profundidad máxima de 6 y resulta cumplir con los requisitos del umbral mínimo de exactitud. Continuaremos probando con los demás modelos."
   ]
  },
  {
   "attachments": {},
   "cell_type": "markdown",
   "metadata": {},
   "source": [
    "## Bosque aleatorio - Random Forest Classifier <a id='f2'></a>"
   ]
  },
  {
   "attachments": {},
   "cell_type": "markdown",
   "metadata": {},
   "source": [
    "Para este modelo, usaremos la misma lógica del anterior, en el cual mediante un bucle buscaremos y determinaremos los mejores hiperparámetros y exactitud. En este caso, los hiperparámetros principales a buscar son la cantidad de árboles y su profundidad máxima, así que usaremos dos bucles limitando la cantidad de iteraciones para 50 árboles (en intervalos de 10) y 20 de profundidad máxima, de la manera siguiente:"
   ]
  },
  {
   "cell_type": "code",
   "execution_count": 84,
   "metadata": {},
   "outputs": [
    {
     "name": "stdout",
     "output_type": "stream",
     "text": [
      "La profundidad del modelo óptima es: 10\n",
      "El número de árboles óptimos del modelo es: 40\n",
      "Accuracy del modelo óptimo: 0.8195956454121306\n"
     ]
    }
   ],
   "source": [
    "best_n_forest = 0\n",
    "best_depth_forest = 0\n",
    "best_result_forest = 0  # contadores en cero\n",
    "\n",
    "for n in range(10, 51, 10):  # de 10 a 50, en intervalos de 10\n",
    "    for depth in range(1, 21): \n",
    "        model_forest = RandomForestClassifier(n_estimators=n, max_depth=depth, random_state=random_state) # instancia el modelo y sus hiperparámetros\n",
    "        model_forest.fit(features_train, target_train)\n",
    "        \n",
    "        accuracy_forest = model_forest.score(features_valid, target_valid)  # score devuelve accuracy\n",
    "        \n",
    "        if accuracy_forest > best_result_forest:  # escoge el mayor accuracy y guarda los hiperparámetros\n",
    "            best_n_forest = n\n",
    "            best_depth_forest = depth\n",
    "            best_result_forest = accuracy_forest\n",
    "\n",
    "print(f\"La profundidad del modelo óptima es: {best_depth_forest}\")\n",
    "print(f\"El número de árboles óptimos del modelo es: {best_n_forest}\")\n",
    "print(f\"Accuracy del modelo óptimo: {best_result_forest}\")\n"
   ]
  },
  {
   "attachments": {},
   "cell_type": "markdown",
   "metadata": {},
   "source": [
    "De estos resultados podemos concluir que, aparte de que el tiempo de entrenamiento es más largo, tenemos una mejor exactitud respecto al árbol de decisión. El hecho de que la pequeña diferencia en exactitud pueda compensar el tiempo de espera es algo a considerar al momento de utilizar este modelo. Por otro lado, la profundidad de los árboles que nos indica como óptima es de 10, y el número de árboles en 40. Por último, al introducir una relativa gran profundidad máxima, este modelo tiene más probabilidad de presentar sobreajuste respecto al anterior, aunque esperamos *a priori* que esto no sea un problema en este momento. Finalizaremos con el último modelo: regresión logística."
   ]
  },
  {
   "attachments": {},
   "cell_type": "markdown",
   "metadata": {},
   "source": [
    "## Regresión logística - Logistic Regression <a id='f3'></a>"
   ]
  },
  {
   "attachments": {},
   "cell_type": "markdown",
   "metadata": {},
   "source": [
    "También usaremos un bucle de forma análoga a los modelos previos, pero el hiperparámetro más relevante en una regresión logística, desde el punto de vista del autor dada la naturaleza de los datos, resulta ser el método de resolución del problema de optimización de los parámetros del modelo: *solver*. Incluiremos los tipos de *solver* disponibles en una lista e iteraremos buscando aquel que de mejores resultados:"
   ]
  },
  {
   "cell_type": "code",
   "execution_count": 114,
   "metadata": {},
   "outputs": [
    {
     "name": "stdout",
     "output_type": "stream",
     "text": [
      "El mejor método 'solver' de la regresión logística es: newton-cg\n",
      "Accuracy del modelo óptimo: 0.744945567651633\n"
     ]
    }
   ],
   "source": [
    "best_result_logistic = 0\n",
    "best_solver = None  # contadores en cero y vacíos\n",
    "\n",
    "solver_list = ['liblinear', 'newton-cg', 'lbfgs', 'sag', 'saga'] # lista de opciones de solver\n",
    "\n",
    "for method in solver_list:\n",
    "    model_logistic = LogisticRegression(solver=method, random_state=random_state) # instancia el modelo e hiperparámetros\n",
    "    model_logistic.fit(features_train, target_train)\n",
    "    \n",
    "    accuracy_logistic = model_logistic.score(features_valid, target_valid) # score devuelve accuracy\n",
    "    \n",
    "    if accuracy_logistic > best_result_logistic: # guarda hiperparámetros en base al mejor accuracy\n",
    "        best_result_logistic = accuracy_logistic\n",
    "        best_solver = method\n",
    "        \n",
    "print(f\"El mejor método 'solver' de la regresión logística es: {best_solver}\")\n",
    "print(f\"Accuracy del modelo óptimo: {best_result_logistic}\") "
   ]
  },
  {
   "attachments": {},
   "cell_type": "markdown",
   "metadata": {},
   "source": [
    "En este modelo, el hiperparámetro *solver* que nos recomienda este proceso es el de \"newton-cholesky\". Sin embargo, tenemos un problema porque este modelo no pasa el umbral mínimo que se requiere para continuar con su uso, aunque está muy próximo a él. Por este motivo, para el siguiente apartado prescindiremos de este modelo y nos enfocaremos en probar la calidad final con los dos restantes: *Decision Tree* y *Random Forest*."
   ]
  },
  {
   "attachments": {},
   "cell_type": "markdown",
   "metadata": {},
   "source": [
    "## Pequeñas conclusiones del apartado <a id='f4'></a>"
   ]
  },
  {
   "attachments": {},
   "cell_type": "markdown",
   "metadata": {},
   "source": [
    "Luego de un proceso iterativo, logramos determinar los mejores hiperparámetros de los tres modelos. Aunque resultó que uno de ellos (Regresión logística) no logró pasar el umbral mínimo de exactitud requerido para continuar con el proceso. Los modelos finalistas son:\n",
    "* *Decision Tree*, con *max_depth* = 6. \n",
    "* *Random Forest*, con *max_depth* = 10 y *n_estimators* = 40."
   ]
  },
  {
   "attachments": {},
   "cell_type": "markdown",
   "metadata": {},
   "source": [
    "# Prueba de calidad del modelo <a id='g'></a>"
   ]
  },
  {
   "attachments": {},
   "cell_type": "markdown",
   "metadata": {},
   "source": [
    "Ya que depuramos y nos quedamos con dos modelos, ahora nos toca utilizar nuestro último dataset (el de test) para la prueba final del modelo y finalmente observar su comportamiento en la práctica. Usaremos los hiperparámetros que consideramos mejores en el anterior apartado y usaremos *accuracy* como medida de ajuste del modelo para determinar cuál es el mejor modelo."
   ]
  },
  {
   "attachments": {},
   "cell_type": "markdown",
   "metadata": {},
   "source": [
    "## Árbol de decisión - Decision Tree Classifier <a id='g1'></a>"
   ]
  },
  {
   "attachments": {},
   "cell_type": "markdown",
   "metadata": {},
   "source": [
    "Recordemos que el hiperparámetro que usaremos será *max_depth* = 6:"
   ]
  },
  {
   "cell_type": "code",
   "execution_count": 96,
   "metadata": {},
   "outputs": [
    {
     "name": "stdout",
     "output_type": "stream",
     "text": [
      "La exactitud del modelo de Árbol de decisión con el test de prueba es: 0.8164852255054432\n"
     ]
    }
   ],
   "source": [
    "model_tree = DecisionTreeClassifier(max_depth=best_depth_tree, random_state=random_state) # usa los hiperparámetros guardados\n",
    "model_tree.fit(features_train, target_train)\n",
    "\n",
    "print(f\"La exactitud del modelo de Árbol de decisión con el test de prueba es: {model_tree.score(features_test, target_test)}\")\n"
   ]
  },
  {
   "attachments": {},
   "cell_type": "markdown",
   "metadata": {},
   "source": [
    "## Bosque aleatorio - Random Forest Classifier <a id='g2'></a>"
   ]
  },
  {
   "attachments": {},
   "cell_type": "markdown",
   "metadata": {},
   "source": [
    "En este modelo, los dos hiperparámetros que usaremos son *max_depth* = 10 y *n_estimators* = 40:"
   ]
  },
  {
   "cell_type": "code",
   "execution_count": 97,
   "metadata": {},
   "outputs": [
    {
     "name": "stdout",
     "output_type": "stream",
     "text": [
      "La exactitud del modelo de Bosque aleatorio con el test de prueba es: 0.8195956454121306\n"
     ]
    }
   ],
   "source": [
    "model_forest = RandomForestClassifier(n_estimators=best_n_forest, max_depth=best_depth_forest, random_state=random_state) # usa los hiperparámetros guardados\n",
    "model_forest.fit(features_train, target_train)\n",
    "\n",
    "print(f\"La exactitud del modelo de Bosque aleatorio con el test de prueba es: {model_forest.score(features_test, target_test)}\")"
   ]
  },
  {
   "attachments": {},
   "cell_type": "markdown",
   "metadata": {},
   "source": [
    "## Decisión final y conclusiones del apartado <a id='g3'></a>"
   ]
  },
  {
   "attachments": {},
   "cell_type": "markdown",
   "metadata": {},
   "source": [
    "Una vez probados nuestros modelos y dado que ambos superan el umbral mínimo requerido de exactitud, nos decantamos a utilizar el modelo de *Random Forest*. Aclaramos que la diferencia entre modelos resulta marginal utilizando *accuracy* como medida de ajuste y podríamos utilizar cualquiera de estos dos modelos. Para una mejor diferenciación y fundamento de elección podrían utilizarse otras métricas de evaluación de modelos, pero supondremos en esta ocasión que es suficiente, ya que el requerimiento fue específico con esta métrica y las capacidades de los modelos de *Random Forest* son en teoría más generalizables y superiores a los de *Decision Tree*\n",
    "\n",
    "Por tanto, el modelo escogido para usarse en el pronóstico y/o recomendación de clientes de la empresa Megaline será el de *Random Forest* (Bosque aleatorio), con los hiperparámetros utilizados líneas arriba.\n",
    "\n",
    "Una tarea adicional encargada es la de realizar una prueba de cordura de nuestro modelo final, esto con fines de comparación y tener en cuenta una referencia para determinar si este puntaje de exactitud es verdaderamente alto o no."
   ]
  },
  {
   "attachments": {},
   "cell_type": "markdown",
   "metadata": {},
   "source": [
    "# Prueba de cordura <a id='h'></a>"
   ]
  },
  {
   "attachments": {},
   "cell_type": "markdown",
   "metadata": {},
   "source": [
    "Para realizar la prueba de cordura, crearemos dos datasets que simulen predicciones con valores razonables para comparar respecto a nuestro modelo final, de la siguiente manera: \n",
    "\n",
    "En el primer caso, tomando en cuenta el ligero desbalance hacia el 0 de nuestra variable objetivo, crearemos un *array* con ceros.\n",
    "\n",
    "En el segundo caso, usaremos el método \"random.choice()\" para generar ceros y unos de manera aleatoria. \n",
    "\n",
    "No olvidemos que para usar este generador aleatorio de números con Numpy tenemos que establecer la semilla de nuestros números pseudoaleatorios:"
   ]
  },
  {
   "cell_type": "code",
   "execution_count": 99,
   "metadata": {},
   "outputs": [],
   "source": [
    "np.random.seed(random_state)"
   ]
  },
  {
   "cell_type": "code",
   "execution_count": 101,
   "metadata": {},
   "outputs": [],
   "source": [
    "sanity_check_0_pred = [0] * len(target_test) # array de ceros con longitud del dataset\n",
    "\n",
    "sanity_check_random_pred = np.random.choice([0,1], size=len(target_test)) # array de ceros y unos aleatorios con longitud del dataset"
   ]
  },
  {
   "attachments": {},
   "cell_type": "markdown",
   "metadata": {},
   "source": [
    "Una vez creadas las \"predicciones\" del *sanity check*, obtendremos la métrica de *accuracy* utilizada a lo largo del proyecto y compararemos con la obtenida con el modelo final, para así saber si nuestro modelo supera esta prueba de cordura:"
   ]
  },
  {
   "cell_type": "code",
   "execution_count": 103,
   "metadata": {},
   "outputs": [
    {
     "name": "stdout",
     "output_type": "stream",
     "text": [
      "La exactitud del modelo de Bosque aleatorio es: 0.8195956454121306\n",
      "La exactitud del test de cordura con ceros es: 0.6967340590979783\n",
      "La exactitud del test de cordura aleatorio es: 0.5489891135303266\n"
     ]
    }
   ],
   "source": [
    "print(f\"La exactitud del modelo de Bosque aleatorio es: {model_forest.score(features_test, target_test)}\")\n",
    "\n",
    "print(f\"La exactitud del test de cordura con ceros es: {accuracy_score(target_test, sanity_check_0_pred)}\")\n",
    "\n",
    "print(f\"La exactitud del test de cordura aleatorio es: {accuracy_score(target_test, sanity_check_random_pred)}\")"
   ]
  },
  {
   "attachments": {},
   "cell_type": "markdown",
   "metadata": {},
   "source": [
    "## Pequeñas conclusiones del apartado <a id='h1'></a>"
   ]
  },
  {
   "attachments": {},
   "cell_type": "markdown",
   "metadata": {},
   "source": [
    "Luego de crear predicciones para nuestra prueba de cordura, podemos concluir que nuestro modelo supera el *sanity check* para los dos casos presentados, tanto con un array de ceros como con uno que incluye cero y unos de forma aleatoria. En otras palabras, nuestro modelo predice mejor que uno que solo predice ceros, o incluso que uno que predice ceros y unos de manera aleatoria. Todo esto basándonos en la métrica de *accuracy*. \n",
    "\n",
    "Nunca olvidemos las limitaciones de la métrica utilizada en el proyecto (*accuracy*). "
   ]
  },
  {
   "attachments": {},
   "cell_type": "markdown",
   "metadata": {},
   "source": [
    "# Conclusiones finales <a id='i'></a>"
   ]
  },
  {
   "attachments": {},
   "cell_type": "markdown",
   "metadata": {},
   "source": [
    "**Conclusiones de la exploración inicial y segmentación de datos**"
   ]
  },
  {
   "attachments": {},
   "cell_type": "markdown",
   "metadata": {},
   "source": [
    "En el apartado de la exploración pudimos observar que nuestro conjunto total de datos ya se encontraba listo y no requería de ningún tipo de preprocesamiento inicial, teniendo como mención resaltable al ligero desbalance de nuestra variable objetivo.\n",
    "\n",
    "Para complementar y recordar el comportamiento de los usuarios, mediante gráficos de caja concluimos que la segmentación existe y que esta diferencia nos ayuda a fundamentar nuestro futuro modelamiento, tanto para entrenar nuestros datos como para pronosticarlos.\n",
    " \n",
    "A continuación, separamos el dataset en la variable objetivo y sus características, así como en datasets de entrenamiento, validación y prueba, siguiendo la proporción de 3:1:1, de manera exitosa."
   ]
  },
  {
   "attachments": {},
   "cell_type": "markdown",
   "metadata": {},
   "source": [
    "**Conclusiones del entrenamiento y ajuste de hiperparámetros**"
   ]
  },
  {
   "attachments": {},
   "cell_type": "markdown",
   "metadata": {},
   "source": [
    "En este apartado utilizamos el dataset de validación, bucles y la métrica *accuracy* para determinar los mejores hiperparámetros en los modelos de *Decision Tree*, *Random Forest* y *Logistic Regression*. En este proceso, el modelo de *Logistic Regression* no superó el umbral mínimo de *accuracy* para continuar con la siguiente etapa, mientras que pudimos obtener los hiperparámetros óptimos para los demás modelos."
   ]
  },
  {
   "attachments": {},
   "cell_type": "markdown",
   "metadata": {},
   "source": [
    "**Conclusiones de la prueba de calidad del modelo**"
   ]
  },
  {
   "attachments": {},
   "cell_type": "markdown",
   "metadata": {},
   "source": [
    "En esta sección, utilizamos el dataset de prueba para comprobar el rendimiento práctico de nuestro modelo, utilizando los hiperparámetros óptimos obtenidos en el anterior apartado. Utilizando *accuracy* como medida de ajuste, la diferencia entre los modelos de *Decision Tree* y *Random Forest* resultó siendo marginal, pero por cuestiones teóricas y de requerimientos nos decidimos a determinar como mejor modelo a *Random Forest*. "
   ]
  },
  {
   "attachments": {},
   "cell_type": "markdown",
   "metadata": {},
   "source": [
    "**Conclusiones de la prueba de cordura**"
   ]
  },
  {
   "attachments": {},
   "cell_type": "markdown",
   "metadata": {},
   "source": [
    "Debido a un último requerimiento, realizamos un *sanity check* considerando dos suposiciones: predicciones basadas en ceros y predicciones basadas en valores ceros y unos de forma aleatoria. Nuevamente utilizamos *accuracy* para comparar el ajuste de estos modelos respecto al modelo final de *Random Forest* obtenido, y este último resultó tener una mejor métrica, superando esta prueba."
   ]
  },
  {
   "attachments": {},
   "cell_type": "markdown",
   "metadata": {},
   "source": [
    "**Recomendaciones**"
   ]
  },
  {
   "attachments": {},
   "cell_type": "markdown",
   "metadata": {},
   "source": [
    "Recordaremos cuestiones o limitaciones importantes en el desarrollo de este proceso antes de utilizar este modelo final de *Random Forest* estimado:\n",
    "* No analizamos a profundidad el problema del desbalance de nuestros datos, aunque en términos generales este problema no parece ser muy fuerte. Tomar en cuenta modelos que consideren este problema podría mejorar el desempeño en la predicción de la variable objetivo.\n",
    "* Utilizamos *accuracy* como métrica de desempeño en este proyecto. El uso de esta métrica no es mala en principio, pero complementar con otras métricas también podría mejorar la elección del modelo y su desempeño predictivo.\n",
    "* Nuestros modelos cuentan con relativas buenas métricas de exactitud, pero no profundizamos en la presencia del posible sobreajuste al que tienden los modelos basados en árboles. Es posible que sea necesario analizar este problema para obtener modelos con mejores capacidades de generalizar y predecir información.\n",
    "* Utilizamos solo tres modelos de clasificación: *Decision Tree*, *Random Forest* y *Logistic Regression*. Existen más modelos para problemas de clasificación, pero aún están fuera del alcance del proyecto.\n",
    "* Finalmente, teniendo en cuenta estas limitaciones, recomendamos utilizar el modelo de *Random Forest* para intentar predecir y recomendar planes de telefonía a los clientes de la empresa Megaline. El despliegue y uso de medios será considerado por el área correspondiente y se espera un correcto rendimiento del modelo bajo las condiciones dadas en el momento de la obtención de datos de la empresa.\n"
   ]
  }
 ],
 "metadata": {
  "kernelspec": {
   "display_name": "Python 3 (ipykernel)",
   "language": "python",
   "name": "python3"
  },
  "language_info": {
   "codemirror_mode": {
    "name": "ipython",
    "version": 3
   },
   "file_extension": ".py",
   "mimetype": "text/x-python",
   "name": "python",
   "nbconvert_exporter": "python",
   "pygments_lexer": "ipython3",
   "version": "3.9.7"
  },
  "toc": {
   "base_numbering": 1,
   "nav_menu": {},
   "number_sections": true,
   "sideBar": true,
   "skip_h1_title": true,
   "title_cell": "Table of Contents",
   "title_sidebar": "Contents",
   "toc_cell": false,
   "toc_position": {},
   "toc_section_display": true,
   "toc_window_display": false
  }
 },
 "nbformat": 4,
 "nbformat_minor": 2
}
