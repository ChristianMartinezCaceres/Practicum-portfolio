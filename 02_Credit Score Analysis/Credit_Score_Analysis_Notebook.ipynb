{
 "cells": [
  {
   "cell_type": "markdown",
   "metadata": {},
   "source": [
    "# Análisis del riesgo de incumplimiento de los prestatarios\n",
    "\n",
    "Tu proyecto consiste en preparar un informe para la división de préstamos de un banco. Deberás averiguar si el estado civil y el número de hijos de un cliente tienen un impacto en el incumplimiento de pago de un préstamo. El banco ya tiene algunos datos sobre la solvencia crediticia de los clientes.\n",
    "\n",
    "Tu informe se tendrá en cuenta al crear una **puntuación de crédito** para un cliente potencial. La **puntuación de crédito** se utiliza para evaluar la capacidad de un prestatario potencial para pagar su préstamo."
   ]
  },
  {
   "cell_type": "markdown",
   "metadata": {},
   "source": [
    "# Credit Scoring y el análisis de riesgo de incumplimiento"
   ]
  },
  {
   "cell_type": "markdown",
   "metadata": {},
   "source": [
    "# Contenido\n",
    "* [Introducción](#intro)\n",
    "* [Objetivos](#objetivos)\n",
    "* [Etapas](#Etapas)\n",
    "* [Descripción de los datos](#descrip)\n",
    "    * [Exploración de los datos](#exploracion)\n",
    "    * [Conclusiones](#conclusion1)\n",
    "* [Preprocesamiento de los datos](#preprocesamiento)\n",
    "    * [Transformación de los datos](#transformacion)\n",
    "    * [Trabajar con valores ausentes](#ausentes)\n",
    "    * [Clasificación de datos](#clasif)\n",
    "    * [Conclusiones](#conclusiones_preproc)\n",
    "* [Comprobación de las hipótesis](#hipotesis)\n",
    "* [Conclusión general](#conclusion)\n",
    "\n"
   ]
  },
  {
   "cell_type": "markdown",
   "metadata": {},
   "source": [
    "## Introducción <a id='intro'></a>\n",
    "Para este proyecto, nuestro trabajo consiste en analizar a posibles factores de incumplimiento del pago de un préstamo de la división de préstamos de un banco. Las hipótesis exactas serán presentadas abajo y se requerirán aplicar técnicas de procesamiento de datos para poder demostrar de manera confiable las hipótesis requeridas. Cada espacio de código incluye sus respectivos comentarios y documentación para ayudar en la comprensión de la lógica de desarrollo del proyecto.  "
   ]
  },
  {
   "cell_type": "markdown",
   "metadata": {},
   "source": [
    "## Objetivos <a id='objetivos'></a>\n",
    "Probar las siguientes hipótesis:\n",
    "1. Existe una relación entre tener hijos y el pago de un préstamo a tiempo.\n",
    "2. Existe una relación entre el estado civil y el pago de un préstamo a tiempo.\n",
    "3. Existe una relación entre el nivel de ingresos y el pago de un préstamo a tiempo.\n",
    "4. Existe una relación entre los propósitos del préstamo y el pago de un préstamo a tiempo."
   ]
  },
  {
   "cell_type": "markdown",
   "metadata": {},
   "source": [
    "## Etapas <a id='etapas'></a>\n",
    "Debido a que no hay ninguna información sobre la calidad de los datos ni tampoco una manera de comunicarnos con el equipo respectivo de tratamiento de datos de la institución, gran parte del tratamiento previo de los datos será realizado utilizando las suposiciones más razonables desde el punto de vista del autor. Para esto, seguiremos los siguientes pasos de manera general:\n",
    "1. Descripción de los datos.\n",
    "2. Preprocesamiento de los datos.\n",
    "3. Prueba de las hipótesis. "
   ]
  },
  {
   "cell_type": "markdown",
   "metadata": {},
   "source": [
    "## Descripción de los datos <a id='descrip'><a/>\n",
    "\n",
    "Empezaremos importando las librerías necesarias para el análisis y con una exploración previa de los datos."
   ]
  },
  {
   "cell_type": "code",
   "execution_count": 1,
   "metadata": {},
   "outputs": [],
   "source": [
    "import pandas as pd # importando pandas"
   ]
  },
  {
   "cell_type": "code",
   "execution_count": 2,
   "metadata": {},
   "outputs": [],
   "source": [
    "credit_scoring = pd.read_csv('/datasets/credit_scoring_eng.csv') # Abriendo y guardando el dataset"
   ]
  },
  {
   "cell_type": "markdown",
   "metadata": {},
   "source": [
    "### Exploración de datos <a id='exploracion'><a/>\n",
    "\n",
    "**Descripción de los datos**\n",
    "- `children` - el número de hijos en la familia\n",
    "- `days_employed` - experiencia laboral en días\n",
    "- `dob_years` - la edad del cliente en años\n",
    "- `education` - la educación del cliente\n",
    "- `education_id` - identificador de educación\n",
    "- `family_status` - estado civil\n",
    "- `family_status_id` - identificador de estado civil\n",
    "- `gender` - género del cliente\n",
    "- `income_type` - tipo de empleo\n",
    "- `debt` - ¿había alguna deuda en el pago de un préstamo?\n",
    "- `total_income` - ingreso mensual\n",
    "- `purpose` - el propósito de obtener un préstamo\n",
    "\n",
    "Teniendo como base la documentación, tenemos esta descripción de las columnas. Ahora seguimos con la primera parte del análisis exploratorio, observando las columnas y una muestra de nuestros datos:"
   ]
  },
  {
   "cell_type": "code",
   "execution_count": 3,
   "metadata": {
    "scrolled": true
   },
   "outputs": [
    {
     "data": {
      "text/html": [
       "<div>\n",
       "<style scoped>\n",
       "    .dataframe tbody tr th:only-of-type {\n",
       "        vertical-align: middle;\n",
       "    }\n",
       "\n",
       "    .dataframe tbody tr th {\n",
       "        vertical-align: top;\n",
       "    }\n",
       "\n",
       "    .dataframe thead th {\n",
       "        text-align: right;\n",
       "    }\n",
       "</style>\n",
       "<table border=\"1\" class=\"dataframe\">\n",
       "  <thead>\n",
       "    <tr style=\"text-align: right;\">\n",
       "      <th></th>\n",
       "      <th>children</th>\n",
       "      <th>days_employed</th>\n",
       "      <th>dob_years</th>\n",
       "      <th>education_id</th>\n",
       "      <th>family_status_id</th>\n",
       "      <th>debt</th>\n",
       "      <th>total_income</th>\n",
       "    </tr>\n",
       "  </thead>\n",
       "  <tbody>\n",
       "    <tr>\n",
       "      <th>count</th>\n",
       "      <td>21525.000000</td>\n",
       "      <td>19351.000000</td>\n",
       "      <td>21525.000000</td>\n",
       "      <td>21525.000000</td>\n",
       "      <td>21525.000000</td>\n",
       "      <td>21525.000000</td>\n",
       "      <td>19351.000000</td>\n",
       "    </tr>\n",
       "    <tr>\n",
       "      <th>mean</th>\n",
       "      <td>0.538908</td>\n",
       "      <td>63046.497661</td>\n",
       "      <td>43.293380</td>\n",
       "      <td>0.817236</td>\n",
       "      <td>0.972544</td>\n",
       "      <td>0.080883</td>\n",
       "      <td>26787.568355</td>\n",
       "    </tr>\n",
       "    <tr>\n",
       "      <th>std</th>\n",
       "      <td>1.381587</td>\n",
       "      <td>140827.311974</td>\n",
       "      <td>12.574584</td>\n",
       "      <td>0.548138</td>\n",
       "      <td>1.420324</td>\n",
       "      <td>0.272661</td>\n",
       "      <td>16475.450632</td>\n",
       "    </tr>\n",
       "    <tr>\n",
       "      <th>min</th>\n",
       "      <td>-1.000000</td>\n",
       "      <td>-18388.949901</td>\n",
       "      <td>0.000000</td>\n",
       "      <td>0.000000</td>\n",
       "      <td>0.000000</td>\n",
       "      <td>0.000000</td>\n",
       "      <td>3306.762000</td>\n",
       "    </tr>\n",
       "    <tr>\n",
       "      <th>25%</th>\n",
       "      <td>0.000000</td>\n",
       "      <td>-2747.423625</td>\n",
       "      <td>33.000000</td>\n",
       "      <td>1.000000</td>\n",
       "      <td>0.000000</td>\n",
       "      <td>0.000000</td>\n",
       "      <td>16488.504500</td>\n",
       "    </tr>\n",
       "    <tr>\n",
       "      <th>50%</th>\n",
       "      <td>0.000000</td>\n",
       "      <td>-1203.369529</td>\n",
       "      <td>42.000000</td>\n",
       "      <td>1.000000</td>\n",
       "      <td>0.000000</td>\n",
       "      <td>0.000000</td>\n",
       "      <td>23202.870000</td>\n",
       "    </tr>\n",
       "    <tr>\n",
       "      <th>75%</th>\n",
       "      <td>1.000000</td>\n",
       "      <td>-291.095954</td>\n",
       "      <td>53.000000</td>\n",
       "      <td>1.000000</td>\n",
       "      <td>1.000000</td>\n",
       "      <td>0.000000</td>\n",
       "      <td>32549.611000</td>\n",
       "    </tr>\n",
       "    <tr>\n",
       "      <th>max</th>\n",
       "      <td>20.000000</td>\n",
       "      <td>401755.400475</td>\n",
       "      <td>75.000000</td>\n",
       "      <td>4.000000</td>\n",
       "      <td>4.000000</td>\n",
       "      <td>1.000000</td>\n",
       "      <td>362496.645000</td>\n",
       "    </tr>\n",
       "  </tbody>\n",
       "</table>\n",
       "</div>"
      ],
      "text/plain": [
       "           children  days_employed     dob_years  education_id  \\\n",
       "count  21525.000000   19351.000000  21525.000000  21525.000000   \n",
       "mean       0.538908   63046.497661     43.293380      0.817236   \n",
       "std        1.381587  140827.311974     12.574584      0.548138   \n",
       "min       -1.000000  -18388.949901      0.000000      0.000000   \n",
       "25%        0.000000   -2747.423625     33.000000      1.000000   \n",
       "50%        0.000000   -1203.369529     42.000000      1.000000   \n",
       "75%        1.000000    -291.095954     53.000000      1.000000   \n",
       "max       20.000000  401755.400475     75.000000      4.000000   \n",
       "\n",
       "       family_status_id          debt   total_income  \n",
       "count      21525.000000  21525.000000   19351.000000  \n",
       "mean           0.972544      0.080883   26787.568355  \n",
       "std            1.420324      0.272661   16475.450632  \n",
       "min            0.000000      0.000000    3306.762000  \n",
       "25%            0.000000      0.000000   16488.504500  \n",
       "50%            0.000000      0.000000   23202.870000  \n",
       "75%            1.000000      0.000000   32549.611000  \n",
       "max            4.000000      1.000000  362496.645000  "
      ]
     },
     "execution_count": 3,
     "metadata": {},
     "output_type": "execute_result"
    }
   ],
   "source": [
    "credit_scoring.describe() # observando un resumen de las filas y columnas de nuestro conjunto de datos"
   ]
  },
  {
   "cell_type": "code",
   "execution_count": 4,
   "metadata": {
    "scrolled": true
   },
   "outputs": [
    {
     "data": {
      "text/html": [
       "<div>\n",
       "<style scoped>\n",
       "    .dataframe tbody tr th:only-of-type {\n",
       "        vertical-align: middle;\n",
       "    }\n",
       "\n",
       "    .dataframe tbody tr th {\n",
       "        vertical-align: top;\n",
       "    }\n",
       "\n",
       "    .dataframe thead th {\n",
       "        text-align: right;\n",
       "    }\n",
       "</style>\n",
       "<table border=\"1\" class=\"dataframe\">\n",
       "  <thead>\n",
       "    <tr style=\"text-align: right;\">\n",
       "      <th></th>\n",
       "      <th>children</th>\n",
       "      <th>days_employed</th>\n",
       "      <th>dob_years</th>\n",
       "      <th>education</th>\n",
       "      <th>education_id</th>\n",
       "      <th>family_status</th>\n",
       "      <th>family_status_id</th>\n",
       "      <th>gender</th>\n",
       "      <th>income_type</th>\n",
       "      <th>debt</th>\n",
       "      <th>total_income</th>\n",
       "      <th>purpose</th>\n",
       "    </tr>\n",
       "  </thead>\n",
       "  <tbody>\n",
       "    <tr>\n",
       "      <th>0</th>\n",
       "      <td>1</td>\n",
       "      <td>-8437.673028</td>\n",
       "      <td>42</td>\n",
       "      <td>bachelor's degree</td>\n",
       "      <td>0</td>\n",
       "      <td>married</td>\n",
       "      <td>0</td>\n",
       "      <td>F</td>\n",
       "      <td>employee</td>\n",
       "      <td>0</td>\n",
       "      <td>40620.102</td>\n",
       "      <td>purchase of the house</td>\n",
       "    </tr>\n",
       "    <tr>\n",
       "      <th>1</th>\n",
       "      <td>1</td>\n",
       "      <td>-4024.803754</td>\n",
       "      <td>36</td>\n",
       "      <td>secondary education</td>\n",
       "      <td>1</td>\n",
       "      <td>married</td>\n",
       "      <td>0</td>\n",
       "      <td>F</td>\n",
       "      <td>employee</td>\n",
       "      <td>0</td>\n",
       "      <td>17932.802</td>\n",
       "      <td>car purchase</td>\n",
       "    </tr>\n",
       "    <tr>\n",
       "      <th>2</th>\n",
       "      <td>0</td>\n",
       "      <td>-5623.422610</td>\n",
       "      <td>33</td>\n",
       "      <td>Secondary Education</td>\n",
       "      <td>1</td>\n",
       "      <td>married</td>\n",
       "      <td>0</td>\n",
       "      <td>M</td>\n",
       "      <td>employee</td>\n",
       "      <td>0</td>\n",
       "      <td>23341.752</td>\n",
       "      <td>purchase of the house</td>\n",
       "    </tr>\n",
       "    <tr>\n",
       "      <th>3</th>\n",
       "      <td>3</td>\n",
       "      <td>-4124.747207</td>\n",
       "      <td>32</td>\n",
       "      <td>secondary education</td>\n",
       "      <td>1</td>\n",
       "      <td>married</td>\n",
       "      <td>0</td>\n",
       "      <td>M</td>\n",
       "      <td>employee</td>\n",
       "      <td>0</td>\n",
       "      <td>42820.568</td>\n",
       "      <td>supplementary education</td>\n",
       "    </tr>\n",
       "    <tr>\n",
       "      <th>4</th>\n",
       "      <td>0</td>\n",
       "      <td>340266.072047</td>\n",
       "      <td>53</td>\n",
       "      <td>secondary education</td>\n",
       "      <td>1</td>\n",
       "      <td>civil partnership</td>\n",
       "      <td>1</td>\n",
       "      <td>F</td>\n",
       "      <td>retiree</td>\n",
       "      <td>0</td>\n",
       "      <td>25378.572</td>\n",
       "      <td>to have a wedding</td>\n",
       "    </tr>\n",
       "    <tr>\n",
       "      <th>5</th>\n",
       "      <td>0</td>\n",
       "      <td>-926.185831</td>\n",
       "      <td>27</td>\n",
       "      <td>bachelor's degree</td>\n",
       "      <td>0</td>\n",
       "      <td>civil partnership</td>\n",
       "      <td>1</td>\n",
       "      <td>M</td>\n",
       "      <td>business</td>\n",
       "      <td>0</td>\n",
       "      <td>40922.170</td>\n",
       "      <td>purchase of the house</td>\n",
       "    </tr>\n",
       "    <tr>\n",
       "      <th>6</th>\n",
       "      <td>0</td>\n",
       "      <td>-2879.202052</td>\n",
       "      <td>43</td>\n",
       "      <td>bachelor's degree</td>\n",
       "      <td>0</td>\n",
       "      <td>married</td>\n",
       "      <td>0</td>\n",
       "      <td>F</td>\n",
       "      <td>business</td>\n",
       "      <td>0</td>\n",
       "      <td>38484.156</td>\n",
       "      <td>housing transactions</td>\n",
       "    </tr>\n",
       "    <tr>\n",
       "      <th>7</th>\n",
       "      <td>0</td>\n",
       "      <td>-152.779569</td>\n",
       "      <td>50</td>\n",
       "      <td>SECONDARY EDUCATION</td>\n",
       "      <td>1</td>\n",
       "      <td>married</td>\n",
       "      <td>0</td>\n",
       "      <td>M</td>\n",
       "      <td>employee</td>\n",
       "      <td>0</td>\n",
       "      <td>21731.829</td>\n",
       "      <td>education</td>\n",
       "    </tr>\n",
       "    <tr>\n",
       "      <th>8</th>\n",
       "      <td>2</td>\n",
       "      <td>-6929.865299</td>\n",
       "      <td>35</td>\n",
       "      <td>BACHELOR'S DEGREE</td>\n",
       "      <td>0</td>\n",
       "      <td>civil partnership</td>\n",
       "      <td>1</td>\n",
       "      <td>F</td>\n",
       "      <td>employee</td>\n",
       "      <td>0</td>\n",
       "      <td>15337.093</td>\n",
       "      <td>having a wedding</td>\n",
       "    </tr>\n",
       "    <tr>\n",
       "      <th>9</th>\n",
       "      <td>0</td>\n",
       "      <td>-2188.756445</td>\n",
       "      <td>41</td>\n",
       "      <td>secondary education</td>\n",
       "      <td>1</td>\n",
       "      <td>married</td>\n",
       "      <td>0</td>\n",
       "      <td>M</td>\n",
       "      <td>employee</td>\n",
       "      <td>0</td>\n",
       "      <td>23108.150</td>\n",
       "      <td>purchase of the house for my family</td>\n",
       "    </tr>\n",
       "    <tr>\n",
       "      <th>10</th>\n",
       "      <td>2</td>\n",
       "      <td>-4171.483647</td>\n",
       "      <td>36</td>\n",
       "      <td>bachelor's degree</td>\n",
       "      <td>0</td>\n",
       "      <td>married</td>\n",
       "      <td>0</td>\n",
       "      <td>M</td>\n",
       "      <td>business</td>\n",
       "      <td>0</td>\n",
       "      <td>18230.959</td>\n",
       "      <td>buy real estate</td>\n",
       "    </tr>\n",
       "    <tr>\n",
       "      <th>11</th>\n",
       "      <td>0</td>\n",
       "      <td>-792.701887</td>\n",
       "      <td>40</td>\n",
       "      <td>secondary education</td>\n",
       "      <td>1</td>\n",
       "      <td>married</td>\n",
       "      <td>0</td>\n",
       "      <td>F</td>\n",
       "      <td>employee</td>\n",
       "      <td>0</td>\n",
       "      <td>12331.077</td>\n",
       "      <td>buy commercial real estate</td>\n",
       "    </tr>\n",
       "    <tr>\n",
       "      <th>12</th>\n",
       "      <td>0</td>\n",
       "      <td>NaN</td>\n",
       "      <td>65</td>\n",
       "      <td>secondary education</td>\n",
       "      <td>1</td>\n",
       "      <td>civil partnership</td>\n",
       "      <td>1</td>\n",
       "      <td>M</td>\n",
       "      <td>retiree</td>\n",
       "      <td>0</td>\n",
       "      <td>NaN</td>\n",
       "      <td>to have a wedding</td>\n",
       "    </tr>\n",
       "    <tr>\n",
       "      <th>13</th>\n",
       "      <td>0</td>\n",
       "      <td>-1846.641941</td>\n",
       "      <td>54</td>\n",
       "      <td>some college</td>\n",
       "      <td>2</td>\n",
       "      <td>married</td>\n",
       "      <td>0</td>\n",
       "      <td>F</td>\n",
       "      <td>employee</td>\n",
       "      <td>0</td>\n",
       "      <td>20873.317</td>\n",
       "      <td>car purchase</td>\n",
       "    </tr>\n",
       "    <tr>\n",
       "      <th>14</th>\n",
       "      <td>0</td>\n",
       "      <td>-1844.956182</td>\n",
       "      <td>56</td>\n",
       "      <td>bachelor's degree</td>\n",
       "      <td>0</td>\n",
       "      <td>civil partnership</td>\n",
       "      <td>1</td>\n",
       "      <td>F</td>\n",
       "      <td>business</td>\n",
       "      <td>1</td>\n",
       "      <td>26420.466</td>\n",
       "      <td>buy residential real estate</td>\n",
       "    </tr>\n",
       "  </tbody>\n",
       "</table>\n",
       "</div>"
      ],
      "text/plain": [
       "    children  days_employed  dob_years            education  education_id  \\\n",
       "0          1   -8437.673028         42    bachelor's degree             0   \n",
       "1          1   -4024.803754         36  secondary education             1   \n",
       "2          0   -5623.422610         33  Secondary Education             1   \n",
       "3          3   -4124.747207         32  secondary education             1   \n",
       "4          0  340266.072047         53  secondary education             1   \n",
       "5          0    -926.185831         27    bachelor's degree             0   \n",
       "6          0   -2879.202052         43    bachelor's degree             0   \n",
       "7          0    -152.779569         50  SECONDARY EDUCATION             1   \n",
       "8          2   -6929.865299         35    BACHELOR'S DEGREE             0   \n",
       "9          0   -2188.756445         41  secondary education             1   \n",
       "10         2   -4171.483647         36    bachelor's degree             0   \n",
       "11         0    -792.701887         40  secondary education             1   \n",
       "12         0            NaN         65  secondary education             1   \n",
       "13         0   -1846.641941         54         some college             2   \n",
       "14         0   -1844.956182         56    bachelor's degree             0   \n",
       "\n",
       "        family_status  family_status_id gender income_type  debt  \\\n",
       "0             married                 0      F    employee     0   \n",
       "1             married                 0      F    employee     0   \n",
       "2             married                 0      M    employee     0   \n",
       "3             married                 0      M    employee     0   \n",
       "4   civil partnership                 1      F     retiree     0   \n",
       "5   civil partnership                 1      M    business     0   \n",
       "6             married                 0      F    business     0   \n",
       "7             married                 0      M    employee     0   \n",
       "8   civil partnership                 1      F    employee     0   \n",
       "9             married                 0      M    employee     0   \n",
       "10            married                 0      M    business     0   \n",
       "11            married                 0      F    employee     0   \n",
       "12  civil partnership                 1      M     retiree     0   \n",
       "13            married                 0      F    employee     0   \n",
       "14  civil partnership                 1      F    business     1   \n",
       "\n",
       "    total_income                              purpose  \n",
       "0      40620.102                purchase of the house  \n",
       "1      17932.802                         car purchase  \n",
       "2      23341.752                purchase of the house  \n",
       "3      42820.568              supplementary education  \n",
       "4      25378.572                    to have a wedding  \n",
       "5      40922.170                purchase of the house  \n",
       "6      38484.156                 housing transactions  \n",
       "7      21731.829                            education  \n",
       "8      15337.093                     having a wedding  \n",
       "9      23108.150  purchase of the house for my family  \n",
       "10     18230.959                      buy real estate  \n",
       "11     12331.077           buy commercial real estate  \n",
       "12           NaN                    to have a wedding  \n",
       "13     20873.317                         car purchase  \n",
       "14     26420.466          buy residential real estate  "
      ]
     },
     "execution_count": 4,
     "metadata": {},
     "output_type": "execute_result"
    }
   ],
   "source": [
    "credit_scoring.head(15) # mostrando las 15 primeras filas del dataset\n"
   ]
  },
  {
   "cell_type": "markdown",
   "metadata": {},
   "source": [
    "En este primer vistazo, en la primera tabla observamos varios problemas. \n",
    "1. En el primer cuadro, la columna referida al número de hijos tiene valores negativos y atípicos.\n",
    "2. La columna de días de empleo también tiene valores negativos y atípicos.\n",
    "3. La columna de edad tiene como valor mínimo a cero.\n",
    "4. En el segundo cuadro, se observan valores ausentes en dos columnas.\n",
    "5. También en la columna \"education\" tenemos valores en minúscula y mayúscula.\n",
    "\n",
    "Procedemos a observar todos los atributos del dataset. "
   ]
  },
  {
   "cell_type": "code",
   "execution_count": 5,
   "metadata": {
    "scrolled": true
   },
   "outputs": [
    {
     "name": "stdout",
     "output_type": "stream",
     "text": [
      "<class 'pandas.core.frame.DataFrame'>\n",
      "RangeIndex: 21525 entries, 0 to 21524\n",
      "Data columns (total 12 columns):\n",
      " #   Column            Non-Null Count  Dtype  \n",
      "---  ------            --------------  -----  \n",
      " 0   children          21525 non-null  int64  \n",
      " 1   days_employed     19351 non-null  float64\n",
      " 2   dob_years         21525 non-null  int64  \n",
      " 3   education         21525 non-null  object \n",
      " 4   education_id      21525 non-null  int64  \n",
      " 5   family_status     21525 non-null  object \n",
      " 6   family_status_id  21525 non-null  int64  \n",
      " 7   gender            21525 non-null  object \n",
      " 8   income_type       21525 non-null  object \n",
      " 9   debt              21525 non-null  int64  \n",
      " 10  total_income      19351 non-null  float64\n",
      " 11  purpose           21525 non-null  object \n",
      "dtypes: float64(2), int64(5), object(5)\n",
      "memory usage: 2.0+ MB\n"
     ]
    }
   ],
   "source": [
    "credit_scoring.info() # Obteniendo toda la información sobre los datos\n"
   ]
  },
  {
   "cell_type": "markdown",
   "metadata": {},
   "source": [
    "Tal como se sospechaba, existen dos columnas con valores distintos; por tanto, tenemos valores ausentes. Por ahora no se tiene información suficiente para determinar filas duplicadas. Analizaremos más a detalle estos valores ausentes."
   ]
  },
  {
   "cell_type": "code",
   "execution_count": 6,
   "metadata": {
    "scrolled": true
   },
   "outputs": [
    {
     "data": {
      "text/html": [
       "<div>\n",
       "<style scoped>\n",
       "    .dataframe tbody tr th:only-of-type {\n",
       "        vertical-align: middle;\n",
       "    }\n",
       "\n",
       "    .dataframe tbody tr th {\n",
       "        vertical-align: top;\n",
       "    }\n",
       "\n",
       "    .dataframe thead th {\n",
       "        text-align: right;\n",
       "    }\n",
       "</style>\n",
       "<table border=\"1\" class=\"dataframe\">\n",
       "  <thead>\n",
       "    <tr style=\"text-align: right;\">\n",
       "      <th></th>\n",
       "      <th>children</th>\n",
       "      <th>days_employed</th>\n",
       "      <th>dob_years</th>\n",
       "      <th>education</th>\n",
       "      <th>education_id</th>\n",
       "      <th>family_status</th>\n",
       "      <th>family_status_id</th>\n",
       "      <th>gender</th>\n",
       "      <th>income_type</th>\n",
       "      <th>debt</th>\n",
       "      <th>total_income</th>\n",
       "      <th>purpose</th>\n",
       "    </tr>\n",
       "  </thead>\n",
       "  <tbody>\n",
       "    <tr>\n",
       "      <th>12</th>\n",
       "      <td>0</td>\n",
       "      <td>NaN</td>\n",
       "      <td>65</td>\n",
       "      <td>secondary education</td>\n",
       "      <td>1</td>\n",
       "      <td>civil partnership</td>\n",
       "      <td>1</td>\n",
       "      <td>M</td>\n",
       "      <td>retiree</td>\n",
       "      <td>0</td>\n",
       "      <td>NaN</td>\n",
       "      <td>to have a wedding</td>\n",
       "    </tr>\n",
       "    <tr>\n",
       "      <th>26</th>\n",
       "      <td>0</td>\n",
       "      <td>NaN</td>\n",
       "      <td>41</td>\n",
       "      <td>secondary education</td>\n",
       "      <td>1</td>\n",
       "      <td>married</td>\n",
       "      <td>0</td>\n",
       "      <td>M</td>\n",
       "      <td>civil servant</td>\n",
       "      <td>0</td>\n",
       "      <td>NaN</td>\n",
       "      <td>education</td>\n",
       "    </tr>\n",
       "    <tr>\n",
       "      <th>29</th>\n",
       "      <td>0</td>\n",
       "      <td>NaN</td>\n",
       "      <td>63</td>\n",
       "      <td>secondary education</td>\n",
       "      <td>1</td>\n",
       "      <td>unmarried</td>\n",
       "      <td>4</td>\n",
       "      <td>F</td>\n",
       "      <td>retiree</td>\n",
       "      <td>0</td>\n",
       "      <td>NaN</td>\n",
       "      <td>building a real estate</td>\n",
       "    </tr>\n",
       "    <tr>\n",
       "      <th>41</th>\n",
       "      <td>0</td>\n",
       "      <td>NaN</td>\n",
       "      <td>50</td>\n",
       "      <td>secondary education</td>\n",
       "      <td>1</td>\n",
       "      <td>married</td>\n",
       "      <td>0</td>\n",
       "      <td>F</td>\n",
       "      <td>civil servant</td>\n",
       "      <td>0</td>\n",
       "      <td>NaN</td>\n",
       "      <td>second-hand car purchase</td>\n",
       "    </tr>\n",
       "    <tr>\n",
       "      <th>55</th>\n",
       "      <td>0</td>\n",
       "      <td>NaN</td>\n",
       "      <td>54</td>\n",
       "      <td>secondary education</td>\n",
       "      <td>1</td>\n",
       "      <td>civil partnership</td>\n",
       "      <td>1</td>\n",
       "      <td>F</td>\n",
       "      <td>retiree</td>\n",
       "      <td>1</td>\n",
       "      <td>NaN</td>\n",
       "      <td>to have a wedding</td>\n",
       "    </tr>\n",
       "    <tr>\n",
       "      <th>...</th>\n",
       "      <td>...</td>\n",
       "      <td>...</td>\n",
       "      <td>...</td>\n",
       "      <td>...</td>\n",
       "      <td>...</td>\n",
       "      <td>...</td>\n",
       "      <td>...</td>\n",
       "      <td>...</td>\n",
       "      <td>...</td>\n",
       "      <td>...</td>\n",
       "      <td>...</td>\n",
       "      <td>...</td>\n",
       "    </tr>\n",
       "    <tr>\n",
       "      <th>21489</th>\n",
       "      <td>2</td>\n",
       "      <td>NaN</td>\n",
       "      <td>47</td>\n",
       "      <td>Secondary Education</td>\n",
       "      <td>1</td>\n",
       "      <td>married</td>\n",
       "      <td>0</td>\n",
       "      <td>M</td>\n",
       "      <td>business</td>\n",
       "      <td>0</td>\n",
       "      <td>NaN</td>\n",
       "      <td>purchase of a car</td>\n",
       "    </tr>\n",
       "    <tr>\n",
       "      <th>21495</th>\n",
       "      <td>1</td>\n",
       "      <td>NaN</td>\n",
       "      <td>50</td>\n",
       "      <td>secondary education</td>\n",
       "      <td>1</td>\n",
       "      <td>civil partnership</td>\n",
       "      <td>1</td>\n",
       "      <td>F</td>\n",
       "      <td>employee</td>\n",
       "      <td>0</td>\n",
       "      <td>NaN</td>\n",
       "      <td>wedding ceremony</td>\n",
       "    </tr>\n",
       "    <tr>\n",
       "      <th>21497</th>\n",
       "      <td>0</td>\n",
       "      <td>NaN</td>\n",
       "      <td>48</td>\n",
       "      <td>BACHELOR'S DEGREE</td>\n",
       "      <td>0</td>\n",
       "      <td>married</td>\n",
       "      <td>0</td>\n",
       "      <td>F</td>\n",
       "      <td>business</td>\n",
       "      <td>0</td>\n",
       "      <td>NaN</td>\n",
       "      <td>building a property</td>\n",
       "    </tr>\n",
       "    <tr>\n",
       "      <th>21502</th>\n",
       "      <td>1</td>\n",
       "      <td>NaN</td>\n",
       "      <td>42</td>\n",
       "      <td>secondary education</td>\n",
       "      <td>1</td>\n",
       "      <td>married</td>\n",
       "      <td>0</td>\n",
       "      <td>F</td>\n",
       "      <td>employee</td>\n",
       "      <td>0</td>\n",
       "      <td>NaN</td>\n",
       "      <td>building a real estate</td>\n",
       "    </tr>\n",
       "    <tr>\n",
       "      <th>21510</th>\n",
       "      <td>2</td>\n",
       "      <td>NaN</td>\n",
       "      <td>28</td>\n",
       "      <td>secondary education</td>\n",
       "      <td>1</td>\n",
       "      <td>married</td>\n",
       "      <td>0</td>\n",
       "      <td>F</td>\n",
       "      <td>employee</td>\n",
       "      <td>0</td>\n",
       "      <td>NaN</td>\n",
       "      <td>car purchase</td>\n",
       "    </tr>\n",
       "  </tbody>\n",
       "</table>\n",
       "<p>2174 rows × 12 columns</p>\n",
       "</div>"
      ],
      "text/plain": [
       "       children  days_employed  dob_years            education  education_id  \\\n",
       "12            0            NaN         65  secondary education             1   \n",
       "26            0            NaN         41  secondary education             1   \n",
       "29            0            NaN         63  secondary education             1   \n",
       "41            0            NaN         50  secondary education             1   \n",
       "55            0            NaN         54  secondary education             1   \n",
       "...         ...            ...        ...                  ...           ...   \n",
       "21489         2            NaN         47  Secondary Education             1   \n",
       "21495         1            NaN         50  secondary education             1   \n",
       "21497         0            NaN         48    BACHELOR'S DEGREE             0   \n",
       "21502         1            NaN         42  secondary education             1   \n",
       "21510         2            NaN         28  secondary education             1   \n",
       "\n",
       "           family_status  family_status_id gender    income_type  debt  \\\n",
       "12     civil partnership                 1      M        retiree     0   \n",
       "26               married                 0      M  civil servant     0   \n",
       "29             unmarried                 4      F        retiree     0   \n",
       "41               married                 0      F  civil servant     0   \n",
       "55     civil partnership                 1      F        retiree     1   \n",
       "...                  ...               ...    ...            ...   ...   \n",
       "21489            married                 0      M       business     0   \n",
       "21495  civil partnership                 1      F       employee     0   \n",
       "21497            married                 0      F       business     0   \n",
       "21502            married                 0      F       employee     0   \n",
       "21510            married                 0      F       employee     0   \n",
       "\n",
       "       total_income                   purpose  \n",
       "12              NaN         to have a wedding  \n",
       "26              NaN                 education  \n",
       "29              NaN    building a real estate  \n",
       "41              NaN  second-hand car purchase  \n",
       "55              NaN         to have a wedding  \n",
       "...             ...                       ...  \n",
       "21489           NaN         purchase of a car  \n",
       "21495           NaN          wedding ceremony  \n",
       "21497           NaN       building a property  \n",
       "21502           NaN    building a real estate  \n",
       "21510           NaN              car purchase  \n",
       "\n",
       "[2174 rows x 12 columns]"
      ]
     },
     "execution_count": 6,
     "metadata": {},
     "output_type": "execute_result"
    }
   ],
   "source": [
    "credit_scoring[credit_scoring['days_employed'].isna()] \n",
    "#Filrando el dataframe por los valores nulos de la primera columna donde hay valores nulos\n"
   ]
  },
  {
   "cell_type": "markdown",
   "metadata": {},
   "source": [
    "Se puede notar que de manera extraña hay una correlación en los datos ausentes de una columna (days_employed) hacia la otra (education). Se pueden realizar muchas suposiciones al respecto y seguiremos más a fondo esta peculiaridad. Para tener una referencia, esta tabla filtrada tiene 2174 filas."
   ]
  },
  {
   "cell_type": "code",
   "execution_count": 7,
   "metadata": {},
   "outputs": [
    {
     "data": {
      "text/html": [
       "<div>\n",
       "<style scoped>\n",
       "    .dataframe tbody tr th:only-of-type {\n",
       "        vertical-align: middle;\n",
       "    }\n",
       "\n",
       "    .dataframe tbody tr th {\n",
       "        vertical-align: top;\n",
       "    }\n",
       "\n",
       "    .dataframe thead th {\n",
       "        text-align: right;\n",
       "    }\n",
       "</style>\n",
       "<table border=\"1\" class=\"dataframe\">\n",
       "  <thead>\n",
       "    <tr style=\"text-align: right;\">\n",
       "      <th></th>\n",
       "      <th>children</th>\n",
       "      <th>days_employed</th>\n",
       "      <th>dob_years</th>\n",
       "      <th>education</th>\n",
       "      <th>education_id</th>\n",
       "      <th>family_status</th>\n",
       "      <th>family_status_id</th>\n",
       "      <th>gender</th>\n",
       "      <th>income_type</th>\n",
       "      <th>debt</th>\n",
       "      <th>total_income</th>\n",
       "      <th>purpose</th>\n",
       "    </tr>\n",
       "  </thead>\n",
       "  <tbody>\n",
       "    <tr>\n",
       "      <th>12</th>\n",
       "      <td>0</td>\n",
       "      <td>NaN</td>\n",
       "      <td>65</td>\n",
       "      <td>secondary education</td>\n",
       "      <td>1</td>\n",
       "      <td>civil partnership</td>\n",
       "      <td>1</td>\n",
       "      <td>M</td>\n",
       "      <td>retiree</td>\n",
       "      <td>0</td>\n",
       "      <td>NaN</td>\n",
       "      <td>to have a wedding</td>\n",
       "    </tr>\n",
       "    <tr>\n",
       "      <th>26</th>\n",
       "      <td>0</td>\n",
       "      <td>NaN</td>\n",
       "      <td>41</td>\n",
       "      <td>secondary education</td>\n",
       "      <td>1</td>\n",
       "      <td>married</td>\n",
       "      <td>0</td>\n",
       "      <td>M</td>\n",
       "      <td>civil servant</td>\n",
       "      <td>0</td>\n",
       "      <td>NaN</td>\n",
       "      <td>education</td>\n",
       "    </tr>\n",
       "    <tr>\n",
       "      <th>29</th>\n",
       "      <td>0</td>\n",
       "      <td>NaN</td>\n",
       "      <td>63</td>\n",
       "      <td>secondary education</td>\n",
       "      <td>1</td>\n",
       "      <td>unmarried</td>\n",
       "      <td>4</td>\n",
       "      <td>F</td>\n",
       "      <td>retiree</td>\n",
       "      <td>0</td>\n",
       "      <td>NaN</td>\n",
       "      <td>building a real estate</td>\n",
       "    </tr>\n",
       "    <tr>\n",
       "      <th>41</th>\n",
       "      <td>0</td>\n",
       "      <td>NaN</td>\n",
       "      <td>50</td>\n",
       "      <td>secondary education</td>\n",
       "      <td>1</td>\n",
       "      <td>married</td>\n",
       "      <td>0</td>\n",
       "      <td>F</td>\n",
       "      <td>civil servant</td>\n",
       "      <td>0</td>\n",
       "      <td>NaN</td>\n",
       "      <td>second-hand car purchase</td>\n",
       "    </tr>\n",
       "    <tr>\n",
       "      <th>55</th>\n",
       "      <td>0</td>\n",
       "      <td>NaN</td>\n",
       "      <td>54</td>\n",
       "      <td>secondary education</td>\n",
       "      <td>1</td>\n",
       "      <td>civil partnership</td>\n",
       "      <td>1</td>\n",
       "      <td>F</td>\n",
       "      <td>retiree</td>\n",
       "      <td>1</td>\n",
       "      <td>NaN</td>\n",
       "      <td>to have a wedding</td>\n",
       "    </tr>\n",
       "    <tr>\n",
       "      <th>...</th>\n",
       "      <td>...</td>\n",
       "      <td>...</td>\n",
       "      <td>...</td>\n",
       "      <td>...</td>\n",
       "      <td>...</td>\n",
       "      <td>...</td>\n",
       "      <td>...</td>\n",
       "      <td>...</td>\n",
       "      <td>...</td>\n",
       "      <td>...</td>\n",
       "      <td>...</td>\n",
       "      <td>...</td>\n",
       "    </tr>\n",
       "    <tr>\n",
       "      <th>21489</th>\n",
       "      <td>2</td>\n",
       "      <td>NaN</td>\n",
       "      <td>47</td>\n",
       "      <td>Secondary Education</td>\n",
       "      <td>1</td>\n",
       "      <td>married</td>\n",
       "      <td>0</td>\n",
       "      <td>M</td>\n",
       "      <td>business</td>\n",
       "      <td>0</td>\n",
       "      <td>NaN</td>\n",
       "      <td>purchase of a car</td>\n",
       "    </tr>\n",
       "    <tr>\n",
       "      <th>21495</th>\n",
       "      <td>1</td>\n",
       "      <td>NaN</td>\n",
       "      <td>50</td>\n",
       "      <td>secondary education</td>\n",
       "      <td>1</td>\n",
       "      <td>civil partnership</td>\n",
       "      <td>1</td>\n",
       "      <td>F</td>\n",
       "      <td>employee</td>\n",
       "      <td>0</td>\n",
       "      <td>NaN</td>\n",
       "      <td>wedding ceremony</td>\n",
       "    </tr>\n",
       "    <tr>\n",
       "      <th>21497</th>\n",
       "      <td>0</td>\n",
       "      <td>NaN</td>\n",
       "      <td>48</td>\n",
       "      <td>BACHELOR'S DEGREE</td>\n",
       "      <td>0</td>\n",
       "      <td>married</td>\n",
       "      <td>0</td>\n",
       "      <td>F</td>\n",
       "      <td>business</td>\n",
       "      <td>0</td>\n",
       "      <td>NaN</td>\n",
       "      <td>building a property</td>\n",
       "    </tr>\n",
       "    <tr>\n",
       "      <th>21502</th>\n",
       "      <td>1</td>\n",
       "      <td>NaN</td>\n",
       "      <td>42</td>\n",
       "      <td>secondary education</td>\n",
       "      <td>1</td>\n",
       "      <td>married</td>\n",
       "      <td>0</td>\n",
       "      <td>F</td>\n",
       "      <td>employee</td>\n",
       "      <td>0</td>\n",
       "      <td>NaN</td>\n",
       "      <td>building a real estate</td>\n",
       "    </tr>\n",
       "    <tr>\n",
       "      <th>21510</th>\n",
       "      <td>2</td>\n",
       "      <td>NaN</td>\n",
       "      <td>28</td>\n",
       "      <td>secondary education</td>\n",
       "      <td>1</td>\n",
       "      <td>married</td>\n",
       "      <td>0</td>\n",
       "      <td>F</td>\n",
       "      <td>employee</td>\n",
       "      <td>0</td>\n",
       "      <td>NaN</td>\n",
       "      <td>car purchase</td>\n",
       "    </tr>\n",
       "  </tbody>\n",
       "</table>\n",
       "<p>2174 rows × 12 columns</p>\n",
       "</div>"
      ],
      "text/plain": [
       "       children  days_employed  dob_years            education  education_id  \\\n",
       "12            0            NaN         65  secondary education             1   \n",
       "26            0            NaN         41  secondary education             1   \n",
       "29            0            NaN         63  secondary education             1   \n",
       "41            0            NaN         50  secondary education             1   \n",
       "55            0            NaN         54  secondary education             1   \n",
       "...         ...            ...        ...                  ...           ...   \n",
       "21489         2            NaN         47  Secondary Education             1   \n",
       "21495         1            NaN         50  secondary education             1   \n",
       "21497         0            NaN         48    BACHELOR'S DEGREE             0   \n",
       "21502         1            NaN         42  secondary education             1   \n",
       "21510         2            NaN         28  secondary education             1   \n",
       "\n",
       "           family_status  family_status_id gender    income_type  debt  \\\n",
       "12     civil partnership                 1      M        retiree     0   \n",
       "26               married                 0      M  civil servant     0   \n",
       "29             unmarried                 4      F        retiree     0   \n",
       "41               married                 0      F  civil servant     0   \n",
       "55     civil partnership                 1      F        retiree     1   \n",
       "...                  ...               ...    ...            ...   ...   \n",
       "21489            married                 0      M       business     0   \n",
       "21495  civil partnership                 1      F       employee     0   \n",
       "21497            married                 0      F       business     0   \n",
       "21502            married                 0      F       employee     0   \n",
       "21510            married                 0      F       employee     0   \n",
       "\n",
       "       total_income                   purpose  \n",
       "12              NaN         to have a wedding  \n",
       "26              NaN                 education  \n",
       "29              NaN    building a real estate  \n",
       "41              NaN  second-hand car purchase  \n",
       "55              NaN         to have a wedding  \n",
       "...             ...                       ...  \n",
       "21489           NaN         purchase of a car  \n",
       "21495           NaN          wedding ceremony  \n",
       "21497           NaN       building a property  \n",
       "21502           NaN    building a real estate  \n",
       "21510           NaN              car purchase  \n",
       "\n",
       "[2174 rows x 12 columns]"
      ]
     },
     "execution_count": 7,
     "metadata": {},
     "output_type": "execute_result"
    }
   ],
   "source": [
    "credit_scoring[(credit_scoring['days_employed'].isna()) & (credit_scoring['total_income'].isna())]\n",
    "# Aplicando múltiples condiciones para filtrar datos en base a las columnas con valores nulos\n",
    "# y analizando el número de filas y la tabla filtrada.\n",
    "\n"
   ]
  },
  {
   "cell_type": "markdown",
   "metadata": {},
   "source": [
    "**Conclusión intermedia**\n",
    "\n",
    "Se observa que esta tabla filtrada contiene a todos los valores ausentes del dataset y a la vez nos confirma la correlación de los valores ausentes en las dos columnas, ya que el número de filas respecto a la anterior tabla no ha variado. Es decir, los valores ausentes están en las mismas filas de estas dos columnas respectivas. Ahora nos faltaría determinar la naturaleza de esta extraña simetría de valores ausentes entre estas columnas.\n",
    "\n",
    "Para continuar analizando este problema, primero observaremos el porcentaje de estos valores ausentes en relación al dataset:\n",
    "\n",
    "Porcentaje de valores ausentes  =  # de valores ausentes  /  # total de filas en la columna respectiva\n",
    "<br> Porcentaje de valores ausentes = 2174 / 21525\n",
    "<br> Porcentaje de valores ausentes = 10.10 %\n",
    "\n",
    "Es decir, tenemos un 10 % de valores ausentes en nuestras columnas respectivas. Esto es relativamente grande y existe la posibilidad de que afecte a nuestras conclusiones.\n",
    "\n",
    "Así como existe esta peculiaridad sobre los valores ausentes, también notamos que estos valores tienen a darse en personas con \"secondary education\", o cuando \"debt\" es igual a cero. Estas suposiciones tendrían que confirmarse de la mano del equipo encargado del tratamiento de datos, pero en este caso propondremos que el factor más razonable que puede afectar a nuestros valores ausentes en \"days_employed\" y \"total_income\" es la columna \"education\". Pensémoslo un poco. Es posible que las personas con bajos niveles educativos hayan tenido menos oportunidades laborales e ingresos mensuales recurrentes. O que simplemente haya un pequeño porcentaje de los clientes de cada nivel educativo que prefiere no dar ese tipo de información personal, o que se haya perdido información de ese porcentaje de clientes, etc. \n",
    "\n",
    "Para continuar y tratar de probar estas suposiciones, en los siguientes pasos analizaremos la distribución de los valores de la columna \"eduacation\" con y sin valores ausentes, y así sucesivamente con las demás columnas categóricas, buscando determinar con qué columna existe una relación con los valores ausentes."
   ]
  },
  {
   "cell_type": "markdown",
   "metadata": {},
   "source": [
    "**Education**\n",
    "\n",
    "Analizaremos la distribución de la columna que podría tener una relación teórica con nuestros valores ausentes. Veámoslo."
   ]
  },
  {
   "cell_type": "code",
   "execution_count": 8,
   "metadata": {},
   "outputs": [
    {
     "data": {
      "text/plain": [
       "secondary education    0.707689\n",
       "bachelor's degree      0.244367\n",
       "some college           0.034564\n",
       "primary education      0.013101\n",
       "graduate degree        0.000279\n",
       "Name: education, dtype: float64"
      ]
     },
     "execution_count": 8,
     "metadata": {},
     "output_type": "execute_result"
    }
   ],
   "source": [
    "credit_scoring['education'].str.lower().value_counts(normalize=True)\n",
    "# Comprobando la distribución de \"education\" en el conjunto de datos entero porcentualmente"
   ]
  },
  {
   "cell_type": "code",
   "execution_count": 9,
   "metadata": {},
   "outputs": [],
   "source": [
    "credit_scoring_na = credit_scoring.dropna(subset=['days_employed']) \n",
    "# obteniendo el dataset sin valores ausentes"
   ]
  },
  {
   "cell_type": "code",
   "execution_count": 10,
   "metadata": {},
   "outputs": [
    {
     "data": {
      "text/plain": [
       "secondary education    0.707612\n",
       "bachelor's degree      0.243708\n",
       "some college           0.034882\n",
       "primary education      0.013488\n",
       "graduate degree        0.000310\n",
       "Name: education, dtype: float64"
      ]
     },
     "execution_count": 10,
     "metadata": {},
     "output_type": "execute_result"
    }
   ],
   "source": [
    "credit_scoring_na['education'].str.lower().value_counts(normalize=True) \n",
    "# obteniendo la distribución de la columna \"education\" sin valores ausentes"
   ]
  },
  {
   "cell_type": "markdown",
   "metadata": {},
   "source": [
    "**Conclusión intermedia**\n",
    "\n",
    "La distribución de valores prácticamente no se vio afectada al prescindir de los valores ausentes. Esto nos indicaría que quizá esta columna no afecte ni se vea afectada por los valores ausentes.\n",
    "\n",
    "Entonces no hemos logrado determinar un patrón sobre los valores ausentes. Seguiremos intentando encontrar un posible patrón con otras columnas.\n"
   ]
  },
  {
   "cell_type": "markdown",
   "metadata": {},
   "source": [
    "**Analizando otras posibles columnas**\n",
    "\n",
    "Ya que aún no podemos tener una respuesta definitiva, seguiremos analizando con `debt`, `gender`, `family_status` e `income_type`."
   ]
  },
  {
   "cell_type": "code",
   "execution_count": 11,
   "metadata": {},
   "outputs": [
    {
     "data": {
      "text/plain": [
       "0    0.919117\n",
       "1    0.080883\n",
       "Name: debt, dtype: float64"
      ]
     },
     "execution_count": 11,
     "metadata": {},
     "output_type": "execute_result"
    }
   ],
   "source": [
    "credit_scoring['debt'].value_counts(normalize=True) # distribución de \"debt\" con valores ausentes"
   ]
  },
  {
   "cell_type": "code",
   "execution_count": 12,
   "metadata": {},
   "outputs": [
    {
     "data": {
      "text/plain": [
       "0    0.918816\n",
       "1    0.081184\n",
       "Name: debt, dtype: float64"
      ]
     },
     "execution_count": 12,
     "metadata": {},
     "output_type": "execute_result"
    }
   ],
   "source": [
    "credit_scoring_na['debt'].value_counts(normalize=True) # distribución de \"debt\" sin valores ausentes"
   ]
  },
  {
   "cell_type": "markdown",
   "metadata": {},
   "source": [
    "Nuevamente, esta columna no parece mostrar diferencias significativas con o sin los valores ausentes. Continuaremos con `gender`."
   ]
  },
  {
   "cell_type": "code",
   "execution_count": 13,
   "metadata": {},
   "outputs": [
    {
     "data": {
      "text/plain": [
       "F      0.661370\n",
       "M      0.338583\n",
       "XNA    0.000046\n",
       "Name: gender, dtype: float64"
      ]
     },
     "execution_count": 13,
     "metadata": {},
     "output_type": "execute_result"
    }
   ],
   "source": [
    "credit_scoring['gender'].value_counts(normalize=True) # distribución de \"gender\" con valores ausentes"
   ]
  },
  {
   "cell_type": "code",
   "execution_count": 14,
   "metadata": {},
   "outputs": [
    {
     "data": {
      "text/plain": [
       "F      0.658984\n",
       "M      0.340964\n",
       "XNA    0.000052\n",
       "Name: gender, dtype: float64"
      ]
     },
     "execution_count": 14,
     "metadata": {},
     "output_type": "execute_result"
    }
   ],
   "source": [
    "credit_scoring_na['gender'].value_counts(normalize=True) # distribución de \"gender\" sin valores ausentes"
   ]
  },
  {
   "cell_type": "markdown",
   "metadata": {},
   "source": [
    "Aquí existe una diferencia mínima porcentual. Estadísticamente es posible debido a que tenemos pocas categorías. Por ahora probaremos con \"family_status\"."
   ]
  },
  {
   "cell_type": "code",
   "execution_count": 15,
   "metadata": {},
   "outputs": [
    {
     "data": {
      "text/plain": [
       "married              0.575145\n",
       "civil partnership    0.194053\n",
       "unmarried            0.130685\n",
       "divorced             0.055517\n",
       "widow / widower      0.044599\n",
       "Name: family_status, dtype: float64"
      ]
     },
     "execution_count": 15,
     "metadata": {},
     "output_type": "execute_result"
    }
   ],
   "source": [
    "credit_scoring['family_status'].value_counts(normalize=True) # distribución de \"family_status\" con valores ausentes"
   ]
  },
  {
   "cell_type": "code",
   "execution_count": 16,
   "metadata": {},
   "outputs": [
    {
     "data": {
      "text/plain": [
       "married              0.575836\n",
       "civil partnership    0.193013\n",
       "unmarried            0.130484\n",
       "divorced             0.055966\n",
       "widow / widower      0.044701\n",
       "Name: family_status, dtype: float64"
      ]
     },
     "execution_count": 16,
     "metadata": {},
     "output_type": "execute_result"
    }
   ],
   "source": [
    "credit_scoring_na['family_status'].value_counts(normalize=True) # distribución de \"family_status\" sin valores ausentes"
   ]
  },
  {
   "cell_type": "markdown",
   "metadata": {},
   "source": [
    "Esta columna no parece haberse visto afectada por los valores ausentes. Nuestra última columna sería `income_type`:"
   ]
  },
  {
   "cell_type": "code",
   "execution_count": 17,
   "metadata": {},
   "outputs": [
    {
     "data": {
      "text/plain": [
       "employee                       0.516562\n",
       "business                       0.236237\n",
       "retiree                        0.179141\n",
       "civil servant                  0.067782\n",
       "entrepreneur                   0.000093\n",
       "unemployed                     0.000093\n",
       "paternity / maternity leave    0.000046\n",
       "student                        0.000046\n",
       "Name: income_type, dtype: float64"
      ]
     },
     "execution_count": 17,
     "metadata": {},
     "output_type": "execute_result"
    }
   ],
   "source": [
    "credit_scoring['income_type'].value_counts(normalize=True) # distribución de \"income_type\" con valores ausentes"
   ]
  },
  {
   "cell_type": "code",
   "execution_count": 18,
   "metadata": {},
   "outputs": [
    {
     "data": {
      "text/plain": [
       "employee                       0.517493\n",
       "business                       0.236525\n",
       "retiree                        0.177924\n",
       "civil servant                  0.067800\n",
       "unemployed                     0.000103\n",
       "entrepreneur                   0.000052\n",
       "paternity / maternity leave    0.000052\n",
       "student                        0.000052\n",
       "Name: income_type, dtype: float64"
      ]
     },
     "execution_count": 18,
     "metadata": {},
     "output_type": "execute_result"
    }
   ],
   "source": [
    "credit_scoring_na['income_type'].value_counts(normalize=True) # distribución de \"income_type\" sin valores ausentes"
   ]
  },
  {
   "cell_type": "markdown",
   "metadata": {},
   "source": [
    "Acá tampoco se observan grandes diferencias en las categorías con mayor número de valores, aunque sí en las que tienen pocos valores. Estas categorías atípicas serán tratadas posteriormente. Por ahora no hemos logrado encontrar un claro patrón de los valores ausentes hacia alguna de nuestras columnas."
   ]
  },
  {
   "cell_type": "markdown",
   "metadata": {},
   "source": [
    "**Conclusiones** <a id='conclusion1'></a>\n",
    "\n",
    "Después de esta exploración inicial de los datos, hemos detectado varios problemas que serán tratados en los siguientes apartados. Nombraremos de manera general los problemas y cómo los abordaremos próximamente.\n",
    "1. Algunas de nuestras columnas tienen problemas ortográficos, los cuales serán solucionados utilizando las transformaciones respectivas.\n",
    "2. Algunas columnas presentan datos extraños y atípicos, los cuales serán corregidos mediante el análisis de la naturaleza de cada uno.\n",
    "3. Analizaremos a detalle la posible ocurrencia de valores duplicados, de los cuales aún no se tienen muchos detalles.\n",
    "4. Nuestros datos presentan valores ausentes que parecen mostrar un patrón aleatorio. Entonces la naturaleza de los valores ausentes es aún desconocida y debido a esta falta de información por ahora continuaremos con las correcciones y preprocesamiento de datos."
   ]
  },
  {
   "cell_type": "markdown",
   "metadata": {},
   "source": [
    "## Preprocesamiento de los datos <a id='preprocesamiento'></a>"
   ]
  },
  {
   "cell_type": "markdown",
   "metadata": {},
   "source": [
    "### Transformación de datos <a id='transformacion'></a>\n",
    "\n",
    "Teníamos la siguiente información de cada columna después del análisis descriptivo y exploratorio:\n",
    "* `children` tenía datos extraños y atípicos.\n",
    "* `days_employed` tenía datos extraños, atípicos y ausentes.\n",
    "* `dob_years` tenía datos extraños.\n",
    "* `education` tenía problemas ortográficos.\n",
    "* `family_status` no parecía mostrar problemas.\n",
    "* `gender` no parecía mostrar problemas.\n",
    "* `income_type` no parecía mostrar problemas.\n",
    "* `debt` no parecía mostrar problemas.\n",
    "* `total_income` tenía datos ausentes.\n",
    "* `purpose` no parecía mostrar problemas.\n",
    "\n",
    "Empezaremos tratando a la columna referida a educación y sus valores:\n"
   ]
  },
  {
   "cell_type": "code",
   "execution_count": 19,
   "metadata": {},
   "outputs": [
    {
     "name": "stdout",
     "output_type": "stream",
     "text": [
      "[\"bachelor's degree\" 'secondary education' 'Secondary Education'\n",
      " 'SECONDARY EDUCATION' \"BACHELOR'S DEGREE\" 'some college'\n",
      " 'primary education' \"Bachelor's Degree\" 'SOME COLLEGE' 'Some College'\n",
      " 'PRIMARY EDUCATION' 'Primary Education' 'Graduate Degree'\n",
      " 'GRADUATE DEGREE' 'graduate degree']\n"
     ]
    }
   ],
   "source": [
    "print(credit_scoring['education'].unique()) # Obteniendo los valores únicos de educación"
   ]
  },
  {
   "cell_type": "markdown",
   "metadata": {},
   "source": [
    "Tal como se había observado, tiene problemas ortográficos. Corrigiéndolos:"
   ]
  },
  {
   "cell_type": "code",
   "execution_count": 20,
   "metadata": {
    "scrolled": true
   },
   "outputs": [],
   "source": [
    "credit_scoring['education'] = credit_scoring['education'].str.lower() # Arreglando los registros"
   ]
  },
  {
   "cell_type": "code",
   "execution_count": 21,
   "metadata": {},
   "outputs": [
    {
     "name": "stdout",
     "output_type": "stream",
     "text": [
      "[\"bachelor's degree\" 'secondary education' 'some college'\n",
      " 'primary education' 'graduate degree']\n"
     ]
    }
   ],
   "source": [
    "print(credit_scoring['education'].unique()) # Comprobando los valores únicos de educación\n"
   ]
  },
  {
   "cell_type": "markdown",
   "metadata": {},
   "source": [
    "Una vez solucionado, pasamos a la columna referida a la cantidad de niños:"
   ]
  },
  {
   "cell_type": "code",
   "execution_count": 22,
   "metadata": {},
   "outputs": [
    {
     "name": "stdout",
     "output_type": "stream",
     "text": [
      " 0     14149\n",
      " 1      4818\n",
      " 2      2055\n",
      " 3       330\n",
      " 20       76\n",
      "-1        47\n",
      " 4        41\n",
      " 5         9\n",
      "Name: children, dtype: int64\n"
     ]
    },
    {
     "data": {
      "text/plain": [
       " 0     0.657329\n",
       " 1     0.223833\n",
       " 2     0.095470\n",
       " 3     0.015331\n",
       " 20    0.003531\n",
       "-1     0.002184\n",
       " 4     0.001905\n",
       " 5     0.000418\n",
       "Name: children, dtype: float64"
      ]
     },
     "execution_count": 22,
     "metadata": {},
     "output_type": "execute_result"
    }
   ],
   "source": [
    "print(credit_scoring['children'].value_counts()) # Obteniendo la distribución de valores\n",
    "credit_scoring['children'].value_counts(normalize=True) # Obteniendo la distribución porcentual"
   ]
  },
  {
   "cell_type": "markdown",
   "metadata": {},
   "source": [
    "Observando la distribución de los valores de la columna \"children\" confirmamos que tenemos valores extraños y atípicos. ¿Qué tan probable es que una familia tenga 20 hijos? ¿Y es posible que hayan '-1' hijos? Este tipo de errores deberían ser comunicados y solucionados con el área respectiva, pero no es posible ahora. Entonces plantearemos algunas hipótesis razonables sobre la naturaleza de estos errores:\n",
    "\n",
    "- Si se tratara de un error humano, es posible que el '20' haya sido en realidad un '2', mientras que para el '-1' se podrían barajar más posibilidades: es posible que el que introdujo los datos haya puesto simplemente una raya '-' para registrar familias donde no se pudo obtener esa información o que quizá no tienen hijos. También es posible que en realidad sea un '1' y que la raya sea un artefacto en el proceso de introducir los datos a la computadora.\n",
    "- Si se tratara de un error computacional o técnico, sigue siendo bastante probable que el '20' en realidad sea un '2', mientras que para el '-1' se plantearía que podría ser un error computacional, una mala lectura de los datos o simplemente valores nulos que la computadora no supo procesar.\n",
    "\n",
    "Para ayudarnos en el análisis la distribución de forma porcentual es presentada también, debajo. Se observa que los datos problemáticos son de alrededor del 0.57 % de la columna.\n",
    "\n",
    "Personalmente tiene más sentido que sea un error humano, siendo así el 20 un 2 y el -1 en realidad un 1. Viendo los porcentajes también notamos que incluso incrementando esos respectivos valores, los cambios porcentuales serían mínimos. Entonces procedemos a corregir estos datos."
   ]
  },
  {
   "cell_type": "code",
   "execution_count": 23,
   "metadata": {},
   "outputs": [],
   "source": [
    "credit_scoring['children'].replace(-1, 1, inplace=True) # Reemplazando -1 por 1\n",
    "credit_scoring['children'].replace(20, 2, inplace=True) # Reemplazando 20 por 2"
   ]
  },
  {
   "cell_type": "code",
   "execution_count": 24,
   "metadata": {},
   "outputs": [
    {
     "data": {
      "text/plain": [
       "0    14149\n",
       "1     4865\n",
       "2     2131\n",
       "3      330\n",
       "4       41\n",
       "5        9\n",
       "Name: children, dtype: int64"
      ]
     },
     "execution_count": 24,
     "metadata": {},
     "output_type": "execute_result"
    }
   ],
   "source": [
    "credit_scoring['children'].value_counts() # Comprobando que esté solucionado"
   ]
  },
  {
   "cell_type": "markdown",
   "metadata": {},
   "source": [
    "Una vez solucionada esta columna, continuamos con `days_employed`. Si recordamos, esta columna tenía problemas con valores extraños, atípicos y ausentes. Primero abordaremos los valores atípicos y extraños."
   ]
  },
  {
   "cell_type": "code",
   "execution_count": 25,
   "metadata": {},
   "outputs": [
    {
     "name": "stdout",
     "output_type": "stream",
     "text": [
      "count     19351.000000\n",
      "mean      63046.497661\n",
      "std      140827.311974\n",
      "min      -18388.949901\n",
      "25%       -2747.423625\n",
      "50%       -1203.369529\n",
      "75%        -291.095954\n",
      "max      401755.400475\n",
      "Name: days_employed, dtype: float64\n",
      "\n",
      "Datos negativos: 15906\n",
      "Datos positivos: 3445\n"
     ]
    }
   ],
   "source": [
    "print(credit_scoring['days_employed'].describe()) # Volviendo a obtener la información de esta columna\n",
    "print()\n",
    "print(f\"Datos negativos: {(credit_scoring['days_employed'] < 0).sum()}\") \n",
    "# Obteniendo la cantidad de números negativos y mostrándolos\n",
    "print(f\"Datos positivos: {(credit_scoring['days_employed'] > 0).sum()}\")\n",
    "# Obteniendo la cantidad de números positivos y mostrándolos        "
   ]
  },
  {
   "cell_type": "markdown",
   "metadata": {},
   "source": [
    "Resaltamos un par de cuestiones:\n",
    "* Notamos que la mayor parte de los valores son negativos, observando la distribución y el conteo realizado.\n",
    "* Dada la escala del problema, no se pueden eliminar estos errores.\n",
    "* Ya que no se puede obtener más información acerca de este error, asumiremos que en este caso se trata de un error técnico, ya que es poco probable que una persona introduzca tantos valores errados.\n",
    "\n",
    "Para este primer caso, la solución será corregir el signo en los valores negativos:\n"
   ]
  },
  {
   "cell_type": "code",
   "execution_count": 26,
   "metadata": {},
   "outputs": [],
   "source": [
    "credit_scoring['days_employed'] = credit_scoring['days_employed'].abs()\n",
    "# Corrigiendo los valores negativos"
   ]
  },
  {
   "cell_type": "code",
   "execution_count": 27,
   "metadata": {},
   "outputs": [
    {
     "data": {
      "text/plain": [
       "count     19351.000000\n",
       "mean      66914.728907\n",
       "std      139030.880527\n",
       "min          24.141633\n",
       "25%         927.009265\n",
       "50%        2194.220567\n",
       "75%        5537.882441\n",
       "max      401755.400475\n",
       "Name: days_employed, dtype: float64"
      ]
     },
     "execution_count": 27,
     "metadata": {},
     "output_type": "execute_result"
    }
   ],
   "source": [
    "credit_scoring['days_employed'].describe() \n",
    "# Comprobando el resultado y analizando el siguiente problema"
   ]
  },
  {
   "cell_type": "markdown",
   "metadata": {},
   "source": [
    "Ahora notamos un par de cosas: la desviación estándar es muy grande, la media y mediana están muy alejadas entre sí y el valor máximo es totalmente irreal: ¡400 mil días son más de mil años!\n",
    "Para abordar este problema, primero veremos cuándos valores son los que están desplazando nuestra distribución. Tomando en cuenta que la edad máxima de los clientes es de 75 años, asumiremos el límite máximo de 20 mil horas trabajadas en total."
   ]
  },
  {
   "cell_type": "code",
   "execution_count": 28,
   "metadata": {},
   "outputs": [
    {
     "data": {
      "text/plain": [
       "3445"
      ]
     },
     "execution_count": 28,
     "metadata": {},
     "output_type": "execute_result"
    }
   ],
   "source": [
    "len(credit_scoring[credit_scoring['days_employed'] > 20000]) # Contando el número de filas"
   ]
  },
  {
   "cell_type": "markdown",
   "metadata": {},
   "source": [
    "En realidad, me gustaría aclarar que hice un análisis gráfico de la distribución de los valores y encontramos dos distribuciones:\n",
    "* La primera está tiene un máximo de alrededor de 18 mil días.\n",
    "* La segunda empieza desde los 300 mil aprox. en adelante y tiene los 3445 valores.\n",
    "\n",
    "Es evidente que estos 3445 valores atípicos no pueden ser reales y en realidad se deban a algún tipo de error. Determinar el origen de este error requeriría un análisis conjunto con el equipo respectivo, pero como no es factible en este caso y al no haber más información al respecto, convertiremos estos datos en \"Nan\" para luego estandarizarlos al completar los datos ausentes totales.  "
   ]
  },
  {
   "cell_type": "code",
   "execution_count": 29,
   "metadata": {},
   "outputs": [],
   "source": [
    "credit_scoring['days_employed'] = credit_scoring['days_employed'].apply(lambda x: None if x>20000 else x)\n",
    "# Utilizando otra función lambda para corregir este problema"
   ]
  },
  {
   "cell_type": "code",
   "execution_count": 31,
   "metadata": {},
   "outputs": [
    {
     "data": {
      "text/plain": [
       "0"
      ]
     },
     "execution_count": 31,
     "metadata": {},
     "output_type": "execute_result"
    }
   ],
   "source": [
    "len(credit_scoring[credit_scoring['days_employed'] > 20000]) # Comprobando la corrección"
   ]
  },
  {
   "cell_type": "code",
   "execution_count": 32,
   "metadata": {},
   "outputs": [
    {
     "data": {
      "text/plain": [
       "NaN            5619\n",
       "144.185854        1\n",
       "2358.122341       1\n",
       "2569.204627       1\n",
       "3545.955468       1\n",
       "Name: days_employed, dtype: int64"
      ]
     },
     "execution_count": 32,
     "metadata": {},
     "output_type": "execute_result"
    }
   ],
   "source": [
    "credit_scoring['days_employed'].value_counts(dropna=False).head() \n",
    "# analizando los nuevos datos ausentes, que se incrementaron"
   ]
  },
  {
   "cell_type": "code",
   "execution_count": 33,
   "metadata": {},
   "outputs": [
    {
     "data": {
      "text/plain": [
       "count    15906.000000\n",
       "mean      2353.015932\n",
       "std       2304.243851\n",
       "min         24.141633\n",
       "25%        756.371964\n",
       "50%       1630.019381\n",
       "75%       3157.480084\n",
       "max      18388.949901\n",
       "Name: days_employed, dtype: float64"
      ]
     },
     "execution_count": 33,
     "metadata": {},
     "output_type": "execute_result"
    }
   ],
   "source": [
    "credit_scoring['days_employed'].describe() # Observando sus estadísticos nuevamente"
   ]
  },
  {
   "cell_type": "markdown",
   "metadata": {},
   "source": [
    "Ahora observamos que los problemas en esta columna están \"corregidos\", faltanto nuestros valores ausentes. La desviación estándar es mucho más pequeña y la media y mediana no están tan alejadas entre sí. Ahora continuaremos con `dob_years`."
   ]
  },
  {
   "cell_type": "code",
   "execution_count": 34,
   "metadata": {
    "scrolled": true
   },
   "outputs": [
    {
     "name": "stdout",
     "output_type": "stream",
     "text": [
      "count    21525.000000\n",
      "mean        43.293380\n",
      "std         12.574584\n",
      "min          0.000000\n",
      "25%         33.000000\n",
      "50%         42.000000\n",
      "75%         53.000000\n",
      "max         75.000000\n",
      "Name: dob_years, dtype: float64\n",
      "\n",
      "Cantidad de valores iguales a cero: 101\n"
     ]
    }
   ],
   "source": [
    "print(credit_scoring['dob_years'].describe()) # Obteniendo sus estadísticos\n",
    "print()\n",
    "zero_dob_years = credit_scoring['dob_years'].value_counts()[0] \n",
    "# Contando los valores de edad y la cantidad del valor atípico cero\n",
    "print(f\"Cantidad de valores iguales a cero: {zero_dob_years}\")\n",
    "# Mostrando la cantidad de ceros con formato"
   ]
  },
  {
   "cell_type": "markdown",
   "metadata": {},
   "source": [
    "Del análisis descriptivo, teníamos que existía un valor mínimo cero. Ahora también tenemos la cantidad de valores de esta columna, que son 101. Es evidente que cero no es una edad real de alguien que solicita un préstamo en el banco. De hecho, en la mayoría de países, el mínimo legal es de 18 años, valor que extrañamente no aparece en esta distribución a pesar de tener una muestra relativamente grande.\n",
    "\n",
    "Debido a que no podemos obtener más información al respecto, lo siguiente a realizar es obtener la distribución sin el valor atípico y de ahí obtener la mediana para completar con ese valor exacto, de esta manera no afectaremos a la distribución de la columna."
   ]
  },
  {
   "cell_type": "code",
   "execution_count": 35,
   "metadata": {},
   "outputs": [
    {
     "data": {
      "text/plain": [
       "count    21424.000000\n",
       "mean        43.497479\n",
       "std         12.246934\n",
       "min         19.000000\n",
       "25%         33.000000\n",
       "50%         43.000000\n",
       "75%         53.000000\n",
       "max         75.000000\n",
       "Name: dob_years, dtype: float64"
      ]
     },
     "execution_count": 35,
     "metadata": {},
     "output_type": "execute_result"
    }
   ],
   "source": [
    "credit_sc_dob = credit_scoring[credit_scoring['dob_years'] != 0] # obteniendo el dataset sin el valor atípico\n",
    "credit_sc_dob['dob_years'].describe() # obteniendo los estadísticos y la nueva mediana"
   ]
  },
  {
   "cell_type": "markdown",
   "metadata": {},
   "source": [
    "De esta distribución, tenemos que la mediana a utilizar es 43, valor que varía respecto a la distribución con el valor atípico. Este es un pequeño detalle a tener en cuenta en proximos análisis.\n",
    "\n",
    "Procedemos a realizar el cambio:"
   ]
  },
  {
   "cell_type": "code",
   "execution_count": 36,
   "metadata": {},
   "outputs": [],
   "source": [
    "credit_scoring['dob_years'].replace(0, 43, inplace=True) # Reemplazando 0 por 18"
   ]
  },
  {
   "cell_type": "code",
   "execution_count": 37,
   "metadata": {},
   "outputs": [
    {
     "data": {
      "text/plain": [
       "count    21525.000000\n",
       "mean        43.495145\n",
       "std         12.218213\n",
       "min         19.000000\n",
       "25%         34.000000\n",
       "50%         43.000000\n",
       "75%         53.000000\n",
       "max         75.000000\n",
       "Name: dob_years, dtype: float64"
      ]
     },
     "execution_count": 37,
     "metadata": {},
     "output_type": "execute_result"
    }
   ],
   "source": [
    "credit_scoring['dob_years'].describe() # Comprobando si el problema está resuelto"
   ]
  },
  {
   "cell_type": "markdown",
   "metadata": {},
   "source": [
    "Después de corregir los valores de `dob_years`, ahora nos enfocaremos en `family_status`. Recordemos que esta columna no parecía mostrar problemas."
   ]
  },
  {
   "cell_type": "code",
   "execution_count": 38,
   "metadata": {},
   "outputs": [
    {
     "data": {
      "text/plain": [
       "married              12380\n",
       "civil partnership     4177\n",
       "unmarried             2813\n",
       "divorced              1195\n",
       "widow / widower        960\n",
       "Name: family_status, dtype: int64"
      ]
     },
     "execution_count": 38,
     "metadata": {},
     "output_type": "execute_result"
    }
   ],
   "source": [
    "credit_scoring['family_status'].value_counts() # Observando el conteo de valores"
   ]
  },
  {
   "cell_type": "markdown",
   "metadata": {},
   "source": [
    "La clasificación en esta columna y sus valores parecen no tener problemas que solucionar. Avancemos a la columna `gender`.\n"
   ]
  },
  {
   "cell_type": "code",
   "execution_count": 39,
   "metadata": {},
   "outputs": [
    {
     "data": {
      "text/plain": [
       "F      14236\n",
       "M       7288\n",
       "XNA        1\n",
       "Name: gender, dtype: int64"
      ]
     },
     "execution_count": 39,
     "metadata": {},
     "output_type": "execute_result"
    }
   ],
   "source": [
    "credit_scoring['gender'].value_counts() # Veamos los valores en la columna del género"
   ]
  },
  {
   "cell_type": "markdown",
   "metadata": {},
   "source": [
    "\"XNA\" es un valor totalmente extraño y sin posible interpretación. Lo más cercano es que se haya querido un \"NA\". Al ser un valor único, me parece que la mejor solución es simplemente prescindir de esta fila."
   ]
  },
  {
   "cell_type": "code",
   "execution_count": 40,
   "metadata": {},
   "outputs": [],
   "source": [
    "credit_scoring = credit_scoring[credit_scoring['gender'] != 'XNA'] # Eliminando 'XNA' del dataset"
   ]
  },
  {
   "cell_type": "code",
   "execution_count": 41,
   "metadata": {},
   "outputs": [
    {
     "data": {
      "text/plain": [
       "F    14236\n",
       "M     7288\n",
       "Name: gender, dtype: int64"
      ]
     },
     "execution_count": 41,
     "metadata": {},
     "output_type": "execute_result"
    }
   ],
   "source": [
    "credit_scoring['gender'].value_counts() # Comprobando si está solucionado"
   ]
  },
  {
   "cell_type": "markdown",
   "metadata": {},
   "source": [
    "Tal parece que ya hemos solucionado esa columna. Continuamos con `income_type`."
   ]
  },
  {
   "cell_type": "code",
   "execution_count": 42,
   "metadata": {},
   "outputs": [
    {
     "data": {
      "text/plain": [
       "employee                       11119\n",
       "business                        5084\n",
       "retiree                         3856\n",
       "civil servant                   1459\n",
       "entrepreneur                       2\n",
       "unemployed                         2\n",
       "paternity / maternity leave        1\n",
       "student                            1\n",
       "Name: income_type, dtype: int64"
      ]
     },
     "execution_count": 42,
     "metadata": {},
     "output_type": "execute_result"
    }
   ],
   "source": [
    "credit_scoring['income_type'].value_counts(dropna=False) \n",
    "# Obteniendo el conteo o distribución de valores"
   ]
  },
  {
   "cell_type": "markdown",
   "metadata": {},
   "source": [
    "A simple vista, estos valores podrían no tener problemas. Pero analizando un poco, hay categorías que tienen pocos datos, tienen comportamiento de datos atípicos, muy alejados de la distribución de datos. \n",
    "\n",
    "Para apoyar esta suposición, también tenemos que, en términos económicos, tener como fuente de ingreso a 'business' o 'entrepreneur' podría significar lo mismo; 'student' no es una categoría de ingresos como tal, es bastante probable que la persona que se identificó como estudiante no esté empleada; y el 'paternity/maternity leave' (baja por paternidad o maternidad) se da en personas empleadas que dejan de trabajar temporalmente, pero siguen teniendo el vínculo laboral y en la mayoría de los casos aún perciben sus ingresos normales como empleados.\n",
    "\n",
    "Dada esta explicación, agruparemos estos datos atípicos de la siguiente manera:\n",
    "- Los valores asignados a 'entrepreneur' serán asignados a 'business'.\n",
    "- Los de 'paternity/maternity leave' serán clasificados como 'employee'.\n",
    "- Los de 'student' serán asignados a 'unemployed'."
   ]
  },
  {
   "cell_type": "code",
   "execution_count": 43,
   "metadata": {},
   "outputs": [],
   "source": [
    "credit_scoring.loc[credit_scoring['income_type'] == 'entrepreneur', 'income_type'] = 'business'\n",
    "# Asignando 'business' a 'entrepeneur'\n",
    "credit_scoring.loc[credit_scoring['income_type'] == 'paternity / maternity leave', 'income_type'] = 'employee'\n",
    "# Asignando 'employee' a 'paternity/maternity leave'\n",
    "credit_scoring.loc[credit_scoring['income_type'] == 'student', 'income_type'] = 'unemployed'\n",
    "# Asignando 'unemployed' a 'student'"
   ]
  },
  {
   "cell_type": "code",
   "execution_count": 44,
   "metadata": {},
   "outputs": [
    {
     "data": {
      "text/plain": [
       "employee         11120\n",
       "business          5086\n",
       "retiree           3856\n",
       "civil servant     1459\n",
       "unemployed           3\n",
       "Name: income_type, dtype: int64"
      ]
     },
     "execution_count": 44,
     "metadata": {},
     "output_type": "execute_result"
    }
   ],
   "source": [
    "credit_scoring['income_type'].value_counts(dropna=False) # Comprobando el resultado"
   ]
  },
  {
   "cell_type": "markdown",
   "metadata": {},
   "source": [
    "Una vez solucionado, recordemos que nuestra columna `total_income` necesitaba un tratamiento para sus valores ausentes. Esto será tratado en el siguiente apartado. Para el caso de `purpose`, mostraremos sus valores únicos para darnos una idea de sus problemas."
   ]
  },
  {
   "cell_type": "code",
   "execution_count": 45,
   "metadata": {},
   "outputs": [
    {
     "data": {
      "text/plain": [
       "array(['purchase of the house', 'car purchase', 'supplementary education',\n",
       "       'to have a wedding', 'housing transactions', 'education',\n",
       "       'having a wedding', 'purchase of the house for my family',\n",
       "       'buy real estate', 'buy commercial real estate',\n",
       "       'buy residential real estate', 'construction of own property',\n",
       "       'property', 'building a property', 'buying a second-hand car',\n",
       "       'buying my own car', 'transactions with commercial real estate',\n",
       "       'building a real estate', 'housing',\n",
       "       'transactions with my real estate', 'cars', 'to become educated',\n",
       "       'second-hand car purchase', 'getting an education', 'car',\n",
       "       'wedding ceremony', 'to get a supplementary education',\n",
       "       'purchase of my own house', 'real estate transactions',\n",
       "       'getting higher education', 'to own a car', 'purchase of a car',\n",
       "       'profile education', 'university education',\n",
       "       'buying property for renting out', 'to buy a car',\n",
       "       'housing renovation', 'going to university'], dtype=object)"
      ]
     },
     "execution_count": 45,
     "metadata": {},
     "output_type": "execute_result"
    }
   ],
   "source": [
    "credit_scoring['purpose'].unique()"
   ]
  },
  {
   "cell_type": "markdown",
   "metadata": {},
   "source": [
    "Aunque parecía que no se tenían problemas en esta columna, la verdad es que las categorías son redundantes. Este trabajo será analizado en un próximo apartado dedicado solo a solucionar este problema. Por ahora continuemos con los datos duplicados y si existen en nuestro dataset."
   ]
  },
  {
   "cell_type": "code",
   "execution_count": 46,
   "metadata": {},
   "outputs": [
    {
     "data": {
      "text/plain": [
       "71"
      ]
     },
     "execution_count": 46,
     "metadata": {},
     "output_type": "execute_result"
    }
   ],
   "source": [
    "credit_scoring.duplicated().sum() # Contando las filas duplicadas"
   ]
  },
  {
   "cell_type": "markdown",
   "metadata": {},
   "source": [
    "Tal parece que tenemos 71 filas duplicadas. Si lo pensamos un poco, podríamos suponer que no tenemos la suficiente información para determinar que las filas son duplicadas o no. Pero esta idea se descarta al tener en cuenta que tenemos variables flotantes, cuyos valores son extremadamente difíciles de que coincidan a la vez, al menos en teoría. Por tanto, ahora nos encargaremos de estos duplicados."
   ]
  },
  {
   "cell_type": "code",
   "execution_count": 47,
   "metadata": {},
   "outputs": [],
   "source": [
    "credit_scoring = credit_scoring.drop_duplicates().reset_index(drop=True) \n",
    "# Eliminando los duplicados y restaurando los índices"
   ]
  },
  {
   "cell_type": "code",
   "execution_count": 48,
   "metadata": {},
   "outputs": [
    {
     "data": {
      "text/plain": [
       "0"
      ]
     },
     "execution_count": 48,
     "metadata": {},
     "output_type": "execute_result"
    }
   ],
   "source": [
    "credit_scoring.duplicated().sum() # Última comprobación para ver si tenemos duplicados\n"
   ]
  },
  {
   "cell_type": "code",
   "execution_count": 49,
   "metadata": {},
   "outputs": [
    {
     "name": "stdout",
     "output_type": "stream",
     "text": [
      "<class 'pandas.core.frame.DataFrame'>\n",
      "RangeIndex: 21453 entries, 0 to 21452\n",
      "Data columns (total 12 columns):\n",
      " #   Column            Non-Null Count  Dtype  \n",
      "---  ------            --------------  -----  \n",
      " 0   children          21453 non-null  int64  \n",
      " 1   days_employed     15905 non-null  float64\n",
      " 2   dob_years         21453 non-null  int64  \n",
      " 3   education         21453 non-null  object \n",
      " 4   education_id      21453 non-null  int64  \n",
      " 5   family_status     21453 non-null  object \n",
      " 6   family_status_id  21453 non-null  int64  \n",
      " 7   gender            21453 non-null  object \n",
      " 8   income_type       21453 non-null  object \n",
      " 9   debt              21453 non-null  int64  \n",
      " 10  total_income      19350 non-null  float64\n",
      " 11  purpose           21453 non-null  object \n",
      "dtypes: float64(2), int64(5), object(5)\n",
      "memory usage: 2.0+ MB\n"
     ]
    }
   ],
   "source": [
    "credit_scoring.info() \n",
    "# Obteniendo los nuevos metadatos, después de haber ejecutado estas primeras manipulaciones"
   ]
  },
  {
   "cell_type": "markdown",
   "metadata": {},
   "source": [
    "Luego de realizar todos estos cambios, tratando de preservar el mayor número de datos posibles, tenemos un nuevo dataframe con una pequeña diferencia en el total de filas: son 21452 en lugar de los 21525 originales. Se puede considerar que, en términos porcentuales, no se han perdido muchos datos  ni información que pueda afectar a nuestras conclusiones (alrededor del 0.33 % de los datos originales han sido eliminados). \n",
    "\n",
    "Nuestro siguiente objetivo será abordar los valores ausentes."
   ]
  },
  {
   "cell_type": "markdown",
   "metadata": {},
   "source": [
    "### Trabajando con valores ausentes <a id='ausentes'></a>"
   ]
  },
  {
   "cell_type": "markdown",
   "metadata": {},
   "source": [
    "Para comenzar, quizá sea necesario obtener los diccionarios de las columnas categóricas del dataset donde hay una relación id-'nombre'. Se irán agregando diccionarios extra si fuesen necesarios en el futuro. Es posible que estas relaciones nos sirvan o hagan más fáciles algunas labores posteriores."
   ]
  },
  {
   "cell_type": "code",
   "execution_count": 50,
   "metadata": {},
   "outputs": [
    {
     "name": "stdout",
     "output_type": "stream",
     "text": [
      "   education_id            education\n",
      "0             0    bachelor's degree\n",
      "1             1  secondary education\n",
      "2             2         some college\n",
      "3             3    primary education\n",
      "4             4      graduate degree\n",
      "\n",
      "   family_status_id      family_status\n",
      "0                 0            married\n",
      "1                 1  civil partnership\n",
      "2                 2    widow / widower\n",
      "3                 3           divorced\n",
      "4                 4          unmarried\n"
     ]
    }
   ],
   "source": [
    "dic_category_education = credit_scoring[['education_id', 'education']] # Obteniendo las columnas\n",
    "dic_category_education = dic_category_education.drop_duplicates().reset_index(drop=True) # Obteniendo sus valores respectivos\n",
    "print(dic_category_education) # Mostrando los valores\n",
    "print()\n",
    "dic_category_family = credit_scoring[['family_status_id', 'family_status']] # Obteniendo las columnas\n",
    "dic_category_family = dic_category_family.drop_duplicates().reset_index(drop=True) # Obteniendo sus valores respectivos\n",
    "print(dic_category_family) # Mostrando los valores\n"
   ]
  },
  {
   "cell_type": "markdown",
   "metadata": {},
   "source": [
    "#### Restaurando valores ausentes en `total_income`"
   ]
  },
  {
   "cell_type": "markdown",
   "metadata": {},
   "source": [
    "Como ya se había detallado, tenemos dos columnas con valores ausentes: \"days_employed\" y \"total_income\". Se realizará un análisis de acuerdo a las características de cada variable para completar estos valores ausentes. Empezaremos con \"total_income\", una de las variables más importantes de nuestro análisis.\n",
    "\n",
    "Empezaremos creando una categoría de edad que luego añadiremos a una nueva columna. Esta categoría es posible que nos ayude a calcular la distribución de los ingresos para completar los valores ausentes. La categorización que me parece adecuada para este tipo de análisis referido a temas financieros es la siguiente:\n",
    "- young: de 18 a 25 años.\n",
    "- young adult: de 26 a 35 años.\n",
    "- intermediate adult: de 36 a 50 años.\n",
    "- advanced adult: de 51 a 64 años.\n",
    "- retired: de 65 en adelante.\n",
    "\n",
    "Esta clasificación es teniendo en cuenta las edades, ingresos respectivos y el empleo que tienen o del cual llegan a retirarse.\n",
    "\n",
    "Definiremos la función que nos ayude a clasificar edades:"
   ]
  },
  {
   "cell_type": "code",
   "execution_count": 51,
   "metadata": {},
   "outputs": [],
   "source": [
    "def age_group(age): # la función nos devuelve los valores presentados para cada rango de edad\n",
    "    if age < 18 or pd.isna(age): # si encuentra valores extraños o nulos, devuelve la cadena 'NA'\n",
    "        return 'NA'\n",
    "    elif age <= 25:\n",
    "        return 'young'\n",
    "    elif age <= 35:\n",
    "        return 'young adult'\n",
    "    elif age <= 50:\n",
    "        return 'intermediate adult'\n",
    "    elif age <= 64:\n",
    "        return 'advanced adult'\n",
    "    return 'retired'\n",
    "\n",
    "\n",
    "    "
   ]
  },
  {
   "cell_type": "code",
   "execution_count": 52,
   "metadata": {},
   "outputs": [
    {
     "name": "stdout",
     "output_type": "stream",
     "text": [
      "NA\n",
      "young\n",
      "young adult\n",
      "intermediate adult\n",
      "advanced adult\n",
      "retired\n"
     ]
    }
   ],
   "source": [
    "print(age_group(15)) # probando la función\n",
    "print(age_group(25)) # probando la función\n",
    "print(age_group(30)) # ...\n",
    "print(age_group(38))\n",
    "print(age_group(55)) # ...\n",
    "print(age_group(65)) # probando la función\n",
    "\n"
   ]
  },
  {
   "cell_type": "code",
   "execution_count": 53,
   "metadata": {},
   "outputs": [],
   "source": [
    "credit_scoring['age_category'] = credit_scoring['dob_years'].apply(age_group)\n",
    "# Creando una nueva columna basada en la función\n",
    "\n"
   ]
  },
  {
   "cell_type": "code",
   "execution_count": 54,
   "metadata": {},
   "outputs": [
    {
     "data": {
      "text/plain": [
       "0    intermediate adult\n",
       "1    intermediate adult\n",
       "2           young adult\n",
       "3           young adult\n",
       "4        advanced adult\n",
       "5           young adult\n",
       "6    intermediate adult\n",
       "7    intermediate adult\n",
       "8           young adult\n",
       "9    intermediate adult\n",
       "Name: age_category, dtype: object"
      ]
     },
     "execution_count": 54,
     "metadata": {},
     "output_type": "execute_result"
    }
   ],
   "source": [
    "credit_scoring['age_category'].head(10) \n",
    "# Comprobando los valores en la nueva columna\n",
    "\n"
   ]
  },
  {
   "cell_type": "markdown",
   "metadata": {},
   "source": [
    "Generalmente, los ingresos de las personas dependen del nivel educativo, la experiencia laboral, el tipo de empleo y la edad. Tenemos toda esta información en nuestro dataset, así que trataremos de demostrar cuán importantes son estos factores en esta muestra, analizando sus respectivas distribuciones."
   ]
  },
  {
   "cell_type": "markdown",
   "metadata": {},
   "source": [
    "Para poder completar estos valores ausentes, analizaremos el dataset prescindiendo de ellos. Esta tabla nos permitirá obtener los datos necesarios para completar el dataset original."
   ]
  },
  {
   "cell_type": "code",
   "execution_count": 55,
   "metadata": {},
   "outputs": [
    {
     "data": {
      "text/html": [
       "<div>\n",
       "<style scoped>\n",
       "    .dataframe tbody tr th:only-of-type {\n",
       "        vertical-align: middle;\n",
       "    }\n",
       "\n",
       "    .dataframe tbody tr th {\n",
       "        vertical-align: top;\n",
       "    }\n",
       "\n",
       "    .dataframe thead th {\n",
       "        text-align: right;\n",
       "    }\n",
       "</style>\n",
       "<table border=\"1\" class=\"dataframe\">\n",
       "  <thead>\n",
       "    <tr style=\"text-align: right;\">\n",
       "      <th></th>\n",
       "      <th>children</th>\n",
       "      <th>days_employed</th>\n",
       "      <th>dob_years</th>\n",
       "      <th>education</th>\n",
       "      <th>education_id</th>\n",
       "      <th>family_status</th>\n",
       "      <th>family_status_id</th>\n",
       "      <th>gender</th>\n",
       "      <th>income_type</th>\n",
       "      <th>debt</th>\n",
       "      <th>total_income</th>\n",
       "      <th>purpose</th>\n",
       "      <th>age_category</th>\n",
       "    </tr>\n",
       "  </thead>\n",
       "  <tbody>\n",
       "    <tr>\n",
       "      <th>0</th>\n",
       "      <td>1</td>\n",
       "      <td>8437.673028</td>\n",
       "      <td>42</td>\n",
       "      <td>bachelor's degree</td>\n",
       "      <td>0</td>\n",
       "      <td>married</td>\n",
       "      <td>0</td>\n",
       "      <td>F</td>\n",
       "      <td>employee</td>\n",
       "      <td>0</td>\n",
       "      <td>40620.102</td>\n",
       "      <td>purchase of the house</td>\n",
       "      <td>intermediate adult</td>\n",
       "    </tr>\n",
       "    <tr>\n",
       "      <th>1</th>\n",
       "      <td>1</td>\n",
       "      <td>4024.803754</td>\n",
       "      <td>36</td>\n",
       "      <td>secondary education</td>\n",
       "      <td>1</td>\n",
       "      <td>married</td>\n",
       "      <td>0</td>\n",
       "      <td>F</td>\n",
       "      <td>employee</td>\n",
       "      <td>0</td>\n",
       "      <td>17932.802</td>\n",
       "      <td>car purchase</td>\n",
       "      <td>intermediate adult</td>\n",
       "    </tr>\n",
       "    <tr>\n",
       "      <th>2</th>\n",
       "      <td>0</td>\n",
       "      <td>5623.422610</td>\n",
       "      <td>33</td>\n",
       "      <td>secondary education</td>\n",
       "      <td>1</td>\n",
       "      <td>married</td>\n",
       "      <td>0</td>\n",
       "      <td>M</td>\n",
       "      <td>employee</td>\n",
       "      <td>0</td>\n",
       "      <td>23341.752</td>\n",
       "      <td>purchase of the house</td>\n",
       "      <td>young adult</td>\n",
       "    </tr>\n",
       "    <tr>\n",
       "      <th>3</th>\n",
       "      <td>3</td>\n",
       "      <td>4124.747207</td>\n",
       "      <td>32</td>\n",
       "      <td>secondary education</td>\n",
       "      <td>1</td>\n",
       "      <td>married</td>\n",
       "      <td>0</td>\n",
       "      <td>M</td>\n",
       "      <td>employee</td>\n",
       "      <td>0</td>\n",
       "      <td>42820.568</td>\n",
       "      <td>supplementary education</td>\n",
       "      <td>young adult</td>\n",
       "    </tr>\n",
       "    <tr>\n",
       "      <th>4</th>\n",
       "      <td>0</td>\n",
       "      <td>NaN</td>\n",
       "      <td>53</td>\n",
       "      <td>secondary education</td>\n",
       "      <td>1</td>\n",
       "      <td>civil partnership</td>\n",
       "      <td>1</td>\n",
       "      <td>F</td>\n",
       "      <td>retiree</td>\n",
       "      <td>0</td>\n",
       "      <td>25378.572</td>\n",
       "      <td>to have a wedding</td>\n",
       "      <td>advanced adult</td>\n",
       "    </tr>\n",
       "    <tr>\n",
       "      <th>5</th>\n",
       "      <td>0</td>\n",
       "      <td>926.185831</td>\n",
       "      <td>27</td>\n",
       "      <td>bachelor's degree</td>\n",
       "      <td>0</td>\n",
       "      <td>civil partnership</td>\n",
       "      <td>1</td>\n",
       "      <td>M</td>\n",
       "      <td>business</td>\n",
       "      <td>0</td>\n",
       "      <td>40922.170</td>\n",
       "      <td>purchase of the house</td>\n",
       "      <td>young adult</td>\n",
       "    </tr>\n",
       "    <tr>\n",
       "      <th>6</th>\n",
       "      <td>0</td>\n",
       "      <td>2879.202052</td>\n",
       "      <td>43</td>\n",
       "      <td>bachelor's degree</td>\n",
       "      <td>0</td>\n",
       "      <td>married</td>\n",
       "      <td>0</td>\n",
       "      <td>F</td>\n",
       "      <td>business</td>\n",
       "      <td>0</td>\n",
       "      <td>38484.156</td>\n",
       "      <td>housing transactions</td>\n",
       "      <td>intermediate adult</td>\n",
       "    </tr>\n",
       "    <tr>\n",
       "      <th>7</th>\n",
       "      <td>0</td>\n",
       "      <td>152.779569</td>\n",
       "      <td>50</td>\n",
       "      <td>secondary education</td>\n",
       "      <td>1</td>\n",
       "      <td>married</td>\n",
       "      <td>0</td>\n",
       "      <td>M</td>\n",
       "      <td>employee</td>\n",
       "      <td>0</td>\n",
       "      <td>21731.829</td>\n",
       "      <td>education</td>\n",
       "      <td>intermediate adult</td>\n",
       "    </tr>\n",
       "    <tr>\n",
       "      <th>8</th>\n",
       "      <td>2</td>\n",
       "      <td>6929.865299</td>\n",
       "      <td>35</td>\n",
       "      <td>bachelor's degree</td>\n",
       "      <td>0</td>\n",
       "      <td>civil partnership</td>\n",
       "      <td>1</td>\n",
       "      <td>F</td>\n",
       "      <td>employee</td>\n",
       "      <td>0</td>\n",
       "      <td>15337.093</td>\n",
       "      <td>having a wedding</td>\n",
       "      <td>young adult</td>\n",
       "    </tr>\n",
       "    <tr>\n",
       "      <th>9</th>\n",
       "      <td>0</td>\n",
       "      <td>2188.756445</td>\n",
       "      <td>41</td>\n",
       "      <td>secondary education</td>\n",
       "      <td>1</td>\n",
       "      <td>married</td>\n",
       "      <td>0</td>\n",
       "      <td>M</td>\n",
       "      <td>employee</td>\n",
       "      <td>0</td>\n",
       "      <td>23108.150</td>\n",
       "      <td>purchase of the house for my family</td>\n",
       "      <td>intermediate adult</td>\n",
       "    </tr>\n",
       "  </tbody>\n",
       "</table>\n",
       "</div>"
      ],
      "text/plain": [
       "   children  days_employed  dob_years            education  education_id  \\\n",
       "0         1    8437.673028         42    bachelor's degree             0   \n",
       "1         1    4024.803754         36  secondary education             1   \n",
       "2         0    5623.422610         33  secondary education             1   \n",
       "3         3    4124.747207         32  secondary education             1   \n",
       "4         0            NaN         53  secondary education             1   \n",
       "5         0     926.185831         27    bachelor's degree             0   \n",
       "6         0    2879.202052         43    bachelor's degree             0   \n",
       "7         0     152.779569         50  secondary education             1   \n",
       "8         2    6929.865299         35    bachelor's degree             0   \n",
       "9         0    2188.756445         41  secondary education             1   \n",
       "\n",
       "       family_status  family_status_id gender income_type  debt  total_income  \\\n",
       "0            married                 0      F    employee     0     40620.102   \n",
       "1            married                 0      F    employee     0     17932.802   \n",
       "2            married                 0      M    employee     0     23341.752   \n",
       "3            married                 0      M    employee     0     42820.568   \n",
       "4  civil partnership                 1      F     retiree     0     25378.572   \n",
       "5  civil partnership                 1      M    business     0     40922.170   \n",
       "6            married                 0      F    business     0     38484.156   \n",
       "7            married                 0      M    employee     0     21731.829   \n",
       "8  civil partnership                 1      F    employee     0     15337.093   \n",
       "9            married                 0      M    employee     0     23108.150   \n",
       "\n",
       "                               purpose        age_category  \n",
       "0                purchase of the house  intermediate adult  \n",
       "1                         car purchase  intermediate adult  \n",
       "2                purchase of the house         young adult  \n",
       "3              supplementary education         young adult  \n",
       "4                    to have a wedding      advanced adult  \n",
       "5                purchase of the house         young adult  \n",
       "6                 housing transactions  intermediate adult  \n",
       "7                            education  intermediate adult  \n",
       "8                     having a wedding         young adult  \n",
       "9  purchase of the house for my family  intermediate adult  "
      ]
     },
     "execution_count": 55,
     "metadata": {},
     "output_type": "execute_result"
    }
   ],
   "source": [
    "credit_scoring_without_na = credit_scoring.dropna(subset=['total_income']) \n",
    "# Guardando el nuevo datset sin valores ausentes en \"total_income\"\n",
    "credit_scoring_without_na.head(10)\n",
    "# Observando y comprobando el nuevo dataset"
   ]
  },
  {
   "cell_type": "code",
   "execution_count": 56,
   "metadata": {},
   "outputs": [
    {
     "data": {
      "text/html": [
       "<div>\n",
       "<style scoped>\n",
       "    .dataframe tbody tr th:only-of-type {\n",
       "        vertical-align: middle;\n",
       "    }\n",
       "\n",
       "    .dataframe tbody tr th {\n",
       "        vertical-align: top;\n",
       "    }\n",
       "\n",
       "    .dataframe thead th {\n",
       "        text-align: right;\n",
       "    }\n",
       "</style>\n",
       "<table border=\"1\" class=\"dataframe\">\n",
       "  <thead>\n",
       "    <tr style=\"text-align: right;\">\n",
       "      <th></th>\n",
       "      <th>total_income</th>\n",
       "    </tr>\n",
       "    <tr>\n",
       "      <th>education</th>\n",
       "      <th></th>\n",
       "    </tr>\n",
       "  </thead>\n",
       "  <tbody>\n",
       "    <tr>\n",
       "      <th>bachelor's degree</th>\n",
       "      <td>33142.802434</td>\n",
       "    </tr>\n",
       "    <tr>\n",
       "      <th>graduate degree</th>\n",
       "      <td>27960.024667</td>\n",
       "    </tr>\n",
       "    <tr>\n",
       "      <th>primary education</th>\n",
       "      <td>21144.882211</td>\n",
       "    </tr>\n",
       "    <tr>\n",
       "      <th>secondary education</th>\n",
       "      <td>24594.503037</td>\n",
       "    </tr>\n",
       "    <tr>\n",
       "      <th>some college</th>\n",
       "      <td>29040.132990</td>\n",
       "    </tr>\n",
       "  </tbody>\n",
       "</table>\n",
       "</div>"
      ],
      "text/plain": [
       "                     total_income\n",
       "education                        \n",
       "bachelor's degree    33142.802434\n",
       "graduate degree      27960.024667\n",
       "primary education    21144.882211\n",
       "secondary education  24594.503037\n",
       "some college         29040.132990"
      ]
     },
     "execution_count": 56,
     "metadata": {},
     "output_type": "execute_result"
    }
   ],
   "source": [
    "income_grouped_mean_1 = credit_scoring.pivot_table(index='education', values='total_income', aggfunc='mean')\n",
    "income_grouped_mean_1\n",
    "# Examinando los valores medios de los ingresos en función del nivel educativo"
   ]
  },
  {
   "cell_type": "code",
   "execution_count": 57,
   "metadata": {},
   "outputs": [
    {
     "data": {
      "text/html": [
       "<div>\n",
       "<style scoped>\n",
       "    .dataframe tbody tr th:only-of-type {\n",
       "        vertical-align: middle;\n",
       "    }\n",
       "\n",
       "    .dataframe tbody tr th {\n",
       "        vertical-align: top;\n",
       "    }\n",
       "\n",
       "    .dataframe thead th {\n",
       "        text-align: right;\n",
       "    }\n",
       "</style>\n",
       "<table border=\"1\" class=\"dataframe\">\n",
       "  <thead>\n",
       "    <tr style=\"text-align: right;\">\n",
       "      <th></th>\n",
       "      <th>total_income</th>\n",
       "    </tr>\n",
       "    <tr>\n",
       "      <th>income_type</th>\n",
       "      <th></th>\n",
       "    </tr>\n",
       "  </thead>\n",
       "  <tbody>\n",
       "    <tr>\n",
       "      <th>business</th>\n",
       "      <td>32397.115286</td>\n",
       "    </tr>\n",
       "    <tr>\n",
       "      <th>civil servant</th>\n",
       "      <td>27343.729582</td>\n",
       "    </tr>\n",
       "    <tr>\n",
       "      <th>employee</th>\n",
       "      <td>25819.123443</td>\n",
       "    </tr>\n",
       "    <tr>\n",
       "      <th>retiree</th>\n",
       "      <td>21940.394503</td>\n",
       "    </tr>\n",
       "    <tr>\n",
       "      <th>unemployed</th>\n",
       "      <td>19246.993667</td>\n",
       "    </tr>\n",
       "  </tbody>\n",
       "</table>\n",
       "</div>"
      ],
      "text/plain": [
       "               total_income\n",
       "income_type                \n",
       "business       32397.115286\n",
       "civil servant  27343.729582\n",
       "employee       25819.123443\n",
       "retiree        21940.394503\n",
       "unemployed     19246.993667"
      ]
     },
     "execution_count": 57,
     "metadata": {},
     "output_type": "execute_result"
    }
   ],
   "source": [
    "income_grouped_mean_2 = credit_scoring.pivot_table(index='income_type', values='total_income', aggfunc='mean')\n",
    "income_grouped_mean_2\n",
    "# Examinando los valores medios de los ingresos en función del tipo de empleo"
   ]
  },
  {
   "cell_type": "code",
   "execution_count": 58,
   "metadata": {},
   "outputs": [
    {
     "data": {
      "text/html": [
       "<div>\n",
       "<style scoped>\n",
       "    .dataframe tbody tr th:only-of-type {\n",
       "        vertical-align: middle;\n",
       "    }\n",
       "\n",
       "    .dataframe tbody tr th {\n",
       "        vertical-align: top;\n",
       "    }\n",
       "\n",
       "    .dataframe thead th {\n",
       "        text-align: right;\n",
       "    }\n",
       "</style>\n",
       "<table border=\"1\" class=\"dataframe\">\n",
       "  <thead>\n",
       "    <tr style=\"text-align: right;\">\n",
       "      <th></th>\n",
       "      <th>total_income</th>\n",
       "    </tr>\n",
       "    <tr>\n",
       "      <th>age_category</th>\n",
       "      <th></th>\n",
       "    </tr>\n",
       "  </thead>\n",
       "  <tbody>\n",
       "    <tr>\n",
       "      <th>advanced adult</th>\n",
       "      <td>25206.111775</td>\n",
       "    </tr>\n",
       "    <tr>\n",
       "      <th>intermediate adult</th>\n",
       "      <td>28422.717718</td>\n",
       "    </tr>\n",
       "    <tr>\n",
       "      <th>retired</th>\n",
       "      <td>21542.650450</td>\n",
       "    </tr>\n",
       "    <tr>\n",
       "      <th>young</th>\n",
       "      <td>23447.795802</td>\n",
       "    </tr>\n",
       "    <tr>\n",
       "      <th>young adult</th>\n",
       "      <td>27613.702541</td>\n",
       "    </tr>\n",
       "  </tbody>\n",
       "</table>\n",
       "</div>"
      ],
      "text/plain": [
       "                    total_income\n",
       "age_category                    \n",
       "advanced adult      25206.111775\n",
       "intermediate adult  28422.717718\n",
       "retired             21542.650450\n",
       "young               23447.795802\n",
       "young adult         27613.702541"
      ]
     },
     "execution_count": 58,
     "metadata": {},
     "output_type": "execute_result"
    }
   ],
   "source": [
    "income_grouped_mean_3 = credit_scoring.pivot_table(index='age_category', values='total_income', aggfunc='mean')\n",
    "income_grouped_mean_3\n",
    "# Examinando los valores medios de los ingresos en función de la categoría de edades creada"
   ]
  },
  {
   "cell_type": "code",
   "execution_count": 59,
   "metadata": {},
   "outputs": [
    {
     "data": {
      "text/html": [
       "<div>\n",
       "<style scoped>\n",
       "    .dataframe tbody tr th:only-of-type {\n",
       "        vertical-align: middle;\n",
       "    }\n",
       "\n",
       "    .dataframe tbody tr th {\n",
       "        vertical-align: top;\n",
       "    }\n",
       "\n",
       "    .dataframe thead th {\n",
       "        text-align: right;\n",
       "    }\n",
       "</style>\n",
       "<table border=\"1\" class=\"dataframe\">\n",
       "  <thead>\n",
       "    <tr style=\"text-align: right;\">\n",
       "      <th></th>\n",
       "      <th>total_income</th>\n",
       "      <th>days_employed</th>\n",
       "    </tr>\n",
       "  </thead>\n",
       "  <tbody>\n",
       "    <tr>\n",
       "      <th>count</th>\n",
       "      <td>19350.000000</td>\n",
       "      <td>15905.000000</td>\n",
       "    </tr>\n",
       "    <tr>\n",
       "      <th>mean</th>\n",
       "      <td>26787.266688</td>\n",
       "      <td>2353.015581</td>\n",
       "    </tr>\n",
       "    <tr>\n",
       "      <th>std</th>\n",
       "      <td>16475.822926</td>\n",
       "      <td>2304.316291</td>\n",
       "    </tr>\n",
       "    <tr>\n",
       "      <th>min</th>\n",
       "      <td>3306.762000</td>\n",
       "      <td>24.141633</td>\n",
       "    </tr>\n",
       "    <tr>\n",
       "      <th>25%</th>\n",
       "      <td>16486.515250</td>\n",
       "      <td>756.281915</td>\n",
       "    </tr>\n",
       "    <tr>\n",
       "      <th>50%</th>\n",
       "      <td>23201.873500</td>\n",
       "      <td>1629.997862</td>\n",
       "    </tr>\n",
       "    <tr>\n",
       "      <th>75%</th>\n",
       "      <td>32547.910750</td>\n",
       "      <td>3157.654315</td>\n",
       "    </tr>\n",
       "    <tr>\n",
       "      <th>max</th>\n",
       "      <td>362496.645000</td>\n",
       "      <td>18388.949901</td>\n",
       "    </tr>\n",
       "  </tbody>\n",
       "</table>\n",
       "</div>"
      ],
      "text/plain": [
       "        total_income  days_employed\n",
       "count   19350.000000   15905.000000\n",
       "mean    26787.266688    2353.015581\n",
       "std     16475.822926    2304.316291\n",
       "min      3306.762000      24.141633\n",
       "25%     16486.515250     756.281915\n",
       "50%     23201.873500    1629.997862\n",
       "75%     32547.910750    3157.654315\n",
       "max    362496.645000   18388.949901"
      ]
     },
     "execution_count": 59,
     "metadata": {},
     "output_type": "execute_result"
    }
   ],
   "source": [
    "income_grouped_mean_4 = credit_scoring_without_na[['total_income', 'days_employed']].describe()\n",
    "income_grouped_mean_4\n",
    "# Examinando la distribución de los ingresos con los días de empleo a la vez"
   ]
  },
  {
   "cell_type": "code",
   "execution_count": 60,
   "metadata": {
    "scrolled": true
   },
   "outputs": [
    {
     "data": {
      "text/html": [
       "<div>\n",
       "<style scoped>\n",
       "    .dataframe tbody tr th:only-of-type {\n",
       "        vertical-align: middle;\n",
       "    }\n",
       "\n",
       "    .dataframe tbody tr th {\n",
       "        vertical-align: top;\n",
       "    }\n",
       "\n",
       "    .dataframe thead th {\n",
       "        text-align: right;\n",
       "    }\n",
       "</style>\n",
       "<table border=\"1\" class=\"dataframe\">\n",
       "  <thead>\n",
       "    <tr style=\"text-align: right;\">\n",
       "      <th></th>\n",
       "      <th>total_income</th>\n",
       "    </tr>\n",
       "    <tr>\n",
       "      <th>education</th>\n",
       "      <th></th>\n",
       "    </tr>\n",
       "  </thead>\n",
       "  <tbody>\n",
       "    <tr>\n",
       "      <th>bachelor's degree</th>\n",
       "      <td>28054.5310</td>\n",
       "    </tr>\n",
       "    <tr>\n",
       "      <th>graduate degree</th>\n",
       "      <td>25161.5835</td>\n",
       "    </tr>\n",
       "    <tr>\n",
       "      <th>primary education</th>\n",
       "      <td>18741.9760</td>\n",
       "    </tr>\n",
       "    <tr>\n",
       "      <th>secondary education</th>\n",
       "      <td>21836.5830</td>\n",
       "    </tr>\n",
       "    <tr>\n",
       "      <th>some college</th>\n",
       "      <td>25608.7945</td>\n",
       "    </tr>\n",
       "  </tbody>\n",
       "</table>\n",
       "</div>"
      ],
      "text/plain": [
       "                     total_income\n",
       "education                        \n",
       "bachelor's degree      28054.5310\n",
       "graduate degree        25161.5835\n",
       "primary education      18741.9760\n",
       "secondary education    21836.5830\n",
       "some college           25608.7945"
      ]
     },
     "execution_count": 60,
     "metadata": {},
     "output_type": "execute_result"
    }
   ],
   "source": [
    "inc_gr_median_1 = credit_scoring.pivot_table(index='education', values='total_income', aggfunc='median')\n",
    "inc_gr_median_1\n",
    "# Examinando los valores medianos de los ingresos en función del factor educativo\n"
   ]
  },
  {
   "cell_type": "code",
   "execution_count": 61,
   "metadata": {},
   "outputs": [
    {
     "data": {
      "text/html": [
       "<div>\n",
       "<style scoped>\n",
       "    .dataframe tbody tr th:only-of-type {\n",
       "        vertical-align: middle;\n",
       "    }\n",
       "\n",
       "    .dataframe tbody tr th {\n",
       "        vertical-align: top;\n",
       "    }\n",
       "\n",
       "    .dataframe thead th {\n",
       "        text-align: right;\n",
       "    }\n",
       "</style>\n",
       "<table border=\"1\" class=\"dataframe\">\n",
       "  <thead>\n",
       "    <tr style=\"text-align: right;\">\n",
       "      <th></th>\n",
       "      <th>total_income</th>\n",
       "    </tr>\n",
       "    <tr>\n",
       "      <th>income_type</th>\n",
       "      <th></th>\n",
       "    </tr>\n",
       "  </thead>\n",
       "  <tbody>\n",
       "    <tr>\n",
       "      <th>business</th>\n",
       "      <td>27577.2720</td>\n",
       "    </tr>\n",
       "    <tr>\n",
       "      <th>civil servant</th>\n",
       "      <td>24071.6695</td>\n",
       "    </tr>\n",
       "    <tr>\n",
       "      <th>employee</th>\n",
       "      <td>22814.0140</td>\n",
       "    </tr>\n",
       "    <tr>\n",
       "      <th>retiree</th>\n",
       "      <td>18962.3180</td>\n",
       "    </tr>\n",
       "    <tr>\n",
       "      <th>unemployed</th>\n",
       "      <td>15712.2600</td>\n",
       "    </tr>\n",
       "  </tbody>\n",
       "</table>\n",
       "</div>"
      ],
      "text/plain": [
       "               total_income\n",
       "income_type                \n",
       "business         27577.2720\n",
       "civil servant    24071.6695\n",
       "employee         22814.0140\n",
       "retiree          18962.3180\n",
       "unemployed       15712.2600"
      ]
     },
     "execution_count": 61,
     "metadata": {},
     "output_type": "execute_result"
    }
   ],
   "source": [
    "income_grouped_median_2 = credit_scoring.pivot_table(index='income_type', values='total_income', aggfunc='median')\n",
    "income_grouped_median_2\n",
    "# Examinando los valores medianos de los ingresos en función del tipo de ingreso"
   ]
  },
  {
   "cell_type": "code",
   "execution_count": 62,
   "metadata": {},
   "outputs": [
    {
     "data": {
      "text/html": [
       "<div>\n",
       "<style scoped>\n",
       "    .dataframe tbody tr th:only-of-type {\n",
       "        vertical-align: middle;\n",
       "    }\n",
       "\n",
       "    .dataframe tbody tr th {\n",
       "        vertical-align: top;\n",
       "    }\n",
       "\n",
       "    .dataframe thead th {\n",
       "        text-align: right;\n",
       "    }\n",
       "</style>\n",
       "<table border=\"1\" class=\"dataframe\">\n",
       "  <thead>\n",
       "    <tr style=\"text-align: right;\">\n",
       "      <th></th>\n",
       "      <th>total_income</th>\n",
       "    </tr>\n",
       "    <tr>\n",
       "      <th>age_category</th>\n",
       "      <th></th>\n",
       "    </tr>\n",
       "  </thead>\n",
       "  <tbody>\n",
       "    <tr>\n",
       "      <th>advanced adult</th>\n",
       "      <td>21738.7255</td>\n",
       "    </tr>\n",
       "    <tr>\n",
       "      <th>intermediate adult</th>\n",
       "      <td>24691.2115</td>\n",
       "    </tr>\n",
       "    <tr>\n",
       "      <th>retired</th>\n",
       "      <td>18471.3910</td>\n",
       "    </tr>\n",
       "    <tr>\n",
       "      <th>young</th>\n",
       "      <td>21423.8355</td>\n",
       "    </tr>\n",
       "    <tr>\n",
       "      <th>young adult</th>\n",
       "      <td>24193.5905</td>\n",
       "    </tr>\n",
       "  </tbody>\n",
       "</table>\n",
       "</div>"
      ],
      "text/plain": [
       "                    total_income\n",
       "age_category                    \n",
       "advanced adult        21738.7255\n",
       "intermediate adult    24691.2115\n",
       "retired               18471.3910\n",
       "young                 21423.8355\n",
       "young adult           24193.5905"
      ]
     },
     "execution_count": 62,
     "metadata": {},
     "output_type": "execute_result"
    }
   ],
   "source": [
    "income_grouped_median_3 = credit_scoring.pivot_table(index='age_category', values='total_income', aggfunc='median')\n",
    "income_grouped_median_3\n",
    "# Examinando los valores medianos de los ingresos en función de la categoría de edad creada"
   ]
  },
  {
   "cell_type": "markdown",
   "metadata": {},
   "source": [
    "Analizando los ingresos en función de cada factor posible, parece razonable suponer que en general todas son buenas aproximaciones, ya que los valores de cada categoría se parecen en medias y medianas. Es más, en cierta medida siguen el patrón lógico que se esperaría, aunque con algunas excepciones. Teniendo en cuenta algunas guías teóricas sobre qué factor es el más importante, usaremos como factor principal al educativo. \n",
    "\n",
    "Es sabido en la literatura que una variable referida a ingresos tiene muchos valores outliers, en este caso no es la excepción: la media y mediana están un poco desplazadas. Debido a esto, decidiremos usar la mediana para completar los valores ausentes.\n",
    "\n",
    "Crearemos una función para completar los valores ausentes en base a las medianas de cada nivel educativo:"
   ]
  },
  {
   "cell_type": "code",
   "execution_count": 63,
   "metadata": {},
   "outputs": [],
   "source": [
    "def complete_nan(data): # Definiendo la función\n",
    "    education = data['education']\n",
    "    income = data['total_income']\n",
    "    if pd.isna(income): # Si el valor de \"income\" es ausente, devuelve el valor respectivo\n",
    "        try:\n",
    "            return inc_gr_median_1.loc[education, 'total_income']\n",
    "        except:\n",
    "            return 'NA'  # Si existe un valor educativo distinto, devuelve \"NA\"\n",
    "    return income   # Si el valor de \"income\" no es nulo nos devuelve el mismo valor\n",
    "#  función que usaremos para completar los valores ausentes\n",
    "        \n",
    "        "
   ]
  },
  {
   "cell_type": "code",
   "execution_count": 64,
   "metadata": {},
   "outputs": [
    {
     "data": {
      "text/html": [
       "<div>\n",
       "<style scoped>\n",
       "    .dataframe tbody tr th:only-of-type {\n",
       "        vertical-align: middle;\n",
       "    }\n",
       "\n",
       "    .dataframe tbody tr th {\n",
       "        vertical-align: top;\n",
       "    }\n",
       "\n",
       "    .dataframe thead th {\n",
       "        text-align: right;\n",
       "    }\n",
       "</style>\n",
       "<table border=\"1\" class=\"dataframe\">\n",
       "  <thead>\n",
       "    <tr style=\"text-align: right;\">\n",
       "      <th></th>\n",
       "      <th>education</th>\n",
       "      <th>total_income</th>\n",
       "    </tr>\n",
       "  </thead>\n",
       "  <tbody>\n",
       "    <tr>\n",
       "      <th>0</th>\n",
       "      <td>primary education</td>\n",
       "      <td>18741.9760</td>\n",
       "    </tr>\n",
       "    <tr>\n",
       "      <th>1</th>\n",
       "      <td>graduate degree</td>\n",
       "      <td>10000.0000</td>\n",
       "    </tr>\n",
       "    <tr>\n",
       "      <th>2</th>\n",
       "      <td>some college</td>\n",
       "      <td>25608.7945</td>\n",
       "    </tr>\n",
       "    <tr>\n",
       "      <th>3</th>\n",
       "      <td>bachelor's degree</td>\n",
       "      <td>50000.0000</td>\n",
       "    </tr>\n",
       "    <tr>\n",
       "      <th>4</th>\n",
       "      <td>secondary education</td>\n",
       "      <td>21836.5830</td>\n",
       "    </tr>\n",
       "  </tbody>\n",
       "</table>\n",
       "</div>"
      ],
      "text/plain": [
       "             education  total_income\n",
       "0    primary education    18741.9760\n",
       "1      graduate degree    10000.0000\n",
       "2         some college    25608.7945\n",
       "3    bachelor's degree    50000.0000\n",
       "4  secondary education    21836.5830"
      ]
     },
     "execution_count": 64,
     "metadata": {},
     "output_type": "execute_result"
    }
   ],
   "source": [
    "data_values = {'education': ['primary education', 'graduate degree', 'some college', \"bachelor's degree\", 'secondary education'],\n",
    "              'total_income': [None, 10000, None, 50000, None]} # Creando el dataframe de prueba\n",
    "data_test = pd.DataFrame(data_values) # Creando el dataframe de prueba\n",
    "data_test['total_income'] = data_test.apply(complete_nan, axis=1) # Comprobando si funciona\n",
    "data_test"
   ]
  },
  {
   "cell_type": "code",
   "execution_count": 65,
   "metadata": {},
   "outputs": [],
   "source": [
    "credit_scoring['total_income'] = credit_scoring.apply(complete_nan, axis=1)\n",
    "# Aplicando la función a cada fila respectiva\n"
   ]
  },
  {
   "cell_type": "code",
   "execution_count": 66,
   "metadata": {},
   "outputs": [
    {
     "name": "stdout",
     "output_type": "stream",
     "text": [
      "Empty DataFrame\n",
      "Columns: [children, days_employed, dob_years, education, education_id, family_status, family_status_id, gender, income_type, debt, total_income, purpose, age_category]\n",
      "Index: []\n"
     ]
    },
    {
     "data": {
      "text/html": [
       "<div>\n",
       "<style scoped>\n",
       "    .dataframe tbody tr th:only-of-type {\n",
       "        vertical-align: middle;\n",
       "    }\n",
       "\n",
       "    .dataframe tbody tr th {\n",
       "        vertical-align: top;\n",
       "    }\n",
       "\n",
       "    .dataframe thead th {\n",
       "        text-align: right;\n",
       "    }\n",
       "</style>\n",
       "<table border=\"1\" class=\"dataframe\">\n",
       "  <thead>\n",
       "    <tr style=\"text-align: right;\">\n",
       "      <th></th>\n",
       "      <th>children</th>\n",
       "      <th>days_employed</th>\n",
       "      <th>dob_years</th>\n",
       "      <th>education</th>\n",
       "      <th>education_id</th>\n",
       "      <th>family_status</th>\n",
       "      <th>family_status_id</th>\n",
       "      <th>gender</th>\n",
       "      <th>income_type</th>\n",
       "      <th>debt</th>\n",
       "      <th>total_income</th>\n",
       "      <th>purpose</th>\n",
       "      <th>age_category</th>\n",
       "    </tr>\n",
       "  </thead>\n",
       "  <tbody>\n",
       "    <tr>\n",
       "      <th>0</th>\n",
       "      <td>1</td>\n",
       "      <td>8437.673028</td>\n",
       "      <td>42</td>\n",
       "      <td>bachelor's degree</td>\n",
       "      <td>0</td>\n",
       "      <td>married</td>\n",
       "      <td>0</td>\n",
       "      <td>F</td>\n",
       "      <td>employee</td>\n",
       "      <td>0</td>\n",
       "      <td>40620.102</td>\n",
       "      <td>purchase of the house</td>\n",
       "      <td>intermediate adult</td>\n",
       "    </tr>\n",
       "    <tr>\n",
       "      <th>1</th>\n",
       "      <td>1</td>\n",
       "      <td>4024.803754</td>\n",
       "      <td>36</td>\n",
       "      <td>secondary education</td>\n",
       "      <td>1</td>\n",
       "      <td>married</td>\n",
       "      <td>0</td>\n",
       "      <td>F</td>\n",
       "      <td>employee</td>\n",
       "      <td>0</td>\n",
       "      <td>17932.802</td>\n",
       "      <td>car purchase</td>\n",
       "      <td>intermediate adult</td>\n",
       "    </tr>\n",
       "    <tr>\n",
       "      <th>2</th>\n",
       "      <td>0</td>\n",
       "      <td>5623.422610</td>\n",
       "      <td>33</td>\n",
       "      <td>secondary education</td>\n",
       "      <td>1</td>\n",
       "      <td>married</td>\n",
       "      <td>0</td>\n",
       "      <td>M</td>\n",
       "      <td>employee</td>\n",
       "      <td>0</td>\n",
       "      <td>23341.752</td>\n",
       "      <td>purchase of the house</td>\n",
       "      <td>young adult</td>\n",
       "    </tr>\n",
       "    <tr>\n",
       "      <th>3</th>\n",
       "      <td>3</td>\n",
       "      <td>4124.747207</td>\n",
       "      <td>32</td>\n",
       "      <td>secondary education</td>\n",
       "      <td>1</td>\n",
       "      <td>married</td>\n",
       "      <td>0</td>\n",
       "      <td>M</td>\n",
       "      <td>employee</td>\n",
       "      <td>0</td>\n",
       "      <td>42820.568</td>\n",
       "      <td>supplementary education</td>\n",
       "      <td>young adult</td>\n",
       "    </tr>\n",
       "    <tr>\n",
       "      <th>4</th>\n",
       "      <td>0</td>\n",
       "      <td>NaN</td>\n",
       "      <td>53</td>\n",
       "      <td>secondary education</td>\n",
       "      <td>1</td>\n",
       "      <td>civil partnership</td>\n",
       "      <td>1</td>\n",
       "      <td>F</td>\n",
       "      <td>retiree</td>\n",
       "      <td>0</td>\n",
       "      <td>25378.572</td>\n",
       "      <td>to have a wedding</td>\n",
       "      <td>advanced adult</td>\n",
       "    </tr>\n",
       "    <tr>\n",
       "      <th>5</th>\n",
       "      <td>0</td>\n",
       "      <td>926.185831</td>\n",
       "      <td>27</td>\n",
       "      <td>bachelor's degree</td>\n",
       "      <td>0</td>\n",
       "      <td>civil partnership</td>\n",
       "      <td>1</td>\n",
       "      <td>M</td>\n",
       "      <td>business</td>\n",
       "      <td>0</td>\n",
       "      <td>40922.170</td>\n",
       "      <td>purchase of the house</td>\n",
       "      <td>young adult</td>\n",
       "    </tr>\n",
       "    <tr>\n",
       "      <th>6</th>\n",
       "      <td>0</td>\n",
       "      <td>2879.202052</td>\n",
       "      <td>43</td>\n",
       "      <td>bachelor's degree</td>\n",
       "      <td>0</td>\n",
       "      <td>married</td>\n",
       "      <td>0</td>\n",
       "      <td>F</td>\n",
       "      <td>business</td>\n",
       "      <td>0</td>\n",
       "      <td>38484.156</td>\n",
       "      <td>housing transactions</td>\n",
       "      <td>intermediate adult</td>\n",
       "    </tr>\n",
       "    <tr>\n",
       "      <th>7</th>\n",
       "      <td>0</td>\n",
       "      <td>152.779569</td>\n",
       "      <td>50</td>\n",
       "      <td>secondary education</td>\n",
       "      <td>1</td>\n",
       "      <td>married</td>\n",
       "      <td>0</td>\n",
       "      <td>M</td>\n",
       "      <td>employee</td>\n",
       "      <td>0</td>\n",
       "      <td>21731.829</td>\n",
       "      <td>education</td>\n",
       "      <td>intermediate adult</td>\n",
       "    </tr>\n",
       "    <tr>\n",
       "      <th>8</th>\n",
       "      <td>2</td>\n",
       "      <td>6929.865299</td>\n",
       "      <td>35</td>\n",
       "      <td>bachelor's degree</td>\n",
       "      <td>0</td>\n",
       "      <td>civil partnership</td>\n",
       "      <td>1</td>\n",
       "      <td>F</td>\n",
       "      <td>employee</td>\n",
       "      <td>0</td>\n",
       "      <td>15337.093</td>\n",
       "      <td>having a wedding</td>\n",
       "      <td>young adult</td>\n",
       "    </tr>\n",
       "    <tr>\n",
       "      <th>9</th>\n",
       "      <td>0</td>\n",
       "      <td>2188.756445</td>\n",
       "      <td>41</td>\n",
       "      <td>secondary education</td>\n",
       "      <td>1</td>\n",
       "      <td>married</td>\n",
       "      <td>0</td>\n",
       "      <td>M</td>\n",
       "      <td>employee</td>\n",
       "      <td>0</td>\n",
       "      <td>23108.150</td>\n",
       "      <td>purchase of the house for my family</td>\n",
       "      <td>intermediate adult</td>\n",
       "    </tr>\n",
       "  </tbody>\n",
       "</table>\n",
       "</div>"
      ],
      "text/plain": [
       "   children  days_employed  dob_years            education  education_id  \\\n",
       "0         1    8437.673028         42    bachelor's degree             0   \n",
       "1         1    4024.803754         36  secondary education             1   \n",
       "2         0    5623.422610         33  secondary education             1   \n",
       "3         3    4124.747207         32  secondary education             1   \n",
       "4         0            NaN         53  secondary education             1   \n",
       "5         0     926.185831         27    bachelor's degree             0   \n",
       "6         0    2879.202052         43    bachelor's degree             0   \n",
       "7         0     152.779569         50  secondary education             1   \n",
       "8         2    6929.865299         35    bachelor's degree             0   \n",
       "9         0    2188.756445         41  secondary education             1   \n",
       "\n",
       "       family_status  family_status_id gender income_type  debt  total_income  \\\n",
       "0            married                 0      F    employee     0     40620.102   \n",
       "1            married                 0      F    employee     0     17932.802   \n",
       "2            married                 0      M    employee     0     23341.752   \n",
       "3            married                 0      M    employee     0     42820.568   \n",
       "4  civil partnership                 1      F     retiree     0     25378.572   \n",
       "5  civil partnership                 1      M    business     0     40922.170   \n",
       "6            married                 0      F    business     0     38484.156   \n",
       "7            married                 0      M    employee     0     21731.829   \n",
       "8  civil partnership                 1      F    employee     0     15337.093   \n",
       "9            married                 0      M    employee     0     23108.150   \n",
       "\n",
       "                               purpose        age_category  \n",
       "0                purchase of the house  intermediate adult  \n",
       "1                         car purchase  intermediate adult  \n",
       "2                purchase of the house         young adult  \n",
       "3              supplementary education         young adult  \n",
       "4                    to have a wedding      advanced adult  \n",
       "5                purchase of the house         young adult  \n",
       "6                 housing transactions  intermediate adult  \n",
       "7                            education  intermediate adult  \n",
       "8                     having a wedding         young adult  \n",
       "9  purchase of the house for my family  intermediate adult  "
      ]
     },
     "execution_count": 66,
     "metadata": {},
     "output_type": "execute_result"
    }
   ],
   "source": [
    "print(credit_scoring[credit_scoring['total_income'].isna()]) # Comprobando si aún hay valores ausentes\n",
    "credit_scoring.head(10) # Mostrando el dataset con los datos rellenados\n"
   ]
  },
  {
   "cell_type": "markdown",
   "metadata": {},
   "source": [
    "Ahora comprobaremos si esta columna ha sido corregida analizando sus atributos:"
   ]
  },
  {
   "cell_type": "code",
   "execution_count": 67,
   "metadata": {},
   "outputs": [
    {
     "name": "stdout",
     "output_type": "stream",
     "text": [
      "<class 'pandas.core.frame.DataFrame'>\n",
      "RangeIndex: 21453 entries, 0 to 21452\n",
      "Data columns (total 13 columns):\n",
      " #   Column            Non-Null Count  Dtype  \n",
      "---  ------            --------------  -----  \n",
      " 0   children          21453 non-null  int64  \n",
      " 1   days_employed     15905 non-null  float64\n",
      " 2   dob_years         21453 non-null  int64  \n",
      " 3   education         21453 non-null  object \n",
      " 4   education_id      21453 non-null  int64  \n",
      " 5   family_status     21453 non-null  object \n",
      " 6   family_status_id  21453 non-null  int64  \n",
      " 7   gender            21453 non-null  object \n",
      " 8   income_type       21453 non-null  object \n",
      " 9   debt              21453 non-null  int64  \n",
      " 10  total_income      21453 non-null  float64\n",
      " 11  purpose           21453 non-null  object \n",
      " 12  age_category      21453 non-null  object \n",
      "dtypes: float64(2), int64(5), object(6)\n",
      "memory usage: 2.1+ MB\n"
     ]
    }
   ],
   "source": [
    "credit_scoring.info() # Comprobar el número de entradas en la columna"
   ]
  },
  {
   "cell_type": "markdown",
   "metadata": {},
   "source": [
    "####  Restaurar valores en `days_employed`"
   ]
  },
  {
   "cell_type": "markdown",
   "metadata": {},
   "source": [
    "Para empezar con el análisis, debemos pensar en cuáles podrían ser los factores que nos puedan ayudar a completar los valores ausentes de los días de empleo del cliente. La deducción es sencilla: la cantidad de días en los que el cliente ha trabajado depende directamente de su edad, y en mucha menor medida, del tipo de empleo y el nivel educativo. En este caso, solo analizaremos la relación entre los días empleados y la edad para ayudarnos a completar sus valores ausentes de la mejor forma posible, ya se utilizando la media o mediana. También tengamos en cuenta que esta no es más que una conjetura basada en la lógica. La verdadera naturaleza de los valores ausentes también debería ser analizada y determinada con el equipo respectivo."
   ]
  },
  {
   "cell_type": "code",
   "execution_count": 68,
   "metadata": {
    "pycharm": {
     "name": "#%%\n"
    }
   },
   "outputs": [
    {
     "data": {
      "text/html": [
       "<div>\n",
       "<style scoped>\n",
       "    .dataframe tbody tr th:only-of-type {\n",
       "        vertical-align: middle;\n",
       "    }\n",
       "\n",
       "    .dataframe tbody tr th {\n",
       "        vertical-align: top;\n",
       "    }\n",
       "\n",
       "    .dataframe thead th {\n",
       "        text-align: right;\n",
       "    }\n",
       "</style>\n",
       "<table border=\"1\" class=\"dataframe\">\n",
       "  <thead>\n",
       "    <tr style=\"text-align: right;\">\n",
       "      <th></th>\n",
       "      <th>days_employed</th>\n",
       "    </tr>\n",
       "    <tr>\n",
       "      <th>age_category</th>\n",
       "      <th></th>\n",
       "    </tr>\n",
       "  </thead>\n",
       "  <tbody>\n",
       "    <tr>\n",
       "      <th>advanced adult</th>\n",
       "      <td>2319.817259</td>\n",
       "    </tr>\n",
       "    <tr>\n",
       "      <th>intermediate adult</th>\n",
       "      <td>1958.054821</td>\n",
       "    </tr>\n",
       "    <tr>\n",
       "      <th>retired</th>\n",
       "      <td>2876.221697</td>\n",
       "    </tr>\n",
       "    <tr>\n",
       "      <th>young</th>\n",
       "      <td>796.983636</td>\n",
       "    </tr>\n",
       "    <tr>\n",
       "      <th>young adult</th>\n",
       "      <td>1343.205241</td>\n",
       "    </tr>\n",
       "  </tbody>\n",
       "</table>\n",
       "</div>"
      ],
      "text/plain": [
       "                    days_employed\n",
       "age_category                     \n",
       "advanced adult        2319.817259\n",
       "intermediate adult    1958.054821\n",
       "retired               2876.221697\n",
       "young                  796.983636\n",
       "young adult           1343.205241"
      ]
     },
     "execution_count": 68,
     "metadata": {},
     "output_type": "execute_result"
    }
   ],
   "source": [
    "emp_gr_median = credit_scoring.pivot_table(index='age_category', values='days_employed', aggfunc='median')\n",
    "emp_gr_median\n",
    "# Examinando los valores medianos de los días de empleo en función del tipo de la categoría de edad"
   ]
  },
  {
   "cell_type": "code",
   "execution_count": 69,
   "metadata": {},
   "outputs": [
    {
     "data": {
      "text/html": [
       "<div>\n",
       "<style scoped>\n",
       "    .dataframe tbody tr th:only-of-type {\n",
       "        vertical-align: middle;\n",
       "    }\n",
       "\n",
       "    .dataframe tbody tr th {\n",
       "        vertical-align: top;\n",
       "    }\n",
       "\n",
       "    .dataframe thead th {\n",
       "        text-align: right;\n",
       "    }\n",
       "</style>\n",
       "<table border=\"1\" class=\"dataframe\">\n",
       "  <thead>\n",
       "    <tr style=\"text-align: right;\">\n",
       "      <th></th>\n",
       "      <th>days_employed</th>\n",
       "    </tr>\n",
       "    <tr>\n",
       "      <th>age_category</th>\n",
       "      <th></th>\n",
       "    </tr>\n",
       "  </thead>\n",
       "  <tbody>\n",
       "    <tr>\n",
       "      <th>advanced adult</th>\n",
       "      <td>3362.724643</td>\n",
       "    </tr>\n",
       "    <tr>\n",
       "      <th>intermediate adult</th>\n",
       "      <td>2624.713674</td>\n",
       "    </tr>\n",
       "    <tr>\n",
       "      <th>retired</th>\n",
       "      <td>4010.478357</td>\n",
       "    </tr>\n",
       "    <tr>\n",
       "      <th>young</th>\n",
       "      <td>923.122928</td>\n",
       "    </tr>\n",
       "    <tr>\n",
       "      <th>young adult</th>\n",
       "      <td>1681.227071</td>\n",
       "    </tr>\n",
       "  </tbody>\n",
       "</table>\n",
       "</div>"
      ],
      "text/plain": [
       "                    days_employed\n",
       "age_category                     \n",
       "advanced adult        3362.724643\n",
       "intermediate adult    2624.713674\n",
       "retired               4010.478357\n",
       "young                  923.122928\n",
       "young adult           1681.227071"
      ]
     },
     "execution_count": 69,
     "metadata": {},
     "output_type": "execute_result"
    }
   ],
   "source": [
    "employed_grouped_mean = credit_scoring.pivot_table(index='age_category', values='days_employed', aggfunc='mean')\n",
    "employed_grouped_mean\n",
    "# Examinando los valores medios de los días de empleo en función del tipo de la categoría de edad"
   ]
  },
  {
   "cell_type": "markdown",
   "metadata": {},
   "source": [
    "Luego de observar que los valores no son tan parecidos entre sí en algunos casos, sospechamos que se debe a la existencia de algunos valores atípicos que aún persisten en la distribución de `days_employed`. Para evitar llevar este sesgo al momento de completar los ausentes, utilizaremos nuevamente la mediana. Para esto, guardaremos los valores de las medianas y luego crearemos una función que nos ayude a rellenar los ausentes:"
   ]
  },
  {
   "cell_type": "code",
   "execution_count": 70,
   "metadata": {},
   "outputs": [],
   "source": [
    "# Escribamos una función que calcule medianas según el parámetro de edad:\n",
    "def fix_na_days(data): # Definiendo la función\n",
    "    days = data['days_employed']\n",
    "    age = data['age_category']\n",
    "    if pd.isna(days): # si el valor de \"days_employed\" es ausente, devuelve el valor respectivo\n",
    "        try:\n",
    "            return emp_gr_median.loc[age, 'days_employed']\n",
    "        except:\n",
    "            return 'NA' # si hay una categoría fuera de estas edades, devuelve \"NA\"\n",
    "    return days # si \"days_employed\" no es nulo, nos devuelve el mismo valor\n"
   ]
  },
  {
   "cell_type": "code",
   "execution_count": 71,
   "metadata": {},
   "outputs": [
    {
     "data": {
      "text/html": [
       "<div>\n",
       "<style scoped>\n",
       "    .dataframe tbody tr th:only-of-type {\n",
       "        vertical-align: middle;\n",
       "    }\n",
       "\n",
       "    .dataframe tbody tr th {\n",
       "        vertical-align: top;\n",
       "    }\n",
       "\n",
       "    .dataframe thead th {\n",
       "        text-align: right;\n",
       "    }\n",
       "</style>\n",
       "<table border=\"1\" class=\"dataframe\">\n",
       "  <thead>\n",
       "    <tr style=\"text-align: right;\">\n",
       "      <th></th>\n",
       "      <th>age_category</th>\n",
       "      <th>days_employed</th>\n",
       "    </tr>\n",
       "  </thead>\n",
       "  <tbody>\n",
       "    <tr>\n",
       "      <th>0</th>\n",
       "      <td>retired</td>\n",
       "      <td>2876.221697</td>\n",
       "    </tr>\n",
       "    <tr>\n",
       "      <th>1</th>\n",
       "      <td>young</td>\n",
       "      <td>1500.000000</td>\n",
       "    </tr>\n",
       "    <tr>\n",
       "      <th>2</th>\n",
       "      <td>intermediate adult</td>\n",
       "      <td>1958.054821</td>\n",
       "    </tr>\n",
       "    <tr>\n",
       "      <th>3</th>\n",
       "      <td>young adult</td>\n",
       "      <td>600.000000</td>\n",
       "    </tr>\n",
       "    <tr>\n",
       "      <th>4</th>\n",
       "      <td>advanced adult</td>\n",
       "      <td>2319.817259</td>\n",
       "    </tr>\n",
       "  </tbody>\n",
       "</table>\n",
       "</div>"
      ],
      "text/plain": [
       "         age_category  days_employed\n",
       "0             retired    2876.221697\n",
       "1               young    1500.000000\n",
       "2  intermediate adult    1958.054821\n",
       "3         young adult     600.000000\n",
       "4      advanced adult    2319.817259"
      ]
     },
     "execution_count": 71,
     "metadata": {},
     "output_type": "execute_result"
    }
   ],
   "source": [
    "data_val = {'age_category': ['retired', 'young', 'intermediate adult', \"young adult\", 'advanced adult'],\n",
    "              'days_employed': [None, 1500, None, 600, None]} # Creando el dataframe de prueba\n",
    "data_test1 = pd.DataFrame(data_val) # Creando el dataframe de prueba\n",
    "data_test1['days_employed'] = data_test1.apply(fix_na_days, axis=1) # Comprobando si funciona\n",
    "data_test1\n",
    "# Comprobando que la función funciona"
   ]
  },
  {
   "cell_type": "code",
   "execution_count": 72,
   "metadata": {},
   "outputs": [],
   "source": [
    "credit_scoring['days_employed'] = credit_scoring.apply(fix_na_days, axis=1) \n",
    "# Aplicando la función al days_employed"
   ]
  },
  {
   "cell_type": "code",
   "execution_count": 73,
   "metadata": {},
   "outputs": [
    {
     "name": "stdout",
     "output_type": "stream",
     "text": [
      "Empty DataFrame\n",
      "Columns: [children, days_employed, dob_years, education, education_id, family_status, family_status_id, gender, income_type, debt, total_income, purpose, age_category]\n",
      "Index: []\n"
     ]
    },
    {
     "data": {
      "text/html": [
       "<div>\n",
       "<style scoped>\n",
       "    .dataframe tbody tr th:only-of-type {\n",
       "        vertical-align: middle;\n",
       "    }\n",
       "\n",
       "    .dataframe tbody tr th {\n",
       "        vertical-align: top;\n",
       "    }\n",
       "\n",
       "    .dataframe thead th {\n",
       "        text-align: right;\n",
       "    }\n",
       "</style>\n",
       "<table border=\"1\" class=\"dataframe\">\n",
       "  <thead>\n",
       "    <tr style=\"text-align: right;\">\n",
       "      <th></th>\n",
       "      <th>children</th>\n",
       "      <th>days_employed</th>\n",
       "      <th>dob_years</th>\n",
       "      <th>education</th>\n",
       "      <th>education_id</th>\n",
       "      <th>family_status</th>\n",
       "      <th>family_status_id</th>\n",
       "      <th>gender</th>\n",
       "      <th>income_type</th>\n",
       "      <th>debt</th>\n",
       "      <th>total_income</th>\n",
       "      <th>purpose</th>\n",
       "      <th>age_category</th>\n",
       "    </tr>\n",
       "  </thead>\n",
       "  <tbody>\n",
       "    <tr>\n",
       "      <th>0</th>\n",
       "      <td>1</td>\n",
       "      <td>8437.673028</td>\n",
       "      <td>42</td>\n",
       "      <td>bachelor's degree</td>\n",
       "      <td>0</td>\n",
       "      <td>married</td>\n",
       "      <td>0</td>\n",
       "      <td>F</td>\n",
       "      <td>employee</td>\n",
       "      <td>0</td>\n",
       "      <td>40620.102</td>\n",
       "      <td>purchase of the house</td>\n",
       "      <td>intermediate adult</td>\n",
       "    </tr>\n",
       "    <tr>\n",
       "      <th>1</th>\n",
       "      <td>1</td>\n",
       "      <td>4024.803754</td>\n",
       "      <td>36</td>\n",
       "      <td>secondary education</td>\n",
       "      <td>1</td>\n",
       "      <td>married</td>\n",
       "      <td>0</td>\n",
       "      <td>F</td>\n",
       "      <td>employee</td>\n",
       "      <td>0</td>\n",
       "      <td>17932.802</td>\n",
       "      <td>car purchase</td>\n",
       "      <td>intermediate adult</td>\n",
       "    </tr>\n",
       "    <tr>\n",
       "      <th>2</th>\n",
       "      <td>0</td>\n",
       "      <td>5623.422610</td>\n",
       "      <td>33</td>\n",
       "      <td>secondary education</td>\n",
       "      <td>1</td>\n",
       "      <td>married</td>\n",
       "      <td>0</td>\n",
       "      <td>M</td>\n",
       "      <td>employee</td>\n",
       "      <td>0</td>\n",
       "      <td>23341.752</td>\n",
       "      <td>purchase of the house</td>\n",
       "      <td>young adult</td>\n",
       "    </tr>\n",
       "    <tr>\n",
       "      <th>3</th>\n",
       "      <td>3</td>\n",
       "      <td>4124.747207</td>\n",
       "      <td>32</td>\n",
       "      <td>secondary education</td>\n",
       "      <td>1</td>\n",
       "      <td>married</td>\n",
       "      <td>0</td>\n",
       "      <td>M</td>\n",
       "      <td>employee</td>\n",
       "      <td>0</td>\n",
       "      <td>42820.568</td>\n",
       "      <td>supplementary education</td>\n",
       "      <td>young adult</td>\n",
       "    </tr>\n",
       "    <tr>\n",
       "      <th>4</th>\n",
       "      <td>0</td>\n",
       "      <td>2319.817259</td>\n",
       "      <td>53</td>\n",
       "      <td>secondary education</td>\n",
       "      <td>1</td>\n",
       "      <td>civil partnership</td>\n",
       "      <td>1</td>\n",
       "      <td>F</td>\n",
       "      <td>retiree</td>\n",
       "      <td>0</td>\n",
       "      <td>25378.572</td>\n",
       "      <td>to have a wedding</td>\n",
       "      <td>advanced adult</td>\n",
       "    </tr>\n",
       "    <tr>\n",
       "      <th>5</th>\n",
       "      <td>0</td>\n",
       "      <td>926.185831</td>\n",
       "      <td>27</td>\n",
       "      <td>bachelor's degree</td>\n",
       "      <td>0</td>\n",
       "      <td>civil partnership</td>\n",
       "      <td>1</td>\n",
       "      <td>M</td>\n",
       "      <td>business</td>\n",
       "      <td>0</td>\n",
       "      <td>40922.170</td>\n",
       "      <td>purchase of the house</td>\n",
       "      <td>young adult</td>\n",
       "    </tr>\n",
       "    <tr>\n",
       "      <th>6</th>\n",
       "      <td>0</td>\n",
       "      <td>2879.202052</td>\n",
       "      <td>43</td>\n",
       "      <td>bachelor's degree</td>\n",
       "      <td>0</td>\n",
       "      <td>married</td>\n",
       "      <td>0</td>\n",
       "      <td>F</td>\n",
       "      <td>business</td>\n",
       "      <td>0</td>\n",
       "      <td>38484.156</td>\n",
       "      <td>housing transactions</td>\n",
       "      <td>intermediate adult</td>\n",
       "    </tr>\n",
       "    <tr>\n",
       "      <th>7</th>\n",
       "      <td>0</td>\n",
       "      <td>152.779569</td>\n",
       "      <td>50</td>\n",
       "      <td>secondary education</td>\n",
       "      <td>1</td>\n",
       "      <td>married</td>\n",
       "      <td>0</td>\n",
       "      <td>M</td>\n",
       "      <td>employee</td>\n",
       "      <td>0</td>\n",
       "      <td>21731.829</td>\n",
       "      <td>education</td>\n",
       "      <td>intermediate adult</td>\n",
       "    </tr>\n",
       "    <tr>\n",
       "      <th>8</th>\n",
       "      <td>2</td>\n",
       "      <td>6929.865299</td>\n",
       "      <td>35</td>\n",
       "      <td>bachelor's degree</td>\n",
       "      <td>0</td>\n",
       "      <td>civil partnership</td>\n",
       "      <td>1</td>\n",
       "      <td>F</td>\n",
       "      <td>employee</td>\n",
       "      <td>0</td>\n",
       "      <td>15337.093</td>\n",
       "      <td>having a wedding</td>\n",
       "      <td>young adult</td>\n",
       "    </tr>\n",
       "    <tr>\n",
       "      <th>9</th>\n",
       "      <td>0</td>\n",
       "      <td>2188.756445</td>\n",
       "      <td>41</td>\n",
       "      <td>secondary education</td>\n",
       "      <td>1</td>\n",
       "      <td>married</td>\n",
       "      <td>0</td>\n",
       "      <td>M</td>\n",
       "      <td>employee</td>\n",
       "      <td>0</td>\n",
       "      <td>23108.150</td>\n",
       "      <td>purchase of the house for my family</td>\n",
       "      <td>intermediate adult</td>\n",
       "    </tr>\n",
       "  </tbody>\n",
       "</table>\n",
       "</div>"
      ],
      "text/plain": [
       "   children  days_employed  dob_years            education  education_id  \\\n",
       "0         1    8437.673028         42    bachelor's degree             0   \n",
       "1         1    4024.803754         36  secondary education             1   \n",
       "2         0    5623.422610         33  secondary education             1   \n",
       "3         3    4124.747207         32  secondary education             1   \n",
       "4         0    2319.817259         53  secondary education             1   \n",
       "5         0     926.185831         27    bachelor's degree             0   \n",
       "6         0    2879.202052         43    bachelor's degree             0   \n",
       "7         0     152.779569         50  secondary education             1   \n",
       "8         2    6929.865299         35    bachelor's degree             0   \n",
       "9         0    2188.756445         41  secondary education             1   \n",
       "\n",
       "       family_status  family_status_id gender income_type  debt  total_income  \\\n",
       "0            married                 0      F    employee     0     40620.102   \n",
       "1            married                 0      F    employee     0     17932.802   \n",
       "2            married                 0      M    employee     0     23341.752   \n",
       "3            married                 0      M    employee     0     42820.568   \n",
       "4  civil partnership                 1      F     retiree     0     25378.572   \n",
       "5  civil partnership                 1      M    business     0     40922.170   \n",
       "6            married                 0      F    business     0     38484.156   \n",
       "7            married                 0      M    employee     0     21731.829   \n",
       "8  civil partnership                 1      F    employee     0     15337.093   \n",
       "9            married                 0      M    employee     0     23108.150   \n",
       "\n",
       "                               purpose        age_category  \n",
       "0                purchase of the house  intermediate adult  \n",
       "1                         car purchase  intermediate adult  \n",
       "2                purchase of the house         young adult  \n",
       "3              supplementary education         young adult  \n",
       "4                    to have a wedding      advanced adult  \n",
       "5                purchase of the house         young adult  \n",
       "6                 housing transactions  intermediate adult  \n",
       "7                            education  intermediate adult  \n",
       "8                     having a wedding         young adult  \n",
       "9  purchase of the house for my family  intermediate adult  "
      ]
     },
     "execution_count": 73,
     "metadata": {},
     "output_type": "execute_result"
    }
   ],
   "source": [
    "print(credit_scoring[credit_scoring['days_employed'].isna()]) # Comprobando si aún hay valores ausentes\n",
    "credit_scoring.head(10) # Mostrando el dataset con los datos rellenados"
   ]
  },
  {
   "cell_type": "markdown",
   "metadata": {},
   "source": [
    "Ahora observaremos los atributos del dataframe para comparar nuestra columna rellenada y realizar nuevamente una verficación:"
   ]
  },
  {
   "cell_type": "code",
   "execution_count": 74,
   "metadata": {},
   "outputs": [
    {
     "name": "stdout",
     "output_type": "stream",
     "text": [
      "<class 'pandas.core.frame.DataFrame'>\n",
      "RangeIndex: 21453 entries, 0 to 21452\n",
      "Data columns (total 13 columns):\n",
      " #   Column            Non-Null Count  Dtype  \n",
      "---  ------            --------------  -----  \n",
      " 0   children          21453 non-null  int64  \n",
      " 1   days_employed     21453 non-null  float64\n",
      " 2   dob_years         21453 non-null  int64  \n",
      " 3   education         21453 non-null  object \n",
      " 4   education_id      21453 non-null  int64  \n",
      " 5   family_status     21453 non-null  object \n",
      " 6   family_status_id  21453 non-null  int64  \n",
      " 7   gender            21453 non-null  object \n",
      " 8   income_type       21453 non-null  object \n",
      " 9   debt              21453 non-null  int64  \n",
      " 10  total_income      21453 non-null  float64\n",
      " 11  purpose           21453 non-null  object \n",
      " 12  age_category      21453 non-null  object \n",
      "dtypes: float64(2), int64(5), object(6)\n",
      "memory usage: 2.1+ MB\n"
     ]
    }
   ],
   "source": [
    "credit_scoring.info() # Analizando si ya el problema está resuelto"
   ]
  },
  {
   "cell_type": "markdown",
   "metadata": {},
   "source": [
    "Como se observa, todas nuestras columnas tienen datos completos: pudimos deshacernos de los valores ausentes. Ahora continuaremos con las columnas que aún presentan problemas o necesitan correciones."
   ]
  },
  {
   "cell_type": "markdown",
   "metadata": {},
   "source": [
    "### Clasificación de datos <a id='clasif'></a>\n",
    "\n",
    "Habíamos dejado pendiente clasificar nuestros datos en la columna `purpose`. Agrupar y clasificar esta columna será de utilidad para probar una de nuestras hipótesis. Hay que tener en mente que esta columna contiene texto y su manejo será un poco distinto al de la columna siguiente a analizar.\n",
    "\n",
    "También será necesario clasificar nuestra columna `total_income`, debido a que el análisis con la columna en bruto será muy complicado utilizando valores flotantes y muy diversos. En este caso, seguiremos un proceso similar a la clasificación de edades realizada líneas arriba.\n",
    "\n",
    "Dicho esto, empezaremos analizando nuevamente a estas columnas:"
   ]
  },
  {
   "cell_type": "code",
   "execution_count": 75,
   "metadata": {
    "scrolled": true
   },
   "outputs": [
    {
     "data": {
      "text/html": [
       "<div>\n",
       "<style scoped>\n",
       "    .dataframe tbody tr th:only-of-type {\n",
       "        vertical-align: middle;\n",
       "    }\n",
       "\n",
       "    .dataframe tbody tr th {\n",
       "        vertical-align: top;\n",
       "    }\n",
       "\n",
       "    .dataframe thead th {\n",
       "        text-align: right;\n",
       "    }\n",
       "</style>\n",
       "<table border=\"1\" class=\"dataframe\">\n",
       "  <thead>\n",
       "    <tr style=\"text-align: right;\">\n",
       "      <th></th>\n",
       "      <th>purpose</th>\n",
       "      <th>total_income</th>\n",
       "    </tr>\n",
       "  </thead>\n",
       "  <tbody>\n",
       "    <tr>\n",
       "      <th>0</th>\n",
       "      <td>purchase of the house</td>\n",
       "      <td>40620.102</td>\n",
       "    </tr>\n",
       "    <tr>\n",
       "      <th>1</th>\n",
       "      <td>car purchase</td>\n",
       "      <td>17932.802</td>\n",
       "    </tr>\n",
       "    <tr>\n",
       "      <th>2</th>\n",
       "      <td>purchase of the house</td>\n",
       "      <td>23341.752</td>\n",
       "    </tr>\n",
       "    <tr>\n",
       "      <th>3</th>\n",
       "      <td>supplementary education</td>\n",
       "      <td>42820.568</td>\n",
       "    </tr>\n",
       "    <tr>\n",
       "      <th>4</th>\n",
       "      <td>to have a wedding</td>\n",
       "      <td>25378.572</td>\n",
       "    </tr>\n",
       "    <tr>\n",
       "      <th>5</th>\n",
       "      <td>purchase of the house</td>\n",
       "      <td>40922.170</td>\n",
       "    </tr>\n",
       "    <tr>\n",
       "      <th>6</th>\n",
       "      <td>housing transactions</td>\n",
       "      <td>38484.156</td>\n",
       "    </tr>\n",
       "    <tr>\n",
       "      <th>7</th>\n",
       "      <td>education</td>\n",
       "      <td>21731.829</td>\n",
       "    </tr>\n",
       "    <tr>\n",
       "      <th>8</th>\n",
       "      <td>having a wedding</td>\n",
       "      <td>15337.093</td>\n",
       "    </tr>\n",
       "    <tr>\n",
       "      <th>9</th>\n",
       "      <td>purchase of the house for my family</td>\n",
       "      <td>23108.150</td>\n",
       "    </tr>\n",
       "  </tbody>\n",
       "</table>\n",
       "</div>"
      ],
      "text/plain": [
       "                               purpose  total_income\n",
       "0                purchase of the house     40620.102\n",
       "1                         car purchase     17932.802\n",
       "2                purchase of the house     23341.752\n",
       "3              supplementary education     42820.568\n",
       "4                    to have a wedding     25378.572\n",
       "5                purchase of the house     40922.170\n",
       "6                 housing transactions     38484.156\n",
       "7                            education     21731.829\n",
       "8                     having a wedding     15337.093\n",
       "9  purchase of the house for my family     23108.150"
      ]
     },
     "execution_count": 75,
     "metadata": {},
     "output_type": "execute_result"
    }
   ],
   "source": [
    "credit_scoring[['purpose', 'total_income']].head(10) # mostrando las columnas "
   ]
  },
  {
   "cell_type": "markdown",
   "metadata": {},
   "source": [
    "Empezaremos con `purpose`, observando sus valores únicos:"
   ]
  },
  {
   "cell_type": "code",
   "execution_count": 76,
   "metadata": {},
   "outputs": [
    {
     "data": {
      "text/plain": [
       "array(['purchase of the house', 'car purchase', 'supplementary education',\n",
       "       'to have a wedding', 'housing transactions', 'education',\n",
       "       'having a wedding', 'purchase of the house for my family',\n",
       "       'buy real estate', 'buy commercial real estate',\n",
       "       'buy residential real estate', 'construction of own property',\n",
       "       'property', 'building a property', 'buying a second-hand car',\n",
       "       'buying my own car', 'transactions with commercial real estate',\n",
       "       'building a real estate', 'housing',\n",
       "       'transactions with my real estate', 'cars', 'to become educated',\n",
       "       'second-hand car purchase', 'getting an education', 'car',\n",
       "       'wedding ceremony', 'to get a supplementary education',\n",
       "       'purchase of my own house', 'real estate transactions',\n",
       "       'getting higher education', 'to own a car', 'purchase of a car',\n",
       "       'profile education', 'university education',\n",
       "       'buying property for renting out', 'to buy a car',\n",
       "       'housing renovation', 'going to university'], dtype=object)"
      ]
     },
     "execution_count": 76,
     "metadata": {},
     "output_type": "execute_result"
    }
   ],
   "source": [
    "credit_scoring['purpose'].unique()\n",
    "# Comprobar los valores únicos"
   ]
  },
  {
   "cell_type": "markdown",
   "metadata": {},
   "source": [
    "Podemos notar temáticas similares con las cuales podemos agrupar y clasificar estos valores, debido a que son redundantes y entorpecería nuestro análisis. Las temáticas o grupos principales identificados son:\n",
    "* house purchase\n",
    "* car purchase\n",
    "* education\n",
    "* wedding\n",
    "* real estate\n",
    "* property\n",
    "\n",
    "En base a estas temáticas, crearemos una función que detecte las cadenas respectivas para clasificar los datos, de la siguiente manera:"
   ]
  },
  {
   "cell_type": "code",
   "execution_count": 77,
   "metadata": {},
   "outputs": [],
   "source": [
    "def purpose_group(row): # la función busca una subcadena referida al tema y lo agrupa en la categoría respectiva\n",
    "    if 'hous' in row:\n",
    "        return 'house purchase'\n",
    "    if 'car' in row:\n",
    "        return 'car purchase'\n",
    "    if 'educat' in row or 'university' in row: # la subcadena 'university' también se categoriza en 'education'\n",
    "        return 'education'\n",
    "    if 'wedding' in row:\n",
    "        return 'wedding'\n",
    "    if 'estate' in row:\n",
    "        return 'real estate'\n",
    "    if 'property' in row:\n",
    "        return 'property'\n",
    "    return 'NA' # si no hay subcadenas reconocibles, devuelve 'NA'"
   ]
  },
  {
   "cell_type": "code",
   "execution_count": 78,
   "metadata": {},
   "outputs": [
    {
     "name": "stdout",
     "output_type": "stream",
     "text": [
      "21453\n"
     ]
    },
    {
     "data": {
      "text/plain": [
       "array(['house purchase', 'car purchase', 'education', 'wedding',\n",
       "       'real estate', 'property'], dtype=object)"
      ]
     },
     "execution_count": 78,
     "metadata": {},
     "output_type": "execute_result"
    }
   ],
   "source": [
    "credit_scoring['purpose_category'] = credit_scoring['purpose'].apply(purpose_group) \n",
    "# creando la nueva columna con las categorías\n",
    "print(len(credit_scoring['purpose_category']))\n",
    "# obteniendo el tamaño para verificar que no falten valores\n",
    "credit_scoring['purpose_category'].unique()\n",
    "# imprimiendo los valores únicos para verficar"
   ]
  },
  {
   "cell_type": "markdown",
   "metadata": {},
   "source": [
    "Tal parece que nuestra función logró el objetivo. Para cerciorarnos una vez más veremos un ejemplo de las columnas en cuestión:"
   ]
  },
  {
   "cell_type": "code",
   "execution_count": 79,
   "metadata": {},
   "outputs": [
    {
     "data": {
      "text/html": [
       "<div>\n",
       "<style scoped>\n",
       "    .dataframe tbody tr th:only-of-type {\n",
       "        vertical-align: middle;\n",
       "    }\n",
       "\n",
       "    .dataframe tbody tr th {\n",
       "        vertical-align: top;\n",
       "    }\n",
       "\n",
       "    .dataframe thead th {\n",
       "        text-align: right;\n",
       "    }\n",
       "</style>\n",
       "<table border=\"1\" class=\"dataframe\">\n",
       "  <thead>\n",
       "    <tr style=\"text-align: right;\">\n",
       "      <th></th>\n",
       "      <th>purpose</th>\n",
       "      <th>purpose_category</th>\n",
       "    </tr>\n",
       "  </thead>\n",
       "  <tbody>\n",
       "    <tr>\n",
       "      <th>0</th>\n",
       "      <td>purchase of the house</td>\n",
       "      <td>house purchase</td>\n",
       "    </tr>\n",
       "    <tr>\n",
       "      <th>1</th>\n",
       "      <td>car purchase</td>\n",
       "      <td>car purchase</td>\n",
       "    </tr>\n",
       "    <tr>\n",
       "      <th>2</th>\n",
       "      <td>purchase of the house</td>\n",
       "      <td>house purchase</td>\n",
       "    </tr>\n",
       "    <tr>\n",
       "      <th>3</th>\n",
       "      <td>supplementary education</td>\n",
       "      <td>education</td>\n",
       "    </tr>\n",
       "    <tr>\n",
       "      <th>4</th>\n",
       "      <td>to have a wedding</td>\n",
       "      <td>wedding</td>\n",
       "    </tr>\n",
       "    <tr>\n",
       "      <th>5</th>\n",
       "      <td>purchase of the house</td>\n",
       "      <td>house purchase</td>\n",
       "    </tr>\n",
       "    <tr>\n",
       "      <th>6</th>\n",
       "      <td>housing transactions</td>\n",
       "      <td>house purchase</td>\n",
       "    </tr>\n",
       "    <tr>\n",
       "      <th>7</th>\n",
       "      <td>education</td>\n",
       "      <td>education</td>\n",
       "    </tr>\n",
       "    <tr>\n",
       "      <th>8</th>\n",
       "      <td>having a wedding</td>\n",
       "      <td>wedding</td>\n",
       "    </tr>\n",
       "    <tr>\n",
       "      <th>9</th>\n",
       "      <td>purchase of the house for my family</td>\n",
       "      <td>house purchase</td>\n",
       "    </tr>\n",
       "  </tbody>\n",
       "</table>\n",
       "</div>"
      ],
      "text/plain": [
       "                               purpose purpose_category\n",
       "0                purchase of the house   house purchase\n",
       "1                         car purchase     car purchase\n",
       "2                purchase of the house   house purchase\n",
       "3              supplementary education        education\n",
       "4                    to have a wedding          wedding\n",
       "5                purchase of the house   house purchase\n",
       "6                 housing transactions   house purchase\n",
       "7                            education        education\n",
       "8                     having a wedding          wedding\n",
       "9  purchase of the house for my family   house purchase"
      ]
     },
     "execution_count": 79,
     "metadata": {},
     "output_type": "execute_result"
    }
   ],
   "source": [
    "credit_scoring[['purpose','purpose_category']].head(10) # una última verificación"
   ]
  },
  {
   "cell_type": "markdown",
   "metadata": {},
   "source": [
    "Una vez clasificado y solucionada esta columna, también será necesario analizar la columna `total_income`, por las razones expuestas al empezar este capítulo, que es básicamente la dificultad para analizar los diversos valores que tiene esta columna por su propia naturaleza que se muestra ahora: "
   ]
  },
  {
   "cell_type": "code",
   "execution_count": 80,
   "metadata": {},
   "outputs": [
    {
     "data": {
      "text/plain": [
       "0        40620.102\n",
       "1        17932.802\n",
       "2        23341.752\n",
       "3        42820.568\n",
       "4        25378.572\n",
       "           ...    \n",
       "21448    35966.698\n",
       "21449    24959.969\n",
       "21450    14347.610\n",
       "21451    39054.888\n",
       "21452    13127.587\n",
       "Name: total_income, Length: 21453, dtype: float64"
      ]
     },
     "execution_count": 80,
     "metadata": {},
     "output_type": "execute_result"
    }
   ],
   "source": [
    "credit_scoring['total_income']\n",
    "# Revisando todos los datos numéricos en la columna"
   ]
  },
  {
   "cell_type": "code",
   "execution_count": 81,
   "metadata": {},
   "outputs": [
    {
     "data": {
      "text/plain": [
       "count     21453.000000\n",
       "mean      26465.838089\n",
       "std       15701.456362\n",
       "min        3306.762000\n",
       "25%       17219.352000\n",
       "50%       22582.311000\n",
       "75%       31327.922000\n",
       "max      362496.645000\n",
       "Name: total_income, dtype: float64"
      ]
     },
     "execution_count": 81,
     "metadata": {},
     "output_type": "execute_result"
    }
   ],
   "source": [
    "credit_scoring['total_income'].describe()\n",
    "# Obteniendo estadísticas resumidas para la columna"
   ]
  },
  {
   "cell_type": "markdown",
   "metadata": {},
   "source": [
    "Estos estadísticos nos ayudarán a agrupar a los clientes en base a sus ingresos mensuales (`total_income`). Para tener una distribución de valores más o menos homogénea, usaremos el percentil 25 y 75 como límites, y luego más de 50 mil para valores atípicos que se suelen presentar en las distribuciones de ingresos.\n",
    "\n",
    "Es decir, de la siguiente forma:\n",
    "* low income: `total_income`< 17219.352\n",
    "* middle income: 17219.352 <= `total_income` < 31327.922\n",
    "* high income: 31327.922 <= `total_income` < 50000\n",
    "* very high income: `total_income` >= 50000\n"
   ]
  },
  {
   "cell_type": "code",
   "execution_count": 82,
   "metadata": {},
   "outputs": [],
   "source": [
    "def income_grouped(row): # definimos la función\n",
    "    if row < 0:  # si se introduce algún valor negativo, se devuelve 'NA'\n",
    "        return 'NA'\n",
    "    elif row < 17219.352:\n",
    "        return 'low income'\n",
    "    elif row < 31327.922:\n",
    "        return 'middle income'\n",
    "    elif row < 50000:\n",
    "        return 'high income'\n",
    "    return 'very high income' # para los valores fuera de este rango, devuelve 'very high income'\n",
    "\n",
    "# Crear una función para clasificar en diferentes grupos numéricos basándose en rangos\n",
    "\n"
   ]
  },
  {
   "cell_type": "code",
   "execution_count": 83,
   "metadata": {},
   "outputs": [
    {
     "data": {
      "text/html": [
       "<div>\n",
       "<style scoped>\n",
       "    .dataframe tbody tr th:only-of-type {\n",
       "        vertical-align: middle;\n",
       "    }\n",
       "\n",
       "    .dataframe tbody tr th {\n",
       "        vertical-align: top;\n",
       "    }\n",
       "\n",
       "    .dataframe thead th {\n",
       "        text-align: right;\n",
       "    }\n",
       "</style>\n",
       "<table border=\"1\" class=\"dataframe\">\n",
       "  <thead>\n",
       "    <tr style=\"text-align: right;\">\n",
       "      <th></th>\n",
       "      <th>total_income</th>\n",
       "      <th>income_level</th>\n",
       "    </tr>\n",
       "  </thead>\n",
       "  <tbody>\n",
       "    <tr>\n",
       "      <th>0</th>\n",
       "      <td>40620.102</td>\n",
       "      <td>high income</td>\n",
       "    </tr>\n",
       "    <tr>\n",
       "      <th>1</th>\n",
       "      <td>17932.802</td>\n",
       "      <td>middle income</td>\n",
       "    </tr>\n",
       "    <tr>\n",
       "      <th>2</th>\n",
       "      <td>23341.752</td>\n",
       "      <td>middle income</td>\n",
       "    </tr>\n",
       "    <tr>\n",
       "      <th>3</th>\n",
       "      <td>42820.568</td>\n",
       "      <td>high income</td>\n",
       "    </tr>\n",
       "    <tr>\n",
       "      <th>4</th>\n",
       "      <td>25378.572</td>\n",
       "      <td>middle income</td>\n",
       "    </tr>\n",
       "  </tbody>\n",
       "</table>\n",
       "</div>"
      ],
      "text/plain": [
       "   total_income   income_level\n",
       "0     40620.102    high income\n",
       "1     17932.802  middle income\n",
       "2     23341.752  middle income\n",
       "3     42820.568    high income\n",
       "4     25378.572  middle income"
      ]
     },
     "execution_count": 83,
     "metadata": {},
     "output_type": "execute_result"
    }
   ],
   "source": [
    "credit_scoring['income_level'] = credit_scoring['total_income'].apply(income_grouped)\n",
    "credit_scoring[['total_income','income_level']].head()\n",
    "# Crear una columna con categorías\n"
   ]
  },
  {
   "cell_type": "code",
   "execution_count": 84,
   "metadata": {},
   "outputs": [
    {
     "data": {
      "text/html": [
       "<div>\n",
       "<style scoped>\n",
       "    .dataframe tbody tr th:only-of-type {\n",
       "        vertical-align: middle;\n",
       "    }\n",
       "\n",
       "    .dataframe tbody tr th {\n",
       "        vertical-align: top;\n",
       "    }\n",
       "\n",
       "    .dataframe thead th {\n",
       "        text-align: right;\n",
       "    }\n",
       "</style>\n",
       "<table border=\"1\" class=\"dataframe\">\n",
       "  <thead>\n",
       "    <tr style=\"text-align: right;\">\n",
       "      <th></th>\n",
       "      <th>total_income</th>\n",
       "    </tr>\n",
       "    <tr>\n",
       "      <th>income_level</th>\n",
       "      <th></th>\n",
       "    </tr>\n",
       "  </thead>\n",
       "  <tbody>\n",
       "    <tr>\n",
       "      <th>high income</th>\n",
       "      <td>4044</td>\n",
       "    </tr>\n",
       "    <tr>\n",
       "      <th>low income</th>\n",
       "      <td>5363</td>\n",
       "    </tr>\n",
       "    <tr>\n",
       "      <th>middle income</th>\n",
       "      <td>10726</td>\n",
       "    </tr>\n",
       "    <tr>\n",
       "      <th>very high income</th>\n",
       "      <td>1320</td>\n",
       "    </tr>\n",
       "  </tbody>\n",
       "</table>\n",
       "</div>"
      ],
      "text/plain": [
       "                  total_income\n",
       "income_level                  \n",
       "high income               4044\n",
       "low income                5363\n",
       "middle income            10726\n",
       "very high income          1320"
      ]
     },
     "execution_count": 84,
     "metadata": {},
     "output_type": "execute_result"
    }
   ],
   "source": [
    "credit_scoring.pivot_table(index='income_level', values='total_income', aggfunc='count')\n",
    "# contando los valores de cada categoría para ver la distribución"
   ]
  },
  {
   "cell_type": "markdown",
   "metadata": {},
   "source": [
    "Como se observa, la distribución de valores tiende a parecerse a una distribución de ingresos promedio de un país, ciudad o muestras análogas: una cantidad para ingresos bajos (grupo de ingresos bajos), la mayor parte agrupada de personas con ingresos medios (clase media), un cantidad menor para los altos ingresos y otra mucho menor para los ingresos muy altos. "
   ]
  },
  {
   "cell_type": "markdown",
   "metadata": {},
   "source": [
    "### Conclusiones <a id='conclusiones_preproc'></a>\n",
    "\n",
    "En esta etapa del preprocesamiento, nos encargamos de todos los problemas relevantes para poder analizar nuestras variables de forma que nuestras conclusiones sea las mejores posibles.\n",
    "\n",
    "* Corregimos los errores ortográficos de algunas columnas.\n",
    "* Nos encargamos de corregir algunos valores atípicos y extraños de otras columnas.\n",
    "* También nos encargamos de los datos duplicados.\n",
    "* Creamos algunas funciones y agrupaciones para clasificar mejor y completar los valores ausentes de la mejor forma posible.\n",
    "\n",
    "Ahora que tenemos nuestro dataset preprocesado, pasamos a la última etapa del proyecto: probar las hipótesis."
   ]
  },
  {
   "cell_type": "markdown",
   "metadata": {},
   "source": [
    "## Comprobación de las hipótesis <a id='hipotesis'></a>\n"
   ]
  },
  {
   "cell_type": "markdown",
   "metadata": {},
   "source": [
    "**¿Existe una correlación entre tener hijos y pagar a tiempo?**"
   ]
  },
  {
   "cell_type": "code",
   "execution_count": 85,
   "metadata": {},
   "outputs": [
    {
     "name": "stdout",
     "output_type": "stream",
     "text": [
      "debt            0       1    All\n",
      "children                        \n",
      "0         13027.0  1063.0  14090\n",
      "1          4410.0   445.0   4855\n",
      "2          1926.0   202.0   2128\n",
      "3           303.0    27.0    330\n",
      "4            37.0     4.0     41\n",
      "5             9.0     NaN      9\n",
      "All       19712.0  1741.0  21453\n"
     ]
    },
    {
     "data": {
      "text/plain": [
       "children\n",
       "0      0.075444\n",
       "1      0.091658\n",
       "2      0.094925\n",
       "3      0.081818\n",
       "4      0.097561\n",
       "5           NaN\n",
       "All    0.081154\n",
       "dtype: float64"
      ]
     },
     "execution_count": 85,
     "metadata": {},
     "output_type": "execute_result"
    }
   ],
   "source": [
    "test_hyp_1 = credit_scoring.pivot_table(index='children', columns='debt', values='dob_years', aggfunc='count', margins=True)\n",
    "# generando el conteo de valores sobre hijos y tasa de incumplimiento utilizando una tabla dinámica y guardándola\n",
    "print(test_hyp_1)\n",
    "# mostrando la tabla pivote\n",
    "table_hyp_1 = test_hyp_1[1]/test_hyp_1['All']\n",
    "# generando los porcentajes\n",
    "table_hyp_1\n",
    "# comprobando la serie final con las tasas de incumplimiento en función del número de hijos"
   ]
  },
  {
   "cell_type": "markdown",
   "metadata": {},
   "source": [
    "**Conclusión**\n",
    "\n",
    "Porcentualmente, tomaremos como referencia el porcentaje global o promedio, que es de 8.11 %.\n",
    "* De manera general, la hipotesis podría ser correcta, ya que los porcentajes de personas con hijos es mayor en todos los casos respecto (todos mayores a 8 %) a los que no tienen ninguno (7.54 %). Esta tendencia solo se ve contrastada por las personas con cinco hijos, de los cuales parece que, en esta muestra, ninguno de ellos tuvo un impago.\n",
    "* Si analizamos la tendencia, es decir qué ocurre a medida que una persona tiene más hijos o si es más o menos probable que a más hijos ocurra algo con los impagos, esto no se podría tener claro realmente. Si bien es cierto que existe una brecha entre los que tienen hijos y los que no, la lógica nos haría suponer que a más hijos es más probable un impago, pero en esta muestra, las personas con tres y cinco hijos quiebran esta lógica.\n",
    "\n",
    "Para cada análisis, debemos recordar que se trata de una muestra o datos proporcionados por la institución, así que nuestras conclusiones deben estar enmarcadas en ese contexto: solo funcionan para esta muestra. No se puede generalizar sin pruebas estadísticas más rigurosas."
   ]
  },
  {
   "cell_type": "markdown",
   "metadata": {},
   "source": [
    "**¿Existe una correlación entre la situación familiar y el pago a tiempo?**"
   ]
  },
  {
   "cell_type": "code",
   "execution_count": 87,
   "metadata": {},
   "outputs": [
    {
     "name": "stdout",
     "output_type": "stream",
     "text": [
      "debt                   0     1    All\n",
      "family_status                        \n",
      "civil partnership   3762   388   4150\n",
      "divorced            1110    85   1195\n",
      "married            11408   931  12339\n",
      "unmarried           2536   274   2810\n",
      "widow / widower      896    63    959\n",
      "All                19712  1741  21453\n"
     ]
    },
    {
     "data": {
      "text/plain": [
       "family_status\n",
       "civil partnership    0.093494\n",
       "divorced             0.071130\n",
       "married              0.075452\n",
       "unmarried            0.097509\n",
       "widow / widower      0.065693\n",
       "All                  0.081154\n",
       "dtype: float64"
      ]
     },
     "execution_count": 87,
     "metadata": {},
     "output_type": "execute_result"
    }
   ],
   "source": [
    "test_hyp_2 = credit_scoring.pivot_table(index='family_status', columns='debt', values='dob_years', aggfunc='count', margins=True)\n",
    "# generando el conteo de valores sobre el estado familiar y tasa de incumplimiento utilizando una tabla dinámica y guardándola\n",
    "print(test_hyp_2)\n",
    "# mostrando la tabla pivote\n",
    "table_hyp_2 = test_hyp_2[1] / test_hyp_2['All']\n",
    "# generando los porcentajes\n",
    "table_hyp_2\n",
    "# comprobando la serie final con las tasas de incumplimiento en función del estado familiar"
   ]
  },
  {
   "cell_type": "markdown",
   "metadata": {},
   "source": [
    "**Conclusión**\n",
    "\n",
    "Nuevamente tomaremos como referencia al promedio global de 8.11 %.\n",
    "* La categoría con menor tasa de impago es la de \"viudo/viuda\" con un 6.56 % de proporción de personas que alguna vez incumplieron un préstamo. \n",
    "* La categoría con mayor tasa de impago es la de \"soltero\" (unmarried) con un 9.75 % de tasa. Es decir, es ligeramente más probable que una persona soltera no tenga sus pagos a tiempo.\n",
    "* Existe una controversia entre \"unión civil\" (9.35 %) y \"casado(a) (7.54 %)\". En teoría, deberían tener comportamientos parecidos. Habría que analizar a qué clase de uniones se les considera \"civil partnership\" en el país respectivo y por qué esta tiende a tener más clientes riesgosos respecto a su análogo de \"married\".\n",
    "* Finalmente, podríamos decir que existen diferencias de la tasa de impago para cada categoría respecto a la media y entre categorías, confirmando nuestra hipótesis de que el estado civil o familiar podría influir en la tendencia al pago puntual. \n",
    "\n",
    "Como siempre, debemos recordar que estas conclusiones se basan y funcionan solo en esta muestra."
   ]
  },
  {
   "cell_type": "markdown",
   "metadata": {},
   "source": [
    "**¿Existe una correlación entre el nivel de ingresos y el pago a tiempo?**"
   ]
  },
  {
   "cell_type": "code",
   "execution_count": 88,
   "metadata": {},
   "outputs": [
    {
     "name": "stdout",
     "output_type": "stream",
     "text": [
      "debt                  0     1    All\n",
      "income_level                        \n",
      "high income        3753   291   4044\n",
      "low income         4936   427   5363\n",
      "middle income      9795   931  10726\n",
      "very high income   1228    92   1320\n",
      "All               19712  1741  21453\n"
     ]
    },
    {
     "data": {
      "text/plain": [
       "income_level\n",
       "high income         0.071958\n",
       "low income          0.079620\n",
       "middle income       0.086798\n",
       "very high income    0.069697\n",
       "All                 0.081154\n",
       "dtype: float64"
      ]
     },
     "execution_count": 88,
     "metadata": {},
     "output_type": "execute_result"
    }
   ],
   "source": [
    "test_hyp_3 = credit_scoring.pivot_table(index='income_level', columns='debt', values='dob_years', aggfunc='count', margins=True)\n",
    "# generando el conteo de valores sobre el la categoría de ingresos y tasa de incumplimiento utilizando una tabla dinámica y guardándola\n",
    "print(test_hyp_3)\n",
    "# mostrando la tabla pivote\n",
    "table_hyp_3 = test_hyp_3[1] / test_hyp_3['All']\n",
    "# generando los porcentajes\n",
    "table_hyp_3\n",
    "# comprobando la serie final con las tasas de incumplimiento en función del nivel de ingresos"
   ]
  },
  {
   "cell_type": "markdown",
   "metadata": {},
   "source": [
    "**Conclusión**\n",
    "\n",
    "Recordemos nuestra referencia al promedio global de 8.11 %.\n",
    "* La categoría con menor tasa de incumplimiento es la de \"very high income\" con 6.97 %. Personas con estos niveles de ingresos tienen ligeramente menos probabilidades de tener un impago.\n",
    "* La categoría con mayor tasa de incumplimiento es la de \"middle income\" con un 8.68 %, ligeramente superior a la media. Es posible que se trate de un artefacto estadístico debido a la metodología utilizada para clasificar y agrupar a las personas, que podría intoducir ciertos sesgos o insignificancias estadísticas. Pero siguiendo la información actual, es ligeramente más probable que una persona de ingresos medios tenga problemas de incumplimiento.\n",
    "* Los demás valores se mantienen debajo o cerca a la media, así que estas categorías en general no afectan de manera significativa a la tasa de incumplimiento.\n",
    "* Finalmente, no es clara una tendencia a que el nivel de ingresos, ya que las diferencias porcentuales entre categorías no son grandes, no se está seguro de las implicancias de la metodología de agrupación utilizada y tampoco siguen la lógica que nos diría que los de menores ingresos son los más propensos a impagos.\n",
    "\n",
    "Estas conclusiones son para esta muestra. Es posible que en otras muestras se siga el patrón denominado \"lógico\"."
   ]
  },
  {
   "cell_type": "markdown",
   "metadata": {},
   "source": [
    "**¿Cómo afecta el propósito del crédito a la tasa de incumplimiento?**"
   ]
  },
  {
   "cell_type": "code",
   "execution_count": 89,
   "metadata": {},
   "outputs": [
    {
     "name": "stdout",
     "output_type": "stream",
     "text": [
      "debt                  0     1    All\n",
      "purpose_category                    \n",
      "car purchase       3903   403   4306\n",
      "education          3643   370   4013\n",
      "house purchase     3553   256   3809\n",
      "property           2348   190   2538\n",
      "real estate        4127   336   4463\n",
      "wedding            2138   186   2324\n",
      "All               19712  1741  21453\n"
     ]
    },
    {
     "data": {
      "text/plain": [
       "purpose_category\n",
       "car purchase      0.093590\n",
       "education         0.092200\n",
       "house purchase    0.067209\n",
       "property          0.074862\n",
       "real estate       0.075286\n",
       "wedding           0.080034\n",
       "All               0.081154\n",
       "dtype: float64"
      ]
     },
     "execution_count": 89,
     "metadata": {},
     "output_type": "execute_result"
    }
   ],
   "source": [
    "test_hyp_4 = credit_scoring.pivot_table(index='purpose_category', columns='debt', values='dob_years', aggfunc='count', margins=True)\n",
    "# generando el conteo de valores sobre la categoría de propósitos y tasa de incumplimiento utilizando una tabla dinámica y guardándola\n",
    "print(test_hyp_4)\n",
    "# mostrando la tabla pivote\n",
    "table_hyp_4 = test_hyp_4[1] / test_hyp_4['All']\n",
    "# generando los porcentajes\n",
    "table_hyp_4\n",
    "# comprobando la serie final con las tasas de incumplimiento en función del propósito del préstamo"
   ]
  },
  {
   "cell_type": "markdown",
   "metadata": {},
   "source": [
    "**Conclusión**\n",
    "\n",
    "Tomaremos como referencia el porcentaje promedio que es de 8.11 %\n",
    "* De manera general, notamos que sí existen diferencias relativamente mayores entre categorías y respecto al promedio, exceptuando \"wedding\", con 8 %.\n",
    "* La categoría con mayor tasa de incumplimiento es la de \"car purchase\". Esto indicaría que las personas con ese objetivo de compra tienen ligeramente más probabilidades de tener un impago con un 9.36 %.\n",
    "* La categoría menos riesgosa en ese sentido sería la de \"home purchase\", con un 6.72 %. Esto podría tener sentido debido a que se trata de una inversión más cuantiosa y se tienen más precauciones al dar un préstamo con este objetivo.\n",
    "* Finalmente, afirmamos que los objetivos del préstamo afectan a la tasa de incumplimiento en esta muestra. Las posibles razones son explicadas de manera superficial en líneas previas."
   ]
  },
  {
   "cell_type": "markdown",
   "metadata": {},
   "source": [
    "## Conclusión general <a id='conclusion'></a>\n",
    "\n",
    "Empezaremos con una visión general del preprocesamiento de datos:\n",
    "* Analizamos el datset y observamos numerosos problemas, los cuales nos planteamos solucionar.\n",
    "* Luego, transformamos nuestras columnas defectuosas, nos encargamos de los valores extraños y los duplicados.\n",
    "* A continuación, nos encargamos de los valores ausentes, analizando y generando funciones ciertamente escalables para ayudarnos a solucionarlo.\n",
    "* También agrupamos nuestras columnas para mejorar la calidad de nuestro análisis, teniendo en cuenta algunos criterios teóricos y del autor.\n",
    "\n",
    "Una vez solucionado esto, pasamos a probar nuestras hipótesis:\n",
    "* Pudimos demostrar la primera hipótesis de manera general, ya que existe una brecha entre los que tienen hijos y los que no. Pero no es claro que exista una tendencia acerca del número de hijos cuando es mayor o igual a 1.\n",
    "* Pudimos demostrar también que existen diferencias ligeras entre la situación familiar y las tasas de impago, confirmando nuestra primera hipótesis. Aunque tenemos ciertos detalles concretos que requerirían un mayor análisis para su total confirmación.\n",
    "* Para en caso del nivel de ingresos, no se pudo demostrar la hipótesis debido a que las diferencias son más ajustadas, no se tiene claro el alcance de la metodología de agrupación utilizada y tampoco siguen el patrón lógico esperado a totalidad.\n",
    "* En la hipótesis final, sí se notaron diferencias relativamente mayores entre los diversos propósitos hacia la tasa de impago. Esto nos ayuda a confirmar que esta hipótesis puede ser demostrada. \n",
    "\n",
    "Si bien es cierto que las diferencias para cada hipótesis son pequeñas y pueden estar sujetas a subjetividad, se trató de realizarlas justificando la decisión y explicándola. También tengamos en cuenta que mucho de este análisis depende bastante de conocimientos e información de los clientes y la empresa que no se tiene actualmente. Para un entendimiento más acertado de los motivos de ciertas diferencias o similitudes entre categorías se necesitaría analizar las políticas de otorgamiento de créditos y comportamiento de nuestros clientes, así como discusiones del tema con el área respectiva de otorgamiento de créditos. Y nuevamente recordemos que este análisis no fue ciertamente riguroso de manera estadística, ya que no se puede realizar inferencia ni proyecciones estadísticas. Nuestras conclusiones no son generalizables y podrían ser diferentes al comportamiento teórico o empírico determinado en muestras más grandes y con mejores herramientas de análisis.\n"
   ]
  }
 ],
 "metadata": {
  "ExecuteTimeLog": [
   {
    "duration": 2741,
    "start_time": "2021-10-21T01:08:49.480Z"
   },
   {
    "duration": 52,
    "start_time": "2021-10-21T01:08:53.315Z"
   },
   {
    "duration": 49,
    "start_time": "2021-10-21T01:08:57.432Z"
   },
   {
    "duration": 70,
    "start_time": "2021-10-21T01:09:07.706Z"
   }
  ],
  "kernelspec": {
   "display_name": "Python 3 (ipykernel)",
   "language": "python",
   "name": "python3"
  },
  "language_info": {
   "codemirror_mode": {
    "name": "ipython",
    "version": 3
   },
   "file_extension": ".py",
   "mimetype": "text/x-python",
   "name": "python",
   "nbconvert_exporter": "python",
   "pygments_lexer": "ipython3",
   "version": "3.9.7"
  },
  "toc": {
   "base_numbering": 1,
   "nav_menu": {},
   "number_sections": true,
   "sideBar": true,
   "skip_h1_title": true,
   "title_cell": "Table of Contents",
   "title_sidebar": "Contents",
   "toc_cell": false,
   "toc_position": {},
   "toc_section_display": true,
   "toc_window_display": false
  }
 },
 "nbformat": 4,
 "nbformat_minor": 2
}
