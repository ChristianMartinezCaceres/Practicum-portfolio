{
 "cells": [
  {
   "attachments": {},
   "cell_type": "markdown",
   "metadata": {},
   "source": [
    "# Análisis de planes de telefonía: ¿cuál es el más rentable?"
   ]
  },
  {
   "attachments": {},
   "cell_type": "markdown",
   "metadata": {},
   "source": [
    "# Contenido\n",
    "* [Introducción](#intro)\n",
    "* [Objetivos](#objetivos)\n",
    "* [Etapas](#etapas)\n",
    "* [Inicialización: descripción de los datos](#a)\n",
    "    * [Cargar los datos](#a1)\n",
    "    * [Exploración inicial de los datos](#a2)\n",
    "    * [Conclusiones del apartado](#a3)\n",
    "* [Preprocesamiento de datos](#b)\n",
    "    * [Corregir y enriquecer datos de users](#b1)\n",
    "    * [Corregir y enriquecer datos de calls](#b2)\n",
    "    * [Corregir y enriquecer datos de messages](#b3)\n",
    "    * [Corregir y enriquecer datos de internet](#b4)\n",
    "    * [Corregir y enriquecer datos de plans](#b5)\n",
    "    * [Agregar datos por usuario](#b6)\n",
    "* [Análisis exploratorio de datos y estudio del comportamiento del usuario](#c)\n",
    "    * [Análisis exploratorio y descriptivo para el plan surf](#c1)\n",
    "        * [Llamadas](#c11)\n",
    "        * [Mensajes](#c12)\n",
    "        * [Internet](#c13)\n",
    "        * [Ingresos](#c14)\n",
    "    * [Análisis exploratorio y descriptivo para el plan ultimate](#c2)\n",
    "        * [Llamadas](#c21)\n",
    "        * [Mensajes](#c22)\n",
    "        * [Internet](#c23)\n",
    "        * [Ingresos](#c24)\n",
    "    * [Trabajando con los valores atípicos](#c3)\n",
    "* [Probar las hipótesis estadísticas](#d)\n",
    "    * [Primera hipótesis](#d1)\n",
    "    * [Segunda hipótesis](#d2)\n",
    "* [Conclusión general](#e)"
   ]
  },
  {
   "attachments": {},
   "cell_type": "markdown",
   "metadata": {},
   "source": [
    "# Introducción <a id='intro'></a>\n",
    "\n",
    "En este proyecto analizaremos datos de la empresa de telecomunicaciones Megaline. La empresa ofrece a sus clientes dos tarifas de prepago: Surf y Ultimate. El trabajo consiste en determinar cuál de estos planes genera más ingresos a la empresa. La(s) hipótesis específica(s) será(n) presentada(s) en los cuadros siguientes y para el desarrollo de este proyecto aplicaremos diversas técnicas utilizadas a lo largo del curso, como el preprocesamiento, análisis exploratorio y análisis estadístico de los datos. Cada espacio de código cuenta con sus respectivos comentarios para un mejor entendimiento del desarrollo del proyecto."
   ]
  },
  {
   "attachments": {},
   "cell_type": "markdown",
   "metadata": {},
   "source": [
    "# Objetivos <a id='objetivos'></a>\n",
    "\n",
    "Nuestras hipótesis específicas a probar serán las siguientes:\n",
    "* Existe una diferencia entre el ingreso promedio de los ususarios de las tarifas Ultimate y Surf.\n",
    "* Existe una diferencia entre el ingreso promedio de los usuario en el área de estados Nueva York-Nueva Jersey al de los usuarios de otras regiones."
   ]
  },
  {
   "attachments": {},
   "cell_type": "markdown",
   "metadata": {},
   "source": [
    "# Etapas del análisis <a id='etapas'></a>\n",
    "\n",
    "En este proyecto, seguiremos este esquema propuesto de manera general para ordenar el proceso de análisis. Se aclara que, debido a que no se tiene mucha información respecto a la calidad de los datos ni contacto con el área relacionada, el tratamiento de datos y análisis exploratorio se realizará usando supuestos razonables desde el punto de vista del analista. El esquema es:\n",
    "1. Descripción de los datos\n",
    "2. Preprocesamiento de los datos\n",
    "3. Análisis exploratorio de datos\n",
    "4. Prueba de las hipótesis\n",
    "5. Conclusiones finales"
   ]
  },
  {
   "attachments": {},
   "cell_type": "markdown",
   "metadata": {},
   "source": [
    "# Inicialización: descripción de los datos <a id='a'></a>"
   ]
  },
  {
   "attachments": {},
   "cell_type": "markdown",
   "metadata": {},
   "source": [
    "**Carga de librerías necesarias**"
   ]
  },
  {
   "cell_type": "code",
   "execution_count": 1,
   "metadata": {},
   "outputs": [],
   "source": [
    "import numpy as np\n",
    "import pandas as pd\n",
    "import matplotlib.pyplot as plt\n",
    "import seaborn as sns\n",
    "from scipy import stats as st\n",
    "\n",
    "# Cargar todas las librerías"
   ]
  },
  {
   "attachments": {},
   "cell_type": "markdown",
   "metadata": {},
   "source": [
    "## Cargar los datos <a id='a1'></a>"
   ]
  },
  {
   "attachments": {},
   "cell_type": "markdown",
   "metadata": {},
   "source": [
    "En este caso, se nos proporcionan cinco diferentes datasets con la información necesaria para realizar el proceso analítico. Cada DataFrame tiene un nombre relacionado a su tabla de origen de manera explícita."
   ]
  },
  {
   "cell_type": "code",
   "execution_count": 2,
   "metadata": {},
   "outputs": [],
   "source": [
    "\n",
    "try:\n",
    "    users = pd.read_csv(\"megaline_users.csv\")\n",
    "    calls = pd.read_csv(\"megaline_calls.csv\")\n",
    "    messages = pd.read_csv(\"megaline_messages.csv\")\n",
    "    internet = pd.read_csv(\"megaline_internet.csv\")\n",
    "    plans = pd.read_csv(\"megaline_plans.csv\")\n",
    "except:\n",
    "    users = pd.read_csv(\"/datasets/megaline_users.csv\")\n",
    "    calls = pd.read_csv(\"/datasets/megaline_calls.csv\")\n",
    "    messages = pd.read_csv(\"/datasets/megaline_messages.csv\")\n",
    "    internet = pd.read_csv(\"/datasets/megaline_internet.csv\")\n",
    "    plans = pd.read_csv(\"/datasets/megaline_plans.csv\")\n",
    "# Carga los archivos de datos en diferentes DataFrames"
   ]
  },
  {
   "attachments": {},
   "cell_type": "markdown",
   "metadata": {},
   "source": [
    "## Exploración inicial de datos <a id='a2'></a>"
   ]
  },
  {
   "attachments": {},
   "cell_type": "markdown",
   "metadata": {},
   "source": [
    "Para mantener el desarrollo ordenado, realizaremos cada paso del preprocesamiento para cada tabla, de la forma que sigue:"
   ]
  },
  {
   "attachments": {},
   "cell_type": "markdown",
   "metadata": {},
   "source": [
    "**Exploración de la tabla `users`**"
   ]
  },
  {
   "attachments": {},
   "cell_type": "markdown",
   "metadata": {},
   "source": [
    "Dentro de esta tabla, contamos con la siguiente información según su descripción:\n",
    "* `user_id`: identificador único del usuario.\n",
    "* `first_name`: nombre del usuario.\n",
    "* `last_name`: apellido del usuario.\n",
    "* `age`: edad del usuario en años.\n",
    "* `reg_date`: fecha de suscripción (dd, mm, aa).\n",
    "* `churn_date`: fecha en que el usuario dejó de usar el servicio (si es ausente, la tarifa se estaba usando al momento de recuperar los datos).\n",
    "* `city`: ciudad de residencia del usuario.\n",
    "* `plan`: nombre de la tarifa.\n",
    "\n",
    "Ahora obtendremos su información:"
   ]
  },
  {
   "cell_type": "code",
   "execution_count": 3,
   "metadata": {},
   "outputs": [
    {
     "data": {
      "text/html": [
       "<div>\n",
       "<style scoped>\n",
       "    .dataframe tbody tr th:only-of-type {\n",
       "        vertical-align: middle;\n",
       "    }\n",
       "\n",
       "    .dataframe tbody tr th {\n",
       "        vertical-align: top;\n",
       "    }\n",
       "\n",
       "    .dataframe thead th {\n",
       "        text-align: right;\n",
       "    }\n",
       "</style>\n",
       "<table border=\"1\" class=\"dataframe\">\n",
       "  <thead>\n",
       "    <tr style=\"text-align: right;\">\n",
       "      <th></th>\n",
       "      <th>user_id</th>\n",
       "      <th>age</th>\n",
       "    </tr>\n",
       "  </thead>\n",
       "  <tbody>\n",
       "    <tr>\n",
       "      <th>count</th>\n",
       "      <td>500.000000</td>\n",
       "      <td>500.000000</td>\n",
       "    </tr>\n",
       "    <tr>\n",
       "      <th>mean</th>\n",
       "      <td>1249.500000</td>\n",
       "      <td>45.486000</td>\n",
       "    </tr>\n",
       "    <tr>\n",
       "      <th>std</th>\n",
       "      <td>144.481833</td>\n",
       "      <td>16.972269</td>\n",
       "    </tr>\n",
       "    <tr>\n",
       "      <th>min</th>\n",
       "      <td>1000.000000</td>\n",
       "      <td>18.000000</td>\n",
       "    </tr>\n",
       "    <tr>\n",
       "      <th>25%</th>\n",
       "      <td>1124.750000</td>\n",
       "      <td>30.000000</td>\n",
       "    </tr>\n",
       "    <tr>\n",
       "      <th>50%</th>\n",
       "      <td>1249.500000</td>\n",
       "      <td>46.000000</td>\n",
       "    </tr>\n",
       "    <tr>\n",
       "      <th>75%</th>\n",
       "      <td>1374.250000</td>\n",
       "      <td>61.000000</td>\n",
       "    </tr>\n",
       "    <tr>\n",
       "      <th>max</th>\n",
       "      <td>1499.000000</td>\n",
       "      <td>75.000000</td>\n",
       "    </tr>\n",
       "  </tbody>\n",
       "</table>\n",
       "</div>"
      ],
      "text/plain": [
       "           user_id         age\n",
       "count   500.000000  500.000000\n",
       "mean   1249.500000   45.486000\n",
       "std     144.481833   16.972269\n",
       "min    1000.000000   18.000000\n",
       "25%    1124.750000   30.000000\n",
       "50%    1249.500000   46.000000\n",
       "75%    1374.250000   61.000000\n",
       "max    1499.000000   75.000000"
      ]
     },
     "execution_count": 3,
     "metadata": {},
     "output_type": "execute_result"
    }
   ],
   "source": [
    "users.describe()"
   ]
  },
  {
   "cell_type": "code",
   "execution_count": 4,
   "metadata": {},
   "outputs": [
    {
     "data": {
      "text/html": [
       "<div>\n",
       "<style scoped>\n",
       "    .dataframe tbody tr th:only-of-type {\n",
       "        vertical-align: middle;\n",
       "    }\n",
       "\n",
       "    .dataframe tbody tr th {\n",
       "        vertical-align: top;\n",
       "    }\n",
       "\n",
       "    .dataframe thead th {\n",
       "        text-align: right;\n",
       "    }\n",
       "</style>\n",
       "<table border=\"1\" class=\"dataframe\">\n",
       "  <thead>\n",
       "    <tr style=\"text-align: right;\">\n",
       "      <th></th>\n",
       "      <th>user_id</th>\n",
       "      <th>first_name</th>\n",
       "      <th>last_name</th>\n",
       "      <th>age</th>\n",
       "      <th>city</th>\n",
       "      <th>reg_date</th>\n",
       "      <th>plan</th>\n",
       "      <th>churn_date</th>\n",
       "    </tr>\n",
       "  </thead>\n",
       "  <tbody>\n",
       "    <tr>\n",
       "      <th>0</th>\n",
       "      <td>1000</td>\n",
       "      <td>Anamaria</td>\n",
       "      <td>Bauer</td>\n",
       "      <td>45</td>\n",
       "      <td>Atlanta-Sandy Springs-Roswell, GA MSA</td>\n",
       "      <td>2018-12-24</td>\n",
       "      <td>ultimate</td>\n",
       "      <td>NaN</td>\n",
       "    </tr>\n",
       "    <tr>\n",
       "      <th>1</th>\n",
       "      <td>1001</td>\n",
       "      <td>Mickey</td>\n",
       "      <td>Wilkerson</td>\n",
       "      <td>28</td>\n",
       "      <td>Seattle-Tacoma-Bellevue, WA MSA</td>\n",
       "      <td>2018-08-13</td>\n",
       "      <td>surf</td>\n",
       "      <td>NaN</td>\n",
       "    </tr>\n",
       "    <tr>\n",
       "      <th>2</th>\n",
       "      <td>1002</td>\n",
       "      <td>Carlee</td>\n",
       "      <td>Hoffman</td>\n",
       "      <td>36</td>\n",
       "      <td>Las Vegas-Henderson-Paradise, NV MSA</td>\n",
       "      <td>2018-10-21</td>\n",
       "      <td>surf</td>\n",
       "      <td>NaN</td>\n",
       "    </tr>\n",
       "    <tr>\n",
       "      <th>3</th>\n",
       "      <td>1003</td>\n",
       "      <td>Reynaldo</td>\n",
       "      <td>Jenkins</td>\n",
       "      <td>52</td>\n",
       "      <td>Tulsa, OK MSA</td>\n",
       "      <td>2018-01-28</td>\n",
       "      <td>surf</td>\n",
       "      <td>NaN</td>\n",
       "    </tr>\n",
       "    <tr>\n",
       "      <th>4</th>\n",
       "      <td>1004</td>\n",
       "      <td>Leonila</td>\n",
       "      <td>Thompson</td>\n",
       "      <td>40</td>\n",
       "      <td>Seattle-Tacoma-Bellevue, WA MSA</td>\n",
       "      <td>2018-05-23</td>\n",
       "      <td>surf</td>\n",
       "      <td>NaN</td>\n",
       "    </tr>\n",
       "    <tr>\n",
       "      <th>5</th>\n",
       "      <td>1005</td>\n",
       "      <td>Livia</td>\n",
       "      <td>Shields</td>\n",
       "      <td>31</td>\n",
       "      <td>Dallas-Fort Worth-Arlington, TX MSA</td>\n",
       "      <td>2018-11-29</td>\n",
       "      <td>surf</td>\n",
       "      <td>NaN</td>\n",
       "    </tr>\n",
       "    <tr>\n",
       "      <th>6</th>\n",
       "      <td>1006</td>\n",
       "      <td>Jesusa</td>\n",
       "      <td>Bradford</td>\n",
       "      <td>73</td>\n",
       "      <td>San Francisco-Oakland-Berkeley, CA MSA</td>\n",
       "      <td>2018-11-27</td>\n",
       "      <td>ultimate</td>\n",
       "      <td>2018-12-18</td>\n",
       "    </tr>\n",
       "    <tr>\n",
       "      <th>7</th>\n",
       "      <td>1007</td>\n",
       "      <td>Eusebio</td>\n",
       "      <td>Welch</td>\n",
       "      <td>42</td>\n",
       "      <td>Grand Rapids-Kentwood, MI MSA</td>\n",
       "      <td>2018-07-11</td>\n",
       "      <td>surf</td>\n",
       "      <td>NaN</td>\n",
       "    </tr>\n",
       "    <tr>\n",
       "      <th>8</th>\n",
       "      <td>1008</td>\n",
       "      <td>Emely</td>\n",
       "      <td>Hoffman</td>\n",
       "      <td>53</td>\n",
       "      <td>Orlando-Kissimmee-Sanford, FL MSA</td>\n",
       "      <td>2018-08-03</td>\n",
       "      <td>ultimate</td>\n",
       "      <td>NaN</td>\n",
       "    </tr>\n",
       "    <tr>\n",
       "      <th>9</th>\n",
       "      <td>1009</td>\n",
       "      <td>Gerry</td>\n",
       "      <td>Little</td>\n",
       "      <td>19</td>\n",
       "      <td>San Jose-Sunnyvale-Santa Clara, CA MSA</td>\n",
       "      <td>2018-04-22</td>\n",
       "      <td>surf</td>\n",
       "      <td>NaN</td>\n",
       "    </tr>\n",
       "  </tbody>\n",
       "</table>\n",
       "</div>"
      ],
      "text/plain": [
       "   user_id first_name  last_name  age                                    city  \\\n",
       "0     1000   Anamaria      Bauer   45   Atlanta-Sandy Springs-Roswell, GA MSA   \n",
       "1     1001     Mickey  Wilkerson   28         Seattle-Tacoma-Bellevue, WA MSA   \n",
       "2     1002     Carlee    Hoffman   36    Las Vegas-Henderson-Paradise, NV MSA   \n",
       "3     1003   Reynaldo    Jenkins   52                           Tulsa, OK MSA   \n",
       "4     1004    Leonila   Thompson   40         Seattle-Tacoma-Bellevue, WA MSA   \n",
       "5     1005      Livia    Shields   31     Dallas-Fort Worth-Arlington, TX MSA   \n",
       "6     1006     Jesusa   Bradford   73  San Francisco-Oakland-Berkeley, CA MSA   \n",
       "7     1007    Eusebio      Welch   42           Grand Rapids-Kentwood, MI MSA   \n",
       "8     1008      Emely    Hoffman   53       Orlando-Kissimmee-Sanford, FL MSA   \n",
       "9     1009      Gerry     Little   19  San Jose-Sunnyvale-Santa Clara, CA MSA   \n",
       "\n",
       "     reg_date      plan  churn_date  \n",
       "0  2018-12-24  ultimate         NaN  \n",
       "1  2018-08-13      surf         NaN  \n",
       "2  2018-10-21      surf         NaN  \n",
       "3  2018-01-28      surf         NaN  \n",
       "4  2018-05-23      surf         NaN  \n",
       "5  2018-11-29      surf         NaN  \n",
       "6  2018-11-27  ultimate  2018-12-18  \n",
       "7  2018-07-11      surf         NaN  \n",
       "8  2018-08-03  ultimate         NaN  \n",
       "9  2018-04-22      surf         NaN  "
      ]
     },
     "execution_count": 4,
     "metadata": {},
     "output_type": "execute_result"
    }
   ],
   "source": [
    "users.head(10)"
   ]
  },
  {
   "cell_type": "code",
   "execution_count": 5,
   "metadata": {},
   "outputs": [
    {
     "name": "stdout",
     "output_type": "stream",
     "text": [
      "<class 'pandas.core.frame.DataFrame'>\n",
      "RangeIndex: 500 entries, 0 to 499\n",
      "Data columns (total 8 columns):\n",
      " #   Column      Non-Null Count  Dtype \n",
      "---  ------      --------------  ----- \n",
      " 0   user_id     500 non-null    int64 \n",
      " 1   first_name  500 non-null    object\n",
      " 2   last_name   500 non-null    object\n",
      " 3   age         500 non-null    int64 \n",
      " 4   city        500 non-null    object\n",
      " 5   reg_date    500 non-null    object\n",
      " 6   plan        500 non-null    object\n",
      " 7   churn_date  34 non-null     object\n",
      "dtypes: int64(2), object(6)\n",
      "memory usage: 31.4+ KB\n"
     ]
    }
   ],
   "source": [
    "users.info()"
   ]
  },
  {
   "attachments": {},
   "cell_type": "markdown",
   "metadata": {},
   "source": [
    "Detallando por columnas, tenemos:\n",
    "* `user_id` no parece mostrar problemas.\n",
    "* `first_name` no parece mostrar problemas.\n",
    "* `last_name` no parece tener problemas.\n",
    "* `age` no parece tener problemas.\n",
    "* `city` no parece mostrar problemas.\n",
    "* `reg_date` tiene un formato inadecuado para su análisis. Se necesita cambiar al formato fecha.\n",
    "* `plan` no parece tener problemas.\n",
    "* `churn_date` tiene gran cantidad de valores ausentes, pero recordemos que esta columna solo tiene información de la fecha donde las personas que terminaron sus planes. Es decir, si la mayoría de personas aún siguen usando sus planes (algo razonable), esperaríamos tener pocos registros no nulos. En todo caso, al tratarse de fechas, también requeriría un cambio de formato.\n",
    "\n",
    "Ya que parece que nuestras columnas numéricas no parecen tener problemas, necesitamos más información sobre las columnas categóricas para continuar con el análisis:"
   ]
  },
  {
   "cell_type": "code",
   "execution_count": 6,
   "metadata": {},
   "outputs": [
    {
     "name": "stdout",
     "output_type": "stream",
     "text": [
      "Valores únicos de la columna 'first_name':\n",
      "['Anamaria' 'Mickey' 'Carlee' 'Reynaldo' 'Leonila' 'Livia' 'Jesusa'\n",
      " 'Eusebio' 'Emely' 'Gerry' 'Wilber' 'Halina' 'Jonelle' 'Nicolas' 'Edmundo'\n",
      " 'Beata' 'Jann' 'Boris' 'Dennis' 'Shizue' 'Rutha' 'Ricarda' 'Bo' 'Jack'\n",
      " 'Yuki' 'Jess' 'Meggan' 'Georgeanna' 'Jefferey' 'Franklyn' 'Chase' 'Lane'\n",
      " 'Delila' 'Latoyia' 'Jc' 'Jeff' 'Myron' 'Reena' 'Olympia' 'Flo' 'Paris'\n",
      " 'Drucilla' 'Clementina' 'Carlos' 'Devora' 'Barney' 'Yuk' 'Linwood'\n",
      " 'Loise' 'Jone' 'Rosario' 'Edmond' 'Piper' 'Denis' 'Patrick' 'Theo'\n",
      " 'Reinaldo' 'Avril' 'Denisse' 'Maryam' 'Kristeen' 'Larhonda' 'Gerardo'\n",
      " 'Sherlyn' 'Ariel' 'Robt' 'Marcel' 'Dino' 'Jacelyn' 'Isa' 'Seymour'\n",
      " 'Grady' 'Particia' 'Salena' 'Ronny' 'Chau' 'Earnest' 'Brian' 'Neal'\n",
      " 'Grayce' 'Dominic' 'Lyndia' 'Wiley' 'Ignacio' 'Adena' 'Lenard' 'Malena'\n",
      " 'Brock' 'Taylor' 'Taren' 'Karima' 'Walter' 'Lilliam' 'Song' 'Deandre'\n",
      " 'Collin' 'Shavon' 'Aaron' 'Sage' 'Marquitta' 'Moises' 'Thurman' 'Micheal'\n",
      " 'Eddy' 'Porfirio' 'Anderson' 'Booker' 'Amal' 'Spencer' 'Esta' 'Yevette'\n",
      " 'Moriah' 'Hank' 'Deane' 'Abraham' 'Kathaleen' 'Lashay' 'Dierdre' 'Jenell'\n",
      " 'Assunta' 'Jermaine' 'Marchelle' 'Lucius' 'Marin' 'Clarence' 'Shane'\n",
      " 'Edward' 'Larry' 'Shannon' 'Scotty' 'Jasper' 'Allegra' 'Arlie' 'Thomas'\n",
      " 'Randolph' 'Kirstie' 'Charlesetta' 'Lorina' 'Kaycee' 'Venice' 'Loma'\n",
      " 'Duncan' 'Dwana' 'Jamaal' 'Earlie' 'Ralph' 'Merrill' 'Humberto' 'Claude'\n",
      " 'Anette' 'Luciano' 'Robin' 'Steven' 'Florance' 'Mark' 'Lanie' 'Kam'\n",
      " 'Nigel' 'Rebbecca' 'Shay' 'Hai' 'Olin' 'Devin' 'Weldon' 'Tristan'\n",
      " 'Larisa' 'Shiloh' 'Terrance' 'Charlsie' 'Darcey' 'Wonda' 'Ron' 'Fredric'\n",
      " 'Loria' 'Josiah' 'Tanner' 'Ethelene' 'Terrence' 'Troy' 'Zack' 'Korey'\n",
      " 'Lacresha' 'Robert' 'Roy' 'Noel' 'Lon' 'Russ' 'Antonetta' 'Delmar'\n",
      " 'Jeanelle' 'Osvaldo' 'Manie' 'Sherly' 'Rafael' 'Angelic' 'Samuel'\n",
      " 'Enrique' 'Garret' 'Shanae' 'Vito' 'Alfredo' 'Carl' 'Emil' 'Adelle'\n",
      " 'Reita' 'Ned' 'Stanford' 'Gavin' 'Mckenzie' 'Cleo' 'Patience' 'Kelly'\n",
      " 'Margarito' 'Denver' 'Vanesa' 'Jude' 'Augustus' 'Andre' 'Gaylord'\n",
      " 'Elidia' 'Janee' 'Matt' 'Felton' 'Odell' 'Leighann' 'Jackeline' 'Quentin'\n",
      " 'Drema' 'Lala' 'Lashunda' 'Isaias' 'Demarcus' 'Quinn' 'Stevie' 'Marion'\n",
      " 'Leigha' 'Milan' 'Tifany' 'Mitsue' 'Sumiko' 'Billy' 'Kennith' 'Johnny'\n",
      " 'Gabriel' 'Kai' 'Etsuko' 'Alia' 'Dusti' 'Michelina' 'Lucio' 'Jessie'\n",
      " 'Alec' 'Dorie' 'Gia' 'Britni' 'Irving' 'Anjelica' 'Darrin' 'Ernest'\n",
      " 'Hermila' 'Dudley' 'Elvie' 'Karmen' 'Andrew' 'Masako' 'Annice' 'Alan'\n",
      " 'Yuri' 'Joesph' 'Casie' 'Heide' 'Jenette' 'Steve' 'Thaddeus' 'Angeles'\n",
      " 'Cassey' 'Lanny' 'Demetrius' 'Hung' 'Weston' 'Nicky' 'Loyce' 'Keitha'\n",
      " 'Rene' 'Tomas' 'Rosamaria' 'Dominque' 'Gwenn' 'Darron' 'Kristopher'\n",
      " 'Samara' 'Winfred' 'Vincent' 'Cherlyn' 'Kory' 'Antoine' 'Brice' 'Mora'\n",
      " 'Lucilla' 'Ruthanne' 'Huey' 'Eliseo' 'Bert' 'Karlyn' 'Tyler' 'Pamelia'\n",
      " 'Romana' 'Cleora' 'Johnathon' 'Natosha' 'Tamesha' 'Doyle' 'Tobi'\n",
      " 'Lashandra' 'Lucas' 'Macy' 'Donovan' 'Gail' 'Vance' 'Janise' 'Mariette'\n",
      " 'Vanna' 'Kaila' 'Eugene' 'Teresia' 'Hugo' 'Pasquale' 'Emmie' 'Trey'\n",
      " 'Florentina' 'Al' 'Kyle' 'Emerson' 'Leonel' 'Digna' 'Hae' 'Ria' 'Vaughn'\n",
      " 'Sherley' 'Arturo' 'Kenyetta' 'Sandee' 'Clarine' 'Milford' 'Rod' 'Minh'\n",
      " 'Enola' 'Bernard' 'Nenita' 'Roderick' 'Patria' 'Lindsey' 'Ching' 'Andy'\n",
      " 'Mika' 'Vallie' 'Mckinley' 'Jarrett' 'Lajuana' 'German' 'Luci'\n",
      " 'Dominique' 'Nohemi' 'Jeni' 'Raymonde' 'Thu' 'Earleen' 'Deloras' 'Errol'\n",
      " 'Gale' 'Wilfredo' 'Alejandro' 'Leonard' 'Ardelia' 'Willow' 'Kenton'\n",
      " 'Charmain' 'Jesus' 'Jae' 'Paulita' 'Shella' 'Noble' 'Alaine' 'Elvis'\n",
      " 'Wendell' 'Man' 'Cortez' 'Georgianne' 'Rosette' 'Deja' 'Jorge' 'Hal'\n",
      " 'Bryon' 'Season' 'Zane' 'Malcom' 'Kasandra' 'Latrisha' 'Lamont' 'Zofia'\n",
      " 'Asuncion' 'Arianna' 'Myung' 'Napoleon' 'Azucena' 'Lyndon' 'Darnell'\n",
      " 'Jennine' 'Louis' 'Harvey' 'Moses' 'France' 'Piedad' 'Terrell' 'Genaro'\n",
      " 'Glinda' 'Elodia' 'Ramon' 'Elayne' 'Boyd' 'Miguel' 'Kymberly' 'Janean'\n",
      " 'Joella' 'Santos' 'Winford' 'Rupert' 'Lesley' 'Dinorah' 'Burt' 'Alphonse'\n",
      " 'Nickolas' 'Johana' 'Rory' 'Gerald' 'Maximo' 'Kirk' 'Randee' 'Arlen'\n",
      " 'Tammara' 'Magaly' 'Elane' 'Keesha' 'Roni' 'Armand' 'Delpha' 'Damion'\n",
      " 'Sang' 'Elton' 'Shirley' 'Londa' 'Terina' 'Cicely' 'Preston' 'Fidel'\n",
      " 'Donte' 'Scot' 'Shena']\n",
      "\n",
      "Valores únicos de la columna 'last_name':\n",
      "['Bauer' 'Wilkerson' 'Hoffman' 'Jenkins' 'Thompson' 'Shields' 'Bradford'\n",
      " 'Welch' 'Little' 'Blair' 'Henry' 'Mcbride' 'Snider' 'Simon' 'Carpenter'\n",
      " 'Salinas' 'Gates' 'Grimes' 'Landry' 'Bell' 'Booker' 'Snow' 'Delaney'\n",
      " 'Tyson' 'Wilkinson' 'Hamilton' 'Cardenas' 'Rasmussen' 'Henson' 'Kane'\n",
      " 'Martin' 'Dalton' 'Moran' 'Gentry' 'Cummings' 'Hodge' 'Velazquez' 'Hicks'\n",
      " 'Santos' 'Lynn' 'Mclaughlin' 'Hinton' 'Galloway' 'Ortega' 'Hooper'\n",
      " 'French' 'Terrell' 'Avery' 'Owen' 'Gibbs' 'Hopkins' 'Espinoza' 'Frost'\n",
      " 'Mclean' 'Chandler' 'Sargent' 'Colon' 'Richardson' 'Valencia' 'Head'\n",
      " 'Hartman' 'Ashley' 'Noel' 'Woods' 'Allen' 'Jimenez' 'Fry' 'Contreras'\n",
      " 'Roy' 'Spence' 'Crawford' 'Fuller' 'Bates' 'Browning' 'Webster' 'Gray'\n",
      " 'Mccall' 'Mcgee' 'Sears' 'Witt' 'Acevedo' 'Mckinney' 'Bennett' 'Macias'\n",
      " 'Atkinson' 'Robertson' 'Kelley' 'Skinner' 'Oliver' 'Strickland' 'Hampton'\n",
      " 'Petersen' 'Alvarado' 'Cline' 'Powell' 'Sims' 'Banks' 'Rowe' 'Conley'\n",
      " 'Walton' 'Weeks' 'Stephens' 'Poole' 'Garrison' 'Cash' 'Cotton' 'Hahn'\n",
      " 'Pacheco' 'Powers' 'Estes' 'Yang' 'Yates' 'Taylor' 'Ramirez' 'Palmer'\n",
      " 'Mcconnell' 'Albert' 'Reese' 'Nash' 'Navarro' 'Carver' 'Mcguire' 'Brock'\n",
      " 'Fernandez' 'Bolton' 'Cunningham' 'Morrison' 'Roberts' 'Barr' 'Nichols'\n",
      " 'White' 'Caldwell' 'Higgins' 'Lawson' 'Graves' 'Hodges' 'Dillard'\n",
      " 'Stevens' 'Peterson' 'Brooks' 'Mcneil' 'Malone' 'Moore' 'Camacho' 'Giles'\n",
      " 'Monroe' 'Hogan' 'Pruitt' 'Chambers' 'Sheppard' 'Thornton' 'Baker'\n",
      " 'Morgan' 'Estrada' 'Farley' 'Washington' 'Huber' 'Bryant' 'Nicholson'\n",
      " 'Weaver' 'Bean' 'Adkins' 'Robinson' 'Cain' 'Ellis' 'Stafford' 'Shaffer'\n",
      " 'Anderson' 'Reid' 'Baird' 'Hays' 'Kaufman' 'Burt' 'Gallegos' 'Middleton'\n",
      " 'Freeman' 'Douglas' 'Goodman' 'Smith' 'Hutchinson' 'Waters' 'Goodwin'\n",
      " 'Olsen' 'Velez' 'Dawson' 'Parker' 'Horne' 'Finley' 'Cross' 'Mayer' 'Levy'\n",
      " 'Wade' 'Singleton' 'Porter' 'Paul' 'Carrillo' 'Cameron' 'Newman' 'Robles'\n",
      " 'Knapp' 'Atkins' 'Thomas' 'Pena' 'Keller' 'Strong' 'Wilson' 'Cole'\n",
      " 'Barker' 'Harrell' 'Willis' 'Hale' 'Russell' 'Perkins' 'Nguyen' 'Juarez'\n",
      " 'Wheeler' 'Byrd' 'Hancock' 'Lopez' 'Walls' 'Johns' 'Compton' 'David'\n",
      " 'Sellers' 'York' 'Dudley' 'Webb' 'Rowland' 'Wise' \"O'donnell\" 'Perry'\n",
      " 'Aguilar' 'Forbes' 'Duffy' 'Hill' 'Bowers' 'Chan' 'Rose' 'Mercado' 'Ryan'\n",
      " 'Massey' 'Carney' 'Faulkner' 'Montgomery' 'Duke' 'Berry' 'Hardy'\n",
      " 'Calhoun' 'Burgess' 'Odom' 'Barry' 'Castaneda' 'Gill' 'Rush' 'Mejia'\n",
      " 'Nolan' 'Russo' 'Flowers' 'Tucker' 'Cooley' 'Harrison' 'Horton' 'Morris'\n",
      " 'Reeves' 'Gross' 'Craig' 'Lang' 'Zimmerman' 'Saunders' 'Emerson'\n",
      " 'Schroeder' 'Heath' 'Walsh' 'Carson' 'Wells' 'Sweeney' 'Lyons' 'Branch'\n",
      " 'Peck' 'Nunez' 'Kinney' 'Ramos' 'Coleman' 'Bradshaw' 'Arnold' 'Bowman'\n",
      " 'Stanton' 'Andrews' 'Patton' 'Ewing' 'Daugherty' 'Gonzalez' 'Lynch'\n",
      " 'Rutledge' 'Diaz' 'Whitfield' 'Dyer' 'Beach' 'Maldonado' 'Norris'\n",
      " 'Mullins' 'Mcknight' 'Lott' 'Bonner' 'Huff' 'Fischer' 'Ray' 'Mckee'\n",
      " 'Vasquez' 'Slater' 'Kim' 'Dickerson' 'Watts' 'Holden' 'Williams' 'Conway'\n",
      " 'Clayton' 'Spencer' 'Burris' 'Kidd' 'Mccoy' 'Good' 'Erickson' 'Gilbert'\n",
      " 'Lowe' 'Glass' 'Cooke' 'Mcfadden' 'Rosa' 'Wooten' 'Benton' 'Steele'\n",
      " 'Hickman' 'Gardner' 'Hunter' 'Jefferson' 'Vargas' 'Lloyd' 'Fleming'\n",
      " 'Hensley' 'Herring' 'Mendez' 'Moss' 'Madden' 'Barnes' 'Gordon' 'Hobbs'\n",
      " 'Neal' 'Keith' 'Larsen' 'Conner' 'Conrad' 'Pugh' 'Cabrera' 'Barrett'\n",
      " 'Myers' 'Quinn' 'Donovan' 'Ball' 'Hester' 'Foley' 'Marquez' 'Harding'\n",
      " 'Sparks' 'Tyler' 'Cohen' 'Munoz' 'Underwood' 'Santana' 'Workman'\n",
      " 'Simmons' 'Burke' 'Harmon' 'Deleon' 'Nixon' 'Mitchell' 'Mendoza' 'Sutton'\n",
      " 'Dorsey' 'Rivas' 'Burnett' 'Buchanan' 'Frye' 'Glenn' 'Farrell' 'Baldwin'\n",
      " 'Woodard' 'Solis' 'Simpson' 'Jones' 'Cortez' 'Jensen' 'Wynn' 'Downs'\n",
      " 'Sharpe' 'Shepherd' 'Barrera' 'Williamson' 'Dickson']\n",
      "\n",
      "Valores únicos de la columna 'city':\n",
      "['Atlanta-Sandy Springs-Roswell, GA MSA' 'Seattle-Tacoma-Bellevue, WA MSA'\n",
      " 'Las Vegas-Henderson-Paradise, NV MSA' 'Tulsa, OK MSA'\n",
      " 'Dallas-Fort Worth-Arlington, TX MSA'\n",
      " 'San Francisco-Oakland-Berkeley, CA MSA' 'Grand Rapids-Kentwood, MI MSA'\n",
      " 'Orlando-Kissimmee-Sanford, FL MSA'\n",
      " 'San Jose-Sunnyvale-Santa Clara, CA MSA' 'Cleveland-Elyria, OH MSA'\n",
      " 'Chicago-Naperville-Elgin, IL-IN-WI MSA' 'Knoxville, TN MSA'\n",
      " 'New York-Newark-Jersey City, NY-NJ-PA MSA' 'Pittsburgh, PA MSA'\n",
      " 'Fresno, CA MSA' 'Washington-Arlington-Alexandria, DC-VA-MD-WV MSA'\n",
      " 'Indianapolis-Carmel-Anderson, IN MSA' 'Jacksonville, FL MSA'\n",
      " 'Los Angeles-Long Beach-Anaheim, CA MSA'\n",
      " 'Omaha-Council Bluffs, NE-IA MSA'\n",
      " 'Houston-The Woodlands-Sugar Land, TX MSA'\n",
      " 'Philadelphia-Camden-Wilmington, PA-NJ-DE-MD MSA'\n",
      " 'Tampa-St. Petersburg-Clearwater, FL MSA' 'Birmingham-Hoover, AL MSA'\n",
      " 'Oklahoma City, OK MSA' 'Charlotte-Concord-Gastonia, NC-SC MSA'\n",
      " 'Denver-Aurora-Lakewood, CO MSA'\n",
      " 'Nashville-Davidson–Murfreesboro–Franklin, TN MSA' 'Columbus, OH MSA'\n",
      " 'Albuquerque, NM MSA' 'Boston-Cambridge-Newton, MA-NH MSA'\n",
      " 'Miami-Fort Lauderdale-West Palm Beach, FL MSA'\n",
      " 'San Diego-Chula Vista-Carlsbad, CA MSA' 'Phoenix-Mesa-Chandler, AZ MSA'\n",
      " 'Portland-Vancouver-Hillsboro, OR-WA MSA' 'Cincinnati, OH-KY-IN MSA'\n",
      " 'Columbia, SC MSA' 'San Antonio-New Braunfels, TX MSA'\n",
      " 'Buffalo-Cheektowaga, NY MSA' 'Memphis, TN-MS-AR MSA'\n",
      " 'Riverside-San Bernardino-Ontario, CA MSA'\n",
      " 'Louisville/Jefferson County, KY-IN MSA'\n",
      " 'Albany-Schenectady-Troy, NY MSA' 'Providence-Warwick, RI-MA MSA'\n",
      " 'Salt Lake City, UT MSA' 'Urban Honolulu, HI MSA' 'El Paso, TX MSA'\n",
      " 'New Haven-Milford, CT MSA' 'North Port-Sarasota-Bradenton, FL MSA'\n",
      " 'Baton Rouge, LA MSA' 'New Orleans-Metairie, LA MSA'\n",
      " 'Bridgeport-Stamford-Norwalk, CT MSA'\n",
      " 'Virginia Beach-Norfolk-Newport News, VA-NC MSA'\n",
      " 'Baltimore-Columbia-Towson, MD MSA' 'Milwaukee-Waukesha, WI MSA'\n",
      " 'Oxnard-Thousand Oaks-Ventura, CA MSA'\n",
      " 'Sacramento–Roseville–Folsom, CA MSA'\n",
      " 'Austin-Round Rock-Georgetown, TX MSA' 'Richmond, VA MSA'\n",
      " 'St. Louis, MO-IL MSA' 'Minneapolis-St. Paul-Bloomington, MN-WI MSA'\n",
      " 'Dayton-Kettering, OH MSA' 'Bakersfield, CA MSA'\n",
      " 'Detroit-Warren-Dearborn, MI MSA' 'Kansas City, MO-KS MSA'\n",
      " 'Charleston-North Charleston, SC MSA' 'Rochester, NY MSA'\n",
      " 'Raleigh-Cary, NC MSA' 'Colorado Springs, CO MSA'\n",
      " 'Greensboro-High Point, NC MSA' 'Tucson, AZ MSA' 'Stockton, CA MSA'\n",
      " 'Cape Coral-Fort Myers, FL MSA']\n",
      "\n",
      "Valores únicos de la columna 'plan':\n",
      "['ultimate' 'surf']\n",
      "\n"
     ]
    }
   ],
   "source": [
    "users_categ = users[['first_name', 'last_name', 'city', 'plan']] # separa columnas categóricas\n",
    "for column in users_categ:\n",
    "    try:\n",
    "        print(f\"Valores únicos de la columna '{column}':\") # muestra el nombre\n",
    "        print(users_categ[column].unique()) # valores únicos de cada columna\n",
    "        print()\n",
    "    except:\n",
    "        print(\"Error al mostrar valores únicos de users_categ\")"
   ]
  },
  {
   "cell_type": "code",
   "execution_count": 7,
   "metadata": {},
   "outputs": [
    {
     "name": "stdout",
     "output_type": "stream",
     "text": [
      "Distribución de valores de la columna 'first_name':\n",
      "Leonila     0.006\n",
      "Jasper      0.006\n",
      "Seymour     0.006\n",
      "Lucius      0.004\n",
      "Errol       0.004\n",
      "            ...  \n",
      "Olin        0.002\n",
      "Hai         0.002\n",
      "Shay        0.002\n",
      "Rebbecca    0.002\n",
      "Shena       0.002\n",
      "Name: first_name, Length: 458, dtype: float64\n",
      "\n",
      "Distribución de valores de la columna 'last_name':\n",
      "David        0.006\n",
      "Morrison     0.006\n",
      "Grimes       0.006\n",
      "Kelley       0.006\n",
      "Velazquez    0.006\n",
      "             ...  \n",
      "Cain         0.002\n",
      "Robinson     0.002\n",
      "Adkins       0.002\n",
      "Bean         0.002\n",
      "Dickson      0.002\n",
      "Name: last_name, Length: 399, dtype: float64\n",
      "\n",
      "Distribución de valores de la columna 'city':\n",
      "New York-Newark-Jersey City, NY-NJ-PA MSA          0.160\n",
      "Los Angeles-Long Beach-Anaheim, CA MSA             0.058\n",
      "Dallas-Fort Worth-Arlington, TX MSA                0.042\n",
      "Chicago-Naperville-Elgin, IL-IN-WI MSA             0.038\n",
      "Philadelphia-Camden-Wilmington, PA-NJ-DE-MD MSA    0.034\n",
      "                                                   ...  \n",
      "Raleigh-Cary, NC MSA                               0.002\n",
      "El Paso, TX MSA                                    0.002\n",
      "Greensboro-High Point, NC MSA                      0.002\n",
      "Stockton, CA MSA                                   0.002\n",
      "Cape Coral-Fort Myers, FL MSA                      0.002\n",
      "Name: city, Length: 73, dtype: float64\n",
      "\n",
      "Distribución de valores de la columna 'plan':\n",
      "surf        0.678\n",
      "ultimate    0.322\n",
      "Name: plan, dtype: float64\n",
      "\n"
     ]
    }
   ],
   "source": [
    "for column in users_categ:\n",
    "    try:\n",
    "        print(f\"Distribución de valores de la columna '{column}':\") # nombre de la columna\n",
    "        print(users_categ[column].value_counts(dropna=False, normalize=True)) # distribución de valores porcentuales\n",
    "        print()\n",
    "    except:\n",
    "        print(\"Error al mostrar la distribución de users_categ\")"
   ]
  },
  {
   "attachments": {},
   "cell_type": "markdown",
   "metadata": {},
   "source": [
    "El restante detalle que nos faltaba acerca de las columnas categóricas nos muestra que aparentemente este dataset no parece tener más problemas aparte de los ya mencionados. Una mención aparte para los nombres de la ciudades, cuyos nombres explícitos necesitan ser resumidos de alguna forma. Por ahora, continuamos con la siguiente tabla."
   ]
  },
  {
   "attachments": {},
   "cell_type": "markdown",
   "metadata": {},
   "source": [
    "**Exploración inicial de la tabla `calls`**"
   ]
  },
  {
   "attachments": {},
   "cell_type": "markdown",
   "metadata": {},
   "source": [
    "Esta tabla presenta los siguientes datos según su descripción:\n",
    "* `id`: identificador único de la llamada.\n",
    "* `call_date`: fecha de la llamada.\n",
    "* `duration`: duración de la llamada en minutos.\n",
    "* `user_id`: identificador del usuario que realiza la llamada.\n",
    "\n",
    "Ahora obtendremos la información de esta tabla:"
   ]
  },
  {
   "cell_type": "code",
   "execution_count": 8,
   "metadata": {},
   "outputs": [
    {
     "data": {
      "text/html": [
       "<div>\n",
       "<style scoped>\n",
       "    .dataframe tbody tr th:only-of-type {\n",
       "        vertical-align: middle;\n",
       "    }\n",
       "\n",
       "    .dataframe tbody tr th {\n",
       "        vertical-align: top;\n",
       "    }\n",
       "\n",
       "    .dataframe thead th {\n",
       "        text-align: right;\n",
       "    }\n",
       "</style>\n",
       "<table border=\"1\" class=\"dataframe\">\n",
       "  <thead>\n",
       "    <tr style=\"text-align: right;\">\n",
       "      <th></th>\n",
       "      <th>user_id</th>\n",
       "      <th>duration</th>\n",
       "    </tr>\n",
       "  </thead>\n",
       "  <tbody>\n",
       "    <tr>\n",
       "      <th>count</th>\n",
       "      <td>137735.000000</td>\n",
       "      <td>137735.000000</td>\n",
       "    </tr>\n",
       "    <tr>\n",
       "      <th>mean</th>\n",
       "      <td>1247.658046</td>\n",
       "      <td>6.745927</td>\n",
       "    </tr>\n",
       "    <tr>\n",
       "      <th>std</th>\n",
       "      <td>139.416268</td>\n",
       "      <td>5.839241</td>\n",
       "    </tr>\n",
       "    <tr>\n",
       "      <th>min</th>\n",
       "      <td>1000.000000</td>\n",
       "      <td>0.000000</td>\n",
       "    </tr>\n",
       "    <tr>\n",
       "      <th>25%</th>\n",
       "      <td>1128.000000</td>\n",
       "      <td>1.290000</td>\n",
       "    </tr>\n",
       "    <tr>\n",
       "      <th>50%</th>\n",
       "      <td>1247.000000</td>\n",
       "      <td>5.980000</td>\n",
       "    </tr>\n",
       "    <tr>\n",
       "      <th>75%</th>\n",
       "      <td>1365.000000</td>\n",
       "      <td>10.690000</td>\n",
       "    </tr>\n",
       "    <tr>\n",
       "      <th>max</th>\n",
       "      <td>1499.000000</td>\n",
       "      <td>37.600000</td>\n",
       "    </tr>\n",
       "  </tbody>\n",
       "</table>\n",
       "</div>"
      ],
      "text/plain": [
       "             user_id       duration\n",
       "count  137735.000000  137735.000000\n",
       "mean     1247.658046       6.745927\n",
       "std       139.416268       5.839241\n",
       "min      1000.000000       0.000000\n",
       "25%      1128.000000       1.290000\n",
       "50%      1247.000000       5.980000\n",
       "75%      1365.000000      10.690000\n",
       "max      1499.000000      37.600000"
      ]
     },
     "execution_count": 8,
     "metadata": {},
     "output_type": "execute_result"
    }
   ],
   "source": [
    "calls.describe()"
   ]
  },
  {
   "cell_type": "code",
   "execution_count": 9,
   "metadata": {},
   "outputs": [
    {
     "data": {
      "text/html": [
       "<div>\n",
       "<style scoped>\n",
       "    .dataframe tbody tr th:only-of-type {\n",
       "        vertical-align: middle;\n",
       "    }\n",
       "\n",
       "    .dataframe tbody tr th {\n",
       "        vertical-align: top;\n",
       "    }\n",
       "\n",
       "    .dataframe thead th {\n",
       "        text-align: right;\n",
       "    }\n",
       "</style>\n",
       "<table border=\"1\" class=\"dataframe\">\n",
       "  <thead>\n",
       "    <tr style=\"text-align: right;\">\n",
       "      <th></th>\n",
       "      <th>id</th>\n",
       "      <th>user_id</th>\n",
       "      <th>call_date</th>\n",
       "      <th>duration</th>\n",
       "    </tr>\n",
       "  </thead>\n",
       "  <tbody>\n",
       "    <tr>\n",
       "      <th>0</th>\n",
       "      <td>1000_93</td>\n",
       "      <td>1000</td>\n",
       "      <td>2018-12-27</td>\n",
       "      <td>8.52</td>\n",
       "    </tr>\n",
       "    <tr>\n",
       "      <th>1</th>\n",
       "      <td>1000_145</td>\n",
       "      <td>1000</td>\n",
       "      <td>2018-12-27</td>\n",
       "      <td>13.66</td>\n",
       "    </tr>\n",
       "    <tr>\n",
       "      <th>2</th>\n",
       "      <td>1000_247</td>\n",
       "      <td>1000</td>\n",
       "      <td>2018-12-27</td>\n",
       "      <td>14.48</td>\n",
       "    </tr>\n",
       "    <tr>\n",
       "      <th>3</th>\n",
       "      <td>1000_309</td>\n",
       "      <td>1000</td>\n",
       "      <td>2018-12-28</td>\n",
       "      <td>5.76</td>\n",
       "    </tr>\n",
       "    <tr>\n",
       "      <th>4</th>\n",
       "      <td>1000_380</td>\n",
       "      <td>1000</td>\n",
       "      <td>2018-12-30</td>\n",
       "      <td>4.22</td>\n",
       "    </tr>\n",
       "    <tr>\n",
       "      <th>5</th>\n",
       "      <td>1000_388</td>\n",
       "      <td>1000</td>\n",
       "      <td>2018-12-31</td>\n",
       "      <td>2.20</td>\n",
       "    </tr>\n",
       "    <tr>\n",
       "      <th>6</th>\n",
       "      <td>1000_510</td>\n",
       "      <td>1000</td>\n",
       "      <td>2018-12-27</td>\n",
       "      <td>5.75</td>\n",
       "    </tr>\n",
       "    <tr>\n",
       "      <th>7</th>\n",
       "      <td>1000_521</td>\n",
       "      <td>1000</td>\n",
       "      <td>2018-12-28</td>\n",
       "      <td>14.18</td>\n",
       "    </tr>\n",
       "    <tr>\n",
       "      <th>8</th>\n",
       "      <td>1000_530</td>\n",
       "      <td>1000</td>\n",
       "      <td>2018-12-28</td>\n",
       "      <td>5.77</td>\n",
       "    </tr>\n",
       "    <tr>\n",
       "      <th>9</th>\n",
       "      <td>1000_544</td>\n",
       "      <td>1000</td>\n",
       "      <td>2018-12-26</td>\n",
       "      <td>4.40</td>\n",
       "    </tr>\n",
       "  </tbody>\n",
       "</table>\n",
       "</div>"
      ],
      "text/plain": [
       "         id  user_id   call_date  duration\n",
       "0   1000_93     1000  2018-12-27      8.52\n",
       "1  1000_145     1000  2018-12-27     13.66\n",
       "2  1000_247     1000  2018-12-27     14.48\n",
       "3  1000_309     1000  2018-12-28      5.76\n",
       "4  1000_380     1000  2018-12-30      4.22\n",
       "5  1000_388     1000  2018-12-31      2.20\n",
       "6  1000_510     1000  2018-12-27      5.75\n",
       "7  1000_521     1000  2018-12-28     14.18\n",
       "8  1000_530     1000  2018-12-28      5.77\n",
       "9  1000_544     1000  2018-12-26      4.40"
      ]
     },
     "execution_count": 9,
     "metadata": {},
     "output_type": "execute_result"
    }
   ],
   "source": [
    "calls.head(10)"
   ]
  },
  {
   "cell_type": "code",
   "execution_count": 10,
   "metadata": {},
   "outputs": [
    {
     "name": "stdout",
     "output_type": "stream",
     "text": [
      "<class 'pandas.core.frame.DataFrame'>\n",
      "RangeIndex: 137735 entries, 0 to 137734\n",
      "Data columns (total 4 columns):\n",
      " #   Column     Non-Null Count   Dtype  \n",
      "---  ------     --------------   -----  \n",
      " 0   id         137735 non-null  object \n",
      " 1   user_id    137735 non-null  int64  \n",
      " 2   call_date  137735 non-null  object \n",
      " 3   duration   137735 non-null  float64\n",
      "dtypes: float64(1), int64(1), object(2)\n",
      "memory usage: 4.2+ MB\n"
     ]
    }
   ],
   "source": [
    "calls.info()"
   ]
  },
  {
   "attachments": {},
   "cell_type": "markdown",
   "metadata": {},
   "source": [
    "En esta tabla, tenemos lo siguiente:\n",
    "* `id` no parece mostrar problemas.\n",
    "* `user_id` no parece mostrar problemas.\n",
    "* `call_date` necesita un cambio de formato a fechas para un mejor análisis.\n",
    "* `duration` no parece tener problemas.\n",
    "\n",
    "En este caso, no tenemos más tipos de datos por explorar y no parecen tener problemas. Solo un pequeño detalle en la descripción nos alerta sobre las llamadas de 0.0 de duración. Por ahora, continuamos con la siguiente tabla."
   ]
  },
  {
   "attachments": {},
   "cell_type": "markdown",
   "metadata": {},
   "source": [
    "**Exploración inicial de la tabla `messages`**"
   ]
  },
  {
   "attachments": {},
   "cell_type": "markdown",
   "metadata": {},
   "source": [
    "Este dataset tiene la siguiente información:\n",
    "* `id`: identificador único del SMS.\n",
    "* `message_date`: fecha del SMS.\n",
    "* `user_id`: identificador del usuario que manda el SMS.\n",
    "\n",
    "A continuación, obtenemos los principales datos de la tabla:"
   ]
  },
  {
   "cell_type": "code",
   "execution_count": 11,
   "metadata": {},
   "outputs": [
    {
     "data": {
      "text/html": [
       "<div>\n",
       "<style scoped>\n",
       "    .dataframe tbody tr th:only-of-type {\n",
       "        vertical-align: middle;\n",
       "    }\n",
       "\n",
       "    .dataframe tbody tr th {\n",
       "        vertical-align: top;\n",
       "    }\n",
       "\n",
       "    .dataframe thead th {\n",
       "        text-align: right;\n",
       "    }\n",
       "</style>\n",
       "<table border=\"1\" class=\"dataframe\">\n",
       "  <thead>\n",
       "    <tr style=\"text-align: right;\">\n",
       "      <th></th>\n",
       "      <th>user_id</th>\n",
       "    </tr>\n",
       "  </thead>\n",
       "  <tbody>\n",
       "    <tr>\n",
       "      <th>count</th>\n",
       "      <td>76051.000000</td>\n",
       "    </tr>\n",
       "    <tr>\n",
       "      <th>mean</th>\n",
       "      <td>1245.972768</td>\n",
       "    </tr>\n",
       "    <tr>\n",
       "      <th>std</th>\n",
       "      <td>139.843635</td>\n",
       "    </tr>\n",
       "    <tr>\n",
       "      <th>min</th>\n",
       "      <td>1000.000000</td>\n",
       "    </tr>\n",
       "    <tr>\n",
       "      <th>25%</th>\n",
       "      <td>1123.000000</td>\n",
       "    </tr>\n",
       "    <tr>\n",
       "      <th>50%</th>\n",
       "      <td>1251.000000</td>\n",
       "    </tr>\n",
       "    <tr>\n",
       "      <th>75%</th>\n",
       "      <td>1362.000000</td>\n",
       "    </tr>\n",
       "    <tr>\n",
       "      <th>max</th>\n",
       "      <td>1497.000000</td>\n",
       "    </tr>\n",
       "  </tbody>\n",
       "</table>\n",
       "</div>"
      ],
      "text/plain": [
       "            user_id\n",
       "count  76051.000000\n",
       "mean    1245.972768\n",
       "std      139.843635\n",
       "min     1000.000000\n",
       "25%     1123.000000\n",
       "50%     1251.000000\n",
       "75%     1362.000000\n",
       "max     1497.000000"
      ]
     },
     "execution_count": 11,
     "metadata": {},
     "output_type": "execute_result"
    }
   ],
   "source": [
    "messages.describe()"
   ]
  },
  {
   "cell_type": "code",
   "execution_count": 12,
   "metadata": {},
   "outputs": [
    {
     "data": {
      "text/html": [
       "<div>\n",
       "<style scoped>\n",
       "    .dataframe tbody tr th:only-of-type {\n",
       "        vertical-align: middle;\n",
       "    }\n",
       "\n",
       "    .dataframe tbody tr th {\n",
       "        vertical-align: top;\n",
       "    }\n",
       "\n",
       "    .dataframe thead th {\n",
       "        text-align: right;\n",
       "    }\n",
       "</style>\n",
       "<table border=\"1\" class=\"dataframe\">\n",
       "  <thead>\n",
       "    <tr style=\"text-align: right;\">\n",
       "      <th></th>\n",
       "      <th>id</th>\n",
       "      <th>user_id</th>\n",
       "      <th>message_date</th>\n",
       "    </tr>\n",
       "  </thead>\n",
       "  <tbody>\n",
       "    <tr>\n",
       "      <th>0</th>\n",
       "      <td>1000_125</td>\n",
       "      <td>1000</td>\n",
       "      <td>2018-12-27</td>\n",
       "    </tr>\n",
       "    <tr>\n",
       "      <th>1</th>\n",
       "      <td>1000_160</td>\n",
       "      <td>1000</td>\n",
       "      <td>2018-12-31</td>\n",
       "    </tr>\n",
       "    <tr>\n",
       "      <th>2</th>\n",
       "      <td>1000_223</td>\n",
       "      <td>1000</td>\n",
       "      <td>2018-12-31</td>\n",
       "    </tr>\n",
       "    <tr>\n",
       "      <th>3</th>\n",
       "      <td>1000_251</td>\n",
       "      <td>1000</td>\n",
       "      <td>2018-12-27</td>\n",
       "    </tr>\n",
       "    <tr>\n",
       "      <th>4</th>\n",
       "      <td>1000_255</td>\n",
       "      <td>1000</td>\n",
       "      <td>2018-12-26</td>\n",
       "    </tr>\n",
       "    <tr>\n",
       "      <th>5</th>\n",
       "      <td>1000_346</td>\n",
       "      <td>1000</td>\n",
       "      <td>2018-12-29</td>\n",
       "    </tr>\n",
       "    <tr>\n",
       "      <th>6</th>\n",
       "      <td>1000_386</td>\n",
       "      <td>1000</td>\n",
       "      <td>2018-12-30</td>\n",
       "    </tr>\n",
       "    <tr>\n",
       "      <th>7</th>\n",
       "      <td>1000_413</td>\n",
       "      <td>1000</td>\n",
       "      <td>2018-12-31</td>\n",
       "    </tr>\n",
       "    <tr>\n",
       "      <th>8</th>\n",
       "      <td>1000_502</td>\n",
       "      <td>1000</td>\n",
       "      <td>2018-12-27</td>\n",
       "    </tr>\n",
       "    <tr>\n",
       "      <th>9</th>\n",
       "      <td>1000_525</td>\n",
       "      <td>1000</td>\n",
       "      <td>2018-12-28</td>\n",
       "    </tr>\n",
       "  </tbody>\n",
       "</table>\n",
       "</div>"
      ],
      "text/plain": [
       "         id  user_id message_date\n",
       "0  1000_125     1000   2018-12-27\n",
       "1  1000_160     1000   2018-12-31\n",
       "2  1000_223     1000   2018-12-31\n",
       "3  1000_251     1000   2018-12-27\n",
       "4  1000_255     1000   2018-12-26\n",
       "5  1000_346     1000   2018-12-29\n",
       "6  1000_386     1000   2018-12-30\n",
       "7  1000_413     1000   2018-12-31\n",
       "8  1000_502     1000   2018-12-27\n",
       "9  1000_525     1000   2018-12-28"
      ]
     },
     "execution_count": 12,
     "metadata": {},
     "output_type": "execute_result"
    }
   ],
   "source": [
    "messages.head(10)"
   ]
  },
  {
   "cell_type": "code",
   "execution_count": 13,
   "metadata": {},
   "outputs": [
    {
     "name": "stdout",
     "output_type": "stream",
     "text": [
      "<class 'pandas.core.frame.DataFrame'>\n",
      "RangeIndex: 76051 entries, 0 to 76050\n",
      "Data columns (total 3 columns):\n",
      " #   Column        Non-Null Count  Dtype \n",
      "---  ------        --------------  ----- \n",
      " 0   id            76051 non-null  object\n",
      " 1   user_id       76051 non-null  int64 \n",
      " 2   message_date  76051 non-null  object\n",
      "dtypes: int64(1), object(2)\n",
      "memory usage: 1.7+ MB\n"
     ]
    }
   ],
   "source": [
    "messages.info()"
   ]
  },
  {
   "attachments": {},
   "cell_type": "markdown",
   "metadata": {},
   "source": [
    "En esta tabla notamos lo siguiente:\n",
    "* `id` no parece mostrar problemas.\n",
    "* `message_date` necesita un cambio de formato a fecha para que sea coherente y útil.\n",
    "* `user_id` no parece tener problemas, excepto el hecho de que no aparecen los usuarios con código 1498 y 1499. Una hipótesis al respecto es que estos usuarios no usaron los SMS para comunicarse en este periodo de tiempo.\n",
    "\n",
    "Ya que esta tabla no aparenta tener más problemas, continuamos con la siguiente."
   ]
  },
  {
   "attachments": {},
   "cell_type": "markdown",
   "metadata": {},
   "source": [
    "**Exploración inicial de la tabla `internet`**"
   ]
  },
  {
   "attachments": {},
   "cell_type": "markdown",
   "metadata": {},
   "source": [
    "En esta tabla tenemos la siguiente información:\n",
    "* `id`: identificador único de la sesión.\n",
    "* `mb_used`: volumen de datos gastados durante la sesión (en MB).\n",
    "* `session_date`: fecha de la sesión web.\n",
    "* `user_id`: identificador del usuario.\n",
    "\n",
    "Continuamos con explorar los datos de la tabla:"
   ]
  },
  {
   "cell_type": "code",
   "execution_count": 14,
   "metadata": {},
   "outputs": [
    {
     "data": {
      "text/html": [
       "<div>\n",
       "<style scoped>\n",
       "    .dataframe tbody tr th:only-of-type {\n",
       "        vertical-align: middle;\n",
       "    }\n",
       "\n",
       "    .dataframe tbody tr th {\n",
       "        vertical-align: top;\n",
       "    }\n",
       "\n",
       "    .dataframe thead th {\n",
       "        text-align: right;\n",
       "    }\n",
       "</style>\n",
       "<table border=\"1\" class=\"dataframe\">\n",
       "  <thead>\n",
       "    <tr style=\"text-align: right;\">\n",
       "      <th></th>\n",
       "      <th>user_id</th>\n",
       "      <th>mb_used</th>\n",
       "    </tr>\n",
       "  </thead>\n",
       "  <tbody>\n",
       "    <tr>\n",
       "      <th>count</th>\n",
       "      <td>104825.000000</td>\n",
       "      <td>104825.000000</td>\n",
       "    </tr>\n",
       "    <tr>\n",
       "      <th>mean</th>\n",
       "      <td>1242.496361</td>\n",
       "      <td>366.713701</td>\n",
       "    </tr>\n",
       "    <tr>\n",
       "      <th>std</th>\n",
       "      <td>142.053913</td>\n",
       "      <td>277.170542</td>\n",
       "    </tr>\n",
       "    <tr>\n",
       "      <th>min</th>\n",
       "      <td>1000.000000</td>\n",
       "      <td>0.000000</td>\n",
       "    </tr>\n",
       "    <tr>\n",
       "      <th>25%</th>\n",
       "      <td>1122.000000</td>\n",
       "      <td>136.080000</td>\n",
       "    </tr>\n",
       "    <tr>\n",
       "      <th>50%</th>\n",
       "      <td>1236.000000</td>\n",
       "      <td>343.980000</td>\n",
       "    </tr>\n",
       "    <tr>\n",
       "      <th>75%</th>\n",
       "      <td>1367.000000</td>\n",
       "      <td>554.610000</td>\n",
       "    </tr>\n",
       "    <tr>\n",
       "      <th>max</th>\n",
       "      <td>1499.000000</td>\n",
       "      <td>1693.470000</td>\n",
       "    </tr>\n",
       "  </tbody>\n",
       "</table>\n",
       "</div>"
      ],
      "text/plain": [
       "             user_id        mb_used\n",
       "count  104825.000000  104825.000000\n",
       "mean     1242.496361     366.713701\n",
       "std       142.053913     277.170542\n",
       "min      1000.000000       0.000000\n",
       "25%      1122.000000     136.080000\n",
       "50%      1236.000000     343.980000\n",
       "75%      1367.000000     554.610000\n",
       "max      1499.000000    1693.470000"
      ]
     },
     "execution_count": 14,
     "metadata": {},
     "output_type": "execute_result"
    }
   ],
   "source": [
    "internet.describe()"
   ]
  },
  {
   "cell_type": "code",
   "execution_count": 15,
   "metadata": {},
   "outputs": [
    {
     "data": {
      "text/html": [
       "<div>\n",
       "<style scoped>\n",
       "    .dataframe tbody tr th:only-of-type {\n",
       "        vertical-align: middle;\n",
       "    }\n",
       "\n",
       "    .dataframe tbody tr th {\n",
       "        vertical-align: top;\n",
       "    }\n",
       "\n",
       "    .dataframe thead th {\n",
       "        text-align: right;\n",
       "    }\n",
       "</style>\n",
       "<table border=\"1\" class=\"dataframe\">\n",
       "  <thead>\n",
       "    <tr style=\"text-align: right;\">\n",
       "      <th></th>\n",
       "      <th>id</th>\n",
       "      <th>user_id</th>\n",
       "      <th>session_date</th>\n",
       "      <th>mb_used</th>\n",
       "    </tr>\n",
       "  </thead>\n",
       "  <tbody>\n",
       "    <tr>\n",
       "      <th>0</th>\n",
       "      <td>1000_13</td>\n",
       "      <td>1000</td>\n",
       "      <td>2018-12-29</td>\n",
       "      <td>89.86</td>\n",
       "    </tr>\n",
       "    <tr>\n",
       "      <th>1</th>\n",
       "      <td>1000_204</td>\n",
       "      <td>1000</td>\n",
       "      <td>2018-12-31</td>\n",
       "      <td>0.00</td>\n",
       "    </tr>\n",
       "    <tr>\n",
       "      <th>2</th>\n",
       "      <td>1000_379</td>\n",
       "      <td>1000</td>\n",
       "      <td>2018-12-28</td>\n",
       "      <td>660.40</td>\n",
       "    </tr>\n",
       "    <tr>\n",
       "      <th>3</th>\n",
       "      <td>1000_413</td>\n",
       "      <td>1000</td>\n",
       "      <td>2018-12-26</td>\n",
       "      <td>270.99</td>\n",
       "    </tr>\n",
       "    <tr>\n",
       "      <th>4</th>\n",
       "      <td>1000_442</td>\n",
       "      <td>1000</td>\n",
       "      <td>2018-12-27</td>\n",
       "      <td>880.22</td>\n",
       "    </tr>\n",
       "    <tr>\n",
       "      <th>5</th>\n",
       "      <td>1001_0</td>\n",
       "      <td>1001</td>\n",
       "      <td>2018-08-24</td>\n",
       "      <td>284.68</td>\n",
       "    </tr>\n",
       "    <tr>\n",
       "      <th>6</th>\n",
       "      <td>1001_3</td>\n",
       "      <td>1001</td>\n",
       "      <td>2018-12-09</td>\n",
       "      <td>656.04</td>\n",
       "    </tr>\n",
       "    <tr>\n",
       "      <th>7</th>\n",
       "      <td>1001_4</td>\n",
       "      <td>1001</td>\n",
       "      <td>2018-11-04</td>\n",
       "      <td>16.97</td>\n",
       "    </tr>\n",
       "    <tr>\n",
       "      <th>8</th>\n",
       "      <td>1001_10</td>\n",
       "      <td>1001</td>\n",
       "      <td>2018-11-27</td>\n",
       "      <td>135.18</td>\n",
       "    </tr>\n",
       "    <tr>\n",
       "      <th>9</th>\n",
       "      <td>1001_15</td>\n",
       "      <td>1001</td>\n",
       "      <td>2018-12-13</td>\n",
       "      <td>761.92</td>\n",
       "    </tr>\n",
       "  </tbody>\n",
       "</table>\n",
       "</div>"
      ],
      "text/plain": [
       "         id  user_id session_date  mb_used\n",
       "0   1000_13     1000   2018-12-29    89.86\n",
       "1  1000_204     1000   2018-12-31     0.00\n",
       "2  1000_379     1000   2018-12-28   660.40\n",
       "3  1000_413     1000   2018-12-26   270.99\n",
       "4  1000_442     1000   2018-12-27   880.22\n",
       "5    1001_0     1001   2018-08-24   284.68\n",
       "6    1001_3     1001   2018-12-09   656.04\n",
       "7    1001_4     1001   2018-11-04    16.97\n",
       "8   1001_10     1001   2018-11-27   135.18\n",
       "9   1001_15     1001   2018-12-13   761.92"
      ]
     },
     "execution_count": 15,
     "metadata": {},
     "output_type": "execute_result"
    }
   ],
   "source": [
    "internet.head(10)"
   ]
  },
  {
   "cell_type": "code",
   "execution_count": 16,
   "metadata": {},
   "outputs": [
    {
     "name": "stdout",
     "output_type": "stream",
     "text": [
      "<class 'pandas.core.frame.DataFrame'>\n",
      "RangeIndex: 104825 entries, 0 to 104824\n",
      "Data columns (total 4 columns):\n",
      " #   Column        Non-Null Count   Dtype  \n",
      "---  ------        --------------   -----  \n",
      " 0   id            104825 non-null  object \n",
      " 1   user_id       104825 non-null  int64  \n",
      " 2   session_date  104825 non-null  object \n",
      " 3   mb_used       104825 non-null  float64\n",
      "dtypes: float64(1), int64(1), object(2)\n",
      "memory usage: 3.2+ MB\n"
     ]
    }
   ],
   "source": [
    "internet.info()"
   ]
  },
  {
   "attachments": {},
   "cell_type": "markdown",
   "metadata": {},
   "source": [
    "En este DataFrame, tenemos:\n",
    "* `id` no parece tener problemas.\n",
    "* `user_id` no parece mostrar problemas.\n",
    "* `session_date` podría requerir un cambio de formato a fecha para mejorar el análisis.\n",
    "* `mb_used` no parece mostrar problemas, exceptuando por la unidad de medida que podría requerir un cambio y ajuste para estar en línea con las tarifas vigentes de la empresa.\n",
    "\n",
    "Dado que no existen más columnas a analizar ni problemas aparentes, continuamos con el último set de datos."
   ]
  },
  {
   "attachments": {},
   "cell_type": "markdown",
   "metadata": {},
   "source": [
    "**Exploración inicial de la columna `plans`**"
   ]
  },
  {
   "attachments": {},
   "cell_type": "markdown",
   "metadata": {},
   "source": [
    "En este dataset, tenemos la siguiente información:\n",
    "* `plan_name`: nombre de la tarifa.\n",
    "* `usd_monthly_fee`: pago mensual en dólares estadounidenses.\n",
    "* `minutes_included`: minutos incluidos al mes.\n",
    "* `messages_included`: SMS incluidos al mes.\n",
    "* `mb_per_month_included`: datos incluidos al mes (en MB).\n",
    "* `usd_per_minute`: precio por minuto tras exceder los límites del paquete.\n",
    "* `usd_per_message`: precio por SMS tras exceder los límites del paquete.\n",
    "* `usd_per_gb`: precio por gigabyte de los datos extra tras exceder los límites del paquete.\n",
    "\n",
    "En base a esta información, exploramos la tabla:"
   ]
  },
  {
   "cell_type": "code",
   "execution_count": 17,
   "metadata": {},
   "outputs": [
    {
     "data": {
      "text/html": [
       "<div>\n",
       "<style scoped>\n",
       "    .dataframe tbody tr th:only-of-type {\n",
       "        vertical-align: middle;\n",
       "    }\n",
       "\n",
       "    .dataframe tbody tr th {\n",
       "        vertical-align: top;\n",
       "    }\n",
       "\n",
       "    .dataframe thead th {\n",
       "        text-align: right;\n",
       "    }\n",
       "</style>\n",
       "<table border=\"1\" class=\"dataframe\">\n",
       "  <thead>\n",
       "    <tr style=\"text-align: right;\">\n",
       "      <th></th>\n",
       "      <th>messages_included</th>\n",
       "      <th>mb_per_month_included</th>\n",
       "      <th>minutes_included</th>\n",
       "      <th>usd_monthly_pay</th>\n",
       "      <th>usd_per_gb</th>\n",
       "      <th>usd_per_message</th>\n",
       "      <th>usd_per_minute</th>\n",
       "    </tr>\n",
       "  </thead>\n",
       "  <tbody>\n",
       "    <tr>\n",
       "      <th>count</th>\n",
       "      <td>2.000000</td>\n",
       "      <td>2.000000</td>\n",
       "      <td>2.000000</td>\n",
       "      <td>2.000000</td>\n",
       "      <td>2.00000</td>\n",
       "      <td>2.000000</td>\n",
       "      <td>2.000000</td>\n",
       "    </tr>\n",
       "    <tr>\n",
       "      <th>mean</th>\n",
       "      <td>525.000000</td>\n",
       "      <td>23040.000000</td>\n",
       "      <td>1750.000000</td>\n",
       "      <td>45.000000</td>\n",
       "      <td>8.50000</td>\n",
       "      <td>0.020000</td>\n",
       "      <td>0.020000</td>\n",
       "    </tr>\n",
       "    <tr>\n",
       "      <th>std</th>\n",
       "      <td>671.751442</td>\n",
       "      <td>10861.160159</td>\n",
       "      <td>1767.766953</td>\n",
       "      <td>35.355339</td>\n",
       "      <td>2.12132</td>\n",
       "      <td>0.014142</td>\n",
       "      <td>0.014142</td>\n",
       "    </tr>\n",
       "    <tr>\n",
       "      <th>min</th>\n",
       "      <td>50.000000</td>\n",
       "      <td>15360.000000</td>\n",
       "      <td>500.000000</td>\n",
       "      <td>20.000000</td>\n",
       "      <td>7.00000</td>\n",
       "      <td>0.010000</td>\n",
       "      <td>0.010000</td>\n",
       "    </tr>\n",
       "    <tr>\n",
       "      <th>25%</th>\n",
       "      <td>287.500000</td>\n",
       "      <td>19200.000000</td>\n",
       "      <td>1125.000000</td>\n",
       "      <td>32.500000</td>\n",
       "      <td>7.75000</td>\n",
       "      <td>0.015000</td>\n",
       "      <td>0.015000</td>\n",
       "    </tr>\n",
       "    <tr>\n",
       "      <th>50%</th>\n",
       "      <td>525.000000</td>\n",
       "      <td>23040.000000</td>\n",
       "      <td>1750.000000</td>\n",
       "      <td>45.000000</td>\n",
       "      <td>8.50000</td>\n",
       "      <td>0.020000</td>\n",
       "      <td>0.020000</td>\n",
       "    </tr>\n",
       "    <tr>\n",
       "      <th>75%</th>\n",
       "      <td>762.500000</td>\n",
       "      <td>26880.000000</td>\n",
       "      <td>2375.000000</td>\n",
       "      <td>57.500000</td>\n",
       "      <td>9.25000</td>\n",
       "      <td>0.025000</td>\n",
       "      <td>0.025000</td>\n",
       "    </tr>\n",
       "    <tr>\n",
       "      <th>max</th>\n",
       "      <td>1000.000000</td>\n",
       "      <td>30720.000000</td>\n",
       "      <td>3000.000000</td>\n",
       "      <td>70.000000</td>\n",
       "      <td>10.00000</td>\n",
       "      <td>0.030000</td>\n",
       "      <td>0.030000</td>\n",
       "    </tr>\n",
       "  </tbody>\n",
       "</table>\n",
       "</div>"
      ],
      "text/plain": [
       "       messages_included  mb_per_month_included  minutes_included  \\\n",
       "count           2.000000               2.000000          2.000000   \n",
       "mean          525.000000           23040.000000       1750.000000   \n",
       "std           671.751442           10861.160159       1767.766953   \n",
       "min            50.000000           15360.000000        500.000000   \n",
       "25%           287.500000           19200.000000       1125.000000   \n",
       "50%           525.000000           23040.000000       1750.000000   \n",
       "75%           762.500000           26880.000000       2375.000000   \n",
       "max          1000.000000           30720.000000       3000.000000   \n",
       "\n",
       "       usd_monthly_pay  usd_per_gb  usd_per_message  usd_per_minute  \n",
       "count         2.000000     2.00000         2.000000        2.000000  \n",
       "mean         45.000000     8.50000         0.020000        0.020000  \n",
       "std          35.355339     2.12132         0.014142        0.014142  \n",
       "min          20.000000     7.00000         0.010000        0.010000  \n",
       "25%          32.500000     7.75000         0.015000        0.015000  \n",
       "50%          45.000000     8.50000         0.020000        0.020000  \n",
       "75%          57.500000     9.25000         0.025000        0.025000  \n",
       "max          70.000000    10.00000         0.030000        0.030000  "
      ]
     },
     "execution_count": 17,
     "metadata": {},
     "output_type": "execute_result"
    }
   ],
   "source": [
    "plans.describe()"
   ]
  },
  {
   "cell_type": "code",
   "execution_count": 18,
   "metadata": {},
   "outputs": [
    {
     "data": {
      "text/html": [
       "<div>\n",
       "<style scoped>\n",
       "    .dataframe tbody tr th:only-of-type {\n",
       "        vertical-align: middle;\n",
       "    }\n",
       "\n",
       "    .dataframe tbody tr th {\n",
       "        vertical-align: top;\n",
       "    }\n",
       "\n",
       "    .dataframe thead th {\n",
       "        text-align: right;\n",
       "    }\n",
       "</style>\n",
       "<table border=\"1\" class=\"dataframe\">\n",
       "  <thead>\n",
       "    <tr style=\"text-align: right;\">\n",
       "      <th></th>\n",
       "      <th>messages_included</th>\n",
       "      <th>mb_per_month_included</th>\n",
       "      <th>minutes_included</th>\n",
       "      <th>usd_monthly_pay</th>\n",
       "      <th>usd_per_gb</th>\n",
       "      <th>usd_per_message</th>\n",
       "      <th>usd_per_minute</th>\n",
       "      <th>plan_name</th>\n",
       "    </tr>\n",
       "  </thead>\n",
       "  <tbody>\n",
       "    <tr>\n",
       "      <th>0</th>\n",
       "      <td>50</td>\n",
       "      <td>15360</td>\n",
       "      <td>500</td>\n",
       "      <td>20</td>\n",
       "      <td>10</td>\n",
       "      <td>0.03</td>\n",
       "      <td>0.03</td>\n",
       "      <td>surf</td>\n",
       "    </tr>\n",
       "    <tr>\n",
       "      <th>1</th>\n",
       "      <td>1000</td>\n",
       "      <td>30720</td>\n",
       "      <td>3000</td>\n",
       "      <td>70</td>\n",
       "      <td>7</td>\n",
       "      <td>0.01</td>\n",
       "      <td>0.01</td>\n",
       "      <td>ultimate</td>\n",
       "    </tr>\n",
       "  </tbody>\n",
       "</table>\n",
       "</div>"
      ],
      "text/plain": [
       "   messages_included  mb_per_month_included  minutes_included  \\\n",
       "0                 50                  15360               500   \n",
       "1               1000                  30720              3000   \n",
       "\n",
       "   usd_monthly_pay  usd_per_gb  usd_per_message  usd_per_minute plan_name  \n",
       "0               20          10             0.03            0.03      surf  \n",
       "1               70           7             0.01            0.01  ultimate  "
      ]
     },
     "execution_count": 18,
     "metadata": {},
     "output_type": "execute_result"
    }
   ],
   "source": [
    "plans.head(10)"
   ]
  },
  {
   "cell_type": "code",
   "execution_count": 19,
   "metadata": {},
   "outputs": [
    {
     "name": "stdout",
     "output_type": "stream",
     "text": [
      "<class 'pandas.core.frame.DataFrame'>\n",
      "RangeIndex: 2 entries, 0 to 1\n",
      "Data columns (total 8 columns):\n",
      " #   Column                 Non-Null Count  Dtype  \n",
      "---  ------                 --------------  -----  \n",
      " 0   messages_included      2 non-null      int64  \n",
      " 1   mb_per_month_included  2 non-null      int64  \n",
      " 2   minutes_included       2 non-null      int64  \n",
      " 3   usd_monthly_pay        2 non-null      int64  \n",
      " 4   usd_per_gb             2 non-null      int64  \n",
      " 5   usd_per_message        2 non-null      float64\n",
      " 6   usd_per_minute         2 non-null      float64\n",
      " 7   plan_name              2 non-null      object \n",
      "dtypes: float64(2), int64(5), object(1)\n",
      "memory usage: 256.0+ bytes\n"
     ]
    }
   ],
   "source": [
    "plans.info()"
   ]
  },
  {
   "attachments": {},
   "cell_type": "markdown",
   "metadata": {},
   "source": [
    "No es necesario hacer un análisis por columna debido a que esta tabla tiene información sobre los planes y lo que integran. No existen datos faltantes, y se podría necesitar una corrección para los MB descritos en la tabla.\n",
    "\n",
    "Sobre los planes, esta es su descripción:\n",
    "\n",
    "**Surf**\n",
    "<br>Pago mensual: 20$\n",
    "<br>500 minutos al mes, 50 SMS y 15 GB de datos\n",
    "<br>Si se exceden los límites del paquete:\n",
    "<br>1 minuto: 3 centavos\n",
    "<br>1 SMS: 3 centavos\n",
    "<br>1 GB de datos: 10$\n",
    "\n",
    "**Ultimate**\n",
    "<br>Pago mensual: 70$\n",
    "<br>3000 minutos al mes, 1000 SMS y 30 GB de datos\n",
    "<br>Si se exceden los límites del paquete:\n",
    "<br>1 minuto: 1 centavo\n",
    "<br>1 SMS: 1 centavo\n",
    "<br>1 GB de datos: 7$\n",
    "\n",
    "Ya que no precisamos de realizar más exploraciones por ahora, continuaremos con el preprocesamiento de los datos, sin antes dar las conclusiones del apartado."
   ]
  },
  {
   "attachments": {},
   "cell_type": "markdown",
   "metadata": {},
   "source": [
    "## Conclusiones del apartado <a id='a3'></a>"
   ]
  },
  {
   "attachments": {},
   "cell_type": "markdown",
   "metadata": {},
   "source": [
    "De todos los DataFrames analizados, tenemos las siguientes conclusiones:\n",
    "\n",
    "Nuestras tablas, en general, no cuentan con grandes problemas relacionados a datos ausentes. Estas tablas tienen la información necesaria para poder realizar el análisis requerido. \n",
    "* La tabla `users` solo requiere corregir el formato hacia fechas, posiblemente también se necesite obtener información resumida sobre las ciudades, y tratar los valores ausentes relacionados a los clientes que aún tienen un plan activo.\n",
    "* La tabla `calls` también requiere la correción de fechas, una revisión de las llamadas de 0 de duración y convertir la duración de las llamadas hacia la forma en que el tarifario de la empresa funciona.\n",
    "* La tabla `messages` solo precisa de corregir el formato de fechas.\n",
    "* La tabla `internet` requiere corregir el formato de fechas y la unidad de medida de MB hacia GB.\n",
    "* La tabla `plans` solo requiere cambios en la unidad de medida de MB hacia GB."
   ]
  },
  {
   "attachments": {},
   "cell_type": "markdown",
   "metadata": {},
   "source": [
    "# Preprocesamiento de datos <a id='b'></a>"
   ]
  },
  {
   "attachments": {},
   "cell_type": "markdown",
   "metadata": {},
   "source": [
    "En este apartado continuaremos con el esquema por tablas, realizando en tratamiento necesario para cada caso en base a las conclusiones del último apartado. Empezaremos con la tabla `users`."
   ]
  },
  {
   "attachments": {},
   "cell_type": "markdown",
   "metadata": {},
   "source": [
    "## Corregir y enriquecer datos de `users` <a id='b1'></a>"
   ]
  },
  {
   "attachments": {},
   "cell_type": "markdown",
   "metadata": {},
   "source": [
    "Recordemos que esta columna requería de corregir el formato de fechas de su columna `reg_date` y `churn_date`, a la vez que esta última presentaba valores ausentes de los que sabemos su naturaleza de origen. Empezaremos con `reg_date`:"
   ]
  },
  {
   "cell_type": "code",
   "execution_count": 20,
   "metadata": {},
   "outputs": [
    {
     "data": {
      "text/plain": [
       "0   2018-12-24\n",
       "1   2018-08-13\n",
       "2   2018-10-21\n",
       "3   2018-01-28\n",
       "4   2018-05-23\n",
       "Name: reg_date, dtype: datetime64[ns]"
      ]
     },
     "execution_count": 20,
     "metadata": {},
     "output_type": "execute_result"
    }
   ],
   "source": [
    "users['reg_date'] = pd.to_datetime(users['reg_date'], format='%Y-%m-%d') # cambia hacia formato fecha\n",
    "users['reg_date'].head()"
   ]
  },
  {
   "attachments": {},
   "cell_type": "markdown",
   "metadata": {},
   "source": [
    "Una vez comprobado que la transformación fue efectiva, continuamos con `churn_date`:"
   ]
  },
  {
   "cell_type": "code",
   "execution_count": 21,
   "metadata": {},
   "outputs": [
    {
     "data": {
      "text/plain": [
       "0   NaT\n",
       "1   NaT\n",
       "2   NaT\n",
       "3   NaT\n",
       "4   NaT\n",
       "Name: churn_date, dtype: datetime64[ns]"
      ]
     },
     "execution_count": 21,
     "metadata": {},
     "output_type": "execute_result"
    }
   ],
   "source": [
    "users['churn_date'] = pd.to_datetime(users['churn_date'], format='%Y-%m-%d') # cambia hacia formato fecha\n",
    "users['churn_date'].head()"
   ]
  },
  {
   "attachments": {},
   "cell_type": "markdown",
   "metadata": {},
   "source": [
    "Recordamos también que esta columna en su mayor parte cuenta con valores ausentes debido a que solo se registra para casos en donde los cientes dejaron de usar su respectivo plan. Por ahora no requerimos informacióna cerca de esta columna, así que la dejaremos con esa información. \n",
    "\n",
    "Contaremos si esta columna cuenta con duplicados explícitos como último paso:"
   ]
  },
  {
   "cell_type": "code",
   "execution_count": 22,
   "metadata": {},
   "outputs": [
    {
     "data": {
      "text/plain": [
       "0"
      ]
     },
     "execution_count": 22,
     "metadata": {},
     "output_type": "execute_result"
    }
   ],
   "source": [
    "users.duplicated().sum() # suma total de duplicados explícitos"
   ]
  },
  {
   "attachments": {},
   "cell_type": "markdown",
   "metadata": {},
   "source": [
    "Por ahora, corregimos las columnas y continuaremos con la siguiente tabla."
   ]
  },
  {
   "attachments": {},
   "cell_type": "markdown",
   "metadata": {},
   "source": [
    "## Corregir y enriquecer datos de `calls` <a id='b2'></a>"
   ]
  },
  {
   "attachments": {},
   "cell_type": "markdown",
   "metadata": {},
   "source": [
    "Recordemos que esta tabla requería corregir el formato de fechas de su columna `call_date`. Ese será el primer cambio que realizaremos a continuación:"
   ]
  },
  {
   "cell_type": "code",
   "execution_count": 23,
   "metadata": {},
   "outputs": [
    {
     "data": {
      "text/plain": [
       "0   2018-12-27\n",
       "1   2018-12-27\n",
       "2   2018-12-27\n",
       "3   2018-12-28\n",
       "4   2018-12-30\n",
       "Name: call_date, dtype: datetime64[ns]"
      ]
     },
     "execution_count": 23,
     "metadata": {},
     "output_type": "execute_result"
    }
   ],
   "source": [
    "calls['call_date'] = pd.to_datetime(calls['call_date'], format='%Y-%m-%d') # cambia a formato fecha\n",
    "calls['call_date'].head()"
   ]
  },
  {
   "attachments": {},
   "cell_type": "markdown",
   "metadata": {},
   "source": [
    "Ahora que este problema está corregido, otro problema presente era que teníamos llamadas de 0.0 minutos de duración, de los cuales se sospecha que se tratan de llamadas perdidas. Este tipo de llamadas debería tener una frecuencia considerable si siguiera ese comportamiento. En ese caso, llamaremos a la columna correspondiente en porcentajes para obtener la frecuencia:"
   ]
  },
  {
   "cell_type": "code",
   "execution_count": 24,
   "metadata": {},
   "outputs": [
    {
     "data": {
      "text/plain": [
       "0.00    0.194823\n",
       "4.02    0.000741\n",
       "8.37    0.000741\n",
       "3.91    0.000733\n",
       "4.30    0.000726\n",
       "Name: duration, dtype: float64"
      ]
     },
     "execution_count": 24,
     "metadata": {},
     "output_type": "execute_result"
    }
   ],
   "source": [
    "calls['duration'].value_counts(normalize=True).head() # valores más frecuentes en porcentaje"
   ]
  },
  {
   "attachments": {},
   "cell_type": "markdown",
   "metadata": {},
   "source": [
    "Tal como se sospechaba, un 19 % de estos datos corresponden a ese tipo de llamadas de duración anormal. Si analizamos un poco, este tipo de llamadas no se suman al tarifario de planes ni a los costos extra de la empresa, es decir, no se traduce en ingresos reales en la empresa. Por tanto, se trata de información no relevante para el análisis. Tener en cuenta estos datos en adelante podría sesgar o distorsionar nuestas conclusiones, indicadores y coeficientes que podríamos obtener en el futuro. Debido a eso, concluimos que continuaremos nuestro análisis prescindiendo de estas filas donde la duración de la llamada sea igual a 0.0 minutos."
   ]
  },
  {
   "cell_type": "code",
   "execution_count": 25,
   "metadata": {},
   "outputs": [
    {
     "data": {
      "text/plain": [
       "8.37    0.000920\n",
       "4.02    0.000920\n",
       "3.91    0.000911\n",
       "7.61    0.000902\n",
       "4.30    0.000902\n",
       "Name: duration, dtype: float64"
      ]
     },
     "execution_count": 25,
     "metadata": {},
     "output_type": "execute_result"
    }
   ],
   "source": [
    "calls = calls.query(\"duration != 0\").reset_index() # filas donde duración es diferente a cero\n",
    "calls['duration'].value_counts(normalize=True).head()"
   ]
  },
  {
   "attachments": {},
   "cell_type": "markdown",
   "metadata": {},
   "source": [
    "Podemos ver que el problema está solucionado. El siguiente problema a solucionar es que recordemos que Megaline tiene un tarifario que indica que las llamadas individuales se redondean hacia arriba: un segundo ya se redondea hacia un minuto. Generaremos esta información nueva usando el método \"ceil()\" y agregando una nueva columna a esta tabla:"
   ]
  },
  {
   "cell_type": "code",
   "execution_count": 26,
   "metadata": {},
   "outputs": [
    {
     "data": {
      "text/html": [
       "<div>\n",
       "<style scoped>\n",
       "    .dataframe tbody tr th:only-of-type {\n",
       "        vertical-align: middle;\n",
       "    }\n",
       "\n",
       "    .dataframe tbody tr th {\n",
       "        vertical-align: top;\n",
       "    }\n",
       "\n",
       "    .dataframe thead th {\n",
       "        text-align: right;\n",
       "    }\n",
       "</style>\n",
       "<table border=\"1\" class=\"dataframe\">\n",
       "  <thead>\n",
       "    <tr style=\"text-align: right;\">\n",
       "      <th></th>\n",
       "      <th>index</th>\n",
       "      <th>id</th>\n",
       "      <th>user_id</th>\n",
       "      <th>call_date</th>\n",
       "      <th>duration</th>\n",
       "      <th>duration_rounded</th>\n",
       "    </tr>\n",
       "  </thead>\n",
       "  <tbody>\n",
       "    <tr>\n",
       "      <th>0</th>\n",
       "      <td>0</td>\n",
       "      <td>1000_93</td>\n",
       "      <td>1000</td>\n",
       "      <td>2018-12-27</td>\n",
       "      <td>8.52</td>\n",
       "      <td>9</td>\n",
       "    </tr>\n",
       "    <tr>\n",
       "      <th>1</th>\n",
       "      <td>1</td>\n",
       "      <td>1000_145</td>\n",
       "      <td>1000</td>\n",
       "      <td>2018-12-27</td>\n",
       "      <td>13.66</td>\n",
       "      <td>14</td>\n",
       "    </tr>\n",
       "    <tr>\n",
       "      <th>2</th>\n",
       "      <td>2</td>\n",
       "      <td>1000_247</td>\n",
       "      <td>1000</td>\n",
       "      <td>2018-12-27</td>\n",
       "      <td>14.48</td>\n",
       "      <td>15</td>\n",
       "    </tr>\n",
       "    <tr>\n",
       "      <th>3</th>\n",
       "      <td>3</td>\n",
       "      <td>1000_309</td>\n",
       "      <td>1000</td>\n",
       "      <td>2018-12-28</td>\n",
       "      <td>5.76</td>\n",
       "      <td>6</td>\n",
       "    </tr>\n",
       "    <tr>\n",
       "      <th>4</th>\n",
       "      <td>4</td>\n",
       "      <td>1000_380</td>\n",
       "      <td>1000</td>\n",
       "      <td>2018-12-30</td>\n",
       "      <td>4.22</td>\n",
       "      <td>5</td>\n",
       "    </tr>\n",
       "  </tbody>\n",
       "</table>\n",
       "</div>"
      ],
      "text/plain": [
       "   index        id  user_id  call_date  duration  duration_rounded\n",
       "0      0   1000_93     1000 2018-12-27      8.52                 9\n",
       "1      1  1000_145     1000 2018-12-27     13.66                14\n",
       "2      2  1000_247     1000 2018-12-27     14.48                15\n",
       "3      3  1000_309     1000 2018-12-28      5.76                 6\n",
       "4      4  1000_380     1000 2018-12-30      4.22                 5"
      ]
     },
     "execution_count": 26,
     "metadata": {},
     "output_type": "execute_result"
    }
   ],
   "source": [
    "calls['duration_rounded'] = calls['duration'].apply(np.ceil).astype('int') # aplica el redondeo de numpy y lo convierte a entero\n",
    "calls.head()"
   ]
  },
  {
   "attachments": {},
   "cell_type": "markdown",
   "metadata": {},
   "source": [
    "Finalizado, también debemos tener en cuenta que se realizarán agrupaciones y resúmenes de información por meses. Entonces sería conveniente tener la columna correspondiente al mes que se podría extraer de la columna `call_date`:"
   ]
  },
  {
   "cell_type": "code",
   "execution_count": 27,
   "metadata": {},
   "outputs": [
    {
     "data": {
      "text/html": [
       "<div>\n",
       "<style scoped>\n",
       "    .dataframe tbody tr th:only-of-type {\n",
       "        vertical-align: middle;\n",
       "    }\n",
       "\n",
       "    .dataframe tbody tr th {\n",
       "        vertical-align: top;\n",
       "    }\n",
       "\n",
       "    .dataframe thead th {\n",
       "        text-align: right;\n",
       "    }\n",
       "</style>\n",
       "<table border=\"1\" class=\"dataframe\">\n",
       "  <thead>\n",
       "    <tr style=\"text-align: right;\">\n",
       "      <th></th>\n",
       "      <th>index</th>\n",
       "      <th>id</th>\n",
       "      <th>user_id</th>\n",
       "      <th>call_date</th>\n",
       "      <th>duration</th>\n",
       "      <th>duration_rounded</th>\n",
       "      <th>call_month</th>\n",
       "    </tr>\n",
       "  </thead>\n",
       "  <tbody>\n",
       "    <tr>\n",
       "      <th>0</th>\n",
       "      <td>0</td>\n",
       "      <td>1000_93</td>\n",
       "      <td>1000</td>\n",
       "      <td>2018-12-27</td>\n",
       "      <td>8.52</td>\n",
       "      <td>9</td>\n",
       "      <td>December</td>\n",
       "    </tr>\n",
       "    <tr>\n",
       "      <th>1</th>\n",
       "      <td>1</td>\n",
       "      <td>1000_145</td>\n",
       "      <td>1000</td>\n",
       "      <td>2018-12-27</td>\n",
       "      <td>13.66</td>\n",
       "      <td>14</td>\n",
       "      <td>December</td>\n",
       "    </tr>\n",
       "    <tr>\n",
       "      <th>2</th>\n",
       "      <td>2</td>\n",
       "      <td>1000_247</td>\n",
       "      <td>1000</td>\n",
       "      <td>2018-12-27</td>\n",
       "      <td>14.48</td>\n",
       "      <td>15</td>\n",
       "      <td>December</td>\n",
       "    </tr>\n",
       "    <tr>\n",
       "      <th>3</th>\n",
       "      <td>3</td>\n",
       "      <td>1000_309</td>\n",
       "      <td>1000</td>\n",
       "      <td>2018-12-28</td>\n",
       "      <td>5.76</td>\n",
       "      <td>6</td>\n",
       "      <td>December</td>\n",
       "    </tr>\n",
       "    <tr>\n",
       "      <th>4</th>\n",
       "      <td>4</td>\n",
       "      <td>1000_380</td>\n",
       "      <td>1000</td>\n",
       "      <td>2018-12-30</td>\n",
       "      <td>4.22</td>\n",
       "      <td>5</td>\n",
       "      <td>December</td>\n",
       "    </tr>\n",
       "  </tbody>\n",
       "</table>\n",
       "</div>"
      ],
      "text/plain": [
       "   index        id  user_id  call_date  duration  duration_rounded call_month\n",
       "0      0   1000_93     1000 2018-12-27      8.52                 9   December\n",
       "1      1  1000_145     1000 2018-12-27     13.66                14   December\n",
       "2      2  1000_247     1000 2018-12-27     14.48                15   December\n",
       "3      3  1000_309     1000 2018-12-28      5.76                 6   December\n",
       "4      4  1000_380     1000 2018-12-30      4.22                 5   December"
      ]
     },
     "execution_count": 27,
     "metadata": {},
     "output_type": "execute_result"
    }
   ],
   "source": [
    "calls['call_month'] = calls['call_date'].dt.month_name() # obtiene el nombre del mes\n",
    "calls.head()"
   ]
  },
  {
   "attachments": {},
   "cell_type": "markdown",
   "metadata": {},
   "source": [
    "Finalmente, veremos si existen filas duplicadas en este dataset:"
   ]
  },
  {
   "cell_type": "code",
   "execution_count": 28,
   "metadata": {},
   "outputs": [
    {
     "data": {
      "text/plain": [
       "0"
      ]
     },
     "execution_count": 28,
     "metadata": {},
     "output_type": "execute_result"
    }
   ],
   "source": [
    "calls.duplicated().sum()"
   ]
  },
  {
   "attachments": {},
   "cell_type": "markdown",
   "metadata": {},
   "source": [
    "Ahora la información de esta tabla está corregida y pasaremos a la siguiente."
   ]
  },
  {
   "attachments": {},
   "cell_type": "markdown",
   "metadata": {},
   "source": [
    "## Corregir y enriquecer datos de `messages` <a id='b3'></a>"
   ]
  },
  {
   "attachments": {},
   "cell_type": "markdown",
   "metadata": {},
   "source": [
    "En las conclusiones mencionamos que esta tabla solo necesitaba corregir la columna `message_date` hacia el formato de fecha:"
   ]
  },
  {
   "cell_type": "code",
   "execution_count": 29,
   "metadata": {},
   "outputs": [
    {
     "data": {
      "text/plain": [
       "0   2018-12-27\n",
       "1   2018-12-31\n",
       "2   2018-12-31\n",
       "3   2018-12-27\n",
       "4   2018-12-26\n",
       "Name: message_date, dtype: datetime64[ns]"
      ]
     },
     "execution_count": 29,
     "metadata": {},
     "output_type": "execute_result"
    }
   ],
   "source": [
    "messages['message_date'] = pd.to_datetime(messages['message_date'], format='%Y-%m-%d') # cambio a formato fecha\n",
    "messages['message_date'].head()"
   ]
  },
  {
   "attachments": {},
   "cell_type": "markdown",
   "metadata": {},
   "source": [
    "Una vez realizado, al igual que en la tabla anterior, es posible que necesitemos información de esta tabla en base a los meses. Obtendremos esta información agregando una nueva columna y extrayendo el mes correspondiente a ella:"
   ]
  },
  {
   "cell_type": "code",
   "execution_count": 30,
   "metadata": {},
   "outputs": [
    {
     "data": {
      "text/html": [
       "<div>\n",
       "<style scoped>\n",
       "    .dataframe tbody tr th:only-of-type {\n",
       "        vertical-align: middle;\n",
       "    }\n",
       "\n",
       "    .dataframe tbody tr th {\n",
       "        vertical-align: top;\n",
       "    }\n",
       "\n",
       "    .dataframe thead th {\n",
       "        text-align: right;\n",
       "    }\n",
       "</style>\n",
       "<table border=\"1\" class=\"dataframe\">\n",
       "  <thead>\n",
       "    <tr style=\"text-align: right;\">\n",
       "      <th></th>\n",
       "      <th>id</th>\n",
       "      <th>user_id</th>\n",
       "      <th>message_date</th>\n",
       "      <th>message_month</th>\n",
       "    </tr>\n",
       "  </thead>\n",
       "  <tbody>\n",
       "    <tr>\n",
       "      <th>0</th>\n",
       "      <td>1000_125</td>\n",
       "      <td>1000</td>\n",
       "      <td>2018-12-27</td>\n",
       "      <td>December</td>\n",
       "    </tr>\n",
       "    <tr>\n",
       "      <th>1</th>\n",
       "      <td>1000_160</td>\n",
       "      <td>1000</td>\n",
       "      <td>2018-12-31</td>\n",
       "      <td>December</td>\n",
       "    </tr>\n",
       "    <tr>\n",
       "      <th>2</th>\n",
       "      <td>1000_223</td>\n",
       "      <td>1000</td>\n",
       "      <td>2018-12-31</td>\n",
       "      <td>December</td>\n",
       "    </tr>\n",
       "    <tr>\n",
       "      <th>3</th>\n",
       "      <td>1000_251</td>\n",
       "      <td>1000</td>\n",
       "      <td>2018-12-27</td>\n",
       "      <td>December</td>\n",
       "    </tr>\n",
       "    <tr>\n",
       "      <th>4</th>\n",
       "      <td>1000_255</td>\n",
       "      <td>1000</td>\n",
       "      <td>2018-12-26</td>\n",
       "      <td>December</td>\n",
       "    </tr>\n",
       "  </tbody>\n",
       "</table>\n",
       "</div>"
      ],
      "text/plain": [
       "         id  user_id message_date message_month\n",
       "0  1000_125     1000   2018-12-27      December\n",
       "1  1000_160     1000   2018-12-31      December\n",
       "2  1000_223     1000   2018-12-31      December\n",
       "3  1000_251     1000   2018-12-27      December\n",
       "4  1000_255     1000   2018-12-26      December"
      ]
     },
     "execution_count": 30,
     "metadata": {},
     "output_type": "execute_result"
    }
   ],
   "source": [
    "messages['message_month'] = messages['message_date'].dt.month_name() # obtiene el nombre del mes\n",
    "messages.head()"
   ]
  },
  {
   "attachments": {},
   "cell_type": "markdown",
   "metadata": {},
   "source": [
    "Finalmente, comprobaremos si este DataFrame contiene filas duplicadas:"
   ]
  },
  {
   "cell_type": "code",
   "execution_count": 31,
   "metadata": {},
   "outputs": [
    {
     "data": {
      "text/plain": [
       "0"
      ]
     },
     "execution_count": 31,
     "metadata": {},
     "output_type": "execute_result"
    }
   ],
   "source": [
    "messages.duplicated().sum()"
   ]
  },
  {
   "attachments": {},
   "cell_type": "markdown",
   "metadata": {},
   "source": [
    "Ya que esta tabla está solucionada, seguimos con la próxima."
   ]
  },
  {
   "attachments": {},
   "cell_type": "markdown",
   "metadata": {},
   "source": [
    "## Corregir y enriquecer datos de ``internet`` <a id='b4'></a>"
   ]
  },
  {
   "attachments": {},
   "cell_type": "markdown",
   "metadata": {},
   "source": [
    "Esta tabla también requería cambiar formatos de fecha de su columna ``session_date``:"
   ]
  },
  {
   "cell_type": "code",
   "execution_count": 32,
   "metadata": {},
   "outputs": [
    {
     "data": {
      "text/plain": [
       "0   2018-12-29\n",
       "1   2018-12-31\n",
       "2   2018-12-28\n",
       "3   2018-12-26\n",
       "4   2018-12-27\n",
       "Name: session_date, dtype: datetime64[ns]"
      ]
     },
     "execution_count": 32,
     "metadata": {},
     "output_type": "execute_result"
    }
   ],
   "source": [
    "internet['session_date'] = pd.to_datetime(internet['session_date'], format='%Y-%m-%d') # formato fecha\n",
    "internet['session_date'].head()"
   ]
  },
  {
   "attachments": {},
   "cell_type": "markdown",
   "metadata": {},
   "source": [
    "Igual que en los anteriores casos, será necesario extraer la columna referida a los meses:"
   ]
  },
  {
   "cell_type": "code",
   "execution_count": 33,
   "metadata": {},
   "outputs": [
    {
     "data": {
      "text/html": [
       "<div>\n",
       "<style scoped>\n",
       "    .dataframe tbody tr th:only-of-type {\n",
       "        vertical-align: middle;\n",
       "    }\n",
       "\n",
       "    .dataframe tbody tr th {\n",
       "        vertical-align: top;\n",
       "    }\n",
       "\n",
       "    .dataframe thead th {\n",
       "        text-align: right;\n",
       "    }\n",
       "</style>\n",
       "<table border=\"1\" class=\"dataframe\">\n",
       "  <thead>\n",
       "    <tr style=\"text-align: right;\">\n",
       "      <th></th>\n",
       "      <th>id</th>\n",
       "      <th>user_id</th>\n",
       "      <th>session_date</th>\n",
       "      <th>mb_used</th>\n",
       "      <th>internet_month</th>\n",
       "    </tr>\n",
       "  </thead>\n",
       "  <tbody>\n",
       "    <tr>\n",
       "      <th>0</th>\n",
       "      <td>1000_13</td>\n",
       "      <td>1000</td>\n",
       "      <td>2018-12-29</td>\n",
       "      <td>89.86</td>\n",
       "      <td>December</td>\n",
       "    </tr>\n",
       "    <tr>\n",
       "      <th>1</th>\n",
       "      <td>1000_204</td>\n",
       "      <td>1000</td>\n",
       "      <td>2018-12-31</td>\n",
       "      <td>0.00</td>\n",
       "      <td>December</td>\n",
       "    </tr>\n",
       "    <tr>\n",
       "      <th>2</th>\n",
       "      <td>1000_379</td>\n",
       "      <td>1000</td>\n",
       "      <td>2018-12-28</td>\n",
       "      <td>660.40</td>\n",
       "      <td>December</td>\n",
       "    </tr>\n",
       "    <tr>\n",
       "      <th>3</th>\n",
       "      <td>1000_413</td>\n",
       "      <td>1000</td>\n",
       "      <td>2018-12-26</td>\n",
       "      <td>270.99</td>\n",
       "      <td>December</td>\n",
       "    </tr>\n",
       "    <tr>\n",
       "      <th>4</th>\n",
       "      <td>1000_442</td>\n",
       "      <td>1000</td>\n",
       "      <td>2018-12-27</td>\n",
       "      <td>880.22</td>\n",
       "      <td>December</td>\n",
       "    </tr>\n",
       "  </tbody>\n",
       "</table>\n",
       "</div>"
      ],
      "text/plain": [
       "         id  user_id session_date  mb_used internet_month\n",
       "0   1000_13     1000   2018-12-29    89.86       December\n",
       "1  1000_204     1000   2018-12-31     0.00       December\n",
       "2  1000_379     1000   2018-12-28   660.40       December\n",
       "3  1000_413     1000   2018-12-26   270.99       December\n",
       "4  1000_442     1000   2018-12-27   880.22       December"
      ]
     },
     "execution_count": 33,
     "metadata": {},
     "output_type": "execute_result"
    }
   ],
   "source": [
    "internet['internet_month'] = internet['session_date'].dt.month_name()\n",
    "internet.head()"
   ]
  },
  {
   "attachments": {},
   "cell_type": "markdown",
   "metadata": {},
   "source": [
    "En una situación similar al de las llamadas, notamos que existen valores de 0.0 MB usados. Este error pueden deberse a errores de conexión o sesiones inesperadas. En cualquier caso, es información que no será necesaria en el análisis, ya que no se traduce en ingresos para la empresa, pero probablemente sí en problemas al momento de analizar y extraer información de los datos:"
   ]
  },
  {
   "cell_type": "code",
   "execution_count": 34,
   "metadata": {},
   "outputs": [
    {
     "data": {
      "text/plain": [
       "0.00      0.131142\n",
       "435.77    0.000076\n",
       "414.46    0.000076\n",
       "423.06    0.000067\n",
       "417.46    0.000067\n",
       "Name: mb_used, dtype: float64"
      ]
     },
     "execution_count": 34,
     "metadata": {},
     "output_type": "execute_result"
    }
   ],
   "source": [
    "internet['mb_used'].value_counts(normalize=True).head()"
   ]
  },
  {
   "attachments": {},
   "cell_type": "markdown",
   "metadata": {},
   "source": [
    "Como era de esperarse, se trata de un valor frecuente, con un 13 % de incidencia. Debido a lo explicado líneas arriba, prescindiremos de estas columnas y solo nos quedaremos con un DataFrame más adecuado a las hipótesis que queremos probar:"
   ]
  },
  {
   "cell_type": "code",
   "execution_count": 35,
   "metadata": {},
   "outputs": [
    {
     "data": {
      "text/plain": [
       "414.46    0.000088\n",
       "435.77    0.000088\n",
       "417.46    0.000077\n",
       "131.28    0.000077\n",
       "313.79    0.000077\n",
       "Name: mb_used, dtype: float64"
      ]
     },
     "execution_count": 35,
     "metadata": {},
     "output_type": "execute_result"
    }
   ],
   "source": [
    "internet = internet.query('mb_used != 0').reset_index() # filtra a las filas donde mb_used es diferente de cero y restaura su índice\n",
    "internet['mb_used'].value_counts(normalize=True).head()"
   ]
  },
  {
   "attachments": {},
   "cell_type": "markdown",
   "metadata": {},
   "source": [
    "En este DataFrame también se necesitaba tomar en cuenta el tarifario de operaciones de Megaline, donde se usan GB para el conteo de internet usado, mientras que en la tabla tenemos la información en MB. Para estandarizar estas unidades de medida, usaremos la conversión: 1 GB = 1024 MB. Crearemos una nueva columna en estas unidades para facilitar los siguientes procesos:"
   ]
  },
  {
   "cell_type": "code",
   "execution_count": 36,
   "metadata": {},
   "outputs": [
    {
     "data": {
      "text/html": [
       "<div>\n",
       "<style scoped>\n",
       "    .dataframe tbody tr th:only-of-type {\n",
       "        vertical-align: middle;\n",
       "    }\n",
       "\n",
       "    .dataframe tbody tr th {\n",
       "        vertical-align: top;\n",
       "    }\n",
       "\n",
       "    .dataframe thead th {\n",
       "        text-align: right;\n",
       "    }\n",
       "</style>\n",
       "<table border=\"1\" class=\"dataframe\">\n",
       "  <thead>\n",
       "    <tr style=\"text-align: right;\">\n",
       "      <th></th>\n",
       "      <th>index</th>\n",
       "      <th>id</th>\n",
       "      <th>user_id</th>\n",
       "      <th>session_date</th>\n",
       "      <th>mb_used</th>\n",
       "      <th>internet_month</th>\n",
       "      <th>gb_used</th>\n",
       "    </tr>\n",
       "  </thead>\n",
       "  <tbody>\n",
       "    <tr>\n",
       "      <th>0</th>\n",
       "      <td>0</td>\n",
       "      <td>1000_13</td>\n",
       "      <td>1000</td>\n",
       "      <td>2018-12-29</td>\n",
       "      <td>89.86</td>\n",
       "      <td>December</td>\n",
       "      <td>0.087754</td>\n",
       "    </tr>\n",
       "    <tr>\n",
       "      <th>1</th>\n",
       "      <td>2</td>\n",
       "      <td>1000_379</td>\n",
       "      <td>1000</td>\n",
       "      <td>2018-12-28</td>\n",
       "      <td>660.40</td>\n",
       "      <td>December</td>\n",
       "      <td>0.644922</td>\n",
       "    </tr>\n",
       "    <tr>\n",
       "      <th>2</th>\n",
       "      <td>3</td>\n",
       "      <td>1000_413</td>\n",
       "      <td>1000</td>\n",
       "      <td>2018-12-26</td>\n",
       "      <td>270.99</td>\n",
       "      <td>December</td>\n",
       "      <td>0.264639</td>\n",
       "    </tr>\n",
       "    <tr>\n",
       "      <th>3</th>\n",
       "      <td>4</td>\n",
       "      <td>1000_442</td>\n",
       "      <td>1000</td>\n",
       "      <td>2018-12-27</td>\n",
       "      <td>880.22</td>\n",
       "      <td>December</td>\n",
       "      <td>0.859590</td>\n",
       "    </tr>\n",
       "    <tr>\n",
       "      <th>4</th>\n",
       "      <td>5</td>\n",
       "      <td>1001_0</td>\n",
       "      <td>1001</td>\n",
       "      <td>2018-08-24</td>\n",
       "      <td>284.68</td>\n",
       "      <td>August</td>\n",
       "      <td>0.278008</td>\n",
       "    </tr>\n",
       "  </tbody>\n",
       "</table>\n",
       "</div>"
      ],
      "text/plain": [
       "   index        id  user_id session_date  mb_used internet_month   gb_used\n",
       "0      0   1000_13     1000   2018-12-29    89.86       December  0.087754\n",
       "1      2  1000_379     1000   2018-12-28   660.40       December  0.644922\n",
       "2      3  1000_413     1000   2018-12-26   270.99       December  0.264639\n",
       "3      4  1000_442     1000   2018-12-27   880.22       December  0.859590\n",
       "4      5    1001_0     1001   2018-08-24   284.68         August  0.278008"
      ]
     },
     "execution_count": 36,
     "metadata": {},
     "output_type": "execute_result"
    }
   ],
   "source": [
    "internet['gb_used'] = internet['mb_used'] / 1024  # devuelve en GB\n",
    "internet.head()"
   ]
  },
  {
   "attachments": {},
   "cell_type": "markdown",
   "metadata": {},
   "source": [
    "Lo restante es verificar si existen duplicados explícitos en esta tabla:"
   ]
  },
  {
   "cell_type": "code",
   "execution_count": 37,
   "metadata": {},
   "outputs": [
    {
     "data": {
      "text/plain": [
       "0"
      ]
     },
     "execution_count": 37,
     "metadata": {},
     "output_type": "execute_result"
    }
   ],
   "source": [
    "internet.duplicated().sum()"
   ]
  },
  {
   "attachments": {},
   "cell_type": "markdown",
   "metadata": {},
   "source": [
    "Nos queda una tabla restante por preprocesar."
   ]
  },
  {
   "attachments": {},
   "cell_type": "markdown",
   "metadata": {},
   "source": [
    "## Corregir y enriquecer datos de ``plans`` <a id='b5'></a>"
   ]
  },
  {
   "attachments": {},
   "cell_type": "markdown",
   "metadata": {},
   "source": [
    "Esta columna no requería más tratamiento que la transformación de sus unidades de medida de manera análoga al de la última tabla de ``internet``. Para esto, actualizaremos los datos de la columna utilizando el mismo factor de conversión (1 GB = 1024 MB) y las convertiremos a enteros para comparar con los redondeos:"
   ]
  },
  {
   "cell_type": "code",
   "execution_count": 38,
   "metadata": {},
   "outputs": [],
   "source": [
    "plans['mb_per_month_included'] = (plans['mb_per_month_included'] / 1024).astype('int')  # devuelve en GB y lo convierte a entero"
   ]
  },
  {
   "attachments": {},
   "cell_type": "markdown",
   "metadata": {},
   "source": [
    "Ahora tendremos que actualizar el nombre de la columna, ya que las unidades de medida han cambiado hacia GB y mostraremos los resultados:"
   ]
  },
  {
   "cell_type": "code",
   "execution_count": 39,
   "metadata": {},
   "outputs": [
    {
     "data": {
      "text/html": [
       "<div>\n",
       "<style scoped>\n",
       "    .dataframe tbody tr th:only-of-type {\n",
       "        vertical-align: middle;\n",
       "    }\n",
       "\n",
       "    .dataframe tbody tr th {\n",
       "        vertical-align: top;\n",
       "    }\n",
       "\n",
       "    .dataframe thead th {\n",
       "        text-align: right;\n",
       "    }\n",
       "</style>\n",
       "<table border=\"1\" class=\"dataframe\">\n",
       "  <thead>\n",
       "    <tr style=\"text-align: right;\">\n",
       "      <th></th>\n",
       "      <th>messages_included</th>\n",
       "      <th>gb_per_month_included</th>\n",
       "      <th>minutes_included</th>\n",
       "      <th>usd_monthly_pay</th>\n",
       "      <th>usd_per_gb</th>\n",
       "      <th>usd_per_message</th>\n",
       "      <th>usd_per_minute</th>\n",
       "      <th>plan_name</th>\n",
       "    </tr>\n",
       "  </thead>\n",
       "  <tbody>\n",
       "    <tr>\n",
       "      <th>0</th>\n",
       "      <td>50</td>\n",
       "      <td>15</td>\n",
       "      <td>500</td>\n",
       "      <td>20</td>\n",
       "      <td>10</td>\n",
       "      <td>0.03</td>\n",
       "      <td>0.03</td>\n",
       "      <td>surf</td>\n",
       "    </tr>\n",
       "    <tr>\n",
       "      <th>1</th>\n",
       "      <td>1000</td>\n",
       "      <td>30</td>\n",
       "      <td>3000</td>\n",
       "      <td>70</td>\n",
       "      <td>7</td>\n",
       "      <td>0.01</td>\n",
       "      <td>0.01</td>\n",
       "      <td>ultimate</td>\n",
       "    </tr>\n",
       "  </tbody>\n",
       "</table>\n",
       "</div>"
      ],
      "text/plain": [
       "   messages_included  gb_per_month_included  minutes_included  \\\n",
       "0                 50                     15               500   \n",
       "1               1000                     30              3000   \n",
       "\n",
       "   usd_monthly_pay  usd_per_gb  usd_per_message  usd_per_minute plan_name  \n",
       "0               20          10             0.03            0.03      surf  \n",
       "1               70           7             0.01            0.01  ultimate  "
      ]
     },
     "execution_count": 39,
     "metadata": {},
     "output_type": "execute_result"
    }
   ],
   "source": [
    "plans = plans.rename(columns={'mb_per_month_included': 'gb_per_month_included'}) # cambia el nombre de la columna\n",
    "plans.head()"
   ]
  },
  {
   "attachments": {},
   "cell_type": "markdown",
   "metadata": {},
   "source": [
    "Esta última demostración de la tabla nos recuerda cómo funciona el tarifario de Megaline en sus dos planes. Ya que logramos tener los datos listos, extraeremos aún más informacíon agrupando filas y tablas para obtener nuestro DataFrame final. "
   ]
  },
  {
   "attachments": {},
   "cell_type": "markdown",
   "metadata": {},
   "source": [
    "## Agregar datos por usuario <a id='b6'></a>"
   ]
  },
  {
   "attachments": {},
   "cell_type": "markdown",
   "metadata": {},
   "source": [
    "[Ahora que los datos están limpios, agrega los datos por usuario por periodo para poder tener solo un registro por usuario por periodo. Esto facilitará mucho su posterior análisis.]"
   ]
  },
  {
   "attachments": {},
   "cell_type": "markdown",
   "metadata": {},
   "source": [
    "Como habíamos anticipado, tenemos que agrupar datos en base a los lineamientos del tarifario, a nivel de usuario y por mes. Empezaremos con la tabla ``calls`` y el número de llamadas y minutos al mes por usuario."
   ]
  },
  {
   "attachments": {},
   "cell_type": "markdown",
   "metadata": {},
   "source": [
    "**Número de llamadas y minutos por usuario al mes**"
   ]
  },
  {
   "attachments": {},
   "cell_type": "markdown",
   "metadata": {},
   "source": [
    "De la tabla ``calls`` crearemos una nueva tabla dinámica que resuma estos datos. Llamaremos a esta tabla ``calls_by_month``. Usaremos el método \"pivot_table\", sumando y contando sus valores:"
   ]
  },
  {
   "cell_type": "code",
   "execution_count": 40,
   "metadata": {},
   "outputs": [
    {
     "data": {
      "text/html": [
       "<div>\n",
       "<style scoped>\n",
       "    .dataframe tbody tr th:only-of-type {\n",
       "        vertical-align: middle;\n",
       "    }\n",
       "\n",
       "    .dataframe tbody tr th {\n",
       "        vertical-align: top;\n",
       "    }\n",
       "\n",
       "    .dataframe thead th {\n",
       "        text-align: right;\n",
       "    }\n",
       "</style>\n",
       "<table border=\"1\" class=\"dataframe\">\n",
       "  <thead>\n",
       "    <tr style=\"text-align: right;\">\n",
       "      <th></th>\n",
       "      <th>user_id</th>\n",
       "      <th>month</th>\n",
       "      <th>min_by_month</th>\n",
       "      <th>calls_by_month</th>\n",
       "    </tr>\n",
       "  </thead>\n",
       "  <tbody>\n",
       "    <tr>\n",
       "      <th>0</th>\n",
       "      <td>1000</td>\n",
       "      <td>December</td>\n",
       "      <td>124</td>\n",
       "      <td>16</td>\n",
       "    </tr>\n",
       "    <tr>\n",
       "      <th>1</th>\n",
       "      <td>1001</td>\n",
       "      <td>August</td>\n",
       "      <td>182</td>\n",
       "      <td>22</td>\n",
       "    </tr>\n",
       "    <tr>\n",
       "      <th>2</th>\n",
       "      <td>1001</td>\n",
       "      <td>December</td>\n",
       "      <td>412</td>\n",
       "      <td>46</td>\n",
       "    </tr>\n",
       "    <tr>\n",
       "      <th>3</th>\n",
       "      <td>1001</td>\n",
       "      <td>November</td>\n",
       "      <td>426</td>\n",
       "      <td>49</td>\n",
       "    </tr>\n",
       "    <tr>\n",
       "      <th>4</th>\n",
       "      <td>1001</td>\n",
       "      <td>October</td>\n",
       "      <td>393</td>\n",
       "      <td>47</td>\n",
       "    </tr>\n",
       "  </tbody>\n",
       "</table>\n",
       "</div>"
      ],
      "text/plain": [
       "   user_id     month  min_by_month  calls_by_month\n",
       "0     1000  December           124              16\n",
       "1     1001    August           182              22\n",
       "2     1001  December           412              46\n",
       "3     1001  November           426              49\n",
       "4     1001   October           393              47"
      ]
     },
     "execution_count": 40,
     "metadata": {},
     "output_type": "execute_result"
    }
   ],
   "source": [
    "calls_by_month = calls.pivot_table(index=['user_id', 'call_month'], values='duration_rounded', aggfunc=['sum', 'count']).reset_index()\n",
    "# tabla dinámica que suma y realiza el conteo de llamadas, reseteando su índice\n",
    "calls_by_month.columns = ['user_id', 'month', 'min_by_month', 'calls_by_month'] # cambia nombres de columnas\n",
    "calls_by_month.head()"
   ]
  },
  {
   "attachments": {},
   "cell_type": "markdown",
   "metadata": {},
   "source": [
    "**Número de mensajes enviados por usuario al mes**"
   ]
  },
  {
   "attachments": {},
   "cell_type": "markdown",
   "metadata": {},
   "source": [
    "De forma análoga, de la tabla ``messages`` crearemos una tabla dinámica que resuma los mensajes por usuario al mes. Esta tabla se llamará ``messages_by_month``:"
   ]
  },
  {
   "cell_type": "code",
   "execution_count": 41,
   "metadata": {},
   "outputs": [
    {
     "data": {
      "text/html": [
       "<div>\n",
       "<style scoped>\n",
       "    .dataframe tbody tr th:only-of-type {\n",
       "        vertical-align: middle;\n",
       "    }\n",
       "\n",
       "    .dataframe tbody tr th {\n",
       "        vertical-align: top;\n",
       "    }\n",
       "\n",
       "    .dataframe thead th {\n",
       "        text-align: right;\n",
       "    }\n",
       "</style>\n",
       "<table border=\"1\" class=\"dataframe\">\n",
       "  <thead>\n",
       "    <tr style=\"text-align: right;\">\n",
       "      <th></th>\n",
       "      <th>user_id</th>\n",
       "      <th>month</th>\n",
       "      <th>messages_by_month</th>\n",
       "    </tr>\n",
       "  </thead>\n",
       "  <tbody>\n",
       "    <tr>\n",
       "      <th>0</th>\n",
       "      <td>1000</td>\n",
       "      <td>December</td>\n",
       "      <td>11</td>\n",
       "    </tr>\n",
       "    <tr>\n",
       "      <th>1</th>\n",
       "      <td>1001</td>\n",
       "      <td>August</td>\n",
       "      <td>30</td>\n",
       "    </tr>\n",
       "    <tr>\n",
       "      <th>2</th>\n",
       "      <td>1001</td>\n",
       "      <td>December</td>\n",
       "      <td>44</td>\n",
       "    </tr>\n",
       "    <tr>\n",
       "      <th>3</th>\n",
       "      <td>1001</td>\n",
       "      <td>November</td>\n",
       "      <td>36</td>\n",
       "    </tr>\n",
       "    <tr>\n",
       "      <th>4</th>\n",
       "      <td>1001</td>\n",
       "      <td>October</td>\n",
       "      <td>53</td>\n",
       "    </tr>\n",
       "  </tbody>\n",
       "</table>\n",
       "</div>"
      ],
      "text/plain": [
       "   user_id     month  messages_by_month\n",
       "0     1000  December                 11\n",
       "1     1001    August                 30\n",
       "2     1001  December                 44\n",
       "3     1001  November                 36\n",
       "4     1001   October                 53"
      ]
     },
     "execution_count": 41,
     "metadata": {},
     "output_type": "execute_result"
    }
   ],
   "source": [
    "messages_by_month = messages.pivot_table(index=['user_id', 'message_month'], values='id', aggfunc='count').reset_index()\n",
    "messages_by_month.columns = ['user_id', 'month', 'messages_by_month']\n",
    "messages_by_month.head()"
   ]
  },
  {
   "attachments": {},
   "cell_type": "markdown",
   "metadata": {},
   "source": [
    "**Tráfico de internet usado por usuario al mes**"
   ]
  },
  {
   "attachments": {},
   "cell_type": "markdown",
   "metadata": {},
   "source": [
    "En este caso, usaremos la tabla ``internet`` para obtener información que resuma el consumo de internet por usuario al mes:"
   ]
  },
  {
   "cell_type": "code",
   "execution_count": 42,
   "metadata": {},
   "outputs": [
    {
     "data": {
      "text/html": [
       "<div>\n",
       "<style scoped>\n",
       "    .dataframe tbody tr th:only-of-type {\n",
       "        vertical-align: middle;\n",
       "    }\n",
       "\n",
       "    .dataframe tbody tr th {\n",
       "        vertical-align: top;\n",
       "    }\n",
       "\n",
       "    .dataframe thead th {\n",
       "        text-align: right;\n",
       "    }\n",
       "</style>\n",
       "<table border=\"1\" class=\"dataframe\">\n",
       "  <thead>\n",
       "    <tr style=\"text-align: right;\">\n",
       "      <th></th>\n",
       "      <th>user_id</th>\n",
       "      <th>internet_month</th>\n",
       "      <th>gb_used</th>\n",
       "    </tr>\n",
       "  </thead>\n",
       "  <tbody>\n",
       "    <tr>\n",
       "      <th>0</th>\n",
       "      <td>1000</td>\n",
       "      <td>December</td>\n",
       "      <td>1.856904</td>\n",
       "    </tr>\n",
       "    <tr>\n",
       "      <th>1</th>\n",
       "      <td>1001</td>\n",
       "      <td>August</td>\n",
       "      <td>6.756982</td>\n",
       "    </tr>\n",
       "    <tr>\n",
       "      <th>2</th>\n",
       "      <td>1001</td>\n",
       "      <td>December</td>\n",
       "      <td>18.915215</td>\n",
       "    </tr>\n",
       "    <tr>\n",
       "      <th>3</th>\n",
       "      <td>1001</td>\n",
       "      <td>November</td>\n",
       "      <td>18.070605</td>\n",
       "    </tr>\n",
       "    <tr>\n",
       "      <th>4</th>\n",
       "      <td>1001</td>\n",
       "      <td>October</td>\n",
       "      <td>21.807119</td>\n",
       "    </tr>\n",
       "  </tbody>\n",
       "</table>\n",
       "</div>"
      ],
      "text/plain": [
       "   user_id internet_month    gb_used\n",
       "0     1000       December   1.856904\n",
       "1     1001         August   6.756982\n",
       "2     1001       December  18.915215\n",
       "3     1001       November  18.070605\n",
       "4     1001        October  21.807119"
      ]
     },
     "execution_count": 42,
     "metadata": {},
     "output_type": "execute_result"
    }
   ],
   "source": [
    "internet_by_month = internet.pivot_table(index=['user_id', 'internet_month'], values='gb_used', aggfunc='sum').reset_index()\n",
    "internet_by_month.head()"
   ]
  },
  {
   "attachments": {},
   "cell_type": "markdown",
   "metadata": {},
   "source": [
    "Ahora tenemos que aplicar los lineamientos del tarifario de Megaline: se redondea el consumo mensual en GB, si consumió 1025 MB, se le cobrará por 2 GB. Recordemos que ya habíamos cambiado las unidades de medida para facilitar este proceso de redondeo hacia arriba:"
   ]
  },
  {
   "cell_type": "code",
   "execution_count": 43,
   "metadata": {},
   "outputs": [
    {
     "data": {
      "text/html": [
       "<div>\n",
       "<style scoped>\n",
       "    .dataframe tbody tr th:only-of-type {\n",
       "        vertical-align: middle;\n",
       "    }\n",
       "\n",
       "    .dataframe tbody tr th {\n",
       "        vertical-align: top;\n",
       "    }\n",
       "\n",
       "    .dataframe thead th {\n",
       "        text-align: right;\n",
       "    }\n",
       "</style>\n",
       "<table border=\"1\" class=\"dataframe\">\n",
       "  <thead>\n",
       "    <tr style=\"text-align: right;\">\n",
       "      <th></th>\n",
       "      <th>user_id</th>\n",
       "      <th>month</th>\n",
       "      <th>gb_used</th>\n",
       "    </tr>\n",
       "  </thead>\n",
       "  <tbody>\n",
       "    <tr>\n",
       "      <th>0</th>\n",
       "      <td>1000</td>\n",
       "      <td>December</td>\n",
       "      <td>2</td>\n",
       "    </tr>\n",
       "    <tr>\n",
       "      <th>1</th>\n",
       "      <td>1001</td>\n",
       "      <td>August</td>\n",
       "      <td>7</td>\n",
       "    </tr>\n",
       "    <tr>\n",
       "      <th>2</th>\n",
       "      <td>1001</td>\n",
       "      <td>December</td>\n",
       "      <td>19</td>\n",
       "    </tr>\n",
       "    <tr>\n",
       "      <th>3</th>\n",
       "      <td>1001</td>\n",
       "      <td>November</td>\n",
       "      <td>19</td>\n",
       "    </tr>\n",
       "    <tr>\n",
       "      <th>4</th>\n",
       "      <td>1001</td>\n",
       "      <td>October</td>\n",
       "      <td>22</td>\n",
       "    </tr>\n",
       "  </tbody>\n",
       "</table>\n",
       "</div>"
      ],
      "text/plain": [
       "   user_id     month  gb_used\n",
       "0     1000  December        2\n",
       "1     1001    August        7\n",
       "2     1001  December       19\n",
       "3     1001  November       19\n",
       "4     1001   October       22"
      ]
     },
     "execution_count": 43,
     "metadata": {},
     "output_type": "execute_result"
    }
   ],
   "source": [
    "internet_by_month['gb_used'] = internet_by_month['gb_used'].apply(np.ceil).astype('int') # aplica el redondeo y lo convierte a entero\n",
    "internet_by_month.columns = ['user_id', 'month', 'gb_used']\n",
    "internet_by_month.head()"
   ]
  },
  {
   "attachments": {},
   "cell_type": "markdown",
   "metadata": {},
   "source": [
    "Una vez realizado este proceso de unificar datos por usuario al mes para cada tipo de uso de telefonía móvil, ahora tendremos que unificar estas tablas. Para este proceso, usaremos el método \"merge\" de Pandas porque hicimos un \"reset_index\" (no podemos usar \"join\") y usaremos el parámetro \"outer\" de la unión para preservar todos los datos: es posible que, el caso más probable, existan personas que usen mucho más las llamadas e internet y casi no los mensajes de texto, por ejemplo; sin embargo, eso no los excluiría de la posibilidad de exceder su plan mensual. \n",
    "\n",
    "Ya que tenemos tres tablas, haremos el proceso en pares:"
   ]
  },
  {
   "cell_type": "code",
   "execution_count": 45,
   "metadata": {},
   "outputs": [
    {
     "data": {
      "text/html": [
       "<div>\n",
       "<style scoped>\n",
       "    .dataframe tbody tr th:only-of-type {\n",
       "        vertical-align: middle;\n",
       "    }\n",
       "\n",
       "    .dataframe tbody tr th {\n",
       "        vertical-align: top;\n",
       "    }\n",
       "\n",
       "    .dataframe thead th {\n",
       "        text-align: right;\n",
       "    }\n",
       "</style>\n",
       "<table border=\"1\" class=\"dataframe\">\n",
       "  <thead>\n",
       "    <tr style=\"text-align: right;\">\n",
       "      <th></th>\n",
       "      <th>user_id</th>\n",
       "      <th>month</th>\n",
       "      <th>min_by_month</th>\n",
       "      <th>calls_by_month</th>\n",
       "      <th>messages_by_month</th>\n",
       "    </tr>\n",
       "  </thead>\n",
       "  <tbody>\n",
       "    <tr>\n",
       "      <th>0</th>\n",
       "      <td>1000</td>\n",
       "      <td>December</td>\n",
       "      <td>124.0</td>\n",
       "      <td>16.0</td>\n",
       "      <td>11.0</td>\n",
       "    </tr>\n",
       "    <tr>\n",
       "      <th>1</th>\n",
       "      <td>1001</td>\n",
       "      <td>August</td>\n",
       "      <td>182.0</td>\n",
       "      <td>22.0</td>\n",
       "      <td>30.0</td>\n",
       "    </tr>\n",
       "    <tr>\n",
       "      <th>2</th>\n",
       "      <td>1001</td>\n",
       "      <td>December</td>\n",
       "      <td>412.0</td>\n",
       "      <td>46.0</td>\n",
       "      <td>44.0</td>\n",
       "    </tr>\n",
       "    <tr>\n",
       "      <th>3</th>\n",
       "      <td>1001</td>\n",
       "      <td>November</td>\n",
       "      <td>426.0</td>\n",
       "      <td>49.0</td>\n",
       "      <td>36.0</td>\n",
       "    </tr>\n",
       "    <tr>\n",
       "      <th>4</th>\n",
       "      <td>1001</td>\n",
       "      <td>October</td>\n",
       "      <td>393.0</td>\n",
       "      <td>47.0</td>\n",
       "      <td>53.0</td>\n",
       "    </tr>\n",
       "    <tr>\n",
       "      <th>5</th>\n",
       "      <td>1001</td>\n",
       "      <td>September</td>\n",
       "      <td>315.0</td>\n",
       "      <td>38.0</td>\n",
       "      <td>44.0</td>\n",
       "    </tr>\n",
       "    <tr>\n",
       "      <th>6</th>\n",
       "      <td>1002</td>\n",
       "      <td>December</td>\n",
       "      <td>384.0</td>\n",
       "      <td>38.0</td>\n",
       "      <td>41.0</td>\n",
       "    </tr>\n",
       "    <tr>\n",
       "      <th>7</th>\n",
       "      <td>1002</td>\n",
       "      <td>November</td>\n",
       "      <td>386.0</td>\n",
       "      <td>48.0</td>\n",
       "      <td>32.0</td>\n",
       "    </tr>\n",
       "    <tr>\n",
       "      <th>8</th>\n",
       "      <td>1002</td>\n",
       "      <td>October</td>\n",
       "      <td>59.0</td>\n",
       "      <td>8.0</td>\n",
       "      <td>15.0</td>\n",
       "    </tr>\n",
       "    <tr>\n",
       "      <th>9</th>\n",
       "      <td>1003</td>\n",
       "      <td>December</td>\n",
       "      <td>1104.0</td>\n",
       "      <td>118.0</td>\n",
       "      <td>50.0</td>\n",
       "    </tr>\n",
       "  </tbody>\n",
       "</table>\n",
       "</div>"
      ],
      "text/plain": [
       "   user_id      month  min_by_month  calls_by_month  messages_by_month\n",
       "0     1000   December         124.0            16.0               11.0\n",
       "1     1001     August         182.0            22.0               30.0\n",
       "2     1001   December         412.0            46.0               44.0\n",
       "3     1001   November         426.0            49.0               36.0\n",
       "4     1001    October         393.0            47.0               53.0\n",
       "5     1001  September         315.0            38.0               44.0\n",
       "6     1002   December         384.0            38.0               41.0\n",
       "7     1002   November         386.0            48.0               32.0\n",
       "8     1002    October          59.0             8.0               15.0\n",
       "9     1003   December        1104.0           118.0               50.0"
      ]
     },
     "execution_count": 45,
     "metadata": {},
     "output_type": "execute_result"
    }
   ],
   "source": [
    "mobile_final = calls_by_month.merge(messages_by_month, on=['user_id', 'month'] , how='outer') # une las tablas en dos columnas\n",
    "mobile_final.head(10) "
   ]
  },
  {
   "attachments": {},
   "cell_type": "markdown",
   "metadata": {},
   "source": [
    "Y otra unión consecutiva:"
   ]
  },
  {
   "cell_type": "code",
   "execution_count": 46,
   "metadata": {},
   "outputs": [
    {
     "data": {
      "text/html": [
       "<div>\n",
       "<style scoped>\n",
       "    .dataframe tbody tr th:only-of-type {\n",
       "        vertical-align: middle;\n",
       "    }\n",
       "\n",
       "    .dataframe tbody tr th {\n",
       "        vertical-align: top;\n",
       "    }\n",
       "\n",
       "    .dataframe thead th {\n",
       "        text-align: right;\n",
       "    }\n",
       "</style>\n",
       "<table border=\"1\" class=\"dataframe\">\n",
       "  <thead>\n",
       "    <tr style=\"text-align: right;\">\n",
       "      <th></th>\n",
       "      <th>user_id</th>\n",
       "      <th>month</th>\n",
       "      <th>min_by_month</th>\n",
       "      <th>calls_by_month</th>\n",
       "      <th>messages_by_month</th>\n",
       "      <th>gb_used</th>\n",
       "    </tr>\n",
       "  </thead>\n",
       "  <tbody>\n",
       "    <tr>\n",
       "      <th>0</th>\n",
       "      <td>1000</td>\n",
       "      <td>December</td>\n",
       "      <td>124.0</td>\n",
       "      <td>16.0</td>\n",
       "      <td>11.0</td>\n",
       "      <td>2.0</td>\n",
       "    </tr>\n",
       "    <tr>\n",
       "      <th>1</th>\n",
       "      <td>1001</td>\n",
       "      <td>August</td>\n",
       "      <td>182.0</td>\n",
       "      <td>22.0</td>\n",
       "      <td>30.0</td>\n",
       "      <td>7.0</td>\n",
       "    </tr>\n",
       "    <tr>\n",
       "      <th>2</th>\n",
       "      <td>1001</td>\n",
       "      <td>December</td>\n",
       "      <td>412.0</td>\n",
       "      <td>46.0</td>\n",
       "      <td>44.0</td>\n",
       "      <td>19.0</td>\n",
       "    </tr>\n",
       "    <tr>\n",
       "      <th>3</th>\n",
       "      <td>1001</td>\n",
       "      <td>November</td>\n",
       "      <td>426.0</td>\n",
       "      <td>49.0</td>\n",
       "      <td>36.0</td>\n",
       "      <td>19.0</td>\n",
       "    </tr>\n",
       "    <tr>\n",
       "      <th>4</th>\n",
       "      <td>1001</td>\n",
       "      <td>October</td>\n",
       "      <td>393.0</td>\n",
       "      <td>47.0</td>\n",
       "      <td>53.0</td>\n",
       "      <td>22.0</td>\n",
       "    </tr>\n",
       "    <tr>\n",
       "      <th>...</th>\n",
       "      <td>...</td>\n",
       "      <td>...</td>\n",
       "      <td>...</td>\n",
       "      <td>...</td>\n",
       "      <td>...</td>\n",
       "      <td>...</td>\n",
       "    </tr>\n",
       "    <tr>\n",
       "      <th>2288</th>\n",
       "      <td>1407</td>\n",
       "      <td>November</td>\n",
       "      <td>NaN</td>\n",
       "      <td>NaN</td>\n",
       "      <td>1.0</td>\n",
       "      <td>1.0</td>\n",
       "    </tr>\n",
       "    <tr>\n",
       "      <th>2289</th>\n",
       "      <td>1482</td>\n",
       "      <td>October</td>\n",
       "      <td>NaN</td>\n",
       "      <td>NaN</td>\n",
       "      <td>2.0</td>\n",
       "      <td>NaN</td>\n",
       "    </tr>\n",
       "    <tr>\n",
       "      <th>2290</th>\n",
       "      <td>1094</td>\n",
       "      <td>October</td>\n",
       "      <td>NaN</td>\n",
       "      <td>NaN</td>\n",
       "      <td>NaN</td>\n",
       "      <td>2.0</td>\n",
       "    </tr>\n",
       "    <tr>\n",
       "      <th>2291</th>\n",
       "      <td>1108</td>\n",
       "      <td>December</td>\n",
       "      <td>NaN</td>\n",
       "      <td>NaN</td>\n",
       "      <td>NaN</td>\n",
       "      <td>1.0</td>\n",
       "    </tr>\n",
       "    <tr>\n",
       "      <th>2292</th>\n",
       "      <td>1311</td>\n",
       "      <td>June</td>\n",
       "      <td>NaN</td>\n",
       "      <td>NaN</td>\n",
       "      <td>NaN</td>\n",
       "      <td>2.0</td>\n",
       "    </tr>\n",
       "  </tbody>\n",
       "</table>\n",
       "<p>2293 rows × 6 columns</p>\n",
       "</div>"
      ],
      "text/plain": [
       "      user_id     month  min_by_month  calls_by_month  messages_by_month  \\\n",
       "0        1000  December         124.0            16.0               11.0   \n",
       "1        1001    August         182.0            22.0               30.0   \n",
       "2        1001  December         412.0            46.0               44.0   \n",
       "3        1001  November         426.0            49.0               36.0   \n",
       "4        1001   October         393.0            47.0               53.0   \n",
       "...       ...       ...           ...             ...                ...   \n",
       "2288     1407  November           NaN             NaN                1.0   \n",
       "2289     1482   October           NaN             NaN                2.0   \n",
       "2290     1094   October           NaN             NaN                NaN   \n",
       "2291     1108  December           NaN             NaN                NaN   \n",
       "2292     1311      June           NaN             NaN                NaN   \n",
       "\n",
       "      gb_used  \n",
       "0         2.0  \n",
       "1         7.0  \n",
       "2        19.0  \n",
       "3        19.0  \n",
       "4        22.0  \n",
       "...       ...  \n",
       "2288      1.0  \n",
       "2289      NaN  \n",
       "2290      2.0  \n",
       "2291      1.0  \n",
       "2292      2.0  \n",
       "\n",
       "[2293 rows x 6 columns]"
      ]
     },
     "execution_count": 46,
     "metadata": {},
     "output_type": "execute_result"
    }
   ],
   "source": [
    "mobile_final = mobile_final.merge(internet_by_month, on=['user_id', 'month'], how='outer') #une las tablas en dos columnas\n",
    "mobile_final"
   ]
  },
  {
   "attachments": {},
   "cell_type": "markdown",
   "metadata": {},
   "source": [
    "Por último, también necesitaremos unir nuestra tabla principal que contiene datos de los usuarios y así tener la información completa:"
   ]
  },
  {
   "cell_type": "code",
   "execution_count": 48,
   "metadata": {},
   "outputs": [
    {
     "data": {
      "text/html": [
       "<div>\n",
       "<style scoped>\n",
       "    .dataframe tbody tr th:only-of-type {\n",
       "        vertical-align: middle;\n",
       "    }\n",
       "\n",
       "    .dataframe tbody tr th {\n",
       "        vertical-align: top;\n",
       "    }\n",
       "\n",
       "    .dataframe thead th {\n",
       "        text-align: right;\n",
       "    }\n",
       "</style>\n",
       "<table border=\"1\" class=\"dataframe\">\n",
       "  <thead>\n",
       "    <tr style=\"text-align: right;\">\n",
       "      <th></th>\n",
       "      <th>user_id</th>\n",
       "      <th>first_name</th>\n",
       "      <th>last_name</th>\n",
       "      <th>age</th>\n",
       "      <th>city</th>\n",
       "      <th>reg_date</th>\n",
       "      <th>plan</th>\n",
       "      <th>churn_date</th>\n",
       "      <th>month</th>\n",
       "      <th>min_by_month</th>\n",
       "      <th>calls_by_month</th>\n",
       "      <th>messages_by_month</th>\n",
       "      <th>gb_used</th>\n",
       "    </tr>\n",
       "  </thead>\n",
       "  <tbody>\n",
       "    <tr>\n",
       "      <th>0</th>\n",
       "      <td>1000</td>\n",
       "      <td>Anamaria</td>\n",
       "      <td>Bauer</td>\n",
       "      <td>45</td>\n",
       "      <td>Atlanta-Sandy Springs-Roswell, GA MSA</td>\n",
       "      <td>2018-12-24</td>\n",
       "      <td>ultimate</td>\n",
       "      <td>NaT</td>\n",
       "      <td>December</td>\n",
       "      <td>124.0</td>\n",
       "      <td>16.0</td>\n",
       "      <td>11.0</td>\n",
       "      <td>2.0</td>\n",
       "    </tr>\n",
       "    <tr>\n",
       "      <th>1</th>\n",
       "      <td>1001</td>\n",
       "      <td>Mickey</td>\n",
       "      <td>Wilkerson</td>\n",
       "      <td>28</td>\n",
       "      <td>Seattle-Tacoma-Bellevue, WA MSA</td>\n",
       "      <td>2018-08-13</td>\n",
       "      <td>surf</td>\n",
       "      <td>NaT</td>\n",
       "      <td>August</td>\n",
       "      <td>182.0</td>\n",
       "      <td>22.0</td>\n",
       "      <td>30.0</td>\n",
       "      <td>7.0</td>\n",
       "    </tr>\n",
       "    <tr>\n",
       "      <th>2</th>\n",
       "      <td>1001</td>\n",
       "      <td>Mickey</td>\n",
       "      <td>Wilkerson</td>\n",
       "      <td>28</td>\n",
       "      <td>Seattle-Tacoma-Bellevue, WA MSA</td>\n",
       "      <td>2018-08-13</td>\n",
       "      <td>surf</td>\n",
       "      <td>NaT</td>\n",
       "      <td>December</td>\n",
       "      <td>412.0</td>\n",
       "      <td>46.0</td>\n",
       "      <td>44.0</td>\n",
       "      <td>19.0</td>\n",
       "    </tr>\n",
       "    <tr>\n",
       "      <th>3</th>\n",
       "      <td>1001</td>\n",
       "      <td>Mickey</td>\n",
       "      <td>Wilkerson</td>\n",
       "      <td>28</td>\n",
       "      <td>Seattle-Tacoma-Bellevue, WA MSA</td>\n",
       "      <td>2018-08-13</td>\n",
       "      <td>surf</td>\n",
       "      <td>NaT</td>\n",
       "      <td>November</td>\n",
       "      <td>426.0</td>\n",
       "      <td>49.0</td>\n",
       "      <td>36.0</td>\n",
       "      <td>19.0</td>\n",
       "    </tr>\n",
       "    <tr>\n",
       "      <th>4</th>\n",
       "      <td>1001</td>\n",
       "      <td>Mickey</td>\n",
       "      <td>Wilkerson</td>\n",
       "      <td>28</td>\n",
       "      <td>Seattle-Tacoma-Bellevue, WA MSA</td>\n",
       "      <td>2018-08-13</td>\n",
       "      <td>surf</td>\n",
       "      <td>NaT</td>\n",
       "      <td>October</td>\n",
       "      <td>393.0</td>\n",
       "      <td>47.0</td>\n",
       "      <td>53.0</td>\n",
       "      <td>22.0</td>\n",
       "    </tr>\n",
       "    <tr>\n",
       "      <th>...</th>\n",
       "      <td>...</td>\n",
       "      <td>...</td>\n",
       "      <td>...</td>\n",
       "      <td>...</td>\n",
       "      <td>...</td>\n",
       "      <td>...</td>\n",
       "      <td>...</td>\n",
       "      <td>...</td>\n",
       "      <td>...</td>\n",
       "      <td>...</td>\n",
       "      <td>...</td>\n",
       "      <td>...</td>\n",
       "      <td>...</td>\n",
       "    </tr>\n",
       "    <tr>\n",
       "      <th>2298</th>\n",
       "      <td>1498</td>\n",
       "      <td>Scot</td>\n",
       "      <td>Williamson</td>\n",
       "      <td>51</td>\n",
       "      <td>New York-Newark-Jersey City, NY-NJ-PA MSA</td>\n",
       "      <td>2018-02-04</td>\n",
       "      <td>surf</td>\n",
       "      <td>NaT</td>\n",
       "      <td>September</td>\n",
       "      <td>363.0</td>\n",
       "      <td>39.0</td>\n",
       "      <td>NaN</td>\n",
       "      <td>23.0</td>\n",
       "    </tr>\n",
       "    <tr>\n",
       "      <th>2299</th>\n",
       "      <td>1499</td>\n",
       "      <td>Shena</td>\n",
       "      <td>Dickson</td>\n",
       "      <td>37</td>\n",
       "      <td>Orlando-Kissimmee-Sanford, FL MSA</td>\n",
       "      <td>2018-05-06</td>\n",
       "      <td>surf</td>\n",
       "      <td>NaT</td>\n",
       "      <td>December</td>\n",
       "      <td>496.0</td>\n",
       "      <td>56.0</td>\n",
       "      <td>NaN</td>\n",
       "      <td>22.0</td>\n",
       "    </tr>\n",
       "    <tr>\n",
       "      <th>2300</th>\n",
       "      <td>1499</td>\n",
       "      <td>Shena</td>\n",
       "      <td>Dickson</td>\n",
       "      <td>37</td>\n",
       "      <td>Orlando-Kissimmee-Sanford, FL MSA</td>\n",
       "      <td>2018-05-06</td>\n",
       "      <td>surf</td>\n",
       "      <td>NaT</td>\n",
       "      <td>November</td>\n",
       "      <td>308.0</td>\n",
       "      <td>39.0</td>\n",
       "      <td>NaN</td>\n",
       "      <td>17.0</td>\n",
       "    </tr>\n",
       "    <tr>\n",
       "      <th>2301</th>\n",
       "      <td>1499</td>\n",
       "      <td>Shena</td>\n",
       "      <td>Dickson</td>\n",
       "      <td>37</td>\n",
       "      <td>Orlando-Kissimmee-Sanford, FL MSA</td>\n",
       "      <td>2018-05-06</td>\n",
       "      <td>surf</td>\n",
       "      <td>NaT</td>\n",
       "      <td>October</td>\n",
       "      <td>385.0</td>\n",
       "      <td>41.0</td>\n",
       "      <td>NaN</td>\n",
       "      <td>20.0</td>\n",
       "    </tr>\n",
       "    <tr>\n",
       "      <th>2302</th>\n",
       "      <td>1499</td>\n",
       "      <td>Shena</td>\n",
       "      <td>Dickson</td>\n",
       "      <td>37</td>\n",
       "      <td>Orlando-Kissimmee-Sanford, FL MSA</td>\n",
       "      <td>2018-05-06</td>\n",
       "      <td>surf</td>\n",
       "      <td>NaT</td>\n",
       "      <td>September</td>\n",
       "      <td>346.0</td>\n",
       "      <td>35.0</td>\n",
       "      <td>NaN</td>\n",
       "      <td>13.0</td>\n",
       "    </tr>\n",
       "  </tbody>\n",
       "</table>\n",
       "<p>2303 rows × 13 columns</p>\n",
       "</div>"
      ],
      "text/plain": [
       "      user_id first_name   last_name  age  \\\n",
       "0        1000   Anamaria       Bauer   45   \n",
       "1        1001     Mickey   Wilkerson   28   \n",
       "2        1001     Mickey   Wilkerson   28   \n",
       "3        1001     Mickey   Wilkerson   28   \n",
       "4        1001     Mickey   Wilkerson   28   \n",
       "...       ...        ...         ...  ...   \n",
       "2298     1498       Scot  Williamson   51   \n",
       "2299     1499      Shena     Dickson   37   \n",
       "2300     1499      Shena     Dickson   37   \n",
       "2301     1499      Shena     Dickson   37   \n",
       "2302     1499      Shena     Dickson   37   \n",
       "\n",
       "                                           city   reg_date      plan  \\\n",
       "0         Atlanta-Sandy Springs-Roswell, GA MSA 2018-12-24  ultimate   \n",
       "1               Seattle-Tacoma-Bellevue, WA MSA 2018-08-13      surf   \n",
       "2               Seattle-Tacoma-Bellevue, WA MSA 2018-08-13      surf   \n",
       "3               Seattle-Tacoma-Bellevue, WA MSA 2018-08-13      surf   \n",
       "4               Seattle-Tacoma-Bellevue, WA MSA 2018-08-13      surf   \n",
       "...                                         ...        ...       ...   \n",
       "2298  New York-Newark-Jersey City, NY-NJ-PA MSA 2018-02-04      surf   \n",
       "2299          Orlando-Kissimmee-Sanford, FL MSA 2018-05-06      surf   \n",
       "2300          Orlando-Kissimmee-Sanford, FL MSA 2018-05-06      surf   \n",
       "2301          Orlando-Kissimmee-Sanford, FL MSA 2018-05-06      surf   \n",
       "2302          Orlando-Kissimmee-Sanford, FL MSA 2018-05-06      surf   \n",
       "\n",
       "     churn_date      month  min_by_month  calls_by_month  messages_by_month  \\\n",
       "0           NaT   December         124.0            16.0               11.0   \n",
       "1           NaT     August         182.0            22.0               30.0   \n",
       "2           NaT   December         412.0            46.0               44.0   \n",
       "3           NaT   November         426.0            49.0               36.0   \n",
       "4           NaT    October         393.0            47.0               53.0   \n",
       "...         ...        ...           ...             ...                ...   \n",
       "2298        NaT  September         363.0            39.0                NaN   \n",
       "2299        NaT   December         496.0            56.0                NaN   \n",
       "2300        NaT   November         308.0            39.0                NaN   \n",
       "2301        NaT    October         385.0            41.0                NaN   \n",
       "2302        NaT  September         346.0            35.0                NaN   \n",
       "\n",
       "      gb_used  \n",
       "0         2.0  \n",
       "1         7.0  \n",
       "2        19.0  \n",
       "3        19.0  \n",
       "4        22.0  \n",
       "...       ...  \n",
       "2298     23.0  \n",
       "2299     22.0  \n",
       "2300     17.0  \n",
       "2301     20.0  \n",
       "2302     13.0  \n",
       "\n",
       "[2303 rows x 13 columns]"
      ]
     },
     "execution_count": 48,
     "metadata": {},
     "output_type": "execute_result"
    }
   ],
   "source": [
    "megaline_complete = users.merge(mobile_final, on='user_id', how='outer') # une las tablas en user_id\n",
    "megaline_complete"
   ]
  },
  {
   "attachments": {},
   "cell_type": "markdown",
   "metadata": {},
   "source": [
    "Notamos que existe una diferencia en el total de filas entre nuestro dataset ``mobile_final`` y ``megaline_complete``. Profundizaremos al respecto:"
   ]
  },
  {
   "cell_type": "code",
   "execution_count": 49,
   "metadata": {},
   "outputs": [
    {
     "data": {
      "text/plain": [
       "490"
      ]
     },
     "execution_count": 49,
     "metadata": {},
     "output_type": "execute_result"
    }
   ],
   "source": [
    "len(mobile_final['user_id'].unique()) #longitud del dataset"
   ]
  },
  {
   "cell_type": "code",
   "execution_count": 50,
   "metadata": {},
   "outputs": [
    {
     "data": {
      "text/plain": [
       "500"
      ]
     },
     "execution_count": 50,
     "metadata": {},
     "output_type": "execute_result"
    }
   ],
   "source": [
    "len(megaline_complete['user_id'].unique())"
   ]
  },
  {
   "attachments": {},
   "cell_type": "markdown",
   "metadata": {},
   "source": [
    "En efecto, existen 10 usuarios que no hacen uso de los planes. Para averiguar de qué tipo de clientes se tratan, haremos un \"query\" con la condición específica para hallar a estos clientes y guardaremos esta información en un DataFrame aparte:"
   ]
  },
  {
   "cell_type": "code",
   "execution_count": 51,
   "metadata": {},
   "outputs": [
    {
     "data": {
      "text/html": [
       "<div>\n",
       "<style scoped>\n",
       "    .dataframe tbody tr th:only-of-type {\n",
       "        vertical-align: middle;\n",
       "    }\n",
       "\n",
       "    .dataframe tbody tr th {\n",
       "        vertical-align: top;\n",
       "    }\n",
       "\n",
       "    .dataframe thead th {\n",
       "        text-align: right;\n",
       "    }\n",
       "</style>\n",
       "<table border=\"1\" class=\"dataframe\">\n",
       "  <thead>\n",
       "    <tr style=\"text-align: right;\">\n",
       "      <th></th>\n",
       "      <th>user_id</th>\n",
       "      <th>first_name</th>\n",
       "      <th>last_name</th>\n",
       "      <th>age</th>\n",
       "      <th>city</th>\n",
       "      <th>reg_date</th>\n",
       "      <th>plan</th>\n",
       "      <th>churn_date</th>\n",
       "      <th>month</th>\n",
       "      <th>min_by_month</th>\n",
       "      <th>calls_by_month</th>\n",
       "      <th>messages_by_month</th>\n",
       "      <th>gb_used</th>\n",
       "    </tr>\n",
       "  </thead>\n",
       "  <tbody>\n",
       "    <tr>\n",
       "      <th>86</th>\n",
       "      <td>1025</td>\n",
       "      <td>Jess</td>\n",
       "      <td>Wilkinson</td>\n",
       "      <td>64</td>\n",
       "      <td>Atlanta-Sandy Springs-Roswell, GA MSA</td>\n",
       "      <td>2018-10-28</td>\n",
       "      <td>ultimate</td>\n",
       "      <td>NaT</td>\n",
       "      <td>NaN</td>\n",
       "      <td>NaN</td>\n",
       "      <td>NaN</td>\n",
       "      <td>NaN</td>\n",
       "      <td>NaN</td>\n",
       "    </tr>\n",
       "    <tr>\n",
       "      <th>612</th>\n",
       "      <td>1129</td>\n",
       "      <td>Marin</td>\n",
       "      <td>Bolton</td>\n",
       "      <td>70</td>\n",
       "      <td>Baton Rouge, LA MSA</td>\n",
       "      <td>2018-11-10</td>\n",
       "      <td>surf</td>\n",
       "      <td>2018-12-27</td>\n",
       "      <td>NaN</td>\n",
       "      <td>NaN</td>\n",
       "      <td>NaN</td>\n",
       "      <td>NaN</td>\n",
       "      <td>NaN</td>\n",
       "    </tr>\n",
       "    <tr>\n",
       "      <th>682</th>\n",
       "      <td>1143</td>\n",
       "      <td>Lorina</td>\n",
       "      <td>Stevens</td>\n",
       "      <td>69</td>\n",
       "      <td>Cincinnati, OH-KY-IN MSA</td>\n",
       "      <td>2018-10-26</td>\n",
       "      <td>surf</td>\n",
       "      <td>NaT</td>\n",
       "      <td>NaN</td>\n",
       "      <td>NaN</td>\n",
       "      <td>NaN</td>\n",
       "      <td>NaN</td>\n",
       "      <td>NaN</td>\n",
       "    </tr>\n",
       "    <tr>\n",
       "      <th>1285</th>\n",
       "      <td>1269</td>\n",
       "      <td>Irving</td>\n",
       "      <td>Thompson</td>\n",
       "      <td>39</td>\n",
       "      <td>Dallas-Fort Worth-Arlington, TX MSA</td>\n",
       "      <td>2018-09-13</td>\n",
       "      <td>ultimate</td>\n",
       "      <td>2018-12-15</td>\n",
       "      <td>NaN</td>\n",
       "      <td>NaN</td>\n",
       "      <td>NaN</td>\n",
       "      <td>NaN</td>\n",
       "      <td>NaN</td>\n",
       "    </tr>\n",
       "    <tr>\n",
       "      <th>1297</th>\n",
       "      <td>1275</td>\n",
       "      <td>Elvie</td>\n",
       "      <td>Velazquez</td>\n",
       "      <td>33</td>\n",
       "      <td>New York-Newark-Jersey City, NY-NJ-PA MSA</td>\n",
       "      <td>2018-11-29</td>\n",
       "      <td>ultimate</td>\n",
       "      <td>NaT</td>\n",
       "      <td>NaN</td>\n",
       "      <td>NaN</td>\n",
       "      <td>NaN</td>\n",
       "      <td>NaN</td>\n",
       "      <td>NaN</td>\n",
       "    </tr>\n",
       "    <tr>\n",
       "      <th>1418</th>\n",
       "      <td>1307</td>\n",
       "      <td>Kristopher</td>\n",
       "      <td>Lang</td>\n",
       "      <td>28</td>\n",
       "      <td>Boston-Cambridge-Newton, MA-NH MSA</td>\n",
       "      <td>2018-12-31</td>\n",
       "      <td>surf</td>\n",
       "      <td>NaT</td>\n",
       "      <td>NaN</td>\n",
       "      <td>NaN</td>\n",
       "      <td>NaN</td>\n",
       "      <td>NaN</td>\n",
       "      <td>NaN</td>\n",
       "    </tr>\n",
       "    <tr>\n",
       "      <th>1466</th>\n",
       "      <td>1319</td>\n",
       "      <td>Eliseo</td>\n",
       "      <td>Carson</td>\n",
       "      <td>21</td>\n",
       "      <td>Colorado Springs, CO MSA</td>\n",
       "      <td>2018-06-17</td>\n",
       "      <td>surf</td>\n",
       "      <td>NaT</td>\n",
       "      <td>NaN</td>\n",
       "      <td>NaN</td>\n",
       "      <td>NaN</td>\n",
       "      <td>NaN</td>\n",
       "      <td>NaN</td>\n",
       "    </tr>\n",
       "    <tr>\n",
       "      <th>1762</th>\n",
       "      <td>1378</td>\n",
       "      <td>Mckinley</td>\n",
       "      <td>Clayton</td>\n",
       "      <td>22</td>\n",
       "      <td>Denver-Aurora-Lakewood, CO MSA</td>\n",
       "      <td>2018-12-17</td>\n",
       "      <td>surf</td>\n",
       "      <td>NaT</td>\n",
       "      <td>NaN</td>\n",
       "      <td>NaN</td>\n",
       "      <td>NaN</td>\n",
       "      <td>NaN</td>\n",
       "      <td>NaN</td>\n",
       "    </tr>\n",
       "    <tr>\n",
       "      <th>2139</th>\n",
       "      <td>1463</td>\n",
       "      <td>Dinorah</td>\n",
       "      <td>Simmons</td>\n",
       "      <td>30</td>\n",
       "      <td>Atlanta-Sandy Springs-Roswell, GA MSA</td>\n",
       "      <td>2018-11-27</td>\n",
       "      <td>ultimate</td>\n",
       "      <td>NaT</td>\n",
       "      <td>NaN</td>\n",
       "      <td>NaN</td>\n",
       "      <td>NaN</td>\n",
       "      <td>NaN</td>\n",
       "      <td>NaN</td>\n",
       "    </tr>\n",
       "    <tr>\n",
       "      <th>2189</th>\n",
       "      <td>1473</td>\n",
       "      <td>Kirk</td>\n",
       "      <td>Velez</td>\n",
       "      <td>61</td>\n",
       "      <td>Louisville/Jefferson County, KY-IN MSA</td>\n",
       "      <td>2018-12-31</td>\n",
       "      <td>surf</td>\n",
       "      <td>NaT</td>\n",
       "      <td>NaN</td>\n",
       "      <td>NaN</td>\n",
       "      <td>NaN</td>\n",
       "      <td>NaN</td>\n",
       "      <td>NaN</td>\n",
       "    </tr>\n",
       "  </tbody>\n",
       "</table>\n",
       "</div>"
      ],
      "text/plain": [
       "      user_id  first_name  last_name  age  \\\n",
       "86       1025        Jess  Wilkinson   64   \n",
       "612      1129       Marin     Bolton   70   \n",
       "682      1143      Lorina    Stevens   69   \n",
       "1285     1269      Irving   Thompson   39   \n",
       "1297     1275       Elvie  Velazquez   33   \n",
       "1418     1307  Kristopher       Lang   28   \n",
       "1466     1319      Eliseo     Carson   21   \n",
       "1762     1378    Mckinley    Clayton   22   \n",
       "2139     1463     Dinorah    Simmons   30   \n",
       "2189     1473        Kirk      Velez   61   \n",
       "\n",
       "                                           city   reg_date      plan  \\\n",
       "86        Atlanta-Sandy Springs-Roswell, GA MSA 2018-10-28  ultimate   \n",
       "612                         Baton Rouge, LA MSA 2018-11-10      surf   \n",
       "682                    Cincinnati, OH-KY-IN MSA 2018-10-26      surf   \n",
       "1285        Dallas-Fort Worth-Arlington, TX MSA 2018-09-13  ultimate   \n",
       "1297  New York-Newark-Jersey City, NY-NJ-PA MSA 2018-11-29  ultimate   \n",
       "1418         Boston-Cambridge-Newton, MA-NH MSA 2018-12-31      surf   \n",
       "1466                   Colorado Springs, CO MSA 2018-06-17      surf   \n",
       "1762             Denver-Aurora-Lakewood, CO MSA 2018-12-17      surf   \n",
       "2139      Atlanta-Sandy Springs-Roswell, GA MSA 2018-11-27  ultimate   \n",
       "2189     Louisville/Jefferson County, KY-IN MSA 2018-12-31      surf   \n",
       "\n",
       "     churn_date month  min_by_month  calls_by_month  messages_by_month  \\\n",
       "86          NaT   NaN           NaN             NaN                NaN   \n",
       "612  2018-12-27   NaN           NaN             NaN                NaN   \n",
       "682         NaT   NaN           NaN             NaN                NaN   \n",
       "1285 2018-12-15   NaN           NaN             NaN                NaN   \n",
       "1297        NaT   NaN           NaN             NaN                NaN   \n",
       "1418        NaT   NaN           NaN             NaN                NaN   \n",
       "1466        NaT   NaN           NaN             NaN                NaN   \n",
       "1762        NaT   NaN           NaN             NaN                NaN   \n",
       "2139        NaT   NaN           NaN             NaN                NaN   \n",
       "2189        NaT   NaN           NaN             NaN                NaN   \n",
       "\n",
       "      gb_used  \n",
       "86        NaN  \n",
       "612       NaN  \n",
       "682       NaN  \n",
       "1285      NaN  \n",
       "1297      NaN  \n",
       "1418      NaN  \n",
       "1466      NaN  \n",
       "1762      NaN  \n",
       "2139      NaN  \n",
       "2189      NaN  "
      ]
     },
     "execution_count": 51,
     "metadata": {},
     "output_type": "execute_result"
    }
   ],
   "source": [
    "users_no_mobile = megaline_complete.query(\"user_id not in @mobile_final.user_id\") #filtra para aquellos que no están en la columna user_id de mobile final\n",
    "users_no_mobile"
   ]
  },
  {
   "attachments": {},
   "cell_type": "markdown",
   "metadata": {},
   "source": [
    "Parece que solo dos de estas personas han registrado su renuncia al contrato de su plan respectivo (``churn_date``), mientras que los demás pareciera que siguen afiliados a su respectivo plan. Esto es extraño, pero puede deberse a muchos factores como clientes muy nuevos en el registro, clientes que están suspendidos, etc. Por ahora, supondremos que los clientes activos han pagado sus respectivos planes, mientras que prescindiremos de los que ya dejaron de usar el servicio (dos filas)."
   ]
  },
  {
   "cell_type": "code",
   "execution_count": 52,
   "metadata": {},
   "outputs": [
    {
     "data": {
      "text/html": [
       "<div>\n",
       "<style scoped>\n",
       "    .dataframe tbody tr th:only-of-type {\n",
       "        vertical-align: middle;\n",
       "    }\n",
       "\n",
       "    .dataframe tbody tr th {\n",
       "        vertical-align: top;\n",
       "    }\n",
       "\n",
       "    .dataframe thead th {\n",
       "        text-align: right;\n",
       "    }\n",
       "</style>\n",
       "<table border=\"1\" class=\"dataframe\">\n",
       "  <thead>\n",
       "    <tr style=\"text-align: right;\">\n",
       "      <th></th>\n",
       "      <th>user_id</th>\n",
       "      <th>first_name</th>\n",
       "      <th>last_name</th>\n",
       "      <th>age</th>\n",
       "      <th>city</th>\n",
       "      <th>reg_date</th>\n",
       "      <th>plan</th>\n",
       "      <th>churn_date</th>\n",
       "      <th>month</th>\n",
       "      <th>min_by_month</th>\n",
       "      <th>calls_by_month</th>\n",
       "      <th>messages_by_month</th>\n",
       "      <th>gb_used</th>\n",
       "    </tr>\n",
       "  </thead>\n",
       "  <tbody>\n",
       "    <tr>\n",
       "      <th>0</th>\n",
       "      <td>1000</td>\n",
       "      <td>Anamaria</td>\n",
       "      <td>Bauer</td>\n",
       "      <td>45</td>\n",
       "      <td>Atlanta-Sandy Springs-Roswell, GA MSA</td>\n",
       "      <td>2018-12-24</td>\n",
       "      <td>ultimate</td>\n",
       "      <td>NaT</td>\n",
       "      <td>December</td>\n",
       "      <td>124.0</td>\n",
       "      <td>16.0</td>\n",
       "      <td>11.0</td>\n",
       "      <td>2.0</td>\n",
       "    </tr>\n",
       "    <tr>\n",
       "      <th>1</th>\n",
       "      <td>1001</td>\n",
       "      <td>Mickey</td>\n",
       "      <td>Wilkerson</td>\n",
       "      <td>28</td>\n",
       "      <td>Seattle-Tacoma-Bellevue, WA MSA</td>\n",
       "      <td>2018-08-13</td>\n",
       "      <td>surf</td>\n",
       "      <td>NaT</td>\n",
       "      <td>August</td>\n",
       "      <td>182.0</td>\n",
       "      <td>22.0</td>\n",
       "      <td>30.0</td>\n",
       "      <td>7.0</td>\n",
       "    </tr>\n",
       "    <tr>\n",
       "      <th>2</th>\n",
       "      <td>1001</td>\n",
       "      <td>Mickey</td>\n",
       "      <td>Wilkerson</td>\n",
       "      <td>28</td>\n",
       "      <td>Seattle-Tacoma-Bellevue, WA MSA</td>\n",
       "      <td>2018-08-13</td>\n",
       "      <td>surf</td>\n",
       "      <td>NaT</td>\n",
       "      <td>December</td>\n",
       "      <td>412.0</td>\n",
       "      <td>46.0</td>\n",
       "      <td>44.0</td>\n",
       "      <td>19.0</td>\n",
       "    </tr>\n",
       "    <tr>\n",
       "      <th>3</th>\n",
       "      <td>1001</td>\n",
       "      <td>Mickey</td>\n",
       "      <td>Wilkerson</td>\n",
       "      <td>28</td>\n",
       "      <td>Seattle-Tacoma-Bellevue, WA MSA</td>\n",
       "      <td>2018-08-13</td>\n",
       "      <td>surf</td>\n",
       "      <td>NaT</td>\n",
       "      <td>November</td>\n",
       "      <td>426.0</td>\n",
       "      <td>49.0</td>\n",
       "      <td>36.0</td>\n",
       "      <td>19.0</td>\n",
       "    </tr>\n",
       "    <tr>\n",
       "      <th>4</th>\n",
       "      <td>1001</td>\n",
       "      <td>Mickey</td>\n",
       "      <td>Wilkerson</td>\n",
       "      <td>28</td>\n",
       "      <td>Seattle-Tacoma-Bellevue, WA MSA</td>\n",
       "      <td>2018-08-13</td>\n",
       "      <td>surf</td>\n",
       "      <td>NaT</td>\n",
       "      <td>October</td>\n",
       "      <td>393.0</td>\n",
       "      <td>47.0</td>\n",
       "      <td>53.0</td>\n",
       "      <td>22.0</td>\n",
       "    </tr>\n",
       "    <tr>\n",
       "      <th>...</th>\n",
       "      <td>...</td>\n",
       "      <td>...</td>\n",
       "      <td>...</td>\n",
       "      <td>...</td>\n",
       "      <td>...</td>\n",
       "      <td>...</td>\n",
       "      <td>...</td>\n",
       "      <td>...</td>\n",
       "      <td>...</td>\n",
       "      <td>...</td>\n",
       "      <td>...</td>\n",
       "      <td>...</td>\n",
       "      <td>...</td>\n",
       "    </tr>\n",
       "    <tr>\n",
       "      <th>2296</th>\n",
       "      <td>1498</td>\n",
       "      <td>Scot</td>\n",
       "      <td>Williamson</td>\n",
       "      <td>51</td>\n",
       "      <td>New York-Newark-Jersey City, NY-NJ-PA MSA</td>\n",
       "      <td>2018-02-04</td>\n",
       "      <td>surf</td>\n",
       "      <td>NaT</td>\n",
       "      <td>September</td>\n",
       "      <td>363.0</td>\n",
       "      <td>39.0</td>\n",
       "      <td>NaN</td>\n",
       "      <td>23.0</td>\n",
       "    </tr>\n",
       "    <tr>\n",
       "      <th>2297</th>\n",
       "      <td>1499</td>\n",
       "      <td>Shena</td>\n",
       "      <td>Dickson</td>\n",
       "      <td>37</td>\n",
       "      <td>Orlando-Kissimmee-Sanford, FL MSA</td>\n",
       "      <td>2018-05-06</td>\n",
       "      <td>surf</td>\n",
       "      <td>NaT</td>\n",
       "      <td>December</td>\n",
       "      <td>496.0</td>\n",
       "      <td>56.0</td>\n",
       "      <td>NaN</td>\n",
       "      <td>22.0</td>\n",
       "    </tr>\n",
       "    <tr>\n",
       "      <th>2298</th>\n",
       "      <td>1499</td>\n",
       "      <td>Shena</td>\n",
       "      <td>Dickson</td>\n",
       "      <td>37</td>\n",
       "      <td>Orlando-Kissimmee-Sanford, FL MSA</td>\n",
       "      <td>2018-05-06</td>\n",
       "      <td>surf</td>\n",
       "      <td>NaT</td>\n",
       "      <td>November</td>\n",
       "      <td>308.0</td>\n",
       "      <td>39.0</td>\n",
       "      <td>NaN</td>\n",
       "      <td>17.0</td>\n",
       "    </tr>\n",
       "    <tr>\n",
       "      <th>2299</th>\n",
       "      <td>1499</td>\n",
       "      <td>Shena</td>\n",
       "      <td>Dickson</td>\n",
       "      <td>37</td>\n",
       "      <td>Orlando-Kissimmee-Sanford, FL MSA</td>\n",
       "      <td>2018-05-06</td>\n",
       "      <td>surf</td>\n",
       "      <td>NaT</td>\n",
       "      <td>October</td>\n",
       "      <td>385.0</td>\n",
       "      <td>41.0</td>\n",
       "      <td>NaN</td>\n",
       "      <td>20.0</td>\n",
       "    </tr>\n",
       "    <tr>\n",
       "      <th>2300</th>\n",
       "      <td>1499</td>\n",
       "      <td>Shena</td>\n",
       "      <td>Dickson</td>\n",
       "      <td>37</td>\n",
       "      <td>Orlando-Kissimmee-Sanford, FL MSA</td>\n",
       "      <td>2018-05-06</td>\n",
       "      <td>surf</td>\n",
       "      <td>NaT</td>\n",
       "      <td>September</td>\n",
       "      <td>346.0</td>\n",
       "      <td>35.0</td>\n",
       "      <td>NaN</td>\n",
       "      <td>13.0</td>\n",
       "    </tr>\n",
       "  </tbody>\n",
       "</table>\n",
       "<p>2301 rows × 13 columns</p>\n",
       "</div>"
      ],
      "text/plain": [
       "      user_id first_name   last_name  age  \\\n",
       "0        1000   Anamaria       Bauer   45   \n",
       "1        1001     Mickey   Wilkerson   28   \n",
       "2        1001     Mickey   Wilkerson   28   \n",
       "3        1001     Mickey   Wilkerson   28   \n",
       "4        1001     Mickey   Wilkerson   28   \n",
       "...       ...        ...         ...  ...   \n",
       "2296     1498       Scot  Williamson   51   \n",
       "2297     1499      Shena     Dickson   37   \n",
       "2298     1499      Shena     Dickson   37   \n",
       "2299     1499      Shena     Dickson   37   \n",
       "2300     1499      Shena     Dickson   37   \n",
       "\n",
       "                                           city   reg_date      plan  \\\n",
       "0         Atlanta-Sandy Springs-Roswell, GA MSA 2018-12-24  ultimate   \n",
       "1               Seattle-Tacoma-Bellevue, WA MSA 2018-08-13      surf   \n",
       "2               Seattle-Tacoma-Bellevue, WA MSA 2018-08-13      surf   \n",
       "3               Seattle-Tacoma-Bellevue, WA MSA 2018-08-13      surf   \n",
       "4               Seattle-Tacoma-Bellevue, WA MSA 2018-08-13      surf   \n",
       "...                                         ...        ...       ...   \n",
       "2296  New York-Newark-Jersey City, NY-NJ-PA MSA 2018-02-04      surf   \n",
       "2297          Orlando-Kissimmee-Sanford, FL MSA 2018-05-06      surf   \n",
       "2298          Orlando-Kissimmee-Sanford, FL MSA 2018-05-06      surf   \n",
       "2299          Orlando-Kissimmee-Sanford, FL MSA 2018-05-06      surf   \n",
       "2300          Orlando-Kissimmee-Sanford, FL MSA 2018-05-06      surf   \n",
       "\n",
       "     churn_date      month  min_by_month  calls_by_month  messages_by_month  \\\n",
       "0           NaT   December         124.0            16.0               11.0   \n",
       "1           NaT     August         182.0            22.0               30.0   \n",
       "2           NaT   December         412.0            46.0               44.0   \n",
       "3           NaT   November         426.0            49.0               36.0   \n",
       "4           NaT    October         393.0            47.0               53.0   \n",
       "...         ...        ...           ...             ...                ...   \n",
       "2296        NaT  September         363.0            39.0                NaN   \n",
       "2297        NaT   December         496.0            56.0                NaN   \n",
       "2298        NaT   November         308.0            39.0                NaN   \n",
       "2299        NaT    October         385.0            41.0                NaN   \n",
       "2300        NaT  September         346.0            35.0                NaN   \n",
       "\n",
       "      gb_used  \n",
       "0         2.0  \n",
       "1         7.0  \n",
       "2        19.0  \n",
       "3        19.0  \n",
       "4        22.0  \n",
       "...       ...  \n",
       "2296     23.0  \n",
       "2297     22.0  \n",
       "2298     17.0  \n",
       "2299     20.0  \n",
       "2300     13.0  \n",
       "\n",
       "[2301 rows x 13 columns]"
      ]
     },
     "execution_count": 52,
     "metadata": {},
     "output_type": "execute_result"
    }
   ],
   "source": [
    "megaline_complete = megaline_complete.drop([612, 1285]).reset_index(drop=True) # elimina las filas especificadas\n",
    "megaline_complete"
   ]
  },
  {
   "attachments": {},
   "cell_type": "markdown",
   "metadata": {},
   "source": [
    "**Valores ausentes en ``megaline_complete``**"
   ]
  },
  {
   "attachments": {},
   "cell_type": "markdown",
   "metadata": {},
   "source": [
    "Tal como sucedió en el caso anterior, tenemos bastante certeza de que no todos los usuarios usaron algún servicio de telecomunicaciones (merge con \"outer\"). Para comprobarlo, mostraremos el número de usuarios de cada tabla dinámica generada:"
   ]
  },
  {
   "cell_type": "code",
   "execution_count": 53,
   "metadata": {},
   "outputs": [
    {
     "name": "stdout",
     "output_type": "stream",
     "text": [
      "Usuarios en la tabla calls: 481\n",
      "Usuarios en la tabla messages: 402\n",
      "Usuarios en la tabla internet: 489\n"
     ]
    }
   ],
   "source": [
    "print(f\"Usuarios en la tabla calls: {len(calls['user_id'].unique())}\")\n",
    "print(f\"Usuarios en la tabla messages: {len(messages['user_id'].unique())}\")\n",
    "print(f\"Usuarios en la tabla internet: {len(internet['user_id'].unique())}\")"
   ]
  },
  {
   "attachments": {},
   "cell_type": "markdown",
   "metadata": {},
   "source": [
    "Esta diferencia entre valores y el método de unión de tablas en teoría ha generado valores ausentes en nuestra tabla final, ``megaline_complete``. Los visualizaremos a continuación:"
   ]
  },
  {
   "cell_type": "code",
   "execution_count": 54,
   "metadata": {},
   "outputs": [
    {
     "data": {
      "text/plain": [
       "user_id                 0\n",
       "first_name              0\n",
       "last_name               0\n",
       "age                     0\n",
       "city                    0\n",
       "reg_date                0\n",
       "plan                    0\n",
       "churn_date           2143\n",
       "month                   8\n",
       "min_by_month           45\n",
       "calls_by_month         45\n",
       "messages_by_month     495\n",
       "gb_used                24\n",
       "dtype: int64"
      ]
     },
     "execution_count": 54,
     "metadata": {},
     "output_type": "execute_result"
    }
   ],
   "source": [
    "megaline_complete.isna().sum()"
   ]
  },
  {
   "attachments": {},
   "cell_type": "markdown",
   "metadata": {},
   "source": [
    "Los valores ausentes que se generaron al unir las tablas se concentran en ``min_by_month``, ``calls_by_month``, ``messages_by_month`` y ``gb_used``. En este caso, se tratan de personas que no tienen minutos contabilizados, llamadas realizadas, mensajes realizados y datos de internet usados respectivamente. En otras palabras, se tratan de ceros de cada categoría. Por tanto, en estas columnas sería necesario llenar estos valores con ceros:"
   ]
  },
  {
   "cell_type": "code",
   "execution_count": 55,
   "metadata": {},
   "outputs": [
    {
     "data": {
      "text/plain": [
       "user_id                 0\n",
       "first_name              0\n",
       "last_name               0\n",
       "age                     0\n",
       "city                    0\n",
       "reg_date                0\n",
       "plan                    0\n",
       "churn_date           2143\n",
       "month                   8\n",
       "min_by_month            0\n",
       "calls_by_month          0\n",
       "messages_by_month       0\n",
       "gb_used                 0\n",
       "dtype: int64"
      ]
     },
     "execution_count": 55,
     "metadata": {},
     "output_type": "execute_result"
    }
   ],
   "source": [
    "megaline_complete[['min_by_month', 'calls_by_month', 'messages_by_month', 'gb_used']] = megaline_complete[['min_by_month', 'calls_by_month', 'messages_by_month', 'gb_used']].fillna(0)\n",
    "# rellena ausentes solo en las columnas en específico\n",
    "megaline_complete.isna().sum()"
   ]
  },
  {
   "attachments": {},
   "cell_type": "markdown",
   "metadata": {},
   "source": [
    "Nótese que también tenemos ausentes en ``month``, que se debieron a la última unión realizada. Es decir, existen clientes en la lista de usuarios (`users`) que no estaban en la lista final de uso de servicios móviles (``mobile_final``). Pero como supusimos que estos clientes, aunque no usen el servicio activamente, están a tiempo con sus pagos, y con la finalidad de usar la mayor parte de datos posibles, mantendremos sus valores. De hecho, las ocho filas no tienen muchas posibilidades de distorsionar nuestros datos. Aunque fuese el caso, aún falta la etapa del análisis exploratorio de datos, donde veremos casos de este tipo (atípicos).\n",
    "\n",
    "Una vez obtenido nuestros datos completos, analizaremos el tarifario de Megaline nuevamente para poder generar el ingreso mensual por usuario."
   ]
  },
  {
   "attachments": {},
   "cell_type": "markdown",
   "metadata": {},
   "source": [
    "**Ingresos mensuales por usuario**"
   ]
  },
  {
   "attachments": {},
   "cell_type": "markdown",
   "metadata": {},
   "source": [
    "Traeremos de vuelta a la tabla ``plans`` para recordar cómo está estructurado el tarifario de la empresa:"
   ]
  },
  {
   "cell_type": "code",
   "execution_count": 56,
   "metadata": {},
   "outputs": [
    {
     "data": {
      "text/html": [
       "<div>\n",
       "<style scoped>\n",
       "    .dataframe tbody tr th:only-of-type {\n",
       "        vertical-align: middle;\n",
       "    }\n",
       "\n",
       "    .dataframe tbody tr th {\n",
       "        vertical-align: top;\n",
       "    }\n",
       "\n",
       "    .dataframe thead th {\n",
       "        text-align: right;\n",
       "    }\n",
       "</style>\n",
       "<table border=\"1\" class=\"dataframe\">\n",
       "  <thead>\n",
       "    <tr style=\"text-align: right;\">\n",
       "      <th></th>\n",
       "      <th>messages_included</th>\n",
       "      <th>gb_per_month_included</th>\n",
       "      <th>minutes_included</th>\n",
       "      <th>usd_monthly_pay</th>\n",
       "      <th>usd_per_gb</th>\n",
       "      <th>usd_per_message</th>\n",
       "      <th>usd_per_minute</th>\n",
       "      <th>plan_name</th>\n",
       "    </tr>\n",
       "  </thead>\n",
       "  <tbody>\n",
       "    <tr>\n",
       "      <th>0</th>\n",
       "      <td>50</td>\n",
       "      <td>15</td>\n",
       "      <td>500</td>\n",
       "      <td>20</td>\n",
       "      <td>10</td>\n",
       "      <td>0.03</td>\n",
       "      <td>0.03</td>\n",
       "      <td>surf</td>\n",
       "    </tr>\n",
       "    <tr>\n",
       "      <th>1</th>\n",
       "      <td>1000</td>\n",
       "      <td>30</td>\n",
       "      <td>3000</td>\n",
       "      <td>70</td>\n",
       "      <td>7</td>\n",
       "      <td>0.01</td>\n",
       "      <td>0.01</td>\n",
       "      <td>ultimate</td>\n",
       "    </tr>\n",
       "  </tbody>\n",
       "</table>\n",
       "</div>"
      ],
      "text/plain": [
       "   messages_included  gb_per_month_included  minutes_included  \\\n",
       "0                 50                     15               500   \n",
       "1               1000                     30              3000   \n",
       "\n",
       "   usd_monthly_pay  usd_per_gb  usd_per_message  usd_per_minute plan_name  \n",
       "0               20          10             0.03            0.03      surf  \n",
       "1               70           7             0.01            0.01  ultimate  "
      ]
     },
     "execution_count": 56,
     "metadata": {},
     "output_type": "execute_result"
    }
   ],
   "source": [
    "plans"
   ]
  },
  {
   "attachments": {},
   "cell_type": "markdown",
   "metadata": {},
   "source": [
    "Necesitamos crear una función que nos devuelva los ingresos por usuario en base a estos requerimientos:"
   ]
  },
  {
   "attachments": {},
   "cell_type": "markdown",
   "metadata": {},
   "source": [
    "**Surf**\n",
    "<br>Pago mensual: 20$\n",
    "<br>500 minutos al mes, 50 SMS y 15 GB de datos\n",
    "<br>Si se exceden los límites del paquete:\n",
    "<br>1 minuto: 3 centavos\n",
    "<br>1 SMS: 3 centavos\n",
    "<br>1 GB de datos: 10$\n",
    "\n",
    "**Ultimate**\n",
    "<br>Pago mensual: 70$\n",
    "<br>3000 minutos al mes, 1000 SMS y 30 GB de datos\n",
    "<br>Si se exceden los límites del paquete:\n",
    "<br>1 minuto: 1 centavo\n",
    "<br>1 SMS: 1 centavo\n",
    "<br>1 GB de datos: 7$"
   ]
  },
  {
   "attachments": {},
   "cell_type": "markdown",
   "metadata": {},
   "source": [
    "Crearemos una función que nos devuelva los ingresos mensuales: ``monthly_income``. Usaremos las columnas ``plan``, ``min_by_month``, ``messages_by_month`` y ``gb_used`` para generar esta información. También crearemos variables dentro de la función para sumar estos ingresos y devolverlos, tal como sigue:"
   ]
  },
  {
   "cell_type": "code",
   "execution_count": 57,
   "metadata": {},
   "outputs": [],
   "source": [
    "def monthly_income(data):\n",
    "    extra_mins = 0 \n",
    "    extra_mess = 0    # contadores en cero\n",
    "    extra_gb = 0\n",
    "    \n",
    "    plan = data['plan']\n",
    "    mins = data['min_by_month']             # cada columna respectivamente\n",
    "    messages = data['messages_by_month']\n",
    "    internet = data['gb_used']\n",
    "    \n",
    "    try:\n",
    "        if plan == 'surf': # para el plan surf\n",
    "            \n",
    "            if mins > 500: # si los minutos mensuales son mayores a 500\n",
    "                extra_mins += (mins - 500) # se obtiene la diferencia y guarda en el contador, y así para los otros servicios\n",
    "            if messages > 50:\n",
    "                extra_mess += (messages - 50)\n",
    "            if internet > 15:\n",
    "                extra_gb += (internet - 15)\n",
    "                \n",
    "            income = 20 + (extra_mins*0.03) + (extra_mess*0.03) + (extra_gb*10) # la suma de los servicios extra por su costo es el ingreso\n",
    "        \n",
    "        if plan == 'ultimate': #plan ultimate\n",
    "            \n",
    "            if mins > 3000: # si los minutos mensuales son mayores a 3000\n",
    "                extra_mins += (mins - 3000) # se obtiene la diferencia y la guarda en el contador, y así para los demás\n",
    "            if messages > 1000:\n",
    "                extra_mess += (messages - 1000)\n",
    "            if internet > 30:\n",
    "                extra_gb += (internet - 30)\n",
    "                \n",
    "            income = 70 + (extra_mins*0.01) + (extra_mess*0.01) + (extra_gb*7) # la suma de los servicios extra por su costo es el ingreso\n",
    "        \n",
    "        return income   #devuelve el ingreso\n",
    "    \n",
    "    except:\n",
    "        return np.nan"
   ]
  },
  {
   "attachments": {},
   "cell_type": "markdown",
   "metadata": {},
   "source": [
    "Una vez creada la función, necesitamos probarla con una fila de nuestro dataset completo:"
   ]
  },
  {
   "cell_type": "code",
   "execution_count": 58,
   "metadata": {},
   "outputs": [
    {
     "data": {
      "text/plain": [
       "20.0"
      ]
     },
     "execution_count": 58,
     "metadata": {},
     "output_type": "execute_result"
    }
   ],
   "source": [
    "monthly_income(megaline_complete.iloc[1]) #prueba en la segunda fila"
   ]
  },
  {
   "attachments": {},
   "cell_type": "markdown",
   "metadata": {},
   "source": [
    "Comprobado que la función logra devolvernos el ingreso mensual, generaremos una nueva columna para guardar estos datos en nuestro dataset ``megaline_complete``:"
   ]
  },
  {
   "cell_type": "code",
   "execution_count": 59,
   "metadata": {},
   "outputs": [],
   "source": [
    "megaline_complete['income_by_month'] = megaline_complete.apply(monthly_income, axis=1) # aplica la función"
   ]
  },
  {
   "cell_type": "code",
   "execution_count": 60,
   "metadata": {},
   "outputs": [
    {
     "data": {
      "text/html": [
       "<div>\n",
       "<style scoped>\n",
       "    .dataframe tbody tr th:only-of-type {\n",
       "        vertical-align: middle;\n",
       "    }\n",
       "\n",
       "    .dataframe tbody tr th {\n",
       "        vertical-align: top;\n",
       "    }\n",
       "\n",
       "    .dataframe thead th {\n",
       "        text-align: right;\n",
       "    }\n",
       "</style>\n",
       "<table border=\"1\" class=\"dataframe\">\n",
       "  <thead>\n",
       "    <tr style=\"text-align: right;\">\n",
       "      <th></th>\n",
       "      <th>user_id</th>\n",
       "      <th>first_name</th>\n",
       "      <th>last_name</th>\n",
       "      <th>age</th>\n",
       "      <th>city</th>\n",
       "      <th>reg_date</th>\n",
       "      <th>plan</th>\n",
       "      <th>churn_date</th>\n",
       "      <th>month</th>\n",
       "      <th>min_by_month</th>\n",
       "      <th>calls_by_month</th>\n",
       "      <th>messages_by_month</th>\n",
       "      <th>gb_used</th>\n",
       "      <th>income_by_month</th>\n",
       "    </tr>\n",
       "  </thead>\n",
       "  <tbody>\n",
       "    <tr>\n",
       "      <th>0</th>\n",
       "      <td>1000</td>\n",
       "      <td>Anamaria</td>\n",
       "      <td>Bauer</td>\n",
       "      <td>45</td>\n",
       "      <td>Atlanta-Sandy Springs-Roswell, GA MSA</td>\n",
       "      <td>2018-12-24</td>\n",
       "      <td>ultimate</td>\n",
       "      <td>NaT</td>\n",
       "      <td>December</td>\n",
       "      <td>124.0</td>\n",
       "      <td>16.0</td>\n",
       "      <td>11.0</td>\n",
       "      <td>2.0</td>\n",
       "      <td>70.00</td>\n",
       "    </tr>\n",
       "    <tr>\n",
       "      <th>1</th>\n",
       "      <td>1001</td>\n",
       "      <td>Mickey</td>\n",
       "      <td>Wilkerson</td>\n",
       "      <td>28</td>\n",
       "      <td>Seattle-Tacoma-Bellevue, WA MSA</td>\n",
       "      <td>2018-08-13</td>\n",
       "      <td>surf</td>\n",
       "      <td>NaT</td>\n",
       "      <td>August</td>\n",
       "      <td>182.0</td>\n",
       "      <td>22.0</td>\n",
       "      <td>30.0</td>\n",
       "      <td>7.0</td>\n",
       "      <td>20.00</td>\n",
       "    </tr>\n",
       "    <tr>\n",
       "      <th>2</th>\n",
       "      <td>1001</td>\n",
       "      <td>Mickey</td>\n",
       "      <td>Wilkerson</td>\n",
       "      <td>28</td>\n",
       "      <td>Seattle-Tacoma-Bellevue, WA MSA</td>\n",
       "      <td>2018-08-13</td>\n",
       "      <td>surf</td>\n",
       "      <td>NaT</td>\n",
       "      <td>December</td>\n",
       "      <td>412.0</td>\n",
       "      <td>46.0</td>\n",
       "      <td>44.0</td>\n",
       "      <td>19.0</td>\n",
       "      <td>60.00</td>\n",
       "    </tr>\n",
       "    <tr>\n",
       "      <th>3</th>\n",
       "      <td>1001</td>\n",
       "      <td>Mickey</td>\n",
       "      <td>Wilkerson</td>\n",
       "      <td>28</td>\n",
       "      <td>Seattle-Tacoma-Bellevue, WA MSA</td>\n",
       "      <td>2018-08-13</td>\n",
       "      <td>surf</td>\n",
       "      <td>NaT</td>\n",
       "      <td>November</td>\n",
       "      <td>426.0</td>\n",
       "      <td>49.0</td>\n",
       "      <td>36.0</td>\n",
       "      <td>19.0</td>\n",
       "      <td>60.00</td>\n",
       "    </tr>\n",
       "    <tr>\n",
       "      <th>4</th>\n",
       "      <td>1001</td>\n",
       "      <td>Mickey</td>\n",
       "      <td>Wilkerson</td>\n",
       "      <td>28</td>\n",
       "      <td>Seattle-Tacoma-Bellevue, WA MSA</td>\n",
       "      <td>2018-08-13</td>\n",
       "      <td>surf</td>\n",
       "      <td>NaT</td>\n",
       "      <td>October</td>\n",
       "      <td>393.0</td>\n",
       "      <td>47.0</td>\n",
       "      <td>53.0</td>\n",
       "      <td>22.0</td>\n",
       "      <td>90.09</td>\n",
       "    </tr>\n",
       "  </tbody>\n",
       "</table>\n",
       "</div>"
      ],
      "text/plain": [
       "   user_id first_name  last_name  age                                   city  \\\n",
       "0     1000   Anamaria      Bauer   45  Atlanta-Sandy Springs-Roswell, GA MSA   \n",
       "1     1001     Mickey  Wilkerson   28        Seattle-Tacoma-Bellevue, WA MSA   \n",
       "2     1001     Mickey  Wilkerson   28        Seattle-Tacoma-Bellevue, WA MSA   \n",
       "3     1001     Mickey  Wilkerson   28        Seattle-Tacoma-Bellevue, WA MSA   \n",
       "4     1001     Mickey  Wilkerson   28        Seattle-Tacoma-Bellevue, WA MSA   \n",
       "\n",
       "    reg_date      plan churn_date     month  min_by_month  calls_by_month  \\\n",
       "0 2018-12-24  ultimate        NaT  December         124.0            16.0   \n",
       "1 2018-08-13      surf        NaT    August         182.0            22.0   \n",
       "2 2018-08-13      surf        NaT  December         412.0            46.0   \n",
       "3 2018-08-13      surf        NaT  November         426.0            49.0   \n",
       "4 2018-08-13      surf        NaT   October         393.0            47.0   \n",
       "\n",
       "   messages_by_month  gb_used  income_by_month  \n",
       "0               11.0      2.0            70.00  \n",
       "1               30.0      7.0            20.00  \n",
       "2               44.0     19.0            60.00  \n",
       "3               36.0     19.0            60.00  \n",
       "4               53.0     22.0            90.09  "
      ]
     },
     "execution_count": 60,
     "metadata": {},
     "output_type": "execute_result"
    }
   ],
   "source": [
    "megaline_complete.head()"
   ]
  },
  {
   "attachments": {},
   "cell_type": "markdown",
   "metadata": {},
   "source": [
    "Ahora que tenemos los ingresos por usuario, para empezar con el análisis exploratorio aún nos queda separar las regiones Nueva York - Nueva Jersey para probar nuestra segunda hipótesis."
   ]
  },
  {
   "attachments": {},
   "cell_type": "markdown",
   "metadata": {},
   "source": [
    "**Estados Nueva York - Nueva Jersey y otras regiones**"
   ]
  },
  {
   "attachments": {},
   "cell_type": "markdown",
   "metadata": {},
   "source": [
    "Para realizar el proceso, nuevamente traeremos a los valores únicos de la columna ``city`` de nuestro último dataset y analizar en qué situaciones se incluyen estos estados. Recordemos que teníamos nombres muy específicos y en mayúsculas, detalles que corregiremos al separar las regiones."
   ]
  },
  {
   "cell_type": "code",
   "execution_count": 61,
   "metadata": {},
   "outputs": [
    {
     "data": {
      "text/plain": [
       "array(['Atlanta-Sandy Springs-Roswell, GA MSA',\n",
       "       'Seattle-Tacoma-Bellevue, WA MSA',\n",
       "       'Las Vegas-Henderson-Paradise, NV MSA', 'Tulsa, OK MSA',\n",
       "       'Dallas-Fort Worth-Arlington, TX MSA',\n",
       "       'San Francisco-Oakland-Berkeley, CA MSA',\n",
       "       'Grand Rapids-Kentwood, MI MSA',\n",
       "       'Orlando-Kissimmee-Sanford, FL MSA',\n",
       "       'San Jose-Sunnyvale-Santa Clara, CA MSA',\n",
       "       'Cleveland-Elyria, OH MSA',\n",
       "       'Chicago-Naperville-Elgin, IL-IN-WI MSA', 'Knoxville, TN MSA',\n",
       "       'New York-Newark-Jersey City, NY-NJ-PA MSA', 'Pittsburgh, PA MSA',\n",
       "       'Fresno, CA MSA',\n",
       "       'Washington-Arlington-Alexandria, DC-VA-MD-WV MSA',\n",
       "       'Indianapolis-Carmel-Anderson, IN MSA', 'Jacksonville, FL MSA',\n",
       "       'Los Angeles-Long Beach-Anaheim, CA MSA',\n",
       "       'Omaha-Council Bluffs, NE-IA MSA',\n",
       "       'Houston-The Woodlands-Sugar Land, TX MSA',\n",
       "       'Philadelphia-Camden-Wilmington, PA-NJ-DE-MD MSA',\n",
       "       'Tampa-St. Petersburg-Clearwater, FL MSA',\n",
       "       'Birmingham-Hoover, AL MSA', 'Oklahoma City, OK MSA',\n",
       "       'Charlotte-Concord-Gastonia, NC-SC MSA',\n",
       "       'Denver-Aurora-Lakewood, CO MSA',\n",
       "       'Nashville-Davidson–Murfreesboro–Franklin, TN MSA',\n",
       "       'Columbus, OH MSA', 'Albuquerque, NM MSA',\n",
       "       'Boston-Cambridge-Newton, MA-NH MSA',\n",
       "       'Miami-Fort Lauderdale-West Palm Beach, FL MSA',\n",
       "       'San Diego-Chula Vista-Carlsbad, CA MSA',\n",
       "       'Phoenix-Mesa-Chandler, AZ MSA',\n",
       "       'Portland-Vancouver-Hillsboro, OR-WA MSA',\n",
       "       'Cincinnati, OH-KY-IN MSA', 'Columbia, SC MSA',\n",
       "       'San Antonio-New Braunfels, TX MSA', 'Buffalo-Cheektowaga, NY MSA',\n",
       "       'Memphis, TN-MS-AR MSA',\n",
       "       'Riverside-San Bernardino-Ontario, CA MSA',\n",
       "       'Louisville/Jefferson County, KY-IN MSA',\n",
       "       'Albany-Schenectady-Troy, NY MSA', 'Providence-Warwick, RI-MA MSA',\n",
       "       'Salt Lake City, UT MSA', 'Urban Honolulu, HI MSA',\n",
       "       'El Paso, TX MSA', 'New Haven-Milford, CT MSA',\n",
       "       'North Port-Sarasota-Bradenton, FL MSA',\n",
       "       'New Orleans-Metairie, LA MSA',\n",
       "       'Bridgeport-Stamford-Norwalk, CT MSA',\n",
       "       'Virginia Beach-Norfolk-Newport News, VA-NC MSA',\n",
       "       'Baltimore-Columbia-Towson, MD MSA', 'Milwaukee-Waukesha, WI MSA',\n",
       "       'Oxnard-Thousand Oaks-Ventura, CA MSA',\n",
       "       'Sacramento–Roseville–Folsom, CA MSA',\n",
       "       'Austin-Round Rock-Georgetown, TX MSA', 'Richmond, VA MSA',\n",
       "       'St. Louis, MO-IL MSA',\n",
       "       'Minneapolis-St. Paul-Bloomington, MN-WI MSA',\n",
       "       'Dayton-Kettering, OH MSA', 'Bakersfield, CA MSA',\n",
       "       'Detroit-Warren-Dearborn, MI MSA', 'Baton Rouge, LA MSA',\n",
       "       'Kansas City, MO-KS MSA', 'Charleston-North Charleston, SC MSA',\n",
       "       'Rochester, NY MSA', 'Raleigh-Cary, NC MSA',\n",
       "       'Colorado Springs, CO MSA', 'Greensboro-High Point, NC MSA',\n",
       "       'Tucson, AZ MSA', 'Stockton, CA MSA',\n",
       "       'Cape Coral-Fort Myers, FL MSA'], dtype=object)"
      ]
     },
     "execution_count": 61,
     "metadata": {},
     "output_type": "execute_result"
    }
   ],
   "source": [
    "megaline_complete['city'].unique() # devuelve valores únicos"
   ]
  },
  {
   "attachments": {},
   "cell_type": "markdown",
   "metadata": {},
   "source": [
    "Podemos notar que las regiones de estos estados están nombradas con las siglas 'NY' o 'NJ' de manera específica, aunque en otras situaciones se las referencia como un área multi-estado o metropolitana juntos, 'NY-NJ'. Necesitamos todos esos casos para nuestro análisis tenga a usuarios de estos estados. \n",
    "\n",
    "Crearemos una función que clasifique y nos devuelva la región necesitada en base a lo mencionado anteriormente:"
   ]
  },
  {
   "cell_type": "code",
   "execution_count": 62,
   "metadata": {},
   "outputs": [],
   "source": [
    "def region_categ(row):\n",
    "    if 'NY' in row or 'NJ' in row or 'NY-NJ' in row:  # si estos caracteres están dentro de la fila\n",
    "        return 'ny-nj' # devuelve ny_nj\n",
    "    return 'other' # sino devuelve other"
   ]
  },
  {
   "attachments": {},
   "cell_type": "markdown",
   "metadata": {},
   "source": [
    "La probamos para una fila con esa condición:"
   ]
  },
  {
   "cell_type": "code",
   "execution_count": 63,
   "metadata": {},
   "outputs": [
    {
     "data": {
      "text/plain": [
       "'ny-nj'"
      ]
     },
     "execution_count": 63,
     "metadata": {},
     "output_type": "execute_result"
    }
   ],
   "source": [
    "region_categ(megaline_complete['city'].iloc[56]) # prueba en la fila 57"
   ]
  },
  {
   "attachments": {},
   "cell_type": "markdown",
   "metadata": {},
   "source": [
    "Comprobado su funcionamiento, la aplicamos a nuestro dataset y lo guardaremos en una nueva columna que categorice regiones:"
   ]
  },
  {
   "cell_type": "code",
   "execution_count": 64,
   "metadata": {},
   "outputs": [],
   "source": [
    "megaline_complete['region'] = megaline_complete['city'].apply(region_categ) # aplica la funcion"
   ]
  },
  {
   "cell_type": "code",
   "execution_count": 65,
   "metadata": {},
   "outputs": [
    {
     "data": {
      "text/plain": [
       "other    1812\n",
       "ny-nj     489\n",
       "Name: region, dtype: int64"
      ]
     },
     "execution_count": 65,
     "metadata": {},
     "output_type": "execute_result"
    }
   ],
   "source": [
    "megaline_complete['region'].value_counts()"
   ]
  },
  {
   "attachments": {},
   "cell_type": "markdown",
   "metadata": {},
   "source": [
    "Un último vistazo a nuestra tabla para ver la información final:"
   ]
  },
  {
   "cell_type": "code",
   "execution_count": 66,
   "metadata": {},
   "outputs": [
    {
     "data": {
      "text/html": [
       "<div>\n",
       "<style scoped>\n",
       "    .dataframe tbody tr th:only-of-type {\n",
       "        vertical-align: middle;\n",
       "    }\n",
       "\n",
       "    .dataframe tbody tr th {\n",
       "        vertical-align: top;\n",
       "    }\n",
       "\n",
       "    .dataframe thead th {\n",
       "        text-align: right;\n",
       "    }\n",
       "</style>\n",
       "<table border=\"1\" class=\"dataframe\">\n",
       "  <thead>\n",
       "    <tr style=\"text-align: right;\">\n",
       "      <th></th>\n",
       "      <th>user_id</th>\n",
       "      <th>first_name</th>\n",
       "      <th>last_name</th>\n",
       "      <th>age</th>\n",
       "      <th>city</th>\n",
       "      <th>reg_date</th>\n",
       "      <th>plan</th>\n",
       "      <th>churn_date</th>\n",
       "      <th>month</th>\n",
       "      <th>min_by_month</th>\n",
       "      <th>calls_by_month</th>\n",
       "      <th>messages_by_month</th>\n",
       "      <th>gb_used</th>\n",
       "      <th>income_by_month</th>\n",
       "      <th>region</th>\n",
       "    </tr>\n",
       "  </thead>\n",
       "  <tbody>\n",
       "    <tr>\n",
       "      <th>0</th>\n",
       "      <td>1000</td>\n",
       "      <td>Anamaria</td>\n",
       "      <td>Bauer</td>\n",
       "      <td>45</td>\n",
       "      <td>Atlanta-Sandy Springs-Roswell, GA MSA</td>\n",
       "      <td>2018-12-24</td>\n",
       "      <td>ultimate</td>\n",
       "      <td>NaT</td>\n",
       "      <td>December</td>\n",
       "      <td>124.0</td>\n",
       "      <td>16.0</td>\n",
       "      <td>11.0</td>\n",
       "      <td>2.0</td>\n",
       "      <td>70.00</td>\n",
       "      <td>other</td>\n",
       "    </tr>\n",
       "    <tr>\n",
       "      <th>1</th>\n",
       "      <td>1001</td>\n",
       "      <td>Mickey</td>\n",
       "      <td>Wilkerson</td>\n",
       "      <td>28</td>\n",
       "      <td>Seattle-Tacoma-Bellevue, WA MSA</td>\n",
       "      <td>2018-08-13</td>\n",
       "      <td>surf</td>\n",
       "      <td>NaT</td>\n",
       "      <td>August</td>\n",
       "      <td>182.0</td>\n",
       "      <td>22.0</td>\n",
       "      <td>30.0</td>\n",
       "      <td>7.0</td>\n",
       "      <td>20.00</td>\n",
       "      <td>other</td>\n",
       "    </tr>\n",
       "    <tr>\n",
       "      <th>2</th>\n",
       "      <td>1001</td>\n",
       "      <td>Mickey</td>\n",
       "      <td>Wilkerson</td>\n",
       "      <td>28</td>\n",
       "      <td>Seattle-Tacoma-Bellevue, WA MSA</td>\n",
       "      <td>2018-08-13</td>\n",
       "      <td>surf</td>\n",
       "      <td>NaT</td>\n",
       "      <td>December</td>\n",
       "      <td>412.0</td>\n",
       "      <td>46.0</td>\n",
       "      <td>44.0</td>\n",
       "      <td>19.0</td>\n",
       "      <td>60.00</td>\n",
       "      <td>other</td>\n",
       "    </tr>\n",
       "    <tr>\n",
       "      <th>3</th>\n",
       "      <td>1001</td>\n",
       "      <td>Mickey</td>\n",
       "      <td>Wilkerson</td>\n",
       "      <td>28</td>\n",
       "      <td>Seattle-Tacoma-Bellevue, WA MSA</td>\n",
       "      <td>2018-08-13</td>\n",
       "      <td>surf</td>\n",
       "      <td>NaT</td>\n",
       "      <td>November</td>\n",
       "      <td>426.0</td>\n",
       "      <td>49.0</td>\n",
       "      <td>36.0</td>\n",
       "      <td>19.0</td>\n",
       "      <td>60.00</td>\n",
       "      <td>other</td>\n",
       "    </tr>\n",
       "    <tr>\n",
       "      <th>4</th>\n",
       "      <td>1001</td>\n",
       "      <td>Mickey</td>\n",
       "      <td>Wilkerson</td>\n",
       "      <td>28</td>\n",
       "      <td>Seattle-Tacoma-Bellevue, WA MSA</td>\n",
       "      <td>2018-08-13</td>\n",
       "      <td>surf</td>\n",
       "      <td>NaT</td>\n",
       "      <td>October</td>\n",
       "      <td>393.0</td>\n",
       "      <td>47.0</td>\n",
       "      <td>53.0</td>\n",
       "      <td>22.0</td>\n",
       "      <td>90.09</td>\n",
       "      <td>other</td>\n",
       "    </tr>\n",
       "  </tbody>\n",
       "</table>\n",
       "</div>"
      ],
      "text/plain": [
       "   user_id first_name  last_name  age                                   city  \\\n",
       "0     1000   Anamaria      Bauer   45  Atlanta-Sandy Springs-Roswell, GA MSA   \n",
       "1     1001     Mickey  Wilkerson   28        Seattle-Tacoma-Bellevue, WA MSA   \n",
       "2     1001     Mickey  Wilkerson   28        Seattle-Tacoma-Bellevue, WA MSA   \n",
       "3     1001     Mickey  Wilkerson   28        Seattle-Tacoma-Bellevue, WA MSA   \n",
       "4     1001     Mickey  Wilkerson   28        Seattle-Tacoma-Bellevue, WA MSA   \n",
       "\n",
       "    reg_date      plan churn_date     month  min_by_month  calls_by_month  \\\n",
       "0 2018-12-24  ultimate        NaT  December         124.0            16.0   \n",
       "1 2018-08-13      surf        NaT    August         182.0            22.0   \n",
       "2 2018-08-13      surf        NaT  December         412.0            46.0   \n",
       "3 2018-08-13      surf        NaT  November         426.0            49.0   \n",
       "4 2018-08-13      surf        NaT   October         393.0            47.0   \n",
       "\n",
       "   messages_by_month  gb_used  income_by_month region  \n",
       "0               11.0      2.0            70.00  other  \n",
       "1               30.0      7.0            20.00  other  \n",
       "2               44.0     19.0            60.00  other  \n",
       "3               36.0     19.0            60.00  other  \n",
       "4               53.0     22.0            90.09  other  "
      ]
     },
     "execution_count": 66,
     "metadata": {},
     "output_type": "execute_result"
    }
   ],
   "source": [
    "megaline_complete.head()"
   ]
  },
  {
   "cell_type": "code",
   "execution_count": 67,
   "metadata": {},
   "outputs": [
    {
     "name": "stdout",
     "output_type": "stream",
     "text": [
      "<class 'pandas.core.frame.DataFrame'>\n",
      "RangeIndex: 2301 entries, 0 to 2300\n",
      "Data columns (total 15 columns):\n",
      " #   Column             Non-Null Count  Dtype         \n",
      "---  ------             --------------  -----         \n",
      " 0   user_id            2301 non-null   int64         \n",
      " 1   first_name         2301 non-null   object        \n",
      " 2   last_name          2301 non-null   object        \n",
      " 3   age                2301 non-null   int64         \n",
      " 4   city               2301 non-null   object        \n",
      " 5   reg_date           2301 non-null   datetime64[ns]\n",
      " 6   plan               2301 non-null   object        \n",
      " 7   churn_date         158 non-null    datetime64[ns]\n",
      " 8   month              2293 non-null   object        \n",
      " 9   min_by_month       2301 non-null   float64       \n",
      " 10  calls_by_month     2301 non-null   float64       \n",
      " 11  messages_by_month  2301 non-null   float64       \n",
      " 12  gb_used            2301 non-null   float64       \n",
      " 13  income_by_month    2301 non-null   float64       \n",
      " 14  region             2301 non-null   object        \n",
      "dtypes: datetime64[ns](2), float64(5), int64(2), object(6)\n",
      "memory usage: 269.8+ KB\n"
     ]
    }
   ],
   "source": [
    "megaline_complete.info()"
   ]
  },
  {
   "attachments": {},
   "cell_type": "markdown",
   "metadata": {},
   "source": [
    "**Conclusiones del apartado**"
   ]
  },
  {
   "attachments": {},
   "cell_type": "markdown",
   "metadata": {},
   "source": [
    "Este extenso apartado podríamos concluirlo en algunas partes:\n",
    "* Corregimos y enriquecimos los datos de cada tabla proporcionada, especialmente sus fechas, tipos y unidades de medida.\n",
    "* Luego, agregamos y resumimos estos datos por usuario al mes.\n",
    "* A continuación, unimos estas tablas-pivotes-resúmenes, creando un dataset final: ``megaline_complete`` y completando sus valores ausentes y defectuosos después de la unión.\n",
    "* Para obtener el ingreso mensual, creamos una función y devolvimos los ingresos mensuales por usuario.\n",
    "* Finalmente, separamos los estados de Nueva York - Nueva Jersey del resto de estados en miras de probar nuestras hipótesis más tarde.\n",
    "\n",
    "Del último vistazo al resumen de nuestro dataset final, notamos que aun tenemos valores ausentes, caso especial de ``churn_date``, cuyos ausentes se deben a la propia naturaleza de la variable. ``month`` solo cuenta con ocho valores ausentes.\n",
    "\n",
    "Estamos listos para el análisis exploratorio y de comportamiento del usuario."
   ]
  },
  {
   "attachments": {},
   "cell_type": "markdown",
   "metadata": {},
   "source": [
    "# Análisis exploratorio de datos y estudio del comportamiento del usuario <a id='c'></a>"
   ]
  },
  {
   "attachments": {},
   "cell_type": "markdown",
   "metadata": {},
   "source": [
    "En este apartado, realizaremos el análisis exploratorio y descriptivo de datos. Para lograr comparar efectivamente, dividiremos nuestro dataset final para cada plan y realizaremos gráficos para cada caso. A la vez definiremos los valores atípicos para luego ver si estos distorsionan nuestros datos y eliminarlos de nuestro dataset final. Empezamos con hacer un conteo de valores para cada plan:"
   ]
  },
  {
   "cell_type": "code",
   "execution_count": 69,
   "metadata": {},
   "outputs": [
    {
     "data": {
      "text/plain": [
       "surf        1578\n",
       "ultimate     723\n",
       "Name: plan, dtype: int64"
      ]
     },
     "execution_count": 69,
     "metadata": {},
     "output_type": "execute_result"
    }
   ],
   "source": [
    "megaline_complete['plan'].value_counts() #distribución de muestras para cada plan"
   ]
  },
  {
   "attachments": {},
   "cell_type": "markdown",
   "metadata": {},
   "source": [
    "Tenemos más información en el plan \"ultimate\": prácticamente el doble respecto a \"surf\". En casos donde sea necesario haremos hincapié en esta diferencia de datos y sus posibles implicaciones. \n",
    "\n",
    "Empezamos con ``surf``."
   ]
  },
  {
   "attachments": {},
   "cell_type": "markdown",
   "metadata": {},
   "source": [
    "## Análisis exploratorio y descriptivo para el plan ``surf`` <a id='c1'></a>"
   ]
  },
  {
   "attachments": {},
   "cell_type": "markdown",
   "metadata": {},
   "source": [
    "Para filtrar, usaremos el método \"query\" en nuestro dataset:"
   ]
  },
  {
   "cell_type": "code",
   "execution_count": 70,
   "metadata": {},
   "outputs": [
    {
     "name": "stdout",
     "output_type": "stream",
     "text": [
      "<class 'pandas.core.frame.DataFrame'>\n",
      "Int64Index: 1578 entries, 1 to 2300\n",
      "Data columns (total 15 columns):\n",
      " #   Column             Non-Null Count  Dtype         \n",
      "---  ------             --------------  -----         \n",
      " 0   user_id            1578 non-null   int64         \n",
      " 1   first_name         1578 non-null   object        \n",
      " 2   last_name          1578 non-null   object        \n",
      " 3   age                1578 non-null   int64         \n",
      " 4   city               1578 non-null   object        \n",
      " 5   reg_date           1578 non-null   datetime64[ns]\n",
      " 6   plan               1578 non-null   object        \n",
      " 7   churn_date         106 non-null    datetime64[ns]\n",
      " 8   month              1573 non-null   object        \n",
      " 9   min_by_month       1578 non-null   float64       \n",
      " 10  calls_by_month     1578 non-null   float64       \n",
      " 11  messages_by_month  1578 non-null   float64       \n",
      " 12  gb_used            1578 non-null   float64       \n",
      " 13  income_by_month    1578 non-null   float64       \n",
      " 14  region             1578 non-null   object        \n",
      "dtypes: datetime64[ns](2), float64(5), int64(2), object(6)\n",
      "memory usage: 197.2+ KB\n"
     ]
    }
   ],
   "source": [
    "megaline_surf = megaline_complete.query(\"plan == 'surf'\") # slice para plan surf\n",
    "megaline_surf.info()"
   ]
  },
  {
   "attachments": {},
   "cell_type": "markdown",
   "metadata": {},
   "source": [
    "Antes de empezar, para ayudarnos en el trazado de gráficos crearemos funciones para histogramas y diagramas de caja:"
   ]
  },
  {
   "attachments": {},
   "cell_type": "markdown",
   "metadata": {},
   "source": [
    "Usaremos histogramas para analizar la distribución de nuestros datos, que gracias al redondeo y su naturaleza propia, se tratan de numéricos discretos."
   ]
  },
  {
   "cell_type": "code",
   "execution_count": 99,
   "metadata": {},
   "outputs": [],
   "source": [
    "def plot_hist(data, column, color, bins=50, x_axis=(0,0)):  \n",
    "    sns.displot(data=data, x=column, color=color, bins=bins, kde=True)   #histograma de seaborn\n",
    "    plt.xlim(x_axis)\n",
    "    plt.title(column)\n",
    "    plt.show()"
   ]
  },
  {
   "attachments": {},
   "cell_type": "markdown",
   "metadata": {},
   "source": [
    "Usaremos diagramas de caja para ayudarnos a delimitar los valores atípicos de cada variable, y devolveremos los límites teóricos debajo del gráfico."
   ]
  },
  {
   "cell_type": "code",
   "execution_count": 83,
   "metadata": {},
   "outputs": [],
   "source": [
    "def plot_boxplot(data, column, y_axis=(0,0)):\n",
    "    Q1 = data[column].quantile(0.25)\n",
    "    Q3 = data[column].quantile(0.75)\n",
    "    IQR = Q3 - Q1  # rango intercuartil\n",
    "    \n",
    "    data.boxplot(column)\n",
    "    plt.ylim(y_axis)\n",
    "    plt.title(column)\n",
    "    plt.hlines(y=[(Q1 - 1.5*IQR), (Q3 + 1.5*IQR)], xmin=0.9, xmax=1.1, color='red') #grafica límites \n",
    "    plt.show()\n",
    "    \n",
    "    print(f\"El límite superior es {Q3 + 1.5*IQR}\") # devuelve los valores teóricos \n",
    "    print(f\"El límite superior es {Q1 - 1.5*IQR}\")"
   ]
  },
  {
   "attachments": {},
   "cell_type": "markdown",
   "metadata": {},
   "source": [
    "Empezamos con las llamadas."
   ]
  },
  {
   "attachments": {},
   "cell_type": "markdown",
   "metadata": {},
   "source": [
    "### Llamadas <a id='c11'></a>"
   ]
  },
  {
   "cell_type": "code",
   "execution_count": 108,
   "metadata": {},
   "outputs": [
    {
     "data": {
      "image/png": "[encoded data removed]",
      "text/plain": [
       "<Figure size 500x500 with 1 Axes>"
      ]
     },
     "metadata": {},
     "output_type": "display_data"
    }
   ],
   "source": [
    "plot_hist(megaline_surf, 'min_by_month', color='blue', bins=30, x_axis=(-80, 1700))"
   ]
  },
  {
   "cell_type": "code",
   "execution_count": 116,
   "metadata": {},
   "outputs": [
    {
     "data": {
      "text/plain": [
       "count    1578.000000\n",
       "mean      427.391001\n",
       "std       235.318904\n",
       "min         0.000000\n",
       "25%       269.250000\n",
       "50%       424.000000\n",
       "75%       576.000000\n",
       "max      1510.000000\n",
       "Name: min_by_month, dtype: float64"
      ]
     },
     "execution_count": 116,
     "metadata": {},
     "output_type": "execute_result"
    }
   ],
   "source": [
    "megaline_surf['min_by_month'].describe()"
   ]
  },
  {
   "cell_type": "code",
   "execution_count": 117,
   "metadata": {},
   "outputs": [
    {
     "data": {
      "text/plain": [
       "55374.986526454035"
      ]
     },
     "execution_count": 117,
     "metadata": {},
     "output_type": "execute_result"
    }
   ],
   "source": [
    "megaline_surf['min_by_month'].var()  # varianza de la columna"
   ]
  },
  {
   "attachments": {},
   "cell_type": "markdown",
   "metadata": {},
   "source": [
    "Teniendo en cuenta que este plan solo da 500 minutos al mes, observamos que los usuarios de este plan usan efectivamente en promedio 427 minutos al mes, y que el 50 % de estos usan 424 minutos al mes. En el gráfico observamos que el pico del histograma también se aproxima a estos valores y que este tiene una asimetría positiva. Se podría decir que, en promedio, *los usuarios del plan \"Surf\" usan menos minutos de lo que les proporciona su plan*.  Nuestra desviación estándar es de 235 minutos, con una varianza de 55375 (minutos al cuadrado). Esta desviación estándar no parece ser especialmente alta comparada con la media. Tenemos un mínimo de 0 minutos al mes y una gran cantidad de datos agrupados en el primer contenedor cercano a cero, lo cual resulta extraño teniendo en cuenta que eliminamos gran parte de este tipo de datos atípicos. De hecho, esto se dio debido a la unión entre tablas que hicimos, donde posiblemente muchos usuarios no tenían información en este rubro y luego los rellenamos con ceros. Para el otro extremo, a partir de los 1200 minutos los datos se hacen mucho menos frecuentes y también tienen apariencia de outliers.\n",
    "\n",
    "Para un mejor análisis de los valores extremos, usaremos nuestros diagramas de caja para ayudarnos a delimitarlos:"
   ]
  },
  {
   "cell_type": "code",
   "execution_count": 134,
   "metadata": {},
   "outputs": [
    {
     "data": {
      "image/png": "[encoded data removed]",
      "text/plain": [
       "<Figure size 640x480 with 1 Axes>"
      ]
     },
     "metadata": {},
     "output_type": "display_data"
    },
    {
     "name": "stdout",
     "output_type": "stream",
     "text": [
      "El límite superior es 1036.125\n",
      "El límite superior es -190.875\n"
     ]
    }
   ],
   "source": [
    "plot_boxplot(megaline_surf, 'min_by_month', y_axis=(-200, 1500))"
   ]
  },
  {
   "attachments": {},
   "cell_type": "markdown",
   "metadata": {},
   "source": [
    "El diagrama de caja nos ayuda a delimitar los valores extremos. Para las llamadas mensuales de los usuario de Surf, el límite máximo de donde se pueden tomar los valores atípicos superiores están hacia alrededor de 1000 minutos. El límite inferior teórico apoya nuestra afirmación del sesgo positivo de nuestros datos.\n",
    "\n",
    "Ahora continuaremos con los mensajes."
   ]
  },
  {
   "attachments": {},
   "cell_type": "markdown",
   "metadata": {},
   "source": [
    "### Mensajes <a id='c12'></a>"
   ]
  },
  {
   "cell_type": "code",
   "execution_count": 140,
   "metadata": {},
   "outputs": [
    {
     "data": {
      "image/png": "[encoded data removed]",
      "text/plain": [
       "<Figure size 500x500 with 1 Axes>"
      ]
     },
     "metadata": {},
     "output_type": "display_data"
    }
   ],
   "source": [
    "plot_hist(megaline_surf, 'messages_by_month', color='blue', bins=30, x_axis=(-10, 250))"
   ]
  },
  {
   "cell_type": "code",
   "execution_count": 141,
   "metadata": {},
   "outputs": [
    {
     "data": {
      "text/plain": [
       "count    1578.000000\n",
       "mean       31.060837\n",
       "std        33.559213\n",
       "min         0.000000\n",
       "25%         3.000000\n",
       "50%        24.000000\n",
       "75%        47.000000\n",
       "max       266.000000\n",
       "Name: messages_by_month, dtype: float64"
      ]
     },
     "execution_count": 141,
     "metadata": {},
     "output_type": "execute_result"
    }
   ],
   "source": [
    "megaline_surf['messages_by_month'].describe()"
   ]
  },
  {
   "cell_type": "code",
   "execution_count": 144,
   "metadata": {},
   "outputs": [
    {
     "data": {
      "text/plain": [
       "1126.2207734279123"
      ]
     },
     "execution_count": 144,
     "metadata": {},
     "output_type": "execute_result"
    }
   ],
   "source": [
    "megaline_surf['messages_by_month'].var()"
   ]
  },
  {
   "attachments": {},
   "cell_type": "markdown",
   "metadata": {},
   "source": [
    "El plan Surf solo incluye 50 mensajes de texto al mes dentro de su plan. De los estadísticos podemos afirmar que los usuarios de Surf usan efectivamente en promedio 31 mensajes al mes, y que el 50 % de los usuarios usan 24 mensajes al mes. En el gráfico notamos que el pico (moda) está cerca a cero, mostrando una asimetría positiva más pronunciada. De esto se puede afirmar que, en promedio, *los usuarios del plan \"Surf\" usan menos mensajes que los proporcionados en su plan*. La desviación estándar es de 33 mensajes, y la varianza de 1126 (mensajes al cuadrado); en este caso, se tratan de valores más altos respecto a la media e indican la alta dispersión de nuestros datos. La diferencia entre media y mediana, así como el gráfico dan indicios claros de valores atípicos, especialmente acumulados en el mínimo de 0 mensajes al mes. Esto también es consecuencia del método de unión de tablas y el llenado de ausentes realizado, de lo cual podemos deducir que hay muchos clientes que no usan su servicio de mensajería incluido. Para el extremo superior, desde los 150 mensajes al mes los valores empiezan a volverse escasos.\n",
    "\n",
    "Para continuar con el análisis de datos extremos, usaremos un diagrama de caja a continuación:"
   ]
  },
  {
   "cell_type": "code",
   "execution_count": 147,
   "metadata": {},
   "outputs": [
    {
     "data": {
      "image/png": "[encoded data removed]",
      "text/plain": [
       "<Figure size 640x480 with 1 Axes>"
      ]
     },
     "metadata": {},
     "output_type": "display_data"
    },
    {
     "name": "stdout",
     "output_type": "stream",
     "text": [
      "El límite superior es 113.0\n",
      "El límite superior es -63.0\n"
     ]
    }
   ],
   "source": [
    "plot_boxplot(megaline_surf, 'messages_by_month', y_axis=(-100, 250))"
   ]
  },
  {
   "attachments": {},
   "cell_type": "markdown",
   "metadata": {},
   "source": [
    "El límite superior delimitado por el diagrama de caja es de 113 mensajes, a partir del cual se consideran valores ausentes. Para el otro lado, la gran acumulación de datos hacia el cero nuevamente muestra el fuerte sesgo positivo de la distribución. Este caso parece merecer una especial atención. Buscaremos la moda de la columna ordenando el conteo de valores de la columna:"
   ]
  },
  {
   "cell_type": "code",
   "execution_count": 153,
   "metadata": {},
   "outputs": [
    {
     "data": {
      "text/plain": [
       "0.0     0.225602\n",
       "11.0    0.019645\n",
       "24.0    0.019645\n",
       "3.0     0.018378\n",
       "4.0     0.017744\n",
       "Name: messages_by_month, dtype: float64"
      ]
     },
     "execution_count": 153,
     "metadata": {},
     "output_type": "execute_result"
    }
   ],
   "source": [
    "megaline_surf['messages_by_month'].value_counts(normalize=True).sort_values(ascending=False).head()"
   ]
  },
  {
   "attachments": {},
   "cell_type": "markdown",
   "metadata": {},
   "source": [
    "El 22.5 % de las filas de los mensajes usados por los clientes son ceros. Es decir, un buen porcentaje (la quinta parte o uno de cada cinco) de nuestros clientes del plan \"Surf\" no usan este servicio. \n",
    "\n",
    "Continuamos con el uso de internet."
   ]
  },
  {
   "attachments": {},
   "cell_type": "markdown",
   "metadata": {},
   "source": [
    "### Internet <a id='c13'></a>"
   ]
  },
  {
   "cell_type": "code",
   "execution_count": 155,
   "metadata": {},
   "outputs": [
    {
     "data": {
      "image/png": "[encoded data removed]",
      "text/plain": [
       "<Figure size 500x500 with 1 Axes>"
      ]
     },
     "metadata": {},
     "output_type": "display_data"
    }
   ],
   "source": [
    "plot_hist(megaline_surf, 'gb_used', color='blue', bins=30, x_axis=(-5, 80))"
   ]
  },
  {
   "cell_type": "code",
   "execution_count": 156,
   "metadata": {},
   "outputs": [
    {
     "data": {
      "text/plain": [
       "count    1578.000000\n",
       "mean       16.617871\n",
       "std         7.890925\n",
       "min         0.000000\n",
       "25%        12.000000\n",
       "50%        17.000000\n",
       "75%        21.000000\n",
       "max        70.000000\n",
       "Name: gb_used, dtype: float64"
      ]
     },
     "execution_count": 156,
     "metadata": {},
     "output_type": "execute_result"
    }
   ],
   "source": [
    "megaline_surf['gb_used'].describe()"
   ]
  },
  {
   "cell_type": "code",
   "execution_count": 157,
   "metadata": {},
   "outputs": [
    {
     "data": {
      "text/plain": [
       "62.26669375119048"
      ]
     },
     "execution_count": 157,
     "metadata": {},
     "output_type": "execute_result"
    }
   ],
   "source": [
    "megaline_surf['gb_used'].var()"
   ]
  },
  {
   "attachments": {},
   "cell_type": "markdown",
   "metadata": {},
   "source": [
    "El Plan \"Surf\" entrega a sus usuarios acceso a 15 GB de datos al mes antes de exceder el límite. Para los datos obtenidos, los usuarios en promedio usan 16 GB de datos de su plan al mes. El 50 % de los usuarios usan 17 GB. El histograma muestra que el pico está cerca a los 15 GB y la diferencia entre media y mediana nos muestra un ligero sesgo. En promedio, *los usuarios del plan \"Surf\" usan menos de la mitad de los datos que les proporciona su plan*. Al ser un servicio más costoso en su exceso, parece que los usuarios tienden a ser más cautelosos con su uso. La desviación estándar es de 7.9 GB y la varianza de 62 (GB al cuadrado), lo cual muestra una relativa poca dispersión respecto a la media y su valor. Tambíen tenemos un mínimo de 0 GB usados, tratándose posiblemente de usuarios que no usan el servicio. En el otro extremo, los valores empiezan a ser poco frecuentes a partir de 40 GB.\n",
    "\n",
    "Los límites los observaremos mejor con el gráfico de caja respectivo:"
   ]
  },
  {
   "cell_type": "code",
   "execution_count": 159,
   "metadata": {},
   "outputs": [
    {
     "data": {
      "image/png": "[encoded data removed]",
      "text/plain": [
       "<Figure size 640x480 with 1 Axes>"
      ]
     },
     "metadata": {},
     "output_type": "display_data"
    },
    {
     "name": "stdout",
     "output_type": "stream",
     "text": [
      "El límite superior es 34.5\n",
      "El límite superior es -1.5\n"
     ]
    }
   ],
   "source": [
    "plot_boxplot(megaline_surf, column='gb_used', y_axis=(-5, 50))"
   ]
  },
  {
   "attachments": {},
   "cell_type": "markdown",
   "metadata": {},
   "source": [
    "El gráfico de caja y sus límites nos indica que el límite superior en realidad es de 35 GB, a partir del cual los valores se consideran atípicos. La pequeña diferencia en el límite inferior graficado y teórico muestra el ligero sesgo y acumulación de los datos. Como se explicó líneas arriba, los usuarios de internet del plan \"Surf\" muestran un comportamiento más medido.\n",
    "\n",
    "La siguiente columna se trata de los ingresos que genera \"Surf\"."
   ]
  },
  {
   "attachments": {},
   "cell_type": "markdown",
   "metadata": {},
   "source": [
    "### Ingresos <a id='c14'></a>"
   ]
  },
  {
   "attachments": {},
   "cell_type": "markdown",
   "metadata": {},
   "source": [
    "[Del mismo modo en que has estudiado el comportamiento del usuario, es decir, estadísticamente, describe el ingreso entre los planes.]"
   ]
  },
  {
   "cell_type": "code",
   "execution_count": 161,
   "metadata": {},
   "outputs": [
    {
     "data": {
      "image/png": "[encoded data removed]",
      "text/plain": [
       "<Figure size 500x500 with 1 Axes>"
      ]
     },
     "metadata": {},
     "output_type": "display_data"
    }
   ],
   "source": [
    "plot_hist(megaline_surf, 'income_by_month', color='blue', bins=30, x_axis=(-0, 500))"
   ]
  },
  {
   "cell_type": "code",
   "execution_count": 162,
   "metadata": {},
   "outputs": [
    {
     "data": {
      "text/plain": [
       "count    1578.000000\n",
       "mean       60.577427\n",
       "std        55.347497\n",
       "min        20.000000\n",
       "25%        20.000000\n",
       "50%        40.180000\n",
       "75%        80.322500\n",
       "max       590.370000\n",
       "Name: income_by_month, dtype: float64"
      ]
     },
     "execution_count": 162,
     "metadata": {},
     "output_type": "execute_result"
    }
   ],
   "source": [
    "megaline_surf['income_by_month'].describe()"
   ]
  },
  {
   "cell_type": "code",
   "execution_count": 163,
   "metadata": {},
   "outputs": [
    {
     "data": {
      "text/plain": [
       "3063.345381074267"
      ]
     },
     "execution_count": 163,
     "metadata": {},
     "output_type": "execute_result"
    }
   ],
   "source": [
    "megaline_surf['income_by_month'].var()"
   ]
  },
  {
   "attachments": {},
   "cell_type": "markdown",
   "metadata": {},
   "source": [
    "En este caso no tenemos un monto a comparar, aunque podemos afirmar que los usuarios del plan \"Surf\" generan en promedio 60 dólares al mes de ingresos, mientras que el 50 % de estos generan 40 dólares de ingresos mensuales. Esta diferencia entre media y mediana, sumado al gráfico, hace bastante evidente que la mayor parte de nuestros datos están acumulados hacia el monto del pago mensual, de hecho, el 25 % de los usuarios pagan los 20 dólares del plan, un porcetanje relativamente alto. A pesar de que una buena parte de los usuarios Surf solo pagan su tarifario mensual, en promedio, *los usuarios del plan \"Surf\" generan 60 $ de ingresos mensuales, consumiendo más allá de lo que les proporciona su plan*. La desviación estándar es de 55 dólares y la varianza es de 3063 (dólares al cuadrado), que es relativamente alto comparada a la media, mostrando una relativa alta dispersión de nuestros datos. Acerca de los datos extremos, hacia el lado inferior de los datos, el valor mínimo es de 20 dólares, lo cual es esperable teniendo en cuenta que es el pago mensual mínimo. Para el otro lado, vemos que los ingresos mayores a 200 dólares al mes se vuelven escasos.\n",
    "\n",
    "Para complementar el análisis de los valores extremos, realizaremos el diagrama de caja respectivo:"
   ]
  },
  {
   "cell_type": "code",
   "execution_count": 171,
   "metadata": {},
   "outputs": [
    {
     "data": {
      "image/png": "[encoded data removed]",
      "text/plain": [
       "<Figure size 640x480 with 1 Axes>"
      ]
     },
     "metadata": {},
     "output_type": "display_data"
    },
    {
     "name": "stdout",
     "output_type": "stream",
     "text": [
      "El límite superior es 170.80624999999998\n",
      "El límite superior es -70.48374999999999\n"
     ]
    }
   ],
   "source": [
    "plot_boxplot(megaline_surf, 'income_by_month', y_axis=(-100, 400))"
   ]
  },
  {
   "attachments": {},
   "cell_type": "markdown",
   "metadata": {},
   "source": [
    "El diagrama muestra la gran acumulación en el lado inferior de la distribución y asigna como valores atípicos a aquellos más allá de 170 $ mensuales. Tendremos esto en cuenta al compararlo con el otro plan, *Ultimate*.\n",
    "\n",
    "Para tener una idea de su verdadera distribución y una más representativa, vemos muy probable prescindir de estos valores atípicos más adelante. Aunque aclaramos que la gran dispersión y existencia relativa de muchos valores atípicos superiores hace que los ingresos promedio recibidos por la empresa sean más altos."
   ]
  },
  {
   "attachments": {},
   "cell_type": "markdown",
   "metadata": {},
   "source": [
    "**Pequeñas conclusiones acerca de los usuarios *Surf***"
   ]
  },
  {
   "attachments": {},
   "cell_type": "markdown",
   "metadata": {},
   "source": [
    "Podemos resaltar que los usuarios *Surf*, consumen más de los servicios brindados por su plan básico y su pago promedio lo demuestra, también cuentan con una alta dispersión en general. No se tiene claro qué servicio (llamadas, mensajes o internet) es el que hace que el promedio sea bastante mayor que el pago mensual mínimo (aunque se sospecha del internet, por su promedio y costo), pero sí se tiene relativamente claro que estos clientes podrían usar un plan con más prestaciones debido a su comportamiento. Hay una gran oportunidad de mejora para estos clientes y para la empresa.\n",
    "\n",
    "Para relativizar todo lo encontrado hasta ahora, ahora haremos el análisis exploratorio - descriptivo de los usuarios *Ultimate*."
   ]
  },
  {
   "attachments": {},
   "cell_type": "markdown",
   "metadata": {},
   "source": [
    "## Análisis exploratorio y descriptivo para el plan ``ultimate`` <a id='c2'></a>"
   ]
  },
  {
   "attachments": {},
   "cell_type": "markdown",
   "metadata": {},
   "source": [
    "Empezaremos usando el método \"query\" para filtar a los usuarios *Ultimate*:"
   ]
  },
  {
   "cell_type": "code",
   "execution_count": 172,
   "metadata": {},
   "outputs": [
    {
     "name": "stdout",
     "output_type": "stream",
     "text": [
      "<class 'pandas.core.frame.DataFrame'>\n",
      "Int64Index: 723 entries, 0 to 2285\n",
      "Data columns (total 15 columns):\n",
      " #   Column             Non-Null Count  Dtype         \n",
      "---  ------             --------------  -----         \n",
      " 0   user_id            723 non-null    int64         \n",
      " 1   first_name         723 non-null    object        \n",
      " 2   last_name          723 non-null    object        \n",
      " 3   age                723 non-null    int64         \n",
      " 4   city               723 non-null    object        \n",
      " 5   reg_date           723 non-null    datetime64[ns]\n",
      " 6   plan               723 non-null    object        \n",
      " 7   churn_date         52 non-null     datetime64[ns]\n",
      " 8   month              720 non-null    object        \n",
      " 9   min_by_month       723 non-null    float64       \n",
      " 10  calls_by_month     723 non-null    float64       \n",
      " 11  messages_by_month  723 non-null    float64       \n",
      " 12  gb_used            723 non-null    float64       \n",
      " 13  income_by_month    723 non-null    float64       \n",
      " 14  region             723 non-null    object        \n",
      "dtypes: datetime64[ns](2), float64(5), int64(2), object(6)\n",
      "memory usage: 90.4+ KB\n"
     ]
    }
   ],
   "source": [
    "megaline_ultimate = megaline_complete.query('plan == \"ultimate\"') #slice para plan ultimate\n",
    "megaline_ultimate.info()"
   ]
  },
  {
   "attachments": {},
   "cell_type": "markdown",
   "metadata": {},
   "source": [
    "Empezaremos con las llamadas."
   ]
  },
  {
   "attachments": {},
   "cell_type": "markdown",
   "metadata": {},
   "source": [
    "### Llamadas <a id='c21'></a>"
   ]
  },
  {
   "cell_type": "code",
   "execution_count": 178,
   "metadata": {},
   "outputs": [
    {
     "data": {
      "image/png": "[encoded data removed]",
      "text/plain": [
       "<Figure size 500x500 with 1 Axes>"
      ]
     },
     "metadata": {},
     "output_type": "display_data"
    }
   ],
   "source": [
    "plot_hist(megaline_ultimate, 'min_by_month', color='green', bins=25, x_axis=(-100, 2000))"
   ]
  },
  {
   "cell_type": "code",
   "execution_count": 176,
   "metadata": {},
   "outputs": [
    {
     "data": {
      "text/plain": [
       "count     723.000000\n",
       "mean      428.663900\n",
       "std       241.600519\n",
       "min         0.000000\n",
       "25%       259.000000\n",
       "50%       422.000000\n",
       "75%       564.500000\n",
       "max      1369.000000\n",
       "Name: min_by_month, dtype: float64"
      ]
     },
     "execution_count": 176,
     "metadata": {},
     "output_type": "execute_result"
    }
   ],
   "source": [
    "megaline_ultimate['min_by_month'].describe()"
   ]
  },
  {
   "cell_type": "code",
   "execution_count": 177,
   "metadata": {},
   "outputs": [
    {
     "data": {
      "text/plain": [
       "58370.810703325245"
      ]
     },
     "execution_count": 177,
     "metadata": {},
     "output_type": "execute_result"
    }
   ],
   "source": [
    "megaline_ultimate['min_by_month'].var()"
   ]
  },
  {
   "attachments": {},
   "cell_type": "markdown",
   "metadata": {},
   "source": [
    "El plan *Ultimate* da a sus usuarios 3000 minutos al mes sin cobros, el cual resulta una cantidad bastante generosa teniendo en cuenta que los usuarios en promedio usan solo 429 minutos mensuales, y el 50 % de ellos usan 422 de sus minutos mensuales. En el histograma notamos que el pico está cerca a estos valores, así como se tiene una ligera asimetría positiva. La desviación estándar es de 241 minutos mensuales y la varianza de 58371, siendo no tan relativamente grande respecto a la media. Si comparamos con los usuarios *Surf*, el comportamiento no es muy diferente, tanto en media como el la forma de la distribución. Las diferencias más sustanciales solo se dan por la diferencia de usuarios de cada plan. Hacia el lado inferior, tenemos una pequeña agrupación de datos hacia valores cercanos a cero, que indica a los clientes que no hacen uso de sus minutos, al igual que los usuarios *Surf*. Hacia el lado superior, valores más allá de 1250 parecen ser escasos y atípicos.\n",
    "\n",
    "Continuaremos con el gráfico de caja."
   ]
  },
  {
   "cell_type": "code",
   "execution_count": 179,
   "metadata": {},
   "outputs": [
    {
     "data": {
      "image/png": "[encoded data removed]",
      "text/plain": [
       "<Figure size 640x480 with 1 Axes>"
      ]
     },
     "metadata": {},
     "output_type": "display_data"
    },
    {
     "name": "stdout",
     "output_type": "stream",
     "text": [
      "El límite superior es 1022.75\n",
      "El límite superior es -199.25\n"
     ]
    }
   ],
   "source": [
    "plot_boxplot(megaline_ultimate, 'min_by_month', (-200, 1400))"
   ]
  },
  {
   "attachments": {},
   "cell_type": "markdown",
   "metadata": {},
   "source": [
    "Este diagrama nos muestra que el límite superior es de 1023 llamadas mensuales. Hacia el lado inferior nuevamente notamos la agrupación de datos. Estos límites no difieren mucho de los usuarios *Surf*, por tanto, en ambos casos los clientes tienden a tener un comportamiento parecido.\n",
    "\n",
    "Para capturar parte de la naturaleza de la distribución de llamadas, el límite superior será fijado en 1100 al momento de filtrar los valores atípicos."
   ]
  },
  {
   "attachments": {},
   "cell_type": "markdown",
   "metadata": {},
   "source": [
    "### Mensajes <a id='c22'></a>"
   ]
  },
  {
   "cell_type": "code",
   "execution_count": 184,
   "metadata": {},
   "outputs": [
    {
     "data": {
      "image/png": "[encoded data removed]",
      "text/plain": [
       "<Figure size 500x500 with 1 Axes>"
      ]
     },
     "metadata": {},
     "output_type": "display_data"
    }
   ],
   "source": [
    "plot_hist(megaline_ultimate, 'messages_by_month', 'green', 25, (-10, 200))"
   ]
  },
  {
   "cell_type": "code",
   "execution_count": 182,
   "metadata": {},
   "outputs": [
    {
     "data": {
      "text/plain": [
       "count    723.000000\n",
       "mean      37.395574\n",
       "std       34.778859\n",
       "min        0.000000\n",
       "25%        6.500000\n",
       "50%       30.000000\n",
       "75%       60.500000\n",
       "max      166.000000\n",
       "Name: messages_by_month, dtype: float64"
      ]
     },
     "execution_count": 182,
     "metadata": {},
     "output_type": "execute_result"
    }
   ],
   "source": [
    "megaline_ultimate['messages_by_month'].describe()"
   ]
  },
  {
   "cell_type": "code",
   "execution_count": 183,
   "metadata": {},
   "outputs": [
    {
     "data": {
      "text/plain": [
       "1209.5690662559434"
      ]
     },
     "execution_count": 183,
     "metadata": {},
     "output_type": "execute_result"
    }
   ],
   "source": [
    "megaline_ultimate['messages_by_month'].var()"
   ]
  },
  {
   "attachments": {},
   "cell_type": "markdown",
   "metadata": {},
   "source": [
    "El plan *Ultimate* da 1000 mensajes al mes antes de exceder su límite, y de igual forma que en las llamadas, es bastante comparado a lo que efectivamente usan sus usuarios al mes: 37 mensajes en promedio, y el 50 % de los usuarios *Ultimate* solo usan 30 mensajes al mes. El gráfico muestra un pico (moda) cerca a cero, también teniendo una asimetría positiva más pronunciada. La desviación estándar de 34 mensajes y varianza de 1209 (mensajes al cuadrado) indican una dispersión más elevada de los datos. Este comportamiento es bastante similar al de los usuarios *Surf*, tanto en la distribución, como en media y mediana. Hacia el lado inferior la agrupación hacia el cero muestra a los usuarios que no usan mensajes, una gran proporción. Hacia el lado superior, desde los 150 mensajes se podrían considerar valores atípicos."
   ]
  },
  {
   "cell_type": "code",
   "execution_count": 186,
   "metadata": {},
   "outputs": [
    {
     "data": {
      "image/png": "[encoded data removed]",
      "text/plain": [
       "<Figure size 640x480 with 1 Axes>"
      ]
     },
     "metadata": {},
     "output_type": "display_data"
    },
    {
     "name": "stdout",
     "output_type": "stream",
     "text": [
      "El límite superior es 141.5\n",
      "El límite superior es -74.5\n"
     ]
    }
   ],
   "source": [
    "plot_boxplot(megaline_ultimate, 'messages_by_month', (-80, 200))"
   ]
  },
  {
   "attachments": {},
   "cell_type": "markdown",
   "metadata": {},
   "source": [
    "El gráfico de caja también muestra que el límite superior desde el cual los valores son atípicos es de 142 mensajes mensuales. El límite inferior muestra la gran agrupación de datos en esta zona de la distribución. También analizaremos un poco más a estos valores ceros ubicando la moda de la distribución:"
   ]
  },
  {
   "cell_type": "code",
   "execution_count": 188,
   "metadata": {},
   "outputs": [
    {
     "data": {
      "text/plain": [
       "0.0     0.192254\n",
       "2.0     0.017981\n",
       "30.0    0.017981\n",
       "15.0    0.016598\n",
       "13.0    0.016598\n",
       "Name: messages_by_month, dtype: float64"
      ]
     },
     "execution_count": 188,
     "metadata": {},
     "output_type": "execute_result"
    }
   ],
   "source": [
    "megaline_ultimate['messages_by_month'].value_counts(normalize=True).sort_values(ascending=False).head()"
   ]
  },
  {
   "attachments": {},
   "cell_type": "markdown",
   "metadata": {},
   "source": [
    "Tenemos que alrededor del 19 % de los usuarios *Ultimate* no usan el servicio. Nuevamente, 1 de cada 5 usuarios no usan el servicio, proporción bastante similar al de usuarios *Surf*.\n",
    "\n",
    "Continuamos con el uso de internet."
   ]
  },
  {
   "attachments": {},
   "cell_type": "markdown",
   "metadata": {},
   "source": [
    "### Internet <a id='c23'></a>"
   ]
  },
  {
   "cell_type": "code",
   "execution_count": 194,
   "metadata": {},
   "outputs": [
    {
     "data": {
      "image/png": "[encoded data removed]",
      "text/plain": [
       "<Figure size 500x500 with 1 Axes>"
      ]
     },
     "metadata": {},
     "output_type": "display_data"
    }
   ],
   "source": [
    "plot_hist(megaline_ultimate, 'gb_used', 'green', 25, (-5, 50))"
   ]
  },
  {
   "cell_type": "code",
   "execution_count": 195,
   "metadata": {},
   "outputs": [
    {
     "data": {
      "text/plain": [
       "count    723.000000\n",
       "mean      17.235131\n",
       "std        7.734696\n",
       "min        0.000000\n",
       "25%       13.000000\n",
       "50%       17.000000\n",
       "75%       21.000000\n",
       "max       46.000000\n",
       "Name: gb_used, dtype: float64"
      ]
     },
     "execution_count": 195,
     "metadata": {},
     "output_type": "execute_result"
    }
   ],
   "source": [
    "megaline_ultimate['gb_used'].describe()"
   ]
  },
  {
   "cell_type": "code",
   "execution_count": 196,
   "metadata": {},
   "outputs": [
    {
     "data": {
      "text/plain": [
       "59.825523078278785"
      ]
     },
     "execution_count": 196,
     "metadata": {},
     "output_type": "execute_result"
    }
   ],
   "source": [
    "megaline_ultimate['gb_used'].var()"
   ]
  },
  {
   "attachments": {},
   "cell_type": "markdown",
   "metadata": {},
   "source": [
    "Si tenemos en cuenta que el plan *Ultimate* da a sus usuarios hasta 30 GB de datos mensuales, los clientes en promedio solo usan 17 GB de sus datos mensuales. El 50 % de los usuarios también usan 17 GB de sus datos al mes. El histograma muestra un pico para esos valores aproximadamente, y parece ser más simétrico respecto a todas las anteriores distribuciones. La desviación estándar es de 7 GB (aprox.) y su varianza de 60 (GB al cuadrado). En general, los estadísticos y la distribución se parecen bastante al comportamiento de los usuarios *Surf*. Tenemos un minimo de cero GB al mes, que correspondería a los usuarios que no hacen uso de sus datos. Para el lado superior, notamos que desde los 40 GB al mes los valores son poco frecuentes. El valor máximo registrado es del 46 GB.\n",
    "\n",
    "Observaremos mejor los límites de valores atípicos con los gráficos de caja."
   ]
  },
  {
   "cell_type": "code",
   "execution_count": 198,
   "metadata": {},
   "outputs": [
    {
     "data": {
      "image/png": "[encoded data removed]",
      "text/plain": [
       "<Figure size 640x480 with 1 Axes>"
      ]
     },
     "metadata": {},
     "output_type": "display_data"
    },
    {
     "name": "stdout",
     "output_type": "stream",
     "text": [
      "El límite superior es 33.0\n",
      "El límite superior es 1.0\n"
     ]
    }
   ],
   "source": [
    "plot_boxplot(megaline_ultimate, 'gb_used', (0, 50))"
   ]
  },
  {
   "attachments": {},
   "cell_type": "markdown",
   "metadata": {},
   "source": [
    "De hecho, usando la lógica del rango intercuartil, el límite superior se recomienda para 33 GB mensuales, a partir del cual se consideran outliers (superiores). Para el lado opuesto, se toma como 1 GB al límite inferior. La relativa poca dispersión muestra que también los usuarios *Ultimate* usan un poco más de la mitad de sus datos proporcionados por su plan. \n",
    "\n",
    "Se podría decir que en general, los usuarios de ambos planes tienen usos similares de los distintos servicios proporcionados por sus planes. Ahora analizaremos los ingresos generados por los usuarios *Ultimate*."
   ]
  },
  {
   "attachments": {},
   "cell_type": "markdown",
   "metadata": {},
   "source": [
    "### Ingresos <a id='c24'></a>"
   ]
  },
  {
   "cell_type": "code",
   "execution_count": 205,
   "metadata": {},
   "outputs": [
    {
     "data": {
      "image/png": "[encoded data removed]",
      "text/plain": [
       "<Figure size 500x500 with 1 Axes>"
      ]
     },
     "metadata": {},
     "output_type": "display_data"
    }
   ],
   "source": [
    "plot_hist(megaline_ultimate, 'income_by_month', 'green', 30, (60, 190))"
   ]
  },
  {
   "cell_type": "code",
   "execution_count": 202,
   "metadata": {},
   "outputs": [
    {
     "data": {
      "text/plain": [
       "count    723.000000\n",
       "mean      72.304288\n",
       "std       11.372383\n",
       "min       70.000000\n",
       "25%       70.000000\n",
       "50%       70.000000\n",
       "75%       70.000000\n",
       "max      182.000000\n",
       "Name: income_by_month, dtype: float64"
      ]
     },
     "execution_count": 202,
     "metadata": {},
     "output_type": "execute_result"
    }
   ],
   "source": [
    "megaline_ultimate['income_by_month'].describe()"
   ]
  },
  {
   "cell_type": "code",
   "execution_count": 203,
   "metadata": {},
   "outputs": [
    {
     "data": {
      "text/plain": [
       "129.33110347390644"
      ]
     },
     "execution_count": 203,
     "metadata": {},
     "output_type": "execute_result"
    }
   ],
   "source": [
    "megaline_ultimate['income_by_month'].var()"
   ]
  },
  {
   "attachments": {},
   "cell_type": "markdown",
   "metadata": {},
   "source": [
    "El usuario promedio del plan *Ultimate* genera 72 dólares mensuales de ingresos a la empresa, y el 50 % de ellos pagan 70 dólares al mes. Es decir, en promedio, *un usuario \"Ultimate\" no se excede de su plan en demasía*. De hecho, la distribución muestra algo acorde a lo esperado: la mayor parte de los usuarios *Ultimate* generan solo los ingresos de su plan principal. Teniendo en cuenta que en los anteriores análisis los casos que superaban al límite del plan eran pocos, este era un resultado esperable. Teniendo en cuenta esto, debido a la naturaleza de la distribución, no podemos declarar fácilmente límites para los valores atípicos, aunque recordemos que para los usuarios *Surf*, logramos deducir que los valores atípicos estaban más allá de los 170 dólares. En base a esto podemos tener una referencia y prescindir de valores más allá de los 200, para considerar la naturaleza asimétrica de ambas distribuciones."
   ]
  },
  {
   "attachments": {},
   "cell_type": "markdown",
   "metadata": {},
   "source": [
    "**Pequeñas conclusiones acerca de los usuarios *Ultimate***"
   ]
  },
  {
   "attachments": {},
   "cell_type": "markdown",
   "metadata": {},
   "source": [
    "Después de comparar el comportamiento de ambos planes, podemos afirmar que los clientes *Ultimate* no difieren mucho en su comportamiento respecto a los del plan *Surf* y eso causa que no usen todo lo que su plan *Ultimate* les proporciona. En todas las distribuciones notamos una dispersión también es parecida, pero el plan acapara dentro de sus límites a la mayor parte del uso de servicios móviles de sus usuarios. Podríamos decir también que este plan podría ajustarse un poco mejor al uso de la mayor parte de los clientes de la empresa. Nos falta determinar qué plan es el que estadisticamente genera más ingresos a la empresa, pero antes, filtraremos a los valores atípicos."
   ]
  },
  {
   "attachments": {},
   "cell_type": "markdown",
   "metadata": {},
   "source": [
    "## Trabajando con los valores atípicos <a id='c3'></a>"
   ]
  },
  {
   "attachments": {},
   "cell_type": "markdown",
   "metadata": {},
   "source": [
    "Haremos un pequeño resumen para luego aplicar en nuestro filtrado final:\n",
    "* Para las llamadas, el límite aproximado para ambos planes es de 1030, pero tomaremos 1040 para capturar la asimetría de sus distribuciones.\n",
    "* Para los mensajes, el límite aproximado para ambos planes es de 130, aunque tomaremos 140 para capturar la naturaleza asimétrica de estas distribuciones.\n",
    "* Para el uso de internet, el límite aproximado para ambos planes es de 33, aunque tomaremos como 35 al valor de referencia y mantendremos los valores inferiores para compensar la simetría.\n",
    "* Para los ingresos, el límite lo definimos para los 200 dólares al mes.\n",
    "\n",
    "Aplicaremos estos filtros a nuestra tabla ``megaline_complete``."
   ]
  },
  {
   "cell_type": "code",
   "execution_count": 209,
   "metadata": {},
   "outputs": [
    {
     "name": "stdout",
     "output_type": "stream",
     "text": [
      "<class 'pandas.core.frame.DataFrame'>\n",
      "Int64Index: 2162 entries, 0 to 2300\n",
      "Data columns (total 15 columns):\n",
      " #   Column             Non-Null Count  Dtype         \n",
      "---  ------             --------------  -----         \n",
      " 0   user_id            2162 non-null   int64         \n",
      " 1   first_name         2162 non-null   object        \n",
      " 2   last_name          2162 non-null   object        \n",
      " 3   age                2162 non-null   int64         \n",
      " 4   city               2162 non-null   object        \n",
      " 5   reg_date           2162 non-null   datetime64[ns]\n",
      " 6   plan               2162 non-null   object        \n",
      " 7   churn_date         156 non-null    datetime64[ns]\n",
      " 8   month              2154 non-null   object        \n",
      " 9   min_by_month       2162 non-null   float64       \n",
      " 10  calls_by_month     2162 non-null   float64       \n",
      " 11  messages_by_month  2162 non-null   float64       \n",
      " 12  gb_used            2162 non-null   float64       \n",
      " 13  income_by_month    2162 non-null   float64       \n",
      " 14  region             2162 non-null   object        \n",
      "dtypes: datetime64[ns](2), float64(5), int64(2), object(6)\n",
      "memory usage: 270.2+ KB\n"
     ]
    }
   ],
   "source": [
    "megaline_final = megaline_complete.query(\"min_by_month < 1040 and messages_by_month < 140 and gb_used < 35 and income_by_month < 200\")\n",
    "# filtrado final en base a lo hallado\n",
    "megaline_final.info()"
   ]
  },
  {
   "cell_type": "code",
   "execution_count": 212,
   "metadata": {},
   "outputs": [
    {
     "name": "stdout",
     "output_type": "stream",
     "text": [
      "Valores atípicos eliminados: 0.06429232192414425\n"
     ]
    }
   ],
   "source": [
    "print(f\"Valores atípicos eliminados: {(len(megaline_complete)/len(megaline_final)) - 1}\")"
   ]
  },
  {
   "attachments": {},
   "cell_type": "markdown",
   "metadata": {},
   "source": [
    "Nuestra tabla final tiene alrededor del 6.4 % menos de los datos. Ahora tenemos 2162 filas en nuestro dataset final. Como último paso antes de las pruebas de hipótesis, compararemos las distribuciones de cada servicio en nuestros datasets sin filtrar y filtrado, respectivamente:"
   ]
  },
  {
   "cell_type": "code",
   "execution_count": 217,
   "metadata": {},
   "outputs": [
    {
     "data": {
      "image/png": "[encoded data removed]",
      "text/plain": [
       "<Figure size 640x480 with 1 Axes>"
      ]
     },
     "metadata": {},
     "output_type": "display_data"
    }
   ],
   "source": [
    "sns.histplot(megaline_complete, x='min_by_month', color='blue', alpha=0.3, label='Megaline calls data')\n",
    "sns.histplot(megaline_final, x='min_by_month', color='red', alpha=0.3, label='Megaline calls without outliers')\n",
    "plt.title('Minutes by month')\n",
    "plt.legend()\n",
    "plt.show()"
   ]
  },
  {
   "cell_type": "code",
   "execution_count": 222,
   "metadata": {},
   "outputs": [
    {
     "data": {
      "text/plain": [
       "count    2301.000000\n",
       "mean      427.790960\n",
       "std       237.258694\n",
       "min         0.000000\n",
       "25%       263.000000\n",
       "50%       424.000000\n",
       "75%       572.000000\n",
       "max      1510.000000\n",
       "Name: min_by_month, dtype: float64"
      ]
     },
     "execution_count": 222,
     "metadata": {},
     "output_type": "execute_result"
    }
   ],
   "source": [
    "megaline_complete['min_by_month'].describe()"
   ]
  },
  {
   "cell_type": "code",
   "execution_count": 223,
   "metadata": {},
   "outputs": [
    {
     "data": {
      "text/plain": [
       "count    2162.000000\n",
       "mean      411.532840\n",
       "std       214.322492\n",
       "min         0.000000\n",
       "25%       259.000000\n",
       "50%       416.000000\n",
       "75%       556.750000\n",
       "max      1037.000000\n",
       "Name: min_by_month, dtype: float64"
      ]
     },
     "execution_count": 223,
     "metadata": {},
     "output_type": "execute_result"
    }
   ],
   "source": [
    "megaline_final['min_by_month'].describe()"
   ]
  },
  {
   "attachments": {},
   "cell_type": "markdown",
   "metadata": {},
   "source": [
    "Podemos observar que la distribución de las llamadas no cambia drásticamente en su forma al prescindir de los valores atípicos. En su resumen estadístico podemos ver que la elimincación de outliers redujo de 427 a 411 minutos mensuales usados. La desviación estándar también se redujo de 237 a 214 minutos al mes. Algo notorio es que nuestra distribución ha mejorado su simetría al comparar media y mediana. Aunque aún tenemos una cierta cantidad de valores cercanos a cero.\n",
    "\n",
    "Ahora haremos el análisis para los mensajes."
   ]
  },
  {
   "cell_type": "code",
   "execution_count": 231,
   "metadata": {},
   "outputs": [
    {
     "data": {
      "image/png": "[encoded data removed]",
      "text/plain": [
       "<Figure size 640x480 with 1 Axes>"
      ]
     },
     "metadata": {},
     "output_type": "display_data"
    }
   ],
   "source": [
    "sns.histplot(megaline_complete, x='messages_by_month', color='blue', alpha=0.3, label='Megaline messages data')\n",
    "sns.histplot(megaline_final, x='messages_by_month', color='red', alpha=0.3, label='Megaline messages without outliers')\n",
    "plt.title('Messages by month')\n",
    "plt.xlim(-10, 200)\n",
    "plt.legend()\n",
    "plt.show()\n",
    "\n",
    "#gráfico de seaborn para ambas distribuciones a la vez"
   ]
  },
  {
   "cell_type": "code",
   "execution_count": 224,
   "metadata": {},
   "outputs": [
    {
     "data": {
      "text/plain": [
       "count    2301.000000\n",
       "mean       33.051282\n",
       "std        34.066788\n",
       "min         0.000000\n",
       "25%         3.000000\n",
       "50%        25.000000\n",
       "75%        51.000000\n",
       "max       266.000000\n",
       "Name: messages_by_month, dtype: float64"
      ]
     },
     "execution_count": 224,
     "metadata": {},
     "output_type": "execute_result"
    }
   ],
   "source": [
    "megaline_complete['messages_by_month'].describe()"
   ]
  },
  {
   "cell_type": "code",
   "execution_count": 225,
   "metadata": {},
   "outputs": [
    {
     "data": {
      "text/plain": [
       "count    2162.000000\n",
       "mean       30.184089\n",
       "std        29.820679\n",
       "min         0.000000\n",
       "25%         3.000000\n",
       "50%        24.000000\n",
       "75%        48.000000\n",
       "max       139.000000\n",
       "Name: messages_by_month, dtype: float64"
      ]
     },
     "execution_count": 225,
     "metadata": {},
     "output_type": "execute_result"
    }
   ],
   "source": [
    "megaline_final['messages_by_month'].describe()"
   ]
  },
  {
   "attachments": {},
   "cell_type": "markdown",
   "metadata": {},
   "source": [
    "La distribución de los mensajes mantiene bastante bien su forma previa. La media se redujo de 33 a 30 mensajes al mes. La desviación estándar también muestra una reducción de 34 a 29 mensajes mensuales, es decir, la dispersión de los datos es ligeramente menor. Vale aclarar que aún tenemos una gran cantidad de valores ceros en la distribución.\n",
    "\n",
    "Continuamos con el uso de internet."
   ]
  },
  {
   "cell_type": "code",
   "execution_count": 234,
   "metadata": {},
   "outputs": [
    {
     "data": {
      "image/png": "[encoded data removed]",
      "text/plain": [
       "<Figure size 640x480 with 1 Axes>"
      ]
     },
     "metadata": {},
     "output_type": "display_data"
    }
   ],
   "source": [
    "sns.histplot(megaline_complete, x='gb_used', color='blue', alpha=0.3, label='Megaline internet data')\n",
    "sns.histplot(megaline_final, x='gb_used', color='red', alpha=0.3, label='Megaline internet without outliers')\n",
    "plt.title('GB by month')\n",
    "plt.xlim(-3, 50)\n",
    "plt.legend()\n",
    "plt.show()"
   ]
  },
  {
   "cell_type": "code",
   "execution_count": 226,
   "metadata": {},
   "outputs": [
    {
     "data": {
      "text/plain": [
       "count    2301.000000\n",
       "mean       16.811821\n",
       "std         7.845728\n",
       "min         0.000000\n",
       "25%        12.000000\n",
       "50%        17.000000\n",
       "75%        21.000000\n",
       "max        70.000000\n",
       "Name: gb_used, dtype: float64"
      ]
     },
     "execution_count": 226,
     "metadata": {},
     "output_type": "execute_result"
    }
   ],
   "source": [
    "megaline_complete['gb_used'].describe()"
   ]
  },
  {
   "cell_type": "code",
   "execution_count": 227,
   "metadata": {},
   "outputs": [
    {
     "data": {
      "text/plain": [
       "count    2162.000000\n",
       "mean       16.025439\n",
       "std         6.721869\n",
       "min         0.000000\n",
       "25%        12.000000\n",
       "50%        17.000000\n",
       "75%        20.000000\n",
       "max        34.000000\n",
       "Name: gb_used, dtype: float64"
      ]
     },
     "execution_count": 227,
     "metadata": {},
     "output_type": "execute_result"
    }
   ],
   "source": [
    "megaline_final['gb_used'].describe()"
   ]
  },
  {
   "attachments": {},
   "cell_type": "markdown",
   "metadata": {},
   "source": [
    "Podríamos decir que los histogramas muestran cambios algo notorios: se genera un pico donde antes no había, y los otros reducen su tamaño. A pesar de la eliminación de outliers, la media y mediana apenas muestra variación, y la desviación estándar también muestra una pequeña disminución. \n",
    "\n",
    "Finalmente, los ingresos."
   ]
  },
  {
   "cell_type": "code",
   "execution_count": 230,
   "metadata": {},
   "outputs": [
    {
     "data": {
      "image/png": "[encoded data removed]",
      "text/plain": [
       "<Figure size 640x480 with 1 Axes>"
      ]
     },
     "metadata": {},
     "output_type": "display_data"
    }
   ],
   "source": [
    "sns.histplot(megaline_complete, x='income_by_month', color='blue', alpha=0.3, label='Megaline income data')\n",
    "sns.histplot(megaline_final, x='income_by_month', color='red', alpha=0.3, label='Megaline income without outliers')\n",
    "plt.title('Income by month')\n",
    "plt.xlim(0, 300)\n",
    "plt.legend()\n",
    "plt.show()"
   ]
  },
  {
   "cell_type": "code",
   "execution_count": 228,
   "metadata": {},
   "outputs": [
    {
     "data": {
      "text/plain": [
       "count    2301.000000\n",
       "mean       64.262138\n",
       "std        46.590064\n",
       "min        20.000000\n",
       "25%        23.420000\n",
       "50%        70.000000\n",
       "75%        70.000000\n",
       "max       590.370000\n",
       "Name: income_by_month, dtype: float64"
      ]
     },
     "execution_count": 228,
     "metadata": {},
     "output_type": "execute_result"
    }
   ],
   "source": [
    "megaline_complete['income_by_month'].describe()"
   ]
  },
  {
   "cell_type": "code",
   "execution_count": 229,
   "metadata": {},
   "outputs": [
    {
     "data": {
      "text/plain": [
       "count    2162.000000\n",
       "mean       58.671105\n",
       "std        34.001012\n",
       "min        20.000000\n",
       "25%        21.830000\n",
       "50%        70.000000\n",
       "75%        70.000000\n",
       "max       196.420000\n",
       "Name: income_by_month, dtype: float64"
      ]
     },
     "execution_count": 229,
     "metadata": {},
     "output_type": "execute_result"
    }
   ],
   "source": [
    "megaline_final['income_by_month'].describe()"
   ]
  },
  {
   "attachments": {},
   "cell_type": "markdown",
   "metadata": {},
   "source": [
    "Resaltan los dos picos de la distribución que se relacionan al precio de cada plan. Más allá, no se observan cambios en la forma de la distribución. La media decrece de 64 a 58 dólares al mes, y la desviación estándar muestra una más notoria caída de 46 a 34 dólares al mes, evidenciando una menor dispersión luego de eliminar los datos atípicos.\n",
    "\n",
    "Finalmente, luego de observar que nuestros datos no sufrieron grandes cambios al prescindir de los valores atípicos, este será la data a usar para probar nuestras hipótesis, labor que será la próxima a continuación."
   ]
  },
  {
   "attachments": {},
   "cell_type": "markdown",
   "metadata": {},
   "source": [
    "**Pequeñas conclusiones del apartado**"
   ]
  },
  {
   "attachments": {},
   "cell_type": "markdown",
   "metadata": {},
   "source": [
    "En este apartado realizamos el análisis exploratorio y descriptivo de los datos, describiendo el comportamiento del usuario por planes y servicio, comparando sus diferencias y similitudes. Pudimos observar la gran similitud entre el comportamiento de los clientes sin importar el plan que usaban, excepto en los ingresos que estos generan a la empresa, donde se ve una distribución más dispersa para los usuarios *Surf* porque una parte de ellos tiende a exceder el límite de su plan.\n",
    "\n",
    "También determinamos los límites para los cuales se consideran valores normales y atípicos en nuestras distribuciones, y aplicando los filtros necesarios obtuvimos el dataset final para finalmente realizar las pruebas de hipótesis."
   ]
  },
  {
   "attachments": {},
   "cell_type": "markdown",
   "metadata": {},
   "source": [
    "# Probar las hipótesis estadísticas <a id='d'></a>"
   ]
  },
  {
   "attachments": {},
   "cell_type": "markdown",
   "metadata": {},
   "source": [
    "Para realizar nuestras pruebas de hipótesis, necesitamos filtrar nuestro dataset para cada hipótesis en particular. Nuestra primera hipótesis es probar si existe una diferencia entre el ingreso medio de los usuarios *Surf* y *Ultimate*."
   ]
  },
  {
   "attachments": {},
   "cell_type": "markdown",
   "metadata": {},
   "source": [
    "### Primera hipótesis: diferencia entre el ingreso promedio de *Surf* y *Ultimate* <a id='d1'></a>"
   ]
  },
  {
   "attachments": {},
   "cell_type": "markdown",
   "metadata": {},
   "source": [
    "Guardaremos los datos en dos datasets llamados ``surf_final`` y ``ultimate_final``."
   ]
  },
  {
   "cell_type": "code",
   "execution_count": 236,
   "metadata": {},
   "outputs": [
    {
     "name": "stdout",
     "output_type": "stream",
     "text": [
      "<class 'pandas.core.frame.DataFrame'>\n",
      "Int64Index: 1488 entries, 1 to 2300\n",
      "Data columns (total 15 columns):\n",
      " #   Column             Non-Null Count  Dtype         \n",
      "---  ------             --------------  -----         \n",
      " 0   user_id            1488 non-null   int64         \n",
      " 1   first_name         1488 non-null   object        \n",
      " 2   last_name          1488 non-null   object        \n",
      " 3   age                1488 non-null   int64         \n",
      " 4   city               1488 non-null   object        \n",
      " 5   reg_date           1488 non-null   datetime64[ns]\n",
      " 6   plan               1488 non-null   object        \n",
      " 7   churn_date         104 non-null    datetime64[ns]\n",
      " 8   month              1483 non-null   object        \n",
      " 9   min_by_month       1488 non-null   float64       \n",
      " 10  calls_by_month     1488 non-null   float64       \n",
      " 11  messages_by_month  1488 non-null   float64       \n",
      " 12  gb_used            1488 non-null   float64       \n",
      " 13  income_by_month    1488 non-null   float64       \n",
      " 14  region             1488 non-null   object        \n",
      "dtypes: datetime64[ns](2), float64(5), int64(2), object(6)\n",
      "memory usage: 186.0+ KB\n"
     ]
    }
   ],
   "source": [
    "surf_final = megaline_final.query(\"plan == 'surf'\") # filtra para plan surf\n",
    "surf_final.info()"
   ]
  },
  {
   "cell_type": "code",
   "execution_count": 237,
   "metadata": {},
   "outputs": [
    {
     "name": "stdout",
     "output_type": "stream",
     "text": [
      "<class 'pandas.core.frame.DataFrame'>\n",
      "Int64Index: 674 entries, 0 to 2285\n",
      "Data columns (total 15 columns):\n",
      " #   Column             Non-Null Count  Dtype         \n",
      "---  ------             --------------  -----         \n",
      " 0   user_id            674 non-null    int64         \n",
      " 1   first_name         674 non-null    object        \n",
      " 2   last_name          674 non-null    object        \n",
      " 3   age                674 non-null    int64         \n",
      " 4   city               674 non-null    object        \n",
      " 5   reg_date           674 non-null    datetime64[ns]\n",
      " 6   plan               674 non-null    object        \n",
      " 7   churn_date         52 non-null     datetime64[ns]\n",
      " 8   month              671 non-null    object        \n",
      " 9   min_by_month       674 non-null    float64       \n",
      " 10  calls_by_month     674 non-null    float64       \n",
      " 11  messages_by_month  674 non-null    float64       \n",
      " 12  gb_used            674 non-null    float64       \n",
      " 13  income_by_month    674 non-null    float64       \n",
      " 14  region             674 non-null    object        \n",
      "dtypes: datetime64[ns](2), float64(5), int64(2), object(6)\n",
      "memory usage: 84.2+ KB\n"
     ]
    }
   ],
   "source": [
    "ultimate_final = megaline_final.query(\"plan == 'ultimate'\") # filtra para plan ultimate\n",
    "ultimate_final.info()"
   ]
  },
  {
   "attachments": {},
   "cell_type": "markdown",
   "metadata": {},
   "source": [
    "Ahora obtendremos los estadísticos principales de las variables a comparar."
   ]
  },
  {
   "cell_type": "code",
   "execution_count": 239,
   "metadata": {},
   "outputs": [
    {
     "data": {
      "text/plain": [
       "count    1488.000000\n",
       "mean       53.374953\n",
       "std        39.838389\n",
       "min        20.000000\n",
       "25%        20.000000\n",
       "50%        40.000000\n",
       "75%        80.000000\n",
       "max       196.420000\n",
       "Name: income_by_month, dtype: float64"
      ]
     },
     "execution_count": 239,
     "metadata": {},
     "output_type": "execute_result"
    }
   ],
   "source": [
    "surf_final['income_by_month'].describe()"
   ]
  },
  {
   "cell_type": "code",
   "execution_count": 240,
   "metadata": {},
   "outputs": [
    {
     "data": {
      "text/plain": [
       "count    674.000000\n",
       "mean      70.363501\n",
       "std        2.548181\n",
       "min       70.000000\n",
       "25%       70.000000\n",
       "50%       70.000000\n",
       "75%       70.000000\n",
       "max       98.000000\n",
       "Name: income_by_month, dtype: float64"
      ]
     },
     "execution_count": 240,
     "metadata": {},
     "output_type": "execute_result"
    }
   ],
   "source": [
    "ultimate_final['income_by_month'].describe()"
   ]
  },
  {
   "attachments": {},
   "cell_type": "markdown",
   "metadata": {},
   "source": [
    "Tenemos una ingreso promedio de los usuarios *Surf* de 53 dólares mensuales, y para los usuarios *Ultimate* de 70. También podemos notar que las desviaciones estándar son bastante diferentes. Para determinar qué prueba t (varianzas iguales o diferentes) usar, estableceremos si estas son estadísticamente diferentes mediante el test de Levene de la librería SciPy.\n",
    "\n",
    "Este test tiene las siguientes hipótesis:"
   ]
  },
  {
   "attachments": {},
   "cell_type": "markdown",
   "metadata": {},
   "source": [
    "- $H_0:$ las varianzas de ambas distribuciones son iguales.\n",
    "- $H_1:$ no se comprueba $H_0$.\n",
    "\n",
    "Nivel de significancia $\\alpha = 0.05$\n",
    "\n",
    "Criterio de decisión: Si  p-value $< \\alpha$, se rechaza $H_0$. De lo contrario, no se rechaza $H_0$."
   ]
  },
  {
   "cell_type": "code",
   "execution_count": 241,
   "metadata": {},
   "outputs": [
    {
     "data": {
      "text/plain": [
       "LeveneResult(statistic=758.627660458677, pvalue=2.2066300007845614e-143)"
      ]
     },
     "execution_count": 241,
     "metadata": {},
     "output_type": "execute_result"
    }
   ],
   "source": [
    "st.levene(surf_final['income_by_month'], ultimate_final['income_by_month']) # test de Levene"
   ]
  },
  {
   "attachments": {},
   "cell_type": "markdown",
   "metadata": {},
   "source": [
    "Dado que el pvalue del test es mucho menor que nuestro $\\alpha$, rechazamos nuestra hipótesis nula de que las varianzas son iguales. Por tanto, usaremos el t-test de varianzas diferentes."
   ]
  },
  {
   "attachments": {},
   "cell_type": "markdown",
   "metadata": {},
   "source": [
    "Hipótesis nula: $H_0: \\bar{x}_{surf} = \\bar{x}_{ultimate}$\n",
    "\n",
    "Hipótesis alternativa: $H_1: \\bar{x}_{surf} \\neq \\bar{x}_{ultimate}$\n",
    "\n",
    "Nivel de significancia $\\alpha = 0.05$\n",
    "\n",
    "Criterio de decisión: Si  $p-value_t < \\alpha$, se rechaza $H_0$. De lo contrario, no se rechaza $H_0$."
   ]
  },
  {
   "cell_type": "code",
   "execution_count": 245,
   "metadata": {},
   "outputs": [
    {
     "name": "stdout",
     "output_type": "stream",
     "text": [
      "p-value: 1.2866111541102786e-55\n",
      "Rechazamos la hipótesis nula\n"
     ]
    }
   ],
   "source": [
    "alpha = 0.05\n",
    "\n",
    "result_1 = st.ttest_ind(surf_final['income_by_month'], ultimate_final['income_by_month'], equal_var=False) #t-test de varianzas diferentes\n",
    "\n",
    "print(f\"p-value: {result_1.pvalue}\") # si el pvalue es menor que el resultado\n",
    "\n",
    "if result_1.pvalue < alpha:\n",
    "    print(\"Rechazamos la hipótesis nula\") # rechaza H0\n",
    "else:\n",
    "    print(\"No rechazamos la hipótesis nula\")"
   ]
  },
  {
   "attachments": {},
   "cell_type": "markdown",
   "metadata": {},
   "source": [
    "Ahora podemos rechazar la hipótesis nula que los ingresos promedios mensuales de ambos planes son iguales, es decir, tenemos bastante certeza estadística de que son diferentes, incluso tomando un $\\alpha = 0.01$ De hecho, parece que los ingresos generados por los usuarios *Ultimate* son mayores respecto a los de *Surf*. \n",
    "\n",
    "Sin embargo, para determinar qué plan es más rentable o no para la empresa, se tendrían que restar los costos operativos por persona de cada plan, aunque dado el comportamiento similar de usuarios de ambos planes, se esperaría que también los beneficios netos sean mayores en el plan *Ultimate*. Esta podría ser una oportunidad de mejora tanto para los clientes como para la empresa."
   ]
  },
  {
   "attachments": {},
   "cell_type": "markdown",
   "metadata": {},
   "source": [
    "### Segunda hipótesis: diferencia entre el ingreso promedio de los estados *Nueva York - Nueva Jersey* y otras regiones <a id='d2'></a>"
   ]
  },
  {
   "attachments": {},
   "cell_type": "markdown",
   "metadata": {},
   "source": [
    "También empezaremos segmentando nuestro set final de datos filtrados para las regiones. Se guardarán en dos respectivos datasets:"
   ]
  },
  {
   "cell_type": "code",
   "execution_count": 246,
   "metadata": {},
   "outputs": [
    {
     "name": "stdout",
     "output_type": "stream",
     "text": [
      "<class 'pandas.core.frame.DataFrame'>\n",
      "Int64Index: 461 entries, 57 to 2296\n",
      "Data columns (total 15 columns):\n",
      " #   Column             Non-Null Count  Dtype         \n",
      "---  ------             --------------  -----         \n",
      " 0   user_id            461 non-null    int64         \n",
      " 1   first_name         461 non-null    object        \n",
      " 2   last_name          461 non-null    object        \n",
      " 3   age                461 non-null    int64         \n",
      " 4   city               461 non-null    object        \n",
      " 5   reg_date           461 non-null    datetime64[ns]\n",
      " 6   plan               461 non-null    object        \n",
      " 7   churn_date         34 non-null     datetime64[ns]\n",
      " 8   month              460 non-null    object        \n",
      " 9   min_by_month       461 non-null    float64       \n",
      " 10  calls_by_month     461 non-null    float64       \n",
      " 11  messages_by_month  461 non-null    float64       \n",
      " 12  gb_used            461 non-null    float64       \n",
      " 13  income_by_month    461 non-null    float64       \n",
      " 14  region             461 non-null    object        \n",
      "dtypes: datetime64[ns](2), float64(5), int64(2), object(6)\n",
      "memory usage: 57.6+ KB\n"
     ]
    }
   ],
   "source": [
    "ny_nj_final = megaline_final.query(\"region == 'ny-nj'\") # filtra para los ny-nj\n",
    "ny_nj_final.info()"
   ]
  },
  {
   "cell_type": "code",
   "execution_count": 248,
   "metadata": {},
   "outputs": [
    {
     "name": "stdout",
     "output_type": "stream",
     "text": [
      "<class 'pandas.core.frame.DataFrame'>\n",
      "Int64Index: 1701 entries, 0 to 2300\n",
      "Data columns (total 15 columns):\n",
      " #   Column             Non-Null Count  Dtype         \n",
      "---  ------             --------------  -----         \n",
      " 0   user_id            1701 non-null   int64         \n",
      " 1   first_name         1701 non-null   object        \n",
      " 2   last_name          1701 non-null   object        \n",
      " 3   age                1701 non-null   int64         \n",
      " 4   city               1701 non-null   object        \n",
      " 5   reg_date           1701 non-null   datetime64[ns]\n",
      " 6   plan               1701 non-null   object        \n",
      " 7   churn_date         122 non-null    datetime64[ns]\n",
      " 8   month              1694 non-null   object        \n",
      " 9   min_by_month       1701 non-null   float64       \n",
      " 10  calls_by_month     1701 non-null   float64       \n",
      " 11  messages_by_month  1701 non-null   float64       \n",
      " 12  gb_used            1701 non-null   float64       \n",
      " 13  income_by_month    1701 non-null   float64       \n",
      " 14  region             1701 non-null   object        \n",
      "dtypes: datetime64[ns](2), float64(5), int64(2), object(6)\n",
      "memory usage: 212.6+ KB\n"
     ]
    }
   ],
   "source": [
    "other_regions_final = megaline_final.query(\"region == 'other'\") # filtra para otras regiones\n",
    "other_regions_final.info()"
   ]
  },
  {
   "attachments": {},
   "cell_type": "markdown",
   "metadata": {},
   "source": [
    "También tenemos diferentes tamaños en nuestras muestras. Ahora los estadísticos de sus ingresos:"
   ]
  },
  {
   "cell_type": "code",
   "execution_count": 249,
   "metadata": {},
   "outputs": [
    {
     "data": {
      "text/plain": [
       "count    461.000000\n",
       "mean      55.669653\n",
       "std       37.869561\n",
       "min       20.000000\n",
       "25%       20.000000\n",
       "50%       50.030000\n",
       "75%       70.000000\n",
       "max      193.350000\n",
       "Name: income_by_month, dtype: float64"
      ]
     },
     "execution_count": 249,
     "metadata": {},
     "output_type": "execute_result"
    }
   ],
   "source": [
    "ny_nj_final['income_by_month'].describe()"
   ]
  },
  {
   "cell_type": "code",
   "execution_count": 250,
   "metadata": {},
   "outputs": [
    {
     "data": {
      "text/plain": [
       "count    1701.000000\n",
       "mean       59.484550\n",
       "std        32.839167\n",
       "min        20.000000\n",
       "25%        24.200000\n",
       "50%        70.000000\n",
       "75%        70.000000\n",
       "max       196.420000\n",
       "Name: income_by_month, dtype: float64"
      ]
     },
     "execution_count": 250,
     "metadata": {},
     "output_type": "execute_result"
    }
   ],
   "source": [
    "other_regions_final['income_by_month'].describe()"
   ]
  },
  {
   "attachments": {},
   "cell_type": "markdown",
   "metadata": {},
   "source": [
    "Si bien el ingreso promedio de usuarios de Nueva York - Nueva Jersey (56 dólares) no difiere mucho de los de los otros estados (59 dólares) y tampoco lo hacen mucho sus desviaciones estándar, igual será necesario probar si sus varianzas son estadísticamente iguales (o diferentes) mediante el test de Levene para decidir qué t-test usaremos luego. Nuevamente:"
   ]
  },
  {
   "attachments": {},
   "cell_type": "markdown",
   "metadata": {},
   "source": [
    "- $H_0:$ las varianzas de ambas distribuciones son iguales.\n",
    "- $H_1:$ no se comprueba $H_0$.\n",
    "\n",
    "Nivel de significancia $\\alpha = 0.05$\n",
    "\n",
    "Criterio de decisión: Si  p-value $< \\alpha$, se rechaza $H_0$. De lo contrario, no se rechaza $H_0$."
   ]
  },
  {
   "cell_type": "code",
   "execution_count": 251,
   "metadata": {},
   "outputs": [
    {
     "data": {
      "text/plain": [
       "LeveneResult(statistic=19.421662387608976, pvalue=1.099422157015025e-05)"
      ]
     },
     "execution_count": 251,
     "metadata": {},
     "output_type": "execute_result"
    }
   ],
   "source": [
    "st.levene(ny_nj_final['income_by_month'], other_regions_final['income_by_month'])   # test de Levene"
   ]
  },
  {
   "attachments": {},
   "cell_type": "markdown",
   "metadata": {},
   "source": [
    "Dado que el pvalue del test es mucho menor que nuestro $\\alpha$, rechazamos nuestra hipótesis nula de que las varianzas son iguales; esto a pesar de que las desviaciones estándar se mostraban parecidas. Por tanto, usaremos el t-test de varianzas diferentes."
   ]
  },
  {
   "attachments": {},
   "cell_type": "markdown",
   "metadata": {},
   "source": [
    "Hipótesis nula: $H_0: \\bar{x}_{Nueva York-Jersey} = \\bar{x}_{other}$\n",
    "\n",
    "Hipótesis alternativa: $H_1: \\bar{x}_{Nueva York-Jersey} \\neq \\bar{x}_{other}$\n",
    "\n",
    "Nivel de significancia $\\alpha = 0.05$\n",
    "\n",
    "Criterio de decisión: Si  $p-value_t < \\alpha$, se rechaza $H_0$. De lo contrario, no se rechaza $H_0$."
   ]
  },
  {
   "cell_type": "code",
   "execution_count": 261,
   "metadata": {},
   "outputs": [
    {
     "name": "stdout",
     "output_type": "stream",
     "text": [
      "p-value: 0.04910039421877621\n",
      "Rechazamos la hipótesis nula\n"
     ]
    }
   ],
   "source": [
    "result_2 = st.ttest_ind(ny_nj_final['income_by_month'], other_regions_final['income_by_month'], equal_var=False) #t-test de varianzas distintas\n",
    "\n",
    "print(f\"p-value: {result_2.pvalue}\")\n",
    "\n",
    "if result_2.pvalue < alpha:\n",
    "    print(\"Rechazamos la hipótesis nula\")\n",
    "else:\n",
    "    print(\"No rechazamos la hipótesis nula\")"
   ]
  },
  {
   "attachments": {},
   "cell_type": "markdown",
   "metadata": {},
   "source": [
    "En este caso, a primera vista tenemos que se rechaza la hipótesis nula de igualdad de ingresos promedio entre las regiones Nueva York - Nueva Jersey respecto al de otras regiones. Pareciera que los ingresos generados en otras áreas y regiones son ligeramente mayores que los de la región Nueva York - Nueva Jersey.\n",
    "\n",
    "Sin embargo, este resultado puede ser engañoso dado que el p-value está muy cerca del límite. Podría decirse que es una evidencia débil a favor del rechazo de la hipótesis nula, ya que si cambiamos nuestro nivel de significancia hacia un 0.01, no podríamos rechazar la hipótesis nula. En este caso se recomendaría tomar una muestra mayor para así tener más certeza estadística de nuestros resultados y conclusiones, teniendo en cuenta las limitaciones de la estadística convencional y paramétrica utilizada en este proyecto."
   ]
  },
  {
   "attachments": {},
   "cell_type": "markdown",
   "metadata": {},
   "source": [
    "# Conclusión general <a id='e'></a>"
   ]
  },
  {
   "attachments": {},
   "cell_type": "markdown",
   "metadata": {},
   "source": [
    "**Conclusiones del preprocesamiento de los datos**"
   ]
  },
  {
   "attachments": {},
   "cell_type": "markdown",
   "metadata": {},
   "source": [
    "- Para cada tabla de los diferentes servicios se hallaron ciertos problemas con formatos de fechas, tipos y unidades de medida que fueron solucionados.\n",
    "- Enriquecimos los datos analizando por tablas, teniendo como mayor supuesto que los clientes de cada plan pagan sus respectivas tarifas sin importar si utilizan el servicio efectivamente o no.\n",
    "- Unimos estas tablas y al encontrar valores ausentes decidimos llenarlos con ceros.\n",
    "- Bajo el supuesto de que los clientes pagan sus tarifas, obtuvimos los ingresos mensuales por usuario para cada plan.\n",
    "- Separamos a los usuarios del área de Nueva York - Nueva Jersey respecto al de otras regiones para facilitar la prueba de hipótesis respectiva."
   ]
  },
  {
   "attachments": {},
   "cell_type": "markdown",
   "metadata": {},
   "source": [
    "**Conclusiones del análisis estadístico y descriptivo de los datos**"
   ]
  },
  {
   "attachments": {},
   "cell_type": "markdown",
   "metadata": {},
   "source": [
    "- Realizamos gráficos (histogramas y cajas) para los servicios e ingresos utilizados al mes, separando para cada plan. Concluimos que no existen grandes diferencias en el comportamiento de los usuarios de ambos planes, excepto en los ingresos que estos generan a la empresa.\n",
    "- Delimitamos los límites para los valores normales y atípicos, para luego generar un dataset final con el que probar nuestras hipótesis."
   ]
  },
  {
   "attachments": {},
   "cell_type": "markdown",
   "metadata": {},
   "source": [
    "**Conclusiones de las pruebas de hipótesis** "
   ]
  },
  {
   "attachments": {},
   "cell_type": "markdown",
   "metadata": {},
   "source": [
    "- Para ambas hipótesis, la prueba de Levene concluyó que las diferentes muestras comparadas tenían varianzas diferentes, lo cual nos llevó a utilizar la prueba t de Student para varianzas diferentes en ambas pruebas de hipótesis.\n",
    "- No pudimos demostrar que los usuarios *Surf* y *Ultimate* generen los mismos ingresos. De hecho, es bastante probable que los ingresos generados por el plan *Ultimate* sean mayores.\n",
    "- No pudimos demostrar que los usuarios de Nueva York - Nueva Jersey y los de otras regiones generen los mismos ingresos, pero de una manera muy débil. Esta falta de certeza nos lleva a recomendar un uso de una muestra más grande o de otro enfoque para probar esta hipótesis."
   ]
  },
  {
   "attachments": {},
   "cell_type": "markdown",
   "metadata": {},
   "source": [
    "**Recomendaciones**"
   ]
  },
  {
   "attachments": {},
   "cell_type": "markdown",
   "metadata": {},
   "source": [
    "- Dados los resultados para cada plan, se recomienda hacer un análisis de los costos mensuales por usuario para determinar también de manera estadística qué plan genera mayores beneficios a la empresa. En términos generales, el plan *Ultimate* se acomoda mejor al uso de la mayor parte de los usuarios de la empresa, así como mayores ingresos. Enfocarse en promocionar este plan podría ser una buena estrategia para el área respectiva.\n",
    "- Dado el resultado para las regiones, antes de realizar un plan dirigido por áreas, se recomienda utilizar otras muestras, obtener muestras más grandes, analizar otras regiones, utilizar un enfoque no paramétrico, etc. para así no incurrir en riesgos y/o costos extra.\n",
    "- Resultaría conveniente analizar a los usuarios que se presentan registrados, pero que no hacen uso de su plan o de algunos de los servicios proporcionados por la empresa, realmente pagan su tarifa. Este porcentaje podría determinar si la diferencia entre ingresos generados por un plan u otro puede ser aún mayor o menor, según el caso.\n",
    "- Hay que tener en cuenta las limitaciones de la estadística utilizada en las pruebas de hipótesis y el valor de nuestro nivel de significancia utilizado al momento de tomar decisiones al respecto."
   ]
  }
 ],
 "metadata": {
  "ExecuteTimeLog": [
   {
    "duration": 828,
    "start_time": "2021-11-16T09:21:11.304Z"
   },
   {
    "duration": 893,
    "start_time": "2021-11-16T09:21:17.728Z"
   },
   {
    "duration": 1150,
    "start_time": "2021-11-16T09:21:29.568Z"
   },
   {
    "duration": 3,
    "start_time": "2021-11-16T09:24:14.495Z"
   },
   {
    "duration": 120,
    "start_time": "2021-11-16T09:24:46.630Z"
   },
   {
    "duration": 3,
    "start_time": "2021-11-16T09:28:27.882Z"
   },
   {
    "duration": 4,
    "start_time": "2021-11-16T09:29:54.281Z"
   },
   {
    "duration": 3,
    "start_time": "2021-11-16T09:30:45.936Z"
   },
   {
    "duration": 4,
    "start_time": "2021-11-16T09:31:06.300Z"
   },
   {
    "duration": 113,
    "start_time": "2021-11-16T09:31:37.208Z"
   },
   {
    "duration": 143,
    "start_time": "2021-11-16T09:31:48.656Z"
   },
   {
    "duration": 98,
    "start_time": "2021-11-16T09:31:55.678Z"
   },
   {
    "duration": 3,
    "start_time": "2021-11-16T09:32:08.535Z"
   },
   {
    "duration": 111,
    "start_time": "2021-11-16T09:32:10.120Z"
   },
   {
    "duration": 3,
    "start_time": "2021-11-16T09:32:15.732Z"
   },
   {
    "duration": 4,
    "start_time": "2021-11-16T09:32:29.423Z"
   },
   {
    "duration": 3,
    "start_time": "2021-11-16T10:03:03.074Z"
   },
   {
    "duration": 3,
    "start_time": "2021-11-16T10:10:01.288Z"
   },
   {
    "duration": 3,
    "start_time": "2021-11-16T10:10:46.923Z"
   },
   {
    "duration": 121,
    "start_time": "2021-11-16T10:37:46.494Z"
   },
   {
    "duration": 125,
    "start_time": "2021-11-16T10:38:20.632Z"
   },
   {
    "duration": 112,
    "start_time": "2021-11-16T10:46:53.001Z"
   },
   {
    "duration": 110,
    "start_time": "2021-11-16T10:48:25.775Z"
   },
   {
    "duration": 3,
    "start_time": "2021-11-16T10:50:18.720Z"
   },
   {
    "duration": 4,
    "start_time": "2021-11-16T10:50:37.649Z"
   },
   {
    "duration": 2,
    "start_time": "2021-11-16T10:50:51.884Z"
   },
   {
    "duration": 3,
    "start_time": "2021-11-16T10:51:56.237Z"
   },
   {
    "duration": 101,
    "start_time": "2021-11-16T10:53:13.791Z"
   },
   {
    "duration": 3,
    "start_time": "2021-11-16T10:55:59.186Z"
   },
   {
    "duration": 3,
    "start_time": "2021-11-16T10:56:10.751Z"
   },
   {
    "duration": 3,
    "start_time": "2021-11-16T10:56:49.038Z"
   },
   {
    "duration": 3,
    "start_time": "2021-11-16T10:56:49.174Z"
   },
   {
    "duration": 4,
    "start_time": "2021-11-16T10:56:49.414Z"
   },
   {
    "duration": 3,
    "start_time": "2021-11-16T10:56:49.680Z"
   },
   {
    "duration": 3,
    "start_time": "2021-11-16T10:56:50.370Z"
   },
   {
    "duration": 114,
    "start_time": "2021-11-16T10:59:34.518Z"
   },
   {
    "duration": 3,
    "start_time": "2021-11-16T11:01:41.201Z"
   },
   {
    "duration": 116,
    "start_time": "2021-11-16T11:01:48.754Z"
   },
   {
    "duration": 3,
    "start_time": "2021-11-16T11:02:16.685Z"
   },
   {
    "duration": 3,
    "start_time": "2021-11-16T11:02:19.479Z"
   },
   {
    "duration": 3,
    "start_time": "2021-11-16T11:02:47.067Z"
   },
   {
    "duration": 3,
    "start_time": "2021-11-16T11:02:49.353Z"
   },
   {
    "duration": 3,
    "start_time": "2021-11-16T11:03:07.835Z"
   },
   {
    "duration": 3,
    "start_time": "2021-11-16T11:03:07.953Z"
   },
   {
    "duration": 112,
    "start_time": "2021-11-16T11:07:52.072Z"
   },
   {
    "duration": 187,
    "start_time": "2021-11-16T11:09:23.468Z"
   },
   {
    "duration": 4,
    "start_time": "2021-11-16T11:10:01.455Z"
   },
   {
    "duration": 3,
    "start_time": "2021-11-16T11:10:05.069Z"
   },
   {
    "duration": 4,
    "start_time": "2021-11-16T11:10:13.376Z"
   },
   {
    "duration": 3,
    "start_time": "2021-11-16T11:10:14.434Z"
   },
   {
    "duration": 3,
    "start_time": "2021-11-16T11:10:22.853Z"
   },
   {
    "duration": 4,
    "start_time": "2021-11-16T11:27:29.279Z"
   },
   {
    "duration": 4,
    "start_time": "2021-11-16T11:29:08.919Z"
   },
   {
    "duration": 118,
    "start_time": "2021-11-16T11:29:46.703Z"
   },
   {
    "duration": 437,
    "start_time": "2021-11-16T11:36:02.181Z"
   },
   {
    "duration": 157,
    "start_time": "2021-11-16T11:36:14.388Z"
   },
   {
    "duration": 207,
    "start_time": "2021-11-16T11:47:15.898Z"
   },
   {
    "duration": 3,
    "start_time": "2021-11-16T11:53:52.092Z"
   },
   {
    "duration": 3,
    "start_time": "2021-11-16T11:53:52.236Z"
   },
   {
    "duration": 3,
    "start_time": "2021-11-16T11:59:12.005Z"
   },
   {
    "duration": 112,
    "start_time": "2021-11-16T12:00:33.446Z"
   },
   {
    "duration": 3,
    "start_time": "2021-11-16T12:02:14.453Z"
   },
   {
    "duration": 3,
    "start_time": "2021-11-16T12:02:39.512Z"
   },
   {
    "duration": 106,
    "start_time": "2021-11-16T12:03:03.460Z"
   },
   {
    "duration": 3,
    "start_time": "2021-11-17T20:37:21.139Z"
   },
   {
    "duration": 3,
    "start_time": "2021-11-17T20:37:22.229Z"
   },
   {
    "duration": 3,
    "start_time": "2021-11-17T20:38:38.806Z"
   },
   {
    "duration": 3,
    "start_time": "2021-11-17T20:38:41.958Z"
   },
   {
    "duration": 3,
    "start_time": "2021-11-17T20:43:46.551Z"
   },
   {
    "duration": 4,
    "start_time": "2021-11-17T20:58:21.835Z"
   },
   {
    "duration": 3,
    "start_time": "2021-11-17T20:59:21.872Z"
   },
   {
    "duration": 4,
    "start_time": "2021-11-17T20:59:45.352Z"
   },
   {
    "duration": 4,
    "start_time": "2021-11-17T20:59:49.646Z"
   },
   {
    "duration": 159,
    "start_time": "2021-11-17T21:02:26.949Z"
   },
   {
    "duration": 3,
    "start_time": "2021-11-17T21:03:53.461Z"
   },
   {
    "duration": 3,
    "start_time": "2021-11-17T21:03:53.694Z"
   },
   {
    "duration": 3,
    "start_time": "2021-11-17T21:05:28.145Z"
   },
   {
    "duration": 116,
    "start_time": "2021-11-17T21:05:57.787Z"
   },
   {
    "duration": 3,
    "start_time": "2021-11-17T21:06:37.993Z"
   },
   {
    "duration": 3,
    "start_time": "2021-11-17T21:06:38.261Z"
   },
   {
    "duration": 3,
    "start_time": "2021-11-17T21:11:54.358Z"
   },
   {
    "duration": 3,
    "start_time": "2021-11-17T21:12:43.846Z"
   },
   {
    "duration": 4,
    "start_time": "2021-11-17T21:13:08.773Z"
   },
   {
    "duration": 3,
    "start_time": "2021-11-17T21:14:44.441Z"
   },
   {
    "duration": 3,
    "start_time": "2021-11-17T21:15:42.059Z"
   },
   {
    "duration": 4,
    "start_time": "2021-11-17T21:15:51.995Z"
   },
   {
    "duration": 3,
    "start_time": "2021-11-17T21:15:53.923Z"
   },
   {
    "duration": 3,
    "start_time": "2021-11-17T21:15:55.282Z"
   },
   {
    "duration": 3,
    "start_time": "2021-11-17T21:16:28.492Z"
   },
   {
    "duration": 3,
    "start_time": "2021-11-17T21:16:32.603Z"
   },
   {
    "duration": 3,
    "start_time": "2021-11-17T21:17:06.941Z"
   },
   {
    "duration": 98,
    "start_time": "2021-11-17T21:18:05.733Z"
   },
   {
    "duration": 4,
    "start_time": "2021-11-17T21:21:35.255Z"
   },
   {
    "duration": 3,
    "start_time": "2021-11-17T21:21:37.804Z"
   },
   {
    "duration": 4,
    "start_time": "2021-11-17T21:23:06.071Z"
   },
   {
    "duration": 3,
    "start_time": "2021-11-17T21:23:24.799Z"
   },
   {
    "duration": 3,
    "start_time": "2021-11-17T21:23:32.591Z"
   },
   {
    "duration": 98,
    "start_time": "2021-11-17T21:28:31.559Z"
   },
   {
    "duration": 3,
    "start_time": "2021-11-17T21:28:45.448Z"
   },
   {
    "duration": 3,
    "start_time": "2021-11-17T21:29:17.303Z"
   },
   {
    "duration": 3,
    "start_time": "2021-11-17T21:29:29.617Z"
   },
   {
    "duration": 3,
    "start_time": "2021-11-17T21:29:32.681Z"
   },
   {
    "duration": 3,
    "start_time": "2021-11-17T21:36:11.474Z"
   },
   {
    "duration": 3,
    "start_time": "2021-11-17T21:36:14.791Z"
   },
   {
    "duration": 3,
    "start_time": "2021-11-17T21:36:53.943Z"
   },
   {
    "duration": 3,
    "start_time": "2021-11-17T21:36:56.165Z"
   },
   {
    "duration": 4,
    "start_time": "2021-11-17T21:37:16.590Z"
   },
   {
    "duration": 3,
    "start_time": "2021-11-17T21:37:22.702Z"
   },
   {
    "duration": 4,
    "start_time": "2021-11-17T21:38:03.479Z"
   },
   {
    "duration": 3,
    "start_time": "2021-11-17T21:38:08.601Z"
   },
   {
    "duration": 3,
    "start_time": "2021-11-17T21:38:12.928Z"
   },
   {
    "duration": 3,
    "start_time": "2021-11-17T21:38:48.896Z"
   },
   {
    "duration": 2,
    "start_time": "2021-11-17T21:38:49.171Z"
   },
   {
    "duration": 4,
    "start_time": "2021-11-17T21:39:57.889Z"
   },
   {
    "duration": 3,
    "start_time": "2021-11-17T21:39:58.057Z"
   },
   {
    "duration": 3,
    "start_time": "2021-11-17T21:41:20.108Z"
   },
   {
    "duration": 3,
    "start_time": "2021-11-17T21:41:20.629Z"
   },
   {
    "duration": 3,
    "start_time": "2021-11-17T21:42:49.136Z"
   },
   {
    "duration": 3,
    "start_time": "2021-11-17T21:43:15.137Z"
   },
   {
    "duration": 4,
    "start_time": "2021-11-17T21:43:16.766Z"
   },
   {
    "duration": 4,
    "start_time": "2021-11-17T21:43:31.711Z"
   },
   {
    "duration": 3,
    "start_time": "2021-11-17T21:43:36.312Z"
   },
   {
    "duration": 4,
    "start_time": "2021-11-17T21:45:08.825Z"
   },
   {
    "duration": 4,
    "start_time": "2021-11-17T21:45:10.119Z"
   },
   {
    "duration": 4,
    "start_time": "2021-11-17T21:45:13.748Z"
   },
   {
    "duration": 3,
    "start_time": "2021-11-17T21:45:22.219Z"
   },
   {
    "duration": 3,
    "start_time": "2021-11-17T21:45:33.412Z"
   },
   {
    "duration": 2,
    "start_time": "2021-11-17T21:46:01.885Z"
   },
   {
    "duration": 3,
    "start_time": "2021-11-17T21:46:03.628Z"
   },
   {
    "duration": 107,
    "start_time": "2021-11-17T21:47:32.512Z"
   },
   {
    "duration": 103,
    "start_time": "2021-11-17T21:50:36.243Z"
   },
   {
    "duration": 3,
    "start_time": "2021-11-18T06:28:31.440Z"
   },
   {
    "duration": 3,
    "start_time": "2021-11-18T06:29:00.168Z"
   },
   {
    "duration": 3,
    "start_time": "2021-11-18T06:31:27.008Z"
   },
   {
    "duration": 2,
    "start_time": "2021-11-18T06:35:34.288Z"
   },
   {
    "duration": 2,
    "start_time": "2021-11-18T06:38:04.527Z"
   }
  ],
  "kernelspec": {
   "display_name": "Python 3 (ipykernel)",
   "language": "python",
   "name": "python3"
  },
  "language_info": {
   "codemirror_mode": {
    "name": "ipython",
    "version": 3
   },
   "file_extension": ".py",
   "mimetype": "text/x-python",
   "name": "python",
   "nbconvert_exporter": "python",
   "pygments_lexer": "ipython3",
   "version": "3.9.7"
  },
  "toc": {
   "base_numbering": 1,
   "nav_menu": {},
   "number_sections": true,
   "sideBar": true,
   "skip_h1_title": false,
   "title_cell": "Table of Contents",
   "title_sidebar": "Contents",
   "toc_cell": false,
   "toc_position": {},
   "toc_section_display": true,
   "toc_window_display": true
  }
 },
 "nbformat": 4,
 "nbformat_minor": 2
}
