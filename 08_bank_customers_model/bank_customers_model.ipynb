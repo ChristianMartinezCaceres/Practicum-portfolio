{
 "cells": [
  {
   "attachments": {},
   "cell_type": "markdown",
   "metadata": {},
   "source": [
    "# Modelo de Machine Learning para predecir la deserción de clientes de Beta Bank"
   ]
  },
  {
   "attachments": {},
   "cell_type": "markdown",
   "metadata": {},
   "source": [
    "# Contenido "
   ]
  },
  {
   "attachments": {},
   "cell_type": "markdown",
   "metadata": {},
   "source": [
    "* [Introducción](#)\n",
    "* [Objetivos](#)\n",
    "* [Etapas](#)\n",
    "* [Inicialización: descripción de los datos](#)\n",
    "* [Preprocesamiento de datos](#)\n",
    "* [Análisis exploratorio de datos](#)\n",
    "* [Estandarización y segmentación de datos](#)\n",
    "* [Examinando el equilibrio de clases: modelos sin equilibrar](#)\n",
    "* [Mejora de los modelos: modelamiento con equilibrio de clases](#)\n",
    "* [Prueba final del modelo](#)\n",
    "* [Extra: prueba de cordura](#)\n",
    "* [Conclusiones](#)"
   ]
  },
  {
   "attachments": {},
   "cell_type": "markdown",
   "metadata": {},
   "source": [
    "# Introducción"
   ]
  },
  {
   "attachments": {},
   "cell_type": "markdown",
   "metadata": {},
   "source": [
    "El banco Beta Bank, uno de los más importantes de su país, nos cuenta que últimamente lidia con problemas para retener sus clientes y que estos han estado dejando el banco poco a poco, cada mes. Realizaron un estudio en el que descubrieron que es más económico tratar de salvar a los clientes actuales en lugar de atraer nuevos, por el cual decidieron priorizar este objetivo, el cual implica que necesitan una forma que les ayude a predecir si un cliente dejará el banco pronto. Para esto, desarrollaremos un modelo de Machine Learning (de clasificación) que nos ayude con esta tarea, en base a los datos del comportamiento pasado de los clientes del banco."
   ]
  },
  {
   "attachments": {},
   "cell_type": "markdown",
   "metadata": {},
   "source": [
    "# Objetivos"
   ]
  },
  {
   "attachments": {},
   "cell_type": "markdown",
   "metadata": {},
   "source": [
    "Nuestro principal objetivo será determinar el modelo con el máximo valor F1 posible, teniendo como umbral mínimo un valor F1 de 0.59.\n",
    "\n",
    "También tendremos en cuenta el desequilibrio de clases en este proyecto, y analizaremos el modelamiento teniendo en cuenta o no este problema.\n",
    "\n",
    "A su vez, compararemos el valor F1 obtenido y lo compararemos con la métrica AUC-ROC para medir el desempeño del modelo. "
   ]
  },
  {
   "attachments": {},
   "cell_type": "markdown",
   "metadata": {},
   "source": [
    "# Inicialización: descripción de los datos"
   ]
  },
  {
   "attachments": {},
   "cell_type": "markdown",
   "metadata": {},
   "source": [
    "**Carga de librerías necesarias**"
   ]
  },
  {
   "cell_type": "code",
   "execution_count": 95,
   "metadata": {},
   "outputs": [],
   "source": [
    "import numpy as np\n",
    "import pandas as pd\n",
    "import seaborn as sns\n",
    "import matplotlib.pyplot as plt  # librerías estándar para manipular datos\n",
    "\n",
    "from sklearn.preprocessing import StandardScaler  # estandarizador de sklearn\n",
    "from sklearn.utils import shuffle  # mezclador de sklearn \n",
    "from sklearn.model_selection import train_test_split, GridSearchCV \n",
    "from sklearn.metrics import f1_score, roc_curve, roc_auc_score, precision_score, recall_score  # métricas que usaremos \n",
    "from sklearn.tree import DecisionTreeClassifier\n",
    "from sklearn.ensemble import RandomForestClassifier\n",
    "from sklearn.linear_model import LogisticRegression, LinearRegression  # modelos necesarios\n",
    "\n",
    "import warnings\n",
    "warnings.filterwarnings('ignore')  # ignoraremos algunos warnings"
   ]
  },
  {
   "attachments": {},
   "cell_type": "markdown",
   "metadata": {},
   "source": [
    "## Cargar los datos"
   ]
  },
  {
   "attachments": {},
   "cell_type": "markdown",
   "metadata": {},
   "source": [
    "Beta Bank nos proporcionó el siguiente dataset:"
   ]
  },
  {
   "cell_type": "code",
   "execution_count": 3,
   "metadata": {},
   "outputs": [],
   "source": [
    "try:\n",
    "    data_beta = pd.read_csv(\"Churn.csv\")\n",
    "except:\n",
    "    data_beta = pd.read_csv(\"/datasets/Churn.csv\")"
   ]
  },
  {
   "attachments": {},
   "cell_type": "markdown",
   "metadata": {},
   "source": [
    "## Exploración inicial de datos"
   ]
  },
  {
   "attachments": {},
   "cell_type": "markdown",
   "metadata": {},
   "source": [
    "Según la documentación, en el dataset tenemos la siguiente información:\n",
    "\n",
    "* ``RowNumber``: índice de cadena de datos.\n",
    "* ``CustomerId``: identificador de cliente único.\n",
    "* ``Surname``: apellido.\n",
    "* ``CreditScore``: valor de crédito.\n",
    "* ``Geography``: país de residencia.\n",
    "* ``Gender``: género.\n",
    "* ``Age``: edad.\n",
    "* ``Tenure``: período durante el cual ha madurado el depósito a plazo fijo de un cliente (años).\n",
    "* ``Balance``: saldo de cuenta.\n",
    "* ``NumOfProducts``: número de productos bancarios utilizados por el clientes.\n",
    "* ``HasCrCard``: si el cliente tiene una tarjeta de crédito (1 = sí, 0 = no).\n",
    "* ``IsActiveMember``: actividad del cliente (1 = sí, 0 = no).\n",
    "* ``EstimatedSalary``: salario estimado.\n",
    "* ``Exited``: si el cliente se ha ido (1 = sí, 0 = no).\n",
    "\n",
    "Ahora exploramos los datos:"
   ]
  },
  {
   "cell_type": "code",
   "execution_count": 4,
   "metadata": {},
   "outputs": [
    {
     "data": {
      "text/html": [
       "<div>\n",
       "<style scoped>\n",
       "    .dataframe tbody tr th:only-of-type {\n",
       "        vertical-align: middle;\n",
       "    }\n",
       "\n",
       "    .dataframe tbody tr th {\n",
       "        vertical-align: top;\n",
       "    }\n",
       "\n",
       "    .dataframe thead th {\n",
       "        text-align: right;\n",
       "    }\n",
       "</style>\n",
       "<table border=\"1\" class=\"dataframe\">\n",
       "  <thead>\n",
       "    <tr style=\"text-align: right;\">\n",
       "      <th></th>\n",
       "      <th>RowNumber</th>\n",
       "      <th>CustomerId</th>\n",
       "      <th>CreditScore</th>\n",
       "      <th>Age</th>\n",
       "      <th>Tenure</th>\n",
       "      <th>Balance</th>\n",
       "      <th>NumOfProducts</th>\n",
       "      <th>HasCrCard</th>\n",
       "      <th>IsActiveMember</th>\n",
       "      <th>EstimatedSalary</th>\n",
       "      <th>Exited</th>\n",
       "    </tr>\n",
       "  </thead>\n",
       "  <tbody>\n",
       "    <tr>\n",
       "      <th>count</th>\n",
       "      <td>10000.00000</td>\n",
       "      <td>1.000000e+04</td>\n",
       "      <td>10000.000000</td>\n",
       "      <td>10000.000000</td>\n",
       "      <td>9091.000000</td>\n",
       "      <td>10000.000000</td>\n",
       "      <td>10000.000000</td>\n",
       "      <td>10000.00000</td>\n",
       "      <td>10000.000000</td>\n",
       "      <td>10000.000000</td>\n",
       "      <td>10000.000000</td>\n",
       "    </tr>\n",
       "    <tr>\n",
       "      <th>mean</th>\n",
       "      <td>5000.50000</td>\n",
       "      <td>1.569094e+07</td>\n",
       "      <td>650.528800</td>\n",
       "      <td>38.921800</td>\n",
       "      <td>4.997690</td>\n",
       "      <td>76485.889288</td>\n",
       "      <td>1.530200</td>\n",
       "      <td>0.70550</td>\n",
       "      <td>0.515100</td>\n",
       "      <td>100090.239881</td>\n",
       "      <td>0.203700</td>\n",
       "    </tr>\n",
       "    <tr>\n",
       "      <th>std</th>\n",
       "      <td>2886.89568</td>\n",
       "      <td>7.193619e+04</td>\n",
       "      <td>96.653299</td>\n",
       "      <td>10.487806</td>\n",
       "      <td>2.894723</td>\n",
       "      <td>62397.405202</td>\n",
       "      <td>0.581654</td>\n",
       "      <td>0.45584</td>\n",
       "      <td>0.499797</td>\n",
       "      <td>57510.492818</td>\n",
       "      <td>0.402769</td>\n",
       "    </tr>\n",
       "    <tr>\n",
       "      <th>min</th>\n",
       "      <td>1.00000</td>\n",
       "      <td>1.556570e+07</td>\n",
       "      <td>350.000000</td>\n",
       "      <td>18.000000</td>\n",
       "      <td>0.000000</td>\n",
       "      <td>0.000000</td>\n",
       "      <td>1.000000</td>\n",
       "      <td>0.00000</td>\n",
       "      <td>0.000000</td>\n",
       "      <td>11.580000</td>\n",
       "      <td>0.000000</td>\n",
       "    </tr>\n",
       "    <tr>\n",
       "      <th>25%</th>\n",
       "      <td>2500.75000</td>\n",
       "      <td>1.562853e+07</td>\n",
       "      <td>584.000000</td>\n",
       "      <td>32.000000</td>\n",
       "      <td>2.000000</td>\n",
       "      <td>0.000000</td>\n",
       "      <td>1.000000</td>\n",
       "      <td>0.00000</td>\n",
       "      <td>0.000000</td>\n",
       "      <td>51002.110000</td>\n",
       "      <td>0.000000</td>\n",
       "    </tr>\n",
       "    <tr>\n",
       "      <th>50%</th>\n",
       "      <td>5000.50000</td>\n",
       "      <td>1.569074e+07</td>\n",
       "      <td>652.000000</td>\n",
       "      <td>37.000000</td>\n",
       "      <td>5.000000</td>\n",
       "      <td>97198.540000</td>\n",
       "      <td>1.000000</td>\n",
       "      <td>1.00000</td>\n",
       "      <td>1.000000</td>\n",
       "      <td>100193.915000</td>\n",
       "      <td>0.000000</td>\n",
       "    </tr>\n",
       "    <tr>\n",
       "      <th>75%</th>\n",
       "      <td>7500.25000</td>\n",
       "      <td>1.575323e+07</td>\n",
       "      <td>718.000000</td>\n",
       "      <td>44.000000</td>\n",
       "      <td>7.000000</td>\n",
       "      <td>127644.240000</td>\n",
       "      <td>2.000000</td>\n",
       "      <td>1.00000</td>\n",
       "      <td>1.000000</td>\n",
       "      <td>149388.247500</td>\n",
       "      <td>0.000000</td>\n",
       "    </tr>\n",
       "    <tr>\n",
       "      <th>max</th>\n",
       "      <td>10000.00000</td>\n",
       "      <td>1.581569e+07</td>\n",
       "      <td>850.000000</td>\n",
       "      <td>92.000000</td>\n",
       "      <td>10.000000</td>\n",
       "      <td>250898.090000</td>\n",
       "      <td>4.000000</td>\n",
       "      <td>1.00000</td>\n",
       "      <td>1.000000</td>\n",
       "      <td>199992.480000</td>\n",
       "      <td>1.000000</td>\n",
       "    </tr>\n",
       "  </tbody>\n",
       "</table>\n",
       "</div>"
      ],
      "text/plain": [
       "         RowNumber    CustomerId   CreditScore           Age       Tenure  \\\n",
       "count  10000.00000  1.000000e+04  10000.000000  10000.000000  9091.000000   \n",
       "mean    5000.50000  1.569094e+07    650.528800     38.921800     4.997690   \n",
       "std     2886.89568  7.193619e+04     96.653299     10.487806     2.894723   \n",
       "min        1.00000  1.556570e+07    350.000000     18.000000     0.000000   \n",
       "25%     2500.75000  1.562853e+07    584.000000     32.000000     2.000000   \n",
       "50%     5000.50000  1.569074e+07    652.000000     37.000000     5.000000   \n",
       "75%     7500.25000  1.575323e+07    718.000000     44.000000     7.000000   \n",
       "max    10000.00000  1.581569e+07    850.000000     92.000000    10.000000   \n",
       "\n",
       "             Balance  NumOfProducts    HasCrCard  IsActiveMember  \\\n",
       "count   10000.000000   10000.000000  10000.00000    10000.000000   \n",
       "mean    76485.889288       1.530200      0.70550        0.515100   \n",
       "std     62397.405202       0.581654      0.45584        0.499797   \n",
       "min         0.000000       1.000000      0.00000        0.000000   \n",
       "25%         0.000000       1.000000      0.00000        0.000000   \n",
       "50%     97198.540000       1.000000      1.00000        1.000000   \n",
       "75%    127644.240000       2.000000      1.00000        1.000000   \n",
       "max    250898.090000       4.000000      1.00000        1.000000   \n",
       "\n",
       "       EstimatedSalary        Exited  \n",
       "count     10000.000000  10000.000000  \n",
       "mean     100090.239881      0.203700  \n",
       "std       57510.492818      0.402769  \n",
       "min          11.580000      0.000000  \n",
       "25%       51002.110000      0.000000  \n",
       "50%      100193.915000      0.000000  \n",
       "75%      149388.247500      0.000000  \n",
       "max      199992.480000      1.000000  "
      ]
     },
     "execution_count": 4,
     "metadata": {},
     "output_type": "execute_result"
    }
   ],
   "source": [
    "data_beta.describe()"
   ]
  },
  {
   "cell_type": "code",
   "execution_count": 5,
   "metadata": {},
   "outputs": [
    {
     "data": {
      "text/html": [
       "<div>\n",
       "<style scoped>\n",
       "    .dataframe tbody tr th:only-of-type {\n",
       "        vertical-align: middle;\n",
       "    }\n",
       "\n",
       "    .dataframe tbody tr th {\n",
       "        vertical-align: top;\n",
       "    }\n",
       "\n",
       "    .dataframe thead th {\n",
       "        text-align: right;\n",
       "    }\n",
       "</style>\n",
       "<table border=\"1\" class=\"dataframe\">\n",
       "  <thead>\n",
       "    <tr style=\"text-align: right;\">\n",
       "      <th></th>\n",
       "      <th>RowNumber</th>\n",
       "      <th>CustomerId</th>\n",
       "      <th>Surname</th>\n",
       "      <th>CreditScore</th>\n",
       "      <th>Geography</th>\n",
       "      <th>Gender</th>\n",
       "      <th>Age</th>\n",
       "      <th>Tenure</th>\n",
       "      <th>Balance</th>\n",
       "      <th>NumOfProducts</th>\n",
       "      <th>HasCrCard</th>\n",
       "      <th>IsActiveMember</th>\n",
       "      <th>EstimatedSalary</th>\n",
       "      <th>Exited</th>\n",
       "    </tr>\n",
       "  </thead>\n",
       "  <tbody>\n",
       "    <tr>\n",
       "      <th>0</th>\n",
       "      <td>1</td>\n",
       "      <td>15634602</td>\n",
       "      <td>Hargrave</td>\n",
       "      <td>619</td>\n",
       "      <td>France</td>\n",
       "      <td>Female</td>\n",
       "      <td>42</td>\n",
       "      <td>2.0</td>\n",
       "      <td>0.00</td>\n",
       "      <td>1</td>\n",
       "      <td>1</td>\n",
       "      <td>1</td>\n",
       "      <td>101348.88</td>\n",
       "      <td>1</td>\n",
       "    </tr>\n",
       "    <tr>\n",
       "      <th>1</th>\n",
       "      <td>2</td>\n",
       "      <td>15647311</td>\n",
       "      <td>Hill</td>\n",
       "      <td>608</td>\n",
       "      <td>Spain</td>\n",
       "      <td>Female</td>\n",
       "      <td>41</td>\n",
       "      <td>1.0</td>\n",
       "      <td>83807.86</td>\n",
       "      <td>1</td>\n",
       "      <td>0</td>\n",
       "      <td>1</td>\n",
       "      <td>112542.58</td>\n",
       "      <td>0</td>\n",
       "    </tr>\n",
       "    <tr>\n",
       "      <th>2</th>\n",
       "      <td>3</td>\n",
       "      <td>15619304</td>\n",
       "      <td>Onio</td>\n",
       "      <td>502</td>\n",
       "      <td>France</td>\n",
       "      <td>Female</td>\n",
       "      <td>42</td>\n",
       "      <td>8.0</td>\n",
       "      <td>159660.80</td>\n",
       "      <td>3</td>\n",
       "      <td>1</td>\n",
       "      <td>0</td>\n",
       "      <td>113931.57</td>\n",
       "      <td>1</td>\n",
       "    </tr>\n",
       "    <tr>\n",
       "      <th>3</th>\n",
       "      <td>4</td>\n",
       "      <td>15701354</td>\n",
       "      <td>Boni</td>\n",
       "      <td>699</td>\n",
       "      <td>France</td>\n",
       "      <td>Female</td>\n",
       "      <td>39</td>\n",
       "      <td>1.0</td>\n",
       "      <td>0.00</td>\n",
       "      <td>2</td>\n",
       "      <td>0</td>\n",
       "      <td>0</td>\n",
       "      <td>93826.63</td>\n",
       "      <td>0</td>\n",
       "    </tr>\n",
       "    <tr>\n",
       "      <th>4</th>\n",
       "      <td>5</td>\n",
       "      <td>15737888</td>\n",
       "      <td>Mitchell</td>\n",
       "      <td>850</td>\n",
       "      <td>Spain</td>\n",
       "      <td>Female</td>\n",
       "      <td>43</td>\n",
       "      <td>2.0</td>\n",
       "      <td>125510.82</td>\n",
       "      <td>1</td>\n",
       "      <td>1</td>\n",
       "      <td>1</td>\n",
       "      <td>79084.10</td>\n",
       "      <td>0</td>\n",
       "    </tr>\n",
       "    <tr>\n",
       "      <th>5</th>\n",
       "      <td>6</td>\n",
       "      <td>15574012</td>\n",
       "      <td>Chu</td>\n",
       "      <td>645</td>\n",
       "      <td>Spain</td>\n",
       "      <td>Male</td>\n",
       "      <td>44</td>\n",
       "      <td>8.0</td>\n",
       "      <td>113755.78</td>\n",
       "      <td>2</td>\n",
       "      <td>1</td>\n",
       "      <td>0</td>\n",
       "      <td>149756.71</td>\n",
       "      <td>1</td>\n",
       "    </tr>\n",
       "    <tr>\n",
       "      <th>6</th>\n",
       "      <td>7</td>\n",
       "      <td>15592531</td>\n",
       "      <td>Bartlett</td>\n",
       "      <td>822</td>\n",
       "      <td>France</td>\n",
       "      <td>Male</td>\n",
       "      <td>50</td>\n",
       "      <td>7.0</td>\n",
       "      <td>0.00</td>\n",
       "      <td>2</td>\n",
       "      <td>1</td>\n",
       "      <td>1</td>\n",
       "      <td>10062.80</td>\n",
       "      <td>0</td>\n",
       "    </tr>\n",
       "    <tr>\n",
       "      <th>7</th>\n",
       "      <td>8</td>\n",
       "      <td>15656148</td>\n",
       "      <td>Obinna</td>\n",
       "      <td>376</td>\n",
       "      <td>Germany</td>\n",
       "      <td>Female</td>\n",
       "      <td>29</td>\n",
       "      <td>4.0</td>\n",
       "      <td>115046.74</td>\n",
       "      <td>4</td>\n",
       "      <td>1</td>\n",
       "      <td>0</td>\n",
       "      <td>119346.88</td>\n",
       "      <td>1</td>\n",
       "    </tr>\n",
       "    <tr>\n",
       "      <th>8</th>\n",
       "      <td>9</td>\n",
       "      <td>15792365</td>\n",
       "      <td>He</td>\n",
       "      <td>501</td>\n",
       "      <td>France</td>\n",
       "      <td>Male</td>\n",
       "      <td>44</td>\n",
       "      <td>4.0</td>\n",
       "      <td>142051.07</td>\n",
       "      <td>2</td>\n",
       "      <td>0</td>\n",
       "      <td>1</td>\n",
       "      <td>74940.50</td>\n",
       "      <td>0</td>\n",
       "    </tr>\n",
       "    <tr>\n",
       "      <th>9</th>\n",
       "      <td>10</td>\n",
       "      <td>15592389</td>\n",
       "      <td>H?</td>\n",
       "      <td>684</td>\n",
       "      <td>France</td>\n",
       "      <td>Male</td>\n",
       "      <td>27</td>\n",
       "      <td>2.0</td>\n",
       "      <td>134603.88</td>\n",
       "      <td>1</td>\n",
       "      <td>1</td>\n",
       "      <td>1</td>\n",
       "      <td>71725.73</td>\n",
       "      <td>0</td>\n",
       "    </tr>\n",
       "  </tbody>\n",
       "</table>\n",
       "</div>"
      ],
      "text/plain": [
       "   RowNumber  CustomerId   Surname  CreditScore Geography  Gender  Age  \\\n",
       "0          1    15634602  Hargrave          619    France  Female   42   \n",
       "1          2    15647311      Hill          608     Spain  Female   41   \n",
       "2          3    15619304      Onio          502    France  Female   42   \n",
       "3          4    15701354      Boni          699    France  Female   39   \n",
       "4          5    15737888  Mitchell          850     Spain  Female   43   \n",
       "5          6    15574012       Chu          645     Spain    Male   44   \n",
       "6          7    15592531  Bartlett          822    France    Male   50   \n",
       "7          8    15656148    Obinna          376   Germany  Female   29   \n",
       "8          9    15792365        He          501    France    Male   44   \n",
       "9         10    15592389        H?          684    France    Male   27   \n",
       "\n",
       "   Tenure    Balance  NumOfProducts  HasCrCard  IsActiveMember  \\\n",
       "0     2.0       0.00              1          1               1   \n",
       "1     1.0   83807.86              1          0               1   \n",
       "2     8.0  159660.80              3          1               0   \n",
       "3     1.0       0.00              2          0               0   \n",
       "4     2.0  125510.82              1          1               1   \n",
       "5     8.0  113755.78              2          1               0   \n",
       "6     7.0       0.00              2          1               1   \n",
       "7     4.0  115046.74              4          1               0   \n",
       "8     4.0  142051.07              2          0               1   \n",
       "9     2.0  134603.88              1          1               1   \n",
       "\n",
       "   EstimatedSalary  Exited  \n",
       "0        101348.88       1  \n",
       "1        112542.58       0  \n",
       "2        113931.57       1  \n",
       "3         93826.63       0  \n",
       "4         79084.10       0  \n",
       "5        149756.71       1  \n",
       "6         10062.80       0  \n",
       "7        119346.88       1  \n",
       "8         74940.50       0  \n",
       "9         71725.73       0  "
      ]
     },
     "execution_count": 5,
     "metadata": {},
     "output_type": "execute_result"
    }
   ],
   "source": [
    "data_beta.head(10)"
   ]
  },
  {
   "cell_type": "code",
   "execution_count": 6,
   "metadata": {},
   "outputs": [
    {
     "name": "stdout",
     "output_type": "stream",
     "text": [
      "<class 'pandas.core.frame.DataFrame'>\n",
      "RangeIndex: 10000 entries, 0 to 9999\n",
      "Data columns (total 14 columns):\n",
      " #   Column           Non-Null Count  Dtype  \n",
      "---  ------           --------------  -----  \n",
      " 0   RowNumber        10000 non-null  int64  \n",
      " 1   CustomerId       10000 non-null  int64  \n",
      " 2   Surname          10000 non-null  object \n",
      " 3   CreditScore      10000 non-null  int64  \n",
      " 4   Geography        10000 non-null  object \n",
      " 5   Gender           10000 non-null  object \n",
      " 6   Age              10000 non-null  int64  \n",
      " 7   Tenure           9091 non-null   float64\n",
      " 8   Balance          10000 non-null  float64\n",
      " 9   NumOfProducts    10000 non-null  int64  \n",
      " 10  HasCrCard        10000 non-null  int64  \n",
      " 11  IsActiveMember   10000 non-null  int64  \n",
      " 12  EstimatedSalary  10000 non-null  float64\n",
      " 13  Exited           10000 non-null  int64  \n",
      "dtypes: float64(3), int64(8), object(3)\n",
      "memory usage: 1.1+ MB\n"
     ]
    }
   ],
   "source": [
    "data_beta.info()"
   ]
  },
  {
   "attachments": {},
   "cell_type": "markdown",
   "metadata": {},
   "source": [
    "De las columnas, no notamos problemas evidentes: la mayor parte de ellas tienen valores razonables y sus distribuciones no parecen mostrar sesgos o asimetrías. \n",
    "\n",
    "El problema más grande resulta en la columna ``Tenure``, que muestra tener valores ausentes. Pensaremos en cómo resolver esto pronto.\n",
    "\n",
    "Otro detalle no menor es que el nombre de las columnas tiene un formato incorrecto al usar mayúsculas, cosa que también solucionaremos.\n",
    "\n",
    "Por último, parecen existir columnas con información que no será útil al momento de realizar el modelo: ``RowNumber``, ``CustomerId`` y ``Surname`` no deberían tener una relación significativa *a priori* para ayudarnos a predecir nuestro target ``Exited``. "
   ]
  },
  {
   "attachments": {},
   "cell_type": "markdown",
   "metadata": {},
   "source": [
    "A continuación, daremos un vistazo al problema de los valores duplicados, y también de los ausentes de la columna ``Tenure``:"
   ]
  },
  {
   "cell_type": "code",
   "execution_count": 7,
   "metadata": {},
   "outputs": [
    {
     "data": {
      "text/plain": [
       "0"
      ]
     },
     "execution_count": 7,
     "metadata": {},
     "output_type": "execute_result"
    }
   ],
   "source": [
    "data_beta.duplicated().sum()"
   ]
  },
  {
   "attachments": {},
   "cell_type": "markdown",
   "metadata": {},
   "source": [
    "Ya que no tenemos duplicados, veremos la distribución de ``Tenure`` y sus valores ausentes:"
   ]
  },
  {
   "cell_type": "code",
   "execution_count": 8,
   "metadata": {},
   "outputs": [
    {
     "data": {
      "text/plain": [
       "1.0     0.0952\n",
       "2.0     0.0950\n",
       "8.0     0.0933\n",
       "3.0     0.0928\n",
       "5.0     0.0927\n",
       "7.0     0.0925\n",
       "NaN     0.0909\n",
       "4.0     0.0885\n",
       "9.0     0.0882\n",
       "6.0     0.0881\n",
       "10.0    0.0446\n",
       "0.0     0.0382\n",
       "Name: Tenure, dtype: float64"
      ]
     },
     "execution_count": 8,
     "metadata": {},
     "output_type": "execute_result"
    }
   ],
   "source": [
    "data_beta['Tenure'].value_counts(dropna=False, normalize=True)"
   ]
  },
  {
   "attachments": {},
   "cell_type": "markdown",
   "metadata": {},
   "source": [
    "Relativizando, parece que tenemos tantos valores ausentes como los valores más frecuentes de la tabla (alrededor del 9 %). De esta distribución de la columna, resulta interesante que los clientes que tienen un depósito a plazo fijo por 8 años estén entre los más frecuentes, cuando se esperaría una relación inversa con el tiempo de forma más clara. Por ahora, continuaremos con el preprocesamiento."
   ]
  },
  {
   "attachments": {},
   "cell_type": "markdown",
   "metadata": {},
   "source": [
    "## Conclusiones del apartado"
   ]
  },
  {
   "attachments": {},
   "cell_type": "markdown",
   "metadata": {},
   "source": [
    "En este pequeño apartado, encontramos que la columna ``Tenure`` cuenta con un 9 % de sus valores como ausentes, siendo este el principal problema hallado. También las columnas presentan un formato incorrecto en sus nombres y existen columnas que en teoría no están relacionadas con nuestra variable objetivo. \n",
    "\n",
    "Fuera de esto, los datos parecen estar correctos y no muestran más problemas. El tratamiento de estos problemas viene a continuación."
   ]
  },
  {
   "attachments": {},
   "cell_type": "markdown",
   "metadata": {},
   "source": [
    "# Preprocesamiento de datos"
   ]
  },
  {
   "attachments": {},
   "cell_type": "markdown",
   "metadata": {},
   "source": [
    "Tenemos varios problemas a resolver en este apartado, pero empezaremos por el que nos facilitará el proceso primero: eliminar columnas."
   ]
  },
  {
   "attachments": {},
   "cell_type": "markdown",
   "metadata": {},
   "source": [
    "## Columnas prescindibles"
   ]
  },
  {
   "attachments": {},
   "cell_type": "markdown",
   "metadata": {},
   "source": [
    "Habíamos expuesto que las columnas ``RowNumber``, ``CustomerId`` y ``Surname`` no deberían tener un impacto significativo en la determinación de ``Exited``. En el sentido teórico y a sentido común, este tipo de variables no deberían tener relación con el hecho de si un cliente va a dejar el banco o no, y si existiera una relación de cualquier tipo, esta podría considerarse no causal o espuria. Por ejemplo, el apellido de un cliente no determina si este dejará el banco. \n",
    "\n",
    "Debido a todo lo explicado, lo correcto sería directamente prescindir de estas columnas en este paso, a manera primer *feature engineering* en el proceso de modelamiento."
   ]
  },
  {
   "cell_type": "code",
   "execution_count": 9,
   "metadata": {},
   "outputs": [],
   "source": [
    "data_beta = data_beta.drop(columns=['RowNumber', 'CustomerId', 'Surname'])"
   ]
  },
  {
   "cell_type": "code",
   "execution_count": 10,
   "metadata": {},
   "outputs": [
    {
     "data": {
      "text/plain": [
       "Index(['CreditScore', 'Geography', 'Gender', 'Age', 'Tenure', 'Balance',\n",
       "       'NumOfProducts', 'HasCrCard', 'IsActiveMember', 'EstimatedSalary',\n",
       "       'Exited'],\n",
       "      dtype='object')"
      ]
     },
     "execution_count": 10,
     "metadata": {},
     "output_type": "execute_result"
    }
   ],
   "source": [
    "data_beta.columns"
   ]
  },
  {
   "attachments": {},
   "cell_type": "markdown",
   "metadata": {},
   "source": [
    "## Corrigiendo los nombres de las columnas"
   ]
  },
  {
   "attachments": {},
   "cell_type": "markdown",
   "metadata": {},
   "source": [
    "No solo volveremos minúsculas los nombres, sino que usaremos los estándares que los creadores de Python recomiendan para los nombres de las columnas:"
   ]
  },
  {
   "cell_type": "code",
   "execution_count": 11,
   "metadata": {},
   "outputs": [],
   "source": [
    "data_beta = data_beta.rename(\n",
    "    columns= {\n",
    "        'CreditScore' : 'credit_score',\n",
    "        'NumOfProducts' : 'num_of_products',\n",
    "        'HasCrCard' : 'has_cr_card',\n",
    "        'IsActiveMember': 'is_active_member',\n",
    "        'EstimatedSalary': 'estimated_salary'\n",
    "    }\n",
    ")"
   ]
  },
  {
   "cell_type": "code",
   "execution_count": 12,
   "metadata": {},
   "outputs": [],
   "source": [
    "data_beta.columns = data_beta.columns.str.lower()"
   ]
  },
  {
   "cell_type": "code",
   "execution_count": 13,
   "metadata": {},
   "outputs": [
    {
     "data": {
      "text/plain": [
       "Index(['credit_score', 'geography', 'gender', 'age', 'tenure', 'balance',\n",
       "       'num_of_products', 'has_cr_card', 'is_active_member',\n",
       "       'estimated_salary', 'exited'],\n",
       "      dtype='object')"
      ]
     },
     "execution_count": 13,
     "metadata": {},
     "output_type": "execute_result"
    }
   ],
   "source": [
    "data_beta.columns"
   ]
  },
  {
   "attachments": {},
   "cell_type": "markdown",
   "metadata": {},
   "source": [
    "Los problemas de las columnas han sido corregidos. El paso siguiente es tratar los valores ausentes."
   ]
  },
  {
   "attachments": {},
   "cell_type": "markdown",
   "metadata": {},
   "source": [
    "## Valores ausentes de ``tenure``"
   ]
  },
  {
   "attachments": {},
   "cell_type": "markdown",
   "metadata": {},
   "source": [
    "Antes de pensar en el método a usar para rellenar sus valores ausentes, necesitamos probar si estos tienen una causa detrás que los relaciona a otra columna, es decir, si estos son causados o afectados por alguna otra columna. Para esto, usaremos un bucle y observaremos si existen cambios con y sin valores ausentes:"
   ]
  },
  {
   "cell_type": "code",
   "execution_count": 14,
   "metadata": {},
   "outputs": [
    {
     "name": "stdout",
     "output_type": "stream",
     "text": [
      "850    0.0233\n",
      "678    0.0063\n",
      "655    0.0054\n",
      "705    0.0053\n",
      "667    0.0053\n",
      "        ...  \n",
      "404    0.0001\n",
      "351    0.0001\n",
      "365    0.0001\n",
      "417    0.0001\n",
      "419    0.0001\n",
      "Name: credit_score, Length: 460, dtype: float64\n",
      "\n",
      "France     0.5014\n",
      "Germany    0.2509\n",
      "Spain      0.2477\n",
      "Name: geography, dtype: float64\n",
      "\n",
      "Male      0.5457\n",
      "Female    0.4543\n",
      "Name: gender, dtype: float64\n",
      "\n",
      "37    0.0478\n",
      "38    0.0477\n",
      "35    0.0474\n",
      "36    0.0456\n",
      "34    0.0447\n",
      "       ...  \n",
      "92    0.0002\n",
      "82    0.0001\n",
      "88    0.0001\n",
      "85    0.0001\n",
      "83    0.0001\n",
      "Name: age, Length: 70, dtype: float64\n",
      "\n",
      "1.0     0.0952\n",
      "2.0     0.0950\n",
      "8.0     0.0933\n",
      "3.0     0.0928\n",
      "5.0     0.0927\n",
      "7.0     0.0925\n",
      "NaN     0.0909\n",
      "4.0     0.0885\n",
      "9.0     0.0882\n",
      "6.0     0.0881\n",
      "10.0    0.0446\n",
      "0.0     0.0382\n",
      "Name: tenure, dtype: float64\n",
      "\n",
      "0.00         0.3617\n",
      "130170.82    0.0002\n",
      "105473.74    0.0002\n",
      "85304.27     0.0001\n",
      "159397.75    0.0001\n",
      "              ...  \n",
      "81556.89     0.0001\n",
      "112687.69    0.0001\n",
      "108698.96    0.0001\n",
      "238387.56    0.0001\n",
      "130142.79    0.0001\n",
      "Name: balance, Length: 6382, dtype: float64\n",
      "\n",
      "1    0.5084\n",
      "2    0.4590\n",
      "3    0.0266\n",
      "4    0.0060\n",
      "Name: num_of_products, dtype: float64\n",
      "\n",
      "1    0.7055\n",
      "0    0.2945\n",
      "Name: has_cr_card, dtype: float64\n",
      "\n",
      "1    0.5151\n",
      "0    0.4849\n",
      "Name: is_active_member, dtype: float64\n",
      "\n",
      "24924.92     0.0002\n",
      "101348.88    0.0001\n",
      "55313.44     0.0001\n",
      "72500.68     0.0001\n",
      "182692.80    0.0001\n",
      "              ...  \n",
      "120893.07    0.0001\n",
      "188377.21    0.0001\n",
      "55902.93     0.0001\n",
      "4523.74      0.0001\n",
      "38190.78     0.0001\n",
      "Name: estimated_salary, Length: 9999, dtype: float64\n",
      "\n",
      "0    0.7963\n",
      "1    0.2037\n",
      "Name: exited, dtype: float64\n",
      "\n"
     ]
    }
   ],
   "source": [
    "for column in data_beta:\n",
    "    print(data_beta[column].value_counts(dropna=False, normalize=True))\n",
    "    print()"
   ]
  },
  {
   "cell_type": "code",
   "execution_count": 15,
   "metadata": {},
   "outputs": [
    {
     "name": "stdout",
     "output_type": "stream",
     "text": [
      "850    0.02310\n",
      "678    0.00660\n",
      "655    0.00561\n",
      "705    0.00528\n",
      "683    0.00517\n",
      "        ...   \n",
      "407    0.00011\n",
      "417    0.00011\n",
      "365    0.00011\n",
      "440    0.00011\n",
      "419    0.00011\n",
      "Name: credit_score, Length: 458, dtype: float64\n",
      "\n",
      "France     0.500495\n",
      "Germany    0.252227\n",
      "Spain      0.247278\n",
      "Name: geography, dtype: float64\n",
      "\n",
      "Male      0.547135\n",
      "Female    0.452865\n",
      "Name: gender, dtype: float64\n",
      "\n",
      "37    0.04785\n",
      "35    0.04741\n",
      "38    0.04664\n",
      "34    0.04532\n",
      "33    0.04433\n",
      "       ...   \n",
      "82    0.00011\n",
      "88    0.00011\n",
      "85    0.00011\n",
      "92    0.00011\n",
      "83    0.00011\n",
      "Name: age, Length: 70, dtype: float64\n",
      "\n",
      "1.0     0.104719\n",
      "2.0     0.104499\n",
      "8.0     0.102629\n",
      "3.0     0.102079\n",
      "5.0     0.101969\n",
      "7.0     0.101749\n",
      "4.0     0.097349\n",
      "9.0     0.097019\n",
      "6.0     0.096909\n",
      "10.0    0.049060\n",
      "0.0     0.042020\n",
      "Name: tenure, dtype: float64\n",
      "\n",
      "0.00         0.361126\n",
      "105473.74    0.000220\n",
      "130170.82    0.000220\n",
      "108935.39    0.000110\n",
      "114453.58    0.000110\n",
      "               ...   \n",
      "176024.05    0.000110\n",
      "107499.70    0.000110\n",
      "98807.45     0.000110\n",
      "136596.85    0.000110\n",
      "75075.31     0.000110\n",
      "Name: balance, Length: 5807, dtype: float64\n",
      "\n",
      "1    0.507865\n",
      "2    0.460235\n",
      "3    0.025740\n",
      "4    0.006160\n",
      "Name: num_of_products, dtype: float64\n",
      "\n",
      "1    0.704983\n",
      "0    0.295017\n",
      "Name: has_cr_card, dtype: float64\n",
      "\n",
      "1    0.515565\n",
      "0    0.484435\n",
      "Name: is_active_member, dtype: float64\n",
      "\n",
      "24924.92     0.00022\n",
      "101348.88    0.00011\n",
      "123242.11    0.00011\n",
      "39488.04     0.00011\n",
      "55313.44     0.00011\n",
      "              ...   \n",
      "120893.07    0.00011\n",
      "38270.47     0.00011\n",
      "72927.68     0.00011\n",
      "165562.84    0.00011\n",
      "92888.52     0.00011\n",
      "Name: estimated_salary, Length: 9090, dtype: float64\n",
      "\n",
      "0    0.796062\n",
      "1    0.203938\n",
      "Name: exited, dtype: float64\n",
      "\n"
     ]
    }
   ],
   "source": [
    "for column in data_beta:\n",
    "    print(data_beta.dropna(subset='tenure')[column].value_counts(dropna=False, normalize=True))\n",
    "    print()"
   ]
  },
  {
   "attachments": {},
   "cell_type": "markdown",
   "metadata": {},
   "source": [
    "Analizando cada columna, no observamos cambios significativos en la distribución de valores de las columnas cuando eliminamos los valores ausentes, por lo cual descartamos esta posibilidad. Por tanto, no tenemos conocimiento de la naturaleza de estos valores ausentes. Una posibilidad es que estos sean realmente ceros (ya que el porcentaje de *tenure*=0 es muy bajo para lo que uno esperaría). También es posible que se deba a falta de información, y en este caso nos correspondería tratar de completarlos.\n",
    "\n",
    "Para el ejercicio, tendremos en cuenta que es necesario completar estos valores ausentes. Otra observación es que ``tenure`` es una variable discreta, así que pareciera que el enfoque de agrupación para completar los valores ausentes sería el indicado. Sin embargo, para tener en cuenta a todas las variables y suponiendo que estas tienen una relación lineal, utilizaremos un modelo de regresión lineal para predecir y tratar los valores ausentes. Debido a que una regresión lineal múltiple nos devolverá resultados (numéricos) continuos, tenemos que ajustar y discretizar estos resultados para no modificar la naturaleza discreta de la varible ``tenure``. \n",
    "\n",
    "El primer paso antes de dividir el dataset es adaptar los datos para realizar la regresión: codificar las variables categóricas. El enfoque que usaremos será el de One-Hot, y esta codificación también la usaremos para el modelamiento posterior."
   ]
  },
  {
   "cell_type": "code",
   "execution_count": 16,
   "metadata": {},
   "outputs": [
    {
     "data": {
      "text/html": [
       "<div>\n",
       "<style scoped>\n",
       "    .dataframe tbody tr th:only-of-type {\n",
       "        vertical-align: middle;\n",
       "    }\n",
       "\n",
       "    .dataframe tbody tr th {\n",
       "        vertical-align: top;\n",
       "    }\n",
       "\n",
       "    .dataframe thead th {\n",
       "        text-align: right;\n",
       "    }\n",
       "</style>\n",
       "<table border=\"1\" class=\"dataframe\">\n",
       "  <thead>\n",
       "    <tr style=\"text-align: right;\">\n",
       "      <th></th>\n",
       "      <th>credit_score</th>\n",
       "      <th>age</th>\n",
       "      <th>tenure</th>\n",
       "      <th>balance</th>\n",
       "      <th>num_of_products</th>\n",
       "      <th>has_cr_card</th>\n",
       "      <th>is_active_member</th>\n",
       "      <th>estimated_salary</th>\n",
       "      <th>exited</th>\n",
       "      <th>geography_Germany</th>\n",
       "      <th>geography_Spain</th>\n",
       "      <th>gender_Male</th>\n",
       "    </tr>\n",
       "  </thead>\n",
       "  <tbody>\n",
       "    <tr>\n",
       "      <th>0</th>\n",
       "      <td>619</td>\n",
       "      <td>42</td>\n",
       "      <td>2.0</td>\n",
       "      <td>0.00</td>\n",
       "      <td>1</td>\n",
       "      <td>1</td>\n",
       "      <td>1</td>\n",
       "      <td>101348.88</td>\n",
       "      <td>1</td>\n",
       "      <td>0</td>\n",
       "      <td>0</td>\n",
       "      <td>0</td>\n",
       "    </tr>\n",
       "    <tr>\n",
       "      <th>1</th>\n",
       "      <td>608</td>\n",
       "      <td>41</td>\n",
       "      <td>1.0</td>\n",
       "      <td>83807.86</td>\n",
       "      <td>1</td>\n",
       "      <td>0</td>\n",
       "      <td>1</td>\n",
       "      <td>112542.58</td>\n",
       "      <td>0</td>\n",
       "      <td>0</td>\n",
       "      <td>1</td>\n",
       "      <td>0</td>\n",
       "    </tr>\n",
       "    <tr>\n",
       "      <th>2</th>\n",
       "      <td>502</td>\n",
       "      <td>42</td>\n",
       "      <td>8.0</td>\n",
       "      <td>159660.80</td>\n",
       "      <td>3</td>\n",
       "      <td>1</td>\n",
       "      <td>0</td>\n",
       "      <td>113931.57</td>\n",
       "      <td>1</td>\n",
       "      <td>0</td>\n",
       "      <td>0</td>\n",
       "      <td>0</td>\n",
       "    </tr>\n",
       "    <tr>\n",
       "      <th>3</th>\n",
       "      <td>699</td>\n",
       "      <td>39</td>\n",
       "      <td>1.0</td>\n",
       "      <td>0.00</td>\n",
       "      <td>2</td>\n",
       "      <td>0</td>\n",
       "      <td>0</td>\n",
       "      <td>93826.63</td>\n",
       "      <td>0</td>\n",
       "      <td>0</td>\n",
       "      <td>0</td>\n",
       "      <td>0</td>\n",
       "    </tr>\n",
       "    <tr>\n",
       "      <th>4</th>\n",
       "      <td>850</td>\n",
       "      <td>43</td>\n",
       "      <td>2.0</td>\n",
       "      <td>125510.82</td>\n",
       "      <td>1</td>\n",
       "      <td>1</td>\n",
       "      <td>1</td>\n",
       "      <td>79084.10</td>\n",
       "      <td>0</td>\n",
       "      <td>0</td>\n",
       "      <td>1</td>\n",
       "      <td>0</td>\n",
       "    </tr>\n",
       "  </tbody>\n",
       "</table>\n",
       "</div>"
      ],
      "text/plain": [
       "   credit_score  age  tenure    balance  num_of_products  has_cr_card  \\\n",
       "0           619   42     2.0       0.00                1            1   \n",
       "1           608   41     1.0   83807.86                1            0   \n",
       "2           502   42     8.0  159660.80                3            1   \n",
       "3           699   39     1.0       0.00                2            0   \n",
       "4           850   43     2.0  125510.82                1            1   \n",
       "\n",
       "   is_active_member  estimated_salary  exited  geography_Germany  \\\n",
       "0                 1         101348.88       1                  0   \n",
       "1                 1         112542.58       0                  0   \n",
       "2                 0         113931.57       1                  0   \n",
       "3                 0          93826.63       0                  0   \n",
       "4                 1          79084.10       0                  0   \n",
       "\n",
       "   geography_Spain  gender_Male  \n",
       "0                0            0  \n",
       "1                1            0  \n",
       "2                0            0  \n",
       "3                0            0  \n",
       "4                1            0  "
      ]
     },
     "execution_count": 16,
     "metadata": {},
     "output_type": "execute_result"
    }
   ],
   "source": [
    "data_beta_ohe = pd.get_dummies(data_beta, drop_first=True)\n",
    "data_beta_ohe.head()"
   ]
  },
  {
   "attachments": {},
   "cell_type": "markdown",
   "metadata": {},
   "source": [
    "Ahora dividiremos los datos entre los que tienen los ausentes y los que no:"
   ]
  },
  {
   "cell_type": "code",
   "execution_count": 17,
   "metadata": {},
   "outputs": [],
   "source": [
    "data_beta_no_nan = data_beta_ohe.dropna(subset=['tenure']) # dataset sin valores ausentes\n",
    "data_beta_nan = data_beta_ohe[data_beta_ohe['tenure'].isna()] # dataset solo con valores ausentes"
   ]
  },
  {
   "attachments": {},
   "cell_type": "markdown",
   "metadata": {},
   "source": [
    "Ahora entrenaremos la regresión lineal con el dataset sin valores ausentes, dividiendo los features (*x*) de la variable objetivo (*y*, en este caso, sería ``tenure``):"
   ]
  },
  {
   "cell_type": "code",
   "execution_count": 18,
   "metadata": {},
   "outputs": [
    {
     "data": {
      "text/html": [
       "<style>#sk-container-id-1 {color: black;background-color: white;}#sk-container-id-1 pre{padding: 0;}#sk-container-id-1 div.sk-toggleable {background-color: white;}#sk-container-id-1 label.sk-toggleable__label {cursor: pointer;display: block;width: 100%;margin-bottom: 0;padding: 0.3em;box-sizing: border-box;text-align: center;}#sk-container-id-1 label.sk-toggleable__label-arrow:before {content: \"▸\";float: left;margin-right: 0.25em;color: #696969;}#sk-container-id-1 label.sk-toggleable__label-arrow:hover:before {color: black;}#sk-container-id-1 div.sk-estimator:hover label.sk-toggleable__label-arrow:before {color: black;}#sk-container-id-1 div.sk-toggleable__content {max-height: 0;max-width: 0;overflow: hidden;text-align: left;background-color: #f0f8ff;}#sk-container-id-1 div.sk-toggleable__content pre {margin: 0.2em;color: black;border-radius: 0.25em;background-color: #f0f8ff;}#sk-container-id-1 input.sk-toggleable__control:checked~div.sk-toggleable__content {max-height: 200px;max-width: 100%;overflow: auto;}#sk-container-id-1 input.sk-toggleable__control:checked~label.sk-toggleable__label-arrow:before {content: \"▾\";}#sk-container-id-1 div.sk-estimator input.sk-toggleable__control:checked~label.sk-toggleable__label {background-color: #d4ebff;}#sk-container-id-1 div.sk-label input.sk-toggleable__control:checked~label.sk-toggleable__label {background-color: #d4ebff;}#sk-container-id-1 input.sk-hidden--visually {border: 0;clip: rect(1px 1px 1px 1px);clip: rect(1px, 1px, 1px, 1px);height: 1px;margin: -1px;overflow: hidden;padding: 0;position: absolute;width: 1px;}#sk-container-id-1 div.sk-estimator {font-family: monospace;background-color: #f0f8ff;border: 1px dotted black;border-radius: 0.25em;box-sizing: border-box;margin-bottom: 0.5em;}#sk-container-id-1 div.sk-estimator:hover {background-color: #d4ebff;}#sk-container-id-1 div.sk-parallel-item::after {content: \"\";width: 100%;border-bottom: 1px solid gray;flex-grow: 1;}#sk-container-id-1 div.sk-label:hover label.sk-toggleable__label {background-color: #d4ebff;}#sk-container-id-1 div.sk-serial::before {content: \"\";position: absolute;border-left: 1px solid gray;box-sizing: border-box;top: 0;bottom: 0;left: 50%;z-index: 0;}#sk-container-id-1 div.sk-serial {display: flex;flex-direction: column;align-items: center;background-color: white;padding-right: 0.2em;padding-left: 0.2em;position: relative;}#sk-container-id-1 div.sk-item {position: relative;z-index: 1;}#sk-container-id-1 div.sk-parallel {display: flex;align-items: stretch;justify-content: center;background-color: white;position: relative;}#sk-container-id-1 div.sk-item::before, #sk-container-id-1 div.sk-parallel-item::before {content: \"\";position: absolute;border-left: 1px solid gray;box-sizing: border-box;top: 0;bottom: 0;left: 50%;z-index: -1;}#sk-container-id-1 div.sk-parallel-item {display: flex;flex-direction: column;z-index: 1;position: relative;background-color: white;}#sk-container-id-1 div.sk-parallel-item:first-child::after {align-self: flex-end;width: 50%;}#sk-container-id-1 div.sk-parallel-item:last-child::after {align-self: flex-start;width: 50%;}#sk-container-id-1 div.sk-parallel-item:only-child::after {width: 0;}#sk-container-id-1 div.sk-dashed-wrapped {border: 1px dashed gray;margin: 0 0.4em 0.5em 0.4em;box-sizing: border-box;padding-bottom: 0.4em;background-color: white;}#sk-container-id-1 div.sk-label label {font-family: monospace;font-weight: bold;display: inline-block;line-height: 1.2em;}#sk-container-id-1 div.sk-label-container {text-align: center;}#sk-container-id-1 div.sk-container {/* jupyter's `normalize.less` sets `[hidden] { display: none; }` but bootstrap.min.css set `[hidden] { display: none !important; }` so we also need the `!important` here to be able to override the default hidden behavior on the sphinx rendered scikit-learn.org. See: https://github.com/scikit-learn/scikit-learn/issues/21755 */display: inline-block !important;position: relative;}#sk-container-id-1 div.sk-text-repr-fallback {display: none;}</style><div id=\"sk-container-id-1\" class=\"sk-top-container\"><div class=\"sk-text-repr-fallback\"><pre>LinearRegression()</pre><b>In a Jupyter environment, please rerun this cell to show the HTML representation or trust the notebook. <br />On GitHub, the HTML representation is unable to render, please try loading this page with nbviewer.org.</b></div><div class=\"sk-container\" hidden><div class=\"sk-item\"><div class=\"sk-estimator sk-toggleable\"><input class=\"sk-toggleable__control sk-hidden--visually\" id=\"sk-estimator-id-1\" type=\"checkbox\" checked><label for=\"sk-estimator-id-1\" class=\"sk-toggleable__label sk-toggleable__label-arrow\">LinearRegression</label><div class=\"sk-toggleable__content\"><pre>LinearRegression()</pre></div></div></div></div></div>"
      ],
      "text/plain": [
       "LinearRegression()"
      ]
     },
     "execution_count": 18,
     "metadata": {},
     "output_type": "execute_result"
    }
   ],
   "source": [
    "x = data_beta_no_nan.drop('tenure', axis=1) # features\n",
    "y = data_beta_no_nan['tenure'] # target de la regresión para completar ausentes\n",
    "\n",
    "reg_model = LinearRegression()\n",
    "reg_model.fit(x, y)"
   ]
  },
  {
   "attachments": {},
   "cell_type": "markdown",
   "metadata": {},
   "source": [
    "Ahora es necesario obtener las predicciones del modelo, guardarlas en una variable para luego discretizarlas (redondear sus valores):"
   ]
  },
  {
   "cell_type": "code",
   "execution_count": 19,
   "metadata": {},
   "outputs": [],
   "source": [
    "predicted_nan = reg_model.predict(data_beta_nan.drop('tenure', axis=1)) # solo estimaremos los valores correspondientes a los ausentes\n",
    "predicted_nan = np.round(predicted_nan).astype('int') # redondeando y asegurando que sean enteros"
   ]
  },
  {
   "attachments": {},
   "cell_type": "markdown",
   "metadata": {},
   "source": [
    "Finalmente, completamos los valores ausentes con indexación lógica:"
   ]
  },
  {
   "cell_type": "code",
   "execution_count": 20,
   "metadata": {},
   "outputs": [],
   "source": [
    "data_beta_ohe.loc[data_beta_ohe['tenure'].isna(), 'tenure'] = predicted_nan  # ubica y rellena los valores ausentes"
   ]
  },
  {
   "attachments": {},
   "cell_type": "markdown",
   "metadata": {},
   "source": [
    "Necesitamos comprobar que se hayan tratado con éxito los valores ausentes y que la distribución de esta columna no haya variado en demasía:"
   ]
  },
  {
   "cell_type": "code",
   "execution_count": 21,
   "metadata": {},
   "outputs": [
    {
     "data": {
      "text/plain": [
       "5.0     0.1836\n",
       "1.0     0.0952\n",
       "2.0     0.0950\n",
       "8.0     0.0933\n",
       "3.0     0.0928\n",
       "7.0     0.0925\n",
       "4.0     0.0885\n",
       "9.0     0.0882\n",
       "6.0     0.0881\n",
       "10.0    0.0446\n",
       "0.0     0.0382\n",
       "Name: tenure, dtype: float64"
      ]
     },
     "execution_count": 21,
     "metadata": {},
     "output_type": "execute_result"
    }
   ],
   "source": [
    "data_beta_ohe['tenure'].value_counts(dropna=False, normalize=True)"
   ]
  },
  {
   "attachments": {},
   "cell_type": "markdown",
   "metadata": {},
   "source": [
    "Podemos observar que no tenemos valores ausentes, pero el costo fue que la distribución de los valores de esta columna varió: la mayor parte de los valores ausentes, por alguna razón detrás de las características del modelo de regresión aplicado, se agruparon en 5, que curiosamente es la mediana de la columna. De hecho, al tratar los valores ausentes realizando agrupaciones con otras variables, el resultado es prácticamente el mismo. Ambos resultados son bastante parecidos a realizar una imputación en base a la mediana (la mediana de la columna es 5). En cualquier caso, esta será una limitación del proyecto ya que puede que este tratamiento de datos no sea del todo correcto. Por ahora, continuaremos con las conclusiones del apartado"
   ]
  },
  {
   "attachments": {},
   "cell_type": "markdown",
   "metadata": {},
   "source": [
    "## Conclusiones del apartado"
   ]
  },
  {
   "attachments": {},
   "cell_type": "markdown",
   "metadata": {},
   "source": [
    "Logramos corregir los problemas principales de nuestro dataset, empezando por eliminar columnas innecesarias y corregir su formato. \n",
    "\n",
    "Luego, para tratar los valores ausentes, utilizamos una regresión lineal múltiple para estimar los valores ausentes de ``tenure``. En este proceso, codificamos nuestras columnas utilizando One-Hot (o volviendo dummies a las variables categóricas). El proceso de imputación fue exitoso en cierta medida, porque logramos deshacernos de los valores ausentes, pero la distribución de la columna ``tenure`` cambió y se agrupó hacia su valor mediano."
   ]
  },
  {
   "attachments": {},
   "cell_type": "markdown",
   "metadata": {},
   "source": [
    "# Análisis exploratorio de datos"
   ]
  },
  {
   "attachments": {},
   "cell_type": "markdown",
   "metadata": {},
   "source": [
    "En este apartado, exploraremos nuestras variables con el fin de encontrar información relevante al respecto. Comenzaremos por analizar la distribución de todas las variables numéricas discretas y continuas, para lo cual separaremos estas columnas del dataset:"
   ]
  },
  {
   "attachments": {},
   "cell_type": "markdown",
   "metadata": {},
   "source": [
    "## Columnas numéricas"
   ]
  },
  {
   "cell_type": "code",
   "execution_count": 22,
   "metadata": {},
   "outputs": [],
   "source": [
    "data_numer = ['credit_score', 'age', 'tenure', 'balance', 'num_of_products', 'estimated_salary']\n"
   ]
  },
  {
   "attachments": {},
   "cell_type": "markdown",
   "metadata": {},
   "source": [
    "Una vez realizado, graficaremos la distribución de cada variable en una cuadrícula:"
   ]
  },
  {
   "cell_type": "code",
   "execution_count": 23,
   "metadata": {},
   "outputs": [
    {
     "data": {
      "image/png": "[encoded data removed]",
      "text/plain": [
       "<Figure size 1400x1000 with 6 Axes>"
      ]
     },
     "metadata": {},
     "output_type": "display_data"
    }
   ],
   "source": [
    "num_graph = len(data_numer)  # obtiene el tamaño de la lista de columnas\n",
    "\n",
    "num_rows = int(np.ceil(num_graph / 2))  # divide en bloques de dos, obtiene el total de filas del gráfico\n",
    "num_cols = 2  # siempre serán dos columnas\n",
    "a = 1  # número para inicializar el conteo de plots\n",
    "\n",
    "fig = plt.subplots(figsize=(14, 10))  # tamaño de los subplots\n",
    "\n",
    "for i in data_numer:  # bucle para cada elemento de la lista\n",
    "    plt.subplot(num_rows, num_cols, a) \n",
    "    plt.title(i)\n",
    "    data_beta_ohe[i].plot(kind='hist', title=i, bins=30)  # grafica histogramas de cada columna del dataset\n",
    "    a += 1\n",
    "    \n",
    "plt.tight_layout()\n",
    "plt.show()"
   ]
  },
  {
   "attachments": {},
   "cell_type": "markdown",
   "metadata": {},
   "source": [
    "En orden, de las columnas numéricas, notamos:\n",
    "* ``credit_score`` tiene un ligero sesgo negativo, y resalta una agrupación de personas que tienen un score alto, hacia la parte extrema superior de la distribución, algo completamente esperable de una entidad financiera. Aunque sería necesario revisar si la proporción de clientes con buen score crediticio es realmente adecuada para el banco. \n",
    "* ``age`` muestra que los clientes del banco son en su mayor parte adultos, entre los 30 y 45 años aprox. Hay una proporción de edades que parecen ser menos comunes desde los 60 años en adelante, aunque con cierta relevancia.\n",
    "* ``tenure`` muestra la modificación realizada cuando tratamos los valores ausentes, una agrupación hacia su valor mediano. Por lo demás, es una variable bastante homogénea. \n",
    "* ``balance`` nos muestra que buena parte de los clientes tienen un saldo cero en sus cuentas, siendo este valor el más frecuente de la distribución. Este es una ventana de oportunidad o una muestra de que el banco tiene problemas para retener fondos de sus clientes, aunque de cierta forma es esperable que una buena parte de los clientes no tengan saldos positivos en sus cuentas. El otro pico está cerca a las 100 mil unidades monetarias, lo cual indica que los clientes que sí tienen depósitos en el banco, un 50 % de ellos tienen de saldo 100 mil u.m. (el promedio debería estar cerca).\n",
    "* ``num_of_products`` es una variable discreta. Esta variable también nos indicaría que la mayor parte de los clientes tienen 1 o 2 productos en el banco. Aunque hay personas que tienen hasta 4 productos. Aquí también hay una oportunidad de mejora o un síntoma de alerta acerca del comportamiento de los usuarios. \n",
    "* ``estimated_salary`` parece ser una variable bastante homogénea según los datos del banco. Esto no tiene que ser cierto en la vida real, ya que se espera que existan pocas personas con ingresos extremos. Dado que esta parece ser una estimación, es posible que sea necesaria una revisión de los métodos de obtención de esta variable. En términos prácticos, tener muchos clientes de altos ingresos son otra posible ventana a más oportunidades, aunque no sabemos si estos usuarios son realmente activos o no.\n",
    "\n",
    "Debido a que muchos de los valores extremos posiblemente estén relacionados con la decisión de salir o no del banco (el target: *exited*), los preservaremos para obtener la mayor información posible. \n"
   ]
  },
  {
   "attachments": {},
   "cell_type": "markdown",
   "metadata": {},
   "source": [
    "## Relación de las columnas numéricas con la variable objetivo"
   ]
  },
  {
   "attachments": {},
   "cell_type": "markdown",
   "metadata": {},
   "source": [
    "Continuando con el análisis exploratorio, para probar alguna de nuestras hipótesis, analizaremos el comportamiento de estas columnas numéricas por los valores de nuestro target ``exited``. Nuevamente haremos un gráfico múltiple para simplificar el proceso:"
   ]
  },
  {
   "cell_type": "code",
   "execution_count": 24,
   "metadata": {},
   "outputs": [
    {
     "data": {
      "image/png": "[encoded data removed]",
      "text/plain": [
       "<Figure size 1000x1000 with 6 Axes>"
      ]
     },
     "metadata": {},
     "output_type": "display_data"
    }
   ],
   "source": [
    "# Crear la figura y los subplots con el tamaño especificado\n",
    "fig, axes = plt.subplots(num_rows, num_cols, figsize=(10, 10))\n",
    "\n",
    "# Bucle para generar los subplots para cada columna numérica\n",
    "for i, ax in zip(data_numer, axes.flatten()):\n",
    "    ax.set_title(i)  # Asignar el título de la columna al subplot\n",
    "    data_beta_ohe.boxplot(by='exited', column=i, ax=ax) # Graficar el boxplot para la columna i, separando por la variable 'exited'\n",
    "\n",
    "plt.tight_layout() # Ajustar el diseño de los subplots para que no se superpongan\n",
    "plt.show()"
   ]
  },
  {
   "attachments": {},
   "cell_type": "markdown",
   "metadata": {},
   "source": [
    "Nuevamente en orden, observamos lo siguiente si realizamos diagramas de caja de ``exited`` por cada columna numérica del dataset:\n",
    "* ``credit_score`` no muestra grandes diferencias para los clientes que dejaron el banco. Posiblemente la relación entre estas variables sea bastante débil.\n",
    "* ``age`` muestra una diferencia más marcada: la mayor parte de personas que dejaron el banco tienen alrededor de 45 años de edad. Parece que mientras más edad tienen los clientes, es alg más probable que dejen el banco. \n",
    "* Para ``tenure``, tampoco observamos diferencias significativas (es posible que sea por el proceso de imputación de valores ausentes).\n",
    "* El gráfico de ``balance`` muestra que los clientes que dejaron el banco tienen (o tenían) un saldo de cuenta ligeramente más alto que los que no. En términos porcentuales no parece ser muy grande la diferencia, pero existe.\n",
    "* ``num_of_products`` indica que el 50 % de los clientes que dejaron el banco tenían solo 1 producto, mientras que el 50 % de los que clientes actuales tiene 2 productos. Esta diferencia resulta en que esta variable podría ser un buen indicador de un cliente en posibilidad de irse.\n",
    "* En caso de ``estimated_salary``, no parecen existir diferencias significativas entre los salarios promedios (y medianos) para los clientes que dejaron o no el banco."
   ]
  },
  {
   "attachments": {},
   "cell_type": "markdown",
   "metadata": {},
   "source": [
    "## Relación de las columnas restantes con la variable objetivo"
   ]
  },
  {
   "attachments": {},
   "cell_type": "markdown",
   "metadata": {},
   "source": [
    "Nos falta analizar las columnas restantes y su comportamiento para los clientes que dejaron el banco y los que no. En este caso usaremos Seaborn y también haremos el gráfico con un bucle para hacerlo de forma automatizada:"
   ]
  },
  {
   "cell_type": "code",
   "execution_count": 25,
   "metadata": {},
   "outputs": [
    {
     "data": {
      "image/png": "[encoded data removed]",
      "text/plain": [
       "<Figure size 900x900 with 4 Axes>"
      ]
     },
     "metadata": {},
     "output_type": "display_data"
    }
   ],
   "source": [
    "sns.set_theme(style='whitegrid')\n",
    "\n",
    "data_other = ['geography', 'gender', 'has_cr_card', 'is_active_member'] # columnas restantes del dataset\n",
    "\n",
    "# Crear la figura y los subplots con el tamaño especificado\n",
    "fig, axes = plt.subplots(2, num_cols, figsize=(9, 9))\n",
    "\n",
    "# Bucle para generar los subplots para cada columna restante\n",
    "for i, ax in zip(data_other, axes.flatten()):\n",
    "    ax.set_title(i)  # Asignar el título de la columna al subplot\n",
    "    sns.countplot(data=data_beta, x='exited', hue=i, ax=ax)\n",
    "\n",
    "plt.tight_layout() # Ajustar el diseño de los subplots para que no se superpongan\n",
    "plt.show()"
   ]
  },
  {
   "attachments": {},
   "cell_type": "markdown",
   "metadata": {},
   "source": [
    "De arriba hacia abajo, de izquierda a derecha, tenemos:\n",
    "* En el caso de ``geography``, resalta que los clientes que dejaron el banco son en su mayor parte de Francia y Alemania, mientras que los que son clientes aún, son mayormente de Francia. Destaca el caso de Alemania, y es una situación a analizar a profundidad: por qué los clientes de ese país tienden a dejar más el banco que los de España, y casi en la misma proporción que Francia.\n",
    "* Para el caso de ``gender``, resalta el hecho de que las mujeres son por poco las que más dejaron el banco, aunque en términos generales el banco tiene más hombres en sus registros. Otra característica a estudiar y tomar en cuenta.\n",
    "* El gráfico de ``has_cr_card`` muestra de forma aproximada el mismo comportamiento para los clientes que dejaron el banco y los que no. Quizá no sea una variable tan relevante en este caso.\n",
    "* La situación cambia para ``is_active_member``. En proporción, casi el doble de los que dejaron el banco no eran miembros activos del banco, contrario a los clientes que no dejan el banco aún. Este puede ser un gran indicador para anticipar si un cliente está en mayores posibilidades de dejar el banco."
   ]
  },
  {
   "attachments": {},
   "cell_type": "markdown",
   "metadata": {},
   "source": [
    "## Conclusiones del apartado"
   ]
  },
  {
   "attachments": {},
   "cell_type": "markdown",
   "metadata": {},
   "source": [
    "En este apartado logramos obtener información interesante para nuestro análisis. Resumiremos lo hallado en los siguientes puntos:\n",
    "* De las columnas numéricas, destacan las oportunidades de mejora (o alerta) que nos dan ``credit_score``, ``balance`` y ``num_of_products``. \n",
    "* De las columnas numéricas, las que mostraron una relación más significativa o comportamiento distinto para los clientes que dejaron el banco son ``credit_score``, ``age``, ``balance`` y ``num_of_products``. \n",
    "* De las columnas restantes, todas mostraron un comportamiento diferente para los clientes que dejaron el banco de los que no (``geography``, ``gender``, ``is_active_member``), excepto ``has_cr_card``, la cual no mostró diferencias significativas para ambos tipos de clientes.\n",
    "* Algunas columnas numéricas parecen mostrar valores atípicos, pero decidimos no tratarlos debido a que es posible que estos capturen parte de la variable objetivo. Es decir, priorizaremos preservar la mayor cantidad de información posible para mejorar la calidad del modelo final."
   ]
  },
  {
   "attachments": {},
   "cell_type": "markdown",
   "metadata": {},
   "source": [
    "# Estandarización y segmentación de datos"
   ]
  },
  {
   "attachments": {},
   "cell_type": "markdown",
   "metadata": {},
   "source": [
    "## Estandarización de datos"
   ]
  },
  {
   "attachments": {},
   "cell_type": "markdown",
   "metadata": {},
   "source": [
    "Ahora continuaremos con la estandarización de las variables numéricas para seguir las buenas prácticas. Recordemos que tenemos en una lista a nuestras variables numéricas:"
   ]
  },
  {
   "cell_type": "code",
   "execution_count": 27,
   "metadata": {},
   "outputs": [
    {
     "data": {
      "text/plain": [
       "['credit_score',\n",
       " 'age',\n",
       " 'tenure',\n",
       " 'balance',\n",
       " 'num_of_products',\n",
       " 'estimated_salary']"
      ]
     },
     "execution_count": 27,
     "metadata": {},
     "output_type": "execute_result"
    }
   ],
   "source": [
    "data_numer"
   ]
  },
  {
   "attachments": {},
   "cell_type": "markdown",
   "metadata": {},
   "source": [
    "Ya que tenemos la lista de nombres, necesitamos llamar y usar el escalador:"
   ]
  },
  {
   "cell_type": "code",
   "execution_count": 29,
   "metadata": {},
   "outputs": [
    {
     "data": {
      "text/html": [
       "<div>\n",
       "<style scoped>\n",
       "    .dataframe tbody tr th:only-of-type {\n",
       "        vertical-align: middle;\n",
       "    }\n",
       "\n",
       "    .dataframe tbody tr th {\n",
       "        vertical-align: top;\n",
       "    }\n",
       "\n",
       "    .dataframe thead th {\n",
       "        text-align: right;\n",
       "    }\n",
       "</style>\n",
       "<table border=\"1\" class=\"dataframe\">\n",
       "  <thead>\n",
       "    <tr style=\"text-align: right;\">\n",
       "      <th></th>\n",
       "      <th>credit_score</th>\n",
       "      <th>age</th>\n",
       "      <th>tenure</th>\n",
       "      <th>balance</th>\n",
       "      <th>num_of_products</th>\n",
       "      <th>has_cr_card</th>\n",
       "      <th>is_active_member</th>\n",
       "      <th>estimated_salary</th>\n",
       "      <th>exited</th>\n",
       "      <th>geography_Germany</th>\n",
       "      <th>geography_Spain</th>\n",
       "      <th>gender_Male</th>\n",
       "    </tr>\n",
       "  </thead>\n",
       "  <tbody>\n",
       "    <tr>\n",
       "      <th>0</th>\n",
       "      <td>-0.326221</td>\n",
       "      <td>0.293517</td>\n",
       "      <td>-1.086246</td>\n",
       "      <td>-1.225848</td>\n",
       "      <td>-0.911583</td>\n",
       "      <td>1</td>\n",
       "      <td>1</td>\n",
       "      <td>0.021886</td>\n",
       "      <td>1</td>\n",
       "      <td>0</td>\n",
       "      <td>0</td>\n",
       "      <td>0</td>\n",
       "    </tr>\n",
       "    <tr>\n",
       "      <th>1</th>\n",
       "      <td>-0.440036</td>\n",
       "      <td>0.198164</td>\n",
       "      <td>-1.448581</td>\n",
       "      <td>0.117350</td>\n",
       "      <td>-0.911583</td>\n",
       "      <td>0</td>\n",
       "      <td>1</td>\n",
       "      <td>0.216534</td>\n",
       "      <td>0</td>\n",
       "      <td>0</td>\n",
       "      <td>1</td>\n",
       "      <td>0</td>\n",
       "    </tr>\n",
       "    <tr>\n",
       "      <th>2</th>\n",
       "      <td>-1.536794</td>\n",
       "      <td>0.293517</td>\n",
       "      <td>1.087768</td>\n",
       "      <td>1.333053</td>\n",
       "      <td>2.527057</td>\n",
       "      <td>1</td>\n",
       "      <td>0</td>\n",
       "      <td>0.240687</td>\n",
       "      <td>1</td>\n",
       "      <td>0</td>\n",
       "      <td>0</td>\n",
       "      <td>0</td>\n",
       "    </tr>\n",
       "    <tr>\n",
       "      <th>3</th>\n",
       "      <td>0.501521</td>\n",
       "      <td>0.007457</td>\n",
       "      <td>-1.448581</td>\n",
       "      <td>-1.225848</td>\n",
       "      <td>0.807737</td>\n",
       "      <td>0</td>\n",
       "      <td>0</td>\n",
       "      <td>-0.108918</td>\n",
       "      <td>0</td>\n",
       "      <td>0</td>\n",
       "      <td>0</td>\n",
       "      <td>0</td>\n",
       "    </tr>\n",
       "    <tr>\n",
       "      <th>4</th>\n",
       "      <td>2.063884</td>\n",
       "      <td>0.388871</td>\n",
       "      <td>-1.086246</td>\n",
       "      <td>0.785728</td>\n",
       "      <td>-0.911583</td>\n",
       "      <td>1</td>\n",
       "      <td>1</td>\n",
       "      <td>-0.365276</td>\n",
       "      <td>0</td>\n",
       "      <td>0</td>\n",
       "      <td>1</td>\n",
       "      <td>0</td>\n",
       "    </tr>\n",
       "  </tbody>\n",
       "</table>\n",
       "</div>"
      ],
      "text/plain": [
       "   credit_score       age    tenure   balance  num_of_products  has_cr_card  \\\n",
       "0     -0.326221  0.293517 -1.086246 -1.225848        -0.911583            1   \n",
       "1     -0.440036  0.198164 -1.448581  0.117350        -0.911583            0   \n",
       "2     -1.536794  0.293517  1.087768  1.333053         2.527057            1   \n",
       "3      0.501521  0.007457 -1.448581 -1.225848         0.807737            0   \n",
       "4      2.063884  0.388871 -1.086246  0.785728        -0.911583            1   \n",
       "\n",
       "   is_active_member  estimated_salary  exited  geography_Germany  \\\n",
       "0                 1          0.021886       1                  0   \n",
       "1                 1          0.216534       0                  0   \n",
       "2                 0          0.240687       1                  0   \n",
       "3                 0         -0.108918       0                  0   \n",
       "4                 1         -0.365276       0                  0   \n",
       "\n",
       "   geography_Spain  gender_Male  \n",
       "0                0            0  \n",
       "1                1            0  \n",
       "2                0            0  \n",
       "3                0            0  \n",
       "4                1            0  "
      ]
     },
     "execution_count": 29,
     "metadata": {},
     "output_type": "execute_result"
    }
   ],
   "source": [
    "scaler = StandardScaler() # guardando el estandarizador\n",
    "\n",
    "scaler.fit(data_beta_ohe[data_numer])  # entrena al estandarizador\n",
    "\n",
    "data_beta_ohe[data_numer] = scaler.transform(data_beta_ohe[data_numer])  # actualiza el escalado\n",
    "\n",
    "data_beta_ohe.head()"
   ]
  },
  {
   "attachments": {},
   "cell_type": "markdown",
   "metadata": {},
   "source": [
    "## Segmentación de datos"
   ]
  },
  {
   "attachments": {},
   "cell_type": "markdown",
   "metadata": {},
   "source": [
    "Recordemos que nuestra variable objetivo es ``exited``. El modelo que probaremos tiene el supuesto de que ``exited`` se relaciona de forma teórica con las demás variables del dataset (features). Es decir, nuestras *features* determinarán si el cliente va a dejar el banco o no. \n",
    "\n",
    "Para realizar de forma exitosa el proceso de modelamiento y realizar las pruebas necesarias, dividiremos nuestro dataset en conjuntos de entrenamiento, validación y de prueba. Usaremos la proporción 3:1:1 (60-20-20) y \"train_test_split\" para este objetivo:"
   ]
  },
  {
   "cell_type": "code",
   "execution_count": 31,
   "metadata": {},
   "outputs": [],
   "source": [
    "random_state = 200  # guardamos la semilla aleatoria"
   ]
  },
  {
   "cell_type": "code",
   "execution_count": 32,
   "metadata": {},
   "outputs": [],
   "source": [
    "target = data_beta_ohe['exited'] # variable objetivo\n",
    "features = data_beta_ohe.drop('exited', axis=1) # características"
   ]
  },
  {
   "attachments": {},
   "cell_type": "markdown",
   "metadata": {},
   "source": [
    "Primera división: 60 % de entrenamiento - 40 % restante"
   ]
  },
  {
   "cell_type": "code",
   "execution_count": 33,
   "metadata": {},
   "outputs": [],
   "source": [
    "target_train, target_split, features_train, features_split = train_test_split(target, features, test_size=0.4, random_state=random_state)\n",
    "# primera división"
   ]
  },
  {
   "attachments": {},
   "cell_type": "markdown",
   "metadata": {},
   "source": [
    "El 40 % restante de la anterior línea se dividirá en conjuntos de validación y prueba a mitades iguales:"
   ]
  },
  {
   "cell_type": "code",
   "execution_count": 34,
   "metadata": {},
   "outputs": [],
   "source": [
    "target_valid, target_test, features_valid, features_test = train_test_split(target_split, features_split, test_size=0.5, random_state=random_state)\n",
    "# segunda división, el restante a mitades iguales "
   ]
  },
  {
   "attachments": {},
   "cell_type": "markdown",
   "metadata": {},
   "source": [
    "Para verificar, observaremos el atributo *shape* de cada set:"
   ]
  },
  {
   "cell_type": "code",
   "execution_count": 35,
   "metadata": {},
   "outputs": [
    {
     "name": "stdout",
     "output_type": "stream",
     "text": [
      "\n",
      "(6000,)\n",
      "\n",
      "(2000,)\n",
      "\n",
      "(2000,)\n",
      "\n",
      "(6000, 11)\n",
      "\n",
      "(2000, 11)\n",
      "\n",
      "(2000, 11)\n"
     ]
    }
   ],
   "source": [
    "for i in [target_train, target_valid, target_test, features_train, features_valid, features_test]:\n",
    "    print()\n",
    "    print(i.shape) # imprime el atributo shape para cada dataset"
   ]
  },
  {
   "attachments": {},
   "cell_type": "markdown",
   "metadata": {},
   "source": [
    "## Pequeñas conclusiones del apartado"
   ]
  },
  {
   "attachments": {},
   "cell_type": "markdown",
   "metadata": {},
   "source": [
    "Logramos estandarizar nuestros datos para mejorar la calidad del modelo. Luego establecimos la relación entre variables objetivo y características, para dividir el dataset original en tres partes: entrenamiento (60 %), validación (20 %) y testing (20 %). Con esto, tenemos preparada la información para empezar con el modelamiento."
   ]
  },
  {
   "attachments": {},
   "cell_type": "markdown",
   "metadata": {},
   "source": [
    "# Examinando el equilibrio de clases: modelos sin equilibrar"
   ]
  },
  {
   "attachments": {},
   "cell_type": "markdown",
   "metadata": {},
   "source": [
    "Comenzaremos por determinar si existe y la proporción del problema de desequilibrio de clases en nuestra variable objetivo. Para esto contaremos los valores de forma porcentual y también gráficamente:"
   ]
  },
  {
   "cell_type": "code",
   "execution_count": 40,
   "metadata": {},
   "outputs": [
    {
     "data": {
      "text/plain": [
       "0    0.7963\n",
       "1    0.2037\n",
       "Name: exited, dtype: float64"
      ]
     },
     "execution_count": 40,
     "metadata": {},
     "output_type": "execute_result"
    }
   ],
   "source": [
    "data_beta_ohe['exited'].value_counts(normalize=True)"
   ]
  },
  {
   "cell_type": "code",
   "execution_count": 45,
   "metadata": {},
   "outputs": [
    {
     "data": {
      "image/png": "[encoded data removed]",
      "text/plain": [
       "<Figure size 800x800 with 1 Axes>"
      ]
     },
     "metadata": {},
     "output_type": "display_data"
    }
   ],
   "source": [
    "plt.figure(figsize=(8,8))\n",
    "sns.countplot(data=data_beta_ohe, x='exited', width=0.5)\n",
    "plt.title('Conteo de valores de exited')\n",
    "plt.show()"
   ]
  },
  {
   "attachments": {},
   "cell_type": "markdown",
   "metadata": {},
   "source": [
    "Observamos que las clases de nuestra variable objetivo tienen una proporción de alrededor de 80% - 20%, lo cual puede representar un problema en la calidad de nuestro modelo en términos de capacidad predictiva. Para confirmar esta presunción, en este apartado entrenaremos los modelos sin tener en cuenta este desbalance de clases. Usaremos a los tres modelos más comunes para este objetivo y probaremos diversos parámetros para escoger el óptimo. \n",
    "\n",
    "Las métricas a usar serán:\n",
    "* F1 Score\n",
    "* AUC-ROC\n",
    "* Precision\n",
    "* Recall\n",
    "\n",
    "La métrica determinante del modelo será el F1 Score. AUC-ROC será para entender la capacidad del modelo, mientras que las dos últimas serán para tener referencia del tipo de error que está cometiendo cada modelo."
   ]
  },
  {
   "attachments": {},
   "cell_type": "markdown",
   "metadata": {},
   "source": [
    "## Árbol de decisión desbalanceado"
   ]
  },
  {
   "attachments": {},
   "cell_type": "markdown",
   "metadata": {},
   "source": [
    "El primer modelo que usaremos es el de árbol de decisión. En este caso, los hiperparámetros que ajustaremos y buscaremos optimizar será el de *max_depth*, optimizando el F1 Score. Para esta optimización, usaremos el objeto *GridSearchCV* de sklearn de la siguiente forma:"
   ]
  },
  {
   "cell_type": "code",
   "execution_count": 52,
   "metadata": {},
   "outputs": [],
   "source": [
    "tree_model_unbal = DecisionTreeClassifier(random_state=random_state)  # instanciación del modelo"
   ]
  },
  {
   "cell_type": "code",
   "execution_count": 78,
   "metadata": {},
   "outputs": [
    {
     "data": {
      "text/plain": [
       "{'max_depth': 7}"
      ]
     },
     "execution_count": 78,
     "metadata": {},
     "output_type": "execute_result"
    }
   ],
   "source": [
    "param_grid_tree = {\n",
    "    'max_depth': range(1, 15)\n",
    "}\n",
    "\n",
    "grid_search = GridSearchCV(estimator=tree_model_unbal, param_grid=param_grid_tree, cv=3, scoring='f1')\n",
    "grid_search.fit(features_train, target_train)\n",
    "\n",
    "best_param_tree_unb = grid_search.best_params_\n",
    "best_param_tree_unb"
   ]
  },
  {
   "attachments": {},
   "cell_type": "markdown",
   "metadata": {},
   "source": [
    "Tal parece que con un *max_depth* de 7 logramos el mejor valor F1 sin tener en cuenta el balance de clases. Obtendremos las otras métricas de este mejor modelo a continuación:"
   ]
  },
  {
   "cell_type": "code",
   "execution_count": 80,
   "metadata": {},
   "outputs": [
    {
     "name": "stdout",
     "output_type": "stream",
     "text": [
      "Métricas del árbol de decisión desbalanceado\n",
      "F1 Score: 0.48105436573311366\n",
      "Precision: 0.7263681592039801\n",
      "Recall: 0.35960591133004927\n",
      "ROC-AUC: 0.8029425307959034\n",
      "---------------------------------------------------------------\n"
     ]
    },
    {
     "data": {
      "image/png": "[encoded data removed]",
      "text/plain": [
       "<Figure size 800x800 with 1 Axes>"
      ]
     },
     "metadata": {},
     "output_type": "display_data"
    }
   ],
   "source": [
    "# Modelo de árbol de decisión desbalanceado óptimo \n",
    "best_tree_model_unbal = DecisionTreeClassifier(max_depth=best_param_tree_unb['max_depth'], random_state=random_state)\n",
    "best_tree_model_unbal.fit(features_train, target_train)\n",
    "predicted_valid = best_tree_model_unbal.predict(features_valid)\n",
    "print('Métricas del árbol de decisión desbalanceado')\n",
    "\n",
    "# F1 Score\n",
    "print('F1 Score:', f1_score(target_valid, predicted_valid))\n",
    "\n",
    "# Precision\n",
    "print('Precision:', precision_score(target_valid, predicted_valid))\n",
    "\n",
    "# Recall\n",
    "print('Recall:', recall_score(target_valid, predicted_valid))\n",
    "\n",
    "# AUC-ROC\n",
    "probabilities_valid = best_tree_model_unbal.predict_proba(features_valid)\n",
    "probabilities_one_valid = probabilities_valid[:,1]\n",
    "print('ROC-AUC:', roc_auc_score(target_valid, probabilities_one_valid))\n",
    "print('---------------------------------------------------------------')\n",
    "\n",
    "# Gráfico de la curva ROC\n",
    "fpr, tpr, thresholds = roc_curve(target_valid, probabilities_one_valid)\n",
    "plt.figure(figsize=(8,8))\n",
    "plt.plot(fpr, tpr)\n",
    "plt.plot([0, 1], [0, 1], linestyle='--')\n",
    "plt.xlabel('Tasa de falsos positivos')\n",
    "plt.ylabel('Tasa de verdaderos positivos')\n",
    "plt.ylim([0.0, 1.05])\n",
    "plt.xlim([0.0, 1.05])\n",
    "plt.title('Curva ROC del Árbol de decisión')\n",
    "plt.show()"
   ]
  },
  {
   "attachments": {},
   "cell_type": "markdown",
   "metadata": {},
   "source": [
    "Aplicando el parámetro óptimo obtenido de *GridSearchCV* y obteniendo sus demás métricas, encontramos que el valor F1 para el test de validación es de 0.48 y un ROC-AUC de 0.8. Recordemos que necesitamos un F1 Score de al menos 0.59, y estamos algo lejos con este modelo. Es decir, tenemos margen de mejora.\n",
    "\n",
    "Analizando, observamos que *Recall* es el que está penalizando a nuestro F1. De hecho, este modelo clasifica correctamente como positivo solo un 35 % de las veces que se presenta un ejemplo positivo.\n",
    "\n",
    "*Precision* resulta ser algo más alto. Nuestro modelo tiene una probabilidad del 72 % de que cuando prediga una muestra positiva, esta sea realmente positiva o correcta."
   ]
  },
  {
   "attachments": {},
   "cell_type": "markdown",
   "metadata": {},
   "source": [
    "## Bosque aleatorio desbalanceado"
   ]
  },
  {
   "attachments": {},
   "cell_type": "markdown",
   "metadata": {},
   "source": [
    "Esta vez continuaremos con el *Random Forest* o Bosque aleatorio. Nuevamente usaremos *GridSearchCV* para optimizar los hiperparámetros del modelo, que en este caso serán *n_estimators* y *max_depth*, buscando el máximo F1 Score."
   ]
  },
  {
   "cell_type": "code",
   "execution_count": 82,
   "metadata": {},
   "outputs": [],
   "source": [
    "forest_model_unbal = RandomForestClassifier(random_state=random_state)"
   ]
  },
  {
   "cell_type": "code",
   "execution_count": 84,
   "metadata": {},
   "outputs": [
    {
     "data": {
      "text/plain": [
       "{'max_depth': 12, 'n_estimators': 70}"
      ]
     },
     "execution_count": 84,
     "metadata": {},
     "output_type": "execute_result"
    }
   ],
   "source": [
    "param_grid_forest = {\n",
    "    'n_estimators': range(10, 101, 10),\n",
    "    'max_depth': range(5, 16)\n",
    "}\n",
    "\n",
    "grid_search = GridSearchCV(estimator=forest_model_unbal, param_grid=param_grid_forest, cv=3, scoring='f1')\n",
    "grid_search.fit(features_train, target_train)\n",
    "\n",
    "best_param_forest_unb = grid_search.best_params_\n",
    "best_param_forest_unb"
   ]
  },
  {
   "cell_type": "code",
   "execution_count": 88,
   "metadata": {},
   "outputs": [
    {
     "data": {
      "text/plain": [
       "70"
      ]
     },
     "execution_count": 88,
     "metadata": {},
     "output_type": "execute_result"
    }
   ],
   "source": [
    "best_param_forest_unb['n_estimators']"
   ]
  },
  {
   "attachments": {},
   "cell_type": "markdown",
   "metadata": {},
   "source": [
    "GridSearchCV devuelve que los valores de los hiperparámetros a utilizar en esta ocasión serán *max_depth* de 12 y *n_estimators* de 70. Nuevamente entrenaremos al modelo por ahora óptimo para obtener más información con otras métricas."
   ]
  },
  {
   "cell_type": "code",
   "execution_count": 89,
   "metadata": {},
   "outputs": [
    {
     "name": "stdout",
     "output_type": "stream",
     "text": [
      "Métricas del bosque aleatorio desbalanceado\n",
      "F1 Score: 0.5088566827697263\n",
      "Precision: 0.7348837209302326\n",
      "Recall: 0.3891625615763547\n",
      "ROC-AUC: 0.8452293390856104\n",
      "---------------------------------------------------------------\n"
     ]
    },
    {
     "data": {
      "image/png": "[encoded data removed]",
      "text/plain": [
       "<Figure size 800x800 with 1 Axes>"
      ]
     },
     "metadata": {},
     "output_type": "display_data"
    }
   ],
   "source": [
    "# Modelo de bosque aleatorio desbalanceado óptimo \n",
    "best_forest_model_unbal = RandomForestClassifier(\n",
    "    n_estimators=best_param_forest_unb['n_estimators'], \n",
    "    max_depth=best_param_forest_unb['max_depth'], \n",
    "    random_state=random_state\n",
    ")\n",
    "best_forest_model_unbal.fit(features_train, target_train)\n",
    "predicted_valid = best_forest_model_unbal.predict(features_valid)\n",
    "print('Métricas del bosque aleatorio desbalanceado')\n",
    "\n",
    "# F1 Score\n",
    "print('F1 Score:', f1_score(target_valid, predicted_valid))\n",
    "\n",
    "# Precision\n",
    "print('Precision:', precision_score(target_valid, predicted_valid))\n",
    "\n",
    "# Recall\n",
    "print('Recall:', recall_score(target_valid, predicted_valid))\n",
    "\n",
    "# AUC-ROC\n",
    "probabilities_valid = best_forest_model_unbal.predict_proba(features_valid)\n",
    "probabilities_one_valid = probabilities_valid[:,1]\n",
    "print('ROC-AUC:', roc_auc_score(target_valid, probabilities_one_valid))\n",
    "print('---------------------------------------------------------------')\n",
    "\n",
    "# Gráfico de la curva ROC\n",
    "fpr, tpr, thresholds = roc_curve(target_valid, probabilities_one_valid)\n",
    "plt.figure(figsize=(8,8))\n",
    "plt.plot(fpr, tpr)\n",
    "plt.plot([0, 1], [0, 1], linestyle='--')\n",
    "plt.xlabel('Tasa de falsos positivos')\n",
    "plt.ylabel('Tasa de verdaderos positivos')\n",
    "plt.ylim([0.0, 1.05])\n",
    "plt.xlim([0.0, 1.05])\n",
    "plt.title('Curva ROC del Bosque Aleatorio')\n",
    "plt.show()"
   ]
  },
  {
   "attachments": {},
   "cell_type": "markdown",
   "metadata": {},
   "source": [
    "De forma parecida al árbol de decisión, tenemos un F1 score debajo del umbral requerido, de 0.51 aprox. Mientras por el lado del ROC-AUC, este sufre de un ligero incremento hasta ser de 0.84. Este modelo también tiene un gran margen de mejora.\n",
    "\n",
    "Observamos que la métrica que penaliza al F1 es *Recall*, con un valor de 0.39, lo cual indica que el modelo identifica correctamente a los positivos un 35 % de las veces que se le proporciona una muestra positiva.\n",
    "\n",
    "Por el lado de *Precision*, este tiene un valor de 0.73, indicando que el modelo acierta en predecir una clase positiva un 73 % de las veces. El incremento respecto al árbol de decisión resulta ser algo ligero en estos casos."
   ]
  },
  {
   "attachments": {},
   "cell_type": "markdown",
   "metadata": {},
   "source": [
    "## Regresión logística desbalanceada"
   ]
  },
  {
   "attachments": {},
   "cell_type": "markdown",
   "metadata": {},
   "source": [
    "La regresión logística es menos flexible en el manejo de sus hiperparámetros por su propia naturaleza, y por eso solo variaremos el hiperparámetro *solver* mediante GridSeachCV. "
   ]
  },
  {
   "cell_type": "code",
   "execution_count": 90,
   "metadata": {},
   "outputs": [],
   "source": [
    "logistic_model_unbal = LogisticRegression(random_state=random_state)"
   ]
  },
  {
   "cell_type": "code",
   "execution_count": 91,
   "metadata": {},
   "outputs": [
    {
     "data": {
      "text/plain": [
       "{'solver': 'liblinear'}"
      ]
     },
     "execution_count": 91,
     "metadata": {},
     "output_type": "execute_result"
    }
   ],
   "source": [
    "param_grid_logistic = {\n",
    "    'solver': ['liblinear', 'newton-cg', 'lbfgs', 'sag', 'saga']\n",
    "}\n",
    "\n",
    "grid_search = GridSearchCV(estimator=logistic_model_unbal, param_grid=param_grid_logistic, cv=3, scoring='f1')\n",
    "grid_search.fit(features_train, target_train)\n",
    "\n",
    "best_param_logistic_unb = grid_search.best_params_\n",
    "best_param_logistic_unb"
   ]
  },
  {
   "attachments": {},
   "cell_type": "markdown",
   "metadata": {},
   "source": [
    "El método 'liblinear' es el que mejor resultado nos da según *GridSearchCV*. Usaremos esta configuración para obtener las métricas restantes."
   ]
  },
  {
   "cell_type": "code",
   "execution_count": 93,
   "metadata": {},
   "outputs": [
    {
     "name": "stdout",
     "output_type": "stream",
     "text": [
      "Métricas de la regresión logística desbalanceada\n",
      "F1 Score: 0.25650557620817843\n",
      "Precision: 0.5227272727272727\n",
      "Recall: 0.16995073891625614\n",
      "ROC-AUC: 0.7638187538243782\n",
      "---------------------------------------------------------------\n"
     ]
    },
    {
     "data": {
      "image/png": "[encoded data removed]",
      "text/plain": [
       "<Figure size 800x800 with 1 Axes>"
      ]
     },
     "metadata": {},
     "output_type": "display_data"
    }
   ],
   "source": [
    "# Modelo de regresión logística desbalanceada óptimo \n",
    "best_logistic_model_unbal = LogisticRegression(solver=best_param_logistic_unb['solver'], random_state=random_state)\n",
    "best_logistic_model_unbal.fit(features_train, target_train)\n",
    "predicted_valid = best_logistic_model_unbal.predict(features_valid)\n",
    "print('Métricas de la regresión logística desbalanceada')\n",
    "\n",
    "# F1 Score\n",
    "print('F1 Score:', f1_score(target_valid, predicted_valid))\n",
    "\n",
    "# Precision\n",
    "print('Precision:', precision_score(target_valid, predicted_valid))\n",
    "\n",
    "# Recall\n",
    "print('Recall:', recall_score(target_valid, predicted_valid))\n",
    "\n",
    "# AUC-ROC\n",
    "probabilities_valid = best_logistic_model_unbal.predict_proba(features_valid)\n",
    "probabilities_one_valid = probabilities_valid[:,1]\n",
    "print('ROC-AUC:', roc_auc_score(target_valid, probabilities_one_valid))\n",
    "print('---------------------------------------------------------------')\n",
    "\n",
    "# Gráfico de la curva ROC\n",
    "fpr, tpr, thresholds = roc_curve(target_valid, probabilities_one_valid)\n",
    "plt.figure(figsize=(8,8))\n",
    "plt.plot(fpr, tpr)\n",
    "plt.plot([0, 1], [0, 1], linestyle='--')\n",
    "plt.xlabel('Tasa de falsos positivos')\n",
    "plt.ylabel('Tasa de verdaderos positivos')\n",
    "plt.ylim([0.0, 1.05])\n",
    "plt.xlim([0.0, 1.05])\n",
    "plt.title('Curva ROC de la Regresión logística')\n",
    "plt.show()"
   ]
  },
  {
   "attachments": {},
   "cell_type": "markdown",
   "metadata": {},
   "source": [
    "La regresión logística nos da los peores resultados por ahora, con un F1 de 0.26, muy por debajo de lo mínimo solicitado, y un AUC-ROC de 0.76, algo menor que los anteriores modelos.\n",
    "\n",
    "*Recall* nuevamente penaliza al F1 Score con un valor bastante bajo de 0.17, indicando que este modelo clasifica correctamente como positivo un 17 % de las veces que se le presenta una clase positiva.\n",
    "\n",
    "*Precision* también se muestra rezagado con un valor de 0.52, indicando que predice correctamente un valor positivo un 52 % de las veces."
   ]
  },
  {
   "attachments": {},
   "cell_type": "markdown",
   "metadata": {},
   "source": [
    "## Conclusiones del apartado"
   ]
  },
  {
   "attachments": {},
   "cell_type": "markdown",
   "metadata": {},
   "source": [
    "Primero, comprobamos la existencia de desbalance de clases en nuestra muestra, con una relación de 80 a 20 aprox., lo cual presumimos que podría tener repercursiones en la capacidad predictiva del modelo.\n",
    "\n",
    "Los resultados de los entrenamientos están resumidos en el cuadro siguiente:"
   ]
  },
  {
   "attachments": {},
   "cell_type": "markdown",
   "metadata": {},
   "source": [
    "|   Métrica   |  `DT` | `RF`  |  `LR` |\n",
    "| ----------- | ----- | ----- | ----- |\n",
    "|   **F1**    |  0.48 | **0.51** | 0.26 |\n",
    "| **AUC-ROC** |  0.80 | **0.84** | 0.76 |\n",
    "|**Precision**|  0.73 | 0.73 | 0.52 |\n",
    "| **Recall**  |  0.36 | 0.39 | 0.17 |"
   ]
  },
  {
   "attachments": {},
   "cell_type": "markdown",
   "metadata": {},
   "source": [
    "En todos las métricas, el que resulta con mayor puntaje es el modelo de *Random Forest* o Bosque Aleatorio. Aunque como habíamos mencionado, la diferencia respecto al Árbol de decisión no es muy grande. Debido a que ningún modelo supera el requerimiento mínimo de F1 score, como siguiente paso tendremos en cuenta este desbalance de clases al momento de entrenar los modelos."
   ]
  },
  {
   "attachments": {},
   "cell_type": "markdown",
   "metadata": {},
   "source": [
    "# Mejora de los modelos: modelamiento con equilibrio de clases"
   ]
  },
  {
   "attachments": {},
   "cell_type": "markdown",
   "metadata": {},
   "source": [
    "En esta etapa usaremos los siguientes métodos para intentar mejorar el rendimiento de los modelos que hemos entrenado. Los métodos serán:\n",
    "* **Ajuste de peso de clases**: esto mediante la configuración del hiperparámetro ``class_weight`` de los modelos.\n",
    "* **Sobremuestreo**: esto multiplicando de manera aleatoria las clases más escasas (``exited``= 1).\n",
    "* **Submuestro**: esto restando de manera aleatoria las clases más frecuentes (``exited``= 0)."
   ]
  },
  {
   "attachments": {},
   "cell_type": "markdown",
   "metadata": {},
   "source": [
    "## Ajuste de peso de clases"
   ]
  },
  {
   "attachments": {},
   "cell_type": "markdown",
   "metadata": {},
   "source": [
    "Entrenaremos y obtendremos los nuevos hiperparámetros óptimos para cuando se configura el hiperparámetro ``class_weight = 'balanced'``. Esto compensará la proporción de las clases menos frecuentes para tratar de solucionar el problema. Nuevamente llamamos a *GridSearchCV* para el proceso. Comenzaremos por el árbol de decisión:"
   ]
  },
  {
   "attachments": {},
   "cell_type": "markdown",
   "metadata": {},
   "source": [
    "### Árbol de decisión balanceado"
   ]
  },
  {
   "cell_type": "code",
   "execution_count": 97,
   "metadata": {},
   "outputs": [],
   "source": [
    "tree_model_bal = DecisionTreeClassifier(random_state=random_state, class_weight='balanced') # instancia el modelo"
   ]
  },
  {
   "cell_type": "code",
   "execution_count": 100,
   "metadata": {},
   "outputs": [
    {
     "data": {
      "text/plain": [
       "{'max_depth': 5}"
      ]
     },
     "execution_count": 100,
     "metadata": {},
     "output_type": "execute_result"
    }
   ],
   "source": [
    "param_grid_tree = {\n",
    "    'max_depth': range(1, 15)\n",
    "}\n",
    "\n",
    "grid_search = GridSearchCV(estimator=tree_model_bal, param_grid=param_grid_tree, cv=3, scoring='f1')\n",
    "grid_search.fit(features_train, target_train)\n",
    "\n",
    "best_param_tree_bal = grid_search.best_params_\n",
    "best_param_tree_bal"
   ]
  },
  {
   "attachments": {},
   "cell_type": "markdown",
   "metadata": {},
   "source": [
    "Esta vez, el valor de ``max_depth`` óptimo es 5. Obtendremos las métricas restantes con este hiperparámetro óptimo para analizar el modelo:"
   ]
  },
  {
   "cell_type": "code",
   "execution_count": 114,
   "metadata": {},
   "outputs": [
    {
     "name": "stdout",
     "output_type": "stream",
     "text": [
      "Métricas del árbol de decisión balanceado\n",
      "F1 Score: 0.542314335060449\n",
      "Precision: 0.4175531914893617\n",
      "Recall: 0.7733990147783252\n",
      "ROC-AUC: 0.8259907844070435\n",
      "---------------------------------------------------------------\n"
     ]
    }
   ],
   "source": [
    "# Modelo de árbol de decisión balanceado óptimo \n",
    "best_tree_model_bal = DecisionTreeClassifier(\n",
    "    class_weight='balanced', \n",
    "    max_depth=best_param_tree_bal['max_depth'], \n",
    "    random_state=random_state\n",
    ")\n",
    "best_tree_model_bal.fit(features_train, target_train)\n",
    "predicted_valid = best_tree_model_bal.predict(features_valid)\n",
    "print('Métricas del árbol de decisión balanceado')\n",
    "\n",
    "# F1 Score\n",
    "print('F1 Score:', f1_score(target_valid, predicted_valid))\n",
    "\n",
    "# Precision\n",
    "print('Precision:', precision_score(target_valid, predicted_valid))\n",
    "\n",
    "# Recall\n",
    "print('Recall:', recall_score(target_valid, predicted_valid))\n",
    "\n",
    "# AUC-ROC\n",
    "probabilities_valid = best_tree_model_bal.predict_proba(features_valid)\n",
    "probabilities_one_valid = probabilities_valid[:,1]\n",
    "print('ROC-AUC:', roc_auc_score(target_valid, probabilities_one_valid))\n",
    "print('---------------------------------------------------------------')"
   ]
  },
  {
   "attachments": {},
   "cell_type": "markdown",
   "metadata": {},
   "source": [
    "El valor F1 muestra una ligero incremento respecto al modelo sin balancear, aunque sin superar aún el valor mínimo requerido, mientras que el ROC-AUC muestra un comportamiento similar, subiendo ligeramente. \n",
    "\n",
    "La razón del incremento de F1 Score se debe al incremento de *Recall*, aumentando drásticamente su valor respecto al modelo sin balancear. Esta vez es *Precision* el que penaliza el valor F1, con una disminución notable. En otros términos podríamso afirmar que este modelo ha mejorado su desempeño de clasificar correctamente los valores de la muestra a cambio de perder capacidad de predecir correctamente."
   ]
  },
  {
   "attachments": {},
   "cell_type": "markdown",
   "metadata": {},
   "source": [
    "### Bosque aleatorio balanceado"
   ]
  },
  {
   "cell_type": "code",
   "execution_count": 103,
   "metadata": {},
   "outputs": [],
   "source": [
    "forest_model_bal = RandomForestClassifier(class_weight='balanced', random_state=random_state)"
   ]
  },
  {
   "cell_type": "code",
   "execution_count": 104,
   "metadata": {},
   "outputs": [
    {
     "data": {
      "text/plain": [
       "{'max_depth': 9, 'n_estimators': 90}"
      ]
     },
     "execution_count": 104,
     "metadata": {},
     "output_type": "execute_result"
    }
   ],
   "source": [
    "param_grid_forest = {\n",
    "    'n_estimators': range(10, 101, 10),\n",
    "    'max_depth': range(5, 16)\n",
    "}\n",
    "\n",
    "grid_search = GridSearchCV(estimator=forest_model_bal, param_grid=param_grid_forest, cv=3, scoring='f1')\n",
    "grid_search.fit(features_train, target_train)\n",
    "\n",
    "best_param_forest_bal = grid_search.best_params_\n",
    "best_param_forest_bal"
   ]
  },
  {
   "attachments": {},
   "cell_type": "markdown",
   "metadata": {},
   "source": [
    "Esta vez tenemos ``max_depth`` = 9 y ``n_estimators`` = 90. Con estos valores obtendremos las métricas restantes:"
   ]
  },
  {
   "cell_type": "code",
   "execution_count": 115,
   "metadata": {},
   "outputs": [
    {
     "name": "stdout",
     "output_type": "stream",
     "text": [
      "Métricas del bosque aleatorio balanceado\n",
      "F1 Score: 0.5944055944055944\n",
      "Precision: 0.5641592920353983\n",
      "Recall: 0.6280788177339901\n",
      "ROC-AUC: 0.8519926942784211\n",
      "---------------------------------------------------------------\n"
     ]
    }
   ],
   "source": [
    "# Modelo de bosque aleatorio balanceado óptimo \n",
    "best_forest_model_bal = RandomForestClassifier(\n",
    "    class_weight='balanced',\n",
    "    n_estimators=best_param_forest_bal['n_estimators'], \n",
    "    max_depth=best_param_forest_bal['max_depth'], \n",
    "    random_state=random_state\n",
    ")\n",
    "best_forest_model_bal.fit(features_train, target_train)\n",
    "predicted_valid = best_forest_model_bal.predict(features_valid)\n",
    "print('Métricas del bosque aleatorio balanceado')\n",
    "\n",
    "# F1 Score\n",
    "print('F1 Score:', f1_score(target_valid, predicted_valid))\n",
    "\n",
    "# Precision\n",
    "print('Precision:', precision_score(target_valid, predicted_valid))\n",
    "\n",
    "# Recall\n",
    "print('Recall:', recall_score(target_valid, predicted_valid))\n",
    "\n",
    "# AUC-ROC\n",
    "probabilities_valid = best_forest_model_bal.predict_proba(features_valid)\n",
    "probabilities_one_valid = probabilities_valid[:,1]\n",
    "print('ROC-AUC:', roc_auc_score(target_valid, probabilities_one_valid))\n",
    "print('---------------------------------------------------------------')\n"
   ]
  },
  {
   "attachments": {},
   "cell_type": "markdown",
   "metadata": {},
   "source": [
    "Esta vez el F1 Score ha subido de forma significativa hasta por fin tener el valor requerido. El ROC-AUC incremnta su valor de forma marginal.\n",
    "\n",
    "Tenemos un comportamiento similar al del modelo anterior, donde *Recall* incrementa su valor y *Precision* decrece, aunque en ambos casos de forma más moderada, logrando que su promedio armónico (F1 Score) sea mayor."
   ]
  },
  {
   "attachments": {},
   "cell_type": "markdown",
   "metadata": {},
   "source": [
    "### Regresión logística balanceada"
   ]
  },
  {
   "cell_type": "code",
   "execution_count": 107,
   "metadata": {},
   "outputs": [],
   "source": [
    "logistic_model_bal = LogisticRegression(class_weight='balanced', random_state=random_state)"
   ]
  },
  {
   "cell_type": "code",
   "execution_count": 108,
   "metadata": {},
   "outputs": [
    {
     "data": {
      "text/plain": [
       "{'solver': 'liblinear'}"
      ]
     },
     "execution_count": 108,
     "metadata": {},
     "output_type": "execute_result"
    }
   ],
   "source": [
    "param_grid_logistic = {\n",
    "    'solver': ['liblinear', 'newton-cg', 'lbfgs', 'sag', 'saga']\n",
    "}\n",
    "\n",
    "grid_search = GridSearchCV(estimator=logistic_model_bal, param_grid=param_grid_logistic, cv=3, scoring='f1')\n",
    "grid_search.fit(features_train, target_train)\n",
    "\n",
    "best_param_logistic_bal = grid_search.best_params_\n",
    "best_param_logistic_bal"
   ]
  },
  {
   "attachments": {},
   "cell_type": "markdown",
   "metadata": {},
   "source": [
    "El hiperparámetro a utilizar será ``solver``= 'liblinear' para obtener las demás métricas:"
   ]
  },
  {
   "cell_type": "code",
   "execution_count": 117,
   "metadata": {},
   "outputs": [
    {
     "name": "stdout",
     "output_type": "stream",
     "text": [
      "Métricas de la regresión logística balanceada\n",
      "F1 Score: 0.49572649572649574\n",
      "Precision: 0.3795811518324607\n",
      "Recall: 0.7142857142857143\n",
      "ROC-AUC: 0.7671177630399714\n",
      "---------------------------------------------------------------\n"
     ]
    }
   ],
   "source": [
    "# Modelo de regresión logística balanceada óptimo \n",
    "best_logistic_model_bal = LogisticRegression(\n",
    "    class_weight='balanced',\n",
    "    solver=best_param_logistic_bal['solver'], \n",
    "    random_state=random_state\n",
    ")\n",
    "best_logistic_model_bal.fit(features_train, target_train)\n",
    "predicted_valid = best_logistic_model_bal.predict(features_valid)\n",
    "print('Métricas de la regresión logística balanceada')\n",
    "\n",
    "# F1 Score\n",
    "print('F1 Score:', f1_score(target_valid, predicted_valid))\n",
    "\n",
    "# Precision\n",
    "print('Precision:', precision_score(target_valid, predicted_valid))\n",
    "\n",
    "# Recall\n",
    "print('Recall:', recall_score(target_valid, predicted_valid))\n",
    "\n",
    "# AUC-ROC\n",
    "probabilities_valid = best_logistic_model_bal.predict_proba(features_valid)\n",
    "probabilities_one_valid = probabilities_valid[:,1]\n",
    "print('ROC-AUC:', roc_auc_score(target_valid, probabilities_one_valid))\n",
    "print('---------------------------------------------------------------')"
   ]
  },
  {
   "attachments": {},
   "cell_type": "markdown",
   "metadata": {},
   "source": [
    "Este modelo también presenta mejoras notables respecto a su análogo sin balancear. El F1 Score casi se duplica (pero no alcanza el umbral requerido), aunque el ROC-AUC mantiene su valor.\n",
    "\n",
    "Esta mejora del valor F1 se debe a la significativa mejora de *Recall*, multiplicando su valor varias veces. Mientras que *Precision* muestra una caída algo importante. \n",
    "\n",
    "En definitiva, en todos los modelos el F1 Score se incrementa a cambio de una reducción de *Precision* y un gran aumento del valor *Recall*"
   ]
  },
  {
   "attachments": {},
   "cell_type": "markdown",
   "metadata": {},
   "source": [
    "### Síntesis y comparación de métricas"
   ]
  },
  {
   "attachments": {},
   "cell_type": "markdown",
   "metadata": {},
   "source": [
    "Luego de haber entrenado los modelos con y sin ajuste de peso de clases, resumiremos lo hallado en los siguientes cuadros para facilitar las conclusiones del apartado:"
   ]
  },
  {
   "attachments": {},
   "cell_type": "markdown",
   "metadata": {},
   "source": [
    "**F1 Score**\n",
    "\n",
    "|   Modelo   |  Desbalance | Balance  |  Efecto final |\n",
    "| ----------- | ----- | ----- | ----- |\n",
    "|``DT``  |  0.48 | **0.54** | Mejora |\n",
    "| ``RF`` |  0.51 | **0.59** | Mejora |\n",
    "| ``LR`` | 0.26  | **0.50**  | Mejora |"
   ]
  },
  {
   "attachments": {},
   "cell_type": "markdown",
   "metadata": {},
   "source": [
    "## Sobremuestreo"
   ]
  },
  {
   "attachments": {},
   "cell_type": "markdown",
   "metadata": {},
   "source": [
    "Este método requiere de incrementar de forma aleatoria la cantidad de observaciones escasas para compensarlas y tener una proporción más equilibrada de clases. Para lograr esto, crearemos una función de la siguiente manera:"
   ]
  },
  {
   "cell_type": "code",
   "execution_count": 118,
   "metadata": {},
   "outputs": [],
   "source": [
    "# función de sobremuestreo: upsample\n",
    "\n",
    "def upsample(features, target, repeat):\n",
    "    features_0 = features[target == 0]\n",
    "    features_1 = features[target == 1]\n",
    "    target_0 = target[target == 0]\n",
    "    target_1 = target[target == 1]      # separa las variables\n",
    "    \n",
    "    features_upsampled = pd.concat([features_0] + [features_1] * repeat)\n",
    "    target_upsampled = pd.concat([target_0] + [target_1] * repeat)      # multiplica los valores escasos\n",
    "    \n",
    "    # aleatoriza los nuevos datos\n",
    "    features_upsampled, target_upsampled = shuffle(features_upsampled, target_upsampled, random_state=random_state)\n",
    "    \n",
    "    return features_upsampled, target_upsampled"
   ]
  },
  {
   "attachments": {},
   "cell_type": "markdown",
   "metadata": {},
   "source": [
    "Ahora que creamos la función, podemos utilizarla para emparejar las clases de nuestra variable objetivo. Recordemos que la proporción era de 80 - 20, así que multiplicando por 4 deberíamos tener una distribución más pareja de las clases:"
   ]
  },
  {
   "cell_type": "code",
   "execution_count": 121,
   "metadata": {},
   "outputs": [
    {
     "data": {
      "text/plain": [
       "1    0.50156\n",
       "0    0.49844\n",
       "Name: exited, dtype: float64"
      ]
     },
     "execution_count": 121,
     "metadata": {},
     "output_type": "execute_result"
    }
   ],
   "source": [
    "features_upsampled, target_upsampled = upsample(features_train, target_train, 4)\n",
    "\n",
    "target_upsampled.value_counts(normalize=True)"
   ]
  },
  {
   "attachments": {},
   "cell_type": "markdown",
   "metadata": {},
   "source": [
    "Ahora que tenemos a nuestro target más equilibrado, entrenaremos y obtendremos las métricas de cada uno de los modelos probados hasta ahora."
   ]
  },
  {
   "attachments": {},
   "cell_type": "markdown",
   "metadata": {},
   "source": [
    "### Árbol de decisión con sobremuestreo"
   ]
  },
  {
   "attachments": {},
   "cell_type": "markdown",
   "metadata": {},
   "source": [
    "Nuevamente usaremos *GridSearchCV* para obtener los mejores valores de los hiperparámetros de los modelos y así obtener las métricas con el set de validación:"
   ]
  },
  {
   "cell_type": "code",
   "execution_count": 122,
   "metadata": {},
   "outputs": [],
   "source": [
    "tree_model_up = DecisionTreeClassifier(random_state=random_state) # instancia el modelo"
   ]
  },
  {
   "cell_type": "code",
   "execution_count": 126,
   "metadata": {},
   "outputs": [
    {
     "data": {
      "text/plain": [
       "{'max_depth': 19}"
      ]
     },
     "execution_count": 126,
     "metadata": {},
     "output_type": "execute_result"
    }
   ],
   "source": [
    "param_grid_tree = {\n",
    "    'max_depth': range(5, 21)\n",
    "}\n",
    "\n",
    "grid_search = GridSearchCV(estimator=tree_model_up, param_grid=param_grid_tree, cv=3, scoring='f1')\n",
    "grid_search.fit(features_upsampled, target_upsampled)\n",
    "\n",
    "best_param_tree_up = grid_search.best_params_\n",
    "best_param_tree_up"
   ]
  },
  {
   "attachments": {},
   "cell_type": "markdown",
   "metadata": {},
   "source": [
    "El mejor árbol se da con ``max_depth`` = 19. Lo probaremos ahora obteniendo las métricas con el set de validación:"
   ]
  },
  {
   "cell_type": "code",
   "execution_count": 137,
   "metadata": {},
   "outputs": [
    {
     "name": "stdout",
     "output_type": "stream",
     "text": [
      "Métricas del árbol de decisión con sobremuestreo\n",
      "F1 Score: 0.46326276463262767\n",
      "Precision: 0.46851385390428213\n",
      "Recall: 0.458128078817734\n",
      "ROC-AUC: 0.6671608742142642\n",
      "---------------------------------------------------------------\n"
     ]
    }
   ],
   "source": [
    "# Modelo de árbol de decisión con sobremuestra óptimo \n",
    "best_tree_model_up = DecisionTreeClassifier( \n",
    "    max_depth=best_param_tree_up['max_depth'], \n",
    "    random_state=random_state\n",
    ")\n",
    "best_tree_model_up.fit(features_upsampled, target_upsampled)\n",
    "predicted_valid = best_tree_model_up.predict(features_valid)\n",
    "print('Métricas del árbol de decisión con sobremuestreo')\n",
    "\n",
    "# F1 Score\n",
    "print('F1 Score:', f1_score(target_valid, predicted_valid))\n",
    "\n",
    "# Precision\n",
    "print('Precision:', precision_score(target_valid, predicted_valid))\n",
    "\n",
    "# Recall\n",
    "print('Recall:', recall_score(target_valid, predicted_valid))\n",
    "\n",
    "# AUC-ROC\n",
    "probabilities_valid = best_tree_model_up.predict_proba(features_valid)\n",
    "probabilities_one_valid = probabilities_valid[:,1]\n",
    "print('ROC-AUC:', roc_auc_score(target_valid, probabilities_one_valid))\n",
    "print('---------------------------------------------------------------')"
   ]
  },
  {
   "attachments": {},
   "cell_type": "markdown",
   "metadata": {},
   "source": [
    "Obtenemos un F1 algo más bajo a pesar del sobremuestreo, con un valor de 0.46, debajo de lo requerido. El ROC-AUC también es más bajo que el modelo sin tratar.\n",
    "\n",
    "Observamos que el valor F1 más bajo tiene relación con los valores de *Recall* y *Precision*, siendo estos más bajos que los modelos previos y también bastante parejos. Dependiendo del contexto, esto podría ser conveniente o no. Continuaremos con el siguiente modelo."
   ]
  },
  {
   "attachments": {},
   "cell_type": "markdown",
   "metadata": {},
   "source": [
    "### Bosque aleatorio con sobremuestreo"
   ]
  },
  {
   "cell_type": "code",
   "execution_count": 138,
   "metadata": {},
   "outputs": [],
   "source": [
    "forest_model_up = RandomForestClassifier(random_state=random_state)"
   ]
  },
  {
   "cell_type": "code",
   "execution_count": 139,
   "metadata": {},
   "outputs": [
    {
     "data": {
      "text/plain": [
       "{'max_depth': 15, 'n_estimators': 40}"
      ]
     },
     "execution_count": 139,
     "metadata": {},
     "output_type": "execute_result"
    }
   ],
   "source": [
    "param_grid_forest = {\n",
    "    'n_estimators': range(10, 101, 10),\n",
    "    'max_depth': range(5, 16)\n",
    "}\n",
    "\n",
    "grid_search = GridSearchCV(estimator=forest_model_up, param_grid=param_grid_forest, cv=3, scoring='f1')\n",
    "grid_search.fit(features_upsampled, target_upsampled)\n",
    "\n",
    "best_param_forest_up = grid_search.best_params_\n",
    "best_param_forest_up"
   ]
  },
  {
   "attachments": {},
   "cell_type": "markdown",
   "metadata": {},
   "source": [
    "Con estos hiperparámetros obtendremos las demás métricas:"
   ]
  },
  {
   "cell_type": "code",
   "execution_count": 156,
   "metadata": {},
   "outputs": [
    {
     "name": "stdout",
     "output_type": "stream",
     "text": [
      "Métricas del bosque aleatorio con sobremuestreo\n",
      "F1 Score: 0.5564516129032258\n",
      "Precision: 0.6124260355029586\n",
      "Recall: 0.5098522167487685\n",
      "ROC-AUC: 0.8322843977724348\n",
      "---------------------------------------------------------------\n"
     ]
    }
   ],
   "source": [
    "# Modelo de bosque aleatorio con sobremuestro óptimo \n",
    "best_forest_model_up = RandomForestClassifier(\n",
    "    n_estimators=best_param_forest_up['n_estimators'], \n",
    "    max_depth=best_param_forest_up['max_depth'], \n",
    "    random_state=random_state\n",
    ")\n",
    "best_forest_model_up.fit(features_upsampled, target_upsampled)\n",
    "predicted_valid = best_forest_model_up.predict(features_valid)\n",
    "print('Métricas del bosque aleatorio con sobremuestreo')\n",
    "\n",
    "# F1 Score\n",
    "print('F1 Score:', f1_score(target_valid, predicted_valid))\n",
    "\n",
    "# Precision\n",
    "print('Precision:', precision_score(target_valid, predicted_valid))\n",
    "\n",
    "# Recall\n",
    "print('Recall:', recall_score(target_valid, predicted_valid))\n",
    "\n",
    "# AUC-ROC\n",
    "probabilities_valid = best_forest_model_up.predict_proba(features_valid)\n",
    "probabilities_one_valid = probabilities_valid[:,1]\n",
    "print('ROC-AUC:', roc_auc_score(target_valid, probabilities_one_valid))\n",
    "print('---------------------------------------------------------------')"
   ]
  },
  {
   "attachments": {},
   "cell_type": "markdown",
   "metadata": {},
   "source": [
    "De forma parecida, el valor F1 se incrementa, pero no está en el límite mínimo requerido. No hay un incremento del ROC-AUC, de hecho, este cae.\n",
    "\n",
    "Nuevamente notamos un mayor equilibrio entre los valores de *Recall* y *Precision*, motivo del valor F1."
   ]
  },
  {
   "attachments": {},
   "cell_type": "markdown",
   "metadata": {},
   "source": [
    "### Regresión logística con sobremuestreo"
   ]
  },
  {
   "cell_type": "code",
   "execution_count": 141,
   "metadata": {},
   "outputs": [],
   "source": [
    "logistic_model_up = LogisticRegression(random_state=random_state)"
   ]
  },
  {
   "cell_type": "code",
   "execution_count": 142,
   "metadata": {},
   "outputs": [
    {
     "data": {
      "text/plain": [
       "{'solver': 'saga'}"
      ]
     },
     "execution_count": 142,
     "metadata": {},
     "output_type": "execute_result"
    }
   ],
   "source": [
    "param_grid_logistic = {\n",
    "    'solver': ['liblinear', 'newton-cg', 'lbfgs', 'sag', 'saga']\n",
    "}\n",
    "\n",
    "grid_search = GridSearchCV(estimator=logistic_model_up, param_grid=param_grid_logistic, cv=3, scoring='f1')\n",
    "grid_search.fit(features_upsampled, target_upsampled)\n",
    "\n",
    "best_param_logistic_up = grid_search.best_params_\n",
    "best_param_logistic_up"
   ]
  },
  {
   "attachments": {},
   "cell_type": "markdown",
   "metadata": {},
   "source": [
    "Usaremos esa configuración para calcular las métricas restantes:"
   ]
  },
  {
   "cell_type": "code",
   "execution_count": 157,
   "metadata": {},
   "outputs": [
    {
     "name": "stdout",
     "output_type": "stream",
     "text": [
      "Métricas de la regresión logística con sobremuestreo\n",
      "F1 Score: 0.4948805460750854\n",
      "Precision: 0.3785900783289817\n",
      "Recall: 0.7142857142857143\n",
      "ROC-AUC: 0.7671223986501103\n",
      "---------------------------------------------------------------\n"
     ]
    }
   ],
   "source": [
    "# Modelo de regresión logística con sobremuestreo óptimo \n",
    "best_logistic_model_up = LogisticRegression(solver=best_param_logistic_up['solver'], random_state=random_state)\n",
    "best_logistic_model_up.fit(features_upsampled, target_upsampled)\n",
    "predicted_valid = best_logistic_model_up.predict(features_valid)\n",
    "print('Métricas de la regresión logística con sobremuestreo')\n",
    "\n",
    "# F1 Score\n",
    "print('F1 Score:', f1_score(target_valid, predicted_valid))\n",
    "\n",
    "# Precision\n",
    "print('Precision:', precision_score(target_valid, predicted_valid))\n",
    "\n",
    "# Recall\n",
    "print('Recall:', recall_score(target_valid, predicted_valid))\n",
    "\n",
    "# AUC-ROC\n",
    "probabilities_valid = best_logistic_model_up.predict_proba(features_valid)\n",
    "probabilities_one_valid = probabilities_valid[:,1]\n",
    "print('ROC-AUC:', roc_auc_score(target_valid, probabilities_one_valid))\n",
    "print('---------------------------------------------------------------')"
   ]
  },
  {
   "attachments": {},
   "cell_type": "markdown",
   "metadata": {},
   "source": [
    "Nuevamente observamos un incremento en el valor F1 respecto al modelo sin tratar, aunque esta vez tampoco superamos el umbral mínimo. El ROC-AUC se mantiene prácticamente en su valor, incrementándose muy ligeramente.\n",
    "\n",
    "La razón detrás del rezago de F1 es principalmente *Precision*, con un valor bastante bajo respecto a *Recall*, el cual sí muestra una mejora significativa respecto al modelo sin balancear."
   ]
  },
  {
   "attachments": {},
   "cell_type": "markdown",
   "metadata": {},
   "source": [
    "### Síntesis y comparación de métricas"
   ]
  },
  {
   "attachments": {},
   "cell_type": "markdown",
   "metadata": {},
   "source": [
    "Sintetizaremos lo encontrado con los modelos entrenados con sobremuestreo en un cuadro comparativo con el valor F1 respecto al primer modelo:"
   ]
  },
  {
   "attachments": {},
   "cell_type": "markdown",
   "metadata": {},
   "source": [
    "**F1 Score**\n",
    "\n",
    "|   Modelo   |  Desbalance | Sobremuestreo  |  Efecto final |\n",
    "| ----------- | -------- | ---------- | -------------- |\n",
    "| ``DT`` |      0.48 |          0.46 |      Deterioro |\n",
    "| ``RF`` |      0.51 |      **0.56** |      Mejora |\n",
    "| ``LR`` |      0.26 |      **0.49**  |      Mejora |"
   ]
  },
  {
   "attachments": {},
   "cell_type": "markdown",
   "metadata": {},
   "source": [
    "## Submuestreo"
   ]
  },
  {
   "attachments": {},
   "cell_type": "markdown",
   "metadata": {},
   "source": [
    "Este método eliminará muestras de la clase más frecuente de forma aleatoria, teniendo esto ciertas desventajas respecto a su uso. Sin embargo, decidimos usarlo por si nos proporciona un mejor desempeño que el sobremuestreo. De forma análoga al sobremuestreo, crearemos una función que nos ayude en el proceso de submuestreo:"
   ]
  },
  {
   "cell_type": "code",
   "execution_count": 148,
   "metadata": {},
   "outputs": [],
   "source": [
    "# función de submuestreo: downsample\n",
    "\n",
    "def downsample(features, target, fraction):\n",
    "    features_0 = features[target == 0]\n",
    "    features_1 = features[target == 1]\n",
    "    target_0 = target[target == 0]\n",
    "    target_1 = target[target == 1]      # separa las variables\n",
    "    \n",
    "    features_downsampled = pd.concat([features_0.sample(frac=fraction, random_state=random_state)] + [features_1])\n",
    "    target_downsampled = pd.concat([target_0.sample(frac=fraction, random_state=random_state)] + [target_1])      # extrae los valores escasos\n",
    "    \n",
    "    # aleatoriza los nuevos datos\n",
    "    features_downsampled, target_downsampled = shuffle(features_downsampled, target_downsampled, random_state=random_state)\n",
    "    \n",
    "    return features_downsampled, target_downsampled"
   ]
  },
  {
   "attachments": {},
   "cell_type": "markdown",
   "metadata": {},
   "source": [
    "Recordando que la proporción era de 80 - 20, una fracción de 1/4 (0.25) debería ser suficiente para equilibrar las clases:"
   ]
  },
  {
   "cell_type": "code",
   "execution_count": 149,
   "metadata": {},
   "outputs": [
    {
     "data": {
      "text/plain": [
       "1    0.501664\n",
       "0    0.498336\n",
       "Name: exited, dtype: float64"
      ]
     },
     "execution_count": 149,
     "metadata": {},
     "output_type": "execute_result"
    }
   ],
   "source": [
    "features_downsampled, target_downsampled = downsample(features_train, target_train, 0.25)\n",
    "\n",
    "target_downsampled.value_counts(normalize=True)"
   ]
  },
  {
   "attachments": {},
   "cell_type": "markdown",
   "metadata": {},
   "source": [
    "Ahora podemos probar los modelos con estas nuevas muestras."
   ]
  },
  {
   "attachments": {},
   "cell_type": "markdown",
   "metadata": {},
   "source": [
    "### Árbol de decisión con submuestreo"
   ]
  },
  {
   "cell_type": "code",
   "execution_count": 150,
   "metadata": {},
   "outputs": [],
   "source": [
    "tree_model_down = DecisionTreeClassifier(random_state=random_state) # instancia el modelo"
   ]
  },
  {
   "cell_type": "code",
   "execution_count": 152,
   "metadata": {},
   "outputs": [
    {
     "data": {
      "text/plain": [
       "{'max_depth': 6}"
      ]
     },
     "execution_count": 152,
     "metadata": {},
     "output_type": "execute_result"
    }
   ],
   "source": [
    "param_grid_tree = {\n",
    "    'max_depth': range(1, 16)\n",
    "}\n",
    "\n",
    "grid_search = GridSearchCV(estimator=tree_model_down, param_grid=param_grid_tree, cv=3, scoring='f1')\n",
    "grid_search.fit(features_downsampled, target_downsampled)\n",
    "\n",
    "best_param_tree_down = grid_search.best_params_\n",
    "best_param_tree_down"
   ]
  },
  {
   "attachments": {},
   "cell_type": "markdown",
   "metadata": {},
   "source": [
    "Con este hiperparámetro, obtendremos las métricas faltantes:"
   ]
  },
  {
   "cell_type": "code",
   "execution_count": 158,
   "metadata": {},
   "outputs": [
    {
     "name": "stdout",
     "output_type": "stream",
     "text": [
      "Métricas del árbol de decisión con submuestreo\n",
      "F1 Score: 0.5432558139534884\n",
      "Precision: 0.43647234678624813\n",
      "Recall: 0.7192118226600985\n",
      "ROC-AUC: 0.8174172234549509\n",
      "---------------------------------------------------------------\n"
     ]
    }
   ],
   "source": [
    "# Modelo de árbol de decisión con submuestra óptimo \n",
    "best_tree_model_down = DecisionTreeClassifier( \n",
    "    max_depth=best_param_tree_down['max_depth'], \n",
    "    random_state=random_state\n",
    ")\n",
    "best_tree_model_down.fit(features_downsampled, target_downsampled)\n",
    "predicted_valid = best_tree_model_down.predict(features_valid)\n",
    "print('Métricas del árbol de decisión con submuestreo')\n",
    "\n",
    "# F1 Score\n",
    "print('F1 Score:', f1_score(target_valid, predicted_valid))\n",
    "\n",
    "# Precision\n",
    "print('Precision:', precision_score(target_valid, predicted_valid))\n",
    "\n",
    "# Recall\n",
    "print('Recall:', recall_score(target_valid, predicted_valid))\n",
    "\n",
    "# AUC-ROC\n",
    "probabilities_valid = best_tree_model_down.predict_proba(features_valid)\n",
    "probabilities_one_valid = probabilities_valid[:,1]\n",
    "print('ROC-AUC:', roc_auc_score(target_valid, probabilities_one_valid))\n",
    "print('---------------------------------------------------------------')"
   ]
  },
  {
   "attachments": {},
   "cell_type": "markdown",
   "metadata": {},
   "source": [
    "El valor de F1 no es lo suficientemente alto aunque muestre mejora comparado al modelo sin tratar. Incluso el ROC-AUC muestra un retroceso.\n",
    "\n",
    "Tanto *Recall* como *Precision* mostraron un retroceso en sus valores, lo cual no ayuda a este método de tratamiento."
   ]
  },
  {
   "attachments": {},
   "cell_type": "markdown",
   "metadata": {},
   "source": [
    "### Bosque aleatorio con submuestreo"
   ]
  },
  {
   "cell_type": "code",
   "execution_count": 154,
   "metadata": {},
   "outputs": [],
   "source": [
    "forest_model_down = RandomForestClassifier(random_state=random_state)"
   ]
  },
  {
   "cell_type": "code",
   "execution_count": 155,
   "metadata": {},
   "outputs": [
    {
     "data": {
      "text/plain": [
       "{'max_depth': 10, 'n_estimators': 60}"
      ]
     },
     "execution_count": 155,
     "metadata": {},
     "output_type": "execute_result"
    }
   ],
   "source": [
    "param_grid_forest = {\n",
    "    'n_estimators': range(10, 101, 10),\n",
    "    'max_depth': range(5, 16)\n",
    "}\n",
    "\n",
    "grid_search = GridSearchCV(estimator=forest_model_down, param_grid=param_grid_forest, cv=3, scoring='f1')\n",
    "grid_search.fit(features_downsampled, target_downsampled)\n",
    "\n",
    "best_param_forest_down = grid_search.best_params_\n",
    "best_param_forest_down"
   ]
  },
  {
   "attachments": {},
   "cell_type": "markdown",
   "metadata": {},
   "source": [
    "Ahora obtendremos las demás métricas:"
   ]
  },
  {
   "cell_type": "code",
   "execution_count": 159,
   "metadata": {},
   "outputs": [
    {
     "name": "stdout",
     "output_type": "stream",
     "text": [
      "Métricas del bosque aleatorio con submuestreo\n",
      "F1 Score: 0.5678776290630975\n",
      "Precision: 0.4640625\n",
      "Recall: 0.7315270935960592\n",
      "ROC-AUC: 0.8400420913400621\n",
      "---------------------------------------------------------------\n"
     ]
    }
   ],
   "source": [
    "# Modelo de bosque aleatorio con submuestro óptimo \n",
    "best_forest_model_down = RandomForestClassifier(\n",
    "    n_estimators=best_param_forest_down['n_estimators'], \n",
    "    max_depth=best_param_forest_down['max_depth'], \n",
    "    random_state=random_state\n",
    ")\n",
    "best_forest_model_down.fit(features_downsampled, target_downsampled)\n",
    "predicted_valid = best_forest_model_down.predict(features_valid)\n",
    "print('Métricas del bosque aleatorio con submuestreo')\n",
    "\n",
    "# F1 Score\n",
    "print('F1 Score:', f1_score(target_valid, predicted_valid))\n",
    "\n",
    "# Precision\n",
    "print('Precision:', precision_score(target_valid, predicted_valid))\n",
    "\n",
    "# Recall\n",
    "print('Recall:', recall_score(target_valid, predicted_valid))\n",
    "\n",
    "# AUC-ROC\n",
    "probabilities_valid = best_forest_model_down.predict_proba(features_valid)\n",
    "probabilities_one_valid = probabilities_valid[:,1]\n",
    "print('ROC-AUC:', roc_auc_score(target_valid, probabilities_one_valid))\n",
    "print('---------------------------------------------------------------')"
   ]
  },
  {
   "attachments": {},
   "cell_type": "markdown",
   "metadata": {},
   "source": [
    "Aunque tenemos una mejora que casi se aproxima al valor mínimo, F1 Score aún está algo lejos. AUC-ROC no muestra prácticamente cambios en este caso.\n",
    "\n",
    "Tanto *Recall* como *Precision* sufren cambios opuestos, esta vez siendo el que penaliza *Precision* y no *Recall* como en el modelo sin equilibrar."
   ]
  },
  {
   "attachments": {},
   "cell_type": "markdown",
   "metadata": {},
   "source": [
    "### Regresión logística con submuestreo"
   ]
  },
  {
   "cell_type": "code",
   "execution_count": 161,
   "metadata": {},
   "outputs": [],
   "source": [
    "logistic_model_down = LogisticRegression(random_state=random_state)"
   ]
  },
  {
   "cell_type": "code",
   "execution_count": 162,
   "metadata": {},
   "outputs": [
    {
     "data": {
      "text/plain": [
       "{'solver': 'liblinear'}"
      ]
     },
     "execution_count": 162,
     "metadata": {},
     "output_type": "execute_result"
    }
   ],
   "source": [
    "param_grid_logistic = {\n",
    "    'solver': ['liblinear', 'newton-cg', 'lbfgs', 'sag', 'saga']\n",
    "}\n",
    "\n",
    "grid_search = GridSearchCV(estimator=logistic_model_down, param_grid=param_grid_logistic, cv=3, scoring='f1')\n",
    "grid_search.fit(features_downsampled, target_downsampled)\n",
    "\n",
    "best_param_logistic_down = grid_search.best_params_\n",
    "best_param_logistic_down"
   ]
  },
  {
   "attachments": {},
   "cell_type": "markdown",
   "metadata": {},
   "source": [
    "Nuevamente entrenaremos y obtendremos los parámetros faltantes:"
   ]
  },
  {
   "cell_type": "code",
   "execution_count": 163,
   "metadata": {},
   "outputs": [
    {
     "name": "stdout",
     "output_type": "stream",
     "text": [
      "Métricas de la regresión logística con submuestreo\n",
      "F1 Score: 0.4945515507124896\n",
      "Precision: 0.3748411689961881\n",
      "Recall: 0.7266009852216748\n",
      "ROC-AUC: 0.7634927159112682\n",
      "---------------------------------------------------------------\n"
     ]
    }
   ],
   "source": [
    "# Modelo de regresión logística con submuestreo óptimo \n",
    "best_logistic_model_down = LogisticRegression(solver=best_param_logistic_down['solver'], random_state=random_state)\n",
    "best_logistic_model_down.fit(features_downsampled, target_downsampled)\n",
    "predicted_valid = best_logistic_model_down.predict(features_valid)\n",
    "print('Métricas de la regresión logística con submuestreo')\n",
    "\n",
    "# F1 Score\n",
    "print('F1 Score:', f1_score(target_valid, predicted_valid))\n",
    "\n",
    "# Precision\n",
    "print('Precision:', precision_score(target_valid, predicted_valid))\n",
    "\n",
    "# Recall\n",
    "print('Recall:', recall_score(target_valid, predicted_valid))\n",
    "\n",
    "# AUC-ROC\n",
    "probabilities_valid = best_logistic_model_down.predict_proba(features_valid)\n",
    "probabilities_one_valid = probabilities_valid[:,1]\n",
    "print('ROC-AUC:', roc_auc_score(target_valid, probabilities_one_valid))\n",
    "print('---------------------------------------------------------------')"
   ]
  },
  {
   "attachments": {},
   "cell_type": "markdown",
   "metadata": {},
   "source": [
    "Este modelo, aunque mejora su rendimiento, tampoco es suficiente para alcanzar el mínimo solicitado. El ROC-AUC se mantiene y tenemos cambios en los valores de *Recall* y *Precision* de formas opuestas. \n",
    "\n",
    "Por ahora, hemos agotado las técnicas de mejora del problema de desbalance."
   ]
  },
  {
   "attachments": {},
   "cell_type": "markdown",
   "metadata": {},
   "source": [
    "### Síntesis y comparación de métricas"
   ]
  },
  {
   "attachments": {},
   "cell_type": "markdown",
   "metadata": {},
   "source": [
    "Sintetizaremos lo encontrado con el proceso de submuestreo en un cuadro comparativo de valores F1:"
   ]
  },
  {
   "attachments": {},
   "cell_type": "markdown",
   "metadata": {},
   "source": [
    "**F1 Score**\n",
    "\n",
    "|   Modelo   |  Desbalance | Submuestreo  |  Efecto final |\n",
    "| ----------- | -------- | ---------- | -------------- |\n",
    "| ``DT`` |      0.48 |      **0.54** |      Mejora |\n",
    "| ``RF`` |      0.51 |      **0.57** |      Mejora |\n",
    "| ``LR`` |      0.26 |      **0.49**  |      Mejora |"
   ]
  },
  {
   "attachments": {},
   "cell_type": "markdown",
   "metadata": {},
   "source": [
    "## Comparación final de métodos y modelos"
   ]
  },
  {
   "attachments": {},
   "cell_type": "markdown",
   "metadata": {},
   "source": [
    "Hemos construido y entrenado modelos para cada uno de los tratamientos del desbalance de clases, y resumiremos los hallazgos en un cuadro de resumen de valores F1, la métrica determinante:"
   ]
  },
  {
   "attachments": {},
   "cell_type": "markdown",
   "metadata": {},
   "source": [
    "**F1 Score**\n",
    "\n",
    "|   Modelo   |  Desbalance | Balance | Sobremuestreo  |  Submuestreo |\n",
    "| ---------- | ---------- | ------- | ---------- | -------------- |\n",
    "| ``DT``    |      0.48    | 0.54      |  0.46   |  0.54     |\n",
    "| ``RF``    |      0.51    | **0.59**  |  0.56   |  0.57     |\n",
    "| ``LR``    |      0.26    | 0.50      |  0.49   |  0.49     |"
   ]
  },
  {
   "attachments": {},
   "cell_type": "markdown",
   "metadata": {},
   "source": [
    "**Conclusiones finales del apartado**"
   ]
  },
  {
   "attachments": {},
   "cell_type": "markdown",
   "metadata": {},
   "source": [
    "Luego de un extenso trabajo por tratar el problema de desbalance de nuestra variable objetivo, probando tres metodologías para cada modelo (ajuste de clase, sobremuestreo y submuestreo) y escogiendo sus hiperparámetros optimizados (mediante *GridSearchCV*), el mejor modelo que logramos entrenar resultó el de **Bosque aleatorio con el ajuste de clase** hacia balanceado, dándonos un valor F1 de 0.59, el valor exacto requerido como mínimo para aprobar el desempeño del modelo. "
   ]
  },
  {
   "attachments": {},
   "cell_type": "markdown",
   "metadata": {},
   "source": [
    "# Prueba final del modelo"
   ]
  },
  {
   "attachments": {},
   "cell_type": "markdown",
   "metadata": {},
   "source": [
    "Una vez escogido el modelo, como paso final probaremos el rendimiento del modelo con el test de prueba para medir su rendimiento frente a datos nuevos. Recordemos que nuestro modelo final es de Bosque aleatorio y sus hiperparámetros óptimos están guardados en la variable ``best_param_forest_bal``."
   ]
  },
  {
   "cell_type": "code",
   "execution_count": 164,
   "metadata": {},
   "outputs": [
    {
     "name": "stdout",
     "output_type": "stream",
     "text": [
      "Métricas del bosque aleatorio óptimo\n",
      "F1 Score: 0.6343115124153499\n",
      "Precision: 0.6095444685466378\n",
      "Recall: 0.6611764705882353\n",
      "ROC-AUC: 0.8648112044817928\n"
     ]
    }
   ],
   "source": [
    "best_model = RandomForestClassifier(\n",
    "    class_weight='balanced',\n",
    "    max_depth=best_param_forest_bal['max_depth'],\n",
    "    n_estimators=best_param_forest_bal['n_estimators'],\n",
    "    random_state=random_state\n",
    ")\n",
    "best_model.fit(features_train, target_train)\n",
    "predicted_test = best_model.predict(features_test)\n",
    "print('Métricas del bosque aleatorio óptimo')\n",
    "\n",
    "# F1 Score\n",
    "print('F1 Score:', f1_score(target_test, predicted_test))\n",
    "\n",
    "# Precision\n",
    "print('Precision:', precision_score(target_test, predicted_test))\n",
    "\n",
    "# Recall\n",
    "print('Recall:', recall_score(target_test, predicted_test))\n",
    "\n",
    "# AUC-ROC\n",
    "probabilities_test = best_model.predict_proba(features_test)\n",
    "probabilities_one_test = probabilities_test[:,1]\n",
    "print('ROC-AUC:', roc_auc_score(target_test, probabilities_one_test))\n"
   ]
  },
  {
   "attachments": {},
   "cell_type": "markdown",
   "metadata": {},
   "source": [
    "Nuestro modelo final tiene un puntaje F1 Score que satisface el umbral mínimo, con un valor de 0.63 y un ROC-AUC de 0.86, el cual también es bastante alto. \n",
    "\n",
    "Por otro lado, observamos que las métricas de *Recall* y *Precision* son bastante parejas, aunque este modelo en especial es mejor reconociendo los verdaderos valores positivos de la muestra (reduciendo los falsos negativos) y un poco menos mejor prediciendo correctamente clases positivas, aunque eso no implica que *Precision* sea realmente bajo.\n",
    "\n",
    "En conclusión, nuestro modelo ha superado las pruebas."
   ]
  },
  {
   "attachments": {},
   "cell_type": "markdown",
   "metadata": {},
   "source": [
    "# Extra: prueba de cordura"
   ]
  },
  {
   "attachments": {},
   "cell_type": "markdown",
   "metadata": {},
   "source": [
    "Como complemento y extra a las pruebas realizadas, mostraremos el gráfico de la curva ROC para observar el desempeño del modelo frente a un modelo aleatorio, y a su vez compararemos el valor F1 de una predicción aleatoria como prueba de cordura para relativizar la capacidad del modelo."
   ]
  },
  {
   "cell_type": "code",
   "execution_count": 171,
   "metadata": {},
   "outputs": [
    {
     "data": {
      "image/png": "[encoded data removed]",
      "text/plain": [
       "<Figure size 800x800 with 1 Axes>"
      ]
     },
     "metadata": {},
     "output_type": "display_data"
    },
    {
     "name": "stdout",
     "output_type": "stream",
     "text": [
      "\n",
      "ROC-AUC: 0.8648112044817928\n"
     ]
    }
   ],
   "source": [
    "# Gráfico de la curva ROC\n",
    "fpr, tpr, thresholds = roc_curve(target_test, probabilities_one_test)\n",
    "plt.figure(figsize=(8,8))\n",
    "plt.plot(fpr, tpr, label='Modelo óptimo')\n",
    "plt.plot([0, 1], [0, 1], linestyle='--', label='Modelo aleatorio')\n",
    "plt.legend(loc = 'lower right')\n",
    "plt.xlabel('Tasa de falsos positivos')\n",
    "plt.ylabel('Tasa de verdaderos positivos')\n",
    "plt.ylim([0.0, 1.05])\n",
    "plt.xlim([0.0, 1.05])\n",
    "plt.title('Curva ROC del Bosque Aleatorio óptimo')\n",
    "plt.show()\n",
    "print()\n",
    "print('ROC-AUC:', roc_auc_score(target_test, probabilities_one_test))"
   ]
  },
  {
   "attachments": {},
   "cell_type": "markdown",
   "metadata": {},
   "source": [
    "Recordemos que el valor de ROC-AUC es bastante elevado y razonable en nuestro modelo y este parece comportarse de manera corecta frente al modelo aleatorio. Ahora obtendremos el F1 Score de ambos modelos y relativizar el desempeño de nuestro modelo."
   ]
  },
  {
   "cell_type": "code",
   "execution_count": 172,
   "metadata": {},
   "outputs": [],
   "source": [
    "np.random.seed(random_state) # semilla aleatoria"
   ]
  },
  {
   "cell_type": "code",
   "execution_count": 173,
   "metadata": {},
   "outputs": [],
   "source": [
    "sanity_check_pred = np.random.choice([0, 1], size=len(target_test))  # array de ceros y unos con longitud del conjunto de prueba"
   ]
  },
  {
   "cell_type": "code",
   "execution_count": 174,
   "metadata": {},
   "outputs": [
    {
     "name": "stdout",
     "output_type": "stream",
     "text": [
      "F1 score del modelo de Bosque aleatorio óptimo: 0.6343115124153499\n",
      "F1 score del modelo aleatorio: 0.3048694424841214\n"
     ]
    }
   ],
   "source": [
    "print(f\"F1 score del modelo de Bosque aleatorio óptimo: {f1_score(target_test, predicted_test)}\")\n",
    "print(f\"F1 score del modelo aleatorio: {f1_score(target_test, sanity_check_pred)}\")"
   ]
  },
  {
   "attachments": {},
   "cell_type": "markdown",
   "metadata": {},
   "source": [
    "Bajo esta métrica, es evidente la superioridad del modelo final escogido y utilizado. En conclusión, nuestro modelo de bosque aleatorio es superior que otros modelos e incluso que la aleatoriedad."
   ]
  },
  {
   "attachments": {},
   "cell_type": "markdown",
   "metadata": {},
   "source": [
    "# Conclusiones"
   ]
  },
  {
   "attachments": {},
   "cell_type": "markdown",
   "metadata": {},
   "source": [
    "**Preprocesamiento de datos**"
   ]
  },
  {
   "attachments": {},
   "cell_type": "markdown",
   "metadata": {},
   "source": [
    "* En la primera exploración detectamos problemas referidos a formatos incorrectos de columnas, variables prescindibles no relacionadas a nuestra variable objetivo, y (el más importante) valores ausentes en ``tenure``.\n",
    "* Se corrigieron los dos problemas iniciales de forma rápida. Para el caso de los valores ausentes, decidimos utilizar una regresión lineal para tratarlos, discretizando sus valores y observando que la distribución de nuestra variable ``tenure`` había variado a causa de la imputación. Este fenómeno ocurre de igual forma utilizando otros métodos como agrupación o imputación directa por mediana.\n",
    "* En el proceso, convertimos a dummies a las variables categóricas del modelo, utilizando la metodología One-Hot."
   ]
  },
  {
   "attachments": {},
   "cell_type": "markdown",
   "metadata": {},
   "source": [
    "**Análisis exploratorio, estandarización y segmentación de datos**"
   ]
  },
  {
   "attachments": {},
   "cell_type": "markdown",
   "metadata": {},
   "source": [
    "* En el análisis exploratorio encontramos que tenemos variables potencialmente útiles para predecir a nuestra variable objetivo, tanto numéricas como categóricas, así como otras variables que no parecían cambiar significativamente para los valores de la variable objetivo.\n",
    "* Encontramos valores atípicos, pero dado el posible desbalance de clases y con el objetivo de preservar la mayor información posible, decidimos no tratarlos.\n",
    "* Estandarizamos las columnas numéricas y dividimos el dataset en tres conjuntos siguiendo la proporción 3:1:1, obteniendo conjuntos de entrenamiento, validación y testing."
   ]
  },
  {
   "attachments": {},
   "cell_type": "markdown",
   "metadata": {},
   "source": [
    "**Modelamiento sin y con equilibrio de clases**"
   ]
  },
  {
   "attachments": {},
   "cell_type": "markdown",
   "metadata": {},
   "source": [
    "* Para optimizar los hiperparámetros de los diferentes modelos, utilizamos *GridSearchCV* por su facilidad y practicidad de uso.\n",
    "* Primero empezamos el modelamiento sin tener en cuenta el desequilibrio de clases, entrenando modelos de árbol de decisión, bosque aleatorio y regresión logística. En este caso, no logramos obtener el puntaje mínimo solicitado en ningún modelo.\n",
    "* Luego comprobamos la existencia del desbalance de clases, por lo cual decidimos utilizar tres metodologías para tratar este problema y entrenar nuevamente los tres modelos. El que nos dejó el mejor resultado fue el bosque aleatorio con el ajuste de su hiperparámetro ``class_weight``, alcanzando un F1 Score suficiente para pasar esta etapa.\n",
    "* Finalmente, con el modelo final, realizamos una última prueba, esta vez utilizando el dataset de testing, el cual nos dio un buen puntaje F1. Para comparar, graficamos su curva ROC e hicimos una prueba de cordura, de la cual el modelo resultó ser el mejor de todos, siendo este el recomendado para pronosticar y anticipar la deserción de clientes de banco."
   ]
  },
  {
   "attachments": {},
   "cell_type": "markdown",
   "metadata": {},
   "source": [
    "**Recomendaciones**"
   ]
  },
  {
   "attachments": {},
   "cell_type": "markdown",
   "metadata": {},
   "source": [
    "Recordemos limitaciones importantes del proyecto y daremos alguna recomendaciones al respecto:\n",
    "* No se tuvo contacto con el área respectiva acerca de la naturaleza y origen de los valores ausentes de ``tenure``. Tampoco parece que el método utilizado para tratarlos sea el adecuado y esté introduciendo sesgos en las demás etapas del proceso. Se recomienda utilizar técnicas más avanzadas para tratar este problema o determinar la causa de este problema.\n",
    "* En este proyecto, utilizamos como métrica determinante a F1 Score. El uso de esta métrica debe ser analizada con cautela dado que resulta de un promedio (armónico) entre *Recall* y *Precision*. Es posible que, dependiendo de las políticas y modelo de negocio aplicado, se pueda priorizar una de estas métricas antes que el promedio en sí.\n",
    "* Utilizamos solo tres modelos \"clásicos\" de clasificación: *Decision Tree*, *Random Forest* y *Logistic Regression*. Es posible que obtengamos rendimientos distintos con otros modelos de clasificación, siendo recomendable probarlos.\n",
    "* Teniendo en cuenta todo esto, el modelo recomendado por el autor es el de *Random Forest* con ajuste de clases. El despliegue y uso del modelo será encargado al área correspondiente y se espera un correcto rendimiento incluso ante nueva información."
   ]
  }
 ],
 "metadata": {
  "kernelspec": {
   "display_name": "Python 3 (ipykernel)",
   "language": "python",
   "name": "python3"
  },
  "language_info": {
   "codemirror_mode": {
    "name": "ipython",
    "version": 3
   },
   "file_extension": ".py",
   "mimetype": "text/x-python",
   "name": "python",
   "nbconvert_exporter": "python",
   "pygments_lexer": "ipython3",
   "version": "3.9.7"
  },
  "toc": {
   "base_numbering": 1,
   "nav_menu": {},
   "number_sections": true,
   "sideBar": true,
   "skip_h1_title": true,
   "title_cell": "Table of Contents",
   "title_sidebar": "Contents",
   "toc_cell": false,
   "toc_position": {},
   "toc_section_display": true,
   "toc_window_display": false
  }
 },
 "nbformat": 4,
 "nbformat_minor": 2
}
