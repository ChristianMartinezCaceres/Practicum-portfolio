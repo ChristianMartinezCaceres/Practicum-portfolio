{
 "cells": [
  {
   "cell_type": "markdown",
   "metadata": {},
   "source": [
    "# ¿Qué vende un coche?\n",
    "\n",
    "Eres un analista en Crankshaft List. Cientos de anuncios gratuitos de vehículos se publican en tu sitio web cada día. Necesitas estudiar los datos recopilados durante los últimos años y determinar qué factores influyen en el precio de un vehículo."
   ]
  },
  {
   "cell_type": "markdown",
   "metadata": {},
   "source": [
    "[Te proporcionamos algunos comentarios para guiar tu pensamiento mientras que completas este proyecto. Sin embargo, asegúrate de eliminar todos los comentarios entre corchetes antes de entregar tu proyecto.]\n",
    "\n",
    "[Antes de sumergirte en el análisis de tus datos, explica los propósitos del proyecto y las acciones que planeas tomar.]\n",
    "\n",
    "[Ten en cuenta que estudiar, modificar y analizar datos es un proceso iterativo. Es normal volver a los pasos anteriores y corregirlos/ampliarlos para hacer posibles nuevos pasos.]"
   ]
  },
  {
   "attachments": {},
   "cell_type": "markdown",
   "metadata": {},
   "source": [
    "# Análisis del precio de los coches"
   ]
  },
  {
   "attachments": {},
   "cell_type": "markdown",
   "metadata": {},
   "source": [
    "# Contenido\n",
    "* [Introducción](#intro)\n",
    "* [Objetivos](#objetivos)\n",
    "* [Etapas](#etapas)\n",
    "* [Descripción de los datos](#descripcion)\n"
   ]
  },
  {
   "attachments": {},
   "cell_type": "markdown",
   "metadata": {},
   "source": [
    "## Introducción <a id='intro'></a>\n",
    "En este proyecto, nuestro trabajo será analizar los datos recopilados durante los últimos sobre anuncios de vehículos para determinar qué factores influyen en el precio de un vehículo. La(s) hipótesis específica(s) será(n) presentada(s) en el cuadro siguiente, y para el desarrollo del análisis se requerirá aplicar las diversas técnicas de preprocesamiento de datos y análisis exploratorio de los datos. Cada espacio de código incluye sus respectivos comentarios y documentación en caso fuera necesario para el adecuado entendimiento de la lógica de desarrollo del proyecto."
   ]
  },
  {
   "attachments": {},
   "cell_type": "markdown",
   "metadata": {},
   "source": [
    "## Objetivos\n",
    "Nuestro objetivo general es probar la siguiente hipótesis:\n",
    "* Determinar qué factor (factores) impactan más sobre el precio de un vehículo\n"
   ]
  },
  {
   "attachments": {},
   "cell_type": "markdown",
   "metadata": {},
   "source": [
    "## Etapas\n",
    "Debido a que no contamos con información sobre la calidad de los datos ni manera de obtener esa información, parte del tratamiento previo de datos y el EDA será realizado mediante el uso de las suposiciones más razonables y coherentes desde el punto de vista del analista. Para lograr eso, seguiremos el siguiente esquema general de análisis para este proyecto:\n",
    "\n",
    "1. Descripción de los datos\n",
    "2. Preprocesamiento de los datos\n",
    "3. Análisis exploratorio de los datos\n",
    "4. Prueba de la hipótesis"
   ]
  },
  {
   "attachments": {},
   "cell_type": "markdown",
   "metadata": {},
   "source": [
    "## Descripción de los datos <a id='descripcion'></a>"
   ]
  },
  {
   "cell_type": "markdown",
   "metadata": {},
   "source": [
    "[Carga las librerías que crees que son necesarias para el proyecto. Es posible que te des cuenta de que necesitas librerías adicionales a medida que avanzas, lo cual es totalmente normal, solo asegúrate de actualizar esta sección cuando lo hagas.]"
   ]
  },
  {
   "cell_type": "code",
   "execution_count": 1,
   "metadata": {},
   "outputs": [],
   "source": [
    "import numpy as np\n",
    "import pandas as pd\n",
    "import matplotlib.pyplot as plt\n",
    "# Cargando las librerías pandas y matplotlib"
   ]
  },
  {
   "cell_type": "markdown",
   "metadata": {},
   "source": [
    "### Cargar datos"
   ]
  },
  {
   "cell_type": "markdown",
   "metadata": {},
   "source": [
    "[Carga los datos del proyecto y mira la información general.]"
   ]
  },
  {
   "cell_type": "code",
   "execution_count": 2,
   "metadata": {},
   "outputs": [],
   "source": [
    "try:\n",
    "    cars = pd.read_csv('vehicles_us.csv')\n",
    "except:\n",
    "    cars = pd.read_csv('/datasets/vehicles_us.csv')\n",
    "\n",
    "# Cargando el archivo en el DataFrame \"cars\""
   ]
  },
  {
   "cell_type": "markdown",
   "metadata": {},
   "source": [
    "### Explorar datos iniciales"
   ]
  },
  {
   "attachments": {},
   "cell_type": "markdown",
   "metadata": {},
   "source": [
    "**Descripción de los datos**\n",
    "El dataset contiene los siguientes campos:\n",
    "- `price`\n",
    "- `model_year`\n",
    "- `model`\n",
    "- `condition`\n",
    "- `cylinders`\n",
    "- `fuel` — gasolina, diesel, etc.\n",
    "- `odometer` — el millaje del vehículo cuando el anuncio fue publicado\n",
    "- `transmission`\n",
    "- `paint_color`\n",
    "- `is_4wd` — si el vehículo tiene tracción a las 4 ruedas (tipo Booleano)\n",
    "- `date_posted` — la fecha en la que el anuncio fue publicado\n",
    "- `days_listed` — desde la publicación hasta que se elimina\n",
    "\n",
    "La documentación respectiva nos deja esta descripción de las columnas. Continuamos con el la parte exploratoria inicial observando la información y una muestra de nuestros datos:\n",
    "[Al comprender los campos, explóralos para familiarizarte con los datos.]"
   ]
  },
  {
   "cell_type": "code",
   "execution_count": 3,
   "metadata": {},
   "outputs": [
    {
     "name": "stdout",
     "output_type": "stream",
     "text": [
      "               price    model_year     cylinders       odometer   is_4wd  \\\n",
      "count   51525.000000  47906.000000  46265.000000   43633.000000  25572.0   \n",
      "mean    12132.464920   2009.750470      6.125235  115553.461738      1.0   \n",
      "std     10040.803015      6.282065      1.660360   65094.611341      0.0   \n",
      "min         1.000000   1908.000000      3.000000       0.000000      1.0   \n",
      "25%      5000.000000   2006.000000      4.000000   70000.000000      1.0   \n",
      "50%      9000.000000   2011.000000      6.000000  113000.000000      1.0   \n",
      "75%     16839.000000   2014.000000      8.000000  155000.000000      1.0   \n",
      "max    375000.000000   2019.000000     12.000000  990000.000000      1.0   \n",
      "\n",
      "       days_listed  \n",
      "count  51525.00000  \n",
      "mean      39.55476  \n",
      "std       28.20427  \n",
      "min        0.00000  \n",
      "25%       19.00000  \n",
      "50%       33.00000  \n",
      "75%       53.00000  \n",
      "max      271.00000  \n",
      "\n",
      "<class 'pandas.core.frame.DataFrame'>\n",
      "RangeIndex: 51525 entries, 0 to 51524\n",
      "Data columns (total 13 columns):\n",
      " #   Column        Non-Null Count  Dtype  \n",
      "---  ------        --------------  -----  \n",
      " 0   price         51525 non-null  int64  \n",
      " 1   model_year    47906 non-null  float64\n",
      " 2   model         51525 non-null  object \n",
      " 3   condition     51525 non-null  object \n",
      " 4   cylinders     46265 non-null  float64\n",
      " 5   fuel          51525 non-null  object \n",
      " 6   odometer      43633 non-null  float64\n",
      " 7   transmission  51525 non-null  object \n",
      " 8   type          51525 non-null  object \n",
      " 9   paint_color   42258 non-null  object \n",
      " 10  is_4wd        25572 non-null  float64\n",
      " 11  date_posted   51525 non-null  object \n",
      " 12  days_listed   51525 non-null  int64  \n",
      "dtypes: float64(4), int64(2), object(7)\n",
      "memory usage: 5.1+ MB\n"
     ]
    }
   ],
   "source": [
    "print(cars.describe())\n",
    "print()\n",
    "cars.info()\n",
    "# imprime la información general/resumida sobre el DataFrame"
   ]
  },
  {
   "cell_type": "code",
   "execution_count": 4,
   "metadata": {},
   "outputs": [
    {
     "data": {
      "text/html": [
       "<div>\n",
       "<style scoped>\n",
       "    .dataframe tbody tr th:only-of-type {\n",
       "        vertical-align: middle;\n",
       "    }\n",
       "\n",
       "    .dataframe tbody tr th {\n",
       "        vertical-align: top;\n",
       "    }\n",
       "\n",
       "    .dataframe thead th {\n",
       "        text-align: right;\n",
       "    }\n",
       "</style>\n",
       "<table border=\"1\" class=\"dataframe\">\n",
       "  <thead>\n",
       "    <tr style=\"text-align: right;\">\n",
       "      <th></th>\n",
       "      <th>price</th>\n",
       "      <th>model_year</th>\n",
       "      <th>model</th>\n",
       "      <th>condition</th>\n",
       "      <th>cylinders</th>\n",
       "      <th>fuel</th>\n",
       "      <th>odometer</th>\n",
       "      <th>transmission</th>\n",
       "      <th>type</th>\n",
       "      <th>paint_color</th>\n",
       "      <th>is_4wd</th>\n",
       "      <th>date_posted</th>\n",
       "      <th>days_listed</th>\n",
       "    </tr>\n",
       "  </thead>\n",
       "  <tbody>\n",
       "    <tr>\n",
       "      <th>0</th>\n",
       "      <td>9400</td>\n",
       "      <td>2011.0</td>\n",
       "      <td>bmw x5</td>\n",
       "      <td>good</td>\n",
       "      <td>6.0</td>\n",
       "      <td>gas</td>\n",
       "      <td>145000.0</td>\n",
       "      <td>automatic</td>\n",
       "      <td>SUV</td>\n",
       "      <td>NaN</td>\n",
       "      <td>1.0</td>\n",
       "      <td>2018-06-23</td>\n",
       "      <td>19</td>\n",
       "    </tr>\n",
       "    <tr>\n",
       "      <th>1</th>\n",
       "      <td>25500</td>\n",
       "      <td>NaN</td>\n",
       "      <td>ford f-150</td>\n",
       "      <td>good</td>\n",
       "      <td>6.0</td>\n",
       "      <td>gas</td>\n",
       "      <td>88705.0</td>\n",
       "      <td>automatic</td>\n",
       "      <td>pickup</td>\n",
       "      <td>white</td>\n",
       "      <td>1.0</td>\n",
       "      <td>2018-10-19</td>\n",
       "      <td>50</td>\n",
       "    </tr>\n",
       "    <tr>\n",
       "      <th>2</th>\n",
       "      <td>5500</td>\n",
       "      <td>2013.0</td>\n",
       "      <td>hyundai sonata</td>\n",
       "      <td>like new</td>\n",
       "      <td>4.0</td>\n",
       "      <td>gas</td>\n",
       "      <td>110000.0</td>\n",
       "      <td>automatic</td>\n",
       "      <td>sedan</td>\n",
       "      <td>red</td>\n",
       "      <td>NaN</td>\n",
       "      <td>2019-02-07</td>\n",
       "      <td>79</td>\n",
       "    </tr>\n",
       "    <tr>\n",
       "      <th>3</th>\n",
       "      <td>1500</td>\n",
       "      <td>2003.0</td>\n",
       "      <td>ford f-150</td>\n",
       "      <td>fair</td>\n",
       "      <td>8.0</td>\n",
       "      <td>gas</td>\n",
       "      <td>NaN</td>\n",
       "      <td>automatic</td>\n",
       "      <td>pickup</td>\n",
       "      <td>NaN</td>\n",
       "      <td>NaN</td>\n",
       "      <td>2019-03-22</td>\n",
       "      <td>9</td>\n",
       "    </tr>\n",
       "    <tr>\n",
       "      <th>4</th>\n",
       "      <td>14900</td>\n",
       "      <td>2017.0</td>\n",
       "      <td>chrysler 200</td>\n",
       "      <td>excellent</td>\n",
       "      <td>4.0</td>\n",
       "      <td>gas</td>\n",
       "      <td>80903.0</td>\n",
       "      <td>automatic</td>\n",
       "      <td>sedan</td>\n",
       "      <td>black</td>\n",
       "      <td>NaN</td>\n",
       "      <td>2019-04-02</td>\n",
       "      <td>28</td>\n",
       "    </tr>\n",
       "    <tr>\n",
       "      <th>5</th>\n",
       "      <td>14990</td>\n",
       "      <td>2014.0</td>\n",
       "      <td>chrysler 300</td>\n",
       "      <td>excellent</td>\n",
       "      <td>6.0</td>\n",
       "      <td>gas</td>\n",
       "      <td>57954.0</td>\n",
       "      <td>automatic</td>\n",
       "      <td>sedan</td>\n",
       "      <td>black</td>\n",
       "      <td>1.0</td>\n",
       "      <td>2018-06-20</td>\n",
       "      <td>15</td>\n",
       "    </tr>\n",
       "    <tr>\n",
       "      <th>6</th>\n",
       "      <td>12990</td>\n",
       "      <td>2015.0</td>\n",
       "      <td>toyota camry</td>\n",
       "      <td>excellent</td>\n",
       "      <td>4.0</td>\n",
       "      <td>gas</td>\n",
       "      <td>79212.0</td>\n",
       "      <td>automatic</td>\n",
       "      <td>sedan</td>\n",
       "      <td>white</td>\n",
       "      <td>NaN</td>\n",
       "      <td>2018-12-27</td>\n",
       "      <td>73</td>\n",
       "    </tr>\n",
       "    <tr>\n",
       "      <th>7</th>\n",
       "      <td>15990</td>\n",
       "      <td>2013.0</td>\n",
       "      <td>honda pilot</td>\n",
       "      <td>excellent</td>\n",
       "      <td>6.0</td>\n",
       "      <td>gas</td>\n",
       "      <td>109473.0</td>\n",
       "      <td>automatic</td>\n",
       "      <td>SUV</td>\n",
       "      <td>black</td>\n",
       "      <td>1.0</td>\n",
       "      <td>2019-01-07</td>\n",
       "      <td>68</td>\n",
       "    </tr>\n",
       "    <tr>\n",
       "      <th>8</th>\n",
       "      <td>11500</td>\n",
       "      <td>2012.0</td>\n",
       "      <td>kia sorento</td>\n",
       "      <td>excellent</td>\n",
       "      <td>4.0</td>\n",
       "      <td>gas</td>\n",
       "      <td>104174.0</td>\n",
       "      <td>automatic</td>\n",
       "      <td>SUV</td>\n",
       "      <td>NaN</td>\n",
       "      <td>1.0</td>\n",
       "      <td>2018-07-16</td>\n",
       "      <td>19</td>\n",
       "    </tr>\n",
       "    <tr>\n",
       "      <th>9</th>\n",
       "      <td>9200</td>\n",
       "      <td>2008.0</td>\n",
       "      <td>honda pilot</td>\n",
       "      <td>excellent</td>\n",
       "      <td>NaN</td>\n",
       "      <td>gas</td>\n",
       "      <td>147191.0</td>\n",
       "      <td>automatic</td>\n",
       "      <td>SUV</td>\n",
       "      <td>blue</td>\n",
       "      <td>1.0</td>\n",
       "      <td>2019-02-15</td>\n",
       "      <td>17</td>\n",
       "    </tr>\n",
       "  </tbody>\n",
       "</table>\n",
       "</div>"
      ],
      "text/plain": [
       "   price  model_year           model  condition  cylinders fuel  odometer  \\\n",
       "0   9400      2011.0          bmw x5       good        6.0  gas  145000.0   \n",
       "1  25500         NaN      ford f-150       good        6.0  gas   88705.0   \n",
       "2   5500      2013.0  hyundai sonata   like new        4.0  gas  110000.0   \n",
       "3   1500      2003.0      ford f-150       fair        8.0  gas       NaN   \n",
       "4  14900      2017.0    chrysler 200  excellent        4.0  gas   80903.0   \n",
       "5  14990      2014.0    chrysler 300  excellent        6.0  gas   57954.0   \n",
       "6  12990      2015.0    toyota camry  excellent        4.0  gas   79212.0   \n",
       "7  15990      2013.0     honda pilot  excellent        6.0  gas  109473.0   \n",
       "8  11500      2012.0     kia sorento  excellent        4.0  gas  104174.0   \n",
       "9   9200      2008.0     honda pilot  excellent        NaN  gas  147191.0   \n",
       "\n",
       "  transmission    type paint_color  is_4wd date_posted  days_listed  \n",
       "0    automatic     SUV         NaN     1.0  2018-06-23           19  \n",
       "1    automatic  pickup       white     1.0  2018-10-19           50  \n",
       "2    automatic   sedan         red     NaN  2019-02-07           79  \n",
       "3    automatic  pickup         NaN     NaN  2019-03-22            9  \n",
       "4    automatic   sedan       black     NaN  2019-04-02           28  \n",
       "5    automatic   sedan       black     1.0  2018-06-20           15  \n",
       "6    automatic   sedan       white     NaN  2018-12-27           73  \n",
       "7    automatic     SUV       black     1.0  2019-01-07           68  \n",
       "8    automatic     SUV         NaN     1.0  2018-07-16           19  \n",
       "9    automatic     SUV        blue     1.0  2019-02-15           17  "
      ]
     },
     "execution_count": 4,
     "metadata": {},
     "output_type": "execute_result"
    }
   ],
   "source": [
    "cars.head(10)\n",
    "# imprimir una muestra de datos"
   ]
  },
  {
   "attachments": {},
   "cell_type": "markdown",
   "metadata": {},
   "source": [
    "Del primer cuadro, podemos resaltar lo siguiente: \n",
    "* `price` tiene un valor mínimo de \"1\", su media y mediana están algo alejados. Posiblemente tengamos valores atípicos en esta columna.\n",
    "* `model_year` está registrado como tipo flotante y su recuento varía respecto al total de filas. En este caso, tenemos valores ausentes.\n",
    "* `model` no parece presentar problemas explícitos.\n",
    "* `condition` no parece presentar problemas.\n",
    "* `cylinders` es de tipo flotante y también tiene valores ausentes.\n",
    "* `fuel` no parece presentar problemas.\n",
    "* `odometer` es de tipo flotante, lo cual podría tener sentido al principio, pero luego notamos en la muestra que los datos no precisan de tener decimales. Esta cuestión será abordada pronto. También presenta valores ausentes.\n",
    "* `transmission` no parece tener problemas.\n",
    "* `type` no parece tener problemas más allá del uso de mayúsculas en algunos casos.\n",
    "* `paint_color` tiene valores ausentes.\n",
    "* `is_4wd` está registrado como valores flotantes, lo cual no es adecuado. Asimismo, tiene muchos valores ausentes y en su descripción parece solo existir el valor \"1\". En la muestra notamos que probablemente los valores \"0\" hayan sido registrados incorrectamente como valores ausentes.\n",
    "* `date_posted` está registrado como tipo objeto, cuando en realidad es necesario que sea de tipo fecha para facilitar posibles análisis posteriores.\n",
    "* `days_listed` no parece tener problemas. \n",
    "\n",
    "Por ahora, parece que nuestros valores ausentes tienen una ocurrencia aleatoria. De todas formas tomaremos cartas en el asunto: analizaremos estos problemas un poco más a detalle.  \n",
    "\n",
    "[Describe lo que observas en la información general y la muestra de datos impresos. ¿Existe algún problema que pueda necesitar investigación y cambios adicionales?]"
   ]
  },
  {
   "attachments": {},
   "cell_type": "markdown",
   "metadata": {},
   "source": [
    "Dividiremos a nuestros datos para analizarlos por categoría: datos cuantitativos y datos categóricos.\n",
    "Ya que en la primera parte del análisis ya obtuvimos algunas observaciones sobre los datos cuantitativos y sus distribuciones, analizaremos en este caso los datos categóricos, que son `model`, `condition`, `cylinders`, `fuel`, `transmission`, `type`, `paint_color` y `is_4wd`.\n",
    "\n",
    "Al ser datos categóricos, una manera de analizar si sus valores están bien es obtener sus valores únicos. Automatizaremos este proceso:\n",
    "\n",
    "[¿Hay columnas con tipos de datos inapropiados?]"
   ]
  },
  {
   "cell_type": "code",
   "execution_count": 5,
   "metadata": {},
   "outputs": [
    {
     "name": "stdout",
     "output_type": "stream",
     "text": [
      "Valores únicos en la columna 'model':\n",
      "['bmw x5' 'ford f-150' 'hyundai sonata' 'chrysler 200' 'chrysler 300'\n",
      " 'toyota camry' 'honda pilot' 'kia sorento' 'chevrolet silverado 1500'\n",
      " 'honda accord' 'ram 1500' 'gmc yukon' 'jeep cherokee'\n",
      " 'chevrolet traverse' 'hyundai elantra' 'chevrolet tahoe' 'toyota rav4'\n",
      " 'chevrolet silverado' 'jeep wrangler' 'chevrolet malibu' 'ford fusion se'\n",
      " 'chevrolet impala' 'chevrolet corvette' 'jeep liberty' 'toyota camry le'\n",
      " 'nissan altima' 'subaru outback' 'toyota highlander' 'dodge charger'\n",
      " 'toyota tacoma' 'chevrolet equinox' 'nissan rogue'\n",
      " 'mercedes-benz benze sprinter 2500' 'honda cr-v' 'jeep grand cherokee'\n",
      " 'toyota 4runner' 'ford focus' 'honda civic' 'kia soul'\n",
      " 'chevrolet colorado' 'ford f150 supercrew cab xlt'\n",
      " 'chevrolet camaro lt coupe 2d' 'chevrolet cruze' 'ford mustang'\n",
      " 'chevrolet silverado 3500hd' 'nissan frontier crew cab sv'\n",
      " 'subaru impreza' 'jeep grand cherokee laredo' 'nissan versa'\n",
      " 'ford f-250 sd' 'chevrolet silverado 1500 crew' 'ford f250 super duty'\n",
      " 'chevrolet camaro' 'ford mustang gt coupe 2d' 'subaru forester'\n",
      " 'ford explorer' 'ford f-350 sd' 'ford edge' 'nissan maxima' 'ford f-250'\n",
      " 'nissan sentra' 'ford f150' 'chevrolet suburban' 'ford expedition'\n",
      " 'dodge grand caravan' 'ford taurus' 'acura tl' 'ford f350 super duty'\n",
      " 'ford ranger' 'gmc sierra' 'hyundai santa fe' 'ford escape'\n",
      " 'gmc sierra 2500hd' 'honda civic lx' 'gmc sierra 1500' 'honda odyssey'\n",
      " 'cadillac escalade' 'volkswagen jetta' 'toyota corolla'\n",
      " 'chrysler town & country' 'volkswagen passat' 'toyota prius'\n",
      " 'buick enclave' 'ford fusion' 'toyota tundra' 'ram 3500' 'ram 2500'\n",
      " 'nissan frontier' 'chevrolet silverado 2500hd' 'jeep wrangler unlimited'\n",
      " 'ford f-250 super duty' 'gmc acadia' 'toyota sienna' 'ford focus se'\n",
      " 'ford f250' 'dodge dakota' 'ford f350' 'chevrolet trailblazer'\n",
      " 'ford econoline' 'nissan murano']\n",
      "\n",
      "Valores únicos en la columna 'condition':\n",
      "['good' 'like new' 'fair' 'excellent' 'salvage' 'new']\n",
      "\n",
      "Valores únicos en la columna 'cylinders':\n",
      "[ 6.  4.  8. nan  5. 10.  3. 12.]\n",
      "\n",
      "Valores únicos en la columna 'fuel':\n",
      "['gas' 'diesel' 'other' 'hybrid' 'electric']\n",
      "\n",
      "Valores únicos en la columna 'transmission':\n",
      "['automatic' 'manual' 'other']\n",
      "\n",
      "Valores únicos en la columna 'type':\n",
      "['SUV' 'pickup' 'sedan' 'truck' 'coupe' 'van' 'convertible' 'hatchback'\n",
      " 'wagon' 'mini-van' 'other' 'offroad' 'bus']\n",
      "\n",
      "Valores únicos en la columna 'paint_color':\n",
      "[nan 'white' 'red' 'black' 'blue' 'grey' 'silver' 'custom' 'orange'\n",
      " 'yellow' 'brown' 'green' 'purple']\n",
      "\n",
      "Valores únicos en la columna 'is_4wd':\n",
      "[ 1. nan]\n",
      "\n"
     ]
    }
   ],
   "source": [
    "cars_categorical = cars[['model', 'condition', 'cylinders', 'fuel', 'transmission', 'type', 'paint_color', 'is_4wd']] # separamos las columnas categóricas\n",
    "for column in cars_categorical:\n",
    "    try: \n",
    "        print(f\"Valores únicos en la columna '{column}':\")   # muestra el nombre de cada columna\n",
    "        print(cars_categorical[column].unique())        # muestra los valores únicos de cada columna\n",
    "        print()\n",
    "    except:\n",
    "        print(\"Error al mostrar valores únicos columnas categóricas\")"
   ]
  },
  {
   "attachments": {},
   "cell_type": "markdown",
   "metadata": {},
   "source": [
    "Parece que nuestras columnas categóricas no presentan problemas en sus valores, solo el uso de 'SUV' en la columna \"type\", que luego procederemos a solucionar. Ahora necesitamos saber la distribución de los valores para cada columna, haciendo énfasis en las columnas con valores ausentes. También lo haremos usando un bucle:"
   ]
  },
  {
   "cell_type": "code",
   "execution_count": 6,
   "metadata": {},
   "outputs": [
    {
     "name": "stdout",
     "output_type": "stream",
     "text": [
      "Distribución de valores de la columna 'model':\n",
      "ford f-150                           0.054265\n",
      "chevrolet silverado 1500             0.042135\n",
      "ram 1500                             0.033964\n",
      "chevrolet silverado                  0.024668\n",
      "jeep wrangler                        0.021718\n",
      "                                       ...   \n",
      "ford f-250 super duty                0.004677\n",
      "acura tl                             0.004580\n",
      "kia sorento                          0.004580\n",
      "nissan murano                        0.004561\n",
      "mercedes-benz benze sprinter 2500    0.000796\n",
      "Name: model, Length: 100, dtype: float64\n",
      "\n",
      "Distribución de valores de la columna 'condition':\n",
      "excellent    0.480796\n",
      "good         0.390975\n",
      "like new     0.092033\n",
      "fair         0.031189\n",
      "new          0.002775\n",
      "salvage      0.002232\n",
      "Name: condition, dtype: float64\n",
      "\n",
      "Distribución de valores de la columna 'cylinders':\n",
      "8.0     0.307501\n",
      "6.0     0.304706\n",
      "4.0     0.269073\n",
      "NaN     0.102086\n",
      "10.0    0.010655\n",
      "5.0     0.005279\n",
      "3.0     0.000660\n",
      "12.0    0.000039\n",
      "Name: cylinders, dtype: float64\n",
      "\n",
      "Distribución de valores de la columna 'fuel':\n",
      "gas         0.917768\n",
      "diesel      0.072082\n",
      "hybrid      0.007938\n",
      "other       0.002096\n",
      "electric    0.000116\n",
      "Name: fuel, dtype: float64\n",
      "\n",
      "Distribución de valores de la columna 'transmission':\n",
      "automatic    0.910277\n",
      "manual       0.054905\n",
      "other        0.034818\n",
      "Name: transmission, dtype: float64\n",
      "\n",
      "Distribución de valores de la columna 'type':\n",
      "SUV            0.240757\n",
      "truck          0.239748\n",
      "sedan          0.235885\n",
      "pickup         0.135623\n",
      "coupe          0.044697\n",
      "wagon          0.029908\n",
      "mini-van       0.022533\n",
      "hatchback      0.020320\n",
      "van            0.012285\n",
      "convertible    0.008656\n",
      "other          0.004968\n",
      "offroad        0.004153\n",
      "bus            0.000466\n",
      "Name: type, dtype: float64\n",
      "\n",
      "Distribución de valores de la columna 'paint_color':\n",
      "white     0.194643\n",
      "NaN       0.179854\n",
      "black     0.149287\n",
      "silver    0.121184\n",
      "grey      0.097758\n",
      "blue      0.086851\n",
      "red       0.085803\n",
      "green     0.027094\n",
      "brown     0.023736\n",
      "custom    0.022377\n",
      "yellow    0.004949\n",
      "orange    0.004483\n",
      "purple    0.001980\n",
      "Name: paint_color, dtype: float64\n",
      "\n",
      "Distribución de valores de la columna 'is_4wd':\n",
      "NaN    0.503697\n",
      "1.0    0.496303\n",
      "Name: is_4wd, dtype: float64\n",
      "\n"
     ]
    }
   ],
   "source": [
    "for column in cars_categorical:\n",
    "    try: \n",
    "        print(f\"Distribución de valores de la columna '{column}':\") \n",
    "        print(cars_categorical[column].value_counts(dropna=False, normalize=True))  # contando valores normalizados y con valores ausentes\n",
    "        print()\n",
    "    except:\n",
    "        print(\"Error al mostrar la distribución de columnas categóricas\")"
   ]
  },
  {
   "attachments": {},
   "cell_type": "markdown",
   "metadata": {},
   "source": [
    "Todas parecen distribuciones razonables. Tenemos tres columnas con valores ausentes:\n",
    "* `cylinders`, en el cual, alrededor del 10 % de sus valores son ausentes. Estos valores ausentes podrían estar relacionados principalmente con el modelo del vehículo (`model`), así que tendremos que enfatizar el análisis con esta columna.\n",
    "* `paint_color` tiene casi 18 % de valores ausentes, siendo casi tan frecuente como el color más frecuente de la columna (\"White\"). Sin duda, es una proporción muy alta de valores ausentes, así que este es un caso de especial atención. Estos valores ausentes podrían también estar relacionados con el modelo del vehículo (`model`).\n",
    "* `is_4wd` tiene más del 50 % de sus datos ausentes, pero el sentido común (y tal como habíamos anticipado) nos obliga a deducir que estos valores ausentes en realidad se deben a un error bajo el cual al valor \"0\" se le procesó como \"NaN\". "
   ]
  },
  {
   "attachments": {},
   "cell_type": "markdown",
   "metadata": {},
   "source": [
    "Para saber la proporción de valores ausentes en las columnas cuantitativas, que son `price`, `model_year`, `odometer` y `days_listed`, contaremos sus valores ausentes y obtendremos su respectiva proporción:"
   ]
  },
  {
   "cell_type": "code",
   "execution_count": 7,
   "metadata": {},
   "outputs": [
    {
     "name": "stdout",
     "output_type": "stream",
     "text": [
      "Porcentaje de valores ausentes de la columna 'price':\n",
      "0.0\n",
      "\n",
      "Porcentaje de valores ausentes de la columna 'model_year':\n",
      "0.0702\n",
      "\n",
      "Porcentaje de valores ausentes de la columna 'odometer':\n",
      "0.1532\n",
      "\n",
      "Porcentaje de valores ausentes de la columna 'days_listed':\n",
      "0.0\n",
      "\n"
     ]
    }
   ],
   "source": [
    "cars_cuantitative = cars[['price', 'model_year', 'odometer', 'days_listed']]    # dataset de columnas cuantitativas\n",
    "for column in cars_cuantitative:\n",
    "    try:\n",
    "        print(f\"Porcentaje de valores ausentes de la columna '{column}':\")\n",
    "        print(round(cars_cuantitative[column].isna().sum() / len(cars_cuantitative[column]), 4))  # obteniendo la suma de valores ausentes y dividiendo entre la longitud, redondeado con 4 decimales\n",
    "        print() \n",
    "    except:\n",
    "        print(\"Error al mostrar valores ausentes en columnas cuantitativas\")"
   ]
  },
  {
   "attachments": {},
   "cell_type": "markdown",
   "metadata": {},
   "source": [
    "`price` y `days_listed` no tienen datos ausentes. Mientras que `model_year` tiene un 7 % de valores ausentes y `odometer`, alrededor del 15 %. Continuamos."
   ]
  },
  {
   "attachments": {},
   "cell_type": "markdown",
   "metadata": {},
   "source": [
    "### Exploración inicial de los valores ausentes\n",
    "Ahora tenemos que analizar la influencia de los valores ausentes, es decir, si están distribuidos aleatoriamente o se pueden relacionar con alguna otra columna. Primero, no tendremos en cuenta a la columna `is_4wd`, porque ya conocemos la naturaleza de sus valores ausentes y eliminar más de la mitad de los valores puede distorsionar nuestros resultados: "
   ]
  },
  {
   "cell_type": "code",
   "execution_count": 8,
   "metadata": {},
   "outputs": [
    {
     "data": {
      "text/plain": [
       "Index(['price', 'model_year', 'model', 'condition', 'cylinders', 'fuel',\n",
       "       'odometer', 'transmission', 'type', 'paint_color', 'date_posted',\n",
       "       'days_listed'],\n",
       "      dtype='object')"
      ]
     },
     "execution_count": 8,
     "metadata": {},
     "output_type": "execute_result"
    }
   ],
   "source": [
    "cars_without_4wd = cars.drop(['is_4wd'], axis=1)\n",
    "cars_without_4wd.columns"
   ]
  },
  {
   "attachments": {},
   "cell_type": "markdown",
   "metadata": {},
   "source": [
    "Una vez obtenido este nuevo dataset, procedemos a analizar la distribución de las columnas del dataset con y sin valores ausentes de la siguiente manera:\n",
    "\n",
    "**Datos originales**"
   ]
  },
  {
   "cell_type": "code",
   "execution_count": 9,
   "metadata": {},
   "outputs": [
    {
     "name": "stdout",
     "output_type": "stream",
     "text": [
      "Distribución de valores de 'price':\n",
      "1        0.015488\n",
      "6995     0.013954\n",
      "5995     0.012712\n",
      "4995     0.012111\n",
      "3500     0.012033\n",
      "           ...   \n",
      "58500    0.000019\n",
      "3993     0.000019\n",
      "32987    0.000019\n",
      "3744     0.000019\n",
      "7455     0.000019\n",
      "Name: price, Length: 3443, dtype: float64\n",
      "\n",
      "Distribución de valores de 'model_year':\n",
      "NaN       0.070238\n",
      "2013.0    0.068879\n",
      "2012.0    0.067307\n",
      "2014.0    0.066919\n",
      "2011.0    0.065502\n",
      "            ...   \n",
      "1948.0    0.000019\n",
      "1961.0    0.000019\n",
      "1936.0    0.000019\n",
      "1949.0    0.000019\n",
      "1929.0    0.000019\n",
      "Name: model_year, Length: 69, dtype: float64\n",
      "\n",
      "Distribución de valores de 'model':\n",
      "ford f-150                           0.054265\n",
      "chevrolet silverado 1500             0.042135\n",
      "ram 1500                             0.033964\n",
      "chevrolet silverado                  0.024668\n",
      "jeep wrangler                        0.021718\n",
      "                                       ...   \n",
      "ford f-250 super duty                0.004677\n",
      "acura tl                             0.004580\n",
      "kia sorento                          0.004580\n",
      "nissan murano                        0.004561\n",
      "mercedes-benz benze sprinter 2500    0.000796\n",
      "Name: model, Length: 100, dtype: float64\n",
      "\n",
      "Distribución de valores de 'condition':\n",
      "excellent    0.480796\n",
      "good         0.390975\n",
      "like new     0.092033\n",
      "fair         0.031189\n",
      "new          0.002775\n",
      "salvage      0.002232\n",
      "Name: condition, dtype: float64\n",
      "\n",
      "Distribución de valores de 'cylinders':\n",
      "8.0     0.307501\n",
      "6.0     0.304706\n",
      "4.0     0.269073\n",
      "NaN     0.102086\n",
      "10.0    0.010655\n",
      "5.0     0.005279\n",
      "3.0     0.000660\n",
      "12.0    0.000039\n",
      "Name: cylinders, dtype: float64\n",
      "\n",
      "Distribución de valores de 'fuel':\n",
      "gas         0.917768\n",
      "diesel      0.072082\n",
      "hybrid      0.007938\n",
      "other       0.002096\n",
      "electric    0.000116\n",
      "Name: fuel, dtype: float64\n",
      "\n",
      "Distribución de valores de 'odometer':\n",
      "NaN         0.153168\n",
      "0.0         0.003590\n",
      "140000.0    0.003552\n",
      "120000.0    0.003474\n",
      "130000.0    0.003455\n",
      "              ...   \n",
      "87836.0     0.000019\n",
      "172625.0    0.000019\n",
      "103597.0    0.000019\n",
      "167239.0    0.000019\n",
      "139573.0    0.000019\n",
      "Name: odometer, Length: 17763, dtype: float64\n",
      "\n",
      "Distribución de valores de 'transmission':\n",
      "automatic    0.910277\n",
      "manual       0.054905\n",
      "other        0.034818\n",
      "Name: transmission, dtype: float64\n",
      "\n",
      "Distribución de valores de 'type':\n",
      "SUV            0.240757\n",
      "truck          0.239748\n",
      "sedan          0.235885\n",
      "pickup         0.135623\n",
      "coupe          0.044697\n",
      "wagon          0.029908\n",
      "mini-van       0.022533\n",
      "hatchback      0.020320\n",
      "van            0.012285\n",
      "convertible    0.008656\n",
      "other          0.004968\n",
      "offroad        0.004153\n",
      "bus            0.000466\n",
      "Name: type, dtype: float64\n",
      "\n",
      "Distribución de valores de 'paint_color':\n",
      "white     0.194643\n",
      "NaN       0.179854\n",
      "black     0.149287\n",
      "silver    0.121184\n",
      "grey      0.097758\n",
      "blue      0.086851\n",
      "red       0.085803\n",
      "green     0.027094\n",
      "brown     0.023736\n",
      "custom    0.022377\n",
      "yellow    0.004949\n",
      "orange    0.004483\n",
      "purple    0.001980\n",
      "Name: paint_color, dtype: float64\n",
      "\n",
      "Distribución de valores de 'is_4wd':\n",
      "NaN    0.503697\n",
      "1.0    0.496303\n",
      "Name: is_4wd, dtype: float64\n",
      "\n",
      "Distribución de valores de 'date_posted':\n",
      "2019-03-17    0.003610\n",
      "2019-01-05    0.003571\n",
      "2018-09-20    0.003455\n",
      "2019-03-11    0.003416\n",
      "2018-10-09    0.003377\n",
      "                ...   \n",
      "2018-06-18    0.002310\n",
      "2018-07-04    0.002290\n",
      "2019-01-11    0.002271\n",
      "2018-06-08    0.002271\n",
      "2019-01-04    0.002251\n",
      "Name: date_posted, Length: 354, dtype: float64\n",
      "\n",
      "Distribución de valores de 'days_listed':\n",
      "18     0.018612\n",
      "24     0.018438\n",
      "22     0.018341\n",
      "19     0.018263\n",
      "20     0.018127\n",
      "         ...   \n",
      "240    0.000019\n",
      "209    0.000019\n",
      "188    0.000019\n",
      "192    0.000019\n",
      "186    0.000019\n",
      "Name: days_listed, Length: 227, dtype: float64\n",
      "\n"
     ]
    }
   ],
   "source": [
    "for column in cars:\n",
    "    print(f\"Distribución de valores de '{column}':\")\n",
    "    print(cars[column].value_counts(dropna=False, normalize=True)) \n",
    "    print()"
   ]
  },
  {
   "attachments": {},
   "cell_type": "markdown",
   "metadata": {},
   "source": [
    "**Datos sin valores ausentes**"
   ]
  },
  {
   "cell_type": "code",
   "execution_count": 10,
   "metadata": {},
   "outputs": [
    {
     "name": "stdout",
     "output_type": "stream",
     "text": [
      "Distribución de valores de 'price':\n",
      "1        0.015544\n",
      "6995     0.014173\n",
      "5995     0.013571\n",
      "3500     0.012201\n",
      "4500     0.012101\n",
      "           ...   \n",
      "42970    0.000033\n",
      "39608    0.000033\n",
      "23976    0.000033\n",
      "18958    0.000033\n",
      "7455     0.000033\n",
      "Name: price, Length: 2704, dtype: float64\n",
      "\n",
      "Distribución de valores de 'model_year':\n",
      "2013.0    0.072637\n",
      "2012.0    0.072269\n",
      "2011.0    0.071366\n",
      "2014.0    0.071333\n",
      "2015.0    0.068793\n",
      "            ...   \n",
      "1948.0    0.000033\n",
      "1908.0    0.000033\n",
      "1961.0    0.000033\n",
      "1936.0    0.000033\n",
      "1958.0    0.000033\n",
      "Name: model_year, Length: 65, dtype: float64\n",
      "\n",
      "Distribución de valores de 'model':\n",
      "ford f-150                  0.055322\n",
      "chevrolet silverado 1500    0.042018\n",
      "ram 1500                    0.033828\n",
      "chevrolet silverado         0.024903\n",
      "jeep wrangler               0.020992\n",
      "                              ...   \n",
      "kia sorento                 0.004713\n",
      "chrysler 200                0.004613\n",
      "ford f-250 super duty       0.004312\n",
      "acura tl                    0.004279\n",
      "nissan murano               0.004145\n",
      "Name: model, Length: 99, dtype: float64\n",
      "\n",
      "Distribución de valores de 'condition':\n",
      "excellent    0.480044\n",
      "good         0.391128\n",
      "like new     0.092492\n",
      "fair         0.031221\n",
      "new          0.002942\n",
      "salvage      0.002173\n",
      "Name: condition, dtype: float64\n",
      "\n",
      "Distribución de valores de 'cylinders':\n",
      "8.0     0.343829\n",
      "6.0     0.340320\n",
      "4.0     0.296764\n",
      "10.0    0.012134\n",
      "5.0     0.006117\n",
      "3.0     0.000802\n",
      "12.0    0.000033\n",
      "Name: cylinders, dtype: float64\n",
      "\n",
      "Distribución de valores de 'fuel':\n",
      "gas         0.918605\n",
      "diesel      0.071433\n",
      "hybrid      0.008022\n",
      "other       0.001872\n",
      "electric    0.000067\n",
      "Name: fuel, dtype: float64\n",
      "\n",
      "Distribución de valores de 'odometer':\n",
      "140000.0    0.004279\n",
      "0.0         0.004279\n",
      "130000.0    0.004078\n",
      "200000.0    0.003844\n",
      "150000.0    0.003677\n",
      "              ...   \n",
      "97711.0     0.000033\n",
      "1399.0      0.000033\n",
      "212218.0    0.000033\n",
      "80560.0     0.000033\n",
      "139573.0    0.000033\n",
      "Name: odometer, Length: 13592, dtype: float64\n",
      "\n",
      "Distribución de valores de 'transmission':\n",
      "automatic    0.911318\n",
      "manual       0.054519\n",
      "other        0.034162\n",
      "Name: transmission, dtype: float64\n",
      "\n",
      "Distribución de valores de 'type':\n",
      "truck          0.243682\n",
      "SUV            0.240039\n",
      "sedan          0.233955\n",
      "pickup         0.133708\n",
      "coupe          0.046129\n",
      "wagon          0.030151\n",
      "mini-van       0.022530\n",
      "hatchback      0.019488\n",
      "van            0.011131\n",
      "convertible    0.009259\n",
      "other          0.004914\n",
      "offroad        0.004479\n",
      "bus            0.000535\n",
      "Name: type, dtype: float64\n",
      "\n",
      "Distribución de valores de 'paint_color':\n",
      "white     0.238668\n",
      "black     0.181575\n",
      "silver    0.147346\n",
      "grey      0.119100\n",
      "red       0.106264\n",
      "blue      0.105362\n",
      "green     0.031756\n",
      "brown     0.028480\n",
      "custom    0.027577\n",
      "yellow    0.006084\n",
      "orange    0.005415\n",
      "purple    0.002373\n",
      "Name: paint_color, dtype: float64\n",
      "\n",
      "Distribución de valores de 'date_posted':\n",
      "2019-03-28    0.003677\n",
      "2018-10-09    0.003610\n",
      "2018-08-06    0.003577\n",
      "2018-10-10    0.003543\n",
      "2018-10-21    0.003476\n",
      "                ...   \n",
      "2018-11-29    0.002173\n",
      "2019-01-04    0.002173\n",
      "2018-11-16    0.002039\n",
      "2019-01-08    0.002039\n",
      "2019-01-02    0.001872\n",
      "Name: date_posted, Length: 354, dtype: float64\n",
      "\n",
      "Distribución de valores de 'days_listed':\n",
      "24     0.018753\n",
      "16     0.018218\n",
      "18     0.018117\n",
      "31     0.018084\n",
      "27     0.018017\n",
      "         ...   \n",
      "204    0.000033\n",
      "190    0.000033\n",
      "185    0.000033\n",
      "203    0.000033\n",
      "221    0.000033\n",
      "Name: days_listed, Length: 208, dtype: float64\n",
      "\n"
     ]
    }
   ],
   "source": [
    "for column in cars_without_4wd:\n",
    "    print(f\"Distribución de valores de '{column}':\")\n",
    "    print(cars_without_4wd.dropna()[column].value_counts(dropna=False, normalize=True)) # eliminando los valores ausentes del dataset filtrado y obteniendo su distribución\n",
    "    print()"
   ]
  },
  {
   "attachments": {},
   "cell_type": "markdown",
   "metadata": {},
   "source": [
    "Después de una revisión, no notamos diferencias notables en la distribución de las variables al considerar los valores ausentes. Es decir que muy probablemente nuestros valores ausentes tengan una distribución aleatoria y no se relacionen con los valores de las columnas.\n",
    "\n",
    "[¿Hay valores ausentes en todas las columnas o solo en algunas? ¿Qué columnas contienen la mayor cantidad de valores ausentes? Describe brevemente lo que ves en 1 o 2 oraciones.]"
   ]
  },
  {
   "attachments": {},
   "cell_type": "markdown",
   "metadata": {},
   "source": [
    "### Conclusiones y siguientes pasos\n",
    "\n",
    "Tenemos las siguientes conclusiones por ahora:\n",
    "* Tenemos cinco columnas del dataset con valores ausentes, de los cuales pudimos detectar el origen de uno de ellos: `is_4wd`. En algunos casos, tenemos porcentajes de valores ausentes relativamente elevados y muy frecuentes.  \n",
    "* Tenemos algunas columnas con sospechas de valores atípicos, que serán tratadas luego de solucionar los valores ausentes.\n",
    "* Algunas de nuestras columnas están ingresadas con tipos de datos incorrectos o que no facilitarían un posible análisis posterior. El caso más especial es el de `date_posted`. Se abarcará este problema en el siguiente apartado.\n",
    "* Es muy probable que nuestros valores ausentes tengan una ocurrencia aleatoria y tampoco tenemos información sobre la naturaleza de estos valores ausentes. Esto requeriría un análisis conjunto con las áreas respectivas encargadas, pero por ahora tendremos que ver la manera de tratar y solucionar estos valores ausentes en el siguiente apartado.\n",
    "\n",
    "\n",
    "[Formula tus conclusiones sobre los datos iniciales. ¿Qué crees que se ve normal y qué no?]\n",
    "\n",
    "[Explica tus próximos pasos y cómo se correlacionan con las conclusiones que has hecho hasta ahora. Específicamente, debe quedar claro qué parte de los datos deben tratarse para que sean más adecuados para el análisis requerido.]"
   ]
  },
  {
   "attachments": {},
   "cell_type": "markdown",
   "metadata": {},
   "source": [
    "# Preprocesamiento de los datos"
   ]
  },
  {
   "attachments": {},
   "cell_type": "markdown",
   "metadata": {},
   "source": [
    "## Tratar los valores ausentes "
   ]
  },
  {
   "attachments": {},
   "cell_type": "markdown",
   "metadata": {},
   "source": [
    "**Valores ausentes de la columna `is_4wd`**\n",
    "\n",
    "[Estudia los valores ausentes para cada columna en más detalle y decide qué hacer con ellos basándote en hipótesis significativas.]"
   ]
  },
  {
   "attachments": {},
   "cell_type": "markdown",
   "metadata": {},
   "source": [
    "Primero trataremos a esta columna debido a que logramos deducir la naturaleza de sus valores ausentes. Concluimos que los valores ausentes son en realidad valores \"0\" a los que por algún motivo se les terminó tratando de manera incorrecta. La alta incidencia de valores ausentes y la ausencia del valor \"0\" en un tipo de variable booleana nos condujo a esa conclusión. Entonces, realizaremos el cambio de los valores ausentes utilizando el método \"fillna\":"
   ]
  },
  {
   "cell_type": "code",
   "execution_count": 11,
   "metadata": {},
   "outputs": [],
   "source": [
    "cars['is_4wd'] = cars['is_4wd'].fillna(0)   # cambiando NaN por 0"
   ]
  },
  {
   "attachments": {},
   "cell_type": "markdown",
   "metadata": {},
   "source": [
    "Comprobaremos si se realizó el cambio:"
   ]
  },
  {
   "cell_type": "code",
   "execution_count": 12,
   "metadata": {},
   "outputs": [
    {
     "data": {
      "text/plain": [
       "0.0    25953\n",
       "1.0    25572\n",
       "Name: is_4wd, dtype: int64"
      ]
     },
     "execution_count": 12,
     "metadata": {},
     "output_type": "execute_result"
    }
   ],
   "source": [
    "cars['is_4wd'].value_counts(dropna=False)"
   ]
  },
  {
   "cell_type": "markdown",
   "metadata": {},
   "source": [
    "**Valores ausentes de la columna `odometer`**"
   ]
  },
  {
   "attachments": {},
   "cell_type": "markdown",
   "metadata": {},
   "source": [
    "La columna `odometer` referida al kilometraje de los vehículos es una variable numérica o cuantitativa. Traeremos su descripción (distribución) para recordar sus principales características y estadísticos:"
   ]
  },
  {
   "cell_type": "code",
   "execution_count": 13,
   "metadata": {},
   "outputs": [
    {
     "data": {
      "text/plain": [
       "count     43633.000000\n",
       "mean     115553.461738\n",
       "std       65094.611341\n",
       "min           0.000000\n",
       "25%       70000.000000\n",
       "50%      113000.000000\n",
       "75%      155000.000000\n",
       "max      990000.000000\n",
       "Name: odometer, dtype: float64"
      ]
     },
     "execution_count": 13,
     "metadata": {},
     "output_type": "execute_result"
    }
   ],
   "source": [
    "cars['odometer'].describe()"
   ]
  },
  {
   "attachments": {},
   "cell_type": "markdown",
   "metadata": {},
   "source": [
    "Esta columna presenta una relativamente gran desviación estándar y un valor máximo suficientemente elevado como para tirar de la media y que la mediana sea una medida más robusta (posiblemente hayan outliers). \n",
    "<br>Ahora, podemos preguntarnos qué variables pueden influir o ayudarnos a determinar el kilometraje. Desde el punto de vista del autor, parece razonable suponer que las columnas `model_year` (el año desde que fue lanzado un vehículo puede estar inversamente relacionado a su kilometraje: uno más reciente debería tener menos kilometraje) y `condition` (se esperaría que la condición de un vehículo esté inversamente relacionado con el kilometraje: se espera que uno en mejor condición tenga menos recorrido) pueden ayudarnos a agrupar y obtener información que usaremos al completar los valores ausentes de esta columna. Las demás variables no parecieran tener un efecto notable en esta columna. Dado esto, procedemos a agrupar mediante los criterios seleccionados y obtener la mediana:"
   ]
  },
  {
   "cell_type": "code",
   "execution_count": 14,
   "metadata": {},
   "outputs": [
    {
     "data": {
      "text/plain": [
       "model_year  condition\n",
       "1908.0      excellent         NaN\n",
       "            good         169328.0\n",
       "1929.0      good              NaN\n",
       "1936.0      excellent     30000.0\n",
       "1948.0      like new       4000.0\n",
       "1949.0      good           1800.0\n",
       "1954.0      excellent      3565.0\n",
       "1955.0      excellent     47180.0\n",
       "1958.0      excellent      3184.0\n",
       "            good          62799.0\n",
       "1960.0      excellent     16000.0\n",
       "            like new          NaN\n",
       "1961.0      good          66000.0\n",
       "1962.0      excellent     73637.0\n",
       "            good              0.0\n",
       "1963.0      excellent     40487.0\n",
       "            fair              NaN\n",
       "1964.0      excellent     35900.0\n",
       "            good          96650.0\n",
       "            like new     518500.0\n",
       "Name: odometer, dtype: float64"
      ]
     },
     "execution_count": 14,
     "metadata": {},
     "output_type": "execute_result"
    }
   ],
   "source": [
    "cars_odometer = cars.groupby(['model_year', 'condition'])['odometer'].median()\n",
    "cars_odometer.head(20)"
   ]
  },
  {
   "attachments": {},
   "cell_type": "markdown",
   "metadata": {},
   "source": [
    "Esta variable nueva agrupada nos debería servir para imputar los valores ausentes, aunque notamos que algunos años no cuentan con suficientes datos para generar una mediana con la agrupación dada. \n",
    "\n",
    "De todas formas, crearemos una función para rellenar los datos ausentes teniendo en cuenta esta agrupación y criterios:"
   ]
  },
  {
   "cell_type": "code",
   "execution_count": 15,
   "metadata": {},
   "outputs": [],
   "source": [
    "def fillna_odometer(data):\n",
    "    model_year = data['model_year']\n",
    "    condition = data['condition']\n",
    "    odometer = data['odometer']\n",
    "    if pd.isna(odometer):\n",
    "        try:\n",
    "            return cars_odometer.loc[(model_year, condition)]\n",
    "        except:\n",
    "            return np.nan\n",
    "    return odometer"
   ]
  },
  {
   "attachments": {},
   "cell_type": "markdown",
   "metadata": {},
   "source": [
    "Una vez creada la función, probaremos con un dataset ficticio si funciona correctamente o dentro de lo esperado:"
   ]
  },
  {
   "cell_type": "code",
   "execution_count": 16,
   "metadata": {},
   "outputs": [
    {
     "data": {
      "text/html": [
       "<div>\n",
       "<style scoped>\n",
       "    .dataframe tbody tr th:only-of-type {\n",
       "        vertical-align: middle;\n",
       "    }\n",
       "\n",
       "    .dataframe tbody tr th {\n",
       "        vertical-align: top;\n",
       "    }\n",
       "\n",
       "    .dataframe thead th {\n",
       "        text-align: right;\n",
       "    }\n",
       "</style>\n",
       "<table border=\"1\" class=\"dataframe\">\n",
       "  <thead>\n",
       "    <tr style=\"text-align: right;\">\n",
       "      <th></th>\n",
       "      <th>model_year</th>\n",
       "      <th>condition</th>\n",
       "      <th>odometer</th>\n",
       "    </tr>\n",
       "  </thead>\n",
       "  <tbody>\n",
       "    <tr>\n",
       "      <th>0</th>\n",
       "      <td>2013.0</td>\n",
       "      <td>good</td>\n",
       "      <td>106375.0</td>\n",
       "    </tr>\n",
       "    <tr>\n",
       "      <th>1</th>\n",
       "      <td>2003.0</td>\n",
       "      <td>like new</td>\n",
       "      <td>50000.0</td>\n",
       "    </tr>\n",
       "    <tr>\n",
       "      <th>2</th>\n",
       "      <td>2017.0</td>\n",
       "      <td>fair</td>\n",
       "      <td>59800.0</td>\n",
       "    </tr>\n",
       "    <tr>\n",
       "      <th>3</th>\n",
       "      <td>2014.0</td>\n",
       "      <td>excellent</td>\n",
       "      <td>20000.0</td>\n",
       "    </tr>\n",
       "    <tr>\n",
       "      <th>4</th>\n",
       "      <td>2015.0</td>\n",
       "      <td>salvage</td>\n",
       "      <td>46000.0</td>\n",
       "    </tr>\n",
       "    <tr>\n",
       "      <th>5</th>\n",
       "      <td>2012.0</td>\n",
       "      <td>new</td>\n",
       "      <td>80147.0</td>\n",
       "    </tr>\n",
       "    <tr>\n",
       "      <th>6</th>\n",
       "      <td>2008.0</td>\n",
       "      <td>good</td>\n",
       "      <td>90000.0</td>\n",
       "    </tr>\n",
       "    <tr>\n",
       "      <th>7</th>\n",
       "      <td>2018.0</td>\n",
       "      <td>like new</td>\n",
       "      <td>18852.0</td>\n",
       "    </tr>\n",
       "    <tr>\n",
       "      <th>8</th>\n",
       "      <td>2009.0</td>\n",
       "      <td>fair</td>\n",
       "      <td>10000.0</td>\n",
       "    </tr>\n",
       "    <tr>\n",
       "      <th>9</th>\n",
       "      <td>2010.0</td>\n",
       "      <td>excellent</td>\n",
       "      <td>126000.0</td>\n",
       "    </tr>\n",
       "    <tr>\n",
       "      <th>10</th>\n",
       "      <td>2007.0</td>\n",
       "      <td>salvage</td>\n",
       "      <td>158731.0</td>\n",
       "    </tr>\n",
       "    <tr>\n",
       "      <th>11</th>\n",
       "      <td>2004.0</td>\n",
       "      <td>new</td>\n",
       "      <td>45000.0</td>\n",
       "    </tr>\n",
       "    <tr>\n",
       "      <th>12</th>\n",
       "      <td>2005.0</td>\n",
       "      <td>good</td>\n",
       "      <td>158000.0</td>\n",
       "    </tr>\n",
       "    <tr>\n",
       "      <th>13</th>\n",
       "      <td>2001.0</td>\n",
       "      <td>like new</td>\n",
       "      <td>20100.0</td>\n",
       "    </tr>\n",
       "    <tr>\n",
       "      <th>14</th>\n",
       "      <td>2006.0</td>\n",
       "      <td>fair</td>\n",
       "      <td>178000.0</td>\n",
       "    </tr>\n",
       "    <tr>\n",
       "      <th>15</th>\n",
       "      <td>1966.0</td>\n",
       "      <td>excellent</td>\n",
       "      <td>59025.0</td>\n",
       "    </tr>\n",
       "    <tr>\n",
       "      <th>16</th>\n",
       "      <td>1994.0</td>\n",
       "      <td>salvage</td>\n",
       "      <td>35000.0</td>\n",
       "    </tr>\n",
       "    <tr>\n",
       "      <th>17</th>\n",
       "      <td>2019.0</td>\n",
       "      <td>new</td>\n",
       "      <td>151.0</td>\n",
       "    </tr>\n",
       "    <tr>\n",
       "      <th>18</th>\n",
       "      <td>2000.0</td>\n",
       "      <td>good</td>\n",
       "      <td>120000.0</td>\n",
       "    </tr>\n",
       "    <tr>\n",
       "      <th>19</th>\n",
       "      <td>2016.0</td>\n",
       "      <td>like new</td>\n",
       "      <td>47847.0</td>\n",
       "    </tr>\n",
       "  </tbody>\n",
       "</table>\n",
       "</div>"
      ],
      "text/plain": [
       "    model_year  condition  odometer\n",
       "0       2013.0       good  106375.0\n",
       "1       2003.0   like new   50000.0\n",
       "2       2017.0       fair   59800.0\n",
       "3       2014.0  excellent   20000.0\n",
       "4       2015.0    salvage   46000.0\n",
       "5       2012.0        new   80147.0\n",
       "6       2008.0       good   90000.0\n",
       "7       2018.0   like new   18852.0\n",
       "8       2009.0       fair   10000.0\n",
       "9       2010.0  excellent  126000.0\n",
       "10      2007.0    salvage  158731.0\n",
       "11      2004.0        new   45000.0\n",
       "12      2005.0       good  158000.0\n",
       "13      2001.0   like new   20100.0\n",
       "14      2006.0       fair  178000.0\n",
       "15      1966.0  excellent   59025.0\n",
       "16      1994.0    salvage   35000.0\n",
       "17      2019.0        new     151.0\n",
       "18      2000.0       good  120000.0\n",
       "19      2016.0   like new   47847.0"
      ]
     },
     "execution_count": 16,
     "metadata": {},
     "output_type": "execute_result"
    }
   ],
   "source": [
    "data0 = {'model_year': [2013., 2003., 2017., 2014., 2015., 2012., 2008., 2018., 2009., 2010., 2007., 2004., 2005., 2001., 2006., 1966., 1994., 2019., 2000., 2016.],\n",
    "         'condition': ['good', 'like new', 'fair', 'excellent', 'salvage', 'new', 'good', 'like new', 'fair', 'excellent', 'salvage', 'new', 'good', 'like new', 'fair', 'excellent', 'salvage', 'new', 'good', 'like new'],\n",
    "          'odometer': [None, 50000, None, 20000, None, None, 90000, None, 10000, None, None, 45000, None, 20100, None, None, 35000, None, 120000, None]} # Creando el dataframe de prueba\n",
    "data_test0 = pd.DataFrame(data0) # Creando el dataframe de prueba\n",
    "data_test0['odometer'] = data_test0.apply(fillna_odometer, axis=1) # Comprobando si funciona\n",
    "data_test0"
   ]
  },
  {
   "attachments": {},
   "cell_type": "markdown",
   "metadata": {},
   "source": [
    "Una vez probado que la función hace correctamente su trabajo, siempre con precaución debido a que probablemente haya casos donde la función no encuentre una mediana para reemplazar, seguimos con aplicar la función a la columna `odometer` y terminar de tratar a los valores ausentes:"
   ]
  },
  {
   "cell_type": "code",
   "execution_count": 17,
   "metadata": {},
   "outputs": [],
   "source": [
    "cars['odometer'] = cars.apply(fillna_odometer, axis=1)"
   ]
  },
  {
   "cell_type": "code",
   "execution_count": 18,
   "metadata": {},
   "outputs": [
    {
     "name": "stdout",
     "output_type": "stream",
     "text": [
      "556\n"
     ]
    }
   ],
   "source": [
    "print(cars['odometer'].isna().sum())"
   ]
  },
  {
   "attachments": {},
   "cell_type": "markdown",
   "metadata": {},
   "source": [
    "Luego de aplicada la función, notamos que aún quedaron 556 filas con valores ausentes que no se pudieron tratar. Posiblemente se traten de casos únicos en donde nuestra función no logró encontrar un valor de mediana correspondiente en el DataFrame agrupado. De todas formas, de los casi 8 mil valores ausentes (que representaban más del 15 %), se logró reducir a 556, que representa un 1 % de los datos totales, una gran reducción de los valores ausentes. "
   ]
  },
  {
   "attachments": {},
   "cell_type": "markdown",
   "metadata": {},
   "source": [
    "**Valores ausentes de la columna `model_year`**"
   ]
  },
  {
   "attachments": {},
   "cell_type": "markdown",
   "metadata": {},
   "source": [
    "Esta columna es cuantitativa o numérica. Para recordar tenemos su descripción (distribución) nuevamente:"
   ]
  },
  {
   "cell_type": "code",
   "execution_count": 19,
   "metadata": {},
   "outputs": [
    {
     "data": {
      "text/plain": [
       "count    47906.000000\n",
       "mean      2009.750470\n",
       "std          6.282065\n",
       "min       1908.000000\n",
       "25%       2006.000000\n",
       "50%       2011.000000\n",
       "75%       2014.000000\n",
       "max       2019.000000\n",
       "Name: model_year, dtype: float64"
      ]
     },
     "execution_count": 19,
     "metadata": {},
     "output_type": "execute_result"
    }
   ],
   "source": [
    "cars['model_year'].describe()"
   ]
  },
  {
   "attachments": {},
   "cell_type": "markdown",
   "metadata": {},
   "source": [
    "Dado que se tratan de años, no podemos utilizar la media para completar los datos, porque perjudicaría nuestro análisis e interpretaciones. Debido a esto, usaremos la mediana, medida más robusta y acorde al tipo de datos que estamos manejando. \n",
    "<br>El año del modelo puede ser inferido o está relacionado principalmente con el modelo (debido a que hay modelos que salen por años) y la condición (un modelo en buena condición posiblemente sea uno más reciente, y su opuesto también es bastante razonable). Otra columna que podría estar relacionada es la del kilometraje (`odometer`), pero no es una variable categórica per se y complicaría el análisis. Las demás columnas no parecen tener una relación significativa, así que continuaremos con las seleccionadas. \n",
    "<br>Para obtener esto, agruparemos la mediana de `model_year` por `model` y `condition`:"
   ]
  },
  {
   "cell_type": "code",
   "execution_count": 20,
   "metadata": {},
   "outputs": [
    {
     "data": {
      "text/plain": [
       "model              condition\n",
       "acura tl           excellent    2009.0\n",
       "                   fair         2004.0\n",
       "                   good         2007.0\n",
       "                   like new     2007.0\n",
       "bmw x5             excellent    2010.0\n",
       "                   fair         2004.0\n",
       "                   good         2006.0\n",
       "                   like new     2009.0\n",
       "buick enclave      excellent    2012.0\n",
       "                   fair         2011.0\n",
       "                   good         2011.0\n",
       "                   like new     2015.0\n",
       "cadillac escalade  excellent    2009.0\n",
       "                   fair         2004.0\n",
       "                   good         2007.0\n",
       "                   like new     2012.0\n",
       "                   salvage         NaN\n",
       "chevrolet camaro   excellent    2013.0\n",
       "                   fair         1995.0\n",
       "                   good         2010.0\n",
       "Name: model_year, dtype: float64"
      ]
     },
     "execution_count": 20,
     "metadata": {},
     "output_type": "execute_result"
    }
   ],
   "source": [
    "cars_model_year = cars.groupby(['model', 'condition'])['model_year'].median()\n",
    "cars_model_year.head(20)"
   ]
  },
  {
   "attachments": {},
   "cell_type": "markdown",
   "metadata": {},
   "source": [
    "Una vez agrupado de acuerdo a lo requerido, crearemos una función que nos ayude a completar los valores ausentes:"
   ]
  },
  {
   "cell_type": "code",
   "execution_count": 21,
   "metadata": {},
   "outputs": [],
   "source": [
    "def fillna_model_year(data):\n",
    "    model = data['model']\n",
    "    condition = data['condition']\n",
    "    model_year = data['model_year']\n",
    "    if pd.isna(model_year):\n",
    "        try:\n",
    "            return cars_model_year.loc[(model, condition)]\n",
    "        except:\n",
    "            return np.nan\n",
    "    return model_year"
   ]
  },
  {
   "attachments": {},
   "cell_type": "markdown",
   "metadata": {},
   "source": [
    "Probaremos si la función creada 'funciona' correctamente:"
   ]
  },
  {
   "cell_type": "code",
   "execution_count": 22,
   "metadata": {},
   "outputs": [
    {
     "data": {
      "text/html": [
       "<div>\n",
       "<style scoped>\n",
       "    .dataframe tbody tr th:only-of-type {\n",
       "        vertical-align: middle;\n",
       "    }\n",
       "\n",
       "    .dataframe tbody tr th {\n",
       "        vertical-align: top;\n",
       "    }\n",
       "\n",
       "    .dataframe thead th {\n",
       "        text-align: right;\n",
       "    }\n",
       "</style>\n",
       "<table border=\"1\" class=\"dataframe\">\n",
       "  <thead>\n",
       "    <tr style=\"text-align: right;\">\n",
       "      <th></th>\n",
       "      <th>model</th>\n",
       "      <th>condition</th>\n",
       "      <th>model_year</th>\n",
       "    </tr>\n",
       "  </thead>\n",
       "  <tbody>\n",
       "    <tr>\n",
       "      <th>0</th>\n",
       "      <td>bmw x5</td>\n",
       "      <td>good</td>\n",
       "      <td>2006.0</td>\n",
       "    </tr>\n",
       "    <tr>\n",
       "      <th>1</th>\n",
       "      <td>ford f-150</td>\n",
       "      <td>like new</td>\n",
       "      <td>2008.0</td>\n",
       "    </tr>\n",
       "    <tr>\n",
       "      <th>2</th>\n",
       "      <td>hyundai sonata</td>\n",
       "      <td>fair</td>\n",
       "      <td>2006.0</td>\n",
       "    </tr>\n",
       "    <tr>\n",
       "      <th>3</th>\n",
       "      <td>chrysler 200</td>\n",
       "      <td>excellent</td>\n",
       "      <td>2001.0</td>\n",
       "    </tr>\n",
       "    <tr>\n",
       "      <th>4</th>\n",
       "      <td>chrysler 300</td>\n",
       "      <td>salvage</td>\n",
       "      <td>NaN</td>\n",
       "    </tr>\n",
       "    <tr>\n",
       "      <th>5</th>\n",
       "      <td>toyota camry</td>\n",
       "      <td>new</td>\n",
       "      <td>2018.0</td>\n",
       "    </tr>\n",
       "    <tr>\n",
       "      <th>6</th>\n",
       "      <td>honda pilot</td>\n",
       "      <td>good</td>\n",
       "      <td>2009.0</td>\n",
       "    </tr>\n",
       "    <tr>\n",
       "      <th>7</th>\n",
       "      <td>kia sorento</td>\n",
       "      <td>like new</td>\n",
       "      <td>2014.0</td>\n",
       "    </tr>\n",
       "    <tr>\n",
       "      <th>8</th>\n",
       "      <td>chevrolet silverado 1500</td>\n",
       "      <td>fair</td>\n",
       "      <td>2010.0</td>\n",
       "    </tr>\n",
       "    <tr>\n",
       "      <th>9</th>\n",
       "      <td>honda accord</td>\n",
       "      <td>excellent</td>\n",
       "      <td>2010.0</td>\n",
       "    </tr>\n",
       "    <tr>\n",
       "      <th>10</th>\n",
       "      <td>ram 1500</td>\n",
       "      <td>salvage</td>\n",
       "      <td>2005.0</td>\n",
       "    </tr>\n",
       "    <tr>\n",
       "      <th>11</th>\n",
       "      <td>gmc yukon</td>\n",
       "      <td>new</td>\n",
       "      <td>2000.0</td>\n",
       "    </tr>\n",
       "    <tr>\n",
       "      <th>12</th>\n",
       "      <td>jeep cherokee</td>\n",
       "      <td>good</td>\n",
       "      <td>2001.0</td>\n",
       "    </tr>\n",
       "    <tr>\n",
       "      <th>13</th>\n",
       "      <td>chevrolet traverse</td>\n",
       "      <td>like new</td>\n",
       "      <td>2012.0</td>\n",
       "    </tr>\n",
       "    <tr>\n",
       "      <th>14</th>\n",
       "      <td>hyundai elantra</td>\n",
       "      <td>fair</td>\n",
       "      <td>2006.0</td>\n",
       "    </tr>\n",
       "    <tr>\n",
       "      <th>15</th>\n",
       "      <td>chevrolet tahoe</td>\n",
       "      <td>excellent</td>\n",
       "      <td>2010.0</td>\n",
       "    </tr>\n",
       "    <tr>\n",
       "      <th>16</th>\n",
       "      <td>toyota rav4</td>\n",
       "      <td>salvage</td>\n",
       "      <td>2002.0</td>\n",
       "    </tr>\n",
       "    <tr>\n",
       "      <th>17</th>\n",
       "      <td>chevrolet silverado</td>\n",
       "      <td>new</td>\n",
       "      <td>2018.0</td>\n",
       "    </tr>\n",
       "    <tr>\n",
       "      <th>18</th>\n",
       "      <td>jeep wrangler</td>\n",
       "      <td>good</td>\n",
       "      <td>1999.0</td>\n",
       "    </tr>\n",
       "    <tr>\n",
       "      <th>19</th>\n",
       "      <td>chevrolet malibu</td>\n",
       "      <td>like new</td>\n",
       "      <td>2016.0</td>\n",
       "    </tr>\n",
       "  </tbody>\n",
       "</table>\n",
       "</div>"
      ],
      "text/plain": [
       "                       model  condition  model_year\n",
       "0                     bmw x5       good      2006.0\n",
       "1                 ford f-150   like new      2008.0\n",
       "2             hyundai sonata       fair      2006.0\n",
       "3               chrysler 200  excellent      2001.0\n",
       "4               chrysler 300    salvage         NaN\n",
       "5               toyota camry        new      2018.0\n",
       "6                honda pilot       good      2009.0\n",
       "7                kia sorento   like new      2014.0\n",
       "8   chevrolet silverado 1500       fair      2010.0\n",
       "9               honda accord  excellent      2010.0\n",
       "10                  ram 1500    salvage      2005.0\n",
       "11                 gmc yukon        new      2000.0\n",
       "12             jeep cherokee       good      2001.0\n",
       "13        chevrolet traverse   like new      2012.0\n",
       "14           hyundai elantra       fair      2006.0\n",
       "15           chevrolet tahoe  excellent      2010.0\n",
       "16               toyota rav4    salvage      2002.0\n",
       "17       chevrolet silverado        new      2018.0\n",
       "18             jeep wrangler       good      1999.0\n",
       "19          chevrolet malibu   like new      2016.0"
      ]
     },
     "execution_count": 22,
     "metadata": {},
     "output_type": "execute_result"
    }
   ],
   "source": [
    "data1 = {'model': ['bmw x5', 'ford f-150', 'hyundai sonata', 'chrysler 200', 'chrysler 300', 'toyota camry', 'honda pilot', 'kia sorento', 'chevrolet silverado 1500', 'honda accord', 'ram 1500', 'gmc yukon', 'jeep cherokee', 'chevrolet traverse', 'hyundai elantra', 'chevrolet tahoe', 'toyota rav4', 'chevrolet silverado', 'jeep wrangler', 'chevrolet malibu'],\n",
    "         'condition': ['good', 'like new', 'fair', 'excellent', 'salvage', 'new', 'good', 'like new', 'fair', 'excellent', 'salvage', 'new', 'good', 'like new', 'fair', 'excellent', 'salvage', 'new', 'good', 'like new'],\n",
    "          'model_year': [None, 2008, None, 2001, None, None, 2009, None, 2010, None, None, 2000, None, 2012, None, None, 2002, None, 1999, None]} # Creando el dataframe de prueba\n",
    "data_test1 = pd.DataFrame(data1) # Creando el dataframe de prueba\n",
    "data_test1['model_year'] = data_test1.apply(fillna_model_year, axis=1) # Comprobando si funciona\n",
    "data_test1"
   ]
  },
  {
   "attachments": {},
   "cell_type": "markdown",
   "metadata": {},
   "source": [
    "Notemos que para el modelo \"chrysler 300\" no se pudo llenar el valor ausente ficticio creado, mientras que para los demás casos no hubo problemas. Esto puede ocurrir porque no encontró un valor en nuestro cuadro de medianas por modelo y la función utilizó el valor \"np.nan\", que devuelve el valor nulo. Lo comprobaremos realizando un \"query\" y las condiciones necesarias:"
   ]
  },
  {
   "cell_type": "code",
   "execution_count": 23,
   "metadata": {},
   "outputs": [
    {
     "name": "stdout",
     "output_type": "stream",
     "text": [
      "Empty DataFrame\n",
      "Columns: [price, model_year, model, condition, cylinders, fuel, odometer, transmission, type, paint_color, is_4wd, date_posted, days_listed]\n",
      "Index: []\n"
     ]
    }
   ],
   "source": [
    "print(cars.query('model == \"chrysler 300\" and condition == \"salvage\"'))"
   ]
  },
  {
   "attachments": {},
   "cell_type": "markdown",
   "metadata": {},
   "source": [
    "Tal como se esperaba, el resultado nos devuelve un DataFrame vacío. Es decir, no existen valores para esa situación en específico para obtener la mediana y, por tanto, imputar los valores ausentes. Es posible que esta situación se repita en varios casos, pero deberíamos esperar que los valores ausentes en su mayoría sean llenados de manera satisfactoria. Entonces, dado que la función hace relativamente bien su trabajo, procedemos a aplicarla a la columna y comparar si aún existen valores ausentes:"
   ]
  },
  {
   "cell_type": "code",
   "execution_count": 24,
   "metadata": {},
   "outputs": [],
   "source": [
    "cars['model_year'] = cars.apply(fillna_model_year, axis=1)  # aplicando la función a model_year"
   ]
  },
  {
   "cell_type": "code",
   "execution_count": 25,
   "metadata": {},
   "outputs": [
    {
     "data": {
      "text/html": [
       "<div>\n",
       "<style scoped>\n",
       "    .dataframe tbody tr th:only-of-type {\n",
       "        vertical-align: middle;\n",
       "    }\n",
       "\n",
       "    .dataframe tbody tr th {\n",
       "        vertical-align: top;\n",
       "    }\n",
       "\n",
       "    .dataframe thead th {\n",
       "        text-align: right;\n",
       "    }\n",
       "</style>\n",
       "<table border=\"1\" class=\"dataframe\">\n",
       "  <thead>\n",
       "    <tr style=\"text-align: right;\">\n",
       "      <th></th>\n",
       "      <th>price</th>\n",
       "      <th>model_year</th>\n",
       "      <th>model</th>\n",
       "      <th>condition</th>\n",
       "      <th>cylinders</th>\n",
       "      <th>fuel</th>\n",
       "      <th>odometer</th>\n",
       "      <th>transmission</th>\n",
       "      <th>type</th>\n",
       "      <th>paint_color</th>\n",
       "      <th>is_4wd</th>\n",
       "      <th>date_posted</th>\n",
       "      <th>days_listed</th>\n",
       "    </tr>\n",
       "  </thead>\n",
       "  <tbody>\n",
       "    <tr>\n",
       "      <th>10444</th>\n",
       "      <td>9600</td>\n",
       "      <td>NaN</td>\n",
       "      <td>chevrolet cruze</td>\n",
       "      <td>new</td>\n",
       "      <td>4.0</td>\n",
       "      <td>gas</td>\n",
       "      <td>19000.0</td>\n",
       "      <td>automatic</td>\n",
       "      <td>sedan</td>\n",
       "      <td>white</td>\n",
       "      <td>0.0</td>\n",
       "      <td>2018-07-30</td>\n",
       "      <td>33</td>\n",
       "    </tr>\n",
       "    <tr>\n",
       "      <th>18125</th>\n",
       "      <td>15000</td>\n",
       "      <td>NaN</td>\n",
       "      <td>cadillac escalade</td>\n",
       "      <td>salvage</td>\n",
       "      <td>8.0</td>\n",
       "      <td>gas</td>\n",
       "      <td>108000.0</td>\n",
       "      <td>automatic</td>\n",
       "      <td>SUV</td>\n",
       "      <td>black</td>\n",
       "      <td>1.0</td>\n",
       "      <td>2018-06-03</td>\n",
       "      <td>49</td>\n",
       "    </tr>\n",
       "    <tr>\n",
       "      <th>20368</th>\n",
       "      <td>7000</td>\n",
       "      <td>NaN</td>\n",
       "      <td>volkswagen jetta</td>\n",
       "      <td>new</td>\n",
       "      <td>4.0</td>\n",
       "      <td>diesel</td>\n",
       "      <td>171000.0</td>\n",
       "      <td>automatic</td>\n",
       "      <td>sedan</td>\n",
       "      <td>white</td>\n",
       "      <td>0.0</td>\n",
       "      <td>2019-03-28</td>\n",
       "      <td>107</td>\n",
       "    </tr>\n",
       "    <tr>\n",
       "      <th>21758</th>\n",
       "      <td>23000</td>\n",
       "      <td>NaN</td>\n",
       "      <td>ford escape</td>\n",
       "      <td>new</td>\n",
       "      <td>4.0</td>\n",
       "      <td>gas</td>\n",
       "      <td>12000.0</td>\n",
       "      <td>automatic</td>\n",
       "      <td>SUV</td>\n",
       "      <td>NaN</td>\n",
       "      <td>1.0</td>\n",
       "      <td>2019-02-13</td>\n",
       "      <td>23</td>\n",
       "    </tr>\n",
       "    <tr>\n",
       "      <th>27192</th>\n",
       "      <td>1200</td>\n",
       "      <td>NaN</td>\n",
       "      <td>toyota rav4</td>\n",
       "      <td>salvage</td>\n",
       "      <td>4.0</td>\n",
       "      <td>gas</td>\n",
       "      <td>NaN</td>\n",
       "      <td>automatic</td>\n",
       "      <td>SUV</td>\n",
       "      <td>green</td>\n",
       "      <td>1.0</td>\n",
       "      <td>2018-10-19</td>\n",
       "      <td>21</td>\n",
       "    </tr>\n",
       "    <tr>\n",
       "      <th>47905</th>\n",
       "      <td>13900</td>\n",
       "      <td>NaN</td>\n",
       "      <td>jeep wrangler</td>\n",
       "      <td>new</td>\n",
       "      <td>NaN</td>\n",
       "      <td>gas</td>\n",
       "      <td>149000.0</td>\n",
       "      <td>automatic</td>\n",
       "      <td>SUV</td>\n",
       "      <td>silver</td>\n",
       "      <td>1.0</td>\n",
       "      <td>2019-04-10</td>\n",
       "      <td>35</td>\n",
       "    </tr>\n",
       "  </tbody>\n",
       "</table>\n",
       "</div>"
      ],
      "text/plain": [
       "       price  model_year              model condition  cylinders    fuel  \\\n",
       "10444   9600         NaN    chevrolet cruze       new        4.0     gas   \n",
       "18125  15000         NaN  cadillac escalade   salvage        8.0     gas   \n",
       "20368   7000         NaN   volkswagen jetta       new        4.0  diesel   \n",
       "21758  23000         NaN        ford escape       new        4.0     gas   \n",
       "27192   1200         NaN        toyota rav4   salvage        4.0     gas   \n",
       "47905  13900         NaN      jeep wrangler       new        NaN     gas   \n",
       "\n",
       "       odometer transmission   type paint_color  is_4wd date_posted  \\\n",
       "10444   19000.0    automatic  sedan       white     0.0  2018-07-30   \n",
       "18125  108000.0    automatic    SUV       black     1.0  2018-06-03   \n",
       "20368  171000.0    automatic  sedan       white     0.0  2019-03-28   \n",
       "21758   12000.0    automatic    SUV         NaN     1.0  2019-02-13   \n",
       "27192       NaN    automatic    SUV       green     1.0  2018-10-19   \n",
       "47905  149000.0    automatic    SUV      silver     1.0  2019-04-10   \n",
       "\n",
       "       days_listed  \n",
       "10444           33  \n",
       "18125           49  \n",
       "20368          107  \n",
       "21758           23  \n",
       "27192           21  \n",
       "47905           35  "
      ]
     },
     "execution_count": 25,
     "metadata": {},
     "output_type": "execute_result"
    }
   ],
   "source": [
    "cars[cars['model_year'].isna()]"
   ]
  },
  {
   "attachments": {},
   "cell_type": "markdown",
   "metadata": {},
   "source": [
    "Tenemos seis filas a las que la función no hizo efecto. Tal como demostramos arriba, estos son casos únicos y la función no puede tomar una mediana para completar los valores ausentes. Notamos que algunas filas también tienen valores ausentes en otras columnas. \n",
    "\n",
    "El hecho de que respecto al total de datos, estos seis datos representen un porcentaje mínimo y que también en algunas otras columnas contengan datos ausentes, hace tentativa la opción de eliminar estas filas. \n",
    "\n",
    "**OJO** `Pendiente el hecho de eliminar o no estas filas.`"
   ]
  },
  {
   "attachments": {},
   "cell_type": "markdown",
   "metadata": {},
   "source": [
    "**Valores ausentes de la columna `cylinders`**"
   ]
  },
  {
   "attachments": {},
   "cell_type": "markdown",
   "metadata": {},
   "source": [
    "Esta columna tiene valores numéricos que en realidad son tratados como categóricos, debido a que son características de un vehículo y no se pueden realizar operaciones con sus valores porque no tendría sentido. Traeremos su descripción (distribución) para recordar y analizar qué hacer con sus valores ausentes:"
   ]
  },
  {
   "cell_type": "code",
   "execution_count": 26,
   "metadata": {},
   "outputs": [
    {
     "data": {
      "text/plain": [
       "count    46265.000000\n",
       "mean         6.125235\n",
       "std          1.660360\n",
       "min          3.000000\n",
       "25%          4.000000\n",
       "50%          6.000000\n",
       "75%          8.000000\n",
       "max         12.000000\n",
       "Name: cylinders, dtype: float64"
      ]
     },
     "execution_count": 26,
     "metadata": {},
     "output_type": "execute_result"
    }
   ],
   "source": [
    "cars['cylinders'].describe()"
   ]
  },
  {
   "attachments": {},
   "cell_type": "markdown",
   "metadata": {},
   "source": [
    "Tal como mencionamos, usaremos la mediana por la propia naturaleza de esta variable.\n",
    "\n",
    "Ahora vale preguntarse qué otra columna podría ayudarnos a completar estos valores ausentes y un factor que resulta bastante razonable es el modelo: generalmente un modelo va asociado a un motor en concreto (y por tanto, a un número de cilindros del motor). Entonces, agruparemos en base al modelo para obtener la mediana correspondiente:"
   ]
  },
  {
   "cell_type": "code",
   "execution_count": 27,
   "metadata": {},
   "outputs": [
    {
     "data": {
      "text/plain": [
       "model\n",
       "acura tl                         6.0\n",
       "bmw x5                           6.0\n",
       "buick enclave                    6.0\n",
       "cadillac escalade                8.0\n",
       "chevrolet camaro                 6.0\n",
       "chevrolet camaro lt coupe 2d     6.0\n",
       "chevrolet colorado               5.0\n",
       "chevrolet corvette               8.0\n",
       "chevrolet cruze                  4.0\n",
       "chevrolet equinox                4.0\n",
       "chevrolet impala                 6.0\n",
       "chevrolet malibu                 4.0\n",
       "chevrolet silverado              8.0\n",
       "chevrolet silverado 1500         8.0\n",
       "chevrolet silverado 1500 crew    8.0\n",
       "Name: cylinders, dtype: float64"
      ]
     },
     "execution_count": 27,
     "metadata": {},
     "output_type": "execute_result"
    }
   ],
   "source": [
    "cars_cylinders = cars.groupby('model')['cylinders'].median()\n",
    "cars_cylinders.head(15)"
   ]
  },
  {
   "attachments": {},
   "cell_type": "markdown",
   "metadata": {},
   "source": [
    "Ya que nuestra agrupación funciona correctamente, crearemos una función para llenar los valores ausentes de esta columna:"
   ]
  },
  {
   "cell_type": "code",
   "execution_count": 28,
   "metadata": {},
   "outputs": [],
   "source": [
    "def fillna_cylinders(data):\n",
    "    model = data['model']\n",
    "    cylinders = data['cylinders']\n",
    "    if pd.isna(cylinders):\n",
    "        try:\n",
    "            return cars_cylinders.loc[model]\n",
    "        except:\n",
    "            return np.nan\n",
    "    return cylinders"
   ]
  },
  {
   "attachments": {},
   "cell_type": "markdown",
   "metadata": {},
   "source": [
    "Una vez creada la función, la probamos:"
   ]
  },
  {
   "cell_type": "code",
   "execution_count": 29,
   "metadata": {},
   "outputs": [
    {
     "data": {
      "text/plain": [
       "5260"
      ]
     },
     "execution_count": 29,
     "metadata": {},
     "output_type": "execute_result"
    }
   ],
   "source": [
    "cars['cylinders'].isna().sum()"
   ]
  },
  {
   "cell_type": "code",
   "execution_count": 30,
   "metadata": {},
   "outputs": [
    {
     "data": {
      "text/html": [
       "<div>\n",
       "<style scoped>\n",
       "    .dataframe tbody tr th:only-of-type {\n",
       "        vertical-align: middle;\n",
       "    }\n",
       "\n",
       "    .dataframe tbody tr th {\n",
       "        vertical-align: top;\n",
       "    }\n",
       "\n",
       "    .dataframe thead th {\n",
       "        text-align: right;\n",
       "    }\n",
       "</style>\n",
       "<table border=\"1\" class=\"dataframe\">\n",
       "  <thead>\n",
       "    <tr style=\"text-align: right;\">\n",
       "      <th></th>\n",
       "      <th>model</th>\n",
       "      <th>cylinders</th>\n",
       "    </tr>\n",
       "  </thead>\n",
       "  <tbody>\n",
       "    <tr>\n",
       "      <th>0</th>\n",
       "      <td>bmw x5</td>\n",
       "      <td>6.0</td>\n",
       "    </tr>\n",
       "    <tr>\n",
       "      <th>1</th>\n",
       "      <td>ford f-150</td>\n",
       "      <td>4.0</td>\n",
       "    </tr>\n",
       "    <tr>\n",
       "      <th>2</th>\n",
       "      <td>hyundai sonata</td>\n",
       "      <td>8.0</td>\n",
       "    </tr>\n",
       "    <tr>\n",
       "      <th>3</th>\n",
       "      <td>chrysler 200</td>\n",
       "      <td>4.0</td>\n",
       "    </tr>\n",
       "    <tr>\n",
       "      <th>4</th>\n",
       "      <td>chrysler 300</td>\n",
       "      <td>5.0</td>\n",
       "    </tr>\n",
       "    <tr>\n",
       "      <th>5</th>\n",
       "      <td>toyota camry</td>\n",
       "      <td>10.0</td>\n",
       "    </tr>\n",
       "    <tr>\n",
       "      <th>6</th>\n",
       "      <td>honda pilot</td>\n",
       "      <td>3.0</td>\n",
       "    </tr>\n",
       "    <tr>\n",
       "      <th>7</th>\n",
       "      <td>kia sorento</td>\n",
       "      <td>12.0</td>\n",
       "    </tr>\n",
       "    <tr>\n",
       "      <th>8</th>\n",
       "      <td>chevrolet silverado 1500</td>\n",
       "      <td>8.0</td>\n",
       "    </tr>\n",
       "    <tr>\n",
       "      <th>9</th>\n",
       "      <td>honda accord</td>\n",
       "      <td>4.0</td>\n",
       "    </tr>\n",
       "    <tr>\n",
       "      <th>10</th>\n",
       "      <td>ram 1500</td>\n",
       "      <td>8.0</td>\n",
       "    </tr>\n",
       "    <tr>\n",
       "      <th>11</th>\n",
       "      <td>gmc yukon</td>\n",
       "      <td>8.0</td>\n",
       "    </tr>\n",
       "    <tr>\n",
       "      <th>12</th>\n",
       "      <td>jeep cherokee</td>\n",
       "      <td>5.0</td>\n",
       "    </tr>\n",
       "    <tr>\n",
       "      <th>13</th>\n",
       "      <td>chevrolet traverse</td>\n",
       "      <td>10.0</td>\n",
       "    </tr>\n",
       "    <tr>\n",
       "      <th>14</th>\n",
       "      <td>hyundai elantra</td>\n",
       "      <td>3.0</td>\n",
       "    </tr>\n",
       "    <tr>\n",
       "      <th>15</th>\n",
       "      <td>chevrolet tahoe</td>\n",
       "      <td>12.0</td>\n",
       "    </tr>\n",
       "    <tr>\n",
       "      <th>16</th>\n",
       "      <td>toyota rav4</td>\n",
       "      <td>6.0</td>\n",
       "    </tr>\n",
       "    <tr>\n",
       "      <th>17</th>\n",
       "      <td>chevrolet silverado</td>\n",
       "      <td>8.0</td>\n",
       "    </tr>\n",
       "    <tr>\n",
       "      <th>18</th>\n",
       "      <td>jeep wrangler</td>\n",
       "      <td>8.0</td>\n",
       "    </tr>\n",
       "    <tr>\n",
       "      <th>19</th>\n",
       "      <td>chevrolet malibu</td>\n",
       "      <td>4.0</td>\n",
       "    </tr>\n",
       "  </tbody>\n",
       "</table>\n",
       "</div>"
      ],
      "text/plain": [
       "                       model  cylinders\n",
       "0                     bmw x5        6.0\n",
       "1                 ford f-150        4.0\n",
       "2             hyundai sonata        8.0\n",
       "3               chrysler 200        4.0\n",
       "4               chrysler 300        5.0\n",
       "5               toyota camry       10.0\n",
       "6                honda pilot        3.0\n",
       "7                kia sorento       12.0\n",
       "8   chevrolet silverado 1500        8.0\n",
       "9               honda accord        4.0\n",
       "10                  ram 1500        8.0\n",
       "11                 gmc yukon        8.0\n",
       "12             jeep cherokee        5.0\n",
       "13        chevrolet traverse       10.0\n",
       "14           hyundai elantra        3.0\n",
       "15           chevrolet tahoe       12.0\n",
       "16               toyota rav4        6.0\n",
       "17       chevrolet silverado        8.0\n",
       "18             jeep wrangler        8.0\n",
       "19          chevrolet malibu        4.0"
      ]
     },
     "execution_count": 30,
     "metadata": {},
     "output_type": "execute_result"
    }
   ],
   "source": [
    "data2 = {'model': ['bmw x5', 'ford f-150', 'hyundai sonata', 'chrysler 200', 'chrysler 300', 'toyota camry', 'honda pilot', 'kia sorento', 'chevrolet silverado 1500', 'honda accord', 'ram 1500', 'gmc yukon', 'jeep cherokee', 'chevrolet traverse', 'hyundai elantra', 'chevrolet tahoe', 'toyota rav4', 'chevrolet silverado', 'jeep wrangler', 'chevrolet malibu'],\n",
    "         'cylinders': [None, 4., 8., None, 5., 10., 3., 12., None, 4., 8., None, 5., 10., 3., 12., 6., None, 8., None],} # Creando el dataframe de prueba\n",
    "data_test2 = pd.DataFrame(data2) # Creando el dataframe de prueba\n",
    "data_test2['cylinders'] = data_test2.apply(fillna_cylinders, axis=1) # Comprobando si funciona\n",
    "data_test2"
   ]
  },
  {
   "cell_type": "code",
   "execution_count": 31,
   "metadata": {},
   "outputs": [],
   "source": [
    "cars['cylinders'] = cars.apply(fillna_cylinders, axis=1)"
   ]
  },
  {
   "cell_type": "code",
   "execution_count": 32,
   "metadata": {},
   "outputs": [
    {
     "data": {
      "text/plain": [
       "0"
      ]
     },
     "execution_count": 32,
     "metadata": {},
     "output_type": "execute_result"
    }
   ],
   "source": [
    "cars['cylinders'].isna().sum()"
   ]
  },
  {
   "attachments": {},
   "cell_type": "markdown",
   "metadata": {},
   "source": [
    "**Valores ausentes de la columna `paint_color`**"
   ]
  },
  {
   "attachments": {},
   "cell_type": "markdown",
   "metadata": {},
   "source": [
    "Esta columna es completamente categórica y para recordar sus características la traeremos con el método \"value_counts\":"
   ]
  },
  {
   "cell_type": "code",
   "execution_count": 33,
   "metadata": {},
   "outputs": [
    {
     "data": {
      "text/plain": [
       "white     10029\n",
       "NaN        9267\n",
       "black      7692\n",
       "silver     6244\n",
       "grey       5037\n",
       "blue       4475\n",
       "red        4421\n",
       "green      1396\n",
       "brown      1223\n",
       "custom     1153\n",
       "yellow      255\n",
       "orange      231\n",
       "purple      102\n",
       "Name: paint_color, dtype: int64"
      ]
     },
     "execution_count": 33,
     "metadata": {},
     "output_type": "execute_result"
    }
   ],
   "source": [
    "cars['paint_color'].value_counts(dropna=False)"
   ]
  },
  {
   "attachments": {},
   "cell_type": "markdown",
   "metadata": {},
   "source": [
    "Recordemos que esta columna presenta un relativo gran número de valores ausentes, sin embargo, no es fácil relacionar alguna característica u otra columna que nos ayude a agrupar y determinar algún estadístico para luego imputar los valores ausentes. Eso, agregado a que no podemos eliminar las filas porque podríamos caer en el error de sesgar nuestros resultados en otras columnas (porque estaríamos eliminando alrededor del 18 % de nuestros datos) y perder información que podría resultar valiosa.\n",
    "\n",
    "Por tanto, por el momento dejaremos a esta columna tal como está, por ahora, y continuaremos con la corrección de los datos en la sección siguiente."
   ]
  },
  {
   "attachments": {},
   "cell_type": "markdown",
   "metadata": {},
   "source": [
    "**Conclusión**\n",
    "\n",
    "Para la columna `is_4wd`, pudimos determinar la naturaleza de los valores ausentes y aplicamos la corrección necesaria. También pudimos agrupar y completar los datos de manera relativamente satisfactoria para las columnas `odometer` y `model_year`, así como también pudimos completar con éxito la columna `cylinders`. Pero tuvimos problemas para tratar los valores ausentes de la columna `paint_color`, debido a que no se relaciona con ninguna otra columna ni es fácil determinar qué factores determinan la compra de un color o no. \n",
    "\n",
    "Por ahora, continuaremos con las correciones de algunas columnas que mostraban datos incorrectos:"
   ]
  },
  {
   "cell_type": "markdown",
   "metadata": {},
   "source": [
    "## Corregir los tipos de datos"
   ]
  },
  {
   "attachments": {},
   "cell_type": "markdown",
   "metadata": {},
   "source": [
    "En el primer apartado, habíamos observado que algunas columnas tenían tipos de datos incorrectos o que necesitan algún cambio para poder hacer su análisis más fácil. En este caso, empezaremos con la columna `date_posted`, columna que es más crítica respecto a este tema:\n",
    "\n",
    "[Ya que los datos están más o menos completos ahora, corrige los tipos de datos si es necesario.]"
   ]
  },
  {
   "attachments": {},
   "cell_type": "markdown",
   "metadata": {},
   "source": [
    "**Corregir la columna `date_posted`**"
   ]
  },
  {
   "attachments": {},
   "cell_type": "markdown",
   "metadata": {},
   "source": [
    "Recordemos que esta columna está en el dataset como tipo objeto y necesita ser cambiado a tipo fecha, por tanto, haremos el cambio de formato:"
   ]
  },
  {
   "cell_type": "code",
   "execution_count": 34,
   "metadata": {},
   "outputs": [
    {
     "data": {
      "text/plain": [
       "0    2018-06-23\n",
       "1    2018-10-19\n",
       "2    2019-02-07\n",
       "3    2019-03-22\n",
       "4    2019-04-02\n",
       "Name: date_posted, dtype: object"
      ]
     },
     "execution_count": 34,
     "metadata": {},
     "output_type": "execute_result"
    }
   ],
   "source": [
    "cars['date_posted'].head()"
   ]
  },
  {
   "cell_type": "code",
   "execution_count": 35,
   "metadata": {},
   "outputs": [
    {
     "data": {
      "text/plain": [
       "0   2018-06-23\n",
       "1   2018-10-19\n",
       "2   2019-02-07\n",
       "3   2019-03-22\n",
       "4   2019-04-02\n",
       "Name: date_posted, dtype: datetime64[ns]"
      ]
     },
     "execution_count": 35,
     "metadata": {},
     "output_type": "execute_result"
    }
   ],
   "source": [
    "cars['date_posted'] = pd.to_datetime(cars['date_posted'], format='%Y-%m-%d')\n",
    "cars['date_posted'].head()"
   ]
  },
  {
   "attachments": {},
   "cell_type": "markdown",
   "metadata": {},
   "source": [
    "Una vez solucionado, pasamos a la columna `type`."
   ]
  },
  {
   "attachments": {},
   "cell_type": "markdown",
   "metadata": {},
   "source": [
    "**Corregir la columna `type`**"
   ]
  },
  {
   "attachments": {},
   "cell_type": "markdown",
   "metadata": {},
   "source": [
    "Esta columna presentaba un valor en mayúsculas, lo cual podría obstaculizar nuestro trabajo posterior. Debido a eso, estandarizaremos sus valores llevándolos a minúsculas:"
   ]
  },
  {
   "cell_type": "code",
   "execution_count": 36,
   "metadata": {},
   "outputs": [
    {
     "data": {
      "text/plain": [
       "array(['SUV', 'pickup', 'sedan', 'truck', 'coupe', 'van', 'convertible',\n",
       "       'hatchback', 'wagon', 'mini-van', 'other', 'offroad', 'bus'],\n",
       "      dtype=object)"
      ]
     },
     "execution_count": 36,
     "metadata": {},
     "output_type": "execute_result"
    }
   ],
   "source": [
    "cars['type'].unique()"
   ]
  },
  {
   "cell_type": "code",
   "execution_count": 37,
   "metadata": {},
   "outputs": [
    {
     "data": {
      "text/plain": [
       "array(['suv', 'pickup', 'sedan', 'truck', 'coupe', 'van', 'convertible',\n",
       "       'hatchback', 'wagon', 'mini-van', 'other', 'offroad', 'bus'],\n",
       "      dtype=object)"
      ]
     },
     "execution_count": 37,
     "metadata": {},
     "output_type": "execute_result"
    }
   ],
   "source": [
    "cars['type'] = cars['type'].str.lower()\n",
    "cars['type'].unique()"
   ]
  },
  {
   "attachments": {},
   "cell_type": "markdown",
   "metadata": {},
   "source": [
    "Una vez solucionada esta columna, pasamos a la columna `is_4wd`."
   ]
  },
  {
   "attachments": {},
   "cell_type": "markdown",
   "metadata": {},
   "source": [
    "**Corregir la columna `is_4wd`**"
   ]
  },
  {
   "attachments": {},
   "cell_type": "markdown",
   "metadata": {},
   "source": [
    "En esta columna contamos con dos valores, siendo 1 (verdadero) para los vehículos que cuentan con tracción total o en las cuatro ruedas, y 0 (falso) para el caso contrario, vehículos de tracción trasera o en dos ruedas. Lo ideal sería que esta columna fuera de tipo booleano para facilitar la interpretación:"
   ]
  },
  {
   "cell_type": "code",
   "execution_count": 38,
   "metadata": {},
   "outputs": [
    {
     "data": {
      "text/plain": [
       "0.0    25953\n",
       "1.0    25572\n",
       "Name: is_4wd, dtype: int64"
      ]
     },
     "execution_count": 38,
     "metadata": {},
     "output_type": "execute_result"
    }
   ],
   "source": [
    "cars['is_4wd'].value_counts()"
   ]
  },
  {
   "cell_type": "code",
   "execution_count": 39,
   "metadata": {},
   "outputs": [
    {
     "data": {
      "text/plain": [
       "False    25953\n",
       "True     25572\n",
       "Name: is_4wd, dtype: int64"
      ]
     },
     "execution_count": 39,
     "metadata": {},
     "output_type": "execute_result"
    }
   ],
   "source": [
    "cars['is_4wd'] = cars['is_4wd'].astype('bool')\n",
    "cars['is_4wd'].value_counts()"
   ]
  },
  {
   "attachments": {},
   "cell_type": "markdown",
   "metadata": {},
   "source": [
    "Una vez logrado, pasamos a la siguiente columna, `cylinders`."
   ]
  },
  {
   "attachments": {},
   "cell_type": "markdown",
   "metadata": {},
   "source": [
    "**Corregir la columna `cylinders`**"
   ]
  },
  {
   "attachments": {},
   "cell_type": "markdown",
   "metadata": {},
   "source": [
    "Aunque en principio esta columna no pareciera necesitar cambios, recordemos que se trata de una variable que terminamos definiendo como categórica a pesar de sus aparentes valores numéricos. También es bueno tener en cuenta que los cilindros de un vehículo en general son números enteros, no flotantes. Entonces, cambiaremos a un tipo de valores que nos parece más coherente:"
   ]
  },
  {
   "cell_type": "code",
   "execution_count": 40,
   "metadata": {},
   "outputs": [
    {
     "data": {
      "text/plain": [
       "0    6.0\n",
       "1    6.0\n",
       "2    4.0\n",
       "3    8.0\n",
       "4    4.0\n",
       "Name: cylinders, dtype: float64"
      ]
     },
     "execution_count": 40,
     "metadata": {},
     "output_type": "execute_result"
    }
   ],
   "source": [
    "cars['cylinders'].head()"
   ]
  },
  {
   "cell_type": "code",
   "execution_count": 41,
   "metadata": {},
   "outputs": [
    {
     "data": {
      "text/plain": [
       "0    6\n",
       "1    6\n",
       "2    4\n",
       "3    8\n",
       "4    4\n",
       "Name: cylinders, dtype: int32"
      ]
     },
     "execution_count": 41,
     "metadata": {},
     "output_type": "execute_result"
    }
   ],
   "source": [
    "cars['cylinders'] = cars['cylinders'].astype('int')\n",
    "cars['cylinders'].head()"
   ]
  },
  {
   "attachments": {},
   "cell_type": "markdown",
   "metadata": {},
   "source": [
    "Por ahora, parece que los datos no necesitan más correcciones. Ahora analizaremos si existen valores duplicados en nuestra data."
   ]
  },
  {
   "attachments": {},
   "cell_type": "markdown",
   "metadata": {},
   "source": [
    "**Corrigiendo valores duplicados (si es que los hay)**"
   ]
  },
  {
   "attachments": {},
   "cell_type": "markdown",
   "metadata": {},
   "source": [
    "En este caso, contaremos si existen filas duplicadas en nuestro DataFrame para analizarlos y tratarlos:"
   ]
  },
  {
   "cell_type": "code",
   "execution_count": 49,
   "metadata": {},
   "outputs": [
    {
     "data": {
      "text/plain": [
       "0"
      ]
     },
     "execution_count": 49,
     "metadata": {},
     "output_type": "execute_result"
    }
   ],
   "source": [
    "cars.duplicated().sum()"
   ]
  },
  {
   "attachments": {},
   "cell_type": "markdown",
   "metadata": {},
   "source": [
    "Parece que no tenemos valores duplicados en estos momentos. Por ahora, veremos nuevamente el resumen de nuestros datos y daremos conclusiones acerca del trabajo realizado por ahora."
   ]
  },
  {
   "cell_type": "code",
   "execution_count": 48,
   "metadata": {},
   "outputs": [
    {
     "name": "stdout",
     "output_type": "stream",
     "text": [
      "<class 'pandas.core.frame.DataFrame'>\n",
      "RangeIndex: 51525 entries, 0 to 51524\n",
      "Data columns (total 13 columns):\n",
      " #   Column        Non-Null Count  Dtype         \n",
      "---  ------        --------------  -----         \n",
      " 0   price         51525 non-null  int64         \n",
      " 1   model_year    51519 non-null  float64       \n",
      " 2   model         51525 non-null  object        \n",
      " 3   condition     51525 non-null  object        \n",
      " 4   cylinders     51525 non-null  int32         \n",
      " 5   fuel          51525 non-null  object        \n",
      " 6   odometer      50969 non-null  float64       \n",
      " 7   transmission  51525 non-null  object        \n",
      " 8   type          51525 non-null  object        \n",
      " 9   paint_color   42258 non-null  object        \n",
      " 10  is_4wd        51525 non-null  bool          \n",
      " 11  date_posted   51525 non-null  datetime64[ns]\n",
      " 12  days_listed   51525 non-null  int64         \n",
      "dtypes: bool(1), datetime64[ns](1), float64(2), int32(1), int64(2), object(6)\n",
      "memory usage: 4.6+ MB\n"
     ]
    }
   ],
   "source": [
    "cars.info()"
   ]
  },
  {
   "attachments": {},
   "cell_type": "markdown",
   "metadata": {},
   "source": [
    "**Conclusiones del apartado**\n",
    "\n",
    "Hemos logrado corregir los datos de las columnas `date_posted`, `is_4wd`,`type` y `cylinders` de manera satisfactoria, logrando que sus datos estén acorde a lo esperado y que en el futuro nos facilite el análisis de los datos. También hemos analizado los valores duplicados y, por ahora, no los tenemos.\n",
    "\n",
    "En nuestro vistazo a la información resumida de los datos podemos observar que los datos están corregidos, aunque es necesario ampliar el análisis. Para esto, en el siguiente apartado veremos qué información extra podemos agregar o extraer de nuestra data que nos pueda ser de utilidad para probar nuestras hipótesis."
   ]
  },
  {
   "cell_type": "markdown",
   "metadata": {},
   "source": [
    "## Enriquecer datos"
   ]
  },
  {
   "attachments": {},
   "cell_type": "markdown",
   "metadata": {},
   "source": [
    "\n",
    "\n",
    "[Agrega factores adicionales a los datos para facilitar el análisis.]"
   ]
  },
  {
   "cell_type": "code",
   "execution_count": 36,
   "metadata": {},
   "outputs": [],
   "source": [
    "# Agrega valores de fecha y hora para cuando se colocó el anuncio\n",
    "\n"
   ]
  },
  {
   "cell_type": "code",
   "execution_count": 37,
   "metadata": {},
   "outputs": [],
   "source": [
    "# Agrega los años del vehículo cuando el anuncio se colocó\n",
    "\n"
   ]
  },
  {
   "cell_type": "code",
   "execution_count": 38,
   "metadata": {},
   "outputs": [],
   "source": [
    "# Agrega el millaje promedio del vehículo por año\n",
    "\n"
   ]
  },
  {
   "cell_type": "code",
   "execution_count": 39,
   "metadata": {},
   "outputs": [],
   "source": [
    "# Podría ser útil reemplazar los valores de condición con algo que se pueda manipular más fácilmente\n",
    "\n",
    "\n"
   ]
  },
  {
   "cell_type": "markdown",
   "metadata": {},
   "source": [
    "## Comprobar datos limpios"
   ]
  },
  {
   "cell_type": "markdown",
   "metadata": {},
   "source": [
    "[Dado que los datos están listos para el análisis, échales otro vistazo rápido. Es útil ver qué es exactamente lo que vas a utilizar para el análisis.]"
   ]
  },
  {
   "cell_type": "code",
   "execution_count": 40,
   "metadata": {},
   "outputs": [],
   "source": [
    "# imprime la información general/resumida sobre el DataFrame\n",
    "\n"
   ]
  },
  {
   "cell_type": "code",
   "execution_count": 41,
   "metadata": {},
   "outputs": [],
   "source": [
    "# imprimir una muestra de datos\n",
    "\n"
   ]
  },
  {
   "attachments": {},
   "cell_type": "markdown",
   "metadata": {},
   "source": [
    "# EDA"
   ]
  },
  {
   "cell_type": "markdown",
   "metadata": {},
   "source": [
    "## Estudiar parámetros principales\n",
    "\n",
    "[Elige un enfoque apropiado para estudiar los parámetros enumerados a continuación, presta especial atención a cómo los valores atípicos afectan la forma y la legibilidad de los histogramas.]\n",
    "\n",
    "Los parámetros son:\n",
    "- Precio\n",
    "- Los años del vehículo cuando el anuncio se colocó\n",
    "- Millaje\n",
    "- Número de cilindros\n",
    "- Estado"
   ]
  },
  {
   "cell_type": "markdown",
   "metadata": {},
   "source": [
    "[Si te das cuenta que necesitas repetir los mismos trabajos varias veces, piensa qué instrumento de programación podría ser útil para evitar duplicar tu código.]"
   ]
  },
  {
   "cell_type": "code",
   "execution_count": 42,
   "metadata": {},
   "outputs": [],
   "source": [
    "#\n",
    "\n"
   ]
  },
  {
   "cell_type": "code",
   "execution_count": 43,
   "metadata": {},
   "outputs": [],
   "source": [
    "#\n",
    "\n"
   ]
  },
  {
   "cell_type": "code",
   "execution_count": 44,
   "metadata": {},
   "outputs": [],
   "source": [
    "#\n",
    "\n"
   ]
  },
  {
   "cell_type": "code",
   "execution_count": 45,
   "metadata": {},
   "outputs": [],
   "source": [
    "#\n",
    "\n"
   ]
  },
  {
   "cell_type": "code",
   "execution_count": 46,
   "metadata": {},
   "outputs": [],
   "source": [
    "#\n",
    "\n"
   ]
  },
  {
   "cell_type": "code",
   "execution_count": 47,
   "metadata": {},
   "outputs": [],
   "source": [
    "#\n",
    "\n"
   ]
  },
  {
   "cell_type": "markdown",
   "metadata": {},
   "source": [
    "## Estudiar y tratar valores atípicos\n",
    "\n",
    "[Con los resultados anteriores, determina qué columnas pueden contener valores atípicos y crea un DataFrame sin esos valores atípicos. Pista: los valores atípicos se pueden identificar tras definir el límite inferior/superior para el rango normal de valores.]"
   ]
  },
  {
   "cell_type": "code",
   "execution_count": 48,
   "metadata": {},
   "outputs": [],
   "source": [
    "# Determina los límites inferiores para valores atípicos\n",
    "\n"
   ]
  },
  {
   "cell_type": "code",
   "execution_count": 49,
   "metadata": {},
   "outputs": [],
   "source": [
    "# Determinar los límites superiores para valores atípicos\n",
    "\n"
   ]
  },
  {
   "cell_type": "code",
   "execution_count": 50,
   "metadata": {},
   "outputs": [],
   "source": [
    "# Almacena los datos sin valores atípicos en un DataFrame separado\n",
    "\n"
   ]
  },
  {
   "cell_type": "markdown",
   "metadata": {},
   "source": [
    "## Estudiar parámetros principales sin valores atípicos"
   ]
  },
  {
   "cell_type": "markdown",
   "metadata": {},
   "source": [
    "[Utiliza los datos filtrados para crear nuevos histogramas. Compáralos con los histogramas anteriores (aquellos con los valores atípicos incluidos). Saca conclusiones de cada histograma.]"
   ]
  },
  {
   "cell_type": "code",
   "execution_count": null,
   "metadata": {},
   "outputs": [],
   "source": []
  },
  {
   "cell_type": "markdown",
   "metadata": {},
   "source": [
    "## Periodo de colocación de los anuncios\n",
    "\n",
    "[Estudia cuántos días los anuncios fueron mostrados (`days_listed`). Calcula la media y la mediana. Describe el periodo de colocación habitual de un anuncio. Determina cuándo se eliminaron rápidamente los anuncios y cuándo son publicados por un tiempo anormalmente largo.]"
   ]
  },
  {
   "cell_type": "code",
   "execution_count": null,
   "metadata": {},
   "outputs": [],
   "source": []
  },
  {
   "cell_type": "markdown",
   "metadata": {},
   "source": [
    "## Precio promedio por cada tipo de vehículo"
   ]
  },
  {
   "cell_type": "markdown",
   "metadata": {},
   "source": [
    "[Analiza el número de anuncios y el precio promedio para cada tipo de vehículo. Traza un gráfico mostrando la dependencia de la cantidad de anuncios en cada tipo de vehículo. Selecciona los dos tipos con un mayor número de anuncios.]"
   ]
  },
  {
   "cell_type": "code",
   "execution_count": null,
   "metadata": {},
   "outputs": [],
   "source": []
  },
  {
   "cell_type": "markdown",
   "metadata": {},
   "source": [
    "## Factores de precio"
   ]
  },
  {
   "cell_type": "markdown",
   "metadata": {},
   "source": [
    "[¿Qué factores impactan más sobre el precio? Toma cada uno de los tipos más populares que has detectado en la fase anterior y estudia si el precio depende de la edad, millaje, condición, tipo de transmisión y color. Para las variables categóricas (tipo de transmisión y color) traza gráficos de caja y bigotes y crea gráficos de dispersión para el resto. Cuando analices variables categóricas, observa que las categorías deben tener al menos 50 anuncios; si no, sus parámetros no serán válidos para el análisis.]"
   ]
  },
  {
   "cell_type": "markdown",
   "metadata": {},
   "source": [
    "[Utiliza matriz de correlación y diagramas de correlación]"
   ]
  },
  {
   "cell_type": "code",
   "execution_count": null,
   "metadata": {},
   "outputs": [],
   "source": []
  },
  {
   "cell_type": "markdown",
   "metadata": {},
   "source": [
    "## Conclusión general\n",
    "\n",
    "[Enumera tus conclusiones importantes en esta sección final, asegúrate de que incluyan aquellas que te llevaron a la forma en que procesaste y analizaste los datos. Habla de los valores ausentes, duplicados, valores atípicos y las posibles razones y soluciones para los artefactos problemáticos que tuviste que abordar. No olvides eliminar todos los comentarios entre corchetes antes de entregar tu proyecto.]"
   ]
  },
  {
   "cell_type": "code",
   "execution_count": null,
   "metadata": {},
   "outputs": [],
   "source": []
  }
 ],
 "metadata": {
  "ExecuteTimeLog": [
   {
    "duration": 828,
    "start_time": "2021-11-16T09:21:11.304Z"
   },
   {
    "duration": 893,
    "start_time": "2021-11-16T09:21:17.728Z"
   },
   {
    "duration": 1150,
    "start_time": "2021-11-16T09:21:29.568Z"
   },
   {
    "duration": 3,
    "start_time": "2021-11-16T09:24:14.495Z"
   },
   {
    "duration": 120,
    "start_time": "2021-11-16T09:24:46.630Z"
   },
   {
    "duration": 3,
    "start_time": "2021-11-16T09:28:27.882Z"
   },
   {
    "duration": 4,
    "start_time": "2021-11-16T09:29:54.281Z"
   },
   {
    "duration": 3,
    "start_time": "2021-11-16T09:30:45.936Z"
   },
   {
    "duration": 4,
    "start_time": "2021-11-16T09:31:06.300Z"
   },
   {
    "duration": 113,
    "start_time": "2021-11-16T09:31:37.208Z"
   },
   {
    "duration": 143,
    "start_time": "2021-11-16T09:31:48.656Z"
   },
   {
    "duration": 98,
    "start_time": "2021-11-16T09:31:55.678Z"
   },
   {
    "duration": 3,
    "start_time": "2021-11-16T09:32:08.535Z"
   },
   {
    "duration": 111,
    "start_time": "2021-11-16T09:32:10.120Z"
   },
   {
    "duration": 3,
    "start_time": "2021-11-16T09:32:15.732Z"
   },
   {
    "duration": 4,
    "start_time": "2021-11-16T09:32:29.423Z"
   },
   {
    "duration": 3,
    "start_time": "2021-11-16T10:03:03.074Z"
   },
   {
    "duration": 3,
    "start_time": "2021-11-16T10:10:01.288Z"
   },
   {
    "duration": 3,
    "start_time": "2021-11-16T10:10:46.923Z"
   },
   {
    "duration": 121,
    "start_time": "2021-11-16T10:37:46.494Z"
   },
   {
    "duration": 125,
    "start_time": "2021-11-16T10:38:20.632Z"
   },
   {
    "duration": 112,
    "start_time": "2021-11-16T10:46:53.001Z"
   },
   {
    "duration": 110,
    "start_time": "2021-11-16T10:48:25.775Z"
   },
   {
    "duration": 3,
    "start_time": "2021-11-16T10:50:18.720Z"
   },
   {
    "duration": 4,
    "start_time": "2021-11-16T10:50:37.649Z"
   },
   {
    "duration": 2,
    "start_time": "2021-11-16T10:50:51.884Z"
   },
   {
    "duration": 3,
    "start_time": "2021-11-16T10:51:56.237Z"
   },
   {
    "duration": 101,
    "start_time": "2021-11-16T10:53:13.791Z"
   },
   {
    "duration": 3,
    "start_time": "2021-11-16T10:55:59.186Z"
   },
   {
    "duration": 3,
    "start_time": "2021-11-16T10:56:10.751Z"
   },
   {
    "duration": 3,
    "start_time": "2021-11-16T10:56:49.038Z"
   },
   {
    "duration": 3,
    "start_time": "2021-11-16T10:56:49.174Z"
   },
   {
    "duration": 4,
    "start_time": "2021-11-16T10:56:49.414Z"
   },
   {
    "duration": 3,
    "start_time": "2021-11-16T10:56:49.680Z"
   },
   {
    "duration": 3,
    "start_time": "2021-11-16T10:56:50.370Z"
   },
   {
    "duration": 114,
    "start_time": "2021-11-16T10:59:34.518Z"
   },
   {
    "duration": 3,
    "start_time": "2021-11-16T11:01:41.201Z"
   },
   {
    "duration": 116,
    "start_time": "2021-11-16T11:01:48.754Z"
   },
   {
    "duration": 3,
    "start_time": "2021-11-16T11:02:16.685Z"
   },
   {
    "duration": 3,
    "start_time": "2021-11-16T11:02:19.479Z"
   },
   {
    "duration": 3,
    "start_time": "2021-11-16T11:02:47.067Z"
   },
   {
    "duration": 3,
    "start_time": "2021-11-16T11:02:49.353Z"
   },
   {
    "duration": 3,
    "start_time": "2021-11-16T11:03:07.835Z"
   },
   {
    "duration": 3,
    "start_time": "2021-11-16T11:03:07.953Z"
   },
   {
    "duration": 112,
    "start_time": "2021-11-16T11:07:52.072Z"
   },
   {
    "duration": 187,
    "start_time": "2021-11-16T11:09:23.468Z"
   },
   {
    "duration": 4,
    "start_time": "2021-11-16T11:10:01.455Z"
   },
   {
    "duration": 3,
    "start_time": "2021-11-16T11:10:05.069Z"
   },
   {
    "duration": 4,
    "start_time": "2021-11-16T11:10:13.376Z"
   },
   {
    "duration": 3,
    "start_time": "2021-11-16T11:10:14.434Z"
   },
   {
    "duration": 3,
    "start_time": "2021-11-16T11:10:22.853Z"
   },
   {
    "duration": 4,
    "start_time": "2021-11-16T11:27:29.279Z"
   },
   {
    "duration": 4,
    "start_time": "2021-11-16T11:29:08.919Z"
   },
   {
    "duration": 118,
    "start_time": "2021-11-16T11:29:46.703Z"
   },
   {
    "duration": 437,
    "start_time": "2021-11-16T11:36:02.181Z"
   },
   {
    "duration": 157,
    "start_time": "2021-11-16T11:36:14.388Z"
   },
   {
    "duration": 207,
    "start_time": "2021-11-16T11:47:15.898Z"
   },
   {
    "duration": 3,
    "start_time": "2021-11-16T11:53:52.092Z"
   },
   {
    "duration": 3,
    "start_time": "2021-11-16T11:53:52.236Z"
   },
   {
    "duration": 3,
    "start_time": "2021-11-16T11:59:12.005Z"
   },
   {
    "duration": 112,
    "start_time": "2021-11-16T12:00:33.446Z"
   },
   {
    "duration": 3,
    "start_time": "2021-11-16T12:02:14.453Z"
   },
   {
    "duration": 3,
    "start_time": "2021-11-16T12:02:39.512Z"
   },
   {
    "duration": 106,
    "start_time": "2021-11-16T12:03:03.460Z"
   }
  ],
  "kernelspec": {
   "display_name": "Python 3",
   "language": "python",
   "name": "python3"
  },
  "language_info": {
   "codemirror_mode": {
    "name": "ipython",
    "version": 3
   },
   "file_extension": ".py",
   "mimetype": "text/x-python",
   "name": "python",
   "nbconvert_exporter": "python",
   "pygments_lexer": "ipython3",
   "version": "3.9.7"
  },
  "toc": {
   "base_numbering": 1,
   "nav_menu": {},
   "number_sections": true,
   "sideBar": true,
   "skip_h1_title": false,
   "title_cell": "Table of Contents",
   "title_sidebar": "Contents",
   "toc_cell": false,
   "toc_position": {
    "height": "calc(100% - 180px)",
    "left": "10px",
    "top": "150px",
    "width": "179.4px"
   },
   "toc_section_display": true,
   "toc_window_display": false
  },
  "vscode": {
   "interpreter": {
    "hash": "2fe655578335544acbf6263c3c38972fa42c33bc2abbd1662b06f6e80753177f"
   }
  }
 },
 "nbformat": 4,
 "nbformat_minor": 2
}
